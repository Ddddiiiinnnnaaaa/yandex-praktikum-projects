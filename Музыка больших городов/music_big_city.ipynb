{
 "cells": [
  {
   "cell_type": "code",
   "execution_count": 26,
   "metadata": {
    "id": "AXN7PHPN_Zcs"
   },
   "outputs": [],
   "source": [
    "import pandas as pd \n",
    "# импорт библиотеки pandas"
   ]
  },
  {
   "cell_type": "code",
   "execution_count": 28,
   "metadata": {
    "id": "oWTVX3gW_Zct"
   },
   "outputs": [
    {
     "data": {
      "text/html": [
       "<div>\n",
       "<style scoped>\n",
       "    .dataframe tbody tr th:only-of-type {\n",
       "        vertical-align: middle;\n",
       "    }\n",
       "\n",
       "    .dataframe tbody tr th {\n",
       "        vertical-align: top;\n",
       "    }\n",
       "\n",
       "    .dataframe thead th {\n",
       "        text-align: right;\n",
       "    }\n",
       "</style>\n",
       "<table border=\"1\" class=\"dataframe\">\n",
       "  <thead>\n",
       "    <tr style=\"text-align: right;\">\n",
       "      <th></th>\n",
       "      <th>userID</th>\n",
       "      <th>Track</th>\n",
       "      <th>artist</th>\n",
       "      <th>genre</th>\n",
       "      <th>City</th>\n",
       "      <th>time</th>\n",
       "      <th>Day</th>\n",
       "    </tr>\n",
       "  </thead>\n",
       "  <tbody>\n",
       "    <tr>\n",
       "      <td>0</td>\n",
       "      <td>FFB692EC</td>\n",
       "      <td>Kamigata To Boots</td>\n",
       "      <td>The Mass Missile</td>\n",
       "      <td>rock</td>\n",
       "      <td>Saint-Petersburg</td>\n",
       "      <td>20:28:33</td>\n",
       "      <td>Wednesday</td>\n",
       "    </tr>\n",
       "    <tr>\n",
       "      <td>1</td>\n",
       "      <td>55204538</td>\n",
       "      <td>Delayed Because of Accident</td>\n",
       "      <td>Andreas Rönnberg</td>\n",
       "      <td>rock</td>\n",
       "      <td>Moscow</td>\n",
       "      <td>14:07:09</td>\n",
       "      <td>Friday</td>\n",
       "    </tr>\n",
       "    <tr>\n",
       "      <td>2</td>\n",
       "      <td>20EC38</td>\n",
       "      <td>Funiculì funiculà</td>\n",
       "      <td>Mario Lanza</td>\n",
       "      <td>pop</td>\n",
       "      <td>Saint-Petersburg</td>\n",
       "      <td>20:58:07</td>\n",
       "      <td>Wednesday</td>\n",
       "    </tr>\n",
       "    <tr>\n",
       "      <td>3</td>\n",
       "      <td>A3DD03C9</td>\n",
       "      <td>Dragons in the Sunset</td>\n",
       "      <td>Fire + Ice</td>\n",
       "      <td>folk</td>\n",
       "      <td>Saint-Petersburg</td>\n",
       "      <td>08:37:09</td>\n",
       "      <td>Monday</td>\n",
       "    </tr>\n",
       "    <tr>\n",
       "      <td>4</td>\n",
       "      <td>E2DC1FAE</td>\n",
       "      <td>Soul People</td>\n",
       "      <td>Space Echo</td>\n",
       "      <td>dance</td>\n",
       "      <td>Moscow</td>\n",
       "      <td>08:34:34</td>\n",
       "      <td>Monday</td>\n",
       "    </tr>\n",
       "    <tr>\n",
       "      <td>5</td>\n",
       "      <td>842029A1</td>\n",
       "      <td>Преданная</td>\n",
       "      <td>IMPERVTOR</td>\n",
       "      <td>rusrap</td>\n",
       "      <td>Saint-Petersburg</td>\n",
       "      <td>13:09:41</td>\n",
       "      <td>Friday</td>\n",
       "    </tr>\n",
       "    <tr>\n",
       "      <td>6</td>\n",
       "      <td>4CB90AA5</td>\n",
       "      <td>True</td>\n",
       "      <td>Roman Messer</td>\n",
       "      <td>dance</td>\n",
       "      <td>Moscow</td>\n",
       "      <td>13:00:07</td>\n",
       "      <td>Wednesday</td>\n",
       "    </tr>\n",
       "    <tr>\n",
       "      <td>7</td>\n",
       "      <td>F03E1C1F</td>\n",
       "      <td>Feeling This Way</td>\n",
       "      <td>Polina Griffith</td>\n",
       "      <td>dance</td>\n",
       "      <td>Moscow</td>\n",
       "      <td>20:47:49</td>\n",
       "      <td>Wednesday</td>\n",
       "    </tr>\n",
       "    <tr>\n",
       "      <td>8</td>\n",
       "      <td>8FA1D3BE</td>\n",
       "      <td>И вновь продолжается бой</td>\n",
       "      <td>NaN</td>\n",
       "      <td>ruspop</td>\n",
       "      <td>Moscow</td>\n",
       "      <td>09:17:40</td>\n",
       "      <td>Friday</td>\n",
       "    </tr>\n",
       "    <tr>\n",
       "      <td>9</td>\n",
       "      <td>E772D5C0</td>\n",
       "      <td>Pessimist</td>\n",
       "      <td>NaN</td>\n",
       "      <td>dance</td>\n",
       "      <td>Saint-Petersburg</td>\n",
       "      <td>21:20:49</td>\n",
       "      <td>Wednesday</td>\n",
       "    </tr>\n",
       "  </tbody>\n",
       "</table>\n",
       "</div>"
      ],
      "text/plain": [
       "     userID                        Track            artist   genre  \\\n",
       "0  FFB692EC            Kamigata To Boots  The Mass Missile    rock   \n",
       "1  55204538  Delayed Because of Accident  Andreas Rönnberg    rock   \n",
       "2    20EC38            Funiculì funiculà       Mario Lanza     pop   \n",
       "3  A3DD03C9        Dragons in the Sunset        Fire + Ice    folk   \n",
       "4  E2DC1FAE                  Soul People        Space Echo   dance   \n",
       "5  842029A1                    Преданная         IMPERVTOR  rusrap   \n",
       "6  4CB90AA5                         True      Roman Messer   dance   \n",
       "7  F03E1C1F             Feeling This Way   Polina Griffith   dance   \n",
       "8  8FA1D3BE     И вновь продолжается бой               NaN  ruspop   \n",
       "9  E772D5C0                    Pessimist               NaN   dance   \n",
       "\n",
       "             City        time        Day  \n",
       "0  Saint-Petersburg  20:28:33  Wednesday  \n",
       "1            Moscow  14:07:09     Friday  \n",
       "2  Saint-Petersburg  20:58:07  Wednesday  \n",
       "3  Saint-Petersburg  08:37:09     Monday  \n",
       "4            Moscow  08:34:34     Monday  \n",
       "5  Saint-Petersburg  13:09:41     Friday  \n",
       "6            Moscow  13:00:07  Wednesday  \n",
       "7            Moscow  20:47:49  Wednesday  \n",
       "8            Moscow  09:17:40     Friday  \n",
       "9  Saint-Petersburg  21:20:49  Wednesday  "
      ]
     },
     "execution_count": 28,
     "metadata": {},
     "output_type": "execute_result"
    }
   ],
   "source": [
    "df.head(10)\n",
    "# получение первых 10 строк таблицы df"
   ]
  },
  {
   "cell_type": "code",
   "execution_count": 29,
   "metadata": {
    "id": "DSf2kIb-_Zct"
   },
   "outputs": [
    {
     "name": "stdout",
     "output_type": "stream",
     "text": [
      "<class 'pandas.core.frame.DataFrame'>\n",
      "RangeIndex: 65079 entries, 0 to 65078\n",
      "Data columns (total 7 columns):\n",
      "  userID    65079 non-null object\n",
      "Track       63848 non-null object\n",
      "artist      57876 non-null object\n",
      "genre       63881 non-null object\n",
      "  City      65079 non-null object\n",
      "time        65079 non-null object\n",
      "Day         65079 non-null object\n",
      "dtypes: object(7)\n",
      "memory usage: 3.5+ MB\n"
     ]
    }
   ],
   "source": [
    "df.info() # получение общей информации о данных в таблице df"
   ]
  },
  {
   "cell_type": "markdown",
   "metadata": {
    "id": "MCB6-dXG_Zct"
   },
   "source": [
    "**Выводы**\n",
    "\n",
    "В каждой строке таблицы — данные о прослушанном треке. Часть колонок описывает саму композицию: название, исполнителя и жанр. Остальные данные рассказывают о пользователе: из какого он города, когда он слушал музыку. \n",
    "\n",
    "Предварительно можно утверждать, что, данных достаточно для проверки гипотез. Но встречаются пропуски в данных, а в названиях колонок — расхождения с хорошим стилем.\n",
    "\n",
    "Чтобы двигаться дальше, нужно устранить проблемы в данных."
   ]
  },
  {
   "cell_type": "code",
   "execution_count": 30,
   "metadata": {
    "id": "oKOTdF_Q_Zct"
   },
   "outputs": [
    {
     "data": {
      "text/plain": [
       "Index(['  userID', 'Track', 'artist', 'genre', '  City  ', 'time', 'Day'], dtype='object')"
      ]
     },
     "execution_count": 30,
     "metadata": {},
     "output_type": "execute_result"
    }
   ],
   "source": [
    "df.columns\n",
    "# перечень названий столбцов таблицы df"
   ]
  },
  {
   "cell_type": "code",
   "execution_count": 31,
   "metadata": {
    "id": "ISlFqs5y_Zct"
   },
   "outputs": [],
   "source": [
    "df = df.rename(columns = {'  userID':'user_id','Track':'track','  City  ':'city','Day':'day'})\n",
    "# переименование столбцов"
   ]
  },
  {
   "cell_type": "code",
   "execution_count": 32,
   "metadata": {
    "id": "d4NOAmTW_Zct"
   },
   "outputs": [
    {
     "data": {
      "text/plain": [
       "Index(['user_id', 'track', 'artist', 'genre', 'city', 'time', 'day'], dtype='object')"
      ]
     },
     "execution_count": 32,
     "metadata": {},
     "output_type": "execute_result"
    }
   ],
   "source": [
    "df.columns # проверка результатов - перечень названий столбцов"
   ]
  },
  {
   "cell_type": "code",
   "execution_count": 41,
   "metadata": {
    "id": "RskX29qr_Zct"
   },
   "outputs": [
    {
     "data": {
      "text/plain": [
       "user_id       0\n",
       "track      1231\n",
       "artist     7203\n",
       "genre      1198\n",
       "city          0\n",
       "time          0\n",
       "day           0\n",
       "dtype: int64"
      ]
     },
     "execution_count": 41,
     "metadata": {},
     "output_type": "execute_result"
    }
   ],
   "source": [
    "df.isna().sum() # подсчёт пропусков"
   ]
  },
  {
   "cell_type": "code",
   "execution_count": 46,
   "metadata": {
    "id": "KplB5qWs_Zct"
   },
   "outputs": [],
   "source": [
    "columns_to_replace = ['track','artist','genre']\n",
    "for i in columns_to_replace:\n",
    "    df[i] = df[i].fillna('unknown')\n",
    "# перебор названий столбцов в цикле и замена пропущенных значений на 'unknown'\n"
   ]
  },
  {
   "cell_type": "code",
   "execution_count": 47,
   "metadata": {
    "id": "Tq4nYRX4_Zct"
   },
   "outputs": [
    {
     "data": {
      "text/plain": [
       "user_id    0\n",
       "track      0\n",
       "artist     0\n",
       "genre      0\n",
       "city       0\n",
       "time       0\n",
       "day        0\n",
       "dtype: int64"
      ]
     },
     "execution_count": 47,
     "metadata": {},
     "output_type": "execute_result"
    }
   ],
   "source": [
    "df.isna().sum()# подсчёт пропусков"
   ]
  },
  {
   "cell_type": "code",
   "execution_count": 49,
   "metadata": {
    "id": "36eES_S0_Zct"
   },
   "outputs": [
    {
     "data": {
      "text/plain": [
       "3826"
      ]
     },
     "execution_count": 49,
     "metadata": {},
     "output_type": "execute_result"
    }
   ],
   "source": [
    "df.duplicated().sum() # подсчёт явных дубликатов"
   ]
  },
  {
   "cell_type": "code",
   "execution_count": 50,
   "metadata": {
    "id": "exFHq6tt_Zct"
   },
   "outputs": [],
   "source": [
    "df = df.drop_duplicates().reset_index(drop=True) \n",
    "# удаление явных дубликатов (с удалением старых индексов и формированием новых)"
   ]
  },
  {
   "cell_type": "code",
   "execution_count": 51,
   "metadata": {
    "id": "-8PuNWQ0_Zct"
   },
   "outputs": [
    {
     "data": {
      "text/plain": [
       "0"
      ]
     },
     "execution_count": 51,
     "metadata": {},
     "output_type": "execute_result"
    }
   ],
   "source": [
    "df.duplicated().sum() # проверка на отсутствие дубликатов"
   ]
  },
  {
   "cell_type": "code",
   "execution_count": 52,
   "metadata": {
    "id": "JIUcqzZN_Zct"
   },
   "outputs": [
    {
     "data": {
      "text/plain": [
       "array(['acid', 'acoustic', 'action', 'adult', 'africa', 'afrikaans',\n",
       "       'alternative', 'alternativepunk', 'ambient', 'americana',\n",
       "       'animated', 'anime', 'arabesk', 'arabic', 'arena',\n",
       "       'argentinetango', 'art', 'audiobook', 'author', 'avantgarde',\n",
       "       'axé', 'baile', 'balkan', 'beats', 'bigroom', 'black', 'bluegrass',\n",
       "       'blues', 'bollywood', 'bossa', 'brazilian', 'breakbeat', 'breaks',\n",
       "       'broadway', 'cantautori', 'cantopop', 'canzone', 'caribbean',\n",
       "       'caucasian', 'celtic', 'chamber', 'chanson', 'children', 'chill',\n",
       "       'chinese', 'choral', 'christian', 'christmas', 'classical',\n",
       "       'classicmetal', 'club', 'colombian', 'comedy', 'conjazz',\n",
       "       'contemporary', 'country', 'cuban', 'dance', 'dancehall',\n",
       "       'dancepop', 'dark', 'death', 'deep', 'deutschrock', 'deutschspr',\n",
       "       'dirty', 'disco', 'dnb', 'documentary', 'downbeat', 'downtempo',\n",
       "       'drum', 'dub', 'dubstep', 'eastern', 'easy', 'electronic',\n",
       "       'electropop', 'emo', 'entehno', 'epicmetal', 'estrada', 'ethnic',\n",
       "       'eurofolk', 'european', 'experimental', 'extrememetal', 'fado',\n",
       "       'fairytail', 'film', 'fitness', 'flamenco', 'folk', 'folklore',\n",
       "       'folkmetal', 'folkrock', 'folktronica', 'forró', 'frankreich',\n",
       "       'französisch', 'french', 'funk', 'future', 'gangsta', 'garage',\n",
       "       'german', 'ghazal', 'gitarre', 'glitch', 'gospel', 'gothic',\n",
       "       'grime', 'grunge', 'gypsy', 'handsup', \"hard'n'heavy\", 'hardcore',\n",
       "       'hardstyle', 'hardtechno', 'hip', 'hip-hop', 'hiphop',\n",
       "       'historisch', 'holiday', 'hop', 'horror', 'house', 'hymn', 'idm',\n",
       "       'independent', 'indian', 'indie', 'indipop', 'industrial',\n",
       "       'inspirational', 'instrumental', 'international', 'irish', 'jam',\n",
       "       'japanese', 'jazz', 'jewish', 'jpop', 'jungle', 'k-pop',\n",
       "       'karadeniz', 'karaoke', 'kayokyoku', 'korean', 'laiko', 'latin',\n",
       "       'latino', 'leftfield', 'local', 'lounge', 'loungeelectronic',\n",
       "       'lovers', 'malaysian', 'mandopop', 'marschmusik', 'meditative',\n",
       "       'mediterranean', 'melodic', 'metal', 'metalcore', 'mexican',\n",
       "       'middle', 'minimal', 'miscellaneous', 'modern', 'mood', 'mpb',\n",
       "       'muslim', 'native', 'neoklassik', 'neue', 'new', 'newage',\n",
       "       'newwave', 'nu', 'nujazz', 'numetal', 'oceania', 'old', 'opera',\n",
       "       'orchestral', 'other', 'piano', 'podcasts', 'pop', 'popdance',\n",
       "       'popelectronic', 'popeurodance', 'poprussian', 'post',\n",
       "       'posthardcore', 'postrock', 'power', 'progmetal', 'progressive',\n",
       "       'psychedelic', 'punjabi', 'punk', 'quebecois', 'ragga', 'ram',\n",
       "       'rancheras', 'rap', 'rave', 'reggae', 'reggaeton', 'regional',\n",
       "       'relax', 'religious', 'retro', 'rhythm', 'rnb', 'rnr', 'rock',\n",
       "       'rockabilly', 'rockalternative', 'rockindie', 'rockother',\n",
       "       'romance', 'roots', 'ruspop', 'rusrap', 'rusrock', 'russian',\n",
       "       'salsa', 'samba', 'scenic', 'schlager', 'self', 'sertanejo',\n",
       "       'shanson', 'shoegazing', 'showtunes', 'singer', 'ska', 'skarock',\n",
       "       'slow', 'smooth', 'soft', 'soul', 'soulful', 'sound', 'soundtrack',\n",
       "       'southern', 'specialty', 'speech', 'spiritual', 'sport',\n",
       "       'stonerrock', 'surf', 'swing', 'synthpop', 'synthrock',\n",
       "       'sängerportrait', 'tango', 'tanzorchester', 'taraftar', 'tatar',\n",
       "       'tech', 'techno', 'teen', 'thrash', 'top', 'traditional',\n",
       "       'tradjazz', 'trance', 'tribal', 'trip', 'triphop', 'tropical',\n",
       "       'türk', 'türkçe', 'ukrrock', 'unknown', 'urban', 'uzbek',\n",
       "       'variété', 'vi', 'videogame', 'vocal', 'western', 'world',\n",
       "       'worldbeat', 'ïîï', 'электроника'], dtype=object)"
      ]
     },
     "execution_count": 52,
     "metadata": {},
     "output_type": "execute_result"
    }
   ],
   "source": [
    "df['genre'].sort_values().unique()\n",
    "\n",
    "#Просмотр уникальных названий жанров"
   ]
  },
  {
   "cell_type": "code",
   "execution_count": 53,
   "metadata": {
    "id": "ErNDkmns_Zct"
   },
   "outputs": [],
   "source": [
    "def replace_wrong_genres(wrong_genres,correct_genre): # Функция для замены неявных дубликатов\n",
    "    df['genre'] = df['genre'].replace(wrong_genres,correct_genre)\n",
    "        \n"
   ]
  },
  {
   "cell_type": "code",
   "execution_count": 57,
   "metadata": {
    "id": "YN5i2hpmSo09"
   },
   "outputs": [],
   "source": [
    "replace_wrong_genres(['hip','hop','hip-hop','hiphope'], 'hiphop')\n",
    "replace_wrong_genres(['poprussian','ruspop'], 'poprus')\n",
    "replace_wrong_genres('электроника','electronic')\n",
    "\n",
    "\n",
    " # Устранение неявных дубликатов"
   ]
  },
  {
   "cell_type": "code",
   "execution_count": 58,
   "metadata": {
    "id": "wvixALnFG15m"
   },
   "outputs": [
    {
     "data": {
      "text/plain": [
       "array(['acid', 'acoustic', 'action', 'adult', 'africa', 'afrikaans',\n",
       "       'alternative', 'alternativepunk', 'ambient', 'americana',\n",
       "       'animated', 'anime', 'arabesk', 'arabic', 'arena',\n",
       "       'argentinetango', 'art', 'audiobook', 'author', 'avantgarde',\n",
       "       'axé', 'baile', 'balkan', 'beats', 'bigroom', 'black', 'bluegrass',\n",
       "       'blues', 'bollywood', 'bossa', 'brazilian', 'breakbeat', 'breaks',\n",
       "       'broadway', 'cantautori', 'cantopop', 'canzone', 'caribbean',\n",
       "       'caucasian', 'celtic', 'chamber', 'chanson', 'children', 'chill',\n",
       "       'chinese', 'choral', 'christian', 'christmas', 'classical',\n",
       "       'classicmetal', 'club', 'colombian', 'comedy', 'conjazz',\n",
       "       'contemporary', 'country', 'cuban', 'dance', 'dancehall',\n",
       "       'dancepop', 'dark', 'death', 'deep', 'deutschrock', 'deutschspr',\n",
       "       'dirty', 'disco', 'dnb', 'documentary', 'downbeat', 'downtempo',\n",
       "       'drum', 'dub', 'dubstep', 'eastern', 'easy', 'electronic',\n",
       "       'electropop', 'emo', 'entehno', 'epicmetal', 'estrada', 'ethnic',\n",
       "       'eurofolk', 'european', 'experimental', 'extrememetal', 'fado',\n",
       "       'fairytail', 'film', 'fitness', 'flamenco', 'folk', 'folklore',\n",
       "       'folkmetal', 'folkrock', 'folktronica', 'forró', 'frankreich',\n",
       "       'französisch', 'french', 'funk', 'future', 'gangsta', 'garage',\n",
       "       'german', 'ghazal', 'gitarre', 'glitch', 'gospel', 'gothic',\n",
       "       'grime', 'grunge', 'gypsy', 'handsup', \"hard'n'heavy\", 'hardcore',\n",
       "       'hardstyle', 'hardtechno', 'hiphop', 'historisch', 'holiday',\n",
       "       'horror', 'house', 'hymn', 'idm', 'independent', 'indian', 'indie',\n",
       "       'indipop', 'industrial', 'inspirational', 'instrumental',\n",
       "       'international', 'irish', 'jam', 'japanese', 'jazz', 'jewish',\n",
       "       'jpop', 'jungle', 'k-pop', 'karadeniz', 'karaoke', 'kayokyoku',\n",
       "       'korean', 'laiko', 'latin', 'latino', 'leftfield', 'local',\n",
       "       'lounge', 'loungeelectronic', 'lovers', 'malaysian', 'mandopop',\n",
       "       'marschmusik', 'meditative', 'mediterranean', 'melodic', 'metal',\n",
       "       'metalcore', 'mexican', 'middle', 'minimal', 'miscellaneous',\n",
       "       'modern', 'mood', 'mpb', 'muslim', 'native', 'neoklassik', 'neue',\n",
       "       'new', 'newage', 'newwave', 'nu', 'nujazz', 'numetal', 'oceania',\n",
       "       'old', 'opera', 'orchestral', 'other', 'piano', 'podcasts', 'pop',\n",
       "       'popdance', 'popelectronic', 'popeurodance', 'poprus', 'post',\n",
       "       'posthardcore', 'postrock', 'power', 'progmetal', 'progressive',\n",
       "       'psychedelic', 'punjabi', 'punk', 'quebecois', 'ragga', 'ram',\n",
       "       'rancheras', 'rap', 'rave', 'reggae', 'reggaeton', 'regional',\n",
       "       'relax', 'religious', 'retro', 'rhythm', 'rnb', 'rnr', 'rock',\n",
       "       'rockabilly', 'rockalternative', 'rockindie', 'rockother',\n",
       "       'romance', 'roots', 'rusrap', 'rusrock', 'russian', 'salsa',\n",
       "       'samba', 'scenic', 'schlager', 'self', 'sertanejo', 'shanson',\n",
       "       'shoegazing', 'showtunes', 'singer', 'ska', 'skarock', 'slow',\n",
       "       'smooth', 'soft', 'soul', 'soulful', 'sound', 'soundtrack',\n",
       "       'southern', 'specialty', 'speech', 'spiritual', 'sport',\n",
       "       'stonerrock', 'surf', 'swing', 'synthpop', 'synthrock',\n",
       "       'sängerportrait', 'tango', 'tanzorchester', 'taraftar', 'tatar',\n",
       "       'tech', 'techno', 'teen', 'thrash', 'top', 'traditional',\n",
       "       'tradjazz', 'trance', 'tribal', 'trip', 'triphop', 'tropical',\n",
       "       'türk', 'türkçe', 'ukrrock', 'unknown', 'urban', 'uzbek',\n",
       "       'variété', 'vi', 'videogame', 'vocal', 'western', 'world',\n",
       "       'worldbeat', 'ïîï'], dtype=object)"
      ]
     },
     "execution_count": 58,
     "metadata": {},
     "output_type": "execute_result"
    }
   ],
   "source": [
    "df['genre'].sort_values().unique()# Проверка на неявные дубликаты"
   ]
  },
  {
   "cell_type": "markdown",
   "metadata": {
    "id": "WttZHXH0SqKk"
   },
   "source": [
    "## Проверка гипотез"
   ]
  },
  {
   "cell_type": "markdown",
   "metadata": {
    "id": "Im936VVi_Zcu"
   },
   "source": [
    "### Сравнение поведения пользователей двух столиц"
   ]
  },
  {
   "cell_type": "code",
   "execution_count": 66,
   "metadata": {
    "id": "0_Qs96oh_Zcu"
   },
   "outputs": [
    {
     "data": {
      "text/plain": [
       "city\n",
       "Moscow              42741\n",
       "Saint-Petersburg    18512\n",
       "Name: genre, dtype: int64"
      ]
     },
     "execution_count": 66,
     "metadata": {},
     "output_type": "execute_result"
    }
   ],
   "source": [
    "df.groupby('city')['genre'].count() # Подсчёт прослушиваний в каждом городе\n",
    "\n"
   ]
  },
  {
   "cell_type": "code",
   "execution_count": 19,
   "metadata": {
    "id": "uZMKjiJz_Zcu"
   },
   "outputs": [
    {
     "data": {
      "text/plain": [
       "day\n",
       "Friday       21840\n",
       "Monday       21354\n",
       "Wednesday    18059\n",
       "Name: city, dtype: int64"
      ]
     },
     "execution_count": 19,
     "metadata": {},
     "output_type": "execute_result"
    }
   ],
   "source": [
    "df.groupby('day')['city'].count()\n",
    "# Подсчёт прослушиваний в каждый из трёх дней"
   ]
  },
  {
   "cell_type": "markdown",
   "metadata": {
    "id": "cC2tNrlL_Zcu"
   },
   "source": [
    "В среднем пользователи из двух городов менее активны по средам. Но картина может измениться, если рассмотреть каждый город в отдельности."
   ]
  },
  {
   "cell_type": "code",
   "execution_count": 68,
   "metadata": {
    "id": "Nz3GdQB1_Zcu"
   },
   "outputs": [],
   "source": [
    "# <создание функции number_tracks()>\n",
    "def number_tracks(day, city): # Объявляется функция с двумя параметрами: day, city.\n",
    "    track_list = df[df['day'] == day]\n",
    "    track_list = track_list[track_list['city'] == city]\n",
    "    track_list_count = track_list.groupby('city')['user_id'].count()\n",
    "    return track_list_count\n",
    "\n",
    "# В переменной track_list сохраняются те строки таблицы df, для которых \n",
    "# значение в столбце 'day' равно параметру day и одновременно значение\n",
    "# в столбце 'city' равно параметру city (используйте последовательную фильтрацию\n",
    "# с помощью логической индексации).\n",
    "  # В переменной track_list_count сохраняется число значений столбца 'user_id',\n",
    "# рассчитанное методом count() для таблицы track_list.\n",
    "# Функция возвращает число - значение track_list_count.\n",
    "\n",
    "# Функция для подсчёта прослушиваний для конкретного города и дня.\n",
    "# С помощью последовательной фильтрации с логической индексацией она \n",
    "# сначала получит из исходной таблицы строки с нужным днём,\n",
    "# затем из результата отфильтрует строки с нужным городом,\n",
    "# методом count() посчитает количество значений в колонке user_id. \n",
    "# Это количество функция вернёт в качестве результата"
   ]
  },
  {
   "cell_type": "code",
   "execution_count": 69,
   "metadata": {
    "id": "rJcRATNQ_Zcu"
   },
   "outputs": [
    {
     "data": {
      "text/plain": [
       "city\n",
       "Moscow    15740\n",
       "Name: user_id, dtype: int64"
      ]
     },
     "execution_count": 69,
     "metadata": {},
     "output_type": "execute_result"
    }
   ],
   "source": [
    "number_tracks('Monday','Moscow') # количество прослушиваний в Москве по понедельникам"
   ]
  },
  {
   "cell_type": "code",
   "execution_count": 70,
   "metadata": {
    "id": "hq_ncZ5T_Zcu"
   },
   "outputs": [
    {
     "data": {
      "text/plain": [
       "city\n",
       "Saint-Petersburg    5614\n",
       "Name: user_id, dtype: int64"
      ]
     },
     "execution_count": 70,
     "metadata": {},
     "output_type": "execute_result"
    }
   ],
   "source": [
    "number_tracks('Monday','Saint-Petersburg') # количество прослушиваний в Санкт-Петербурге по понедельникам"
   ]
  },
  {
   "cell_type": "code",
   "execution_count": 71,
   "metadata": {
    "id": "_NTy2VPU_Zcu"
   },
   "outputs": [
    {
     "data": {
      "text/plain": [
       "city\n",
       "Moscow    11056\n",
       "Name: user_id, dtype: int64"
      ]
     },
     "execution_count": 71,
     "metadata": {},
     "output_type": "execute_result"
    }
   ],
   "source": [
    "number_tracks('Wednesday','Moscow') # количество прослушиваний в Москве по средам"
   ]
  },
  {
   "cell_type": "code",
   "execution_count": 72,
   "metadata": {
    "id": "j2y3TAwo_Zcu"
   },
   "outputs": [
    {
     "data": {
      "text/plain": [
       "city\n",
       "Saint-Petersburg    7003\n",
       "Name: user_id, dtype: int64"
      ]
     },
     "execution_count": 72,
     "metadata": {},
     "output_type": "execute_result"
    }
   ],
   "source": [
    "number_tracks('Wednesday','Saint-Petersburg') # количество прослушиваний в Санкт-Петербурге по средам"
   ]
  },
  {
   "cell_type": "code",
   "execution_count": 73,
   "metadata": {
    "id": "vYDw5u_K_Zcu"
   },
   "outputs": [
    {
     "data": {
      "text/plain": [
       "city\n",
       "Moscow    15945\n",
       "Name: user_id, dtype: int64"
      ]
     },
     "execution_count": 73,
     "metadata": {},
     "output_type": "execute_result"
    }
   ],
   "source": [
    "number_tracks('Friday','Moscow') # количество прослушиваний в Москве по пятницам"
   ]
  },
  {
   "cell_type": "code",
   "execution_count": 74,
   "metadata": {
    "id": "8_yzFtW3_Zcu"
   },
   "outputs": [
    {
     "data": {
      "text/plain": [
       "city\n",
       "Saint-Petersburg    5895\n",
       "Name: user_id, dtype: int64"
      ]
     },
     "execution_count": 74,
     "metadata": {},
     "output_type": "execute_result"
    }
   ],
   "source": [
    "number_tracks('Friday','Saint-Petersburg') # количество прослушиваний в Санкт-Петербурге по пятницам"
   ]
  },
  {
   "cell_type": "code",
   "execution_count": 75,
   "metadata": {
    "id": "APAcLpOr_Zcu"
   },
   "outputs": [
    {
     "data": {
      "text/html": [
       "<div>\n",
       "<style scoped>\n",
       "    .dataframe tbody tr th:only-of-type {\n",
       "        vertical-align: middle;\n",
       "    }\n",
       "\n",
       "    .dataframe tbody tr th {\n",
       "        vertical-align: top;\n",
       "    }\n",
       "\n",
       "    .dataframe thead th {\n",
       "        text-align: right;\n",
       "    }\n",
       "</style>\n",
       "<table border=\"1\" class=\"dataframe\">\n",
       "  <thead>\n",
       "    <tr style=\"text-align: right;\">\n",
       "      <th></th>\n",
       "      <th>city</th>\n",
       "      <th>monday</th>\n",
       "      <th>wednesday</th>\n",
       "      <th>friday</th>\n",
       "    </tr>\n",
       "  </thead>\n",
       "  <tbody>\n",
       "    <tr>\n",
       "      <td>0</td>\n",
       "      <td>Moscow</td>\n",
       "      <td>15740</td>\n",
       "      <td>11056</td>\n",
       "      <td>15945</td>\n",
       "    </tr>\n",
       "    <tr>\n",
       "      <td>1</td>\n",
       "      <td>Saint-Petersburg</td>\n",
       "      <td>5614</td>\n",
       "      <td>7003</td>\n",
       "      <td>5895</td>\n",
       "    </tr>\n",
       "  </tbody>\n",
       "</table>\n",
       "</div>"
      ],
      "text/plain": [
       "               city  monday  wednesday  friday\n",
       "0            Moscow   15740      11056   15945\n",
       "1  Saint-Petersburg    5614       7003    5895"
      ]
     },
     "metadata": {},
     "output_type": "display_data"
    }
   ],
   "source": [
    "data = [['Moscow', 15740,11056,15945],['Saint-Petersburg', 5614,7003,5895]]\n",
    "columns = ['city','monday','wednesday','friday'] \n",
    "result = pd.DataFrame(data=data,columns=columns) \n",
    "display(result) # Таблица с результатами"
   ]
  },
  {
   "cell_type": "markdown",
   "metadata": {
    "id": "-EgPIHYu_Zcu"
   },
   "source": [
    "**Выводы**\n",
    "\n",
    "Данные показывают разницу поведения пользователей:\n",
    "\n",
    "- В Москве пик прослушиваний приходится на понедельник и пятницу, а в среду заметен спад.\n",
    "- В Петербурге, наоборот, больше слушают музыку по средам. Активность в понедельник и пятницу здесь почти в равной мере уступает среде.\n",
    "\n",
    "Значит, данные говорят в пользу первой гипотезы."
   ]
  },
  {
   "cell_type": "markdown",
   "metadata": {
    "id": "atZAxtq4_Zcu"
   },
   "source": [
    "### Музыка в начале и в конце недели"
   ]
  },
  {
   "cell_type": "markdown",
   "metadata": {
    "id": "eXrQqXFH_Zcu"
   },
   "source": [
    "Согласно второй гипотезе, утром в понедельник в Москве преобладают одни жанры, а в Петербурге — другие. Так же и вечером пятницы преобладают разные жанры — в зависимости от города."
   ]
  },
  {
   "cell_type": "code",
   "execution_count": 76,
   "metadata": {
    "id": "qeaFfM_P_Zcu"
   },
   "outputs": [
    {
     "data": {
      "text/html": [
       "<div>\n",
       "<style scoped>\n",
       "    .dataframe tbody tr th:only-of-type {\n",
       "        vertical-align: middle;\n",
       "    }\n",
       "\n",
       "    .dataframe tbody tr th {\n",
       "        vertical-align: top;\n",
       "    }\n",
       "\n",
       "    .dataframe thead th {\n",
       "        text-align: right;\n",
       "    }\n",
       "</style>\n",
       "<table border=\"1\" class=\"dataframe\">\n",
       "  <thead>\n",
       "    <tr style=\"text-align: right;\">\n",
       "      <th></th>\n",
       "      <th>user_id</th>\n",
       "      <th>track</th>\n",
       "      <th>artist</th>\n",
       "      <th>genre</th>\n",
       "      <th>city</th>\n",
       "      <th>time</th>\n",
       "      <th>day</th>\n",
       "    </tr>\n",
       "  </thead>\n",
       "  <tbody>\n",
       "    <tr>\n",
       "      <td>1</td>\n",
       "      <td>55204538</td>\n",
       "      <td>Delayed Because of Accident</td>\n",
       "      <td>Andreas Rönnberg</td>\n",
       "      <td>rock</td>\n",
       "      <td>Moscow</td>\n",
       "      <td>14:07:09</td>\n",
       "      <td>Friday</td>\n",
       "    </tr>\n",
       "    <tr>\n",
       "      <td>4</td>\n",
       "      <td>E2DC1FAE</td>\n",
       "      <td>Soul People</td>\n",
       "      <td>Space Echo</td>\n",
       "      <td>dance</td>\n",
       "      <td>Moscow</td>\n",
       "      <td>08:34:34</td>\n",
       "      <td>Monday</td>\n",
       "    </tr>\n",
       "    <tr>\n",
       "      <td>6</td>\n",
       "      <td>4CB90AA5</td>\n",
       "      <td>True</td>\n",
       "      <td>Roman Messer</td>\n",
       "      <td>dance</td>\n",
       "      <td>Moscow</td>\n",
       "      <td>13:00:07</td>\n",
       "      <td>Wednesday</td>\n",
       "    </tr>\n",
       "    <tr>\n",
       "      <td>7</td>\n",
       "      <td>F03E1C1F</td>\n",
       "      <td>Feeling This Way</td>\n",
       "      <td>Polina Griffith</td>\n",
       "      <td>dance</td>\n",
       "      <td>Moscow</td>\n",
       "      <td>20:47:49</td>\n",
       "      <td>Wednesday</td>\n",
       "    </tr>\n",
       "    <tr>\n",
       "      <td>8</td>\n",
       "      <td>8FA1D3BE</td>\n",
       "      <td>И вновь продолжается бой</td>\n",
       "      <td>unknown</td>\n",
       "      <td>poprus</td>\n",
       "      <td>Moscow</td>\n",
       "      <td>09:17:40</td>\n",
       "      <td>Friday</td>\n",
       "    </tr>\n",
       "  </tbody>\n",
       "</table>\n",
       "</div>"
      ],
      "text/plain": [
       "    user_id                        track            artist   genre    city  \\\n",
       "1  55204538  Delayed Because of Accident  Andreas Rönnberg    rock  Moscow   \n",
       "4  E2DC1FAE                  Soul People        Space Echo   dance  Moscow   \n",
       "6  4CB90AA5                         True      Roman Messer   dance  Moscow   \n",
       "7  F03E1C1F             Feeling This Way   Polina Griffith   dance  Moscow   \n",
       "8  8FA1D3BE     И вновь продолжается бой           unknown  poprus  Moscow   \n",
       "\n",
       "       time        day  \n",
       "1  14:07:09     Friday  \n",
       "4  08:34:34     Monday  \n",
       "6  13:00:07  Wednesday  \n",
       "7  20:47:49  Wednesday  \n",
       "8  09:17:40     Friday  "
      ]
     },
     "execution_count": 76,
     "metadata": {},
     "output_type": "execute_result"
    }
   ],
   "source": [
    "moscow_general = df[df['city'] == 'Moscow'] # получение таблицы moscow_general из тех строк таблицы df, \n",
    "moscow_general.head(5)# для которых значение в столбце 'city' равно 'Moscow'\n"
   ]
  },
  {
   "cell_type": "code",
   "execution_count": 77,
   "metadata": {
    "id": "ORaVRKto_Zcu"
   },
   "outputs": [
    {
     "data": {
      "text/html": [
       "<div>\n",
       "<style scoped>\n",
       "    .dataframe tbody tr th:only-of-type {\n",
       "        vertical-align: middle;\n",
       "    }\n",
       "\n",
       "    .dataframe tbody tr th {\n",
       "        vertical-align: top;\n",
       "    }\n",
       "\n",
       "    .dataframe thead th {\n",
       "        text-align: right;\n",
       "    }\n",
       "</style>\n",
       "<table border=\"1\" class=\"dataframe\">\n",
       "  <thead>\n",
       "    <tr style=\"text-align: right;\">\n",
       "      <th></th>\n",
       "      <th>user_id</th>\n",
       "      <th>track</th>\n",
       "      <th>artist</th>\n",
       "      <th>genre</th>\n",
       "      <th>city</th>\n",
       "      <th>time</th>\n",
       "      <th>day</th>\n",
       "    </tr>\n",
       "  </thead>\n",
       "  <tbody>\n",
       "    <tr>\n",
       "      <td>0</td>\n",
       "      <td>FFB692EC</td>\n",
       "      <td>Kamigata To Boots</td>\n",
       "      <td>The Mass Missile</td>\n",
       "      <td>rock</td>\n",
       "      <td>Saint-Petersburg</td>\n",
       "      <td>20:28:33</td>\n",
       "      <td>Wednesday</td>\n",
       "    </tr>\n",
       "    <tr>\n",
       "      <td>2</td>\n",
       "      <td>20EC38</td>\n",
       "      <td>Funiculì funiculà</td>\n",
       "      <td>Mario Lanza</td>\n",
       "      <td>pop</td>\n",
       "      <td>Saint-Petersburg</td>\n",
       "      <td>20:58:07</td>\n",
       "      <td>Wednesday</td>\n",
       "    </tr>\n",
       "    <tr>\n",
       "      <td>3</td>\n",
       "      <td>A3DD03C9</td>\n",
       "      <td>Dragons in the Sunset</td>\n",
       "      <td>Fire + Ice</td>\n",
       "      <td>folk</td>\n",
       "      <td>Saint-Petersburg</td>\n",
       "      <td>08:37:09</td>\n",
       "      <td>Monday</td>\n",
       "    </tr>\n",
       "    <tr>\n",
       "      <td>5</td>\n",
       "      <td>842029A1</td>\n",
       "      <td>Преданная</td>\n",
       "      <td>IMPERVTOR</td>\n",
       "      <td>rusrap</td>\n",
       "      <td>Saint-Petersburg</td>\n",
       "      <td>13:09:41</td>\n",
       "      <td>Friday</td>\n",
       "    </tr>\n",
       "    <tr>\n",
       "      <td>9</td>\n",
       "      <td>E772D5C0</td>\n",
       "      <td>Pessimist</td>\n",
       "      <td>unknown</td>\n",
       "      <td>dance</td>\n",
       "      <td>Saint-Petersburg</td>\n",
       "      <td>21:20:49</td>\n",
       "      <td>Wednesday</td>\n",
       "    </tr>\n",
       "  </tbody>\n",
       "</table>\n",
       "</div>"
      ],
      "text/plain": [
       "    user_id                  track            artist   genre  \\\n",
       "0  FFB692EC      Kamigata To Boots  The Mass Missile    rock   \n",
       "2    20EC38      Funiculì funiculà       Mario Lanza     pop   \n",
       "3  A3DD03C9  Dragons in the Sunset        Fire + Ice    folk   \n",
       "5  842029A1              Преданная         IMPERVTOR  rusrap   \n",
       "9  E772D5C0              Pessimist           unknown   dance   \n",
       "\n",
       "               city      time        day  \n",
       "0  Saint-Petersburg  20:28:33  Wednesday  \n",
       "2  Saint-Petersburg  20:58:07  Wednesday  \n",
       "3  Saint-Petersburg  08:37:09     Monday  \n",
       "5  Saint-Petersburg  13:09:41     Friday  \n",
       "9  Saint-Petersburg  21:20:49  Wednesday  "
      ]
     },
     "execution_count": 77,
     "metadata": {},
     "output_type": "execute_result"
    }
   ],
   "source": [
    "spb_general = df[df['city'] == 'Saint-Petersburg'] # получение таблицы spb_general из тех строк таблицы df,\n",
    "spb_general.head(5) # для которых значение в столбце 'city' равно 'Saint-Petersburg'\n"
   ]
  },
  {
   "cell_type": "code",
   "execution_count": 78,
   "metadata": {
    "id": "laJT9BYl_Zcu"
   },
   "outputs": [],
   "source": [
    "def genre_weekday(table, day, time1, time2):\n",
    "    genre_df = table[table['day'] == day]\n",
    "    genre_df = genre_df.loc[genre_df['time'] > time1]\n",
    "    genre_df = genre_df.loc[genre_df['time'] < time2]\n",
    "    genre_df_count = genre_df.groupby('genre')['genre'].count()\n",
    "    genre_df_sorted = genre_df_count.sort_values(ascending=False)\n",
    "    return genre_df_sorted.head(10)\n",
    "    # Объявление функции genre_weekday() с параметрами table, day, time1, time2,\n",
    "# которая возвращает информацию о самых популярных жанрах в указанный день в\n",
    "# заданное время:\n",
    "# 1) в переменную genre_df сохраняются те строки переданного датафрейма table, для\n",
    "#    которых одновременно:\n",
    "#    - значение в столбце day равно значению аргумента day\n",
    "#    - значение в столбце time больше значения аргумента time1\n",
    "#    - значение в столбце time меньше значения аргумента time2\n",
    "#    Используйте последовательную фильтрацию с помощью логической индексации.\n",
    "# 2) сгруппировать датафрейм genre_df по столбцу genre, взять один из его\n",
    "#    столбцов и посчитать методом count() количество записей для каждого из\n",
    "#    присутствующих жанров, получившийся Series записать в переменную\n",
    "#    genre_df_count\n",
    "# 3) отсортировать genre_df_count по убыванию встречаемости и сохранить\n",
    "#    в переменную genre_df_sorted\n",
    "# 4) вернуть Series из 10 первых значений genre_df_sorted, это будут топ-10\n",
    "#    популярных жанров (в указанный день, в заданное время)"
   ]
  },
  {
   "cell_type": "code",
   "execution_count": 79,
   "metadata": {
    "id": "yz7itPUQ_Zcu"
   },
   "outputs": [
    {
     "data": {
      "text/plain": [
       "genre\n",
       "pop            781\n",
       "dance          549\n",
       "electronic     480\n",
       "rock           474\n",
       "hiphop         286\n",
       "poprus         186\n",
       "world          181\n",
       "rusrap         175\n",
       "alternative    164\n",
       "unknown        161\n",
       "Name: genre, dtype: int64"
      ]
     },
     "execution_count": 79,
     "metadata": {},
     "output_type": "execute_result"
    }
   ],
   "source": [
    "genre_weekday(moscow_general,'Monday','07:00','11:00') \n",
    "# вызов функции для утра понедельника в Москве (вместо df — таблица moscow_general)\n",
    "# объекты, хранящие время, являются строками и сравниваются как строки\n",
    "# пример вызова: genre_weekday(moscow_general, 'Monday', '07:00', '11:00')"
   ]
  },
  {
   "cell_type": "code",
   "execution_count": 81,
   "metadata": {
    "id": "kwUcHPdy_Zcu"
   },
   "outputs": [
    {
     "data": {
      "text/plain": [
       "genre\n",
       "pop            218\n",
       "dance          182\n",
       "rock           162\n",
       "electronic     147\n",
       "hiphop          80\n",
       "poprus          64\n",
       "alternative     58\n",
       "rusrap          55\n",
       "jazz            44\n",
       "classical       40\n",
       "Name: genre, dtype: int64"
      ]
     },
     "execution_count": 81,
     "metadata": {},
     "output_type": "execute_result"
    }
   ],
   "source": [
    "genre_weekday(spb_general,'Monday','07:00','11:00')\n",
    "# вызов функции для утра понедельника в Петербурге (вместо df — таблица spb_general)"
   ]
  },
  {
   "cell_type": "code",
   "execution_count": 82,
   "metadata": {
    "id": "EzXVRE1o_Zcu"
   },
   "outputs": [
    {
     "data": {
      "text/plain": [
       "genre\n",
       "pop            713\n",
       "rock           517\n",
       "dance          495\n",
       "electronic     482\n",
       "hiphop         273\n",
       "world          208\n",
       "poprus         170\n",
       "classical      163\n",
       "alternative    163\n",
       "rusrap         142\n",
       "Name: genre, dtype: int64"
      ]
     },
     "execution_count": 82,
     "metadata": {},
     "output_type": "execute_result"
    }
   ],
   "source": [
    "genre_weekday(moscow_general,'Friday','17:00','23:00')\n",
    "# вызов функции для вечера пятницы в Москве"
   ]
  },
  {
   "cell_type": "code",
   "execution_count": 83,
   "metadata": {
    "id": "JZaEKu5v_Zcu"
   },
   "outputs": [
    {
     "data": {
      "text/plain": [
       "genre\n",
       "pop            256\n",
       "electronic     216\n",
       "rock           216\n",
       "dance          210\n",
       "hiphop          97\n",
       "alternative     63\n",
       "jazz            61\n",
       "classical       60\n",
       "rusrap          59\n",
       "world           54\n",
       "Name: genre, dtype: int64"
      ]
     },
     "execution_count": 83,
     "metadata": {},
     "output_type": "execute_result"
    }
   ],
   "source": [
    "genre_weekday(spb_general,'Friday','17:00','23:00')\n",
    "# вызов функции для вечера пятницы в Петербурге"
   ]
  },
  {
   "cell_type": "markdown",
   "metadata": {
    "id": "wrCe4MNX_Zcu"
   },
   "source": [
    "**Выводы**\n",
    "\n",
    "Если сравнить топ-10 жанров в понедельник утром, можно сделать такие выводы:\n",
    "\n",
    "1. В Москве и Петербурге слушают похожую музыку. Единственное отличие — в московский рейтинг вошёл жанр “world”, а в петербургский — джаз и классика.\n",
    "\n",
    "Вечер пятницы не меняет эту картину. Некоторые жанры поднимаются немного выше, другие спускаются, но в целом топ-10 остаётся тем же самым. \n",
    "Единственное отличие в Петербурге вечером пятницы появился жанр “world”, и пропал \"poprus\".\n",
    "\n",
    "Таким образом, вторая гипотеза подтвердилась лишь частично:\n",
    "* Пользователи слушают похожую музыку в начале недели и в конце.\n",
    "* Разница между Москвой и Петербургом не слишком выражена. В Москве чаще слушают русскую популярную музыку, в Петербурге — джаз.\n",
    "\n",
    "Однако пропуски в данных ставят под сомнение этот результат. В Москве их так много, что рейтинг топ-10 мог бы выглядеть иначе, если бы не утерянные  данные о жанрах."
   ]
  },
  {
   "cell_type": "markdown",
   "metadata": {
    "id": "JolODAqr_Zcu"
   },
   "source": [
    "### Жанровые предпочтения в Москве и Петербурге\n",
    "\n",
    "Гипотеза: Петербург — столица рэпа, музыку этого жанра там слушают чаще, чем в Москве.  А Москва — город контрастов, в котором, тем не менее, преобладает поп-музыка."
   ]
  },
  {
   "cell_type": "code",
   "execution_count": 84,
   "metadata": {
    "id": "r19lIPke_Zcu"
   },
   "outputs": [],
   "source": [
    "moscow_genres = moscow_general.groupby('genre')['user_id'].count().sort_values(ascending=False)\n",
    "#moscow_genres = moscow_genres.sort_values(by='user_id')\n",
    "# одной строкой: группировка таблицы moscow_general по столбцу 'genre', \n",
    "# подсчёт числа значений 'genre' в этой группировке методом count(), \n",
    "# сортировка получившегося Series в порядке убывания и сохранение в moscow_genres"
   ]
  },
  {
   "cell_type": "code",
   "execution_count": 85,
   "metadata": {
    "id": "WhCSooF8_Zcv"
   },
   "outputs": [
    {
     "data": {
      "text/plain": [
       "genre\n",
       "pop            5892\n",
       "dance          4435\n",
       "rock           3965\n",
       "electronic     3786\n",
       "hiphop         2096\n",
       "classical      1616\n",
       "world          1432\n",
       "alternative    1379\n",
       "poprus         1372\n",
       "rusrap         1161\n",
       "Name: user_id, dtype: int64"
      ]
     },
     "execution_count": 85,
     "metadata": {},
     "output_type": "execute_result"
    }
   ],
   "source": [
    "moscow_genres.head(10)# просмотр первых 10 строк moscow_genres"
   ]
  },
  {
   "cell_type": "code",
   "execution_count": 86,
   "metadata": {
    "id": "gluLIpE7_Zcv"
   },
   "outputs": [],
   "source": [
    "spb_genres = spb_general.groupby('genre')['user_id'].count().sort_values(ascending=False)\n",
    "# одной строкой: группировка таблицы spb_general по столбцу 'genre', \n",
    "# подсчёт числа значений 'genre' в этой группировке методом count(), \n",
    "# сортировка получившегося Series в порядке убывания и сохранение в spb_genres"
   ]
  },
  {
   "cell_type": "code",
   "execution_count": 38,
   "metadata": {
    "id": "uaGJHjVU_Zcv"
   },
   "outputs": [
    {
     "data": {
      "text/plain": [
       "genre\n",
       "pop            2431\n",
       "dance          1932\n",
       "rock           1879\n",
       "electronic     1737\n",
       "hiphop          960\n",
       "alternative     649\n",
       "classical       646\n",
       "rusrap          564\n",
       "poprus          539\n",
       "world           515\n",
       "Name: user_id, dtype: int64"
      ]
     },
     "execution_count": 38,
     "metadata": {},
     "output_type": "execute_result"
    }
   ],
   "source": [
    "spb_genres.head(10) # просмотр первых 10 строк spb_genres"
   ]
  },
  {
   "cell_type": "markdown",
   "metadata": {
    "id": "RY51YJYu_Zcv"
   },
   "source": [
    "**Выводы**"
   ]
  },
  {
   "cell_type": "markdown",
   "metadata": {
    "id": "nVhnJEm__Zcv"
   },
   "source": [
    "Гипотеза частично подтвердилась:\n",
    "* Поп-музыка — самый популярный жанр в Москве, как и предполагала гипотеза. Более того, в топ-10 жанров встречается близкий жанр — русская популярная музыка.\n",
    "* Вопреки ожиданиям, рэп одинаково популярен в Москве и Петербурге. \n"
   ]
  }
 ],
 "metadata": {
  "ExecuteTimeLog": [
   {
    "duration": 400,
    "start_time": "2022-01-24T14:50:21.127Z"
   },
   {
    "duration": 764,
    "start_time": "2022-01-24T14:50:26.328Z"
   },
   {
    "duration": 199,
    "start_time": "2022-01-24T14:50:30.882Z"
   },
   {
    "duration": 26,
    "start_time": "2022-01-24T14:50:35.616Z"
   },
   {
    "duration": 308,
    "start_time": "2022-01-24T14:51:53.404Z"
   },
   {
    "duration": 35,
    "start_time": "2022-01-24T14:52:02.217Z"
   },
   {
    "duration": 5,
    "start_time": "2022-01-24T15:04:29.171Z"
   },
   {
    "duration": 1475,
    "start_time": "2022-01-24T15:08:37.495Z"
   },
   {
    "duration": 27,
    "start_time": "2022-01-24T15:08:50.947Z"
   },
   {
    "duration": 5,
    "start_time": "2022-01-24T15:09:08.684Z"
   },
   {
    "duration": 31,
    "start_time": "2022-01-24T15:17:10.139Z"
   },
   {
    "duration": 42,
    "start_time": "2022-01-24T15:30:53.437Z"
   },
   {
    "duration": 306,
    "start_time": "2022-01-24T15:31:19.967Z"
   },
   {
    "duration": 306,
    "start_time": "2022-01-24T15:50:05.003Z"
   },
   {
    "duration": 258,
    "start_time": "2022-01-24T15:51:05.587Z"
   },
   {
    "duration": 8,
    "start_time": "2022-01-24T15:57:43.991Z"
   },
   {
    "duration": 10,
    "start_time": "2022-01-24T15:57:52.768Z"
   },
   {
    "duration": 21,
    "start_time": "2022-01-24T15:58:50.770Z"
   },
   {
    "duration": 70,
    "start_time": "2022-01-24T16:03:03.090Z"
   },
   {
    "duration": 18,
    "start_time": "2022-01-24T16:03:19.649Z"
   },
   {
    "duration": 59,
    "start_time": "2022-01-24T16:03:48.527Z"
   },
   {
    "duration": 84,
    "start_time": "2022-01-24T16:04:59.575Z"
   },
   {
    "duration": 106,
    "start_time": "2022-01-24T16:08:04.870Z"
   },
   {
    "duration": 84,
    "start_time": "2022-01-24T16:09:30.095Z"
   },
   {
    "duration": 10,
    "start_time": "2022-01-24T16:13:56.071Z"
   },
   {
    "duration": 7,
    "start_time": "2022-01-24T16:20:41.478Z"
   },
   {
    "duration": 7,
    "start_time": "2022-01-24T16:20:47.635Z"
   },
   {
    "duration": 293,
    "start_time": "2022-01-24T16:24:58.986Z"
   },
   {
    "duration": 87,
    "start_time": "2022-01-24T16:25:06.884Z"
   },
   {
    "duration": 10,
    "start_time": "2022-01-24T16:25:13.534Z"
   },
   {
    "duration": 8,
    "start_time": "2022-01-24T16:30:24.015Z"
   },
   {
    "duration": 8,
    "start_time": "2022-01-24T16:30:26.945Z"
   },
   {
    "duration": 10,
    "start_time": "2022-01-24T16:30:51.784Z"
   },
   {
    "duration": 19,
    "start_time": "2022-01-24T16:31:28.959Z"
   },
   {
    "duration": 5,
    "start_time": "2022-01-25T14:02:09.396Z"
   },
   {
    "duration": 998,
    "start_time": "2022-01-25T14:02:13.992Z"
   },
   {
    "duration": 696,
    "start_time": "2022-01-25T14:03:04.484Z"
   },
   {
    "duration": 509,
    "start_time": "2022-01-25T14:05:03.545Z"
   },
   {
    "duration": 477,
    "start_time": "2022-01-25T14:05:20.546Z"
   },
   {
    "duration": 884,
    "start_time": "2022-01-25T14:05:33.685Z"
   },
   {
    "duration": 270,
    "start_time": "2022-01-25T14:05:38.063Z"
   },
   {
    "duration": 38,
    "start_time": "2022-01-25T14:05:41.760Z"
   },
   {
    "duration": 40,
    "start_time": "2022-01-25T14:05:47.039Z"
   },
   {
    "duration": 123,
    "start_time": "2022-01-25T14:06:00.986Z"
   },
   {
    "duration": 570,
    "start_time": "2022-01-25T14:06:13.619Z"
   },
   {
    "duration": 21,
    "start_time": "2022-01-25T14:07:18.207Z"
   },
   {
    "duration": 435,
    "start_time": "2022-01-25T14:07:32.884Z"
   },
   {
    "duration": 384,
    "start_time": "2022-01-25T14:08:04.337Z"
   },
   {
    "duration": 21,
    "start_time": "2022-01-25T14:08:22.459Z"
   },
   {
    "duration": 529,
    "start_time": "2022-01-25T14:08:49.388Z"
   },
   {
    "duration": 417,
    "start_time": "2022-01-25T14:09:09.045Z"
   },
   {
    "duration": 4,
    "start_time": "2022-01-25T14:09:23.422Z"
   },
   {
    "duration": 5,
    "start_time": "2022-01-25T14:09:30.328Z"
   },
   {
    "duration": 950,
    "start_time": "2022-01-25T14:09:37.343Z"
   },
   {
    "duration": 20,
    "start_time": "2022-01-25T14:09:52.373Z"
   },
   {
    "duration": 657,
    "start_time": "2022-01-25T14:10:13.232Z"
   },
   {
    "duration": 133,
    "start_time": "2022-01-25T14:13:35.968Z"
   },
   {
    "duration": 15,
    "start_time": "2022-01-25T14:14:02.297Z"
   },
   {
    "duration": 11,
    "start_time": "2022-01-25T14:14:17.729Z"
   },
   {
    "duration": 15,
    "start_time": "2022-01-25T14:15:35.350Z"
   },
   {
    "duration": 10,
    "start_time": "2022-01-25T14:15:40.249Z"
   },
   {
    "duration": 431,
    "start_time": "2022-01-25T14:17:08.916Z"
   },
   {
    "duration": 382,
    "start_time": "2022-01-25T14:17:48.497Z"
   },
   {
    "duration": 386,
    "start_time": "2022-01-25T14:18:07.206Z"
   },
   {
    "duration": 3,
    "start_time": "2022-01-25T14:18:31.580Z"
   },
   {
    "duration": 18,
    "start_time": "2022-01-25T14:18:42.997Z"
   },
   {
    "duration": 32,
    "start_time": "2022-01-25T14:18:48.408Z"
   },
   {
    "duration": 5,
    "start_time": "2022-01-25T14:18:55.273Z"
   },
   {
    "duration": 25,
    "start_time": "2022-01-25T14:18:59.696Z"
   },
   {
    "duration": 5,
    "start_time": "2022-01-25T14:19:12.028Z"
   },
   {
    "duration": 30,
    "start_time": "2022-01-25T14:19:28.384Z"
   },
   {
    "duration": 60,
    "start_time": "2022-01-25T14:19:34.438Z"
   },
   {
    "duration": 59,
    "start_time": "2022-01-25T14:19:36.760Z"
   },
   {
    "duration": 18,
    "start_time": "2022-01-25T14:19:40.872Z"
   },
   {
    "duration": 95,
    "start_time": "2022-01-25T14:19:52.215Z"
   },
   {
    "duration": 88,
    "start_time": "2022-01-25T14:19:55.294Z"
   },
   {
    "duration": 97,
    "start_time": "2022-01-25T14:19:58.644Z"
   },
   {
    "duration": 81,
    "start_time": "2022-01-25T14:20:10.307Z"
   },
   {
    "duration": 1216,
    "start_time": "2022-01-25T14:20:15.978Z"
   },
   {
    "duration": 388,
    "start_time": "2022-01-25T14:20:45.509Z"
   },
   {
    "duration": 380,
    "start_time": "2022-01-25T14:21:09.940Z"
   },
   {
    "duration": 16,
    "start_time": "2022-01-25T14:23:30.200Z"
   },
   {
    "duration": 9,
    "start_time": "2022-01-25T14:23:37.489Z"
   },
   {
    "duration": 9,
    "start_time": "2022-01-25T14:24:05.287Z"
   },
   {
    "duration": 15,
    "start_time": "2022-01-25T14:26:31.823Z"
   },
   {
    "duration": 9,
    "start_time": "2022-01-25T14:26:36.548Z"
   },
   {
    "duration": 475,
    "start_time": "2022-01-25T14:26:44.140Z"
   },
   {
    "duration": 4,
    "start_time": "2022-01-25T14:30:35.806Z"
   },
   {
    "duration": 195,
    "start_time": "2022-01-25T14:30:38.502Z"
   },
   {
    "duration": 16,
    "start_time": "2022-01-25T14:30:42.227Z"
   },
   {
    "duration": 31,
    "start_time": "2022-01-25T14:30:46.315Z"
   },
   {
    "duration": 6,
    "start_time": "2022-01-25T14:30:51.556Z"
   },
   {
    "duration": 20,
    "start_time": "2022-01-25T14:30:55.489Z"
   },
   {
    "duration": 6,
    "start_time": "2022-01-25T14:30:57.520Z"
   },
   {
    "duration": 33,
    "start_time": "2022-01-25T14:31:01.209Z"
   },
   {
    "duration": 68,
    "start_time": "2022-01-25T14:31:07.482Z"
   },
   {
    "duration": 19,
    "start_time": "2022-01-25T14:31:09.394Z"
   },
   {
    "duration": 90,
    "start_time": "2022-01-25T14:31:12.152Z"
   },
   {
    "duration": 91,
    "start_time": "2022-01-25T14:31:14.872Z"
   },
   {
    "duration": 92,
    "start_time": "2022-01-25T14:31:17.937Z"
   },
   {
    "duration": 458,
    "start_time": "2022-01-25T14:31:21.835Z"
   },
   {
    "duration": 741,
    "start_time": "2022-01-25T14:31:50.908Z"
   },
   {
    "duration": 9,
    "start_time": "2022-01-25T14:45:16.185Z"
   },
   {
    "duration": 8,
    "start_time": "2022-01-25T14:45:48.551Z"
   },
   {
    "duration": 397,
    "start_time": "2022-01-25T14:47:57.826Z"
   },
   {
    "duration": 60,
    "start_time": "2022-01-25T14:52:11.551Z"
   },
   {
    "duration": 47,
    "start_time": "2022-01-25T14:52:32.344Z"
   },
   {
    "duration": 34,
    "start_time": "2022-01-25T14:52:44.655Z"
   },
   {
    "duration": 32,
    "start_time": "2022-01-25T14:57:09.713Z"
   },
   {
    "duration": 42,
    "start_time": "2022-01-25T14:57:25.876Z"
   },
   {
    "duration": 36,
    "start_time": "2022-01-25T14:59:05.119Z"
   },
   {
    "duration": 43,
    "start_time": "2022-01-25T15:00:56.188Z"
   },
   {
    "duration": 49,
    "start_time": "2022-01-25T15:02:16.814Z"
   },
   {
    "duration": 39,
    "start_time": "2022-01-25T15:02:41.153Z"
   },
   {
    "duration": 3,
    "start_time": "2022-01-25T15:02:43.750Z"
   },
   {
    "duration": 56,
    "start_time": "2022-01-25T15:02:51.015Z"
   },
   {
    "duration": 38,
    "start_time": "2022-01-25T15:02:54.216Z"
   },
   {
    "duration": 43,
    "start_time": "2022-01-25T15:03:17.616Z"
   },
   {
    "duration": 350,
    "start_time": "2022-01-25T15:04:22.893Z"
   },
   {
    "duration": 378,
    "start_time": "2022-01-25T15:04:30.637Z"
   },
   {
    "duration": 376,
    "start_time": "2022-01-25T15:07:30.266Z"
   },
   {
    "duration": 615,
    "start_time": "2022-01-25T15:07:51.400Z"
   },
   {
    "duration": 367,
    "start_time": "2022-01-25T15:09:41.148Z"
   },
   {
    "duration": 886,
    "start_time": "2022-01-25T15:10:15.030Z"
   },
   {
    "duration": 531,
    "start_time": "2022-01-25T15:10:32.270Z"
   },
   {
    "duration": 391,
    "start_time": "2022-01-25T15:11:34.740Z"
   },
   {
    "duration": 9,
    "start_time": "2022-01-25T15:11:47.953Z"
   },
   {
    "duration": 410,
    "start_time": "2022-01-25T15:14:02.873Z"
   },
   {
    "duration": 60,
    "start_time": "2022-01-25T15:14:48.673Z"
   },
   {
    "duration": 59,
    "start_time": "2022-01-25T15:15:31.836Z"
   },
   {
    "duration": 60,
    "start_time": "2022-01-25T15:16:10.355Z"
   },
   {
    "duration": 16,
    "start_time": "2022-01-25T15:16:21.168Z"
   },
   {
    "duration": 15,
    "start_time": "2022-01-25T15:16:26.093Z"
   },
   {
    "duration": 5,
    "start_time": "2022-01-25T15:16:52.303Z"
   },
   {
    "duration": 60,
    "start_time": "2022-01-25T15:16:55.846Z"
   },
   {
    "duration": 4,
    "start_time": "2022-01-25T15:17:15.710Z"
   },
   {
    "duration": 143,
    "start_time": "2022-01-25T15:17:58.335Z"
   },
   {
    "duration": 124,
    "start_time": "2022-01-25T15:18:17.800Z"
   },
   {
    "duration": 417,
    "start_time": "2022-01-25T15:19:26.714Z"
   },
   {
    "duration": 13,
    "start_time": "2022-01-25T15:22:36.689Z"
   },
   {
    "duration": 101,
    "start_time": "2022-01-25T15:22:42.319Z"
   },
   {
    "duration": 18,
    "start_time": "2022-01-25T15:23:13.615Z"
   },
   {
    "duration": 61,
    "start_time": "2022-01-25T15:28:45.263Z"
   },
   {
    "duration": 25,
    "start_time": "2022-01-25T15:30:49.285Z"
   },
   {
    "duration": 59,
    "start_time": "2022-01-25T15:30:54.813Z"
   },
   {
    "duration": 59,
    "start_time": "2022-01-25T15:32:04.645Z"
   },
   {
    "duration": 128,
    "start_time": "2022-01-25T15:32:12.140Z"
   },
   {
    "duration": 77,
    "start_time": "2022-01-25T15:32:16.463Z"
   },
   {
    "duration": 121,
    "start_time": "2022-01-25T15:33:12.736Z"
   },
   {
    "duration": 135,
    "start_time": "2022-01-25T15:33:49.832Z"
   },
   {
    "duration": 24,
    "start_time": "2022-01-25T15:34:04.670Z"
   },
   {
    "duration": 63,
    "start_time": "2022-01-25T15:34:09.982Z"
   },
   {
    "duration": 29,
    "start_time": "2022-01-25T15:35:51.423Z"
   },
   {
    "duration": 64,
    "start_time": "2022-01-25T15:35:57.051Z"
   },
   {
    "duration": 43,
    "start_time": "2022-01-25T15:38:03.947Z"
   },
   {
    "duration": 50,
    "start_time": "2022-01-25T15:38:30.550Z"
   },
   {
    "duration": 29,
    "start_time": "2022-01-25T15:39:59.078Z"
   },
   {
    "duration": 33,
    "start_time": "2022-01-25T15:40:29.808Z"
   },
   {
    "duration": 34,
    "start_time": "2022-01-25T15:40:29.986Z"
   },
   {
    "duration": 31,
    "start_time": "2022-01-25T15:42:31.686Z"
   },
   {
    "duration": 40,
    "start_time": "2022-01-25T15:47:19.749Z"
   },
   {
    "duration": 38,
    "start_time": "2022-01-25T15:55:10.595Z"
   },
   {
    "duration": 14,
    "start_time": "2022-01-25T15:55:28.499Z"
   },
   {
    "duration": 15,
    "start_time": "2022-01-25T15:55:48.243Z"
   },
   {
    "duration": 15,
    "start_time": "2022-01-25T16:02:32.652Z"
   },
   {
    "duration": 5,
    "start_time": "2022-01-25T16:19:14.871Z"
   },
   {
    "duration": 5,
    "start_time": "2022-01-25T16:19:22.098Z"
   },
   {
    "duration": 7,
    "start_time": "2022-01-25T16:20:01.055Z"
   },
   {
    "duration": 827,
    "start_time": "2022-01-25T16:22:36.136Z"
   },
   {
    "duration": 749,
    "start_time": "2022-01-25T16:27:42.895Z"
   },
   {
    "duration": 762,
    "start_time": "2022-01-25T16:28:18.818Z"
   },
   {
    "duration": 5,
    "start_time": "2022-01-25T16:28:43.509Z"
   },
   {
    "duration": 10,
    "start_time": "2022-01-25T16:28:49.095Z"
   },
   {
    "duration": 384,
    "start_time": "2022-01-25T16:28:51.947Z"
   },
   {
    "duration": 5,
    "start_time": "2022-01-25T16:29:56.880Z"
   },
   {
    "duration": 367,
    "start_time": "2022-01-25T16:30:01.138Z"
   },
   {
    "duration": 5,
    "start_time": "2022-01-25T16:31:28.760Z"
   },
   {
    "duration": 420,
    "start_time": "2022-01-25T16:31:31.766Z"
   },
   {
    "duration": 4,
    "start_time": "2022-01-25T16:32:55.701Z"
   },
   {
    "duration": 356,
    "start_time": "2022-01-25T16:32:58.221Z"
   },
   {
    "duration": 4,
    "start_time": "2022-01-25T16:34:03.397Z"
   },
   {
    "duration": 374,
    "start_time": "2022-01-25T16:34:06.185Z"
   },
   {
    "duration": 5,
    "start_time": "2022-01-25T16:39:21.582Z"
   },
   {
    "duration": 908,
    "start_time": "2022-01-25T16:39:36.803Z"
   },
   {
    "duration": 712,
    "start_time": "2022-01-25T16:39:59.071Z"
   },
   {
    "duration": 778,
    "start_time": "2022-01-25T16:40:27.126Z"
   },
   {
    "duration": 5,
    "start_time": "2022-01-25T16:43:04.614Z"
   },
   {
    "duration": 796,
    "start_time": "2022-01-25T16:43:09.549Z"
   },
   {
    "duration": 5,
    "start_time": "2022-01-25T16:43:31.622Z"
   },
   {
    "duration": 759,
    "start_time": "2022-01-25T16:43:38.103Z"
   },
   {
    "duration": 403,
    "start_time": "2022-01-25T16:46:01.233Z"
   },
   {
    "duration": 5,
    "start_time": "2022-01-25T16:47:10.869Z"
   },
   {
    "duration": 732,
    "start_time": "2022-01-25T16:47:15.094Z"
   },
   {
    "duration": 873,
    "start_time": "2022-01-25T16:48:32.429Z"
   },
   {
    "duration": 5,
    "start_time": "2022-01-25T16:49:39.663Z"
   },
   {
    "duration": 402,
    "start_time": "2022-01-25T16:49:46.735Z"
   },
   {
    "duration": 458,
    "start_time": "2022-01-25T16:50:43.108Z"
   },
   {
    "duration": 460,
    "start_time": "2022-01-25T16:55:28.615Z"
   },
   {
    "duration": 390,
    "start_time": "2022-01-25T16:58:04.875Z"
   },
   {
    "duration": 28,
    "start_time": "2022-01-25T16:59:01.118Z"
   },
   {
    "duration": 368,
    "start_time": "2022-01-25T16:59:39.693Z"
   },
   {
    "duration": 379,
    "start_time": "2022-01-25T16:59:59.891Z"
   },
   {
    "duration": 372,
    "start_time": "2022-01-25T17:00:31.539Z"
   },
   {
    "duration": 16,
    "start_time": "2022-01-26T04:25:44.386Z"
   },
   {
    "duration": 59,
    "start_time": "2022-01-26T05:02:28.791Z"
   },
   {
    "duration": 355,
    "start_time": "2022-01-26T06:24:59.230Z"
   },
   {
    "duration": 823,
    "start_time": "2022-01-26T06:27:20.646Z"
   },
   {
    "duration": 5,
    "start_time": "2022-01-26T06:29:26.159Z"
   },
   {
    "duration": 5,
    "start_time": "2022-01-26T06:29:28.011Z"
   },
   {
    "duration": 40,
    "start_time": "2022-01-26T06:29:31.656Z"
   },
   {
    "duration": 40,
    "start_time": "2022-01-26T06:39:47.136Z"
   },
   {
    "duration": 5,
    "start_time": "2022-01-26T06:39:52.536Z"
   },
   {
    "duration": 29,
    "start_time": "2022-01-26T06:39:56.197Z"
   },
   {
    "duration": 425,
    "start_time": "2022-01-26T06:44:06.060Z"
   },
   {
    "duration": 122,
    "start_time": "2022-01-26T06:44:48.085Z"
   },
   {
    "duration": 25,
    "start_time": "2022-01-26T06:46:29.678Z"
   },
   {
    "duration": 28,
    "start_time": "2022-01-26T07:51:13.361Z"
   },
   {
    "duration": 60,
    "start_time": "2022-01-26T07:51:17.224Z"
   },
   {
    "duration": 51,
    "start_time": "2022-01-26T07:59:43.810Z"
   },
   {
    "duration": 58,
    "start_time": "2022-01-26T07:59:43.917Z"
   },
   {
    "duration": 3,
    "start_time": "2022-01-26T07:59:43.977Z"
   },
   {
    "duration": 3,
    "start_time": "2022-01-26T07:59:57.968Z"
   },
   {
    "duration": 4,
    "start_time": "2022-01-26T08:01:06.895Z"
   },
   {
    "duration": 3,
    "start_time": "2022-01-26T08:01:09.407Z"
   },
   {
    "duration": 3,
    "start_time": "2022-01-26T08:01:11.050Z"
   },
   {
    "duration": 24,
    "start_time": "2022-01-26T08:02:44.515Z"
   },
   {
    "duration": 25,
    "start_time": "2022-01-26T08:02:47.874Z"
   },
   {
    "duration": 21,
    "start_time": "2022-01-26T08:07:41.343Z"
   },
   {
    "duration": 3,
    "start_time": "2022-01-26T08:13:46.388Z"
   },
   {
    "duration": 258,
    "start_time": "2022-01-26T08:18:08.096Z"
   },
   {
    "duration": 665,
    "start_time": "2022-01-26T08:18:30.289Z"
   },
   {
    "duration": 397,
    "start_time": "2022-01-26T08:18:55.091Z"
   },
   {
    "duration": 440,
    "start_time": "2022-01-26T08:22:52.930Z"
   },
   {
    "duration": 125,
    "start_time": "2022-01-26T08:25:46.661Z"
   },
   {
    "duration": 375,
    "start_time": "2022-01-26T08:25:57.645Z"
   },
   {
    "duration": 124,
    "start_time": "2022-01-26T09:22:18.439Z"
   },
   {
    "duration": 360,
    "start_time": "2022-01-26T09:22:32.800Z"
   },
   {
    "duration": 365,
    "start_time": "2022-01-26T09:28:38.298Z"
   },
   {
    "duration": 380,
    "start_time": "2022-01-26T09:28:46.225Z"
   },
   {
    "duration": 371,
    "start_time": "2022-01-26T09:29:49.907Z"
   },
   {
    "duration": 12,
    "start_time": "2022-01-26T09:30:22.028Z"
   },
   {
    "duration": 15,
    "start_time": "2022-01-26T09:43:29.447Z"
   },
   {
    "duration": 17,
    "start_time": "2022-01-26T09:43:35.244Z"
   },
   {
    "duration": 22,
    "start_time": "2022-01-26T09:44:31.226Z"
   },
   {
    "duration": 16,
    "start_time": "2022-01-26T09:45:10.524Z"
   },
   {
    "duration": 12,
    "start_time": "2022-01-26T09:50:40.347Z"
   },
   {
    "duration": 806,
    "start_time": "2022-01-26T14:19:38.130Z"
   },
   {
    "duration": 252,
    "start_time": "2022-01-26T14:19:40.957Z"
   },
   {
    "duration": 27,
    "start_time": "2022-01-26T14:19:43.829Z"
   },
   {
    "duration": 33,
    "start_time": "2022-01-26T14:19:47.832Z"
   },
   {
    "duration": 6,
    "start_time": "2022-01-26T14:19:52.924Z"
   },
   {
    "duration": 25,
    "start_time": "2022-01-26T14:19:56.429Z"
   },
   {
    "duration": 5,
    "start_time": "2022-01-26T14:19:58.995Z"
   },
   {
    "duration": 32,
    "start_time": "2022-01-26T14:20:03.293Z"
   },
   {
    "duration": 88,
    "start_time": "2022-01-26T14:20:17.218Z"
   },
   {
    "duration": 19,
    "start_time": "2022-01-26T14:20:20.822Z"
   },
   {
    "duration": 83,
    "start_time": "2022-01-26T14:20:24.908Z"
   },
   {
    "duration": 129,
    "start_time": "2022-01-26T14:20:28.160Z"
   },
   {
    "duration": 80,
    "start_time": "2022-01-26T14:20:31.879Z"
   },
   {
    "duration": 60,
    "start_time": "2022-01-26T14:20:36.604Z"
   },
   {
    "duration": 4,
    "start_time": "2022-01-26T14:20:47.763Z"
   },
   {
    "duration": 59,
    "start_time": "2022-01-26T14:21:18.921Z"
   },
   {
    "duration": 812,
    "start_time": "2022-01-26T14:21:36.973Z"
   },
   {
    "duration": 847,
    "start_time": "2022-01-26T14:21:56.465Z"
   },
   {
    "duration": 4,
    "start_time": "2022-01-26T14:22:40.732Z"
   },
   {
    "duration": 762,
    "start_time": "2022-01-26T14:22:45.292Z"
   },
   {
    "duration": 5,
    "start_time": "2022-01-26T14:24:30.853Z"
   },
   {
    "duration": 732,
    "start_time": "2022-01-26T14:24:35.277Z"
   },
   {
    "duration": 5,
    "start_time": "2022-01-26T14:26:35.783Z"
   },
   {
    "duration": 1198,
    "start_time": "2022-01-26T14:26:39.003Z"
   },
   {
    "duration": 3,
    "start_time": "2022-01-26T14:27:48.924Z"
   },
   {
    "duration": 718,
    "start_time": "2022-01-26T14:27:51.452Z"
   },
   {
    "duration": 4,
    "start_time": "2022-01-26T14:29:24.846Z"
   },
   {
    "duration": 20,
    "start_time": "2022-01-26T14:29:27.078Z"
   },
   {
    "duration": 61,
    "start_time": "2022-01-26T14:29:32.131Z"
   },
   {
    "duration": 22,
    "start_time": "2022-01-26T14:30:16.223Z"
   },
   {
    "duration": 69,
    "start_time": "2022-01-26T14:30:20.158Z"
   },
   {
    "duration": 18,
    "start_time": "2022-01-26T14:31:25.861Z"
   },
   {
    "duration": 15,
    "start_time": "2022-01-26T14:31:29.492Z"
   },
   {
    "duration": 6,
    "start_time": "2022-01-26T14:31:34.559Z"
   },
   {
    "duration": 23,
    "start_time": "2022-01-26T14:31:38.071Z"
   },
   {
    "duration": 21,
    "start_time": "2022-01-26T14:31:40.059Z"
   },
   {
    "duration": 21,
    "start_time": "2022-01-26T14:31:42.583Z"
   },
   {
    "duration": 20,
    "start_time": "2022-01-26T14:31:44.678Z"
   },
   {
    "duration": 26,
    "start_time": "2022-01-26T14:31:47.449Z"
   },
   {
    "duration": 21,
    "start_time": "2022-01-26T14:31:49.467Z"
   },
   {
    "duration": 13,
    "start_time": "2022-01-26T14:31:54.640Z"
   },
   {
    "duration": 29,
    "start_time": "2022-01-26T14:32:01.358Z"
   },
   {
    "duration": 12,
    "start_time": "2022-01-26T14:32:05.092Z"
   },
   {
    "duration": 10,
    "start_time": "2022-01-26T15:01:49.359Z"
   },
   {
    "duration": 6,
    "start_time": "2022-01-26T15:02:35.024Z"
   },
   {
    "duration": 5611,
    "start_time": "2022-01-26T15:02:58.489Z"
   },
   {
    "duration": 6013,
    "start_time": "2022-01-26T15:03:36.188Z"
   },
   {
    "duration": 121,
    "start_time": "2022-01-26T15:06:11.600Z"
   },
   {
    "duration": 6,
    "start_time": "2022-01-26T15:06:26.977Z"
   },
   {
    "duration": 5319,
    "start_time": "2022-01-26T15:07:11.973Z"
   },
   {
    "duration": 19,
    "start_time": "2022-01-26T15:08:36.203Z"
   },
   {
    "duration": 19,
    "start_time": "2022-01-26T15:08:48.233Z"
   },
   {
    "duration": 6,
    "start_time": "2022-01-26T15:09:06.082Z"
   },
   {
    "duration": 5249,
    "start_time": "2022-01-26T15:09:10.485Z"
   },
   {
    "duration": 9047,
    "start_time": "2022-01-26T15:13:15.945Z"
   },
   {
    "duration": 9878,
    "start_time": "2022-01-26T15:14:23.846Z"
   },
   {
    "duration": 20,
    "start_time": "2022-01-26T15:15:06.442Z"
   },
   {
    "duration": 5,
    "start_time": "2022-01-26T15:15:53.462Z"
   },
   {
    "duration": 5122,
    "start_time": "2022-01-26T15:16:03.727Z"
   },
   {
    "duration": 5,
    "start_time": "2022-01-26T15:17:16.647Z"
   },
   {
    "duration": 5116,
    "start_time": "2022-01-26T15:17:20.364Z"
   },
   {
    "duration": 6,
    "start_time": "2022-01-26T15:17:53.408Z"
   },
   {
    "duration": 30,
    "start_time": "2022-01-26T15:17:57.552Z"
   },
   {
    "duration": 27,
    "start_time": "2022-01-26T15:18:48.643Z"
   },
   {
    "duration": 17,
    "start_time": "2022-01-26T15:21:21.624Z"
   },
   {
    "duration": 10,
    "start_time": "2022-01-26T15:23:43.085Z"
   },
   {
    "duration": 5009,
    "start_time": "2022-01-26T15:23:48.340Z"
   },
   {
    "duration": 26,
    "start_time": "2022-01-26T15:24:43.656Z"
   },
   {
    "duration": 24,
    "start_time": "2022-01-26T15:24:54.646Z"
   },
   {
    "duration": 6,
    "start_time": "2022-01-26T15:25:00.112Z"
   },
   {
    "duration": 25,
    "start_time": "2022-01-26T15:25:03.807Z"
   },
   {
    "duration": 18,
    "start_time": "2022-01-26T15:25:09.215Z"
   },
   {
    "duration": 21,
    "start_time": "2022-01-26T15:26:00.610Z"
   },
   {
    "duration": 23,
    "start_time": "2022-01-26T15:26:49.681Z"
   },
   {
    "duration": 16,
    "start_time": "2022-01-26T15:26:54.295Z"
   },
   {
    "duration": 728,
    "start_time": "2022-01-27T03:00:17.291Z"
   },
   {
    "duration": 168,
    "start_time": "2022-01-27T03:00:21.493Z"
   },
   {
    "duration": 24,
    "start_time": "2022-01-27T03:00:23.894Z"
   },
   {
    "duration": 45,
    "start_time": "2022-01-27T03:00:29.215Z"
   },
   {
    "duration": 5,
    "start_time": "2022-01-27T03:00:35.504Z"
   },
   {
    "duration": 25,
    "start_time": "2022-01-27T03:00:38.844Z"
   },
   {
    "duration": 5,
    "start_time": "2022-01-27T03:00:42.344Z"
   },
   {
    "duration": 28,
    "start_time": "2022-01-27T03:00:55.649Z"
   },
   {
    "duration": 57,
    "start_time": "2022-01-27T03:01:03.369Z"
   },
   {
    "duration": 17,
    "start_time": "2022-01-27T03:01:08.335Z"
   },
   {
    "duration": 77,
    "start_time": "2022-01-27T03:01:12.067Z"
   },
   {
    "duration": 82,
    "start_time": "2022-01-27T03:01:14.864Z"
   },
   {
    "duration": 70,
    "start_time": "2022-01-27T03:01:17.575Z"
   },
   {
    "duration": 55,
    "start_time": "2022-01-27T03:01:21.520Z"
   },
   {
    "duration": 4,
    "start_time": "2022-01-27T03:01:30.191Z"
   },
   {
    "duration": 20,
    "start_time": "2022-01-27T03:01:40.700Z"
   },
   {
    "duration": 52,
    "start_time": "2022-01-27T03:01:45.978Z"
   },
   {
    "duration": 17,
    "start_time": "2022-01-27T03:01:57.511Z"
   },
   {
    "duration": 15,
    "start_time": "2022-01-27T03:02:29.223Z"
   },
   {
    "duration": 5,
    "start_time": "2022-01-27T03:02:34.705Z"
   },
   {
    "duration": 23,
    "start_time": "2022-01-27T03:02:45.846Z"
   },
   {
    "duration": 20,
    "start_time": "2022-01-27T03:02:49.350Z"
   },
   {
    "duration": 20,
    "start_time": "2022-01-27T03:02:51.696Z"
   },
   {
    "duration": 19,
    "start_time": "2022-01-27T03:02:54.478Z"
   },
   {
    "duration": 22,
    "start_time": "2022-01-27T03:02:56.390Z"
   },
   {
    "duration": 20,
    "start_time": "2022-01-27T03:02:58.564Z"
   },
   {
    "duration": 12,
    "start_time": "2022-01-27T03:03:01.706Z"
   },
   {
    "duration": 25,
    "start_time": "2022-01-27T03:03:31.991Z"
   },
   {
    "duration": 24,
    "start_time": "2022-01-27T03:03:46.624Z"
   },
   {
    "duration": 5,
    "start_time": "2022-01-27T03:03:52.417Z"
   },
   {
    "duration": 25,
    "start_time": "2022-01-27T03:04:00.685Z"
   },
   {
    "duration": 16,
    "start_time": "2022-01-27T03:04:08.263Z"
   },
   {
    "duration": 20,
    "start_time": "2022-01-27T03:04:17.071Z"
   },
   {
    "duration": 16,
    "start_time": "2022-01-27T03:04:21.763Z"
   },
   {
    "duration": 12,
    "start_time": "2022-01-27T03:21:39.292Z"
   },
   {
    "duration": 368,
    "start_time": "2022-01-27T03:22:08.684Z"
   },
   {
    "duration": 24,
    "start_time": "2022-01-27T03:22:36.367Z"
   },
   {
    "duration": 13,
    "start_time": "2022-01-27T03:23:30.545Z"
   },
   {
    "duration": 296,
    "start_time": "2022-01-27T03:24:37.899Z"
   },
   {
    "duration": 10,
    "start_time": "2022-01-27T03:27:18.981Z"
   },
   {
    "duration": 291,
    "start_time": "2022-01-27T03:28:00.398Z"
   },
   {
    "duration": 297,
    "start_time": "2022-01-27T03:28:21.809Z"
   },
   {
    "duration": 26,
    "start_time": "2022-01-27T03:29:41.478Z"
   },
   {
    "duration": 329,
    "start_time": "2022-01-27T03:30:40.340Z"
   },
   {
    "duration": 289,
    "start_time": "2022-01-27T03:31:52.040Z"
   },
   {
    "duration": 15,
    "start_time": "2022-01-27T03:32:51.236Z"
   },
   {
    "duration": 267,
    "start_time": "2022-01-27T03:34:25.964Z"
   },
   {
    "duration": 16,
    "start_time": "2022-01-27T03:34:54.164Z"
   },
   {
    "duration": 8,
    "start_time": "2022-01-27T03:38:16.916Z"
   },
   {
    "duration": 15,
    "start_time": "2022-01-27T03:38:50.028Z"
   },
   {
    "duration": 8,
    "start_time": "2022-01-27T03:39:28.489Z"
   },
   {
    "duration": 10,
    "start_time": "2022-01-27T03:40:03.211Z"
   },
   {
    "duration": 11,
    "start_time": "2022-01-27T03:40:14.193Z"
   },
   {
    "duration": 12,
    "start_time": "2022-01-27T03:40:18.445Z"
   },
   {
    "duration": 12,
    "start_time": "2022-01-27T03:40:34.506Z"
   },
   {
    "duration": 274,
    "start_time": "2022-01-27T03:42:47.728Z"
   },
   {
    "duration": 341,
    "start_time": "2022-01-27T03:43:14.596Z"
   },
   {
    "duration": 11,
    "start_time": "2022-01-27T03:43:40.363Z"
   },
   {
    "duration": 9,
    "start_time": "2022-01-27T03:43:51.602Z"
   },
   {
    "duration": 9,
    "start_time": "2022-01-27T03:48:17.434Z"
   },
   {
    "duration": 323,
    "start_time": "2022-01-27T03:48:50.032Z"
   },
   {
    "duration": 270,
    "start_time": "2022-01-27T03:49:48.846Z"
   },
   {
    "duration": 21,
    "start_time": "2022-01-27T03:49:58.260Z"
   },
   {
    "duration": 287,
    "start_time": "2022-01-27T03:51:01.206Z"
   },
   {
    "duration": 11,
    "start_time": "2022-01-27T03:51:12.617Z"
   },
   {
    "duration": 10,
    "start_time": "2022-01-27T03:51:56.787Z"
   },
   {
    "duration": 300,
    "start_time": "2022-01-27T03:57:54.727Z"
   },
   {
    "duration": 266,
    "start_time": "2022-01-27T03:59:06.306Z"
   },
   {
    "duration": 18,
    "start_time": "2022-01-27T04:00:10.192Z"
   },
   {
    "duration": 3,
    "start_time": "2022-01-27T04:00:47.646Z"
   },
   {
    "duration": 294,
    "start_time": "2022-01-27T04:05:38.816Z"
   },
   {
    "duration": 7,
    "start_time": "2022-01-27T04:06:00.329Z"
   },
   {
    "duration": 9,
    "start_time": "2022-01-27T04:06:33.554Z"
   },
   {
    "duration": 7,
    "start_time": "2022-01-27T04:22:24.840Z"
   },
   {
    "duration": 289,
    "start_time": "2022-01-27T04:22:32.891Z"
   },
   {
    "duration": 6,
    "start_time": "2022-01-27T04:39:00.020Z"
   },
   {
    "duration": 16,
    "start_time": "2022-01-27T04:39:03.127Z"
   },
   {
    "duration": 17,
    "start_time": "2022-01-27T04:39:41.769Z"
   },
   {
    "duration": 291,
    "start_time": "2022-01-27T04:41:27.267Z"
   },
   {
    "duration": 289,
    "start_time": "2022-01-27T04:42:03.165Z"
   },
   {
    "duration": 4,
    "start_time": "2022-01-27T04:42:44.925Z"
   },
   {
    "duration": 163,
    "start_time": "2022-01-27T04:42:47.555Z"
   },
   {
    "duration": 16,
    "start_time": "2022-01-27T04:42:49.509Z"
   },
   {
    "duration": 6939,
    "start_time": "2022-01-27T04:43:01.284Z"
   },
   {
    "duration": 6661,
    "start_time": "2022-01-27T04:43:16.987Z"
   },
   {
    "duration": 12,
    "start_time": "2022-01-27T04:43:40.718Z"
   },
   {
    "duration": 15,
    "start_time": "2022-01-27T04:46:35.579Z"
   },
   {
    "duration": 32,
    "start_time": "2022-01-27T04:46:40.963Z"
   },
   {
    "duration": 5,
    "start_time": "2022-01-27T04:46:45.633Z"
   },
   {
    "duration": 17,
    "start_time": "2022-01-27T04:46:49.255Z"
   },
   {
    "duration": 6,
    "start_time": "2022-01-27T04:46:52.153Z"
   },
   {
    "duration": 46,
    "start_time": "2022-01-27T04:46:55.327Z"
   },
   {
    "duration": 82,
    "start_time": "2022-01-27T04:46:58.306Z"
   },
   {
    "duration": 17,
    "start_time": "2022-01-27T04:47:01.740Z"
   },
   {
    "duration": 75,
    "start_time": "2022-01-27T04:47:04.590Z"
   },
   {
    "duration": 83,
    "start_time": "2022-01-27T04:47:07.071Z"
   },
   {
    "duration": 72,
    "start_time": "2022-01-27T04:47:10.021Z"
   },
   {
    "duration": 75,
    "start_time": "2022-01-27T04:47:13.205Z"
   },
   {
    "duration": 4,
    "start_time": "2022-01-27T04:47:19.322Z"
   },
   {
    "duration": 19,
    "start_time": "2022-01-27T04:47:22.353Z"
   },
   {
    "duration": 53,
    "start_time": "2022-01-27T04:47:25.573Z"
   },
   {
    "duration": 13,
    "start_time": "2022-01-27T04:47:32.438Z"
   },
   {
    "duration": 15,
    "start_time": "2022-01-27T04:47:37.845Z"
   },
   {
    "duration": 5,
    "start_time": "2022-01-27T04:47:42.924Z"
   },
   {
    "duration": 22,
    "start_time": "2022-01-27T04:47:45.758Z"
   },
   {
    "duration": 21,
    "start_time": "2022-01-27T04:47:48.645Z"
   },
   {
    "duration": 21,
    "start_time": "2022-01-27T04:47:52.333Z"
   },
   {
    "duration": 20,
    "start_time": "2022-01-27T04:47:55.302Z"
   },
   {
    "duration": 25,
    "start_time": "2022-01-27T04:47:57.364Z"
   },
   {
    "duration": 20,
    "start_time": "2022-01-27T04:47:59.333Z"
   },
   {
    "duration": 12,
    "start_time": "2022-01-27T04:48:02.856Z"
   },
   {
    "duration": 26,
    "start_time": "2022-01-27T04:48:09.463Z"
   },
   {
    "duration": 24,
    "start_time": "2022-01-27T04:48:16.509Z"
   },
   {
    "duration": 21,
    "start_time": "2022-01-27T04:48:33.734Z"
   },
   {
    "duration": 5,
    "start_time": "2022-01-27T04:48:40.314Z"
   },
   {
    "duration": 24,
    "start_time": "2022-01-27T04:48:43.664Z"
   },
   {
    "duration": 18,
    "start_time": "2022-01-27T04:48:46.457Z"
   },
   {
    "duration": 23,
    "start_time": "2022-01-27T04:48:48.997Z"
   },
   {
    "duration": 16,
    "start_time": "2022-01-27T04:48:51.309Z"
   },
   {
    "duration": 4,
    "start_time": "2022-01-27T04:49:11.448Z"
   },
   {
    "duration": 26,
    "start_time": "2022-01-27T04:49:16.144Z"
   },
   {
    "duration": 22,
    "start_time": "2022-01-27T04:49:34.678Z"
   },
   {
    "duration": 28,
    "start_time": "2022-01-27T04:50:39.276Z"
   },
   {
    "duration": 12,
    "start_time": "2022-01-27T04:50:47.167Z"
   },
   {
    "duration": 287,
    "start_time": "2022-01-27T04:51:28.094Z"
   },
   {
    "duration": 259,
    "start_time": "2022-01-27T04:51:33.337Z"
   },
   {
    "duration": 27,
    "start_time": "2022-01-27T04:51:39.911Z"
   },
   {
    "duration": 11,
    "start_time": "2022-01-27T04:51:46.487Z"
   },
   {
    "duration": 10,
    "start_time": "2022-01-27T04:52:09.973Z"
   },
   {
    "duration": 8,
    "start_time": "2022-01-27T04:52:14.438Z"
   },
   {
    "duration": 63,
    "start_time": "2022-01-27T04:52:43.076Z"
   },
   {
    "duration": 6,
    "start_time": "2022-01-27T04:52:48.317Z"
   },
   {
    "duration": 10,
    "start_time": "2022-01-27T04:53:24.617Z"
   },
   {
    "duration": 6,
    "start_time": "2022-01-27T04:53:26.889Z"
   },
   {
    "duration": 10,
    "start_time": "2022-01-27T04:54:09.992Z"
   },
   {
    "duration": 6,
    "start_time": "2022-01-27T04:54:16.549Z"
   },
   {
    "duration": 17,
    "start_time": "2022-01-27T04:55:36.336Z"
   },
   {
    "duration": 6,
    "start_time": "2022-01-27T04:55:40.873Z"
   },
   {
    "duration": 10,
    "start_time": "2022-01-27T04:56:30.109Z"
   },
   {
    "duration": 8,
    "start_time": "2022-01-27T04:56:51.750Z"
   },
   {
    "duration": 82,
    "start_time": "2022-01-27T05:48:13.076Z"
   },
   {
    "duration": 80,
    "start_time": "2022-01-27T05:48:40.105Z"
   },
   {
    "duration": 78,
    "start_time": "2022-01-27T05:48:55.409Z"
   },
   {
    "duration": 652,
    "start_time": "2022-01-27T06:05:03.185Z"
   },
   {
    "duration": 120,
    "start_time": "2022-01-27T06:05:03.838Z"
   },
   {
    "duration": 16,
    "start_time": "2022-01-27T06:05:03.962Z"
   },
   {
    "duration": 20,
    "start_time": "2022-01-27T06:05:03.980Z"
   },
   {
    "duration": 3,
    "start_time": "2022-01-27T06:05:04.001Z"
   },
   {
    "duration": 30,
    "start_time": "2022-01-27T06:05:04.005Z"
   },
   {
    "duration": 4,
    "start_time": "2022-01-27T06:05:04.037Z"
   },
   {
    "duration": 25,
    "start_time": "2022-01-27T06:05:04.043Z"
   },
   {
    "duration": 41,
    "start_time": "2022-01-27T06:05:04.070Z"
   },
   {
    "duration": 12,
    "start_time": "2022-01-27T06:05:04.127Z"
   },
   {
    "duration": 55,
    "start_time": "2022-01-27T06:05:04.141Z"
   },
   {
    "duration": 73,
    "start_time": "2022-01-27T06:05:04.197Z"
   },
   {
    "duration": 44,
    "start_time": "2022-01-27T06:05:04.272Z"
   },
   {
    "duration": 44,
    "start_time": "2022-01-27T06:05:04.318Z"
   },
   {
    "duration": 2,
    "start_time": "2022-01-27T06:05:04.364Z"
   },
   {
    "duration": 15,
    "start_time": "2022-01-27T06:05:04.367Z"
   },
   {
    "duration": 48,
    "start_time": "2022-01-27T06:05:04.383Z"
   },
   {
    "duration": 9,
    "start_time": "2022-01-27T06:05:04.433Z"
   },
   {
    "duration": 8,
    "start_time": "2022-01-27T06:05:04.443Z"
   },
   {
    "duration": 3,
    "start_time": "2022-01-27T06:05:04.453Z"
   },
   {
    "duration": 18,
    "start_time": "2022-01-27T06:05:04.457Z"
   },
   {
    "duration": 12,
    "start_time": "2022-01-27T06:05:04.478Z"
   },
   {
    "duration": 45,
    "start_time": "2022-01-27T06:05:04.492Z"
   },
   {
    "duration": 12,
    "start_time": "2022-01-27T06:05:04.538Z"
   },
   {
    "duration": 15,
    "start_time": "2022-01-27T06:05:04.551Z"
   },
   {
    "duration": 12,
    "start_time": "2022-01-27T06:05:04.567Z"
   },
   {
    "duration": 7,
    "start_time": "2022-01-27T06:05:04.581Z"
   },
   {
    "duration": 42,
    "start_time": "2022-01-27T06:05:04.590Z"
   },
   {
    "duration": 14,
    "start_time": "2022-01-27T06:05:04.634Z"
   },
   {
    "duration": 3,
    "start_time": "2022-01-27T06:05:04.649Z"
   },
   {
    "duration": 21,
    "start_time": "2022-01-27T06:05:04.654Z"
   },
   {
    "duration": 15,
    "start_time": "2022-01-27T06:05:04.677Z"
   },
   {
    "duration": 13,
    "start_time": "2022-01-27T06:05:04.693Z"
   },
   {
    "duration": 29,
    "start_time": "2022-01-27T06:05:04.707Z"
   },
   {
    "duration": 8,
    "start_time": "2022-01-27T06:05:04.738Z"
   },
   {
    "duration": 6,
    "start_time": "2022-01-27T06:05:04.748Z"
   },
   {
    "duration": 8,
    "start_time": "2022-01-27T06:05:04.755Z"
   },
   {
    "duration": 10,
    "start_time": "2022-01-27T06:05:04.765Z"
   },
   {
    "duration": 11,
    "start_time": "2022-01-27T06:05:40.874Z"
   },
   {
    "duration": 6490,
    "start_time": "2022-01-27T06:05:46.017Z"
   },
   {
    "duration": 4,
    "start_time": "2022-01-27T06:08:02.990Z"
   },
   {
    "duration": 13,
    "start_time": "2022-01-27T06:08:38.319Z"
   },
   {
    "duration": 4,
    "start_time": "2022-01-27T06:08:55.743Z"
   },
   {
    "duration": 18,
    "start_time": "2022-01-27T06:10:56.789Z"
   },
   {
    "duration": 246,
    "start_time": "2022-01-27T06:17:22.729Z"
   },
   {
    "duration": 5,
    "start_time": "2022-01-27T06:17:38.203Z"
   },
   {
    "duration": 4,
    "start_time": "2022-01-27T06:18:02.059Z"
   },
   {
    "duration": 4,
    "start_time": "2022-01-27T06:18:11.755Z"
   },
   {
    "duration": 3,
    "start_time": "2022-01-27T06:18:23.556Z"
   },
   {
    "duration": 596,
    "start_time": "2022-01-27T06:49:07.211Z"
   },
   {
    "duration": 129,
    "start_time": "2022-01-27T06:49:11.858Z"
   },
   {
    "duration": 17,
    "start_time": "2022-01-27T06:49:12.791Z"
   },
   {
    "duration": 23,
    "start_time": "2022-01-27T06:49:16.391Z"
   },
   {
    "duration": 4,
    "start_time": "2022-01-27T06:50:23.570Z"
   },
   {
    "duration": 18,
    "start_time": "2022-01-27T06:50:25.395Z"
   },
   {
    "duration": 5,
    "start_time": "2022-01-27T06:51:03.314Z"
   },
   {
    "duration": 21,
    "start_time": "2022-01-27T06:51:06.147Z"
   },
   {
    "duration": 29,
    "start_time": "2022-01-27T06:51:10.131Z"
   },
   {
    "duration": 310,
    "start_time": "2022-01-27T06:51:22.228Z"
   },
   {
    "duration": 35,
    "start_time": "2022-01-27T06:51:30.004Z"
   },
   {
    "duration": 84,
    "start_time": "2022-01-27T07:02:16.068Z"
   },
   {
    "duration": 103,
    "start_time": "2022-01-27T07:02:18.093Z"
   },
   {
    "duration": 42,
    "start_time": "2022-01-27T07:16:59.235Z"
   },
   {
    "duration": 13,
    "start_time": "2022-01-27T07:17:02.428Z"
   },
   {
    "duration": 54,
    "start_time": "2022-01-27T07:17:05.468Z"
   },
   {
    "duration": 60,
    "start_time": "2022-01-27T07:17:14.069Z"
   },
   {
    "duration": 51,
    "start_time": "2022-01-27T07:17:17.870Z"
   },
   {
    "duration": 38,
    "start_time": "2022-01-27T07:17:49.918Z"
   },
   {
    "duration": 2,
    "start_time": "2022-01-27T07:18:16.974Z"
   },
   {
    "duration": 15,
    "start_time": "2022-01-27T07:19:53.338Z"
   },
   {
    "duration": 39,
    "start_time": "2022-01-27T07:19:59.730Z"
   },
   {
    "duration": 90,
    "start_time": "2022-01-27T07:29:34.595Z"
   },
   {
    "duration": 84,
    "start_time": "2022-01-27T07:46:30.139Z"
   },
   {
    "duration": 6,
    "start_time": "2022-01-27T07:46:42.385Z"
   },
   {
    "duration": 39,
    "start_time": "2022-01-27T07:46:45.130Z"
   },
   {
    "duration": 558,
    "start_time": "2022-01-27T07:46:58.005Z"
   },
   {
    "duration": 124,
    "start_time": "2022-01-27T07:46:58.565Z"
   },
   {
    "duration": 16,
    "start_time": "2022-01-27T07:46:58.691Z"
   },
   {
    "duration": 29,
    "start_time": "2022-01-27T07:46:58.709Z"
   },
   {
    "duration": 4,
    "start_time": "2022-01-27T07:46:58.740Z"
   },
   {
    "duration": 18,
    "start_time": "2022-01-27T07:46:58.746Z"
   },
   {
    "duration": 5,
    "start_time": "2022-01-27T07:46:58.766Z"
   },
   {
    "duration": 22,
    "start_time": "2022-01-27T07:46:58.773Z"
   },
   {
    "duration": 71,
    "start_time": "2022-01-27T07:46:58.798Z"
   },
   {
    "duration": 12,
    "start_time": "2022-01-27T07:46:58.871Z"
   },
   {
    "duration": 72,
    "start_time": "2022-01-27T07:46:58.885Z"
   },
   {
    "duration": 54,
    "start_time": "2022-01-27T07:46:58.959Z"
   },
   {
    "duration": 53,
    "start_time": "2022-01-27T07:46:59.015Z"
   },
   {
    "duration": 57,
    "start_time": "2022-01-27T07:46:59.070Z"
   },
   {
    "duration": 3,
    "start_time": "2022-01-27T07:46:59.129Z"
   },
   {
    "duration": 14,
    "start_time": "2022-01-27T07:46:59.134Z"
   },
   {
    "duration": 38,
    "start_time": "2022-01-27T07:46:59.149Z"
   },
   {
    "duration": 10,
    "start_time": "2022-01-27T07:46:59.189Z"
   },
   {
    "duration": 10,
    "start_time": "2022-01-27T07:46:59.227Z"
   },
   {
    "duration": 4,
    "start_time": "2022-01-27T07:46:59.239Z"
   },
   {
    "duration": 21,
    "start_time": "2022-01-27T07:46:59.244Z"
   },
   {
    "duration": 14,
    "start_time": "2022-01-27T07:46:59.266Z"
   },
   {
    "duration": 14,
    "start_time": "2022-01-27T07:46:59.281Z"
   },
   {
    "duration": 42,
    "start_time": "2022-01-27T07:46:59.296Z"
   },
   {
    "duration": 15,
    "start_time": "2022-01-27T07:46:59.340Z"
   },
   {
    "duration": 13,
    "start_time": "2022-01-27T07:46:59.356Z"
   },
   {
    "duration": 7,
    "start_time": "2022-01-27T07:46:59.372Z"
   },
   {
    "duration": 21,
    "start_time": "2022-01-27T07:46:59.380Z"
   },
   {
    "duration": 36,
    "start_time": "2022-01-27T07:46:59.402Z"
   },
   {
    "duration": 3,
    "start_time": "2022-01-27T07:46:59.440Z"
   },
   {
    "duration": 19,
    "start_time": "2022-01-27T07:46:59.445Z"
   },
   {
    "duration": 10,
    "start_time": "2022-01-27T07:46:59.466Z"
   },
   {
    "duration": 14,
    "start_time": "2022-01-27T07:46:59.477Z"
   },
   {
    "duration": 40,
    "start_time": "2022-01-27T07:46:59.492Z"
   },
   {
    "duration": 7,
    "start_time": "2022-01-27T07:46:59.534Z"
   },
   {
    "duration": 7,
    "start_time": "2022-01-27T07:46:59.543Z"
   },
   {
    "duration": 9,
    "start_time": "2022-01-27T07:46:59.551Z"
   },
   {
    "duration": 6,
    "start_time": "2022-01-27T07:46:59.561Z"
   },
   {
    "duration": 4,
    "start_time": "2022-01-27T08:03:04.476Z"
   },
   {
    "duration": 21,
    "start_time": "2022-01-27T08:06:35.744Z"
   },
   {
    "duration": 20,
    "start_time": "2022-01-27T08:23:18.517Z"
   },
   {
    "duration": 10,
    "start_time": "2022-01-27T08:25:41.810Z"
   },
   {
    "duration": 76,
    "start_time": "2022-01-27T08:36:50.187Z"
   },
   {
    "duration": 329,
    "start_time": "2022-01-27T08:47:30.217Z"
   },
   {
    "duration": 25,
    "start_time": "2022-01-27T08:47:39.279Z"
   },
   {
    "duration": 3,
    "start_time": "2022-01-27T08:52:47.917Z"
   },
   {
    "duration": 16,
    "start_time": "2022-01-27T08:52:55.932Z"
   },
   {
    "duration": 13,
    "start_time": "2022-01-27T08:53:01.308Z"
   },
   {
    "duration": 392,
    "start_time": "2022-01-27T08:53:07.198Z"
   },
   {
    "duration": 3,
    "start_time": "2022-01-27T08:53:09.781Z"
   },
   {
    "duration": 17,
    "start_time": "2022-01-27T08:53:11.677Z"
   },
   {
    "duration": 16,
    "start_time": "2022-01-27T08:53:14.942Z"
   },
   {
    "duration": 213,
    "start_time": "2022-01-27T09:10:45.264Z"
   },
   {
    "duration": 228,
    "start_time": "2022-01-27T11:50:28.565Z"
   },
   {
    "duration": 543,
    "start_time": "2022-01-27T11:50:50.559Z"
   },
   {
    "duration": 128,
    "start_time": "2022-01-27T11:50:53.255Z"
   },
   {
    "duration": 17,
    "start_time": "2022-01-27T11:50:56.179Z"
   },
   {
    "duration": 24,
    "start_time": "2022-01-27T11:50:59.896Z"
   },
   {
    "duration": 4,
    "start_time": "2022-01-27T11:51:16.589Z"
   },
   {
    "duration": 240,
    "start_time": "2022-01-27T11:51:21.885Z"
   },
   {
    "duration": 78,
    "start_time": "2022-01-27T11:52:15.176Z"
   },
   {
    "duration": 19,
    "start_time": "2022-01-27T11:52:41.440Z"
   },
   {
    "duration": 4,
    "start_time": "2022-01-27T11:52:47.454Z"
   },
   {
    "duration": 22,
    "start_time": "2022-01-27T11:53:23.059Z"
   },
   {
    "duration": 43,
    "start_time": "2022-01-27T11:54:22.122Z"
   },
   {
    "duration": 203,
    "start_time": "2022-01-27T12:05:25.532Z"
   },
   {
    "duration": 190,
    "start_time": "2022-01-27T12:08:32.351Z"
   },
   {
    "duration": 262,
    "start_time": "2022-01-27T12:10:43.925Z"
   },
   {
    "duration": 195,
    "start_time": "2022-01-27T12:11:50.656Z"
   },
   {
    "duration": 207,
    "start_time": "2022-01-27T12:12:14.238Z"
   },
   {
    "duration": 179,
    "start_time": "2022-01-27T12:14:49.035Z"
   },
   {
    "duration": 210,
    "start_time": "2022-01-27T12:16:24.142Z"
   },
   {
    "duration": 203,
    "start_time": "2022-01-27T12:17:22.926Z"
   },
   {
    "duration": 189,
    "start_time": "2022-01-27T12:20:17.815Z"
   },
   {
    "duration": 230,
    "start_time": "2022-01-27T12:20:35.726Z"
   },
   {
    "duration": 214,
    "start_time": "2022-01-27T12:21:10.626Z"
   },
   {
    "duration": 192,
    "start_time": "2022-01-27T12:21:17.607Z"
   },
   {
    "duration": 193,
    "start_time": "2022-01-27T12:22:46.017Z"
   },
   {
    "duration": 2,
    "start_time": "2022-01-27T12:23:13.422Z"
   },
   {
    "duration": 127,
    "start_time": "2022-01-27T12:23:15.910Z"
   },
   {
    "duration": 10,
    "start_time": "2022-01-27T12:23:18.861Z"
   },
   {
    "duration": 23,
    "start_time": "2022-01-27T12:23:22.103Z"
   },
   {
    "duration": 4,
    "start_time": "2022-01-27T12:23:28.602Z"
   },
   {
    "duration": 19,
    "start_time": "2022-01-27T12:23:31.865Z"
   },
   {
    "duration": 4,
    "start_time": "2022-01-27T12:23:37.952Z"
   },
   {
    "duration": 22,
    "start_time": "2022-01-27T12:23:43.349Z"
   },
   {
    "duration": 187,
    "start_time": "2022-01-27T12:23:49.177Z"
   },
   {
    "duration": 215,
    "start_time": "2022-01-27T12:24:41.821Z"
   },
   {
    "duration": 251,
    "start_time": "2022-01-27T12:25:31.219Z"
   },
   {
    "duration": 26,
    "start_time": "2022-01-27T12:28:25.418Z"
   },
   {
    "duration": 28,
    "start_time": "2022-01-27T12:28:37.407Z"
   },
   {
    "duration": 22,
    "start_time": "2022-01-27T12:28:53.983Z"
   },
   {
    "duration": 25,
    "start_time": "2022-01-27T12:29:04.534Z"
   },
   {
    "duration": 25,
    "start_time": "2022-01-27T12:29:10.669Z"
   },
   {
    "duration": 28,
    "start_time": "2022-01-27T12:29:14.293Z"
   },
   {
    "duration": 14,
    "start_time": "2022-01-27T12:29:37.536Z"
   },
   {
    "duration": 23,
    "start_time": "2022-01-27T12:29:47.751Z"
   },
   {
    "duration": 73,
    "start_time": "2022-01-27T12:30:35.109Z"
   },
   {
    "duration": 15,
    "start_time": "2022-01-27T12:30:44.866Z"
   },
   {
    "duration": 23,
    "start_time": "2022-01-27T12:30:52.379Z"
   },
   {
    "duration": 53,
    "start_time": "2022-01-27T12:31:23.166Z"
   },
   {
    "duration": 48,
    "start_time": "2022-01-27T12:31:33.666Z"
   },
   {
    "duration": 55,
    "start_time": "2022-01-27T12:31:43.343Z"
   },
   {
    "duration": 47,
    "start_time": "2022-01-27T12:31:46.540Z"
   },
   {
    "duration": 41,
    "start_time": "2022-01-27T12:31:51.612Z"
   },
   {
    "duration": 3,
    "start_time": "2022-01-27T12:32:07.108Z"
   },
   {
    "duration": 14,
    "start_time": "2022-01-27T12:32:15.630Z"
   },
   {
    "duration": 14,
    "start_time": "2022-01-27T12:33:22.431Z"
   },
   {
    "duration": 38,
    "start_time": "2022-01-27T12:33:31.209Z"
   },
   {
    "duration": 14,
    "start_time": "2022-01-27T12:34:39.064Z"
   },
   {
    "duration": 40,
    "start_time": "2022-01-27T12:34:44.661Z"
   },
   {
    "duration": 16,
    "start_time": "2022-01-27T12:35:55.392Z"
   },
   {
    "duration": 29,
    "start_time": "2022-01-27T12:36:20.334Z"
   },
   {
    "duration": 10,
    "start_time": "2022-01-27T12:36:31.810Z"
   },
   {
    "duration": 16,
    "start_time": "2022-01-27T12:36:50.235Z"
   },
   {
    "duration": 10,
    "start_time": "2022-01-27T12:37:03.700Z"
   },
   {
    "duration": 11,
    "start_time": "2022-01-27T12:37:26.077Z"
   },
   {
    "duration": 11,
    "start_time": "2022-01-27T12:37:35.759Z"
   },
   {
    "duration": 10,
    "start_time": "2022-01-27T12:38:18.738Z"
   },
   {
    "duration": 179,
    "start_time": "2022-01-27T12:39:21.506Z"
   },
   {
    "duration": 4,
    "start_time": "2022-01-27T12:39:38.785Z"
   },
   {
    "duration": 18,
    "start_time": "2022-01-27T12:39:44.016Z"
   },
   {
    "duration": 15,
    "start_time": "2022-01-27T12:39:47.017Z"
   },
   {
    "duration": 17,
    "start_time": "2022-01-27T12:39:50.189Z"
   },
   {
    "duration": 16,
    "start_time": "2022-01-27T12:39:52.484Z"
   },
   {
    "duration": 18,
    "start_time": "2022-01-27T12:39:55.684Z"
   },
   {
    "duration": 17,
    "start_time": "2022-01-27T12:39:59.274Z"
   },
   {
    "duration": 9,
    "start_time": "2022-01-27T12:40:23.372Z"
   },
   {
    "duration": 18,
    "start_time": "2022-01-27T12:40:32.387Z"
   },
   {
    "duration": 16,
    "start_time": "2022-01-27T12:40:36.021Z"
   },
   {
    "duration": 4,
    "start_time": "2022-01-27T12:40:39.802Z"
   },
   {
    "duration": 17,
    "start_time": "2022-01-27T12:41:03.395Z"
   },
   {
    "duration": 12,
    "start_time": "2022-01-27T12:41:18.148Z"
   },
   {
    "duration": 13,
    "start_time": "2022-01-27T12:41:24.250Z"
   },
   {
    "duration": 15,
    "start_time": "2022-01-27T12:41:36.458Z"
   },
   {
    "duration": 13,
    "start_time": "2022-01-27T12:41:45.011Z"
   },
   {
    "duration": 9,
    "start_time": "2022-01-27T12:41:54.256Z"
   },
   {
    "duration": 5,
    "start_time": "2022-01-27T12:41:58.838Z"
   },
   {
    "duration": 7,
    "start_time": "2022-01-27T12:42:09.932Z"
   }
  ],
  "colab": {
   "collapsed_sections": [
    "E0vqbgi9ay0H",
    "VUC88oWjTJw2"
   ],
   "name": "yandex_music_project_2021.2.ipynb",
   "provenance": []
  },
  "kernelspec": {
   "display_name": "Python 3 (ipykernel)",
   "language": "python",
   "name": "python3"
  },
  "language_info": {
   "codemirror_mode": {
    "name": "ipython",
    "version": 3
   },
   "file_extension": ".py",
   "mimetype": "text/x-python",
   "name": "python",
   "nbconvert_exporter": "python",
   "pygments_lexer": "ipython3",
   "version": "3.9.7"
  },
  "toc": {
   "base_numbering": 1,
   "nav_menu": {},
   "number_sections": true,
   "sideBar": true,
   "skip_h1_title": true,
   "title_cell": "Table of Contents",
   "title_sidebar": "Contents",
   "toc_cell": false,
   "toc_position": {
    "height": "calc(100% - 180px)",
    "left": "10px",
    "top": "150px",
    "width": "165px"
   },
   "toc_section_display": true,
   "toc_window_display": true
  }
 },
 "nbformat": 4,
 "nbformat_minor": 1
}
