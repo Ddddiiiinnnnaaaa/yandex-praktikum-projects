{
 "cells": [
  {
   "cell_type": "markdown",
   "metadata": {},
   "source": [
    "# Исследование тарифных планов компании \"Мегалайн\"\n"
   ]
  },
  {
   "cell_type": "markdown",
   "metadata": {},
   "source": [
    "##  Изучение данных из файлов"
   ]
  },
  {
   "cell_type": "code",
   "execution_count": 1,
   "metadata": {},
   "outputs": [],
   "source": [
    "import pandas as pd # импорт библиотеки pandas\n",
    "import matplotlib.pyplot as plt \n",
    "# импорт библиотеки matplotlib для продвинутой работы с графиками\n",
    "import numpy as np\n",
    "#импорт библиотеки  numpy для анализа данных, отвечает за математические функции\n",
    "from scipy import stats as st\n",
    "#импорт библиотеки  scipy для научных вычислений"
   ]
  },
  {
   "cell_type": "code",
   "execution_count": 3,
   "metadata": {},
   "outputs": [
    {
     "data": {
      "text/html": [
       "<div>\n",
       "<style scoped>\n",
       "    .dataframe tbody tr th:only-of-type {\n",
       "        vertical-align: middle;\n",
       "    }\n",
       "\n",
       "    .dataframe tbody tr th {\n",
       "        vertical-align: top;\n",
       "    }\n",
       "\n",
       "    .dataframe thead th {\n",
       "        text-align: right;\n",
       "    }\n",
       "</style>\n",
       "<table border=\"1\" class=\"dataframe\">\n",
       "  <thead>\n",
       "    <tr style=\"text-align: right;\">\n",
       "      <th></th>\n",
       "      <th>id</th>\n",
       "      <th>call_date</th>\n",
       "      <th>duration</th>\n",
       "      <th>user_id</th>\n",
       "    </tr>\n",
       "  </thead>\n",
       "  <tbody>\n",
       "    <tr>\n",
       "      <th>0</th>\n",
       "      <td>1000_0</td>\n",
       "      <td>2018-07-25</td>\n",
       "      <td>0.00</td>\n",
       "      <td>1000</td>\n",
       "    </tr>\n",
       "    <tr>\n",
       "      <th>1</th>\n",
       "      <td>1000_1</td>\n",
       "      <td>2018-08-17</td>\n",
       "      <td>0.00</td>\n",
       "      <td>1000</td>\n",
       "    </tr>\n",
       "    <tr>\n",
       "      <th>2</th>\n",
       "      <td>1000_2</td>\n",
       "      <td>2018-06-11</td>\n",
       "      <td>2.85</td>\n",
       "      <td>1000</td>\n",
       "    </tr>\n",
       "    <tr>\n",
       "      <th>3</th>\n",
       "      <td>1000_3</td>\n",
       "      <td>2018-09-21</td>\n",
       "      <td>13.80</td>\n",
       "      <td>1000</td>\n",
       "    </tr>\n",
       "    <tr>\n",
       "      <th>4</th>\n",
       "      <td>1000_4</td>\n",
       "      <td>2018-12-15</td>\n",
       "      <td>5.18</td>\n",
       "      <td>1000</td>\n",
       "    </tr>\n",
       "  </tbody>\n",
       "</table>\n",
       "</div>"
      ],
      "text/plain": [
       "       id   call_date  duration  user_id\n",
       "0  1000_0  2018-07-25      0.00     1000\n",
       "1  1000_1  2018-08-17      0.00     1000\n",
       "2  1000_2  2018-06-11      2.85     1000\n",
       "3  1000_3  2018-09-21     13.80     1000\n",
       "4  1000_4  2018-12-15      5.18     1000"
      ]
     },
     "execution_count": 3,
     "metadata": {},
     "output_type": "execute_result"
    }
   ],
   "source": [
    "df_calls.head() # получение первых 5 строк таблицы df_calls"
   ]
  },
  {
   "cell_type": "code",
   "execution_count": 4,
   "metadata": {},
   "outputs": [
    {
     "name": "stdout",
     "output_type": "stream",
     "text": [
      "<class 'pandas.core.frame.DataFrame'>\n",
      "RangeIndex: 202607 entries, 0 to 202606\n",
      "Data columns (total 4 columns):\n",
      " #   Column     Non-Null Count   Dtype  \n",
      "---  ------     --------------   -----  \n",
      " 0   id         202607 non-null  object \n",
      " 1   call_date  202607 non-null  object \n",
      " 2   duration   202607 non-null  float64\n",
      " 3   user_id    202607 non-null  int64  \n",
      "dtypes: float64(1), int64(1), object(2)\n",
      "memory usage: 6.2+ MB\n"
     ]
    }
   ],
   "source": [
    "df_calls.info()\n",
    "# получение общей информации о данных в таблице df_calls"
   ]
  },
  {
   "cell_type": "code",
   "execution_count": 5,
   "metadata": {},
   "outputs": [
    {
     "data": {
      "text/html": [
       "<div>\n",
       "<style scoped>\n",
       "    .dataframe tbody tr th:only-of-type {\n",
       "        vertical-align: middle;\n",
       "    }\n",
       "\n",
       "    .dataframe tbody tr th {\n",
       "        vertical-align: top;\n",
       "    }\n",
       "\n",
       "    .dataframe thead th {\n",
       "        text-align: right;\n",
       "    }\n",
       "</style>\n",
       "<table border=\"1\" class=\"dataframe\">\n",
       "  <thead>\n",
       "    <tr style=\"text-align: right;\">\n",
       "      <th></th>\n",
       "      <th>Unnamed: 0</th>\n",
       "      <th>id</th>\n",
       "      <th>mb_used</th>\n",
       "      <th>session_date</th>\n",
       "      <th>user_id</th>\n",
       "    </tr>\n",
       "  </thead>\n",
       "  <tbody>\n",
       "    <tr>\n",
       "      <th>0</th>\n",
       "      <td>0</td>\n",
       "      <td>1000_0</td>\n",
       "      <td>112.95</td>\n",
       "      <td>2018-11-25</td>\n",
       "      <td>1000</td>\n",
       "    </tr>\n",
       "    <tr>\n",
       "      <th>1</th>\n",
       "      <td>1</td>\n",
       "      <td>1000_1</td>\n",
       "      <td>1052.81</td>\n",
       "      <td>2018-09-07</td>\n",
       "      <td>1000</td>\n",
       "    </tr>\n",
       "    <tr>\n",
       "      <th>2</th>\n",
       "      <td>2</td>\n",
       "      <td>1000_2</td>\n",
       "      <td>1197.26</td>\n",
       "      <td>2018-06-25</td>\n",
       "      <td>1000</td>\n",
       "    </tr>\n",
       "    <tr>\n",
       "      <th>3</th>\n",
       "      <td>3</td>\n",
       "      <td>1000_3</td>\n",
       "      <td>550.27</td>\n",
       "      <td>2018-08-22</td>\n",
       "      <td>1000</td>\n",
       "    </tr>\n",
       "    <tr>\n",
       "      <th>4</th>\n",
       "      <td>4</td>\n",
       "      <td>1000_4</td>\n",
       "      <td>302.56</td>\n",
       "      <td>2018-09-24</td>\n",
       "      <td>1000</td>\n",
       "    </tr>\n",
       "  </tbody>\n",
       "</table>\n",
       "</div>"
      ],
      "text/plain": [
       "   Unnamed: 0      id  mb_used session_date  user_id\n",
       "0           0  1000_0   112.95   2018-11-25     1000\n",
       "1           1  1000_1  1052.81   2018-09-07     1000\n",
       "2           2  1000_2  1197.26   2018-06-25     1000\n",
       "3           3  1000_3   550.27   2018-08-22     1000\n",
       "4           4  1000_4   302.56   2018-09-24     1000"
      ]
     },
     "execution_count": 5,
     "metadata": {},
     "output_type": "execute_result"
    }
   ],
   "source": [
    "df_internet.head()\n",
    "# получение первых 5 строк таблицы df_internet"
   ]
  },
  {
   "cell_type": "code",
   "execution_count": 6,
   "metadata": {},
   "outputs": [
    {
     "name": "stdout",
     "output_type": "stream",
     "text": [
      "<class 'pandas.core.frame.DataFrame'>\n",
      "RangeIndex: 149396 entries, 0 to 149395\n",
      "Data columns (total 5 columns):\n",
      " #   Column        Non-Null Count   Dtype  \n",
      "---  ------        --------------   -----  \n",
      " 0   Unnamed: 0    149396 non-null  int64  \n",
      " 1   id            149396 non-null  object \n",
      " 2   mb_used       149396 non-null  float64\n",
      " 3   session_date  149396 non-null  object \n",
      " 4   user_id       149396 non-null  int64  \n",
      "dtypes: float64(1), int64(2), object(2)\n",
      "memory usage: 5.7+ MB\n"
     ]
    }
   ],
   "source": [
    "df_internet.info()\n",
    "# получение общей информации о данных в таблице df_internet"
   ]
  },
  {
   "cell_type": "code",
   "execution_count": 7,
   "metadata": {
    "scrolled": true
   },
   "outputs": [
    {
     "data": {
      "text/html": [
       "<div>\n",
       "<style scoped>\n",
       "    .dataframe tbody tr th:only-of-type {\n",
       "        vertical-align: middle;\n",
       "    }\n",
       "\n",
       "    .dataframe tbody tr th {\n",
       "        vertical-align: top;\n",
       "    }\n",
       "\n",
       "    .dataframe thead th {\n",
       "        text-align: right;\n",
       "    }\n",
       "</style>\n",
       "<table border=\"1\" class=\"dataframe\">\n",
       "  <thead>\n",
       "    <tr style=\"text-align: right;\">\n",
       "      <th></th>\n",
       "      <th>id</th>\n",
       "      <th>message_date</th>\n",
       "      <th>user_id</th>\n",
       "    </tr>\n",
       "  </thead>\n",
       "  <tbody>\n",
       "    <tr>\n",
       "      <th>0</th>\n",
       "      <td>1000_0</td>\n",
       "      <td>2018-06-27</td>\n",
       "      <td>1000</td>\n",
       "    </tr>\n",
       "    <tr>\n",
       "      <th>1</th>\n",
       "      <td>1000_1</td>\n",
       "      <td>2018-10-08</td>\n",
       "      <td>1000</td>\n",
       "    </tr>\n",
       "    <tr>\n",
       "      <th>2</th>\n",
       "      <td>1000_2</td>\n",
       "      <td>2018-08-04</td>\n",
       "      <td>1000</td>\n",
       "    </tr>\n",
       "    <tr>\n",
       "      <th>3</th>\n",
       "      <td>1000_3</td>\n",
       "      <td>2018-06-16</td>\n",
       "      <td>1000</td>\n",
       "    </tr>\n",
       "    <tr>\n",
       "      <th>4</th>\n",
       "      <td>1000_4</td>\n",
       "      <td>2018-12-05</td>\n",
       "      <td>1000</td>\n",
       "    </tr>\n",
       "  </tbody>\n",
       "</table>\n",
       "</div>"
      ],
      "text/plain": [
       "       id message_date  user_id\n",
       "0  1000_0   2018-06-27     1000\n",
       "1  1000_1   2018-10-08     1000\n",
       "2  1000_2   2018-08-04     1000\n",
       "3  1000_3   2018-06-16     1000\n",
       "4  1000_4   2018-12-05     1000"
      ]
     },
     "execution_count": 7,
     "metadata": {},
     "output_type": "execute_result"
    }
   ],
   "source": [
    "df_messages.head() # получение первых 5 строк таблицы df_messages"
   ]
  },
  {
   "cell_type": "code",
   "execution_count": 8,
   "metadata": {
    "scrolled": true
   },
   "outputs": [
    {
     "name": "stdout",
     "output_type": "stream",
     "text": [
      "<class 'pandas.core.frame.DataFrame'>\n",
      "RangeIndex: 123036 entries, 0 to 123035\n",
      "Data columns (total 3 columns):\n",
      " #   Column        Non-Null Count   Dtype \n",
      "---  ------        --------------   ----- \n",
      " 0   id            123036 non-null  object\n",
      " 1   message_date  123036 non-null  object\n",
      " 2   user_id       123036 non-null  int64 \n",
      "dtypes: int64(1), object(2)\n",
      "memory usage: 2.8+ MB\n"
     ]
    }
   ],
   "source": [
    "df_messages.info()\n",
    "# получение общей информации о данных в таблице df_messages"
   ]
  },
  {
   "cell_type": "code",
   "execution_count": 9,
   "metadata": {},
   "outputs": [
    {
     "data": {
      "text/html": [
       "<div>\n",
       "<style scoped>\n",
       "    .dataframe tbody tr th:only-of-type {\n",
       "        vertical-align: middle;\n",
       "    }\n",
       "\n",
       "    .dataframe tbody tr th {\n",
       "        vertical-align: top;\n",
       "    }\n",
       "\n",
       "    .dataframe thead th {\n",
       "        text-align: right;\n",
       "    }\n",
       "</style>\n",
       "<table border=\"1\" class=\"dataframe\">\n",
       "  <thead>\n",
       "    <tr style=\"text-align: right;\">\n",
       "      <th></th>\n",
       "      <th>messages_included</th>\n",
       "      <th>mb_per_month_included</th>\n",
       "      <th>minutes_included</th>\n",
       "      <th>rub_monthly_fee</th>\n",
       "      <th>rub_per_gb</th>\n",
       "      <th>rub_per_message</th>\n",
       "      <th>rub_per_minute</th>\n",
       "      <th>tariff_name</th>\n",
       "    </tr>\n",
       "  </thead>\n",
       "  <tbody>\n",
       "    <tr>\n",
       "      <th>0</th>\n",
       "      <td>50</td>\n",
       "      <td>15360</td>\n",
       "      <td>500</td>\n",
       "      <td>550</td>\n",
       "      <td>200</td>\n",
       "      <td>3</td>\n",
       "      <td>3</td>\n",
       "      <td>smart</td>\n",
       "    </tr>\n",
       "    <tr>\n",
       "      <th>1</th>\n",
       "      <td>1000</td>\n",
       "      <td>30720</td>\n",
       "      <td>3000</td>\n",
       "      <td>1950</td>\n",
       "      <td>150</td>\n",
       "      <td>1</td>\n",
       "      <td>1</td>\n",
       "      <td>ultra</td>\n",
       "    </tr>\n",
       "  </tbody>\n",
       "</table>\n",
       "</div>"
      ],
      "text/plain": [
       "   messages_included  mb_per_month_included  minutes_included  \\\n",
       "0                 50                  15360               500   \n",
       "1               1000                  30720              3000   \n",
       "\n",
       "   rub_monthly_fee  rub_per_gb  rub_per_message  rub_per_minute tariff_name  \n",
       "0              550         200                3               3       smart  \n",
       "1             1950         150                1               1       ultra  "
      ]
     },
     "execution_count": 9,
     "metadata": {},
     "output_type": "execute_result"
    }
   ],
   "source": [
    "df_tariffs.head() # получение первых 5 строк таблицы df_tariffs"
   ]
  },
  {
   "cell_type": "code",
   "execution_count": 10,
   "metadata": {},
   "outputs": [
    {
     "data": {
      "text/html": [
       "<div>\n",
       "<style scoped>\n",
       "    .dataframe tbody tr th:only-of-type {\n",
       "        vertical-align: middle;\n",
       "    }\n",
       "\n",
       "    .dataframe tbody tr th {\n",
       "        vertical-align: top;\n",
       "    }\n",
       "\n",
       "    .dataframe thead th {\n",
       "        text-align: right;\n",
       "    }\n",
       "</style>\n",
       "<table border=\"1\" class=\"dataframe\">\n",
       "  <thead>\n",
       "    <tr style=\"text-align: right;\">\n",
       "      <th></th>\n",
       "      <th>user_id</th>\n",
       "      <th>age</th>\n",
       "      <th>churn_date</th>\n",
       "      <th>city</th>\n",
       "      <th>first_name</th>\n",
       "      <th>last_name</th>\n",
       "      <th>reg_date</th>\n",
       "      <th>tariff</th>\n",
       "    </tr>\n",
       "  </thead>\n",
       "  <tbody>\n",
       "    <tr>\n",
       "      <th>0</th>\n",
       "      <td>1000</td>\n",
       "      <td>52</td>\n",
       "      <td>NaN</td>\n",
       "      <td>Краснодар</td>\n",
       "      <td>Рафаил</td>\n",
       "      <td>Верещагин</td>\n",
       "      <td>2018-05-25</td>\n",
       "      <td>ultra</td>\n",
       "    </tr>\n",
       "    <tr>\n",
       "      <th>1</th>\n",
       "      <td>1001</td>\n",
       "      <td>41</td>\n",
       "      <td>NaN</td>\n",
       "      <td>Москва</td>\n",
       "      <td>Иван</td>\n",
       "      <td>Ежов</td>\n",
       "      <td>2018-11-01</td>\n",
       "      <td>smart</td>\n",
       "    </tr>\n",
       "    <tr>\n",
       "      <th>2</th>\n",
       "      <td>1002</td>\n",
       "      <td>59</td>\n",
       "      <td>NaN</td>\n",
       "      <td>Стерлитамак</td>\n",
       "      <td>Евгений</td>\n",
       "      <td>Абрамович</td>\n",
       "      <td>2018-06-17</td>\n",
       "      <td>smart</td>\n",
       "    </tr>\n",
       "    <tr>\n",
       "      <th>3</th>\n",
       "      <td>1003</td>\n",
       "      <td>23</td>\n",
       "      <td>NaN</td>\n",
       "      <td>Москва</td>\n",
       "      <td>Белла</td>\n",
       "      <td>Белякова</td>\n",
       "      <td>2018-08-17</td>\n",
       "      <td>ultra</td>\n",
       "    </tr>\n",
       "    <tr>\n",
       "      <th>4</th>\n",
       "      <td>1004</td>\n",
       "      <td>68</td>\n",
       "      <td>NaN</td>\n",
       "      <td>Новокузнецк</td>\n",
       "      <td>Татьяна</td>\n",
       "      <td>Авдеенко</td>\n",
       "      <td>2018-05-14</td>\n",
       "      <td>ultra</td>\n",
       "    </tr>\n",
       "  </tbody>\n",
       "</table>\n",
       "</div>"
      ],
      "text/plain": [
       "   user_id  age churn_date         city first_name  last_name    reg_date  \\\n",
       "0     1000   52        NaN    Краснодар     Рафаил  Верещагин  2018-05-25   \n",
       "1     1001   41        NaN       Москва       Иван       Ежов  2018-11-01   \n",
       "2     1002   59        NaN  Стерлитамак    Евгений  Абрамович  2018-06-17   \n",
       "3     1003   23        NaN       Москва      Белла   Белякова  2018-08-17   \n",
       "4     1004   68        NaN  Новокузнецк    Татьяна   Авдеенко  2018-05-14   \n",
       "\n",
       "  tariff  \n",
       "0  ultra  \n",
       "1  smart  \n",
       "2  smart  \n",
       "3  ultra  \n",
       "4  ultra  "
      ]
     },
     "execution_count": 10,
     "metadata": {},
     "output_type": "execute_result"
    }
   ],
   "source": [
    "df_users.head()  # получение первых 5 строк таблицы df_users"
   ]
  },
  {
   "cell_type": "code",
   "execution_count": 11,
   "metadata": {},
   "outputs": [
    {
     "name": "stdout",
     "output_type": "stream",
     "text": [
      "<class 'pandas.core.frame.DataFrame'>\n",
      "RangeIndex: 500 entries, 0 to 499\n",
      "Data columns (total 8 columns):\n",
      " #   Column      Non-Null Count  Dtype \n",
      "---  ------      --------------  ----- \n",
      " 0   user_id     500 non-null    int64 \n",
      " 1   age         500 non-null    int64 \n",
      " 2   churn_date  38 non-null     object\n",
      " 3   city        500 non-null    object\n",
      " 4   first_name  500 non-null    object\n",
      " 5   last_name   500 non-null    object\n",
      " 6   reg_date    500 non-null    object\n",
      " 7   tariff      500 non-null    object\n",
      "dtypes: int64(2), object(6)\n",
      "memory usage: 31.4+ KB\n"
     ]
    }
   ],
   "source": [
    "df_users.info() # получение общей информации о данных в таблице df_users"
   ]
  },
  {
   "cell_type": "markdown",
   "metadata": {},
   "source": [
    "В выгруженных файлах видим информацию о пользователях и тарифных планах, которые они используют и данные о звонках, сообщениях и интернет-трафике. Данные в таблицах отличаются по количеству.\n",
    "\n",
    "\n",
    "Столбцы с датами переведем в формат datatime\n",
    "\n",
    "Чтобы двигаться дальше, нужно устранить проблемы в данных."
   ]
  },
  {
   "cell_type": "markdown",
   "metadata": {},
   "source": [
    "## Предобработка данных"
   ]
  },
  {
   "cell_type": "markdown",
   "metadata": {},
   "source": [
    "Приведем столбец с датами в таблицах к типу данных datetime."
   ]
  },
  {
   "cell_type": "code",
   "execution_count": 12,
   "metadata": {},
   "outputs": [
    {
     "name": "stdout",
     "output_type": "stream",
     "text": [
      "<class 'pandas.core.frame.DataFrame'>\n",
      "RangeIndex: 202607 entries, 0 to 202606\n",
      "Data columns (total 4 columns):\n",
      " #   Column     Non-Null Count   Dtype         \n",
      "---  ------     --------------   -----         \n",
      " 0   id         202607 non-null  object        \n",
      " 1   call_date  202607 non-null  datetime64[ns]\n",
      " 2   duration   202607 non-null  float64       \n",
      " 3   user_id    202607 non-null  int64         \n",
      "dtypes: datetime64[ns](1), float64(1), int64(1), object(1)\n",
      "memory usage: 6.2+ MB\n"
     ]
    }
   ],
   "source": [
    "df_calls['call_date'] = pd.to_datetime(df_calls['call_date'], format='%Y%m%dT')\n",
    "df_internet['session_date'] = pd.to_datetime(df_internet['session_date'], format='%Y%m%dT')\n",
    "df_messages['message_date'] = pd.to_datetime(df_messages['message_date'], format='%Y%m%dT')\n",
    "df_users['reg_date'] = pd.to_datetime(df_users['reg_date'], format='%Y%m%dT')\n",
    "# используем для этого метод to_datetime()\n",
    "df_calls.info() # проверим сработал ли метод вызвав общую информацию для одной из таблиц"
   ]
  },
  {
   "cell_type": "markdown",
   "metadata": {},
   "source": [
    "В описании проекта указано, что в данных таблицы df_calls  звонки с нулевой продолжительностью - это пропущенные звонки. Не будем их трогать.\n",
    "\n",
    "В описании проекта так же указано, что \"Мегалайн\" всегда округляет секунды до минуты. Каждый звонок округляется отдельно: даже если он длится всего 1 секунду, будет засчитан как 1 минута. Округлим данные значения до большего целого числа."
   ]
  },
  {
   "cell_type": "code",
   "execution_count": 13,
   "metadata": {},
   "outputs": [
    {
     "data": {
      "text/html": [
       "<div>\n",
       "<style scoped>\n",
       "    .dataframe tbody tr th:only-of-type {\n",
       "        vertical-align: middle;\n",
       "    }\n",
       "\n",
       "    .dataframe tbody tr th {\n",
       "        vertical-align: top;\n",
       "    }\n",
       "\n",
       "    .dataframe thead th {\n",
       "        text-align: right;\n",
       "    }\n",
       "</style>\n",
       "<table border=\"1\" class=\"dataframe\">\n",
       "  <thead>\n",
       "    <tr style=\"text-align: right;\">\n",
       "      <th></th>\n",
       "      <th>id</th>\n",
       "      <th>call_date</th>\n",
       "      <th>duration</th>\n",
       "      <th>user_id</th>\n",
       "      <th>duration_ceil</th>\n",
       "    </tr>\n",
       "  </thead>\n",
       "  <tbody>\n",
       "    <tr>\n",
       "      <th>0</th>\n",
       "      <td>1000_0</td>\n",
       "      <td>2018-07-25</td>\n",
       "      <td>0.00</td>\n",
       "      <td>1000</td>\n",
       "      <td>0</td>\n",
       "    </tr>\n",
       "    <tr>\n",
       "      <th>1</th>\n",
       "      <td>1000_1</td>\n",
       "      <td>2018-08-17</td>\n",
       "      <td>0.00</td>\n",
       "      <td>1000</td>\n",
       "      <td>0</td>\n",
       "    </tr>\n",
       "    <tr>\n",
       "      <th>2</th>\n",
       "      <td>1000_2</td>\n",
       "      <td>2018-06-11</td>\n",
       "      <td>2.85</td>\n",
       "      <td>1000</td>\n",
       "      <td>3</td>\n",
       "    </tr>\n",
       "    <tr>\n",
       "      <th>3</th>\n",
       "      <td>1000_3</td>\n",
       "      <td>2018-09-21</td>\n",
       "      <td>13.80</td>\n",
       "      <td>1000</td>\n",
       "      <td>14</td>\n",
       "    </tr>\n",
       "    <tr>\n",
       "      <th>4</th>\n",
       "      <td>1000_4</td>\n",
       "      <td>2018-12-15</td>\n",
       "      <td>5.18</td>\n",
       "      <td>1000</td>\n",
       "      <td>6</td>\n",
       "    </tr>\n",
       "  </tbody>\n",
       "</table>\n",
       "</div>"
      ],
      "text/plain": [
       "       id  call_date  duration  user_id  duration_ceil\n",
       "0  1000_0 2018-07-25      0.00     1000              0\n",
       "1  1000_1 2018-08-17      0.00     1000              0\n",
       "2  1000_2 2018-06-11      2.85     1000              3\n",
       "3  1000_3 2018-09-21     13.80     1000             14\n",
       "4  1000_4 2018-12-15      5.18     1000              6"
      ]
     },
     "execution_count": 13,
     "metadata": {},
     "output_type": "execute_result"
    }
   ],
   "source": [
    "df_calls['duration_ceil'] = df_calls['duration'].apply(np.ceil).astype('int')\n",
    "# с помощью метода apply() применим ко всему столбцу duration датафрейма df_calls \n",
    "# округление в большую сторону используюя метод ceil \n",
    "# используя метод astype() переведем данные столбца в тип int\n",
    "df_calls.head() #выведем на экран 5 первых строк датафрейма"
   ]
  },
  {
   "cell_type": "markdown",
   "metadata": {},
   "source": [
    "Все получилось как было задуманно, нули остались нулями, минуты округлились до целых чисел в большую сторону."
   ]
  },
  {
   "cell_type": "markdown",
   "metadata": {},
   "source": [
    "В датафрейме df_internet есть столбец 'Unnamed: 0' который дублирует индексацию. Удалим его."
   ]
  },
  {
   "cell_type": "code",
   "execution_count": 14,
   "metadata": {},
   "outputs": [
    {
     "name": "stdout",
     "output_type": "stream",
     "text": [
      "<class 'pandas.core.frame.DataFrame'>\n",
      "RangeIndex: 149396 entries, 0 to 149395\n",
      "Data columns (total 4 columns):\n",
      " #   Column        Non-Null Count   Dtype         \n",
      "---  ------        --------------   -----         \n",
      " 0   id            149396 non-null  object        \n",
      " 1   mb_used       149396 non-null  float64       \n",
      " 2   session_date  149396 non-null  datetime64[ns]\n",
      " 3   user_id       149396 non-null  int64         \n",
      "dtypes: datetime64[ns](1), float64(1), int64(1), object(1)\n",
      "memory usage: 4.6+ MB\n"
     ]
    }
   ],
   "source": [
    "del df_internet['Unnamed: 0']\n",
    "# для удаления столбца используем оператор del\n",
    "df_internet.info()\n",
    "# выведем общую информацию по датафрейму  df_internet "
   ]
  },
  {
   "cell_type": "markdown",
   "metadata": {},
   "source": [
    "<!-- Столбец Unnamed: 0 удален -->"
   ]
  },
  {
   "cell_type": "markdown",
   "metadata": {},
   "source": [
    "Столбец Unnamed: 0 удален, столбец session_date имеет тип данных datetime. Больше вопросов к этой таблице нет.\n",
    "\n",
    "С  таблицей df_messages и df_tariffs все впорядке.\n",
    "Пропущенные значения в столбце churn_date датафрейма df_users говорят о том, что тариф на момент выгрузки таблицы еще действовал. Так как по условию исследования вопросов в данном направлении нет, не будем трогать эти значения. \n",
    "\n",
    "Проверим только все таблицы на наличие явных дуликатов."
   ]
  },
  {
   "cell_type": "code",
   "execution_count": 15,
   "metadata": {},
   "outputs": [
    {
     "name": "stdout",
     "output_type": "stream",
     "text": [
      "0\n",
      "0\n",
      "0\n",
      "0\n"
     ]
    }
   ],
   "source": [
    "print(df_calls.duplicated().sum())\n",
    "print(df_messages.duplicated().sum())\n",
    "print(df_internet.duplicated().sum())\n",
    "print(df_users.duplicated().sum())\n",
    "# с помощью метода duplicated() проверим налачие явных дубликатов в каждом датафрейме\n",
    "# Что бы посчитать такие строки результаты метода передадим функции sum()"
   ]
  },
  {
   "cell_type": "markdown",
   "metadata": {},
   "source": [
    "Итак, значения в столбцах всех таблиц, связанных с датами я заменила на формат datetime. \n",
    "\n",
    "В таблице df_calls добавила столбец duration_ceil с округленными до минут в большую сторону значений длительности звонка(по условию проекта).\n",
    "\n",
    "В таблице df_internet удалила столбец Unnamed: 0, который дублировал индексацию. \n",
    "\n",
    "Так же проверила все датафреймы на наличие явных дубликатов(их нет). \n",
    "\n",
    "Пропущенные значения в столбце churn_date датафрейма df_users оставили без изменений, потому что эти данные для исследования не используются."
   ]
  },
  {
   "cell_type": "markdown",
   "metadata": {},
   "source": [
    "## Вычисление необходимых параметров"
   ]
  },
  {
   "cell_type": "markdown",
   "metadata": {},
   "source": [
    "Что бы расчитать необходимые данные по месяцам создадим в таблицах дополнительный столбец month в котором будет указан месяц в виде числа."
   ]
  },
  {
   "cell_type": "code",
   "execution_count": 16,
   "metadata": {},
   "outputs": [
    {
     "name": "stdout",
     "output_type": "stream",
     "text": [
      "       id  call_date  duration  user_id  duration_ceil  month\n",
      "0  1000_0 2018-07-25      0.00     1000              0      7\n",
      "1  1000_1 2018-08-17      0.00     1000              0      8\n",
      "2  1000_2 2018-06-11      2.85     1000              3      6\n",
      "3  1000_3 2018-09-21     13.80     1000             14      9\n",
      "4  1000_4 2018-12-15      5.18     1000              6     12\n",
      "       id  mb_used session_date  user_id  month\n",
      "0  1000_0   112.95   2018-11-25     1000     11\n",
      "1  1000_1  1052.81   2018-09-07     1000      9\n",
      "2  1000_2  1197.26   2018-06-25     1000      6\n",
      "3  1000_3   550.27   2018-08-22     1000      8\n",
      "4  1000_4   302.56   2018-09-24     1000      9\n",
      "       id message_date  user_id  month\n",
      "0  1000_0   2018-06-27     1000      6\n",
      "1  1000_1   2018-10-08     1000     10\n",
      "2  1000_2   2018-08-04     1000      8\n",
      "3  1000_3   2018-06-16     1000      6\n",
      "4  1000_4   2018-12-05     1000     12\n"
     ]
    }
   ],
   "source": [
    "df_calls['month'] = df_calls['call_date'].dt.month\n",
    "df_internet['month'] = df_internet['session_date'].dt.month\n",
    "df_messages['month'] = df_messages['message_date'].dt.month\n",
    "#месяц находят методом month\n",
    "print(df_calls.head())\n",
    "print(df_internet.head())\n",
    "print(df_messages.head())\n",
    "# выведем на экран 5 первых строк каждой таблицы"
   ]
  },
  {
   "cell_type": "markdown",
   "metadata": {},
   "source": [
    "Рассчитаем необходимы параметры для каждой таблицы"
   ]
  },
  {
   "cell_type": "code",
   "execution_count": 17,
   "metadata": {},
   "outputs": [
    {
     "data": {
      "text/html": [
       "<div>\n",
       "<style scoped>\n",
       "    .dataframe tbody tr th:only-of-type {\n",
       "        vertical-align: middle;\n",
       "    }\n",
       "\n",
       "    .dataframe tbody tr th {\n",
       "        vertical-align: top;\n",
       "    }\n",
       "\n",
       "    .dataframe thead th {\n",
       "        text-align: right;\n",
       "    }\n",
       "</style>\n",
       "<table border=\"1\" class=\"dataframe\">\n",
       "  <thead>\n",
       "    <tr style=\"text-align: right;\">\n",
       "      <th></th>\n",
       "      <th></th>\n",
       "      <th>calls_count</th>\n",
       "      <th>calls_duration_ceil</th>\n",
       "    </tr>\n",
       "    <tr>\n",
       "      <th>user_id</th>\n",
       "      <th>month</th>\n",
       "      <th></th>\n",
       "      <th></th>\n",
       "    </tr>\n",
       "  </thead>\n",
       "  <tbody>\n",
       "    <tr>\n",
       "      <th rowspan=\"5\" valign=\"top\">1000</th>\n",
       "      <th>5</th>\n",
       "      <td>22</td>\n",
       "      <td>159</td>\n",
       "    </tr>\n",
       "    <tr>\n",
       "      <th>6</th>\n",
       "      <td>43</td>\n",
       "      <td>172</td>\n",
       "    </tr>\n",
       "    <tr>\n",
       "      <th>7</th>\n",
       "      <td>47</td>\n",
       "      <td>340</td>\n",
       "    </tr>\n",
       "    <tr>\n",
       "      <th>8</th>\n",
       "      <td>52</td>\n",
       "      <td>408</td>\n",
       "    </tr>\n",
       "    <tr>\n",
       "      <th>9</th>\n",
       "      <td>58</td>\n",
       "      <td>466</td>\n",
       "    </tr>\n",
       "  </tbody>\n",
       "</table>\n",
       "</div>"
      ],
      "text/plain": [
       "               calls_count  calls_duration_ceil\n",
       "user_id month                                  \n",
       "1000    5               22                  159\n",
       "        6               43                  172\n",
       "        7               47                  340\n",
       "        8               52                  408\n",
       "        9               58                  466"
      ]
     },
     "execution_count": 17,
     "metadata": {},
     "output_type": "execute_result"
    }
   ],
   "source": [
    "df_calls_pivot = df_calls.pivot_table(index=['user_id', 'month'], aggfunc={'call_date':'count', 'duration_ceil':sum}) \n",
    "# создадим сводную таблицу df_calls_pivot с помощью метода pivot_table()\n",
    "# сгруппируем значения по столбцам user_id и month\n",
    "# посчитаем количество сделанных звонков и израсходованных минут по месяцам для каждого пользователя\n",
    "df_calls_pivot.columns = ['calls_count', 'calls_duration_ceil']\n",
    "# переименуем столбцы\n",
    "df_calls_pivot.head()\n",
    "# выведем первые 5 строк на экран"
   ]
  },
  {
   "cell_type": "code",
   "execution_count": 18,
   "metadata": {},
   "outputs": [
    {
     "data": {
      "text/html": [
       "<div>\n",
       "<style scoped>\n",
       "    .dataframe tbody tr th:only-of-type {\n",
       "        vertical-align: middle;\n",
       "    }\n",
       "\n",
       "    .dataframe tbody tr th {\n",
       "        vertical-align: top;\n",
       "    }\n",
       "\n",
       "    .dataframe thead th {\n",
       "        text-align: right;\n",
       "    }\n",
       "</style>\n",
       "<table border=\"1\" class=\"dataframe\">\n",
       "  <thead>\n",
       "    <tr style=\"text-align: right;\">\n",
       "      <th></th>\n",
       "      <th></th>\n",
       "      <th>traffic_month</th>\n",
       "    </tr>\n",
       "    <tr>\n",
       "      <th>user_id</th>\n",
       "      <th>month</th>\n",
       "      <th></th>\n",
       "    </tr>\n",
       "  </thead>\n",
       "  <tbody>\n",
       "    <tr>\n",
       "      <th rowspan=\"5\" valign=\"top\">1000</th>\n",
       "      <th>5</th>\n",
       "      <td>2253.49</td>\n",
       "    </tr>\n",
       "    <tr>\n",
       "      <th>6</th>\n",
       "      <td>23233.77</td>\n",
       "    </tr>\n",
       "    <tr>\n",
       "      <th>7</th>\n",
       "      <td>14003.64</td>\n",
       "    </tr>\n",
       "    <tr>\n",
       "      <th>8</th>\n",
       "      <td>14055.93</td>\n",
       "    </tr>\n",
       "    <tr>\n",
       "      <th>9</th>\n",
       "      <td>14568.91</td>\n",
       "    </tr>\n",
       "  </tbody>\n",
       "</table>\n",
       "</div>"
      ],
      "text/plain": [
       "               traffic_month\n",
       "user_id month               \n",
       "1000    5            2253.49\n",
       "        6           23233.77\n",
       "        7           14003.64\n",
       "        8           14055.93\n",
       "        9           14568.91"
      ]
     },
     "execution_count": 18,
     "metadata": {},
     "output_type": "execute_result"
    }
   ],
   "source": [
    "df_internet_pivot = df_internet.pivot_table(index=['user_id', 'month'], aggfunc={'mb_used':sum}) \n",
    "# создадим сводную таблицу df_internet_pivot с помощью метода pivot_table()\n",
    "# сгруппируем значения по столбцам user_id и month\n",
    "# посчитаем количество израсходованного интернет трафика по месяцам для каждого пользователя\n",
    "df_internet_pivot.columns = ['traffic_month']\n",
    "# переименуем столбец изпользуя метод columns\n",
    "df_internet_pivot.head()\n",
    "# выведем первые 5 строк на экран"
   ]
  },
  {
   "cell_type": "code",
   "execution_count": 19,
   "metadata": {},
   "outputs": [
    {
     "data": {
      "text/html": [
       "<div>\n",
       "<style scoped>\n",
       "    .dataframe tbody tr th:only-of-type {\n",
       "        vertical-align: middle;\n",
       "    }\n",
       "\n",
       "    .dataframe tbody tr th {\n",
       "        vertical-align: top;\n",
       "    }\n",
       "\n",
       "    .dataframe thead th {\n",
       "        text-align: right;\n",
       "    }\n",
       "</style>\n",
       "<table border=\"1\" class=\"dataframe\">\n",
       "  <thead>\n",
       "    <tr style=\"text-align: right;\">\n",
       "      <th></th>\n",
       "      <th></th>\n",
       "      <th>messages_count</th>\n",
       "    </tr>\n",
       "    <tr>\n",
       "      <th>user_id</th>\n",
       "      <th>month</th>\n",
       "      <th></th>\n",
       "    </tr>\n",
       "  </thead>\n",
       "  <tbody>\n",
       "    <tr>\n",
       "      <th rowspan=\"5\" valign=\"top\">1000</th>\n",
       "      <th>5</th>\n",
       "      <td>22</td>\n",
       "    </tr>\n",
       "    <tr>\n",
       "      <th>6</th>\n",
       "      <td>60</td>\n",
       "    </tr>\n",
       "    <tr>\n",
       "      <th>7</th>\n",
       "      <td>75</td>\n",
       "    </tr>\n",
       "    <tr>\n",
       "      <th>8</th>\n",
       "      <td>81</td>\n",
       "    </tr>\n",
       "    <tr>\n",
       "      <th>9</th>\n",
       "      <td>57</td>\n",
       "    </tr>\n",
       "  </tbody>\n",
       "</table>\n",
       "</div>"
      ],
      "text/plain": [
       "               messages_count\n",
       "user_id month                \n",
       "1000    5                  22\n",
       "        6                  60\n",
       "        7                  75\n",
       "        8                  81\n",
       "        9                  57"
      ]
     },
     "execution_count": 19,
     "metadata": {},
     "output_type": "execute_result"
    }
   ],
   "source": [
    "df_messages_pivot = df_messages.pivot_table(index=['user_id', 'month'], aggfunc={'id':'count'})\n",
    "# создадим сводную таблицу df_messages_pivot с помощью метода pivot_table()\n",
    "# сгруппируем значения по столбцам user_id и month\n",
    "# посчитаем количество отправленных сообщений по месяцам для каждого пользователя\n",
    "df_messages_pivot.columns = ['messages_count']\n",
    "# переименуем столбец изпользуя метод columns\n",
    "df_messages_pivot.head()\n",
    "# выведем первые 5 строк на экран"
   ]
  },
  {
   "cell_type": "markdown",
   "metadata": {},
   "source": [
    "Теперь необходимо вычислить помесячную выручку с каждого пользователя"
   ]
  },
  {
   "cell_type": "code",
   "execution_count": 20,
   "metadata": {},
   "outputs": [
    {
     "name": "stdout",
     "output_type": "stream",
     "text": [
      "<class 'pandas.core.frame.DataFrame'>\n",
      "Int64Index: 3214 entries, 1000 to 1499\n",
      "Data columns (total 5 columns):\n",
      " #   Column               Non-Null Count  Dtype  \n",
      "---  ------               --------------  -----  \n",
      " 0   month                3214 non-null   int64  \n",
      " 1   traffic_month        3203 non-null   float64\n",
      " 2   calls_count          3174 non-null   float64\n",
      " 3   calls_duration_ceil  3174 non-null   float64\n",
      " 4   messages_count       2717 non-null   float64\n",
      "dtypes: float64(4), int64(1)\n",
      "memory usage: 150.7 KB\n"
     ]
    }
   ],
   "source": [
    "df_calculation_pivot = df_internet_pivot.join([df_calls_pivot, df_messages_pivot],how='outer').reset_index(level='month')\n",
    "# объединим все таблицы с рассчетами в  таблицу df_calculation_pivot\n",
    "# сбросим индекс month для последующего объединения с df_users\n",
    "\n",
    "df_calculation_pivot.head()\n",
    "# выведем на экран 5 первых строк таблицы df_calculation_pivot\n",
    "df_calculation_pivot.info()"
   ]
  },
  {
   "cell_type": "code",
   "execution_count": 21,
   "metadata": {},
   "outputs": [
    {
     "data": {
      "text/html": [
       "<div>\n",
       "<style scoped>\n",
       "    .dataframe tbody tr th:only-of-type {\n",
       "        vertical-align: middle;\n",
       "    }\n",
       "\n",
       "    .dataframe tbody tr th {\n",
       "        vertical-align: top;\n",
       "    }\n",
       "\n",
       "    .dataframe thead th {\n",
       "        text-align: right;\n",
       "    }\n",
       "</style>\n",
       "<table border=\"1\" class=\"dataframe\">\n",
       "  <thead>\n",
       "    <tr style=\"text-align: right;\">\n",
       "      <th></th>\n",
       "      <th>user_id</th>\n",
       "      <th>age</th>\n",
       "      <th>churn_date</th>\n",
       "      <th>city</th>\n",
       "      <th>first_name</th>\n",
       "      <th>last_name</th>\n",
       "      <th>reg_date</th>\n",
       "      <th>tariff</th>\n",
       "      <th>month</th>\n",
       "      <th>traffic_month</th>\n",
       "      <th>calls_count</th>\n",
       "      <th>calls_duration_ceil</th>\n",
       "      <th>messages_count</th>\n",
       "    </tr>\n",
       "  </thead>\n",
       "  <tbody>\n",
       "    <tr>\n",
       "      <th>0</th>\n",
       "      <td>1000</td>\n",
       "      <td>52</td>\n",
       "      <td>NaN</td>\n",
       "      <td>Краснодар</td>\n",
       "      <td>Рафаил</td>\n",
       "      <td>Верещагин</td>\n",
       "      <td>2018-05-25</td>\n",
       "      <td>ultra</td>\n",
       "      <td>5.0</td>\n",
       "      <td>2253.49</td>\n",
       "      <td>22.0</td>\n",
       "      <td>159.0</td>\n",
       "      <td>22.0</td>\n",
       "    </tr>\n",
       "    <tr>\n",
       "      <th>0</th>\n",
       "      <td>1000</td>\n",
       "      <td>52</td>\n",
       "      <td>NaN</td>\n",
       "      <td>Краснодар</td>\n",
       "      <td>Рафаил</td>\n",
       "      <td>Верещагин</td>\n",
       "      <td>2018-05-25</td>\n",
       "      <td>ultra</td>\n",
       "      <td>6.0</td>\n",
       "      <td>23233.77</td>\n",
       "      <td>43.0</td>\n",
       "      <td>172.0</td>\n",
       "      <td>60.0</td>\n",
       "    </tr>\n",
       "    <tr>\n",
       "      <th>0</th>\n",
       "      <td>1000</td>\n",
       "      <td>52</td>\n",
       "      <td>NaN</td>\n",
       "      <td>Краснодар</td>\n",
       "      <td>Рафаил</td>\n",
       "      <td>Верещагин</td>\n",
       "      <td>2018-05-25</td>\n",
       "      <td>ultra</td>\n",
       "      <td>7.0</td>\n",
       "      <td>14003.64</td>\n",
       "      <td>47.0</td>\n",
       "      <td>340.0</td>\n",
       "      <td>75.0</td>\n",
       "    </tr>\n",
       "    <tr>\n",
       "      <th>0</th>\n",
       "      <td>1000</td>\n",
       "      <td>52</td>\n",
       "      <td>NaN</td>\n",
       "      <td>Краснодар</td>\n",
       "      <td>Рафаил</td>\n",
       "      <td>Верещагин</td>\n",
       "      <td>2018-05-25</td>\n",
       "      <td>ultra</td>\n",
       "      <td>8.0</td>\n",
       "      <td>14055.93</td>\n",
       "      <td>52.0</td>\n",
       "      <td>408.0</td>\n",
       "      <td>81.0</td>\n",
       "    </tr>\n",
       "    <tr>\n",
       "      <th>0</th>\n",
       "      <td>1000</td>\n",
       "      <td>52</td>\n",
       "      <td>NaN</td>\n",
       "      <td>Краснодар</td>\n",
       "      <td>Рафаил</td>\n",
       "      <td>Верещагин</td>\n",
       "      <td>2018-05-25</td>\n",
       "      <td>ultra</td>\n",
       "      <td>9.0</td>\n",
       "      <td>14568.91</td>\n",
       "      <td>58.0</td>\n",
       "      <td>466.0</td>\n",
       "      <td>57.0</td>\n",
       "    </tr>\n",
       "  </tbody>\n",
       "</table>\n",
       "</div>"
      ],
      "text/plain": [
       "   user_id  age churn_date       city first_name  last_name   reg_date tariff  \\\n",
       "0     1000   52        NaN  Краснодар     Рафаил  Верещагин 2018-05-25  ultra   \n",
       "0     1000   52        NaN  Краснодар     Рафаил  Верещагин 2018-05-25  ultra   \n",
       "0     1000   52        NaN  Краснодар     Рафаил  Верещагин 2018-05-25  ultra   \n",
       "0     1000   52        NaN  Краснодар     Рафаил  Верещагин 2018-05-25  ultra   \n",
       "0     1000   52        NaN  Краснодар     Рафаил  Верещагин 2018-05-25  ultra   \n",
       "\n",
       "   month  traffic_month  calls_count  calls_duration_ceil  messages_count  \n",
       "0    5.0        2253.49         22.0                159.0            22.0  \n",
       "0    6.0       23233.77         43.0                172.0            60.0  \n",
       "0    7.0       14003.64         47.0                340.0            75.0  \n",
       "0    8.0       14055.93         52.0                408.0            81.0  \n",
       "0    9.0       14568.91         58.0                466.0            57.0  "
      ]
     },
     "execution_count": 21,
     "metadata": {},
     "output_type": "execute_result"
    }
   ],
   "source": [
    "df_users_calc_pivot = df_users.join(df_calculation_pivot, on='user_id')\n",
    "# объединим таблицу с рассчетами с таблицей о пользователях в  таблицу df_users_calc_pivot\n",
    "df_users_calc_pivot.head()\n",
    "# выведем на экран 5 первых строк "
   ]
  },
  {
   "cell_type": "code",
   "execution_count": 22,
   "metadata": {},
   "outputs": [],
   "source": [
    "df_users_calc_pivot = df_users_calc_pivot.drop(['churn_date', 'first_name', 'last_name', 'reg_date'], axis='columns')\n",
    "#удалим ненужные нам для исследования столбцы\n"
   ]
  },
  {
   "cell_type": "code",
   "execution_count": 23,
   "metadata": {},
   "outputs": [
    {
     "data": {
      "text/html": [
       "<div>\n",
       "<style scoped>\n",
       "    .dataframe tbody tr th:only-of-type {\n",
       "        vertical-align: middle;\n",
       "    }\n",
       "\n",
       "    .dataframe tbody tr th {\n",
       "        vertical-align: top;\n",
       "    }\n",
       "\n",
       "    .dataframe thead th {\n",
       "        text-align: right;\n",
       "    }\n",
       "</style>\n",
       "<table border=\"1\" class=\"dataframe\">\n",
       "  <thead>\n",
       "    <tr style=\"text-align: right;\">\n",
       "      <th></th>\n",
       "      <th>user_id</th>\n",
       "      <th>age</th>\n",
       "      <th>city</th>\n",
       "      <th>tariff_name</th>\n",
       "      <th>month</th>\n",
       "      <th>traffic_month</th>\n",
       "      <th>calls_count</th>\n",
       "      <th>calls_duration_ceil</th>\n",
       "      <th>messages_count</th>\n",
       "    </tr>\n",
       "  </thead>\n",
       "  <tbody>\n",
       "    <tr>\n",
       "      <th>0</th>\n",
       "      <td>1000</td>\n",
       "      <td>52</td>\n",
       "      <td>Краснодар</td>\n",
       "      <td>ultra</td>\n",
       "      <td>5.0</td>\n",
       "      <td>2253.49</td>\n",
       "      <td>22.0</td>\n",
       "      <td>159.0</td>\n",
       "      <td>22.0</td>\n",
       "    </tr>\n",
       "    <tr>\n",
       "      <th>0</th>\n",
       "      <td>1000</td>\n",
       "      <td>52</td>\n",
       "      <td>Краснодар</td>\n",
       "      <td>ultra</td>\n",
       "      <td>6.0</td>\n",
       "      <td>23233.77</td>\n",
       "      <td>43.0</td>\n",
       "      <td>172.0</td>\n",
       "      <td>60.0</td>\n",
       "    </tr>\n",
       "    <tr>\n",
       "      <th>0</th>\n",
       "      <td>1000</td>\n",
       "      <td>52</td>\n",
       "      <td>Краснодар</td>\n",
       "      <td>ultra</td>\n",
       "      <td>7.0</td>\n",
       "      <td>14003.64</td>\n",
       "      <td>47.0</td>\n",
       "      <td>340.0</td>\n",
       "      <td>75.0</td>\n",
       "    </tr>\n",
       "    <tr>\n",
       "      <th>0</th>\n",
       "      <td>1000</td>\n",
       "      <td>52</td>\n",
       "      <td>Краснодар</td>\n",
       "      <td>ultra</td>\n",
       "      <td>8.0</td>\n",
       "      <td>14055.93</td>\n",
       "      <td>52.0</td>\n",
       "      <td>408.0</td>\n",
       "      <td>81.0</td>\n",
       "    </tr>\n",
       "    <tr>\n",
       "      <th>0</th>\n",
       "      <td>1000</td>\n",
       "      <td>52</td>\n",
       "      <td>Краснодар</td>\n",
       "      <td>ultra</td>\n",
       "      <td>9.0</td>\n",
       "      <td>14568.91</td>\n",
       "      <td>58.0</td>\n",
       "      <td>466.0</td>\n",
       "      <td>57.0</td>\n",
       "    </tr>\n",
       "  </tbody>\n",
       "</table>\n",
       "</div>"
      ],
      "text/plain": [
       "   user_id  age       city tariff_name  month  traffic_month  calls_count  \\\n",
       "0     1000   52  Краснодар       ultra    5.0        2253.49         22.0   \n",
       "0     1000   52  Краснодар       ultra    6.0       23233.77         43.0   \n",
       "0     1000   52  Краснодар       ultra    7.0       14003.64         47.0   \n",
       "0     1000   52  Краснодар       ultra    8.0       14055.93         52.0   \n",
       "0     1000   52  Краснодар       ultra    9.0       14568.91         58.0   \n",
       "\n",
       "   calls_duration_ceil  messages_count  \n",
       "0                159.0            22.0  \n",
       "0                172.0            60.0  \n",
       "0                340.0            75.0  \n",
       "0                408.0            81.0  \n",
       "0                466.0            57.0  "
      ]
     },
     "execution_count": 23,
     "metadata": {},
     "output_type": "execute_result"
    }
   ],
   "source": [
    "df_users_calc_pivot =  df_users_calc_pivot.rename(columns={'tariff':'tariff_name'})\n",
    "# переименуем столбец tariff в tariff_name с помощью метода rename() \n",
    "df_users_calc_pivot.head()\n",
    "# выведем на экран 5 первых строк"
   ]
  },
  {
   "cell_type": "code",
   "execution_count": 24,
   "metadata": {},
   "outputs": [
    {
     "data": {
      "text/html": [
       "<div>\n",
       "<style scoped>\n",
       "    .dataframe tbody tr th:only-of-type {\n",
       "        vertical-align: middle;\n",
       "    }\n",
       "\n",
       "    .dataframe tbody tr th {\n",
       "        vertical-align: top;\n",
       "    }\n",
       "\n",
       "    .dataframe thead th {\n",
       "        text-align: right;\n",
       "    }\n",
       "</style>\n",
       "<table border=\"1\" class=\"dataframe\">\n",
       "  <thead>\n",
       "    <tr style=\"text-align: right;\">\n",
       "      <th></th>\n",
       "      <th>user_id</th>\n",
       "      <th>age</th>\n",
       "      <th>city</th>\n",
       "      <th>tariff_name</th>\n",
       "      <th>month</th>\n",
       "      <th>traffic_month</th>\n",
       "      <th>calls_count</th>\n",
       "      <th>calls_duration_ceil</th>\n",
       "      <th>messages_count</th>\n",
       "      <th>messages_included</th>\n",
       "      <th>mb_per_month_included</th>\n",
       "      <th>minutes_included</th>\n",
       "      <th>rub_monthly_fee</th>\n",
       "      <th>rub_per_gb</th>\n",
       "      <th>rub_per_message</th>\n",
       "      <th>rub_per_minute</th>\n",
       "    </tr>\n",
       "  </thead>\n",
       "  <tbody>\n",
       "    <tr>\n",
       "      <th>0</th>\n",
       "      <td>1000</td>\n",
       "      <td>52</td>\n",
       "      <td>Краснодар</td>\n",
       "      <td>ultra</td>\n",
       "      <td>5.0</td>\n",
       "      <td>2253.49</td>\n",
       "      <td>22.0</td>\n",
       "      <td>159.0</td>\n",
       "      <td>22.0</td>\n",
       "      <td>1000</td>\n",
       "      <td>30720</td>\n",
       "      <td>3000</td>\n",
       "      <td>1950</td>\n",
       "      <td>150</td>\n",
       "      <td>1</td>\n",
       "      <td>1</td>\n",
       "    </tr>\n",
       "    <tr>\n",
       "      <th>1</th>\n",
       "      <td>1000</td>\n",
       "      <td>52</td>\n",
       "      <td>Краснодар</td>\n",
       "      <td>ultra</td>\n",
       "      <td>6.0</td>\n",
       "      <td>23233.77</td>\n",
       "      <td>43.0</td>\n",
       "      <td>172.0</td>\n",
       "      <td>60.0</td>\n",
       "      <td>1000</td>\n",
       "      <td>30720</td>\n",
       "      <td>3000</td>\n",
       "      <td>1950</td>\n",
       "      <td>150</td>\n",
       "      <td>1</td>\n",
       "      <td>1</td>\n",
       "    </tr>\n",
       "    <tr>\n",
       "      <th>2</th>\n",
       "      <td>1000</td>\n",
       "      <td>52</td>\n",
       "      <td>Краснодар</td>\n",
       "      <td>ultra</td>\n",
       "      <td>7.0</td>\n",
       "      <td>14003.64</td>\n",
       "      <td>47.0</td>\n",
       "      <td>340.0</td>\n",
       "      <td>75.0</td>\n",
       "      <td>1000</td>\n",
       "      <td>30720</td>\n",
       "      <td>3000</td>\n",
       "      <td>1950</td>\n",
       "      <td>150</td>\n",
       "      <td>1</td>\n",
       "      <td>1</td>\n",
       "    </tr>\n",
       "    <tr>\n",
       "      <th>3</th>\n",
       "      <td>1000</td>\n",
       "      <td>52</td>\n",
       "      <td>Краснодар</td>\n",
       "      <td>ultra</td>\n",
       "      <td>8.0</td>\n",
       "      <td>14055.93</td>\n",
       "      <td>52.0</td>\n",
       "      <td>408.0</td>\n",
       "      <td>81.0</td>\n",
       "      <td>1000</td>\n",
       "      <td>30720</td>\n",
       "      <td>3000</td>\n",
       "      <td>1950</td>\n",
       "      <td>150</td>\n",
       "      <td>1</td>\n",
       "      <td>1</td>\n",
       "    </tr>\n",
       "    <tr>\n",
       "      <th>4</th>\n",
       "      <td>1000</td>\n",
       "      <td>52</td>\n",
       "      <td>Краснодар</td>\n",
       "      <td>ultra</td>\n",
       "      <td>9.0</td>\n",
       "      <td>14568.91</td>\n",
       "      <td>58.0</td>\n",
       "      <td>466.0</td>\n",
       "      <td>57.0</td>\n",
       "      <td>1000</td>\n",
       "      <td>30720</td>\n",
       "      <td>3000</td>\n",
       "      <td>1950</td>\n",
       "      <td>150</td>\n",
       "      <td>1</td>\n",
       "      <td>1</td>\n",
       "    </tr>\n",
       "  </tbody>\n",
       "</table>\n",
       "</div>"
      ],
      "text/plain": [
       "   user_id  age       city tariff_name  month  traffic_month  calls_count  \\\n",
       "0     1000   52  Краснодар       ultra    5.0        2253.49         22.0   \n",
       "1     1000   52  Краснодар       ultra    6.0       23233.77         43.0   \n",
       "2     1000   52  Краснодар       ultra    7.0       14003.64         47.0   \n",
       "3     1000   52  Краснодар       ultra    8.0       14055.93         52.0   \n",
       "4     1000   52  Краснодар       ultra    9.0       14568.91         58.0   \n",
       "\n",
       "   calls_duration_ceil  messages_count  messages_included  \\\n",
       "0                159.0            22.0               1000   \n",
       "1                172.0            60.0               1000   \n",
       "2                340.0            75.0               1000   \n",
       "3                408.0            81.0               1000   \n",
       "4                466.0            57.0               1000   \n",
       "\n",
       "   mb_per_month_included  minutes_included  rub_monthly_fee  rub_per_gb  \\\n",
       "0                  30720              3000             1950         150   \n",
       "1                  30720              3000             1950         150   \n",
       "2                  30720              3000             1950         150   \n",
       "3                  30720              3000             1950         150   \n",
       "4                  30720              3000             1950         150   \n",
       "\n",
       "   rub_per_message  rub_per_minute  \n",
       "0                1               1  \n",
       "1                1               1  \n",
       "2                1               1  \n",
       "3                1               1  \n",
       "4                1               1  "
      ]
     },
     "execution_count": 24,
     "metadata": {},
     "output_type": "execute_result"
    }
   ],
   "source": [
    "df_users_calc_pivot =df_users_calc_pivot.merge(df_tariffs, on='tariff_name')\n",
    "# склеим две таблицы с расчетами и с данными о тарифе в одну с помощью метода merge() по столбцу tariff_name\n",
    "df_users_calc_pivot.head()\n",
    "# выведем на экран 5 первых строк"
   ]
  },
  {
   "cell_type": "code",
   "execution_count": 25,
   "metadata": {},
   "outputs": [
    {
     "data": {
      "text/plain": [
       "user_id                    0\n",
       "age                        0\n",
       "city                       0\n",
       "tariff_name                0\n",
       "month                      2\n",
       "traffic_month             13\n",
       "calls_count               42\n",
       "calls_duration_ceil       42\n",
       "messages_count           499\n",
       "messages_included          0\n",
       "mb_per_month_included      0\n",
       "minutes_included           0\n",
       "rub_monthly_fee            0\n",
       "rub_per_gb                 0\n",
       "rub_per_message            0\n",
       "rub_per_minute             0\n",
       "dtype: int64"
      ]
     },
     "execution_count": 25,
     "metadata": {},
     "output_type": "execute_result"
    }
   ],
   "source": [
    "df_users_calc_pivot.isna().sum()\n",
    "#посчитаем количество пропусков в полученной таблице с помощью метода isna()"
   ]
  },
  {
   "cell_type": "markdown",
   "metadata": {},
   "source": [
    "Данные пропуски образовались в результате объединения таблиц, так как количество значений в таблицах различались."
   ]
  },
  {
   "cell_type": "code",
   "execution_count": 26,
   "metadata": {},
   "outputs": [
    {
     "data": {
      "text/html": [
       "<div>\n",
       "<style scoped>\n",
       "    .dataframe tbody tr th:only-of-type {\n",
       "        vertical-align: middle;\n",
       "    }\n",
       "\n",
       "    .dataframe tbody tr th {\n",
       "        vertical-align: top;\n",
       "    }\n",
       "\n",
       "    .dataframe thead th {\n",
       "        text-align: right;\n",
       "    }\n",
       "</style>\n",
       "<table border=\"1\" class=\"dataframe\">\n",
       "  <thead>\n",
       "    <tr style=\"text-align: right;\">\n",
       "      <th></th>\n",
       "      <th>user_id</th>\n",
       "      <th>age</th>\n",
       "      <th>city</th>\n",
       "      <th>tariff_name</th>\n",
       "      <th>month</th>\n",
       "      <th>traffic_month</th>\n",
       "      <th>calls_count</th>\n",
       "      <th>calls_duration_ceil</th>\n",
       "      <th>messages_count</th>\n",
       "      <th>messages_included</th>\n",
       "      <th>mb_per_month_included</th>\n",
       "      <th>minutes_included</th>\n",
       "      <th>rub_monthly_fee</th>\n",
       "      <th>rub_per_gb</th>\n",
       "      <th>rub_per_message</th>\n",
       "      <th>rub_per_minute</th>\n",
       "    </tr>\n",
       "  </thead>\n",
       "  <tbody>\n",
       "    <tr>\n",
       "      <th>243</th>\n",
       "      <td>1128</td>\n",
       "      <td>51</td>\n",
       "      <td>Волжский</td>\n",
       "      <td>ultra</td>\n",
       "      <td>NaN</td>\n",
       "      <td>NaN</td>\n",
       "      <td>NaN</td>\n",
       "      <td>NaN</td>\n",
       "      <td>NaN</td>\n",
       "      <td>1000</td>\n",
       "      <td>30720</td>\n",
       "      <td>3000</td>\n",
       "      <td>1950</td>\n",
       "      <td>150</td>\n",
       "      <td>1</td>\n",
       "      <td>1</td>\n",
       "    </tr>\n",
       "    <tr>\n",
       "      <th>2619</th>\n",
       "      <td>1371</td>\n",
       "      <td>50</td>\n",
       "      <td>Омск</td>\n",
       "      <td>smart</td>\n",
       "      <td>NaN</td>\n",
       "      <td>NaN</td>\n",
       "      <td>NaN</td>\n",
       "      <td>NaN</td>\n",
       "      <td>NaN</td>\n",
       "      <td>50</td>\n",
       "      <td>15360</td>\n",
       "      <td>500</td>\n",
       "      <td>550</td>\n",
       "      <td>200</td>\n",
       "      <td>3</td>\n",
       "      <td>3</td>\n",
       "    </tr>\n",
       "  </tbody>\n",
       "</table>\n",
       "</div>"
      ],
      "text/plain": [
       "      user_id  age      city tariff_name  month  traffic_month  calls_count  \\\n",
       "243      1128   51  Волжский       ultra    NaN            NaN          NaN   \n",
       "2619     1371   50      Омск       smart    NaN            NaN          NaN   \n",
       "\n",
       "      calls_duration_ceil  messages_count  messages_included  \\\n",
       "243                   NaN             NaN               1000   \n",
       "2619                  NaN             NaN                 50   \n",
       "\n",
       "      mb_per_month_included  minutes_included  rub_monthly_fee  rub_per_gb  \\\n",
       "243                   30720              3000             1950         150   \n",
       "2619                  15360               500              550         200   \n",
       "\n",
       "      rub_per_message  rub_per_minute  \n",
       "243                 1               1  \n",
       "2619                3               3  "
      ]
     },
     "execution_count": 26,
     "metadata": {},
     "output_type": "execute_result"
    }
   ],
   "source": [
    "df_users_calc_pivot[df_users_calc_pivot['month'].isna()]\n",
    "# Посмотрим пропущенные значения в столбце month"
   ]
  },
  {
   "cell_type": "markdown",
   "metadata": {},
   "source": [
    "Так как в этих строках нет никакой значимой информации для исследования, удалим их."
   ]
  },
  {
   "cell_type": "code",
   "execution_count": 27,
   "metadata": {},
   "outputs": [],
   "source": [
    "df_users_calc_pivot = df_users_calc_pivot.dropna(subset=['month'])\n",
    "# удалим строки с пропуском в столбце month с помощью метода dropna()"
   ]
  },
  {
   "cell_type": "code",
   "execution_count": 28,
   "metadata": {},
   "outputs": [],
   "source": [
    "df_users_calc_pivot = df_users_calc_pivot.fillna(0)\n",
    "#остальные пропуски заменим с помощью метода fillna() на 0"
   ]
  },
  {
   "cell_type": "code",
   "execution_count": 29,
   "metadata": {},
   "outputs": [
    {
     "data": {
      "text/plain": [
       "user_id                  0\n",
       "age                      0\n",
       "city                     0\n",
       "tariff_name              0\n",
       "month                    0\n",
       "traffic_month            0\n",
       "calls_count              0\n",
       "calls_duration_ceil      0\n",
       "messages_count           0\n",
       "messages_included        0\n",
       "mb_per_month_included    0\n",
       "minutes_included         0\n",
       "rub_monthly_fee          0\n",
       "rub_per_gb               0\n",
       "rub_per_message          0\n",
       "rub_per_minute           0\n",
       "dtype: int64"
      ]
     },
     "execution_count": 29,
     "metadata": {},
     "output_type": "execute_result"
    }
   ],
   "source": [
    "df_users_calc_pivot.isna().sum()\n",
    "#проверим количество пропусков в полученной таблице с помощью метода isna()"
   ]
  },
  {
   "cell_type": "code",
   "execution_count": 30,
   "metadata": {},
   "outputs": [],
   "source": [
    "def money_spent_per_month(row):\n",
    "# создам функцию, которая посчитает затраченную сумму по месяцам для каждого пользователя\n",
    "# зададим переменные    \n",
    "    main_minutes = 0\n",
    "    main_sms = 0\n",
    "    main_traffic = 0\n",
    "    minutes = row['calls_duration_ceil']\n",
    "    sms = row['messages_count']\n",
    "    traffic = row['traffic_month']\n",
    "    tariff = row['tariff_name']\n",
    "    minutes_limit = row['minutes_included']\n",
    "    sms_limit = row['messages_included']\n",
    "    traffic_limit = row['mb_per_month_included']\n",
    "    monthly_fee = row['rub_monthly_fee']\n",
    "    rub_per_gb = row['rub_per_gb']\n",
    "    rub_per_message = row['rub_per_message']\n",
    "    rub_per_minute = row['rub_per_minute']\n",
    "\n",
    "# зададим условия расчета помесячной выручки с каждого пользователя\n",
    "# вычту бесплатный лимит из сумарного количества звонков, сообщений и интернет-трафика\n",
    "# остаток умножу на значения из тарифного плана\n",
    "# прибавлю абонентскую плату, соответствующую тарифу\n",
    "    if minutes > minutes_limit:\n",
    "        main_minutes += (minutes - minutes_limit) * rub_per_minute\n",
    "    if minutes < minutes_limit:\n",
    "        main_minutes = 0\n",
    "    if sms > sms_limit:\n",
    "        main_sms += (sms - sms_limit) * rub_per_message\n",
    "    if sms < sms_limit:\n",
    "        main_sms = 0\n",
    "    if traffic > traffic_limit:\n",
    "        main_traffic += (np.ceil((traffic - traffic_limit) / 1024 )) * rub_per_gb\n",
    "        \n",
    "    if traffic < traffic_limit:\n",
    "        main_traffic = 0\n",
    "\n",
    "        \n",
    "    return main_minutes + main_sms + main_traffic + monthly_fee"
   ]
  },
  {
   "cell_type": "code",
   "execution_count": 31,
   "metadata": {
    "scrolled": true
   },
   "outputs": [
    {
     "data": {
      "text/html": [
       "<div>\n",
       "<style scoped>\n",
       "    .dataframe tbody tr th:only-of-type {\n",
       "        vertical-align: middle;\n",
       "    }\n",
       "\n",
       "    .dataframe tbody tr th {\n",
       "        vertical-align: top;\n",
       "    }\n",
       "\n",
       "    .dataframe thead th {\n",
       "        text-align: right;\n",
       "    }\n",
       "</style>\n",
       "<table border=\"1\" class=\"dataframe\">\n",
       "  <thead>\n",
       "    <tr style=\"text-align: right;\">\n",
       "      <th></th>\n",
       "      <th>user_id</th>\n",
       "      <th>age</th>\n",
       "      <th>city</th>\n",
       "      <th>tariff_name</th>\n",
       "      <th>month</th>\n",
       "      <th>traffic_month</th>\n",
       "      <th>calls_count</th>\n",
       "      <th>calls_duration_ceil</th>\n",
       "      <th>messages_count</th>\n",
       "      <th>messages_included</th>\n",
       "      <th>mb_per_month_included</th>\n",
       "      <th>minutes_included</th>\n",
       "      <th>rub_monthly_fee</th>\n",
       "      <th>rub_per_gb</th>\n",
       "      <th>rub_per_message</th>\n",
       "      <th>rub_per_minute</th>\n",
       "      <th>total_sum_month</th>\n",
       "    </tr>\n",
       "  </thead>\n",
       "  <tbody>\n",
       "    <tr>\n",
       "      <th>3211</th>\n",
       "      <td>1498</td>\n",
       "      <td>68</td>\n",
       "      <td>Владикавказ</td>\n",
       "      <td>smart</td>\n",
       "      <td>10.0</td>\n",
       "      <td>20579.36</td>\n",
       "      <td>41.0</td>\n",
       "      <td>247.0</td>\n",
       "      <td>42.0</td>\n",
       "      <td>50</td>\n",
       "      <td>15360</td>\n",
       "      <td>500</td>\n",
       "      <td>550</td>\n",
       "      <td>200</td>\n",
       "      <td>3</td>\n",
       "      <td>3</td>\n",
       "      <td>1750.0</td>\n",
       "    </tr>\n",
       "    <tr>\n",
       "      <th>3212</th>\n",
       "      <td>1499</td>\n",
       "      <td>35</td>\n",
       "      <td>Пермь</td>\n",
       "      <td>smart</td>\n",
       "      <td>9.0</td>\n",
       "      <td>1845.75</td>\n",
       "      <td>9.0</td>\n",
       "      <td>70.0</td>\n",
       "      <td>11.0</td>\n",
       "      <td>50</td>\n",
       "      <td>15360</td>\n",
       "      <td>500</td>\n",
       "      <td>550</td>\n",
       "      <td>200</td>\n",
       "      <td>3</td>\n",
       "      <td>3</td>\n",
       "      <td>550.0</td>\n",
       "    </tr>\n",
       "    <tr>\n",
       "      <th>3213</th>\n",
       "      <td>1499</td>\n",
       "      <td>35</td>\n",
       "      <td>Пермь</td>\n",
       "      <td>smart</td>\n",
       "      <td>10.0</td>\n",
       "      <td>17788.51</td>\n",
       "      <td>68.0</td>\n",
       "      <td>449.0</td>\n",
       "      <td>48.0</td>\n",
       "      <td>50</td>\n",
       "      <td>15360</td>\n",
       "      <td>500</td>\n",
       "      <td>550</td>\n",
       "      <td>200</td>\n",
       "      <td>3</td>\n",
       "      <td>3</td>\n",
       "      <td>1150.0</td>\n",
       "    </tr>\n",
       "    <tr>\n",
       "      <th>3214</th>\n",
       "      <td>1499</td>\n",
       "      <td>35</td>\n",
       "      <td>Пермь</td>\n",
       "      <td>smart</td>\n",
       "      <td>11.0</td>\n",
       "      <td>17963.31</td>\n",
       "      <td>74.0</td>\n",
       "      <td>612.0</td>\n",
       "      <td>59.0</td>\n",
       "      <td>50</td>\n",
       "      <td>15360</td>\n",
       "      <td>500</td>\n",
       "      <td>550</td>\n",
       "      <td>200</td>\n",
       "      <td>3</td>\n",
       "      <td>3</td>\n",
       "      <td>1513.0</td>\n",
       "    </tr>\n",
       "    <tr>\n",
       "      <th>3215</th>\n",
       "      <td>1499</td>\n",
       "      <td>35</td>\n",
       "      <td>Пермь</td>\n",
       "      <td>smart</td>\n",
       "      <td>12.0</td>\n",
       "      <td>13055.58</td>\n",
       "      <td>69.0</td>\n",
       "      <td>492.0</td>\n",
       "      <td>66.0</td>\n",
       "      <td>50</td>\n",
       "      <td>15360</td>\n",
       "      <td>500</td>\n",
       "      <td>550</td>\n",
       "      <td>200</td>\n",
       "      <td>3</td>\n",
       "      <td>3</td>\n",
       "      <td>598.0</td>\n",
       "    </tr>\n",
       "  </tbody>\n",
       "</table>\n",
       "</div>"
      ],
      "text/plain": [
       "      user_id  age         city tariff_name  month  traffic_month  \\\n",
       "3211     1498   68  Владикавказ       smart   10.0       20579.36   \n",
       "3212     1499   35        Пермь       smart    9.0        1845.75   \n",
       "3213     1499   35        Пермь       smart   10.0       17788.51   \n",
       "3214     1499   35        Пермь       smart   11.0       17963.31   \n",
       "3215     1499   35        Пермь       smart   12.0       13055.58   \n",
       "\n",
       "      calls_count  calls_duration_ceil  messages_count  messages_included  \\\n",
       "3211         41.0                247.0            42.0                 50   \n",
       "3212          9.0                 70.0            11.0                 50   \n",
       "3213         68.0                449.0            48.0                 50   \n",
       "3214         74.0                612.0            59.0                 50   \n",
       "3215         69.0                492.0            66.0                 50   \n",
       "\n",
       "      mb_per_month_included  minutes_included  rub_monthly_fee  rub_per_gb  \\\n",
       "3211                  15360               500              550         200   \n",
       "3212                  15360               500              550         200   \n",
       "3213                  15360               500              550         200   \n",
       "3214                  15360               500              550         200   \n",
       "3215                  15360               500              550         200   \n",
       "\n",
       "      rub_per_message  rub_per_minute  total_sum_month  \n",
       "3211                3               3           1750.0  \n",
       "3212                3               3            550.0  \n",
       "3213                3               3           1150.0  \n",
       "3214                3               3           1513.0  \n",
       "3215                3               3            598.0  "
      ]
     },
     "execution_count": 31,
     "metadata": {},
     "output_type": "execute_result"
    }
   ],
   "source": [
    "df_users_calc_pivot['total_sum_month'] = df_users_calc_pivot.apply(money_spent_per_month, axis=1)\n",
    "# рассчетные значения добавлю в таблицу используя метод apply() что бы применить функцию ко всему датафрейму\n",
    "df_users_calc_pivot.tail()\n",
    "# посмотрим 5 последних сторк таблицы"
   ]
  },
  {
   "cell_type": "markdown",
   "metadata": {},
   "source": [
    "Итак, посчитала количество сделанных звонков и израсходованных минут разговора, сообщений и объем израсходованного интернет- трафика в месяц для каждого пользователя, а так же помесячную выручку с каждого пользователя."
   ]
  },
  {
   "cell_type": "markdown",
   "metadata": {},
   "source": [
    "## Анализ данных"
   ]
  },
  {
   "cell_type": "markdown",
   "metadata": {},
   "source": [
    "Рассмотрим сколько минут разговора, сообщений, объем интернет-трафика требуется пользователям каждого тарифа.\n",
    "\n",
    "Разделим датафрейм на тариф ульта и смарт и сравним их."
   ]
  },
  {
   "cell_type": "code",
   "execution_count": 32,
   "metadata": {},
   "outputs": [],
   "source": [
    "df_users_calc_pivot_ultra = df_users_calc_pivot.query('tariff_name == \"ultra\"')\n",
    "df_users_calc_pivot_smart = df_users_calc_pivot.query('tariff_name == \"smart\"')\n",
    "# сделам 2 среза с помощью метода query(), раздели на 2 таблицы в зависимости от тарифа"
   ]
  },
  {
   "cell_type": "code",
   "execution_count": 33,
   "metadata": {},
   "outputs": [
    {
     "data": {
      "text/plain": [
       "2039100.0"
      ]
     },
     "execution_count": 33,
     "metadata": {},
     "output_type": "execute_result"
    }
   ],
   "source": [
    "df_users_calc_pivot_ultra['total_sum_month'].sum()\n",
    "# посчитаем какой доход получила кампания за 2018 год за тариф ультра"
   ]
  },
  {
   "cell_type": "code",
   "execution_count": 34,
   "metadata": {},
   "outputs": [
    {
     "data": {
      "text/plain": [
       "2875351.0"
      ]
     },
     "execution_count": 34,
     "metadata": {},
     "output_type": "execute_result"
    }
   ],
   "source": [
    "df_users_calc_pivot_smart['total_sum_month'].sum()\n",
    "# посчитаем какой доход получила кампания за 2018 год за тариф смарт"
   ]
  },
  {
   "cell_type": "markdown",
   "metadata": {},
   "source": [
    "Получается что хоть тариф смарт и дешевле, но доход приносит больше. Ниже посмотрим почему так происходит."
   ]
  },
  {
   "cell_type": "code",
   "execution_count": 35,
   "metadata": {},
   "outputs": [
    {
     "data": {
      "text/plain": [
       "<AxesSubplot:>"
      ]
     },
     "execution_count": 35,
     "metadata": {},
     "output_type": "execute_result"
    },
    {
     "data": {
      "image/png": "[encoded data removed]",
      "text/plain": [
       "<Figure size 432x288 with 1 Axes>"
      ]
     },
     "metadata": {
      "needs_background": "light"
     },
     "output_type": "display_data"
    }
   ],
   "source": [
    "df_users_calc_pivot_ultra['calls_duration_ceil'].hist(bins=50, range=(0,1700))\n",
    "# построим гистограмму звонков в тарифе ультра изучим эти данные"
   ]
  },
  {
   "cell_type": "code",
   "execution_count": 36,
   "metadata": {},
   "outputs": [
    {
     "data": {
      "text/plain": [
       "count     985.000000\n",
       "mean      526.623350\n",
       "std       317.606098\n",
       "min         0.000000\n",
       "25%       284.000000\n",
       "50%       518.000000\n",
       "75%       752.000000\n",
       "max      1673.000000\n",
       "Name: calls_duration_ceil, dtype: float64"
      ]
     },
     "execution_count": 36,
     "metadata": {},
     "output_type": "execute_result"
    }
   ],
   "source": [
    "df_users_calc_pivot_ultra['calls_duration_ceil'].describe()\n",
    "# получим список характерных значения для столбца calls_duration_ceil в тарифе ультра с помощью метода describe()\n",
    "# здесь мы видим среднее(mean) и стандартное отклонение (std)"
   ]
  },
  {
   "cell_type": "code",
   "execution_count": 37,
   "metadata": {},
   "outputs": [
    {
     "data": {
      "text/plain": [
       "100873.63339730098"
      ]
     },
     "execution_count": 37,
     "metadata": {},
     "output_type": "execute_result"
    }
   ],
   "source": [
    "np.var(df_users_calc_pivot_ultra['calls_duration_ceil'],ddof=1)\n",
    "# посчитаем дисперсию с помощью метода var(), так как это выборка укажем ddof=1"
   ]
  },
  {
   "cell_type": "markdown",
   "metadata": {},
   "source": [
    "Пик возле нуля говорит о большом количестве пропущенных звонков.\n",
    "\n",
    "В тариф ультра включено 3000 минут разговора в месяц, можно сделать вывод, что этого значения никто из клиентов не превысил.Средняя и медиана близки по значениям, это говорит, что выбросов мало. Пик приходится на 530 минут. Третий квартиль у нас заканчивается на 752 минутах. Так что можно сказать, что можно снизить количество минут в тарифе до 1000."
   ]
  },
  {
   "cell_type": "code",
   "execution_count": 38,
   "metadata": {},
   "outputs": [
    {
     "data": {
      "text/plain": [
       "<AxesSubplot:>"
      ]
     },
     "execution_count": 38,
     "metadata": {},
     "output_type": "execute_result"
    },
    {
     "data": {
      "image/png": "[encoded data removed]",
      "text/plain": [
       "<Figure size 432x288 with 1 Axes>"
      ]
     },
     "metadata": {
      "needs_background": "light"
     },
     "output_type": "display_data"
    }
   ],
   "source": [
    "df_users_calc_pivot_smart['calls_duration_ceil'].hist(bins=50, range=(0,1500))\n",
    "# построим гистограмму звонков в тарифе смарт изучим эти данные"
   ]
  },
  {
   "cell_type": "code",
   "execution_count": 39,
   "metadata": {
    "scrolled": true
   },
   "outputs": [
    {
     "data": {
      "text/plain": [
       "count    2229.000000\n",
       "mean      417.934948\n",
       "std       190.313730\n",
       "min         0.000000\n",
       "25%       282.000000\n",
       "50%       422.000000\n",
       "75%       545.000000\n",
       "max      1435.000000\n",
       "Name: calls_duration_ceil, dtype: float64"
      ]
     },
     "execution_count": 39,
     "metadata": {},
     "output_type": "execute_result"
    }
   ],
   "source": [
    "df_users_calc_pivot_smart['calls_duration_ceil'].describe()\n",
    "#  получим список характерных значения для столбца calls_duration_ceil в тарифе смарт с помощью метода describe()\n",
    "# здесь мы видим среднее(mean) и стандартное отклонение (std)"
   ]
  },
  {
   "cell_type": "code",
   "execution_count": 40,
   "metadata": {},
   "outputs": [
    {
     "data": {
      "text/plain": [
       "36219.31578434428"
      ]
     },
     "execution_count": 40,
     "metadata": {},
     "output_type": "execute_result"
    }
   ],
   "source": [
    "np.var(df_users_calc_pivot_smart['calls_duration_ceil'],ddof=1)\n",
    "# посчитаем дисперсию с помощью метода var(), так как это выборка укажем ddof=1"
   ]
  },
  {
   "cell_type": "markdown",
   "metadata": {},
   "source": [
    "В тариф смарт включено 500 минут разговора в месяц, можно сделать вывод, что этого большинство из клиентов попали в этот промежуток, но есть значительное число клиентов, которые превысили лимит.Средняя и медиана близки по значениям, это говорит, что выбросов мало. Пик приходится на 420 минут. Третий квартиль приходиться на 545 минут. Можно сказать, что большинство пользователей укладывается именно в этот период."
   ]
  },
  {
   "cell_type": "markdown",
   "metadata": {},
   "source": [
    "Абонентов тарифа смарт больше чем ультра. \n",
    "\n",
    "Среднее значение и стандартное отклонение минут тарифа ультра больше чем смарт."
   ]
  },
  {
   "cell_type": "code",
   "execution_count": 41,
   "metadata": {},
   "outputs": [
    {
     "data": {
      "text/plain": [
       "<AxesSubplot:>"
      ]
     },
     "execution_count": 41,
     "metadata": {},
     "output_type": "execute_result"
    },
    {
     "data": {
      "image/png": "[encoded data removed]",
      "text/plain": [
       "<Figure size 432x288 with 1 Axes>"
      ]
     },
     "metadata": {
      "needs_background": "light"
     },
     "output_type": "display_data"
    }
   ],
   "source": [
    "df_users_calc_pivot_ultra['traffic_month'].hist(bins=50, range=(0,60000))\n",
    "# построим гистограмму по израсходованному интернет трафику в тарифе ультра изучим эти данные"
   ]
  },
  {
   "cell_type": "code",
   "execution_count": 42,
   "metadata": {},
   "outputs": [
    {
     "data": {
      "text/plain": [
       "count      985.000000\n",
       "mean     19468.805208\n",
       "std      10087.170752\n",
       "min          0.000000\n",
       "25%      11770.260000\n",
       "50%      19308.010000\n",
       "75%      26837.690000\n",
       "max      49745.690000\n",
       "Name: traffic_month, dtype: float64"
      ]
     },
     "execution_count": 42,
     "metadata": {},
     "output_type": "execute_result"
    }
   ],
   "source": [
    "df_users_calc_pivot_ultra['traffic_month'].describe()\n",
    "#  получим список характерных значения для столбца traffic_month в тарифе ультра с помощью метода describe()\n",
    "# здесь мы видим среднее(mean) и стандартное отклонение (std)"
   ]
  },
  {
   "cell_type": "code",
   "execution_count": 43,
   "metadata": {},
   "outputs": [
    {
     "data": {
      "text/plain": [
       "101751013.78335387"
      ]
     },
     "execution_count": 43,
     "metadata": {},
     "output_type": "execute_result"
    }
   ],
   "source": [
    "np.var(df_users_calc_pivot_ultra['traffic_month'],ddof=1)\n",
    "# посчитаем дисперсию с помощью метода var(), так как это выборка укажем ddof=1"
   ]
  },
  {
   "cell_type": "markdown",
   "metadata": {},
   "source": [
    "В тариф ультра включено 30 ГБ интернета. Можно сделать вывод, что многие укладываются в тариф,так как третий квартиль находиться в районе 27ГБ,  но так же есть значительное число клиентов, которые докупают дополнительный трафик."
   ]
  },
  {
   "cell_type": "code",
   "execution_count": 44,
   "metadata": {},
   "outputs": [
    {
     "data": {
      "text/plain": [
       "<AxesSubplot:>"
      ]
     },
     "execution_count": 44,
     "metadata": {},
     "output_type": "execute_result"
    },
    {
     "data": {
      "image/png": "[encoded data removed]",
      "text/plain": [
       "<Figure size 432x288 with 1 Axes>"
      ]
     },
     "metadata": {
      "needs_background": "light"
     },
     "output_type": "display_data"
    }
   ],
   "source": [
    "df_users_calc_pivot_smart['traffic_month'].hist(bins=50, range=(0,60000))\n",
    "# постоим гистограмму по израсходованному интернет трафику в тарифе смарт изучим эти данные"
   ]
  },
  {
   "cell_type": "code",
   "execution_count": 45,
   "metadata": {
    "scrolled": true
   },
   "outputs": [
    {
     "data": {
      "text/plain": [
       "count     2229.000000\n",
       "mean     16208.386990\n",
       "std       5870.476681\n",
       "min          0.000000\n",
       "25%      12643.010000\n",
       "50%      16506.840000\n",
       "75%      20042.930000\n",
       "max      38552.450000\n",
       "Name: traffic_month, dtype: float64"
      ]
     },
     "execution_count": 45,
     "metadata": {},
     "output_type": "execute_result"
    }
   ],
   "source": [
    "df_users_calc_pivot_smart['traffic_month'].describe()\n",
    "#  получим список характерных значения для столбца traffic_month в тарифе смарт с помощью метода describe()\n",
    "# здесь мы видим среднее(mean) и стандартное отклонение (std)"
   ]
  },
  {
   "cell_type": "code",
   "execution_count": 46,
   "metadata": {},
   "outputs": [
    {
     "data": {
      "text/plain": [
       "34462496.46274242"
      ]
     },
     "execution_count": 46,
     "metadata": {},
     "output_type": "execute_result"
    }
   ],
   "source": [
    "np.var(df_users_calc_pivot_smart['traffic_month'],ddof=1)\n",
    "# посчитаем дисперсию с помощью метода var(), так как это выборка укажем ddof=1"
   ]
  },
  {
   "cell_type": "markdown",
   "metadata": {},
   "source": [
    "В тариф смарт включено 15 ГБ интернета, можно сделать вывод, что большая доля клиентов докупают интернет трафик, так как пик приходиться на 16.5 ГБ, а третий квартиль находиться на отметке 20 ГБ. Дисперсия тарифа ультра больше чем в тарифе смарт."
   ]
  },
  {
   "cell_type": "code",
   "execution_count": 47,
   "metadata": {},
   "outputs": [
    {
     "data": {
      "text/plain": [
       "<AxesSubplot:>"
      ]
     },
     "execution_count": 47,
     "metadata": {},
     "output_type": "execute_result"
    },
    {
     "data": {
      "image/png": "[encoded data removed]",
      "text/plain": [
       "<Figure size 432x288 with 1 Axes>"
      ]
     },
     "metadata": {
      "needs_background": "light"
     },
     "output_type": "display_data"
    }
   ],
   "source": [
    "df_users_calc_pivot_ultra['messages_count'].hist(bins=20, range=(0,250))\n",
    "# построим гистограмму отправленных сообщений в тарифе ультра изучим эти данные"
   ]
  },
  {
   "cell_type": "code",
   "execution_count": 48,
   "metadata": {},
   "outputs": [
    {
     "data": {
      "text/plain": [
       "count    985.000000\n",
       "mean      49.363452\n",
       "std       47.804457\n",
       "min        0.000000\n",
       "25%        6.000000\n",
       "50%       38.000000\n",
       "75%       79.000000\n",
       "max      224.000000\n",
       "Name: messages_count, dtype: float64"
      ]
     },
     "execution_count": 48,
     "metadata": {},
     "output_type": "execute_result"
    }
   ],
   "source": [
    "df_users_calc_pivot_ultra['messages_count'].describe()\n",
    "#  получим список характерных значения для столбца messages_count в тарифе ультра с помощью метода describe()\n",
    "# здесь мы видим среднее(mean) и стандартное отклонение (std)"
   ]
  },
  {
   "cell_type": "code",
   "execution_count": 49,
   "metadata": {},
   "outputs": [
    {
     "data": {
      "text/plain": [
       "2285.266142544674"
      ]
     },
     "execution_count": 49,
     "metadata": {},
     "output_type": "execute_result"
    }
   ],
   "source": [
    "np.var(df_users_calc_pivot_ultra['messages_count'],ddof=1)\n",
    "# посчитаем дисперсию с помощью метода var(), так как это выборка укажем ddof=1"
   ]
  },
  {
   "cell_type": "markdown",
   "metadata": {},
   "source": [
    "В тариф ультра включено 1000 сообщений в месяц. Данный лимит превышен не был, но есть большая разница между медианной и средней, что может говорить о длином хвосте высоких значений.Третий квартиль заканчивается на значении 79, можно сказать, в большинстве случаев этого количества сообщений достаточно."
   ]
  },
  {
   "cell_type": "code",
   "execution_count": 50,
   "metadata": {},
   "outputs": [
    {
     "data": {
      "text/plain": [
       "<AxesSubplot:>"
      ]
     },
     "execution_count": 50,
     "metadata": {},
     "output_type": "execute_result"
    },
    {
     "data": {
      "image/png": "[encoded data removed]",
      "text/plain": [
       "<Figure size 432x288 with 1 Axes>"
      ]
     },
     "metadata": {
      "needs_background": "light"
     },
     "output_type": "display_data"
    }
   ],
   "source": [
    "df_users_calc_pivot_smart['messages_count'].hist(bins=20, range=(0,250))\n",
    "# построим гистограмму отправленных сообщений в тарифе смарт изучим эти данные"
   ]
  },
  {
   "cell_type": "code",
   "execution_count": 51,
   "metadata": {},
   "outputs": [
    {
     "data": {
      "text/plain": [
       "count    2229.000000\n",
       "mean       33.384029\n",
       "std        28.227876\n",
       "min         0.000000\n",
       "25%        10.000000\n",
       "50%        28.000000\n",
       "75%        51.000000\n",
       "max       143.000000\n",
       "Name: messages_count, dtype: float64"
      ]
     },
     "execution_count": 51,
     "metadata": {},
     "output_type": "execute_result"
    }
   ],
   "source": [
    "df_users_calc_pivot_smart['messages_count'].describe()\n",
    "#  получим список характерных значения для столбца messages_count в тарифе смарт с помощью метода describe()\n",
    "# здесь мы видим среднее(mean) и стандартное отклонение (std)"
   ]
  },
  {
   "cell_type": "code",
   "execution_count": 52,
   "metadata": {},
   "outputs": [
    {
     "data": {
      "text/plain": [
       "796.8129584480083"
      ]
     },
     "execution_count": 52,
     "metadata": {},
     "output_type": "execute_result"
    }
   ],
   "source": [
    "np.var(df_users_calc_pivot_smart['messages_count'],ddof=1)\n",
    "# посчитаем дисперсию с помощью метода var(), так как это выборка укажем ddof=1"
   ]
  },
  {
   "cell_type": "markdown",
   "metadata": {},
   "source": [
    "В тариф смарт включено 50 сообщений. Судя по третьему квартилю можно сделать вывод, что значительная часть клиентов укладывается в этот лимит.\n",
    "\n",
    "Дисперсия в тарифе ультра больше чем в смарт."
   ]
  },
  {
   "cell_type": "code",
   "execution_count": 53,
   "metadata": {},
   "outputs": [
    {
     "data": {
      "text/plain": [
       "<AxesSubplot:>"
      ]
     },
     "execution_count": 53,
     "metadata": {},
     "output_type": "execute_result"
    },
    {
     "data": {
      "image/png": "[encoded data removed]",
      "text/plain": [
       "<Figure size 432x288 with 1 Axes>"
      ]
     },
     "metadata": {
      "needs_background": "light"
     },
     "output_type": "display_data"
    }
   ],
   "source": [
    "df_users_calc_pivot_ultra['total_sum_month'].hist(bins=10, range=(1900,5000))\n",
    "# построим гистограмму помесячной выручки в тарифе ультра изучим эти данные"
   ]
  },
  {
   "cell_type": "code",
   "execution_count": 54,
   "metadata": {},
   "outputs": [
    {
     "data": {
      "text/plain": [
       "count     985.000000\n",
       "mean     2070.152284\n",
       "std       376.187114\n",
       "min      1950.000000\n",
       "25%      1950.000000\n",
       "50%      1950.000000\n",
       "75%      1950.000000\n",
       "max      4800.000000\n",
       "Name: total_sum_month, dtype: float64"
      ]
     },
     "execution_count": 54,
     "metadata": {},
     "output_type": "execute_result"
    }
   ],
   "source": [
    "df_users_calc_pivot_ultra['total_sum_month'].describe()\n",
    "#  получим список характерных значения для столбца total_sum_month в тарифе ультра с помощью метода describe()\n",
    "# здесь мы видим среднее(mean) и стандартное отклонение (std)"
   ]
  },
  {
   "cell_type": "code",
   "execution_count": 55,
   "metadata": {},
   "outputs": [
    {
     "data": {
      "text/plain": [
       "141516.7450786183"
      ]
     },
     "execution_count": 55,
     "metadata": {},
     "output_type": "execute_result"
    }
   ],
   "source": [
    "np.var(df_users_calc_pivot_ultra['total_sum_month'],ddof=1)"
   ]
  },
  {
   "cell_type": "markdown",
   "metadata": {},
   "source": [
    "По этой гистрограмме для тарифа ультра можно сказать, что большинство клиентов укладывается в лимит и платят только абонентскую плату, но бывают случаи когда превышают его."
   ]
  },
  {
   "cell_type": "code",
   "execution_count": 56,
   "metadata": {},
   "outputs": [
    {
     "data": {
      "text/plain": [
       "<AxesSubplot:>"
      ]
     },
     "execution_count": 56,
     "metadata": {},
     "output_type": "execute_result"
    },
    {
     "data": {
      "image/png": "[encoded data removed]",
      "text/plain": [
       "<Figure size 432x288 with 1 Axes>"
      ]
     },
     "metadata": {
      "needs_background": "light"
     },
     "output_type": "display_data"
    }
   ],
   "source": [
    "df_users_calc_pivot_smart['total_sum_month'].hist(bins=30, range=(500,7000))\n",
    "#  получим список характерных значения для столбца total_sum_month в тарифе смарт с помощью метода describe()\n",
    "# здесь мы видим среднее(mean) и стандартное отклонение (std)"
   ]
  },
  {
   "cell_type": "code",
   "execution_count": 57,
   "metadata": {},
   "outputs": [
    {
     "data": {
      "text/plain": [
       "count    2229.000000\n",
       "mean     1289.973531\n",
       "std       818.404367\n",
       "min       550.000000\n",
       "25%       550.000000\n",
       "50%      1023.000000\n",
       "75%      1750.000000\n",
       "max      6770.000000\n",
       "Name: total_sum_month, dtype: float64"
      ]
     },
     "execution_count": 57,
     "metadata": {},
     "output_type": "execute_result"
    }
   ],
   "source": [
    "df_users_calc_pivot_smart['total_sum_month'].describe()\n",
    "#  получим список характерных значения для столбца total_sum_month в тарифе смарт с помощью метода describe()\n",
    "# здесь мы видим среднее(mean) и стандартное отклонение (std)"
   ]
  },
  {
   "cell_type": "code",
   "execution_count": 58,
   "metadata": {},
   "outputs": [
    {
     "data": {
      "text/plain": [
       "669785.7080064242"
      ]
     },
     "execution_count": 58,
     "metadata": {},
     "output_type": "execute_result"
    }
   ],
   "source": [
    "np.var(df_users_calc_pivot_smart['total_sum_month'],ddof=1)"
   ]
  },
  {
   "cell_type": "markdown",
   "metadata": {},
   "source": [
    "Для тарифа смарт, можно сказать, что только четверть всех платежей не превышает стоимости тарифа, в остальных случаях клиент доплачивает. Довольно много клиентов по платежу приближаются к тарифу ультра. Возможно есть смысл предложить этим клиентам сменить тариф."
   ]
  },
  {
   "cell_type": "markdown",
   "metadata": {},
   "source": [
    "Посмотрим на взаимосвязь месяца и суммарного времени звонков, сообщений и трафика"
   ]
  },
  {
   "cell_type": "code",
   "execution_count": 59,
   "metadata": {},
   "outputs": [],
   "source": [
    "df_users_calc_pivot_ultra_1 = df_users_calc_pivot_ultra.pivot_table(index=df_users_calc_pivot_ultra.index, values=[\n",
    "    'month','traffic_month','calls_duration_ceil','messages_count'\n",
    "], aggfunc='mean')\n",
    "# создадим сводную таблицу для этих столбцов в тарифе ультра расчитав для них среднее"
   ]
  },
  {
   "cell_type": "code",
   "execution_count": 60,
   "metadata": {},
   "outputs": [
    {
     "data": {
      "text/plain": [
       "array([[<AxesSubplot:xlabel='calls_duration_ceil', ylabel='calls_duration_ceil'>,\n",
       "        <AxesSubplot:xlabel='messages_count', ylabel='calls_duration_ceil'>,\n",
       "        <AxesSubplot:xlabel='month', ylabel='calls_duration_ceil'>,\n",
       "        <AxesSubplot:xlabel='traffic_month', ylabel='calls_duration_ceil'>],\n",
       "       [<AxesSubplot:xlabel='calls_duration_ceil', ylabel='messages_count'>,\n",
       "        <AxesSubplot:xlabel='messages_count', ylabel='messages_count'>,\n",
       "        <AxesSubplot:xlabel='month', ylabel='messages_count'>,\n",
       "        <AxesSubplot:xlabel='traffic_month', ylabel='messages_count'>],\n",
       "       [<AxesSubplot:xlabel='calls_duration_ceil', ylabel='month'>,\n",
       "        <AxesSubplot:xlabel='messages_count', ylabel='month'>,\n",
       "        <AxesSubplot:xlabel='month', ylabel='month'>,\n",
       "        <AxesSubplot:xlabel='traffic_month', ylabel='month'>],\n",
       "       [<AxesSubplot:xlabel='calls_duration_ceil', ylabel='traffic_month'>,\n",
       "        <AxesSubplot:xlabel='messages_count', ylabel='traffic_month'>,\n",
       "        <AxesSubplot:xlabel='month', ylabel='traffic_month'>,\n",
       "        <AxesSubplot:xlabel='traffic_month', ylabel='traffic_month'>]],\n",
       "      dtype=object)"
      ]
     },
     "execution_count": 60,
     "metadata": {},
     "output_type": "execute_result"
    },
    {
     "data": {
      "image/png": "[encoded data removed]",
      "text/plain": [
       "<Figure size 720x720 with 16 Axes>"
      ]
     },
     "metadata": {
      "needs_background": "light"
     },
     "output_type": "display_data"
    }
   ],
   "source": [
    "pd.plotting.scatter_matrix(df_users_calc_pivot_ultra_1, figsize=(10, 10), alpha=0.3)\n",
    "# постоим матрицу диаграмм рассеяния"
   ]
  },
  {
   "cell_type": "markdown",
   "metadata": {},
   "source": [
    "Для тарифа ультра можно сделать вывод, что есть рост количества звонков, сообщений и интернет трафика с начала к концу года."
   ]
  },
  {
   "cell_type": "code",
   "execution_count": 61,
   "metadata": {},
   "outputs": [
    {
     "data": {
      "text/plain": [
       "array([[<AxesSubplot:xlabel='calls_duration_ceil', ylabel='calls_duration_ceil'>,\n",
       "        <AxesSubplot:xlabel='messages_count', ylabel='calls_duration_ceil'>,\n",
       "        <AxesSubplot:xlabel='month', ylabel='calls_duration_ceil'>,\n",
       "        <AxesSubplot:xlabel='traffic_month', ylabel='calls_duration_ceil'>],\n",
       "       [<AxesSubplot:xlabel='calls_duration_ceil', ylabel='messages_count'>,\n",
       "        <AxesSubplot:xlabel='messages_count', ylabel='messages_count'>,\n",
       "        <AxesSubplot:xlabel='month', ylabel='messages_count'>,\n",
       "        <AxesSubplot:xlabel='traffic_month', ylabel='messages_count'>],\n",
       "       [<AxesSubplot:xlabel='calls_duration_ceil', ylabel='month'>,\n",
       "        <AxesSubplot:xlabel='messages_count', ylabel='month'>,\n",
       "        <AxesSubplot:xlabel='month', ylabel='month'>,\n",
       "        <AxesSubplot:xlabel='traffic_month', ylabel='month'>],\n",
       "       [<AxesSubplot:xlabel='calls_duration_ceil', ylabel='traffic_month'>,\n",
       "        <AxesSubplot:xlabel='messages_count', ylabel='traffic_month'>,\n",
       "        <AxesSubplot:xlabel='month', ylabel='traffic_month'>,\n",
       "        <AxesSubplot:xlabel='traffic_month', ylabel='traffic_month'>]],\n",
       "      dtype=object)"
      ]
     },
     "execution_count": 61,
     "metadata": {},
     "output_type": "execute_result"
    },
    {
     "data": {
      "image/png": "[encoded data removed]",
      "text/plain": [
       "<Figure size 720x720 with 16 Axes>"
      ]
     },
     "metadata": {
      "needs_background": "light"
     },
     "output_type": "display_data"
    }
   ],
   "source": [
    "df_users_calc_pivot_smart_1 = df_users_calc_pivot_smart.pivot_table(index=df_users_calc_pivot_smart.index, values=[\n",
    "    'month','traffic_month','calls_duration_ceil','messages_count'\n",
    "], aggfunc='mean')\n",
    "# создадим сводную таблицу для этих столбцов в тарифе ультра расчитав для них среднее\n",
    "pd.plotting.scatter_matrix(df_users_calc_pivot_smart_1, figsize=(10, 10), alpha=0.3)\n",
    "# постоим матрицу диаграмм рассеяния"
   ]
  },
  {
   "cell_type": "markdown",
   "metadata": {},
   "source": [
    "В тарифе смарт тоже можем наблюдать, что  что есть рост количества звонков, сообщений и интернет трафика с начала к концу года.\n",
    "\n",
    "Но если в тарифе ультра распределение значений более рассредоточено, то в тарифе смарт мы видим большую скученность значений."
   ]
  },
  {
   "cell_type": "markdown",
   "metadata": {},
   "source": [
    "Абонентов тарифа смарт больше чем ультра.\n",
    "В тариф ультра включено 3000 минут разговора в месяц, никто из клиентов не превысил. Пик приходится на 530 минут. Третий квартиль тарифа ультра заканчивается на 752 минутах. Так что можно сказать, что можно снизить количество минут в тарифе до 1000.\n",
    "В тариф смарт включено 500 минут разговора в месяц, большинство из клиентов попали в этот промежуток, но есть значительное число клиентов, которые превысили лимит. Пик приходится на 420 минут. Третий квартиль приходиться на 545 минут. Можно сказать, что большинство пользователей укладывается именно в эти значения. Среднее значение и стандартное отклонение минут тарифа ультра больше чем смарт, при этом дисперсия тарифа смарт больше ультра.\n",
    "\n",
    "В тариф ультра включено 30 ГБ интернета. Можно сделать вывод, что многие укладываются в тариф,так как третий квартиль находиться в районе 27ГБ,  но так же есть значительное число клиентов, которые докупают дополнительный трафик. В тариф смарт включено 15 ГБ интернета, можно сделать вывод, что большая доля клиентов докупают интернет трафик, так как пик приходиться на 16.5 ГБ, а третий квартиль находиться на отметке 20 ГБ. Дисперсия тарифа ультра больше чем в тарифе смарт.\n",
    "\n",
    "В тариф ультра включено 1000 сообщений в месяц. Данный лимит превышен не был, но есть большая разница между медианной и средней, что может говорить о длинном хвосте высоких значений. Третий квартиль заканчивается на значении 79, можно сказать, в большинстве случаев этого количества сообщений достаточно.\n",
    "В тариф смарт включено 50 сообщений. Судя по третьему квартилю можно сделать вывод, что значительная часть клиентов укладывается в этот лимит. Дисперсия в тарифе ультра больше чем в смарт.\n",
    "\n",
    "Для тарифа ультра можно сказать, что большинство клиентов укладывается в лимит и платят только абонентскую плату, но бывают случаи когда превышают его.Для тарифа смарт, можно сказать, что только четверть всех платежей не превышает стоимости тарифа, в остальных случаях клиент доплачивает. Довольно много клиентов по платежу приближаются к тарифу ультра. Возможно есть смысл предложить этим клиентам сменить тариф.\n",
    "\n",
    "Однако, клиенты тарифа смарт приносят кам\n",
    "\n",
    "Для  обоих тарифов  можно сделать вывод, что есть рост количества звонков, сообщений и интернет трафика с начала к концу года. Но если в тарифе ультра распределение значений более рассредоточено, то в тарифе смарт мы видим большую скученность значений.\n"
   ]
  },
  {
   "cell_type": "markdown",
   "metadata": {},
   "source": [
    "## Проверка гипотез"
   ]
  },
  {
   "cell_type": "markdown",
   "metadata": {},
   "source": [
    "**Проверим первую гипотезу - средняя выручка пользователей тарифов «Ультра» и «Смарт» различается.**\n",
    "\n",
    "Сформулируем нулевую и альтернативную гипотезы:\n",
    "\n",
    "H0 - средняя выручка пользователей тарифов «Ультра» и «Смарт» равны;\n",
    "\n",
    "H1 - средние выручки пользователей тарифов «Ультра» и «Смарт» различаются.\n",
    "\n",
    "Чтобы проверить первую гипотезу используем метод scipy.stats.ttest_ind (array1, array2, equal_var)\n",
    "- equal_var - параметр, задающий считать ли равными дисперсии выборок.\n",
    "Так как мы знаем что дисперcии различаются equal_var = False\n"
   ]
  },
  {
   "cell_type": "code",
   "execution_count": 62,
   "metadata": {},
   "outputs": [
    {
     "name": "stdout",
     "output_type": "stream",
     "text": [
      "p-значение: 4.2606313931076085e-250\n",
      "Отвергаем нулевую гипотезу\n"
     ]
    }
   ],
   "source": [
    "smart_ttest = df_users_calc_pivot[df_users_calc_pivot['tariff_name']=='smart']['total_sum_month']\n",
    "ultra_ttest = df_users_calc_pivot[df_users_calc_pivot['tariff_name']=='ultra']['total_sum_month']\n",
    "\n",
    "# уровень значимости зададим равным 5%\n",
    "alpha = 0.05\n",
    "\n",
    "results = st.ttest_ind(smart_ttest, ultra_ttest, equal_var=False)\n",
    "\n",
    "print('p-значение:', results.pvalue)\n",
    "\n",
    "if (results.pvalue < alpha):\n",
    "    print(\"Отвергаем нулевую гипотезу\")\n",
    "else:\n",
    "    print(\"Не получилось отвергнуть нулевую гипотезу\")"
   ]
  },
  {
   "cell_type": "markdown",
   "metadata": {},
   "source": [
    "Можно сказать, что средняя выручка различается."
   ]
  },
  {
   "cell_type": "markdown",
   "metadata": {},
   "source": [
    "**Проверим вторую гипотезу - средняя выручка пользователей из Москвы отличается от выручки пользователей из других регионов.**\n",
    "\n",
    "\n",
    "Н0 - средняя выручка пользователей из Москвы равна средней выручке пользователей из других регионов;\n",
    "\n",
    "Н1 - средняя выручка пользователей из Москвы отличается от выручки пользователей из других регионов.\n",
    "\n"
   ]
  },
  {
   "cell_type": "code",
   "execution_count": 63,
   "metadata": {},
   "outputs": [
    {
     "name": "stdout",
     "output_type": "stream",
     "text": [
      "p-значение:  0.5440152911670224\n",
      "Не получилось отвергнуть нулевую гипотезу\n"
     ]
    }
   ],
   "source": [
    "moscow_ttest = df_users_calc_pivot[df_users_calc_pivot['city']=='Москва']['total_sum_month']\n",
    "\n",
    "popmean =  df_users_calc_pivot[ df_users_calc_pivot['city']!='Москва']['total_sum_month']\n",
    "\n",
    "# уровень значимости 5%\n",
    "alpha = 0.05\n",
    "\n",
    "results = st.ttest_ind(moscow_ttest, popmean)\n",
    "\n",
    "print('p-значение: ', results.pvalue)\n",
    "\n",
    "if results.pvalue < alpha:\n",
    "    print(\"Отвергаем нулевую гипотезу\")\n",
    "else:\n",
    "    print(\"Не получилось отвергнуть нулевую гипотезу\")"
   ]
  },
  {
   "cell_type": "markdown",
   "metadata": {},
   "source": [
    "Можно сказать, что выручка в регионах не отличается от выручки в Москве."
   ]
  },
  {
   "cell_type": "markdown",
   "metadata": {},
   "source": [
    "## Общий вывод"
   ]
  },
  {
   "cell_type": "markdown",
   "metadata": {},
   "source": [
    "В выгруженных файлах получили  информацию о пользователях и тарифных планах, которые они используют и данные о звонках, сообщениях и интернет-трафике. Данные в таблицах отличаются по количеству.\n",
    "В таблицу с информацией о звонках добавила столбец duration_ceil с округленными до минут в большую сторону значений длительности звонка(по условию проекта). Так же  посчитала количество сделанных звонков и израсходованных минут разговора, сообщений и объем израсходованного интернет- трафика в месяц для каждого пользователя и  помесячную выручку с каждого пользователя.\n",
    "Абонентов тарифа смарт больше чем ультра.\n",
    "Пользователи тарифа ультра не израсходуют заложенного в тариф количества минут  и сообщений, но бывает, что докупают интернет  трафик.\n",
    "Пользователи тарифа смарт часто пользуются возможностью покупки дополнительных услуг  и по минутам и по количеству интернет-трафика, реже сообщений.\n",
    "Количество использования связи растет с начала года к концу в обоих тарифах.\n",
    "После проверки гипотез можно сказать, что выручка по тарифам различается, однако это не зависит от того где пользователь находиться в регионе или в Москве.\n"
   ]
  }
 ],
 "metadata": {
  "ExecuteTimeLog": [
   {
    "duration": 3,
    "start_time": "2022-03-09T14:39:51.660Z"
   },
   {
    "duration": 3,
    "start_time": "2022-03-09T14:39:54.419Z"
   },
   {
    "duration": 3,
    "start_time": "2022-03-09T14:39:59.068Z"
   },
   {
    "duration": 694,
    "start_time": "2022-03-09T14:40:17.683Z"
   },
   {
    "duration": 162,
    "start_time": "2022-03-09T14:41:35.179Z"
   },
   {
    "duration": 2,
    "start_time": "2022-03-09T14:41:56.941Z"
   },
   {
    "duration": 5,
    "start_time": "2022-03-09T14:42:05.938Z"
   },
   {
    "duration": 621,
    "start_time": "2022-03-09T14:42:06.034Z"
   },
   {
    "duration": 181,
    "start_time": "2022-03-09T14:42:06.657Z"
   },
   {
    "duration": 172,
    "start_time": "2022-03-09T14:42:40.556Z"
   },
   {
    "duration": 135,
    "start_time": "2022-03-09T14:51:57.727Z"
   },
   {
    "duration": 3,
    "start_time": "2022-03-09T14:52:23.220Z"
   },
   {
    "duration": 3,
    "start_time": "2022-03-09T14:53:09.210Z"
   },
   {
    "duration": 2,
    "start_time": "2022-03-09T14:53:14.929Z"
   },
   {
    "duration": 3,
    "start_time": "2022-03-09T14:53:30.965Z"
   },
   {
    "duration": 89,
    "start_time": "2022-03-09T14:54:47.225Z"
   },
   {
    "duration": 18,
    "start_time": "2022-03-09T14:59:06.223Z"
   },
   {
    "duration": 27,
    "start_time": "2022-03-09T14:59:50.521Z"
   },
   {
    "duration": 162,
    "start_time": "2022-03-09T15:07:44.020Z"
   },
   {
    "duration": 181,
    "start_time": "2022-03-09T15:09:58.581Z"
   },
   {
    "duration": 159,
    "start_time": "2022-03-09T15:10:20.027Z"
   },
   {
    "duration": 110,
    "start_time": "2022-03-09T15:10:40.167Z"
   },
   {
    "duration": 19,
    "start_time": "2022-03-09T15:10:53.090Z"
   },
   {
    "duration": 17,
    "start_time": "2022-03-09T15:11:03.726Z"
   },
   {
    "duration": 22,
    "start_time": "2022-03-09T15:11:29.072Z"
   },
   {
    "duration": 33,
    "start_time": "2022-03-09T15:14:56.692Z"
   },
   {
    "duration": 18,
    "start_time": "2022-03-09T15:15:16.603Z"
   },
   {
    "duration": 17,
    "start_time": "2022-03-09T15:15:22.331Z"
   },
   {
    "duration": 103,
    "start_time": "2022-03-09T15:15:32.850Z"
   },
   {
    "duration": 97,
    "start_time": "2022-03-09T15:15:41.236Z"
   },
   {
    "duration": 168,
    "start_time": "2022-03-09T15:15:48.491Z"
   },
   {
    "duration": 132,
    "start_time": "2022-03-09T15:15:56.066Z"
   },
   {
    "duration": 159,
    "start_time": "2022-03-09T15:16:00.084Z"
   },
   {
    "duration": 3,
    "start_time": "2022-03-09T15:52:55.173Z"
   },
   {
    "duration": 3,
    "start_time": "2022-03-09T15:53:10.721Z"
   },
   {
    "duration": 2,
    "start_time": "2022-03-09T15:53:14.046Z"
   },
   {
    "duration": 2,
    "start_time": "2022-03-09T15:53:32.251Z"
   },
   {
    "duration": 96,
    "start_time": "2022-03-09T15:53:55.291Z"
   },
   {
    "duration": 558,
    "start_time": "2022-03-09T16:07:39.495Z"
   },
   {
    "duration": 269,
    "start_time": "2022-03-09T16:10:05.539Z"
   },
   {
    "duration": 286,
    "start_time": "2022-03-09T16:10:16.364Z"
   },
   {
    "duration": 294,
    "start_time": "2022-03-09T16:10:30.203Z"
   },
   {
    "duration": 348,
    "start_time": "2022-03-10T14:40:11.208Z"
   },
   {
    "duration": 592,
    "start_time": "2022-03-10T14:40:21.746Z"
   },
   {
    "duration": 157,
    "start_time": "2022-03-10T14:40:22.340Z"
   },
   {
    "duration": 119,
    "start_time": "2022-03-10T14:40:22.499Z"
   },
   {
    "duration": 84,
    "start_time": "2022-03-10T14:40:22.620Z"
   },
   {
    "duration": 20,
    "start_time": "2022-03-10T14:40:22.706Z"
   },
   {
    "duration": 46,
    "start_time": "2022-03-10T14:40:22.727Z"
   },
   {
    "duration": 517,
    "start_time": "2022-03-10T14:40:22.775Z"
   },
   {
    "duration": 295,
    "start_time": "2022-03-10T14:42:40.459Z"
   },
   {
    "duration": 308,
    "start_time": "2022-03-10T14:43:16.366Z"
   },
   {
    "duration": 331,
    "start_time": "2022-03-10T14:46:02.000Z"
   },
   {
    "duration": 155,
    "start_time": "2022-03-10T14:46:08.742Z"
   },
   {
    "duration": 157,
    "start_time": "2022-03-10T14:46:31.873Z"
   },
   {
    "duration": 309,
    "start_time": "2022-03-10T15:22:22.170Z"
   },
   {
    "duration": 361,
    "start_time": "2022-03-10T15:22:25.519Z"
   },
   {
    "duration": 8,
    "start_time": "2022-03-10T15:22:29.219Z"
   },
   {
    "duration": 9,
    "start_time": "2022-03-10T15:22:42.090Z"
   },
   {
    "duration": 7,
    "start_time": "2022-03-10T15:22:59.368Z"
   },
   {
    "duration": 8,
    "start_time": "2022-03-10T15:23:21.242Z"
   },
   {
    "duration": 10,
    "start_time": "2022-03-10T15:24:02.431Z"
   },
   {
    "duration": 7,
    "start_time": "2022-03-10T15:48:02.845Z"
   },
   {
    "duration": 20,
    "start_time": "2022-03-10T15:49:26.636Z"
   },
   {
    "duration": 15,
    "start_time": "2022-03-10T16:19:34.094Z"
   },
   {
    "duration": 745,
    "start_time": "2022-03-11T14:00:23.055Z"
   },
   {
    "duration": 477,
    "start_time": "2022-03-11T14:00:23.802Z"
   },
   {
    "duration": 22,
    "start_time": "2022-03-11T14:00:24.564Z"
   },
   {
    "duration": 27,
    "start_time": "2022-03-11T14:00:25.826Z"
   },
   {
    "duration": 11,
    "start_time": "2022-03-11T14:00:27.319Z"
   },
   {
    "duration": 22,
    "start_time": "2022-03-11T14:00:28.103Z"
   },
   {
    "duration": 10,
    "start_time": "2022-03-11T14:00:29.431Z"
   },
   {
    "duration": 12,
    "start_time": "2022-03-11T14:00:30.009Z"
   },
   {
    "duration": 15,
    "start_time": "2022-03-11T14:00:30.607Z"
   },
   {
    "duration": 11,
    "start_time": "2022-03-11T14:11:03.064Z"
   },
   {
    "duration": 26,
    "start_time": "2022-03-11T14:11:28.579Z"
   },
   {
    "duration": 12,
    "start_time": "2022-03-11T14:17:19.769Z"
   },
   {
    "duration": 10,
    "start_time": "2022-03-11T14:24:34.138Z"
   },
   {
    "duration": 13,
    "start_time": "2022-03-11T14:51:19.926Z"
   },
   {
    "duration": 16,
    "start_time": "2022-03-11T14:53:37.424Z"
   },
   {
    "duration": 41,
    "start_time": "2022-03-11T15:03:34.835Z"
   },
   {
    "duration": 20,
    "start_time": "2022-03-11T15:03:57.147Z"
   },
   {
    "duration": 27,
    "start_time": "2022-03-11T15:04:05.015Z"
   },
   {
    "duration": 51,
    "start_time": "2022-03-11T15:23:50.937Z"
   },
   {
    "duration": 55,
    "start_time": "2022-03-11T15:26:48.386Z"
   },
   {
    "duration": 42,
    "start_time": "2022-03-11T15:29:38.178Z"
   },
   {
    "duration": 6,
    "start_time": "2022-03-11T16:03:49.582Z"
   },
   {
    "duration": 14,
    "start_time": "2022-03-11T16:04:07.508Z"
   },
   {
    "duration": 356,
    "start_time": "2022-03-11T16:08:34.962Z"
   },
   {
    "duration": 4,
    "start_time": "2022-03-11T16:08:42.720Z"
   },
   {
    "duration": 714,
    "start_time": "2022-03-11T16:08:51.294Z"
   },
   {
    "duration": 474,
    "start_time": "2022-03-11T16:08:52.010Z"
   },
   {
    "duration": 21,
    "start_time": "2022-03-11T16:08:52.487Z"
   },
   {
    "duration": 31,
    "start_time": "2022-03-11T16:08:52.510Z"
   },
   {
    "duration": 11,
    "start_time": "2022-03-11T16:08:52.544Z"
   },
   {
    "duration": 21,
    "start_time": "2022-03-11T16:08:52.581Z"
   },
   {
    "duration": 10,
    "start_time": "2022-03-11T16:08:52.605Z"
   },
   {
    "duration": 31,
    "start_time": "2022-03-11T16:08:52.618Z"
   },
   {
    "duration": 36,
    "start_time": "2022-03-11T16:08:52.651Z"
   },
   {
    "duration": 15,
    "start_time": "2022-03-11T16:08:52.689Z"
   },
   {
    "duration": 15,
    "start_time": "2022-03-11T16:08:52.706Z"
   },
   {
    "duration": 133,
    "start_time": "2022-03-11T16:08:52.723Z"
   },
   {
    "duration": 344,
    "start_time": "2022-03-11T16:08:52.858Z"
   },
   {
    "duration": 17,
    "start_time": "2022-03-11T16:23:00.714Z"
   },
   {
    "duration": 16,
    "start_time": "2022-03-11T16:23:14.996Z"
   },
   {
    "duration": 362,
    "start_time": "2022-03-11T16:25:17.030Z"
   },
   {
    "duration": 3,
    "start_time": "2022-03-11T16:28:13.339Z"
   },
   {
    "duration": 13,
    "start_time": "2022-03-11T16:29:23.342Z"
   },
   {
    "duration": 15,
    "start_time": "2022-03-11T16:30:31.622Z"
   },
   {
    "duration": 707,
    "start_time": "2022-03-11T16:30:45.588Z"
   },
   {
    "duration": 509,
    "start_time": "2022-03-11T16:30:46.298Z"
   },
   {
    "duration": 23,
    "start_time": "2022-03-11T16:30:46.810Z"
   },
   {
    "duration": 29,
    "start_time": "2022-03-11T16:30:46.836Z"
   },
   {
    "duration": 20,
    "start_time": "2022-03-11T16:30:46.867Z"
   },
   {
    "duration": 23,
    "start_time": "2022-03-11T16:30:46.889Z"
   },
   {
    "duration": 10,
    "start_time": "2022-03-11T16:30:46.914Z"
   },
   {
    "duration": 22,
    "start_time": "2022-03-11T16:30:46.927Z"
   },
   {
    "duration": 39,
    "start_time": "2022-03-11T16:30:46.951Z"
   },
   {
    "duration": 16,
    "start_time": "2022-03-11T16:30:46.992Z"
   },
   {
    "duration": 10,
    "start_time": "2022-03-11T16:30:47.010Z"
   },
   {
    "duration": 139,
    "start_time": "2022-03-11T16:30:47.022Z"
   },
   {
    "duration": 20,
    "start_time": "2022-03-11T16:30:47.164Z"
   },
   {
    "duration": 1591,
    "start_time": "2022-03-11T16:31:49.167Z"
   },
   {
    "duration": 290,
    "start_time": "2022-03-11T16:32:14.877Z"
   },
   {
    "duration": 523,
    "start_time": "2022-03-12T11:44:23.399Z"
   },
   {
    "duration": 362,
    "start_time": "2022-03-12T11:44:23.923Z"
   },
   {
    "duration": 14,
    "start_time": "2022-03-12T11:44:24.287Z"
   },
   {
    "duration": 21,
    "start_time": "2022-03-12T11:44:24.304Z"
   },
   {
    "duration": 8,
    "start_time": "2022-03-12T11:44:24.327Z"
   },
   {
    "duration": 17,
    "start_time": "2022-03-12T11:44:24.336Z"
   },
   {
    "duration": 5,
    "start_time": "2022-03-12T11:44:24.355Z"
   },
   {
    "duration": 14,
    "start_time": "2022-03-12T11:44:24.362Z"
   },
   {
    "duration": 9,
    "start_time": "2022-03-12T11:44:24.377Z"
   },
   {
    "duration": 10,
    "start_time": "2022-03-12T11:44:24.387Z"
   },
   {
    "duration": 37,
    "start_time": "2022-03-12T11:44:24.399Z"
   },
   {
    "duration": 73,
    "start_time": "2022-03-12T11:44:24.437Z"
   },
   {
    "duration": 30,
    "start_time": "2022-03-12T11:49:41.117Z"
   },
   {
    "duration": 30,
    "start_time": "2022-03-12T11:49:45.742Z"
   },
   {
    "duration": 1162,
    "start_time": "2022-03-12T11:49:54.025Z"
   },
   {
    "duration": 1181,
    "start_time": "2022-03-12T11:51:38.656Z"
   },
   {
    "duration": 5,
    "start_time": "2022-03-12T11:54:12.755Z"
   },
   {
    "duration": 5,
    "start_time": "2022-03-12T11:54:26.201Z"
   },
   {
    "duration": 402,
    "start_time": "2022-03-12T11:59:08.981Z"
   },
   {
    "duration": 181,
    "start_time": "2022-03-12T12:02:10.059Z"
   },
   {
    "duration": 5,
    "start_time": "2022-03-12T12:05:29.618Z"
   },
   {
    "duration": 315,
    "start_time": "2022-03-12T12:06:05.535Z"
   },
   {
    "duration": 10,
    "start_time": "2022-03-12T12:06:26.745Z"
   },
   {
    "duration": 12,
    "start_time": "2022-03-12T12:06:44.346Z"
   },
   {
    "duration": 30,
    "start_time": "2022-03-12T12:06:52.829Z"
   },
   {
    "duration": 11,
    "start_time": "2022-03-12T12:07:01.915Z"
   },
   {
    "duration": 5,
    "start_time": "2022-03-12T12:07:07.028Z"
   },
   {
    "duration": 536,
    "start_time": "2022-03-12T12:08:25.045Z"
   },
   {
    "duration": 350,
    "start_time": "2022-03-12T12:08:25.582Z"
   },
   {
    "duration": 13,
    "start_time": "2022-03-12T12:08:25.934Z"
   },
   {
    "duration": 21,
    "start_time": "2022-03-12T12:08:25.949Z"
   },
   {
    "duration": 8,
    "start_time": "2022-03-12T12:08:25.972Z"
   },
   {
    "duration": 17,
    "start_time": "2022-03-12T12:08:25.982Z"
   },
   {
    "duration": 33,
    "start_time": "2022-03-12T12:08:26.001Z"
   },
   {
    "duration": 16,
    "start_time": "2022-03-12T12:08:26.036Z"
   },
   {
    "duration": 8,
    "start_time": "2022-03-12T12:08:26.054Z"
   },
   {
    "duration": 11,
    "start_time": "2022-03-12T12:08:26.063Z"
   },
   {
    "duration": 7,
    "start_time": "2022-03-12T12:08:26.076Z"
   },
   {
    "duration": 1219,
    "start_time": "2022-03-12T12:08:26.085Z"
   },
   {
    "duration": -964,
    "start_time": "2022-03-12T12:08:28.270Z"
   },
   {
    "duration": 74,
    "start_time": "2022-03-12T12:09:03.407Z"
   },
   {
    "duration": 652,
    "start_time": "2022-03-12T12:09:14.414Z"
   },
   {
    "duration": 393,
    "start_time": "2022-03-12T12:09:15.069Z"
   },
   {
    "duration": 14,
    "start_time": "2022-03-12T12:09:15.464Z"
   },
   {
    "duration": 23,
    "start_time": "2022-03-12T12:09:15.479Z"
   },
   {
    "duration": 8,
    "start_time": "2022-03-12T12:09:15.503Z"
   },
   {
    "duration": 22,
    "start_time": "2022-03-12T12:09:15.512Z"
   },
   {
    "duration": 8,
    "start_time": "2022-03-12T12:09:15.536Z"
   },
   {
    "duration": 23,
    "start_time": "2022-03-12T12:09:15.546Z"
   },
   {
    "duration": 14,
    "start_time": "2022-03-12T12:09:15.571Z"
   },
   {
    "duration": 10,
    "start_time": "2022-03-12T12:09:15.587Z"
   },
   {
    "duration": 7,
    "start_time": "2022-03-12T12:09:15.599Z"
   },
   {
    "duration": 96,
    "start_time": "2022-03-12T12:09:15.607Z"
   },
   {
    "duration": 10,
    "start_time": "2022-03-12T12:09:15.705Z"
   },
   {
    "duration": 19,
    "start_time": "2022-03-12T12:16:45.378Z"
   },
   {
    "duration": 223,
    "start_time": "2022-03-12T12:16:55.558Z"
   },
   {
    "duration": 194,
    "start_time": "2022-03-12T12:17:16.658Z"
   },
   {
    "duration": 183,
    "start_time": "2022-03-12T12:17:41.439Z"
   },
   {
    "duration": 166,
    "start_time": "2022-03-12T12:18:26.460Z"
   },
   {
    "duration": 12,
    "start_time": "2022-03-12T12:18:37.647Z"
   },
   {
    "duration": 11,
    "start_time": "2022-03-12T12:19:56.662Z"
   },
   {
    "duration": 19,
    "start_time": "2022-03-12T12:20:10.900Z"
   },
   {
    "duration": 16,
    "start_time": "2022-03-12T12:20:40.146Z"
   },
   {
    "duration": 771,
    "start_time": "2022-03-12T12:47:30.434Z"
   },
   {
    "duration": 1265,
    "start_time": "2022-03-12T12:48:11.669Z"
   },
   {
    "duration": 13,
    "start_time": "2022-03-12T12:53:53.759Z"
   },
   {
    "duration": 58,
    "start_time": "2022-03-12T13:02:01.101Z"
   },
   {
    "duration": 86,
    "start_time": "2022-03-12T13:08:08.392Z"
   },
   {
    "duration": 146,
    "start_time": "2022-03-12T13:09:19.562Z"
   },
   {
    "duration": 21,
    "start_time": "2022-03-12T13:46:42.746Z"
   },
   {
    "duration": 28,
    "start_time": "2022-03-12T13:47:00.689Z"
   },
   {
    "duration": 54,
    "start_time": "2022-03-12T13:52:00.122Z"
   },
   {
    "duration": 192,
    "start_time": "2022-03-12T13:52:41.938Z"
   },
   {
    "duration": 631,
    "start_time": "2022-03-12T13:52:58.012Z"
   },
   {
    "duration": 350,
    "start_time": "2022-03-12T13:52:58.645Z"
   },
   {
    "duration": 14,
    "start_time": "2022-03-12T13:52:58.997Z"
   },
   {
    "duration": 24,
    "start_time": "2022-03-12T13:52:59.013Z"
   },
   {
    "duration": 7,
    "start_time": "2022-03-12T13:52:59.039Z"
   },
   {
    "duration": 17,
    "start_time": "2022-03-12T13:52:59.048Z"
   },
   {
    "duration": 7,
    "start_time": "2022-03-12T13:52:59.067Z"
   },
   {
    "duration": 14,
    "start_time": "2022-03-12T13:52:59.076Z"
   },
   {
    "duration": 7,
    "start_time": "2022-03-12T13:52:59.092Z"
   },
   {
    "duration": 9,
    "start_time": "2022-03-12T13:52:59.133Z"
   },
   {
    "duration": 8,
    "start_time": "2022-03-12T13:52:59.144Z"
   },
   {
    "duration": 88,
    "start_time": "2022-03-12T13:52:59.153Z"
   },
   {
    "duration": 13,
    "start_time": "2022-03-12T13:52:59.242Z"
   },
   {
    "duration": 14,
    "start_time": "2022-03-12T13:52:59.256Z"
   },
   {
    "duration": 189,
    "start_time": "2022-03-12T13:52:59.272Z"
   },
   {
    "duration": 70,
    "start_time": "2022-03-12T13:52:59.463Z"
   },
   {
    "duration": 252,
    "start_time": "2022-03-12T13:53:48.637Z"
   },
   {
    "duration": 507,
    "start_time": "2022-03-12T13:54:07.884Z"
   },
   {
    "duration": 358,
    "start_time": "2022-03-12T13:54:08.393Z"
   },
   {
    "duration": 14,
    "start_time": "2022-03-12T13:54:08.755Z"
   },
   {
    "duration": 21,
    "start_time": "2022-03-12T13:54:08.770Z"
   },
   {
    "duration": 7,
    "start_time": "2022-03-12T13:54:08.793Z"
   },
   {
    "duration": 18,
    "start_time": "2022-03-12T13:54:08.801Z"
   },
   {
    "duration": 7,
    "start_time": "2022-03-12T13:54:08.820Z"
   },
   {
    "duration": 12,
    "start_time": "2022-03-12T13:54:08.834Z"
   },
   {
    "duration": 7,
    "start_time": "2022-03-12T13:54:08.848Z"
   },
   {
    "duration": 9,
    "start_time": "2022-03-12T13:54:08.857Z"
   },
   {
    "duration": 6,
    "start_time": "2022-03-12T13:54:08.868Z"
   },
   {
    "duration": 102,
    "start_time": "2022-03-12T13:54:08.875Z"
   },
   {
    "duration": 12,
    "start_time": "2022-03-12T13:54:08.979Z"
   },
   {
    "duration": 13,
    "start_time": "2022-03-12T13:54:08.992Z"
   },
   {
    "duration": 188,
    "start_time": "2022-03-12T13:54:09.006Z"
   },
   {
    "duration": 72,
    "start_time": "2022-03-12T13:54:09.196Z"
   },
   {
    "duration": 62,
    "start_time": "2022-03-12T13:55:20.853Z"
   },
   {
    "duration": 32,
    "start_time": "2022-03-12T14:01:20.587Z"
   },
   {
    "duration": 23,
    "start_time": "2022-03-12T14:09:46.491Z"
   },
   {
    "duration": 19,
    "start_time": "2022-03-12T14:09:58.497Z"
   },
   {
    "duration": 514,
    "start_time": "2022-03-12T14:10:08.180Z"
   },
   {
    "duration": 356,
    "start_time": "2022-03-12T14:10:08.696Z"
   },
   {
    "duration": 14,
    "start_time": "2022-03-12T14:10:09.054Z"
   },
   {
    "duration": 23,
    "start_time": "2022-03-12T14:10:09.070Z"
   },
   {
    "duration": 7,
    "start_time": "2022-03-12T14:10:09.095Z"
   },
   {
    "duration": 23,
    "start_time": "2022-03-12T14:10:09.104Z"
   },
   {
    "duration": 7,
    "start_time": "2022-03-12T14:10:09.132Z"
   },
   {
    "duration": 16,
    "start_time": "2022-03-12T14:10:09.142Z"
   },
   {
    "duration": 9,
    "start_time": "2022-03-12T14:10:09.160Z"
   },
   {
    "duration": 11,
    "start_time": "2022-03-12T14:10:09.171Z"
   },
   {
    "duration": 7,
    "start_time": "2022-03-12T14:10:09.184Z"
   },
   {
    "duration": 121,
    "start_time": "2022-03-12T14:10:09.193Z"
   },
   {
    "duration": 18,
    "start_time": "2022-03-12T14:10:09.316Z"
   },
   {
    "duration": 15,
    "start_time": "2022-03-12T14:10:09.337Z"
   },
   {
    "duration": 197,
    "start_time": "2022-03-12T14:10:09.354Z"
   },
   {
    "duration": 57,
    "start_time": "2022-03-12T14:10:09.553Z"
   },
   {
    "duration": 51,
    "start_time": "2022-03-12T14:10:09.612Z"
   },
   {
    "duration": 21,
    "start_time": "2022-03-12T14:10:09.665Z"
   },
   {
    "duration": 19,
    "start_time": "2022-03-12T14:10:23.923Z"
   },
   {
    "duration": 21,
    "start_time": "2022-03-12T14:11:54.045Z"
   },
   {
    "duration": 21,
    "start_time": "2022-03-12T14:15:10.679Z"
   },
   {
    "duration": 25,
    "start_time": "2022-03-12T14:16:27.339Z"
   },
   {
    "duration": 30,
    "start_time": "2022-03-12T14:21:22.039Z"
   },
   {
    "duration": 223,
    "start_time": "2022-03-12T14:22:06.585Z"
   },
   {
    "duration": 29,
    "start_time": "2022-03-12T14:23:43.056Z"
   },
   {
    "duration": 4164,
    "start_time": "2022-03-12T14:24:24.339Z"
   },
   {
    "duration": 28,
    "start_time": "2022-03-12T14:24:46.994Z"
   },
   {
    "duration": 57,
    "start_time": "2022-03-12T14:27:13.521Z"
   },
   {
    "duration": 60,
    "start_time": "2022-03-12T14:27:27.846Z"
   },
   {
    "duration": 548,
    "start_time": "2022-03-12T14:27:34.559Z"
   },
   {
    "duration": 372,
    "start_time": "2022-03-12T14:27:35.109Z"
   },
   {
    "duration": 14,
    "start_time": "2022-03-12T14:27:35.483Z"
   },
   {
    "duration": 21,
    "start_time": "2022-03-12T14:27:35.499Z"
   },
   {
    "duration": 8,
    "start_time": "2022-03-12T14:27:35.522Z"
   },
   {
    "duration": 22,
    "start_time": "2022-03-12T14:27:35.532Z"
   },
   {
    "duration": 8,
    "start_time": "2022-03-12T14:27:35.557Z"
   },
   {
    "duration": 30,
    "start_time": "2022-03-12T14:27:35.567Z"
   },
   {
    "duration": 9,
    "start_time": "2022-03-12T14:27:35.598Z"
   },
   {
    "duration": 11,
    "start_time": "2022-03-12T14:27:35.608Z"
   },
   {
    "duration": 15,
    "start_time": "2022-03-12T14:27:35.620Z"
   },
   {
    "duration": 75,
    "start_time": "2022-03-12T14:27:35.637Z"
   },
   {
    "duration": 24,
    "start_time": "2022-03-12T14:27:35.713Z"
   },
   {
    "duration": 12,
    "start_time": "2022-03-12T14:27:35.739Z"
   },
   {
    "duration": 183,
    "start_time": "2022-03-12T14:27:35.753Z"
   },
   {
    "duration": 57,
    "start_time": "2022-03-12T14:27:35.938Z"
   },
   {
    "duration": 51,
    "start_time": "2022-03-12T14:27:35.997Z"
   },
   {
    "duration": 25,
    "start_time": "2022-03-12T14:27:36.050Z"
   },
   {
    "duration": 24,
    "start_time": "2022-03-12T14:27:36.077Z"
   },
   {
    "duration": 56,
    "start_time": "2022-03-12T14:27:36.102Z"
   },
   {
    "duration": -902,
    "start_time": "2022-03-12T14:27:37.062Z"
   },
   {
    "duration": 65,
    "start_time": "2022-03-12T14:27:54.530Z"
   },
   {
    "duration": 33,
    "start_time": "2022-03-12T14:28:22.752Z"
   },
   {
    "duration": 33,
    "start_time": "2022-03-12T14:28:30.879Z"
   },
   {
    "duration": 5063,
    "start_time": "2022-03-12T14:34:10.416Z"
   },
   {
    "duration": 37,
    "start_time": "2022-03-12T14:34:32.730Z"
   },
   {
    "duration": 17,
    "start_time": "2022-03-12T14:35:51.586Z"
   },
   {
    "duration": 16,
    "start_time": "2022-03-12T14:46:32.429Z"
   },
   {
    "duration": 8,
    "start_time": "2022-03-12T14:47:05.825Z"
   },
   {
    "duration": 4214,
    "start_time": "2022-03-12T15:07:52.993Z"
   },
   {
    "duration": -974,
    "start_time": "2022-03-12T15:07:58.183Z"
   },
   {
    "duration": 1753,
    "start_time": "2022-03-12T15:08:27.170Z"
   },
   {
    "duration": 5,
    "start_time": "2022-03-12T15:09:35.247Z"
   },
   {
    "duration": 182,
    "start_time": "2022-03-12T15:09:50.692Z"
   },
   {
    "duration": 505,
    "start_time": "2022-03-12T15:13:52.793Z"
   },
   {
    "duration": 365,
    "start_time": "2022-03-12T15:13:53.300Z"
   },
   {
    "duration": 15,
    "start_time": "2022-03-12T15:13:53.667Z"
   },
   {
    "duration": 22,
    "start_time": "2022-03-12T15:13:53.684Z"
   },
   {
    "duration": 8,
    "start_time": "2022-03-12T15:13:53.708Z"
   },
   {
    "duration": 16,
    "start_time": "2022-03-12T15:13:53.718Z"
   },
   {
    "duration": 7,
    "start_time": "2022-03-12T15:13:53.736Z"
   },
   {
    "duration": 15,
    "start_time": "2022-03-12T15:13:53.745Z"
   },
   {
    "duration": 7,
    "start_time": "2022-03-12T15:13:53.762Z"
   },
   {
    "duration": 9,
    "start_time": "2022-03-12T15:13:53.771Z"
   },
   {
    "duration": 7,
    "start_time": "2022-03-12T15:13:53.782Z"
   },
   {
    "duration": 108,
    "start_time": "2022-03-12T15:13:53.790Z"
   },
   {
    "duration": 12,
    "start_time": "2022-03-12T15:13:53.899Z"
   },
   {
    "duration": 29,
    "start_time": "2022-03-12T15:13:53.913Z"
   },
   {
    "duration": 170,
    "start_time": "2022-03-12T15:13:53.944Z"
   },
   {
    "duration": 69,
    "start_time": "2022-03-12T15:13:54.116Z"
   },
   {
    "duration": 32,
    "start_time": "2022-03-12T15:13:54.186Z"
   },
   {
    "duration": 31,
    "start_time": "2022-03-12T15:13:54.220Z"
   },
   {
    "duration": 22,
    "start_time": "2022-03-12T15:13:54.253Z"
   },
   {
    "duration": 30,
    "start_time": "2022-03-12T15:13:54.277Z"
   },
   {
    "duration": 38,
    "start_time": "2022-03-12T15:13:54.309Z"
   },
   {
    "duration": 11,
    "start_time": "2022-03-12T15:13:54.349Z"
   },
   {
    "duration": 7,
    "start_time": "2022-03-12T15:13:54.363Z"
   },
   {
    "duration": 239,
    "start_time": "2022-03-12T15:28:06.385Z"
   },
   {
    "duration": 539,
    "start_time": "2022-03-12T15:28:55.753Z"
   },
   {
    "duration": 361,
    "start_time": "2022-03-12T15:28:56.294Z"
   },
   {
    "duration": 13,
    "start_time": "2022-03-12T15:28:56.657Z"
   },
   {
    "duration": 27,
    "start_time": "2022-03-12T15:28:56.672Z"
   },
   {
    "duration": 7,
    "start_time": "2022-03-12T15:28:56.701Z"
   },
   {
    "duration": 16,
    "start_time": "2022-03-12T15:28:56.710Z"
   },
   {
    "duration": 9,
    "start_time": "2022-03-12T15:28:56.728Z"
   },
   {
    "duration": 13,
    "start_time": "2022-03-12T15:28:56.739Z"
   },
   {
    "duration": 7,
    "start_time": "2022-03-12T15:28:56.755Z"
   },
   {
    "duration": 11,
    "start_time": "2022-03-12T15:28:56.764Z"
   },
   {
    "duration": 7,
    "start_time": "2022-03-12T15:28:56.776Z"
   },
   {
    "duration": 104,
    "start_time": "2022-03-12T15:28:56.785Z"
   },
   {
    "duration": 12,
    "start_time": "2022-03-12T15:28:56.890Z"
   },
   {
    "duration": 12,
    "start_time": "2022-03-12T15:28:56.903Z"
   },
   {
    "duration": 174,
    "start_time": "2022-03-12T15:28:56.933Z"
   },
   {
    "duration": 68,
    "start_time": "2022-03-12T15:28:57.109Z"
   },
   {
    "duration": 33,
    "start_time": "2022-03-12T15:28:57.179Z"
   },
   {
    "duration": 34,
    "start_time": "2022-03-12T15:28:57.213Z"
   },
   {
    "duration": 21,
    "start_time": "2022-03-12T15:28:57.248Z"
   },
   {
    "duration": 31,
    "start_time": "2022-03-12T15:28:57.271Z"
   },
   {
    "duration": 37,
    "start_time": "2022-03-12T15:28:57.303Z"
   },
   {
    "duration": 5,
    "start_time": "2022-03-12T15:28:57.341Z"
   },
   {
    "duration": 7,
    "start_time": "2022-03-12T15:28:57.348Z"
   },
   {
    "duration": 254,
    "start_time": "2022-03-12T15:29:27.691Z"
   },
   {
    "duration": 545,
    "start_time": "2022-03-12T15:29:40.642Z"
   },
   {
    "duration": 356,
    "start_time": "2022-03-12T15:29:41.189Z"
   },
   {
    "duration": 13,
    "start_time": "2022-03-12T15:29:41.547Z"
   },
   {
    "duration": 25,
    "start_time": "2022-03-12T15:29:41.561Z"
   },
   {
    "duration": 7,
    "start_time": "2022-03-12T15:29:41.588Z"
   },
   {
    "duration": 18,
    "start_time": "2022-03-12T15:29:41.596Z"
   },
   {
    "duration": 17,
    "start_time": "2022-03-12T15:29:41.616Z"
   },
   {
    "duration": 14,
    "start_time": "2022-03-12T15:29:41.634Z"
   },
   {
    "duration": 9,
    "start_time": "2022-03-12T15:29:41.650Z"
   },
   {
    "duration": 10,
    "start_time": "2022-03-12T15:29:41.661Z"
   },
   {
    "duration": 7,
    "start_time": "2022-03-12T15:29:41.672Z"
   },
   {
    "duration": 95,
    "start_time": "2022-03-12T15:29:41.681Z"
   },
   {
    "duration": 12,
    "start_time": "2022-03-12T15:29:41.778Z"
   },
   {
    "duration": 12,
    "start_time": "2022-03-12T15:29:41.791Z"
   },
   {
    "duration": 189,
    "start_time": "2022-03-12T15:29:41.804Z"
   },
   {
    "duration": 65,
    "start_time": "2022-03-12T15:29:41.995Z"
   },
   {
    "duration": 32,
    "start_time": "2022-03-12T15:29:42.061Z"
   },
   {
    "duration": 43,
    "start_time": "2022-03-12T15:29:42.095Z"
   },
   {
    "duration": 22,
    "start_time": "2022-03-12T15:29:42.140Z"
   },
   {
    "duration": 29,
    "start_time": "2022-03-12T15:29:42.164Z"
   },
   {
    "duration": 39,
    "start_time": "2022-03-12T15:29:42.195Z"
   },
   {
    "duration": 5,
    "start_time": "2022-03-12T15:29:42.236Z"
   },
   {
    "duration": 17,
    "start_time": "2022-03-12T15:29:42.243Z"
   },
   {
    "duration": 356,
    "start_time": "2022-03-12T15:30:00.560Z"
   },
   {
    "duration": 565,
    "start_time": "2022-03-12T15:30:13.489Z"
   },
   {
    "duration": 418,
    "start_time": "2022-03-12T15:30:14.056Z"
   },
   {
    "duration": 14,
    "start_time": "2022-03-12T15:30:14.476Z"
   },
   {
    "duration": 25,
    "start_time": "2022-03-12T15:30:14.492Z"
   },
   {
    "duration": 7,
    "start_time": "2022-03-12T15:30:14.518Z"
   },
   {
    "duration": 23,
    "start_time": "2022-03-12T15:30:14.527Z"
   },
   {
    "duration": 7,
    "start_time": "2022-03-12T15:30:14.552Z"
   },
   {
    "duration": 15,
    "start_time": "2022-03-12T15:30:14.560Z"
   },
   {
    "duration": 7,
    "start_time": "2022-03-12T15:30:14.578Z"
   },
   {
    "duration": 10,
    "start_time": "2022-03-12T15:30:14.587Z"
   },
   {
    "duration": 12,
    "start_time": "2022-03-12T15:30:14.598Z"
   },
   {
    "duration": 90,
    "start_time": "2022-03-12T15:30:14.611Z"
   },
   {
    "duration": 13,
    "start_time": "2022-03-12T15:30:14.703Z"
   },
   {
    "duration": 13,
    "start_time": "2022-03-12T15:30:14.718Z"
   },
   {
    "duration": 192,
    "start_time": "2022-03-12T15:30:14.738Z"
   },
   {
    "duration": 60,
    "start_time": "2022-03-12T15:30:14.935Z"
   },
   {
    "duration": 45,
    "start_time": "2022-03-12T15:30:14.997Z"
   },
   {
    "duration": 23,
    "start_time": "2022-03-12T15:30:15.045Z"
   },
   {
    "duration": 23,
    "start_time": "2022-03-12T15:30:15.070Z"
   },
   {
    "duration": 31,
    "start_time": "2022-03-12T15:30:15.094Z"
   },
   {
    "duration": 19,
    "start_time": "2022-03-12T15:30:15.141Z"
   },
   {
    "duration": 321,
    "start_time": "2022-03-12T15:30:15.162Z"
   },
   {
    "duration": -1087,
    "start_time": "2022-03-12T15:30:16.572Z"
   },
   {
    "duration": 8,
    "start_time": "2022-03-12T15:30:44.176Z"
   },
   {
    "duration": 196,
    "start_time": "2022-03-12T15:30:46.988Z"
   },
   {
    "duration": 171,
    "start_time": "2022-03-12T15:31:04.600Z"
   },
   {
    "duration": 345,
    "start_time": "2022-03-12T15:31:22.794Z"
   },
   {
    "duration": 11,
    "start_time": "2022-03-12T15:31:32.899Z"
   },
   {
    "duration": 173,
    "start_time": "2022-03-12T15:31:39.868Z"
   },
   {
    "duration": 550,
    "start_time": "2022-03-12T15:31:55.704Z"
   },
   {
    "duration": 368,
    "start_time": "2022-03-12T15:31:56.256Z"
   },
   {
    "duration": 15,
    "start_time": "2022-03-12T15:31:56.627Z"
   },
   {
    "duration": 21,
    "start_time": "2022-03-12T15:31:56.644Z"
   },
   {
    "duration": 7,
    "start_time": "2022-03-12T15:31:56.667Z"
   },
   {
    "duration": 20,
    "start_time": "2022-03-12T15:31:56.676Z"
   },
   {
    "duration": 7,
    "start_time": "2022-03-12T15:31:56.698Z"
   },
   {
    "duration": 15,
    "start_time": "2022-03-12T15:31:56.732Z"
   },
   {
    "duration": 9,
    "start_time": "2022-03-12T15:31:56.749Z"
   },
   {
    "duration": 12,
    "start_time": "2022-03-12T15:31:56.759Z"
   },
   {
    "duration": 10,
    "start_time": "2022-03-12T15:31:56.773Z"
   },
   {
    "duration": 104,
    "start_time": "2022-03-12T15:31:56.785Z"
   },
   {
    "duration": 12,
    "start_time": "2022-03-12T15:31:56.891Z"
   },
   {
    "duration": 32,
    "start_time": "2022-03-12T15:31:56.905Z"
   },
   {
    "duration": 179,
    "start_time": "2022-03-12T15:31:56.939Z"
   },
   {
    "duration": 66,
    "start_time": "2022-03-12T15:31:57.120Z"
   },
   {
    "duration": 46,
    "start_time": "2022-03-12T15:31:57.188Z"
   },
   {
    "duration": 23,
    "start_time": "2022-03-12T15:31:57.236Z"
   },
   {
    "duration": 21,
    "start_time": "2022-03-12T15:31:57.260Z"
   },
   {
    "duration": 56,
    "start_time": "2022-03-12T15:31:57.283Z"
   },
   {
    "duration": 16,
    "start_time": "2022-03-12T15:31:57.341Z"
   },
   {
    "duration": 4,
    "start_time": "2022-03-12T15:31:57.359Z"
   },
   {
    "duration": 14,
    "start_time": "2022-03-12T15:31:57.366Z"
   },
   {
    "duration": 9,
    "start_time": "2022-03-12T15:31:57.382Z"
   },
   {
    "duration": 16,
    "start_time": "2022-03-12T15:35:52.024Z"
   },
   {
    "duration": 8,
    "start_time": "2022-03-12T15:39:36.558Z"
   },
   {
    "duration": 7,
    "start_time": "2022-03-12T15:40:04.994Z"
   },
   {
    "duration": 1018,
    "start_time": "2022-03-13T03:01:53.995Z"
   },
   {
    "duration": 596,
    "start_time": "2022-03-13T03:01:55.016Z"
   },
   {
    "duration": 23,
    "start_time": "2022-03-13T03:01:55.615Z"
   },
   {
    "duration": 34,
    "start_time": "2022-03-13T03:01:55.642Z"
   },
   {
    "duration": 13,
    "start_time": "2022-03-13T03:01:55.679Z"
   },
   {
    "duration": 26,
    "start_time": "2022-03-13T03:01:55.695Z"
   },
   {
    "duration": 50,
    "start_time": "2022-03-13T03:01:55.723Z"
   },
   {
    "duration": 30,
    "start_time": "2022-03-13T03:01:55.776Z"
   },
   {
    "duration": 16,
    "start_time": "2022-03-13T03:01:55.812Z"
   },
   {
    "duration": 52,
    "start_time": "2022-03-13T03:01:55.831Z"
   },
   {
    "duration": 13,
    "start_time": "2022-03-13T03:01:55.886Z"
   },
   {
    "duration": 197,
    "start_time": "2022-03-13T03:01:55.902Z"
   },
   {
    "duration": 22,
    "start_time": "2022-03-13T03:01:56.102Z"
   },
   {
    "duration": 50,
    "start_time": "2022-03-13T03:01:56.128Z"
   },
   {
    "duration": 363,
    "start_time": "2022-03-13T03:01:56.181Z"
   },
   {
    "duration": 126,
    "start_time": "2022-03-13T03:01:56.547Z"
   },
   {
    "duration": 46,
    "start_time": "2022-03-13T03:01:56.676Z"
   },
   {
    "duration": 53,
    "start_time": "2022-03-13T03:01:56.725Z"
   },
   {
    "duration": 33,
    "start_time": "2022-03-13T03:01:56.780Z"
   },
   {
    "duration": 73,
    "start_time": "2022-03-13T03:01:56.816Z"
   },
   {
    "duration": 26,
    "start_time": "2022-03-13T03:01:56.891Z"
   },
   {
    "duration": 6,
    "start_time": "2022-03-13T03:01:56.919Z"
   },
   {
    "duration": 101,
    "start_time": "2022-03-13T03:01:56.928Z"
   },
   {
    "duration": -27,
    "start_time": "2022-03-13T03:01:57.058Z"
   },
   {
    "duration": -49,
    "start_time": "2022-03-13T03:01:57.082Z"
   },
   {
    "duration": 16,
    "start_time": "2022-03-13T03:02:17.202Z"
   },
   {
    "duration": 25,
    "start_time": "2022-03-13T03:02:25.187Z"
   },
   {
    "duration": 9,
    "start_time": "2022-03-13T03:02:31.107Z"
   },
   {
    "duration": 416,
    "start_time": "2022-03-13T03:08:14.941Z"
   },
   {
    "duration": 8,
    "start_time": "2022-03-13T03:09:44.693Z"
   },
   {
    "duration": 6,
    "start_time": "2022-03-13T03:13:38.611Z"
   },
   {
    "duration": 34,
    "start_time": "2022-03-13T03:13:51.493Z"
   },
   {
    "duration": 836,
    "start_time": "2022-03-13T03:14:06.460Z"
   },
   {
    "duration": 544,
    "start_time": "2022-03-13T03:14:07.299Z"
   },
   {
    "duration": 22,
    "start_time": "2022-03-13T03:14:07.847Z"
   },
   {
    "duration": 28,
    "start_time": "2022-03-13T03:14:07.872Z"
   },
   {
    "duration": 12,
    "start_time": "2022-03-13T03:14:07.903Z"
   },
   {
    "duration": 60,
    "start_time": "2022-03-13T03:14:07.918Z"
   },
   {
    "duration": 21,
    "start_time": "2022-03-13T03:14:07.981Z"
   },
   {
    "duration": 23,
    "start_time": "2022-03-13T03:14:08.009Z"
   },
   {
    "duration": 37,
    "start_time": "2022-03-13T03:14:08.036Z"
   },
   {
    "duration": 15,
    "start_time": "2022-03-13T03:14:08.076Z"
   },
   {
    "duration": 13,
    "start_time": "2022-03-13T03:14:08.094Z"
   },
   {
    "duration": 159,
    "start_time": "2022-03-13T03:14:08.110Z"
   },
   {
    "duration": 17,
    "start_time": "2022-03-13T03:14:08.273Z"
   },
   {
    "duration": 19,
    "start_time": "2022-03-13T03:14:08.293Z"
   },
   {
    "duration": 319,
    "start_time": "2022-03-13T03:14:08.314Z"
   },
   {
    "duration": 100,
    "start_time": "2022-03-13T03:14:08.636Z"
   },
   {
    "duration": 77,
    "start_time": "2022-03-13T03:14:08.739Z"
   },
   {
    "duration": 33,
    "start_time": "2022-03-13T03:14:08.818Z"
   },
   {
    "duration": 56,
    "start_time": "2022-03-13T03:14:08.853Z"
   },
   {
    "duration": 71,
    "start_time": "2022-03-13T03:14:08.912Z"
   },
   {
    "duration": 26,
    "start_time": "2022-03-13T03:14:08.986Z"
   },
   {
    "duration": 7,
    "start_time": "2022-03-13T03:14:09.015Z"
   },
   {
    "duration": 64,
    "start_time": "2022-03-13T03:14:09.026Z"
   },
   {
    "duration": 4,
    "start_time": "2022-03-13T03:14:09.093Z"
   },
   {
    "duration": 33,
    "start_time": "2022-03-13T03:14:09.099Z"
   },
   {
    "duration": 10,
    "start_time": "2022-03-13T03:14:09.135Z"
   },
   {
    "duration": 762,
    "start_time": "2022-03-13T03:15:34.776Z"
   },
   {
    "duration": 523,
    "start_time": "2022-03-13T03:15:35.541Z"
   },
   {
    "duration": 22,
    "start_time": "2022-03-13T03:15:36.067Z"
   },
   {
    "duration": 40,
    "start_time": "2022-03-13T03:15:36.092Z"
   },
   {
    "duration": 11,
    "start_time": "2022-03-13T03:15:36.135Z"
   },
   {
    "duration": 36,
    "start_time": "2022-03-13T03:15:36.149Z"
   },
   {
    "duration": 10,
    "start_time": "2022-03-13T03:15:36.187Z"
   },
   {
    "duration": 40,
    "start_time": "2022-03-13T03:15:36.201Z"
   },
   {
    "duration": 24,
    "start_time": "2022-03-13T03:15:36.243Z"
   },
   {
    "duration": 19,
    "start_time": "2022-03-13T03:15:36.269Z"
   },
   {
    "duration": 23,
    "start_time": "2022-03-13T03:15:36.291Z"
   },
   {
    "duration": 123,
    "start_time": "2022-03-13T03:15:36.316Z"
   },
   {
    "duration": 16,
    "start_time": "2022-03-13T03:15:36.442Z"
   },
   {
    "duration": 28,
    "start_time": "2022-03-13T03:15:36.474Z"
   },
   {
    "duration": 378,
    "start_time": "2022-03-13T03:15:36.505Z"
   },
   {
    "duration": 124,
    "start_time": "2022-03-13T03:15:36.886Z"
   },
   {
    "duration": 87,
    "start_time": "2022-03-13T03:15:37.013Z"
   },
   {
    "duration": 49,
    "start_time": "2022-03-13T03:15:37.103Z"
   },
   {
    "duration": 69,
    "start_time": "2022-03-13T03:15:37.155Z"
   },
   {
    "duration": 98,
    "start_time": "2022-03-13T03:15:37.227Z"
   },
   {
    "duration": 39,
    "start_time": "2022-03-13T03:15:37.328Z"
   },
   {
    "duration": 8,
    "start_time": "2022-03-13T03:15:37.375Z"
   },
   {
    "duration": 29,
    "start_time": "2022-03-13T03:15:37.389Z"
   },
   {
    "duration": 37,
    "start_time": "2022-03-13T03:15:37.421Z"
   },
   {
    "duration": 12,
    "start_time": "2022-03-13T03:15:37.473Z"
   },
   {
    "duration": 486,
    "start_time": "2022-03-13T03:18:27.495Z"
   },
   {
    "duration": 29,
    "start_time": "2022-03-13T03:18:48.505Z"
   },
   {
    "duration": 11,
    "start_time": "2022-03-13T03:20:34.524Z"
   },
   {
    "duration": 11,
    "start_time": "2022-03-13T03:21:29.257Z"
   },
   {
    "duration": 7,
    "start_time": "2022-03-13T03:22:22.660Z"
   },
   {
    "duration": 18,
    "start_time": "2022-03-13T03:43:13.723Z"
   },
   {
    "duration": 8,
    "start_time": "2022-03-13T03:46:46.943Z"
   },
   {
    "duration": 6,
    "start_time": "2022-03-13T03:48:33.346Z"
   },
   {
    "duration": 9,
    "start_time": "2022-03-13T03:48:55.012Z"
   },
   {
    "duration": 730,
    "start_time": "2022-03-13T03:50:45.319Z"
   },
   {
    "duration": 523,
    "start_time": "2022-03-13T03:50:46.052Z"
   },
   {
    "duration": 22,
    "start_time": "2022-03-13T03:50:46.578Z"
   },
   {
    "duration": 29,
    "start_time": "2022-03-13T03:50:46.603Z"
   },
   {
    "duration": 12,
    "start_time": "2022-03-13T03:50:46.635Z"
   },
   {
    "duration": 23,
    "start_time": "2022-03-13T03:50:46.673Z"
   },
   {
    "duration": 10,
    "start_time": "2022-03-13T03:50:46.699Z"
   },
   {
    "duration": 20,
    "start_time": "2022-03-13T03:50:46.713Z"
   },
   {
    "duration": 48,
    "start_time": "2022-03-13T03:50:46.737Z"
   },
   {
    "duration": 16,
    "start_time": "2022-03-13T03:50:46.788Z"
   },
   {
    "duration": 17,
    "start_time": "2022-03-13T03:50:46.807Z"
   },
   {
    "duration": 146,
    "start_time": "2022-03-13T03:50:46.827Z"
   },
   {
    "duration": 17,
    "start_time": "2022-03-13T03:50:46.976Z"
   },
   {
    "duration": 18,
    "start_time": "2022-03-13T03:50:46.996Z"
   },
   {
    "duration": 296,
    "start_time": "2022-03-13T03:50:47.017Z"
   },
   {
    "duration": 99,
    "start_time": "2022-03-13T03:50:47.316Z"
   },
   {
    "duration": 67,
    "start_time": "2022-03-13T03:50:47.418Z"
   },
   {
    "duration": 37,
    "start_time": "2022-03-13T03:50:47.488Z"
   },
   {
    "duration": 70,
    "start_time": "2022-03-13T03:50:47.528Z"
   },
   {
    "duration": 49,
    "start_time": "2022-03-13T03:50:47.602Z"
   },
   {
    "duration": 43,
    "start_time": "2022-03-13T03:50:47.653Z"
   },
   {
    "duration": 7,
    "start_time": "2022-03-13T03:50:47.698Z"
   },
   {
    "duration": 18,
    "start_time": "2022-03-13T03:50:47.709Z"
   },
   {
    "duration": 65,
    "start_time": "2022-03-13T03:50:47.730Z"
   },
   {
    "duration": 9,
    "start_time": "2022-03-13T03:50:47.797Z"
   },
   {
    "duration": 19,
    "start_time": "2022-03-13T03:50:47.808Z"
   },
   {
    "duration": 44,
    "start_time": "2022-03-13T03:50:47.829Z"
   },
   {
    "duration": 6,
    "start_time": "2022-03-13T03:50:47.876Z"
   },
   {
    "duration": 11,
    "start_time": "2022-03-13T03:50:47.885Z"
   },
   {
    "duration": 21,
    "start_time": "2022-03-13T03:54:27.421Z"
   },
   {
    "duration": 8,
    "start_time": "2022-03-13T04:08:43.451Z"
   },
   {
    "duration": 395,
    "start_time": "2022-03-13T04:09:30.669Z"
   },
   {
    "duration": 430,
    "start_time": "2022-03-13T04:09:54.114Z"
   },
   {
    "duration": 401,
    "start_time": "2022-03-13T04:10:11.947Z"
   },
   {
    "duration": 97,
    "start_time": "2022-03-13T04:30:57.275Z"
   },
   {
    "duration": 7,
    "start_time": "2022-03-13T04:31:22.900Z"
   },
   {
    "duration": 412,
    "start_time": "2022-03-13T04:31:25.060Z"
   },
   {
    "duration": 397,
    "start_time": "2022-03-13T04:32:25.053Z"
   },
   {
    "duration": 389,
    "start_time": "2022-03-13T05:38:55.142Z"
   },
   {
    "duration": 402,
    "start_time": "2022-03-13T05:39:24.551Z"
   },
   {
    "duration": 393,
    "start_time": "2022-03-13T05:39:47.982Z"
   },
   {
    "duration": 7,
    "start_time": "2022-03-13T05:40:01.117Z"
   },
   {
    "duration": 392,
    "start_time": "2022-03-13T05:40:03.471Z"
   },
   {
    "duration": 791,
    "start_time": "2022-03-13T05:40:14.937Z"
   },
   {
    "duration": 527,
    "start_time": "2022-03-13T05:40:15.732Z"
   },
   {
    "duration": 24,
    "start_time": "2022-03-13T05:40:16.263Z"
   },
   {
    "duration": 53,
    "start_time": "2022-03-13T05:40:16.290Z"
   },
   {
    "duration": 25,
    "start_time": "2022-03-13T05:40:16.346Z"
   },
   {
    "duration": 45,
    "start_time": "2022-03-13T05:40:16.374Z"
   },
   {
    "duration": 15,
    "start_time": "2022-03-13T05:40:16.422Z"
   },
   {
    "duration": 29,
    "start_time": "2022-03-13T05:40:16.441Z"
   },
   {
    "duration": 13,
    "start_time": "2022-03-13T05:40:16.473Z"
   },
   {
    "duration": 34,
    "start_time": "2022-03-13T05:40:16.488Z"
   },
   {
    "duration": 16,
    "start_time": "2022-03-13T05:40:16.524Z"
   },
   {
    "duration": 157,
    "start_time": "2022-03-13T05:40:16.543Z"
   },
   {
    "duration": 18,
    "start_time": "2022-03-13T05:40:16.702Z"
   },
   {
    "duration": 29,
    "start_time": "2022-03-13T05:40:16.723Z"
   },
   {
    "duration": 287,
    "start_time": "2022-03-13T05:40:16.755Z"
   },
   {
    "duration": 97,
    "start_time": "2022-03-13T05:40:17.044Z"
   },
   {
    "duration": 57,
    "start_time": "2022-03-13T05:40:17.144Z"
   },
   {
    "duration": 33,
    "start_time": "2022-03-13T05:40:17.204Z"
   },
   {
    "duration": 57,
    "start_time": "2022-03-13T05:40:17.240Z"
   },
   {
    "duration": 47,
    "start_time": "2022-03-13T05:40:17.300Z"
   },
   {
    "duration": 42,
    "start_time": "2022-03-13T05:40:17.349Z"
   },
   {
    "duration": 6,
    "start_time": "2022-03-13T05:40:17.394Z"
   },
   {
    "duration": 34,
    "start_time": "2022-03-13T05:40:17.407Z"
   },
   {
    "duration": 66,
    "start_time": "2022-03-13T05:40:17.444Z"
   },
   {
    "duration": 8,
    "start_time": "2022-03-13T05:40:17.513Z"
   },
   {
    "duration": 33,
    "start_time": "2022-03-13T05:40:17.524Z"
   },
   {
    "duration": 27,
    "start_time": "2022-03-13T05:40:17.559Z"
   },
   {
    "duration": 22,
    "start_time": "2022-03-13T05:40:17.588Z"
   },
   {
    "duration": 16,
    "start_time": "2022-03-13T05:40:17.613Z"
   },
   {
    "duration": 35,
    "start_time": "2022-03-13T05:40:17.631Z"
   },
   {
    "duration": 15,
    "start_time": "2022-03-13T05:40:17.668Z"
   },
   {
    "duration": 435,
    "start_time": "2022-03-13T05:40:17.685Z"
   },
   {
    "duration": 113,
    "start_time": "2022-03-13T05:48:40.479Z"
   },
   {
    "duration": 878,
    "start_time": "2022-03-13T05:48:46.668Z"
   },
   {
    "duration": 526,
    "start_time": "2022-03-13T05:48:47.549Z"
   },
   {
    "duration": 16,
    "start_time": "2022-03-13T05:48:48.081Z"
   },
   {
    "duration": 29,
    "start_time": "2022-03-13T05:48:48.099Z"
   },
   {
    "duration": 12,
    "start_time": "2022-03-13T05:48:48.131Z"
   },
   {
    "duration": 23,
    "start_time": "2022-03-13T05:48:48.173Z"
   },
   {
    "duration": 11,
    "start_time": "2022-03-13T05:48:48.200Z"
   },
   {
    "duration": 20,
    "start_time": "2022-03-13T05:48:48.214Z"
   },
   {
    "duration": 13,
    "start_time": "2022-03-13T05:48:48.272Z"
   },
   {
    "duration": 16,
    "start_time": "2022-03-13T05:48:48.288Z"
   },
   {
    "duration": 11,
    "start_time": "2022-03-13T05:48:48.307Z"
   },
   {
    "duration": 147,
    "start_time": "2022-03-13T05:48:48.320Z"
   },
   {
    "duration": 18,
    "start_time": "2022-03-13T05:48:48.473Z"
   },
   {
    "duration": 19,
    "start_time": "2022-03-13T05:48:48.494Z"
   },
   {
    "duration": 311,
    "start_time": "2022-03-13T05:48:48.516Z"
   },
   {
    "duration": 95,
    "start_time": "2022-03-13T05:48:48.830Z"
   },
   {
    "duration": 60,
    "start_time": "2022-03-13T05:48:48.927Z"
   },
   {
    "duration": 37,
    "start_time": "2022-03-13T05:48:48.989Z"
   },
   {
    "duration": 64,
    "start_time": "2022-03-13T05:48:49.029Z"
   },
   {
    "duration": 109,
    "start_time": "2022-03-13T05:48:49.095Z"
   },
   {
    "duration": 25,
    "start_time": "2022-03-13T05:48:49.206Z"
   },
   {
    "duration": 6,
    "start_time": "2022-03-13T05:48:49.236Z"
   },
   {
    "duration": 44,
    "start_time": "2022-03-13T05:48:49.244Z"
   },
   {
    "duration": 27,
    "start_time": "2022-03-13T05:48:49.291Z"
   },
   {
    "duration": 8,
    "start_time": "2022-03-13T05:48:49.320Z"
   },
   {
    "duration": 47,
    "start_time": "2022-03-13T05:48:49.331Z"
   },
   {
    "duration": 13,
    "start_time": "2022-03-13T05:48:49.381Z"
   },
   {
    "duration": 7,
    "start_time": "2022-03-13T05:48:49.397Z"
   },
   {
    "duration": 9,
    "start_time": "2022-03-13T05:48:49.407Z"
   },
   {
    "duration": 21,
    "start_time": "2022-03-13T05:48:49.419Z"
   },
   {
    "duration": 8,
    "start_time": "2022-03-13T05:48:49.474Z"
   },
   {
    "duration": 404,
    "start_time": "2022-03-13T05:48:49.485Z"
   },
   {
    "duration": 3,
    "start_time": "2022-03-13T05:50:58.491Z"
   },
   {
    "duration": 429,
    "start_time": "2022-03-13T05:51:51.384Z"
   },
   {
    "duration": 3332,
    "start_time": "2022-03-13T05:52:21.581Z"
   },
   {
    "duration": 1746,
    "start_time": "2022-03-13T05:52:45.720Z"
   },
   {
    "duration": 1783,
    "start_time": "2022-03-13T05:52:58.674Z"
   },
   {
    "duration": 11,
    "start_time": "2022-03-13T05:56:50.946Z"
   },
   {
    "duration": 16,
    "start_time": "2022-03-13T06:45:17.079Z"
   },
   {
    "duration": 28,
    "start_time": "2022-03-13T06:45:36.970Z"
   },
   {
    "duration": 37,
    "start_time": "2022-03-13T06:45:42.707Z"
   },
   {
    "duration": 10,
    "start_time": "2022-03-13T06:46:39.157Z"
   },
   {
    "duration": 12,
    "start_time": "2022-03-13T06:48:31.737Z"
   },
   {
    "duration": 1867,
    "start_time": "2022-03-13T06:49:10.559Z"
   },
   {
    "duration": 1897,
    "start_time": "2022-03-13T06:49:39.489Z"
   },
   {
    "duration": 1834,
    "start_time": "2022-03-13T06:49:52.761Z"
   },
   {
    "duration": 445,
    "start_time": "2022-03-13T06:50:04.259Z"
   },
   {
    "duration": 426,
    "start_time": "2022-03-13T06:50:41.391Z"
   },
   {
    "duration": 710,
    "start_time": "2022-03-13T06:51:29.268Z"
   },
   {
    "duration": 411,
    "start_time": "2022-03-13T06:51:42.597Z"
   },
   {
    "duration": 431,
    "start_time": "2022-03-13T06:52:12.648Z"
   },
   {
    "duration": 81,
    "start_time": "2022-03-13T06:53:03.448Z"
   },
   {
    "duration": 11,
    "start_time": "2022-03-13T06:54:25.303Z"
   },
   {
    "duration": 15,
    "start_time": "2022-03-13T11:09:55.685Z"
   },
   {
    "duration": 446,
    "start_time": "2022-03-13T11:31:21.038Z"
   },
   {
    "duration": 411,
    "start_time": "2022-03-13T11:31:39.953Z"
   },
   {
    "duration": 393,
    "start_time": "2022-03-13T11:31:46.687Z"
   },
   {
    "duration": 434,
    "start_time": "2022-03-13T11:31:57.181Z"
   },
   {
    "duration": 447,
    "start_time": "2022-03-13T11:32:08.851Z"
   },
   {
    "duration": 12,
    "start_time": "2022-03-13T11:33:22.060Z"
   },
   {
    "duration": 436,
    "start_time": "2022-03-13T11:34:03.081Z"
   },
   {
    "duration": 12,
    "start_time": "2022-03-13T11:34:20.735Z"
   },
   {
    "duration": 444,
    "start_time": "2022-03-13T11:40:34.675Z"
   },
   {
    "duration": 411,
    "start_time": "2022-03-13T11:40:44.251Z"
   },
   {
    "duration": 568,
    "start_time": "2022-03-13T11:40:49.240Z"
   },
   {
    "duration": 444,
    "start_time": "2022-03-13T11:40:55.309Z"
   },
   {
    "duration": 14,
    "start_time": "2022-03-13T11:41:15.183Z"
   },
   {
    "duration": 392,
    "start_time": "2022-03-13T11:41:32.309Z"
   },
   {
    "duration": 1868,
    "start_time": "2022-03-13T11:41:41.210Z"
   },
   {
    "duration": 570,
    "start_time": "2022-03-13T11:41:47.869Z"
   },
   {
    "duration": 301,
    "start_time": "2022-03-13T11:41:53.159Z"
   },
   {
    "duration": 312,
    "start_time": "2022-03-13T11:42:08.035Z"
   },
   {
    "duration": 453,
    "start_time": "2022-03-13T11:42:24.015Z"
   },
   {
    "duration": 325,
    "start_time": "2022-03-13T11:42:37.801Z"
   },
   {
    "duration": 335,
    "start_time": "2022-03-13T11:43:23.449Z"
   },
   {
    "duration": 12,
    "start_time": "2022-03-13T11:43:44.826Z"
   },
   {
    "duration": 319,
    "start_time": "2022-03-13T11:48:25.122Z"
   },
   {
    "duration": 344,
    "start_time": "2022-03-13T11:48:36.291Z"
   },
   {
    "duration": 353,
    "start_time": "2022-03-13T11:49:05.154Z"
   },
   {
    "duration": 13,
    "start_time": "2022-03-13T11:49:24.548Z"
   },
   {
    "duration": 281,
    "start_time": "2022-03-13T11:49:59.012Z"
   },
   {
    "duration": 289,
    "start_time": "2022-03-13T11:50:13.725Z"
   },
   {
    "duration": 292,
    "start_time": "2022-03-13T11:50:48.914Z"
   },
   {
    "duration": 361,
    "start_time": "2022-03-13T11:50:59.701Z"
   },
   {
    "duration": 12,
    "start_time": "2022-03-13T11:51:26.112Z"
   },
   {
    "duration": 373,
    "start_time": "2022-03-13T11:51:39.911Z"
   },
   {
    "duration": 484,
    "start_time": "2022-03-13T12:00:39.179Z"
   },
   {
    "duration": 380,
    "start_time": "2022-03-13T12:00:57.967Z"
   },
   {
    "duration": 347,
    "start_time": "2022-03-13T12:01:11.426Z"
   },
   {
    "duration": 22,
    "start_time": "2022-03-13T12:01:28.619Z"
   },
   {
    "duration": 3192,
    "start_time": "2022-03-13T12:02:37.154Z"
   },
   {
    "duration": 2682,
    "start_time": "2022-03-13T12:02:48.526Z"
   },
   {
    "duration": 12,
    "start_time": "2022-03-13T12:12:03.989Z"
   },
   {
    "duration": 440,
    "start_time": "2022-03-13T12:28:39.839Z"
   },
   {
    "duration": 15,
    "start_time": "2022-03-13T12:53:36.593Z"
   },
   {
    "duration": 981,
    "start_time": "2022-03-13T12:54:08.990Z"
   },
   {
    "duration": 547,
    "start_time": "2022-03-13T12:54:09.975Z"
   },
   {
    "duration": 19,
    "start_time": "2022-03-13T12:54:10.525Z"
   },
   {
    "duration": 34,
    "start_time": "2022-03-13T12:54:10.547Z"
   },
   {
    "duration": 14,
    "start_time": "2022-03-13T12:54:10.584Z"
   },
   {
    "duration": 41,
    "start_time": "2022-03-13T12:54:10.601Z"
   },
   {
    "duration": 42,
    "start_time": "2022-03-13T12:54:10.645Z"
   },
   {
    "duration": 23,
    "start_time": "2022-03-13T12:54:10.690Z"
   },
   {
    "duration": 12,
    "start_time": "2022-03-13T12:54:10.717Z"
   },
   {
    "duration": 49,
    "start_time": "2022-03-13T12:54:10.733Z"
   },
   {
    "duration": 13,
    "start_time": "2022-03-13T12:54:10.785Z"
   },
   {
    "duration": 148,
    "start_time": "2022-03-13T12:54:10.800Z"
   },
   {
    "duration": 32,
    "start_time": "2022-03-13T12:54:10.952Z"
   },
   {
    "duration": 19,
    "start_time": "2022-03-13T12:54:10.987Z"
   },
   {
    "duration": 307,
    "start_time": "2022-03-13T12:54:11.009Z"
   },
   {
    "duration": 96,
    "start_time": "2022-03-13T12:54:11.318Z"
   },
   {
    "duration": 64,
    "start_time": "2022-03-13T12:54:11.417Z"
   },
   {
    "duration": 34,
    "start_time": "2022-03-13T12:54:11.484Z"
   },
   {
    "duration": 55,
    "start_time": "2022-03-13T12:54:11.520Z"
   },
   {
    "duration": 111,
    "start_time": "2022-03-13T12:54:11.577Z"
   },
   {
    "duration": 28,
    "start_time": "2022-03-13T12:54:11.690Z"
   },
   {
    "duration": 7,
    "start_time": "2022-03-13T12:54:11.720Z"
   },
   {
    "duration": 47,
    "start_time": "2022-03-13T12:54:11.730Z"
   },
   {
    "duration": 28,
    "start_time": "2022-03-13T12:54:11.779Z"
   },
   {
    "duration": 9,
    "start_time": "2022-03-13T12:54:11.809Z"
   },
   {
    "duration": 54,
    "start_time": "2022-03-13T12:54:11.821Z"
   },
   {
    "duration": 9,
    "start_time": "2022-03-13T12:54:11.880Z"
   },
   {
    "duration": 8,
    "start_time": "2022-03-13T12:54:11.891Z"
   },
   {
    "duration": 9,
    "start_time": "2022-03-13T12:54:11.901Z"
   },
   {
    "duration": 61,
    "start_time": "2022-03-13T12:54:11.912Z"
   },
   {
    "duration": 9,
    "start_time": "2022-03-13T12:54:11.975Z"
   },
   {
    "duration": 420,
    "start_time": "2022-03-13T12:54:11.986Z"
   },
   {
    "duration": 17,
    "start_time": "2022-03-13T12:54:12.408Z"
   },
   {
    "duration": 438,
    "start_time": "2022-03-13T12:54:12.427Z"
   },
   {
    "duration": 10,
    "start_time": "2022-03-13T12:54:12.873Z"
   },
   {
    "duration": 440,
    "start_time": "2022-03-13T12:54:12.886Z"
   },
   {
    "duration": 12,
    "start_time": "2022-03-13T12:54:13.329Z"
   },
   {
    "duration": 440,
    "start_time": "2022-03-13T12:54:13.343Z"
   },
   {
    "duration": 11,
    "start_time": "2022-03-13T12:54:13.785Z"
   },
   {
    "duration": 467,
    "start_time": "2022-03-13T12:54:13.798Z"
   },
   {
    "duration": 16,
    "start_time": "2022-03-13T12:54:14.267Z"
   },
   {
    "duration": 348,
    "start_time": "2022-03-13T12:54:14.286Z"
   },
   {
    "duration": 12,
    "start_time": "2022-03-13T12:54:14.637Z"
   },
   {
    "duration": 364,
    "start_time": "2022-03-13T12:54:14.652Z"
   },
   {
    "duration": 12,
    "start_time": "2022-03-13T12:54:15.019Z"
   },
   {
    "duration": 318,
    "start_time": "2022-03-13T12:54:15.033Z"
   },
   {
    "duration": 22,
    "start_time": "2022-03-13T12:54:15.353Z"
   },
   {
    "duration": 385,
    "start_time": "2022-03-13T12:54:15.377Z"
   },
   {
    "duration": 17,
    "start_time": "2022-03-13T12:54:15.764Z"
   },
   {
    "duration": 15,
    "start_time": "2022-03-13T12:54:15.783Z"
   },
   {
    "duration": 681,
    "start_time": "2022-03-13T12:54:15.801Z"
   },
   {
    "duration": 15,
    "start_time": "2022-03-13T12:55:07.623Z"
   },
   {
    "duration": 2636,
    "start_time": "2022-03-13T12:55:08.930Z"
   },
   {
    "duration": 14,
    "start_time": "2022-03-13T13:02:01.101Z"
   },
   {
    "duration": 2924,
    "start_time": "2022-03-13T13:02:25.753Z"
   },
   {
    "duration": 14,
    "start_time": "2022-03-13T13:04:26.088Z"
   },
   {
    "duration": 1742,
    "start_time": "2022-03-13T13:04:30.933Z"
   },
   {
    "duration": 2657,
    "start_time": "2022-03-13T13:08:33.600Z"
   },
   {
    "duration": 7,
    "start_time": "2022-03-13T14:22:34.039Z"
   },
   {
    "duration": 8,
    "start_time": "2022-03-13T14:23:34.732Z"
   },
   {
    "duration": 9,
    "start_time": "2022-03-13T14:37:44.654Z"
   },
   {
    "duration": 34,
    "start_time": "2022-03-13T14:42:11.322Z"
   },
   {
    "duration": 936,
    "start_time": "2022-03-13T14:43:13.389Z"
   },
   {
    "duration": 542,
    "start_time": "2022-03-13T14:43:14.328Z"
   },
   {
    "duration": 17,
    "start_time": "2022-03-13T14:43:14.873Z"
   },
   {
    "duration": 46,
    "start_time": "2022-03-13T14:43:14.893Z"
   },
   {
    "duration": 41,
    "start_time": "2022-03-13T14:43:14.942Z"
   },
   {
    "duration": 27,
    "start_time": "2022-03-13T14:43:14.986Z"
   },
   {
    "duration": 12,
    "start_time": "2022-03-13T14:43:15.016Z"
   },
   {
    "duration": 52,
    "start_time": "2022-03-13T14:43:15.034Z"
   },
   {
    "duration": 20,
    "start_time": "2022-03-13T14:43:15.090Z"
   },
   {
    "duration": 27,
    "start_time": "2022-03-13T14:43:15.113Z"
   },
   {
    "duration": 34,
    "start_time": "2022-03-13T14:43:15.143Z"
   },
   {
    "duration": 200,
    "start_time": "2022-03-13T14:43:15.180Z"
   },
   {
    "duration": 24,
    "start_time": "2022-03-13T14:43:15.383Z"
   },
   {
    "duration": 27,
    "start_time": "2022-03-13T14:43:15.411Z"
   },
   {
    "duration": 402,
    "start_time": "2022-03-13T14:43:15.441Z"
   },
   {
    "duration": 121,
    "start_time": "2022-03-13T14:43:15.846Z"
   },
   {
    "duration": 48,
    "start_time": "2022-03-13T14:43:15.969Z"
   },
   {
    "duration": 54,
    "start_time": "2022-03-13T14:43:16.019Z"
   },
   {
    "duration": 33,
    "start_time": "2022-03-13T14:43:16.075Z"
   },
   {
    "duration": 119,
    "start_time": "2022-03-13T14:43:16.110Z"
   },
   {
    "duration": 28,
    "start_time": "2022-03-13T14:43:16.231Z"
   },
   {
    "duration": 8,
    "start_time": "2022-03-13T14:43:16.275Z"
   },
   {
    "duration": 27,
    "start_time": "2022-03-13T14:43:16.286Z"
   },
   {
    "duration": 29,
    "start_time": "2022-03-13T14:43:16.316Z"
   },
   {
    "duration": 9,
    "start_time": "2022-03-13T14:43:16.373Z"
   },
   {
    "duration": 30,
    "start_time": "2022-03-13T14:43:16.391Z"
   },
   {
    "duration": 17,
    "start_time": "2022-03-13T14:43:16.424Z"
   },
   {
    "duration": 36,
    "start_time": "2022-03-13T14:43:16.443Z"
   },
   {
    "duration": 30,
    "start_time": "2022-03-13T14:43:16.481Z"
   },
   {
    "duration": 32,
    "start_time": "2022-03-13T14:43:16.513Z"
   },
   {
    "duration": 26,
    "start_time": "2022-03-13T14:43:16.547Z"
   },
   {
    "duration": 12203,
    "start_time": "2022-03-13T14:43:16.576Z"
   },
   {
    "duration": -140,
    "start_time": "2022-03-13T14:43:28.921Z"
   },
   {
    "duration": -144,
    "start_time": "2022-03-13T14:43:28.927Z"
   },
   {
    "duration": -151,
    "start_time": "2022-03-13T14:43:28.935Z"
   },
   {
    "duration": -158,
    "start_time": "2022-03-13T14:43:28.944Z"
   },
   {
    "duration": -164,
    "start_time": "2022-03-13T14:43:28.952Z"
   },
   {
    "duration": -169,
    "start_time": "2022-03-13T14:43:28.958Z"
   },
   {
    "duration": -177,
    "start_time": "2022-03-13T14:43:28.967Z"
   },
   {
    "duration": -184,
    "start_time": "2022-03-13T14:43:28.976Z"
   },
   {
    "duration": -191,
    "start_time": "2022-03-13T14:43:28.984Z"
   },
   {
    "duration": -194,
    "start_time": "2022-03-13T14:43:28.989Z"
   },
   {
    "duration": -200,
    "start_time": "2022-03-13T14:43:28.996Z"
   },
   {
    "duration": -206,
    "start_time": "2022-03-13T14:43:29.004Z"
   },
   {
    "duration": -223,
    "start_time": "2022-03-13T14:43:29.022Z"
   },
   {
    "duration": -226,
    "start_time": "2022-03-13T14:43:29.027Z"
   },
   {
    "duration": -230,
    "start_time": "2022-03-13T14:43:29.033Z"
   },
   {
    "duration": -234,
    "start_time": "2022-03-13T14:43:29.039Z"
   },
   {
    "duration": -238,
    "start_time": "2022-03-13T14:43:29.044Z"
   },
   {
    "duration": -243,
    "start_time": "2022-03-13T14:43:29.051Z"
   },
   {
    "duration": -247,
    "start_time": "2022-03-13T14:43:29.056Z"
   },
   {
    "duration": -252,
    "start_time": "2022-03-13T14:43:29.062Z"
   },
   {
    "duration": -258,
    "start_time": "2022-03-13T14:43:29.070Z"
   },
   {
    "duration": 8,
    "start_time": "2022-03-13T14:45:34.199Z"
   },
   {
    "duration": 8,
    "start_time": "2022-03-13T14:45:38.843Z"
   },
   {
    "duration": 8,
    "start_time": "2022-03-13T14:45:44.766Z"
   },
   {
    "duration": 8495,
    "start_time": "2022-03-13T14:45:46.379Z"
   },
   {
    "duration": 43,
    "start_time": "2022-03-13T14:46:30.972Z"
   },
   {
    "duration": 896,
    "start_time": "2022-03-13T14:46:39.306Z"
   },
   {
    "duration": 541,
    "start_time": "2022-03-13T14:46:40.205Z"
   },
   {
    "duration": 18,
    "start_time": "2022-03-13T14:46:40.749Z"
   },
   {
    "duration": 35,
    "start_time": "2022-03-13T14:46:40.769Z"
   },
   {
    "duration": 12,
    "start_time": "2022-03-13T14:46:40.807Z"
   },
   {
    "duration": 26,
    "start_time": "2022-03-13T14:46:40.822Z"
   },
   {
    "duration": 30,
    "start_time": "2022-03-13T14:46:40.851Z"
   },
   {
    "duration": 25,
    "start_time": "2022-03-13T14:46:40.884Z"
   },
   {
    "duration": 21,
    "start_time": "2022-03-13T14:46:40.913Z"
   },
   {
    "duration": 44,
    "start_time": "2022-03-13T14:46:40.937Z"
   },
   {
    "duration": 10,
    "start_time": "2022-03-13T14:46:40.983Z"
   },
   {
    "duration": 142,
    "start_time": "2022-03-13T14:46:40.996Z"
   },
   {
    "duration": 32,
    "start_time": "2022-03-13T14:46:41.141Z"
   },
   {
    "duration": 19,
    "start_time": "2022-03-13T14:46:41.175Z"
   },
   {
    "duration": 285,
    "start_time": "2022-03-13T14:46:41.197Z"
   },
   {
    "duration": 99,
    "start_time": "2022-03-13T14:46:41.484Z"
   },
   {
    "duration": 48,
    "start_time": "2022-03-13T14:46:41.585Z"
   },
   {
    "duration": 55,
    "start_time": "2022-03-13T14:46:41.635Z"
   },
   {
    "duration": 34,
    "start_time": "2022-03-13T14:46:41.692Z"
   },
   {
    "duration": 119,
    "start_time": "2022-03-13T14:46:41.729Z"
   },
   {
    "duration": 40,
    "start_time": "2022-03-13T14:46:41.851Z"
   },
   {
    "duration": 8,
    "start_time": "2022-03-13T14:46:41.896Z"
   },
   {
    "duration": 21,
    "start_time": "2022-03-13T14:46:41.906Z"
   },
   {
    "duration": 65,
    "start_time": "2022-03-13T14:46:41.930Z"
   },
   {
    "duration": 11,
    "start_time": "2022-03-13T14:46:41.998Z"
   },
   {
    "duration": 31,
    "start_time": "2022-03-13T14:46:42.012Z"
   },
   {
    "duration": 30,
    "start_time": "2022-03-13T14:46:42.050Z"
   },
   {
    "duration": 17,
    "start_time": "2022-03-13T14:46:42.084Z"
   },
   {
    "duration": 18,
    "start_time": "2022-03-13T14:46:42.103Z"
   },
   {
    "duration": 49,
    "start_time": "2022-03-13T14:46:42.124Z"
   },
   {
    "duration": 11,
    "start_time": "2022-03-13T14:46:42.176Z"
   },
   {
    "duration": 651,
    "start_time": "2022-03-13T14:46:42.190Z"
   },
   {
    "duration": 28,
    "start_time": "2022-03-13T14:46:42.845Z"
   },
   {
    "duration": 425,
    "start_time": "2022-03-13T14:46:42.876Z"
   },
   {
    "duration": 12,
    "start_time": "2022-03-13T14:46:43.303Z"
   },
   {
    "duration": 12,
    "start_time": "2022-03-13T14:46:43.317Z"
   },
   {
    "duration": 531,
    "start_time": "2022-03-13T14:46:43.331Z"
   },
   {
    "duration": 14,
    "start_time": "2022-03-13T14:46:43.865Z"
   },
   {
    "duration": 9034,
    "start_time": "2022-03-13T14:46:43.882Z"
   },
   {
    "duration": 33,
    "start_time": "2022-03-13T14:46:52.886Z"
   },
   {
    "duration": 25,
    "start_time": "2022-03-13T14:46:52.895Z"
   },
   {
    "duration": 19,
    "start_time": "2022-03-13T14:46:52.903Z"
   },
   {
    "duration": 14,
    "start_time": "2022-03-13T14:46:52.910Z"
   },
   {
    "duration": -13,
    "start_time": "2022-03-13T14:46:52.939Z"
   },
   {
    "duration": -36,
    "start_time": "2022-03-13T14:46:52.963Z"
   },
   {
    "duration": -67,
    "start_time": "2022-03-13T14:46:52.996Z"
   },
   {
    "duration": -85,
    "start_time": "2022-03-13T14:46:53.015Z"
   },
   {
    "duration": -91,
    "start_time": "2022-03-13T14:46:53.023Z"
   },
   {
    "duration": -97,
    "start_time": "2022-03-13T14:46:53.030Z"
   },
   {
    "duration": -101,
    "start_time": "2022-03-13T14:46:53.036Z"
   },
   {
    "duration": -109,
    "start_time": "2022-03-13T14:46:53.046Z"
   },
   {
    "duration": -130,
    "start_time": "2022-03-13T14:46:53.068Z"
   },
   {
    "duration": -135,
    "start_time": "2022-03-13T14:46:53.075Z"
   },
   {
    "duration": 397,
    "start_time": "2022-03-13T14:47:29.515Z"
   },
   {
    "duration": 11,
    "start_time": "2022-03-13T14:47:35.684Z"
   },
   {
    "duration": 505,
    "start_time": "2022-03-13T14:47:42.122Z"
   },
   {
    "duration": 11,
    "start_time": "2022-03-13T14:47:47.154Z"
   },
   {
    "duration": 311,
    "start_time": "2022-03-13T14:47:53.209Z"
   },
   {
    "duration": 14,
    "start_time": "2022-03-13T14:47:54.429Z"
   },
   {
    "duration": 304,
    "start_time": "2022-03-13T14:47:57.958Z"
   },
   {
    "duration": 12,
    "start_time": "2022-03-13T14:47:59.127Z"
   },
   {
    "duration": 316,
    "start_time": "2022-03-13T14:48:00.572Z"
   },
   {
    "duration": 13,
    "start_time": "2022-03-13T14:48:01.645Z"
   },
   {
    "duration": 430,
    "start_time": "2022-03-13T14:48:03.562Z"
   },
   {
    "duration": 13,
    "start_time": "2022-03-13T14:48:04.704Z"
   },
   {
    "duration": 327,
    "start_time": "2022-03-13T14:48:07.024Z"
   },
   {
    "duration": 16,
    "start_time": "2022-03-13T14:48:14.959Z"
   },
   {
    "duration": 2611,
    "start_time": "2022-03-13T14:48:17.735Z"
   },
   {
    "duration": 2730,
    "start_time": "2022-03-13T14:48:25.217Z"
   },
   {
    "duration": 13,
    "start_time": "2022-03-13T14:49:59.798Z"
   },
   {
    "duration": 7,
    "start_time": "2022-03-13T14:52:46.222Z"
   },
   {
    "duration": 926,
    "start_time": "2022-03-13T14:52:56.690Z"
   },
   {
    "duration": 542,
    "start_time": "2022-03-13T14:52:57.618Z"
   },
   {
    "duration": 16,
    "start_time": "2022-03-13T14:52:58.163Z"
   },
   {
    "duration": 27,
    "start_time": "2022-03-13T14:52:58.181Z"
   },
   {
    "duration": 13,
    "start_time": "2022-03-13T14:52:58.210Z"
   },
   {
    "duration": 55,
    "start_time": "2022-03-13T14:52:58.226Z"
   },
   {
    "duration": 11,
    "start_time": "2022-03-13T14:52:58.284Z"
   },
   {
    "duration": 21,
    "start_time": "2022-03-13T14:52:58.299Z"
   },
   {
    "duration": 13,
    "start_time": "2022-03-13T14:52:58.324Z"
   },
   {
    "duration": 14,
    "start_time": "2022-03-13T14:52:58.375Z"
   },
   {
    "duration": 9,
    "start_time": "2022-03-13T14:52:58.392Z"
   },
   {
    "duration": 146,
    "start_time": "2022-03-13T14:52:58.404Z"
   },
   {
    "duration": 30,
    "start_time": "2022-03-13T14:52:58.553Z"
   },
   {
    "duration": 19,
    "start_time": "2022-03-13T14:52:58.587Z"
   },
   {
    "duration": 299,
    "start_time": "2022-03-13T14:52:58.609Z"
   },
   {
    "duration": 105,
    "start_time": "2022-03-13T14:52:58.911Z"
   },
   {
    "duration": 68,
    "start_time": "2022-03-13T14:52:59.019Z"
   },
   {
    "duration": 31,
    "start_time": "2022-03-13T14:52:59.090Z"
   },
   {
    "duration": 54,
    "start_time": "2022-03-13T14:52:59.123Z"
   },
   {
    "duration": 111,
    "start_time": "2022-03-13T14:52:59.179Z"
   },
   {
    "duration": 26,
    "start_time": "2022-03-13T14:52:59.292Z"
   },
   {
    "duration": 6,
    "start_time": "2022-03-13T14:52:59.320Z"
   },
   {
    "duration": 49,
    "start_time": "2022-03-13T14:52:59.331Z"
   },
   {
    "duration": 29,
    "start_time": "2022-03-13T14:52:59.383Z"
   },
   {
    "duration": 8,
    "start_time": "2022-03-13T14:52:59.414Z"
   },
   {
    "duration": 52,
    "start_time": "2022-03-13T14:52:59.425Z"
   },
   {
    "duration": 10,
    "start_time": "2022-03-13T14:52:59.480Z"
   },
   {
    "duration": 8,
    "start_time": "2022-03-13T14:52:59.492Z"
   },
   {
    "duration": 10,
    "start_time": "2022-03-13T14:52:59.503Z"
   },
   {
    "duration": 10,
    "start_time": "2022-03-13T14:52:59.517Z"
   },
   {
    "duration": 412,
    "start_time": "2022-03-13T14:52:59.574Z"
   },
   {
    "duration": 21,
    "start_time": "2022-03-13T14:52:59.989Z"
   },
   {
    "duration": 454,
    "start_time": "2022-03-13T14:53:00.013Z"
   },
   {
    "duration": 11,
    "start_time": "2022-03-13T14:53:00.473Z"
   },
   {
    "duration": 11,
    "start_time": "2022-03-13T14:53:00.486Z"
   },
   {
    "duration": 455,
    "start_time": "2022-03-13T14:53:00.500Z"
   },
   {
    "duration": 20,
    "start_time": "2022-03-13T14:53:00.957Z"
   },
   {
    "duration": 431,
    "start_time": "2022-03-13T14:53:00.979Z"
   },
   {
    "duration": 11,
    "start_time": "2022-03-13T14:53:01.412Z"
   },
   {
    "duration": 447,
    "start_time": "2022-03-13T14:53:01.425Z"
   },
   {
    "duration": 13,
    "start_time": "2022-03-13T14:53:01.876Z"
   },
   {
    "duration": 350,
    "start_time": "2022-03-13T14:53:01.892Z"
   },
   {
    "duration": 11,
    "start_time": "2022-03-13T14:53:02.245Z"
   },
   {
    "duration": 343,
    "start_time": "2022-03-13T14:53:02.273Z"
   },
   {
    "duration": 12,
    "start_time": "2022-03-13T14:53:02.618Z"
   },
   {
    "duration": 348,
    "start_time": "2022-03-13T14:53:02.633Z"
   },
   {
    "duration": 12,
    "start_time": "2022-03-13T14:53:02.983Z"
   },
   {
    "duration": 394,
    "start_time": "2022-03-13T14:53:02.997Z"
   },
   {
    "duration": 13,
    "start_time": "2022-03-13T14:53:03.394Z"
   },
   {
    "duration": 17,
    "start_time": "2022-03-13T14:53:03.410Z"
   },
   {
    "duration": 2645,
    "start_time": "2022-03-13T14:53:03.429Z"
   },
   {
    "duration": 2630,
    "start_time": "2022-03-13T14:53:06.077Z"
   },
   {
    "duration": 7,
    "start_time": "2022-03-13T15:17:03.839Z"
   },
   {
    "duration": 6,
    "start_time": "2022-03-13T15:17:27.516Z"
   },
   {
    "duration": 391,
    "start_time": "2022-03-13T15:31:09.646Z"
   },
   {
    "duration": 552,
    "start_time": "2022-03-13T15:32:13.680Z"
   },
   {
    "duration": 1412,
    "start_time": "2022-03-13T15:32:20.428Z"
   },
   {
    "duration": 556,
    "start_time": "2022-03-13T15:32:21.843Z"
   },
   {
    "duration": 17,
    "start_time": "2022-03-13T15:32:22.403Z"
   },
   {
    "duration": 43,
    "start_time": "2022-03-13T15:32:22.423Z"
   },
   {
    "duration": 34,
    "start_time": "2022-03-13T15:32:22.468Z"
   },
   {
    "duration": 43,
    "start_time": "2022-03-13T15:32:22.505Z"
   },
   {
    "duration": 19,
    "start_time": "2022-03-13T15:32:22.551Z"
   },
   {
    "duration": 31,
    "start_time": "2022-03-13T15:32:22.572Z"
   },
   {
    "duration": 22,
    "start_time": "2022-03-13T15:32:22.607Z"
   },
   {
    "duration": 37,
    "start_time": "2022-03-13T15:32:22.632Z"
   },
   {
    "duration": 39,
    "start_time": "2022-03-13T15:32:22.672Z"
   },
   {
    "duration": 135,
    "start_time": "2022-03-13T15:32:22.713Z"
   },
   {
    "duration": 38,
    "start_time": "2022-03-13T15:32:22.850Z"
   },
   {
    "duration": 19,
    "start_time": "2022-03-13T15:32:22.890Z"
   },
   {
    "duration": 316,
    "start_time": "2022-03-13T15:32:22.911Z"
   },
   {
    "duration": 104,
    "start_time": "2022-03-13T15:32:23.230Z"
   },
   {
    "duration": 70,
    "start_time": "2022-03-13T15:32:23.337Z"
   },
   {
    "duration": 33,
    "start_time": "2022-03-13T15:32:23.410Z"
   },
   {
    "duration": 57,
    "start_time": "2022-03-13T15:32:23.446Z"
   },
   {
    "duration": 67,
    "start_time": "2022-03-13T15:32:23.506Z"
   },
   {
    "duration": 27,
    "start_time": "2022-03-13T15:32:23.576Z"
   },
   {
    "duration": 7,
    "start_time": "2022-03-13T15:32:23.606Z"
   },
   {
    "duration": 60,
    "start_time": "2022-03-13T15:32:23.616Z"
   },
   {
    "duration": 25,
    "start_time": "2022-03-13T15:32:23.679Z"
   },
   {
    "duration": 11,
    "start_time": "2022-03-13T15:32:23.707Z"
   },
   {
    "duration": 39,
    "start_time": "2022-03-13T15:32:23.721Z"
   },
   {
    "duration": 11,
    "start_time": "2022-03-13T15:32:23.776Z"
   },
   {
    "duration": 29,
    "start_time": "2022-03-13T15:32:23.791Z"
   },
   {
    "duration": 26,
    "start_time": "2022-03-13T15:32:23.822Z"
   },
   {
    "duration": 16,
    "start_time": "2022-03-13T15:32:23.851Z"
   },
   {
    "duration": 593,
    "start_time": "2022-03-13T15:32:23.869Z"
   },
   {
    "duration": 22,
    "start_time": "2022-03-13T15:32:24.464Z"
   },
   {
    "duration": 431,
    "start_time": "2022-03-13T15:32:24.488Z"
   },
   {
    "duration": 14,
    "start_time": "2022-03-13T15:32:24.922Z"
   },
   {
    "duration": 36,
    "start_time": "2022-03-13T15:32:24.939Z"
   },
   {
    "duration": 453,
    "start_time": "2022-03-13T15:32:24.978Z"
   },
   {
    "duration": 11,
    "start_time": "2022-03-13T15:32:25.434Z"
   },
   {
    "duration": 27,
    "start_time": "2022-03-13T15:32:25.448Z"
   },
   {
    "duration": 419,
    "start_time": "2022-03-13T15:32:25.478Z"
   },
   {
    "duration": 12,
    "start_time": "2022-03-13T15:32:25.899Z"
   },
   {
    "duration": 456,
    "start_time": "2022-03-13T15:32:25.914Z"
   },
   {
    "duration": 14,
    "start_time": "2022-03-13T15:32:26.374Z"
   },
   {
    "duration": 356,
    "start_time": "2022-03-13T15:32:26.391Z"
   },
   {
    "duration": 25,
    "start_time": "2022-03-13T15:32:26.751Z"
   },
   {
    "duration": 432,
    "start_time": "2022-03-13T15:32:26.779Z"
   },
   {
    "duration": 11,
    "start_time": "2022-03-13T15:32:27.213Z"
   },
   {
    "duration": 347,
    "start_time": "2022-03-13T15:32:27.226Z"
   },
   {
    "duration": 12,
    "start_time": "2022-03-13T15:32:27.576Z"
   },
   {
    "duration": 389,
    "start_time": "2022-03-13T15:32:27.590Z"
   },
   {
    "duration": 11,
    "start_time": "2022-03-13T15:32:27.981Z"
   },
   {
    "duration": 20,
    "start_time": "2022-03-13T15:32:27.995Z"
   },
   {
    "duration": 2441,
    "start_time": "2022-03-13T15:32:28.017Z"
   },
   {
    "duration": 2888,
    "start_time": "2022-03-13T15:32:30.461Z"
   },
   {
    "duration": 30,
    "start_time": "2022-03-13T15:32:33.352Z"
   },
   {
    "duration": 410,
    "start_time": "2022-03-13T15:34:19.034Z"
   },
   {
    "duration": 15,
    "start_time": "2022-03-13T15:35:41.000Z"
   },
   {
    "duration": 1115,
    "start_time": "2022-03-14T14:26:04.019Z"
   },
   {
    "duration": 67,
    "start_time": "2022-03-14T14:32:47.122Z"
   },
   {
    "duration": 1103,
    "start_time": "2022-03-14T14:32:53.435Z"
   },
   {
    "duration": 398,
    "start_time": "2022-03-14T14:32:54.540Z"
   },
   {
    "duration": 13,
    "start_time": "2022-03-14T14:32:54.942Z"
   },
   {
    "duration": 58,
    "start_time": "2022-03-14T14:32:54.956Z"
   },
   {
    "duration": 8,
    "start_time": "2022-03-14T14:32:55.016Z"
   },
   {
    "duration": 26,
    "start_time": "2022-03-14T14:32:55.026Z"
   },
   {
    "duration": 8,
    "start_time": "2022-03-14T14:32:55.055Z"
   },
   {
    "duration": 25,
    "start_time": "2022-03-14T14:32:55.065Z"
   },
   {
    "duration": 33,
    "start_time": "2022-03-14T14:32:55.091Z"
   },
   {
    "duration": 18,
    "start_time": "2022-03-14T14:32:55.126Z"
   },
   {
    "duration": 17,
    "start_time": "2022-03-14T14:32:55.145Z"
   },
   {
    "duration": 91,
    "start_time": "2022-03-14T14:32:55.163Z"
   },
   {
    "duration": 12,
    "start_time": "2022-03-14T14:32:55.255Z"
   },
   {
    "duration": 32,
    "start_time": "2022-03-14T14:32:55.269Z"
   },
   {
    "duration": 198,
    "start_time": "2022-03-14T14:32:55.302Z"
   },
   {
    "duration": 72,
    "start_time": "2022-03-14T14:32:55.502Z"
   },
   {
    "duration": 36,
    "start_time": "2022-03-14T14:32:55.575Z"
   },
   {
    "duration": 34,
    "start_time": "2022-03-14T14:32:55.612Z"
   },
   {
    "duration": 25,
    "start_time": "2022-03-14T14:32:55.648Z"
   },
   {
    "duration": 32,
    "start_time": "2022-03-14T14:32:55.675Z"
   },
   {
    "duration": 42,
    "start_time": "2022-03-14T14:32:55.708Z"
   },
   {
    "duration": 4,
    "start_time": "2022-03-14T14:32:55.754Z"
   },
   {
    "duration": 26,
    "start_time": "2022-03-14T14:32:55.760Z"
   },
   {
    "duration": 37,
    "start_time": "2022-03-14T14:32:55.788Z"
   },
   {
    "duration": 20,
    "start_time": "2022-03-14T14:32:55.827Z"
   },
   {
    "duration": 29,
    "start_time": "2022-03-14T14:32:55.849Z"
   },
   {
    "duration": 22,
    "start_time": "2022-03-14T14:32:55.879Z"
   },
   {
    "duration": 14,
    "start_time": "2022-03-14T14:32:55.902Z"
   },
   {
    "duration": 16,
    "start_time": "2022-03-14T14:32:55.918Z"
   },
   {
    "duration": 25,
    "start_time": "2022-03-14T14:32:55.936Z"
   },
   {
    "duration": 271,
    "start_time": "2022-03-14T14:32:55.963Z"
   },
   {
    "duration": 9,
    "start_time": "2022-03-14T14:32:56.236Z"
   },
   {
    "duration": 264,
    "start_time": "2022-03-14T14:32:56.247Z"
   },
   {
    "duration": 7,
    "start_time": "2022-03-14T14:32:56.513Z"
   },
   {
    "duration": 81,
    "start_time": "2022-03-14T14:32:56.521Z"
   },
   {
    "duration": -410,
    "start_time": "2022-03-14T14:32:57.014Z"
   },
   {
    "duration": -415,
    "start_time": "2022-03-14T14:32:57.020Z"
   },
   {
    "duration": -420,
    "start_time": "2022-03-14T14:32:57.025Z"
   },
   {
    "duration": -426,
    "start_time": "2022-03-14T14:32:57.032Z"
   },
   {
    "duration": -430,
    "start_time": "2022-03-14T14:32:57.037Z"
   },
   {
    "duration": -435,
    "start_time": "2022-03-14T14:32:57.043Z"
   },
   {
    "duration": -438,
    "start_time": "2022-03-14T14:32:57.047Z"
   },
   {
    "duration": -443,
    "start_time": "2022-03-14T14:32:57.053Z"
   },
   {
    "duration": -446,
    "start_time": "2022-03-14T14:32:57.057Z"
   },
   {
    "duration": -451,
    "start_time": "2022-03-14T14:32:57.063Z"
   },
   {
    "duration": -455,
    "start_time": "2022-03-14T14:32:57.068Z"
   },
   {
    "duration": -460,
    "start_time": "2022-03-14T14:32:57.073Z"
   },
   {
    "duration": -464,
    "start_time": "2022-03-14T14:32:57.078Z"
   },
   {
    "duration": -469,
    "start_time": "2022-03-14T14:32:57.084Z"
   },
   {
    "duration": -473,
    "start_time": "2022-03-14T14:32:57.089Z"
   },
   {
    "duration": -477,
    "start_time": "2022-03-14T14:32:57.094Z"
   },
   {
    "duration": -481,
    "start_time": "2022-03-14T14:32:57.099Z"
   },
   {
    "duration": -497,
    "start_time": "2022-03-14T14:32:57.116Z"
   },
   {
    "duration": -503,
    "start_time": "2022-03-14T14:32:57.123Z"
   },
   {
    "duration": -507,
    "start_time": "2022-03-14T14:32:57.128Z"
   },
   {
    "duration": 4,
    "start_time": "2022-03-14T14:33:54.045Z"
   },
   {
    "duration": 1090,
    "start_time": "2022-03-14T14:34:00.348Z"
   },
   {
    "duration": 399,
    "start_time": "2022-03-14T14:34:01.440Z"
   },
   {
    "duration": 12,
    "start_time": "2022-03-14T14:34:01.841Z"
   },
   {
    "duration": 40,
    "start_time": "2022-03-14T14:34:01.854Z"
   },
   {
    "duration": 8,
    "start_time": "2022-03-14T14:34:01.896Z"
   },
   {
    "duration": 24,
    "start_time": "2022-03-14T14:34:01.906Z"
   },
   {
    "duration": 7,
    "start_time": "2022-03-14T14:34:01.932Z"
   },
   {
    "duration": 23,
    "start_time": "2022-03-14T14:34:01.942Z"
   },
   {
    "duration": 9,
    "start_time": "2022-03-14T14:34:01.967Z"
   },
   {
    "duration": 22,
    "start_time": "2022-03-14T14:34:01.978Z"
   },
   {
    "duration": 8,
    "start_time": "2022-03-14T14:34:02.002Z"
   },
   {
    "duration": 96,
    "start_time": "2022-03-14T14:34:02.012Z"
   },
   {
    "duration": 12,
    "start_time": "2022-03-14T14:34:02.110Z"
   },
   {
    "duration": 26,
    "start_time": "2022-03-14T14:34:02.123Z"
   },
   {
    "duration": 202,
    "start_time": "2022-03-14T14:34:02.151Z"
   },
   {
    "duration": 62,
    "start_time": "2022-03-14T14:34:02.355Z"
   },
   {
    "duration": 53,
    "start_time": "2022-03-14T14:34:02.419Z"
   },
   {
    "duration": 21,
    "start_time": "2022-03-14T14:34:02.474Z"
   },
   {
    "duration": 42,
    "start_time": "2022-03-14T14:34:02.497Z"
   },
   {
    "duration": 33,
    "start_time": "2022-03-14T14:34:02.540Z"
   },
   {
    "duration": 18,
    "start_time": "2022-03-14T14:34:02.574Z"
   },
   {
    "duration": 5,
    "start_time": "2022-03-14T14:34:02.593Z"
   },
   {
    "duration": 46,
    "start_time": "2022-03-14T14:34:02.601Z"
   },
   {
    "duration": 18,
    "start_time": "2022-03-14T14:34:02.649Z"
   },
   {
    "duration": 6,
    "start_time": "2022-03-14T14:34:02.669Z"
   },
   {
    "duration": 27,
    "start_time": "2022-03-14T14:34:02.676Z"
   },
   {
    "duration": 12,
    "start_time": "2022-03-14T14:34:02.704Z"
   },
   {
    "duration": 19,
    "start_time": "2022-03-14T14:34:02.718Z"
   },
   {
    "duration": 7,
    "start_time": "2022-03-14T14:34:02.739Z"
   },
   {
    "duration": 12,
    "start_time": "2022-03-14T14:34:02.747Z"
   },
   {
    "duration": 243,
    "start_time": "2022-03-14T14:34:02.760Z"
   },
   {
    "duration": 10,
    "start_time": "2022-03-14T14:34:03.005Z"
   },
   {
    "duration": 262,
    "start_time": "2022-03-14T14:34:03.017Z"
   },
   {
    "duration": 8,
    "start_time": "2022-03-14T14:34:03.281Z"
   },
   {
    "duration": 6,
    "start_time": "2022-03-14T14:34:03.290Z"
   },
   {
    "duration": 278,
    "start_time": "2022-03-14T14:34:03.297Z"
   },
   {
    "duration": 7,
    "start_time": "2022-03-14T14:34:03.577Z"
   },
   {
    "duration": 10,
    "start_time": "2022-03-14T14:34:03.586Z"
   },
   {
    "duration": 271,
    "start_time": "2022-03-14T14:34:03.598Z"
   },
   {
    "duration": 8,
    "start_time": "2022-03-14T14:34:03.871Z"
   },
   {
    "duration": 283,
    "start_time": "2022-03-14T14:34:03.881Z"
   },
   {
    "duration": 9,
    "start_time": "2022-03-14T14:34:04.166Z"
   },
   {
    "duration": 228,
    "start_time": "2022-03-14T14:34:04.177Z"
   },
   {
    "duration": 8,
    "start_time": "2022-03-14T14:34:04.407Z"
   },
   {
    "duration": 301,
    "start_time": "2022-03-14T14:34:04.417Z"
   },
   {
    "duration": 7,
    "start_time": "2022-03-14T14:34:04.720Z"
   },
   {
    "duration": 206,
    "start_time": "2022-03-14T14:34:04.738Z"
   },
   {
    "duration": 9,
    "start_time": "2022-03-14T14:34:04.946Z"
   },
   {
    "duration": 246,
    "start_time": "2022-03-14T14:34:04.957Z"
   },
   {
    "duration": 8,
    "start_time": "2022-03-14T14:34:05.205Z"
   },
   {
    "duration": 27,
    "start_time": "2022-03-14T14:34:05.215Z"
   },
   {
    "duration": 1642,
    "start_time": "2022-03-14T14:34:05.244Z"
   },
   {
    "duration": 1737,
    "start_time": "2022-03-14T14:34:06.888Z"
   },
   {
    "duration": 13,
    "start_time": "2022-03-14T14:34:08.626Z"
   },
   {
    "duration": 14,
    "start_time": "2022-03-14T14:34:08.641Z"
   },
   {
    "duration": 8,
    "start_time": "2022-03-14T14:58:31.081Z"
   },
   {
    "duration": 5,
    "start_time": "2022-03-14T15:08:21.541Z"
   },
   {
    "duration": 4915,
    "start_time": "2022-03-14T15:14:15.371Z"
   },
   {
    "duration": 9,
    "start_time": "2022-03-14T15:14:30.589Z"
   },
   {
    "duration": 6,
    "start_time": "2022-03-14T15:15:01.002Z"
   },
   {
    "duration": 5,
    "start_time": "2022-03-14T15:17:46.431Z"
   },
   {
    "duration": 9,
    "start_time": "2022-03-14T15:19:53.060Z"
   },
   {
    "duration": 200,
    "start_time": "2022-03-14T15:19:58.693Z"
   },
   {
    "duration": 5,
    "start_time": "2022-03-14T15:28:08.680Z"
   },
   {
    "duration": 4,
    "start_time": "2022-03-14T15:30:09.110Z"
   },
   {
    "duration": 4,
    "start_time": "2022-03-14T15:30:16.865Z"
   },
   {
    "duration": 1208,
    "start_time": "2022-03-14T16:34:13.754Z"
   },
   {
    "duration": 484,
    "start_time": "2022-03-14T16:34:14.964Z"
   },
   {
    "duration": 13,
    "start_time": "2022-03-14T16:34:15.450Z"
   },
   {
    "duration": 25,
    "start_time": "2022-03-14T16:34:15.465Z"
   },
   {
    "duration": 9,
    "start_time": "2022-03-14T16:34:15.492Z"
   },
   {
    "duration": 40,
    "start_time": "2022-03-14T16:34:15.503Z"
   },
   {
    "duration": 7,
    "start_time": "2022-03-14T16:34:15.545Z"
   },
   {
    "duration": 17,
    "start_time": "2022-03-14T16:34:15.555Z"
   },
   {
    "duration": 8,
    "start_time": "2022-03-14T16:34:15.574Z"
   },
   {
    "duration": 12,
    "start_time": "2022-03-14T16:34:15.583Z"
   },
   {
    "duration": 45,
    "start_time": "2022-03-14T16:34:15.597Z"
   },
   {
    "duration": 82,
    "start_time": "2022-03-14T16:34:15.644Z"
   },
   {
    "duration": 15,
    "start_time": "2022-03-14T16:34:15.739Z"
   },
   {
    "duration": 15,
    "start_time": "2022-03-14T16:34:15.756Z"
   },
   {
    "duration": 250,
    "start_time": "2022-03-14T16:34:15.774Z"
   },
   {
    "duration": 68,
    "start_time": "2022-03-14T16:34:16.026Z"
   },
   {
    "duration": 50,
    "start_time": "2022-03-14T16:34:16.096Z"
   },
   {
    "duration": 22,
    "start_time": "2022-03-14T16:34:16.148Z"
   },
   {
    "duration": 24,
    "start_time": "2022-03-14T16:34:16.172Z"
   },
   {
    "duration": 60,
    "start_time": "2022-03-14T16:34:16.197Z"
   },
   {
    "duration": 16,
    "start_time": "2022-03-14T16:34:16.259Z"
   },
   {
    "duration": 5,
    "start_time": "2022-03-14T16:34:16.277Z"
   },
   {
    "duration": 14,
    "start_time": "2022-03-14T16:34:16.285Z"
   },
   {
    "duration": 44,
    "start_time": "2022-03-14T16:34:16.302Z"
   },
   {
    "duration": 7,
    "start_time": "2022-03-14T16:34:16.348Z"
   },
   {
    "duration": 13,
    "start_time": "2022-03-14T16:34:16.357Z"
   },
   {
    "duration": 11,
    "start_time": "2022-03-14T16:34:16.372Z"
   },
   {
    "duration": 5,
    "start_time": "2022-03-14T16:34:16.385Z"
   },
   {
    "duration": 8,
    "start_time": "2022-03-14T16:34:16.392Z"
   },
   {
    "duration": 6,
    "start_time": "2022-03-14T16:34:16.401Z"
   },
   {
    "duration": 273,
    "start_time": "2022-03-14T16:34:16.409Z"
   },
   {
    "duration": 9,
    "start_time": "2022-03-14T16:34:16.684Z"
   },
   {
    "duration": 293,
    "start_time": "2022-03-14T16:34:16.695Z"
   },
   {
    "duration": 8,
    "start_time": "2022-03-14T16:34:16.989Z"
   },
   {
    "duration": 4,
    "start_time": "2022-03-14T16:34:16.999Z"
   },
   {
    "duration": 299,
    "start_time": "2022-03-14T16:34:17.005Z"
   },
   {
    "duration": 8,
    "start_time": "2022-03-14T16:34:17.306Z"
   },
   {
    "duration": 6,
    "start_time": "2022-03-14T16:34:17.316Z"
   },
   {
    "duration": 295,
    "start_time": "2022-03-14T16:34:17.324Z"
   },
   {
    "duration": 17,
    "start_time": "2022-03-14T16:34:17.621Z"
   },
   {
    "duration": 5,
    "start_time": "2022-03-14T16:34:17.640Z"
   },
   {
    "duration": 294,
    "start_time": "2022-03-14T16:34:17.646Z"
   },
   {
    "duration": 8,
    "start_time": "2022-03-14T16:34:17.942Z"
   },
   {
    "duration": 5,
    "start_time": "2022-03-14T16:34:17.952Z"
   },
   {
    "duration": 237,
    "start_time": "2022-03-14T16:34:17.958Z"
   },
   {
    "duration": 10,
    "start_time": "2022-03-14T16:34:18.197Z"
   },
   {
    "duration": 8,
    "start_time": "2022-03-14T16:34:18.209Z"
   },
   {
    "duration": 317,
    "start_time": "2022-03-14T16:34:18.219Z"
   },
   {
    "duration": 10,
    "start_time": "2022-03-14T16:34:18.538Z"
   },
   {
    "duration": 5,
    "start_time": "2022-03-14T16:34:18.550Z"
   },
   {
    "duration": 237,
    "start_time": "2022-03-14T16:34:18.557Z"
   },
   {
    "duration": 9,
    "start_time": "2022-03-14T16:34:18.796Z"
   },
   {
    "duration": 4,
    "start_time": "2022-03-14T16:34:18.807Z"
   },
   {
    "duration": 247,
    "start_time": "2022-03-14T16:34:18.812Z"
   },
   {
    "duration": 8,
    "start_time": "2022-03-14T16:34:19.061Z"
   },
   {
    "duration": 5,
    "start_time": "2022-03-14T16:34:19.070Z"
   },
   {
    "duration": 10,
    "start_time": "2022-03-14T16:34:19.077Z"
   },
   {
    "duration": 1679,
    "start_time": "2022-03-14T16:34:19.089Z"
   },
   {
    "duration": 1937,
    "start_time": "2022-03-14T16:34:20.770Z"
   },
   {
    "duration": 9,
    "start_time": "2022-03-14T16:34:22.710Z"
   },
   {
    "duration": 28,
    "start_time": "2022-03-14T16:34:22.720Z"
   },
   {
    "duration": 1235,
    "start_time": "2022-03-24T17:56:28.936Z"
   },
   {
    "duration": 411,
    "start_time": "2022-03-24T17:56:30.173Z"
   },
   {
    "duration": 14,
    "start_time": "2022-03-24T17:56:30.586Z"
   },
   {
    "duration": 56,
    "start_time": "2022-03-24T17:56:30.602Z"
   },
   {
    "duration": 12,
    "start_time": "2022-03-24T17:56:30.661Z"
   },
   {
    "duration": 45,
    "start_time": "2022-03-24T17:56:30.675Z"
   },
   {
    "duration": 24,
    "start_time": "2022-03-24T17:56:30.722Z"
   },
   {
    "duration": 27,
    "start_time": "2022-03-24T17:56:30.748Z"
   },
   {
    "duration": 13,
    "start_time": "2022-03-24T17:56:30.777Z"
   },
   {
    "duration": 17,
    "start_time": "2022-03-24T17:56:30.792Z"
   },
   {
    "duration": 24,
    "start_time": "2022-03-24T17:56:30.811Z"
   },
   {
    "duration": 108,
    "start_time": "2022-03-24T17:56:30.837Z"
   },
   {
    "duration": 12,
    "start_time": "2022-03-24T17:56:30.947Z"
   },
   {
    "duration": 39,
    "start_time": "2022-03-24T17:56:30.964Z"
   },
   {
    "duration": 248,
    "start_time": "2022-03-24T17:56:31.005Z"
   },
   {
    "duration": 78,
    "start_time": "2022-03-24T17:56:31.255Z"
   },
   {
    "duration": 38,
    "start_time": "2022-03-24T17:56:31.335Z"
   },
   {
    "duration": 45,
    "start_time": "2022-03-24T17:56:31.374Z"
   },
   {
    "duration": 27,
    "start_time": "2022-03-24T17:56:31.421Z"
   },
   {
    "duration": 65,
    "start_time": "2022-03-24T17:56:31.450Z"
   },
   {
    "duration": 18,
    "start_time": "2022-03-24T17:56:31.517Z"
   },
   {
    "duration": 15,
    "start_time": "2022-03-24T17:56:31.537Z"
   },
   {
    "duration": 18,
    "start_time": "2022-03-24T17:56:31.554Z"
   },
   {
    "duration": 34,
    "start_time": "2022-03-24T17:56:31.574Z"
   },
   {
    "duration": 13,
    "start_time": "2022-03-24T17:56:31.610Z"
   },
   {
    "duration": 16,
    "start_time": "2022-03-24T17:56:31.625Z"
   },
   {
    "duration": 14,
    "start_time": "2022-03-24T17:56:31.643Z"
   },
   {
    "duration": 41,
    "start_time": "2022-03-24T17:56:31.659Z"
   },
   {
    "duration": 13,
    "start_time": "2022-03-24T17:56:31.702Z"
   },
   {
    "duration": 27,
    "start_time": "2022-03-24T17:56:31.716Z"
   },
   {
    "duration": 138,
    "start_time": "2022-03-24T17:56:31.745Z"
   },
   {
    "duration": 22,
    "start_time": "2022-03-24T17:56:31.884Z"
   },
   {
    "duration": 276,
    "start_time": "2022-03-24T17:56:31.908Z"
   },
   {
    "duration": 21,
    "start_time": "2022-03-24T17:56:32.186Z"
   },
   {
    "duration": 13,
    "start_time": "2022-03-24T17:56:32.209Z"
   },
   {
    "duration": 206,
    "start_time": "2022-03-24T17:56:32.224Z"
   },
   {
    "duration": 9,
    "start_time": "2022-03-24T17:56:32.432Z"
   },
   {
    "duration": 9,
    "start_time": "2022-03-24T17:56:32.443Z"
   },
   {
    "duration": 203,
    "start_time": "2022-03-24T17:56:32.454Z"
   },
   {
    "duration": 10,
    "start_time": "2022-03-24T17:56:32.660Z"
   },
   {
    "duration": 30,
    "start_time": "2022-03-24T17:56:32.674Z"
   },
   {
    "duration": 207,
    "start_time": "2022-03-24T17:56:32.706Z"
   },
   {
    "duration": 10,
    "start_time": "2022-03-24T17:56:32.915Z"
   },
   {
    "duration": 15,
    "start_time": "2022-03-24T17:56:32.927Z"
   },
   {
    "duration": 230,
    "start_time": "2022-03-24T17:56:32.945Z"
   },
   {
    "duration": 9,
    "start_time": "2022-03-24T17:56:33.177Z"
   },
   {
    "duration": 27,
    "start_time": "2022-03-24T17:56:33.188Z"
   },
   {
    "duration": 157,
    "start_time": "2022-03-24T17:56:33.216Z"
   },
   {
    "duration": 9,
    "start_time": "2022-03-24T17:56:33.375Z"
   },
   {
    "duration": 16,
    "start_time": "2022-03-24T17:56:33.387Z"
   },
   {
    "duration": 224,
    "start_time": "2022-03-24T17:56:33.405Z"
   },
   {
    "duration": 11,
    "start_time": "2022-03-24T17:56:33.631Z"
   },
   {
    "duration": 14,
    "start_time": "2022-03-24T17:56:33.644Z"
   },
   {
    "duration": 243,
    "start_time": "2022-03-24T17:56:33.660Z"
   },
   {
    "duration": 9,
    "start_time": "2022-03-24T17:56:33.905Z"
   },
   {
    "duration": 9,
    "start_time": "2022-03-24T17:56:33.916Z"
   },
   {
    "duration": 15,
    "start_time": "2022-03-24T17:56:33.927Z"
   },
   {
    "duration": 962,
    "start_time": "2022-03-24T17:56:33.944Z"
   },
   {
    "duration": 1037,
    "start_time": "2022-03-24T17:56:34.908Z"
   },
   {
    "duration": 10,
    "start_time": "2022-03-24T17:56:35.947Z"
   },
   {
    "duration": 20,
    "start_time": "2022-03-24T17:56:35.959Z"
   },
   {
    "duration": 4,
    "start_time": "2022-03-24T17:59:17.082Z"
   },
   {
    "duration": 36,
    "start_time": "2022-03-24T18:12:12.532Z"
   },
   {
    "duration": 3,
    "start_time": "2022-03-24T18:12:27.996Z"
   },
   {
    "duration": 417,
    "start_time": "2022-03-24T18:12:28.001Z"
   },
   {
    "duration": 8,
    "start_time": "2022-03-24T18:12:28.421Z"
   },
   {
    "duration": 34,
    "start_time": "2022-03-24T18:12:28.431Z"
   },
   {
    "duration": 9,
    "start_time": "2022-03-24T18:12:28.467Z"
   },
   {
    "duration": 32,
    "start_time": "2022-03-24T18:12:28.478Z"
   },
   {
    "duration": 8,
    "start_time": "2022-03-24T18:12:28.512Z"
   },
   {
    "duration": 25,
    "start_time": "2022-03-24T18:12:28.522Z"
   },
   {
    "duration": 15,
    "start_time": "2022-03-24T18:12:28.550Z"
   },
   {
    "duration": 19,
    "start_time": "2022-03-24T18:12:28.567Z"
   },
   {
    "duration": 15,
    "start_time": "2022-03-24T18:12:28.603Z"
   },
   {
    "duration": 111,
    "start_time": "2022-03-24T18:12:28.620Z"
   },
   {
    "duration": 14,
    "start_time": "2022-03-24T18:12:28.733Z"
   },
   {
    "duration": 19,
    "start_time": "2022-03-24T18:12:28.749Z"
   },
   {
    "duration": 261,
    "start_time": "2022-03-24T18:12:28.770Z"
   },
   {
    "duration": 90,
    "start_time": "2022-03-24T18:12:29.034Z"
   },
   {
    "duration": 44,
    "start_time": "2022-03-24T18:12:29.126Z"
   },
   {
    "duration": 52,
    "start_time": "2022-03-24T18:12:29.172Z"
   },
   {
    "duration": 39,
    "start_time": "2022-03-24T18:12:29.226Z"
   },
   {
    "duration": 58,
    "start_time": "2022-03-24T18:12:29.267Z"
   },
   {
    "duration": 18,
    "start_time": "2022-03-24T18:12:29.327Z"
   },
   {
    "duration": 30,
    "start_time": "2022-03-24T18:12:31.247Z"
   },
   {
    "duration": 21,
    "start_time": "2022-03-24T18:12:50.335Z"
   },
   {
    "duration": 14,
    "start_time": "2022-03-24T18:14:45.490Z"
   },
   {
    "duration": 4,
    "start_time": "2022-03-24T18:32:44.239Z"
   },
   {
    "duration": 426,
    "start_time": "2022-03-24T18:32:44.246Z"
   },
   {
    "duration": 9,
    "start_time": "2022-03-24T18:32:44.675Z"
   },
   {
    "duration": 29,
    "start_time": "2022-03-24T18:32:44.686Z"
   },
   {
    "duration": 10,
    "start_time": "2022-03-24T18:32:44.718Z"
   },
   {
    "duration": 38,
    "start_time": "2022-03-24T18:32:44.730Z"
   },
   {
    "duration": 33,
    "start_time": "2022-03-24T18:32:44.770Z"
   },
   {
    "duration": 34,
    "start_time": "2022-03-24T18:32:44.805Z"
   },
   {
    "duration": 9,
    "start_time": "2022-03-24T18:32:44.840Z"
   },
   {
    "duration": 20,
    "start_time": "2022-03-24T18:32:44.851Z"
   },
   {
    "duration": 42,
    "start_time": "2022-03-24T18:32:44.874Z"
   },
   {
    "duration": 113,
    "start_time": "2022-03-24T18:32:44.918Z"
   },
   {
    "duration": 13,
    "start_time": "2022-03-24T18:32:45.033Z"
   },
   {
    "duration": 21,
    "start_time": "2022-03-24T18:32:45.048Z"
   },
   {
    "duration": 251,
    "start_time": "2022-03-24T18:32:45.071Z"
   },
   {
    "duration": 65,
    "start_time": "2022-03-24T18:32:45.324Z"
   },
   {
    "duration": 36,
    "start_time": "2022-03-24T18:32:45.401Z"
   },
   {
    "duration": 30,
    "start_time": "2022-03-24T18:32:45.439Z"
   },
   {
    "duration": 56,
    "start_time": "2022-03-24T18:32:45.470Z"
   },
   {
    "duration": 32,
    "start_time": "2022-03-24T18:32:45.528Z"
   },
   {
    "duration": 40,
    "start_time": "2022-03-24T18:32:45.562Z"
   },
   {
    "duration": 5,
    "start_time": "2022-03-24T18:32:45.605Z"
   },
   {
    "duration": 19,
    "start_time": "2022-03-24T18:32:45.612Z"
   },
   {
    "duration": 26,
    "start_time": "2022-03-24T18:32:45.633Z"
   },
   {
    "duration": 10,
    "start_time": "2022-03-24T18:32:45.661Z"
   },
   {
    "duration": 38,
    "start_time": "2022-03-24T18:32:45.673Z"
   },
   {
    "duration": 5,
    "start_time": "2022-03-24T18:33:20.752Z"
   },
   {
    "duration": 6,
    "start_time": "2022-03-24T18:33:30.894Z"
   },
   {
    "duration": 6,
    "start_time": "2022-03-24T18:33:35.814Z"
   },
   {
    "duration": 2303,
    "start_time": "2022-03-24T18:33:41.392Z"
   },
   {
    "duration": 6,
    "start_time": "2022-03-24T18:33:49.839Z"
   },
   {
    "duration": 18,
    "start_time": "2022-03-24T18:34:14.336Z"
   },
   {
    "duration": 6,
    "start_time": "2022-03-24T18:34:22.040Z"
   },
   {
    "duration": 6,
    "start_time": "2022-03-24T18:34:27.265Z"
   },
   {
    "duration": 5,
    "start_time": "2022-03-24T18:34:38.273Z"
   },
   {
    "duration": 6,
    "start_time": "2022-03-24T18:34:41.818Z"
   },
   {
    "duration": 25,
    "start_time": "2022-03-24T18:35:04.945Z"
   },
   {
    "duration": 6,
    "start_time": "2022-03-24T18:35:53.500Z"
   },
   {
    "duration": 6,
    "start_time": "2022-03-24T18:35:55.341Z"
   },
   {
    "duration": 24,
    "start_time": "2022-03-24T18:47:50.020Z"
   },
   {
    "duration": 14,
    "start_time": "2022-03-24T18:48:04.333Z"
   },
   {
    "duration": 23,
    "start_time": "2022-03-24T18:48:53.838Z"
   },
   {
    "duration": 5,
    "start_time": "2022-03-24T18:57:46.684Z"
   },
   {
    "duration": 626,
    "start_time": "2022-03-24T18:57:46.691Z"
   },
   {
    "duration": 12,
    "start_time": "2022-03-24T18:57:47.321Z"
   },
   {
    "duration": 50,
    "start_time": "2022-03-24T18:57:47.336Z"
   },
   {
    "duration": 21,
    "start_time": "2022-03-24T18:57:47.389Z"
   },
   {
    "duration": 44,
    "start_time": "2022-03-24T18:57:47.412Z"
   },
   {
    "duration": 11,
    "start_time": "2022-03-24T18:57:47.458Z"
   },
   {
    "duration": 46,
    "start_time": "2022-03-24T18:57:47.471Z"
   },
   {
    "duration": 12,
    "start_time": "2022-03-24T18:57:47.519Z"
   },
   {
    "duration": 18,
    "start_time": "2022-03-24T18:57:47.533Z"
   },
   {
    "duration": 21,
    "start_time": "2022-03-24T18:57:47.553Z"
   },
   {
    "duration": 184,
    "start_time": "2022-03-24T18:57:47.576Z"
   },
   {
    "duration": 15,
    "start_time": "2022-03-24T18:57:47.764Z"
   },
   {
    "duration": 28,
    "start_time": "2022-03-24T18:57:47.800Z"
   },
   {
    "duration": 302,
    "start_time": "2022-03-24T18:57:47.830Z"
   },
   {
    "duration": 80,
    "start_time": "2022-03-24T18:57:48.134Z"
   },
   {
    "duration": 45,
    "start_time": "2022-03-24T18:57:48.217Z"
   },
   {
    "duration": 58,
    "start_time": "2022-03-24T18:57:48.264Z"
   },
   {
    "duration": 39,
    "start_time": "2022-03-24T18:57:48.324Z"
   },
   {
    "duration": 72,
    "start_time": "2022-03-24T18:57:48.365Z"
   },
   {
    "duration": 26,
    "start_time": "2022-03-24T18:57:48.439Z"
   },
   {
    "duration": 8,
    "start_time": "2022-03-24T18:57:48.468Z"
   },
   {
    "duration": 42,
    "start_time": "2022-03-24T18:57:48.478Z"
   },
   {
    "duration": 30,
    "start_time": "2022-03-24T18:57:48.522Z"
   },
   {
    "duration": 10,
    "start_time": "2022-03-24T18:57:48.554Z"
   },
   {
    "duration": 36,
    "start_time": "2022-03-24T18:57:48.567Z"
   },
   {
    "duration": 11,
    "start_time": "2022-03-24T18:57:48.605Z"
   },
   {
    "duration": 9,
    "start_time": "2022-03-24T18:57:48.619Z"
   },
   {
    "duration": 19,
    "start_time": "2022-03-24T18:57:48.631Z"
   },
   {
    "duration": 9,
    "start_time": "2022-03-24T18:57:48.653Z"
   },
   {
    "duration": 325,
    "start_time": "2022-03-24T18:57:48.665Z"
   },
   {
    "duration": 16,
    "start_time": "2022-03-24T18:57:48.993Z"
   },
   {
    "duration": 265,
    "start_time": "2022-03-24T18:57:49.011Z"
   },
   {
    "duration": 23,
    "start_time": "2022-03-24T18:57:49.278Z"
   },
   {
    "duration": 6,
    "start_time": "2022-03-24T18:57:49.304Z"
   },
   {
    "duration": 356,
    "start_time": "2022-03-24T18:57:49.313Z"
   },
   {
    "duration": 9,
    "start_time": "2022-03-24T18:57:49.671Z"
   },
   {
    "duration": 22,
    "start_time": "2022-03-24T18:57:49.682Z"
   },
   {
    "duration": 193,
    "start_time": "2022-03-24T18:57:49.706Z"
   },
   {
    "duration": 14,
    "start_time": "2022-03-24T18:57:49.902Z"
   },
   {
    "duration": 13,
    "start_time": "2022-03-24T18:57:49.923Z"
   },
   {
    "duration": 222,
    "start_time": "2022-03-24T18:57:49.938Z"
   },
   {
    "duration": 8,
    "start_time": "2022-03-24T18:57:50.162Z"
   },
   {
    "duration": 13,
    "start_time": "2022-03-24T18:57:50.172Z"
   },
   {
    "duration": 223,
    "start_time": "2022-03-24T18:57:50.200Z"
   },
   {
    "duration": 9,
    "start_time": "2022-03-24T18:57:50.425Z"
   },
   {
    "duration": 13,
    "start_time": "2022-03-24T18:57:50.437Z"
   },
   {
    "duration": 244,
    "start_time": "2022-03-24T18:57:50.453Z"
   },
   {
    "duration": 11,
    "start_time": "2022-03-24T18:57:50.701Z"
   },
   {
    "duration": 8,
    "start_time": "2022-03-24T18:57:50.715Z"
   },
   {
    "duration": 178,
    "start_time": "2022-03-24T18:57:50.725Z"
   },
   {
    "duration": 10,
    "start_time": "2022-03-24T18:57:50.905Z"
   },
   {
    "duration": 8,
    "start_time": "2022-03-24T18:57:50.917Z"
   },
   {
    "duration": 193,
    "start_time": "2022-03-24T18:57:50.926Z"
   },
   {
    "duration": 10,
    "start_time": "2022-03-24T18:57:51.121Z"
   },
   {
    "duration": 17,
    "start_time": "2022-03-24T18:57:51.133Z"
   },
   {
    "duration": 16,
    "start_time": "2022-03-24T18:57:51.152Z"
   },
   {
    "duration": 1104,
    "start_time": "2022-03-24T18:57:51.171Z"
   },
   {
    "duration": 976,
    "start_time": "2022-03-24T18:57:52.277Z"
   },
   {
    "duration": 26,
    "start_time": "2022-03-24T18:57:55.943Z"
   },
   {
    "duration": 10,
    "start_time": "2022-03-24T19:03:38.091Z"
   },
   {
    "duration": 1441,
    "start_time": "2022-03-24T19:11:05.988Z"
   },
   {
    "duration": 427,
    "start_time": "2022-03-24T19:11:07.432Z"
   },
   {
    "duration": 14,
    "start_time": "2022-03-24T19:11:07.861Z"
   },
   {
    "duration": 33,
    "start_time": "2022-03-24T19:11:07.877Z"
   },
   {
    "duration": 9,
    "start_time": "2022-03-24T19:11:07.912Z"
   },
   {
    "duration": 29,
    "start_time": "2022-03-24T19:11:07.923Z"
   },
   {
    "duration": 9,
    "start_time": "2022-03-24T19:11:07.954Z"
   },
   {
    "duration": 44,
    "start_time": "2022-03-24T19:11:07.965Z"
   },
   {
    "duration": 10,
    "start_time": "2022-03-24T19:11:08.011Z"
   },
   {
    "duration": 19,
    "start_time": "2022-03-24T19:11:08.023Z"
   },
   {
    "duration": 18,
    "start_time": "2022-03-24T19:11:08.044Z"
   },
   {
    "duration": 131,
    "start_time": "2022-03-24T19:11:08.064Z"
   },
   {
    "duration": 15,
    "start_time": "2022-03-24T19:11:08.197Z"
   },
   {
    "duration": 21,
    "start_time": "2022-03-24T19:11:08.217Z"
   },
   {
    "duration": 249,
    "start_time": "2022-03-24T19:11:08.240Z"
   },
   {
    "duration": 74,
    "start_time": "2022-03-24T19:11:08.491Z"
   },
   {
    "duration": 55,
    "start_time": "2022-03-24T19:11:08.566Z"
   },
   {
    "duration": 28,
    "start_time": "2022-03-24T19:11:08.623Z"
   },
   {
    "duration": 27,
    "start_time": "2022-03-24T19:11:08.653Z"
   },
   {
    "duration": 35,
    "start_time": "2022-03-24T19:11:08.700Z"
   },
   {
    "duration": 20,
    "start_time": "2022-03-24T19:11:08.736Z"
   },
   {
    "duration": 5,
    "start_time": "2022-03-24T19:11:08.758Z"
   },
   {
    "duration": 41,
    "start_time": "2022-03-24T19:11:08.765Z"
   },
   {
    "duration": 27,
    "start_time": "2022-03-24T19:11:08.808Z"
   },
   {
    "duration": 8,
    "start_time": "2022-03-24T19:11:08.837Z"
   },
   {
    "duration": 19,
    "start_time": "2022-03-24T19:11:08.848Z"
   },
   {
    "duration": 11,
    "start_time": "2022-03-24T19:11:08.869Z"
   },
   {
    "duration": 22,
    "start_time": "2022-03-24T19:11:08.882Z"
   },
   {
    "duration": 19,
    "start_time": "2022-03-24T19:11:08.906Z"
   },
   {
    "duration": 38,
    "start_time": "2022-03-24T19:11:08.927Z"
   },
   {
    "duration": 144,
    "start_time": "2022-03-24T19:11:08.967Z"
   },
   {
    "duration": 11,
    "start_time": "2022-03-24T19:11:09.113Z"
   },
   {
    "duration": 212,
    "start_time": "2022-03-24T19:11:09.126Z"
   },
   {
    "duration": 9,
    "start_time": "2022-03-24T19:11:09.340Z"
   },
   {
    "duration": 8,
    "start_time": "2022-03-24T19:11:09.350Z"
   },
   {
    "duration": 218,
    "start_time": "2022-03-24T19:11:09.360Z"
   },
   {
    "duration": 9,
    "start_time": "2022-03-24T19:11:09.580Z"
   },
   {
    "duration": 5,
    "start_time": "2022-03-24T19:11:09.602Z"
   },
   {
    "duration": 260,
    "start_time": "2022-03-24T19:11:09.609Z"
   },
   {
    "duration": 10,
    "start_time": "2022-03-24T19:11:09.872Z"
   },
   {
    "duration": 6,
    "start_time": "2022-03-24T19:11:09.901Z"
   },
   {
    "duration": 270,
    "start_time": "2022-03-24T19:11:09.909Z"
   },
   {
    "duration": 22,
    "start_time": "2022-03-24T19:11:10.181Z"
   },
   {
    "duration": 9,
    "start_time": "2022-03-24T19:11:10.205Z"
   },
   {
    "duration": 235,
    "start_time": "2022-03-24T19:11:10.216Z"
   },
   {
    "duration": 9,
    "start_time": "2022-03-24T19:11:10.453Z"
   },
   {
    "duration": 9,
    "start_time": "2022-03-24T19:11:10.464Z"
   },
   {
    "duration": 164,
    "start_time": "2022-03-24T19:11:10.475Z"
   },
   {
    "duration": 10,
    "start_time": "2022-03-24T19:11:10.642Z"
   },
   {
    "duration": 7,
    "start_time": "2022-03-24T19:11:10.654Z"
   },
   {
    "duration": 178,
    "start_time": "2022-03-24T19:11:10.663Z"
   },
   {
    "duration": 12,
    "start_time": "2022-03-24T19:11:10.843Z"
   },
   {
    "duration": 9,
    "start_time": "2022-03-24T19:11:10.857Z"
   },
   {
    "duration": 202,
    "start_time": "2022-03-24T19:11:10.868Z"
   },
   {
    "duration": 10,
    "start_time": "2022-03-24T19:11:11.072Z"
   },
   {
    "duration": 20,
    "start_time": "2022-03-24T19:11:11.083Z"
   },
   {
    "duration": 20,
    "start_time": "2022-03-24T19:11:11.105Z"
   },
   {
    "duration": 945,
    "start_time": "2022-03-24T19:11:11.127Z"
   },
   {
    "duration": 1027,
    "start_time": "2022-03-24T19:11:12.074Z"
   },
   {
    "duration": 10,
    "start_time": "2022-03-24T19:11:13.103Z"
   },
   {
    "duration": 16,
    "start_time": "2022-03-24T19:11:13.115Z"
   },
   {
    "duration": 1224,
    "start_time": "2022-03-25T15:34:57.631Z"
   },
   {
    "duration": 363,
    "start_time": "2022-03-25T15:34:58.858Z"
   },
   {
    "duration": 13,
    "start_time": "2022-03-25T15:34:59.223Z"
   },
   {
    "duration": 29,
    "start_time": "2022-03-25T15:34:59.237Z"
   },
   {
    "duration": 9,
    "start_time": "2022-03-25T15:34:59.267Z"
   },
   {
    "duration": 31,
    "start_time": "2022-03-25T15:34:59.278Z"
   },
   {
    "duration": 7,
    "start_time": "2022-03-25T15:34:59.311Z"
   },
   {
    "duration": 20,
    "start_time": "2022-03-25T15:34:59.320Z"
   },
   {
    "duration": 7,
    "start_time": "2022-03-25T15:34:59.341Z"
   },
   {
    "duration": 9,
    "start_time": "2022-03-25T15:34:59.351Z"
   },
   {
    "duration": 11,
    "start_time": "2022-03-25T15:34:59.362Z"
   },
   {
    "duration": 121,
    "start_time": "2022-03-25T15:34:59.374Z"
   },
   {
    "duration": 20,
    "start_time": "2022-03-25T15:34:59.497Z"
   },
   {
    "duration": 16,
    "start_time": "2022-03-25T15:34:59.519Z"
   },
   {
    "duration": 200,
    "start_time": "2022-03-25T15:34:59.537Z"
   },
   {
    "duration": 55,
    "start_time": "2022-03-25T15:34:59.739Z"
   },
   {
    "duration": 41,
    "start_time": "2022-03-25T15:34:59.795Z"
   },
   {
    "duration": 26,
    "start_time": "2022-03-25T15:34:59.837Z"
   },
   {
    "duration": 46,
    "start_time": "2022-03-25T15:34:59.864Z"
   },
   {
    "duration": 30,
    "start_time": "2022-03-25T15:34:59.911Z"
   },
   {
    "duration": 17,
    "start_time": "2022-03-25T15:34:59.943Z"
   },
   {
    "duration": 5,
    "start_time": "2022-03-25T15:34:59.961Z"
   },
   {
    "duration": 14,
    "start_time": "2022-03-25T15:34:59.967Z"
   },
   {
    "duration": 18,
    "start_time": "2022-03-25T15:35:00.009Z"
   },
   {
    "duration": 6,
    "start_time": "2022-03-25T15:35:00.029Z"
   },
   {
    "duration": 16,
    "start_time": "2022-03-25T15:35:00.036Z"
   },
   {
    "duration": 5,
    "start_time": "2022-03-25T15:35:00.053Z"
   },
   {
    "duration": 9,
    "start_time": "2022-03-25T15:35:00.062Z"
   },
   {
    "duration": 12,
    "start_time": "2022-03-25T15:35:00.072Z"
   },
   {
    "duration": 5,
    "start_time": "2022-03-25T15:35:00.109Z"
   },
   {
    "duration": 147,
    "start_time": "2022-03-25T15:35:00.116Z"
   },
   {
    "duration": 11,
    "start_time": "2022-03-25T15:35:00.264Z"
   },
   {
    "duration": 214,
    "start_time": "2022-03-25T15:35:00.276Z"
   },
   {
    "duration": 8,
    "start_time": "2022-03-25T15:35:00.492Z"
   },
   {
    "duration": 5,
    "start_time": "2022-03-25T15:35:00.509Z"
   },
   {
    "duration": 218,
    "start_time": "2022-03-25T15:35:00.516Z"
   },
   {
    "duration": 9,
    "start_time": "2022-03-25T15:35:00.736Z"
   },
   {
    "duration": 11,
    "start_time": "2022-03-25T15:35:00.746Z"
   },
   {
    "duration": 196,
    "start_time": "2022-03-25T15:35:00.759Z"
   },
   {
    "duration": 8,
    "start_time": "2022-03-25T15:35:00.956Z"
   },
   {
    "duration": 13,
    "start_time": "2022-03-25T15:35:00.966Z"
   },
   {
    "duration": 208,
    "start_time": "2022-03-25T15:35:00.981Z"
   },
   {
    "duration": 8,
    "start_time": "2022-03-25T15:35:01.190Z"
   },
   {
    "duration": 4,
    "start_time": "2022-03-25T15:35:01.208Z"
   },
   {
    "duration": 216,
    "start_time": "2022-03-25T15:35:01.214Z"
   },
   {
    "duration": 9,
    "start_time": "2022-03-25T15:35:01.432Z"
   },
   {
    "duration": 26,
    "start_time": "2022-03-25T15:35:01.442Z"
   },
   {
    "duration": 148,
    "start_time": "2022-03-25T15:35:01.470Z"
   },
   {
    "duration": 8,
    "start_time": "2022-03-25T15:35:01.620Z"
   },
   {
    "duration": 62,
    "start_time": "2022-03-25T15:35:01.630Z"
   },
   {
    "duration": 154,
    "start_time": "2022-03-25T15:35:01.693Z"
   },
   {
    "duration": 9,
    "start_time": "2022-03-25T15:35:01.849Z"
   },
   {
    "duration": 14,
    "start_time": "2022-03-25T15:35:01.859Z"
   },
   {
    "duration": 179,
    "start_time": "2022-03-25T15:35:01.875Z"
   },
   {
    "duration": 8,
    "start_time": "2022-03-25T15:35:02.056Z"
   },
   {
    "duration": 9,
    "start_time": "2022-03-25T15:35:02.066Z"
   },
   {
    "duration": 25,
    "start_time": "2022-03-25T15:35:02.076Z"
   },
   {
    "duration": 946,
    "start_time": "2022-03-25T15:35:02.103Z"
   },
   {
    "duration": 994,
    "start_time": "2022-03-25T15:35:03.051Z"
   },
   {
    "duration": 9,
    "start_time": "2022-03-25T15:35:04.047Z"
   },
   {
    "duration": 9,
    "start_time": "2022-03-25T15:35:04.058Z"
   },
   {
    "duration": 3,
    "start_time": "2022-03-25T15:43:23.332Z"
   },
   {
    "duration": 98,
    "start_time": "2022-03-25T15:43:41.586Z"
   },
   {
    "duration": 1660,
    "start_time": "2022-03-25T15:44:20.321Z"
   },
   {
    "duration": 9,
    "start_time": "2022-03-25T15:45:17.424Z"
   },
   {
    "duration": 1682,
    "start_time": "2022-03-25T15:45:33.068Z"
   },
   {
    "duration": 31,
    "start_time": "2022-03-25T15:59:50.803Z"
   },
   {
    "duration": 1130,
    "start_time": "2022-03-25T16:00:12.562Z"
   },
   {
    "duration": 400,
    "start_time": "2022-03-25T16:00:13.694Z"
   },
   {
    "duration": 14,
    "start_time": "2022-03-25T16:00:14.095Z"
   },
   {
    "duration": 28,
    "start_time": "2022-03-25T16:00:14.111Z"
   },
   {
    "duration": 9,
    "start_time": "2022-03-25T16:00:14.141Z"
   },
   {
    "duration": 25,
    "start_time": "2022-03-25T16:00:14.152Z"
   },
   {
    "duration": 33,
    "start_time": "2022-03-25T16:00:14.178Z"
   },
   {
    "duration": 22,
    "start_time": "2022-03-25T16:00:14.213Z"
   },
   {
    "duration": 8,
    "start_time": "2022-03-25T16:00:14.237Z"
   },
   {
    "duration": 12,
    "start_time": "2022-03-25T16:00:14.248Z"
   },
   {
    "duration": 13,
    "start_time": "2022-03-25T16:00:14.262Z"
   },
   {
    "duration": 109,
    "start_time": "2022-03-25T16:00:14.309Z"
   },
   {
    "duration": 13,
    "start_time": "2022-03-25T16:00:14.421Z"
   },
   {
    "duration": 20,
    "start_time": "2022-03-25T16:00:14.436Z"
   },
   {
    "duration": 254,
    "start_time": "2022-03-25T16:00:14.458Z"
   },
   {
    "duration": 64,
    "start_time": "2022-03-25T16:00:14.714Z"
   },
   {
    "duration": 52,
    "start_time": "2022-03-25T16:00:14.780Z"
   },
   {
    "duration": 28,
    "start_time": "2022-03-25T16:00:14.834Z"
   },
   {
    "duration": 51,
    "start_time": "2022-03-25T16:00:14.864Z"
   },
   {
    "duration": 35,
    "start_time": "2022-03-25T16:00:14.916Z"
   },
   {
    "duration": 1646,
    "start_time": "2022-03-25T16:00:14.953Z"
   },
   {
    "duration": 0,
    "start_time": "2022-03-25T16:00:16.602Z"
   },
   {
    "duration": 0,
    "start_time": "2022-03-25T16:00:16.603Z"
   },
   {
    "duration": 0,
    "start_time": "2022-03-25T16:00:16.604Z"
   },
   {
    "duration": 0,
    "start_time": "2022-03-25T16:00:16.608Z"
   },
   {
    "duration": 0,
    "start_time": "2022-03-25T16:00:16.609Z"
   },
   {
    "duration": 0,
    "start_time": "2022-03-25T16:00:16.610Z"
   },
   {
    "duration": 0,
    "start_time": "2022-03-25T16:00:16.611Z"
   },
   {
    "duration": 0,
    "start_time": "2022-03-25T16:00:16.612Z"
   },
   {
    "duration": 0,
    "start_time": "2022-03-25T16:00:16.613Z"
   },
   {
    "duration": 0,
    "start_time": "2022-03-25T16:00:16.614Z"
   },
   {
    "duration": 0,
    "start_time": "2022-03-25T16:00:16.616Z"
   },
   {
    "duration": 0,
    "start_time": "2022-03-25T16:00:16.617Z"
   },
   {
    "duration": 0,
    "start_time": "2022-03-25T16:00:16.618Z"
   },
   {
    "duration": 0,
    "start_time": "2022-03-25T16:00:16.619Z"
   },
   {
    "duration": 0,
    "start_time": "2022-03-25T16:00:16.620Z"
   },
   {
    "duration": 0,
    "start_time": "2022-03-25T16:00:16.621Z"
   },
   {
    "duration": 0,
    "start_time": "2022-03-25T16:00:16.622Z"
   },
   {
    "duration": 0,
    "start_time": "2022-03-25T16:00:16.623Z"
   },
   {
    "duration": 0,
    "start_time": "2022-03-25T16:00:16.624Z"
   },
   {
    "duration": 0,
    "start_time": "2022-03-25T16:00:16.626Z"
   },
   {
    "duration": 0,
    "start_time": "2022-03-25T16:00:16.627Z"
   },
   {
    "duration": 0,
    "start_time": "2022-03-25T16:00:16.628Z"
   },
   {
    "duration": 0,
    "start_time": "2022-03-25T16:00:16.629Z"
   },
   {
    "duration": 0,
    "start_time": "2022-03-25T16:00:16.630Z"
   },
   {
    "duration": 0,
    "start_time": "2022-03-25T16:00:16.631Z"
   },
   {
    "duration": 0,
    "start_time": "2022-03-25T16:00:16.632Z"
   },
   {
    "duration": 0,
    "start_time": "2022-03-25T16:00:16.633Z"
   },
   {
    "duration": 0,
    "start_time": "2022-03-25T16:00:16.634Z"
   },
   {
    "duration": 0,
    "start_time": "2022-03-25T16:00:16.635Z"
   },
   {
    "duration": 0,
    "start_time": "2022-03-25T16:00:16.636Z"
   },
   {
    "duration": 0,
    "start_time": "2022-03-25T16:00:16.637Z"
   },
   {
    "duration": 0,
    "start_time": "2022-03-25T16:00:16.638Z"
   },
   {
    "duration": 0,
    "start_time": "2022-03-25T16:00:16.639Z"
   },
   {
    "duration": 0,
    "start_time": "2022-03-25T16:00:16.640Z"
   },
   {
    "duration": 0,
    "start_time": "2022-03-25T16:00:16.641Z"
   },
   {
    "duration": 0,
    "start_time": "2022-03-25T16:00:16.642Z"
   },
   {
    "duration": 0,
    "start_time": "2022-03-25T16:00:16.643Z"
   },
   {
    "duration": 0,
    "start_time": "2022-03-25T16:00:16.644Z"
   },
   {
    "duration": 0,
    "start_time": "2022-03-25T16:00:16.645Z"
   },
   {
    "duration": 0,
    "start_time": "2022-03-25T16:00:16.646Z"
   },
   {
    "duration": 0,
    "start_time": "2022-03-25T16:00:16.647Z"
   },
   {
    "duration": 1202,
    "start_time": "2022-03-25T16:01:14.561Z"
   },
   {
    "duration": 398,
    "start_time": "2022-03-25T16:01:15.765Z"
   },
   {
    "duration": 13,
    "start_time": "2022-03-25T16:01:16.165Z"
   },
   {
    "duration": 27,
    "start_time": "2022-03-25T16:01:16.181Z"
   },
   {
    "duration": 8,
    "start_time": "2022-03-25T16:01:16.210Z"
   },
   {
    "duration": 22,
    "start_time": "2022-03-25T16:01:16.220Z"
   },
   {
    "duration": 7,
    "start_time": "2022-03-25T16:01:16.244Z"
   },
   {
    "duration": 21,
    "start_time": "2022-03-25T16:01:16.253Z"
   },
   {
    "duration": 35,
    "start_time": "2022-03-25T16:01:16.275Z"
   },
   {
    "duration": 11,
    "start_time": "2022-03-25T16:01:16.313Z"
   },
   {
    "duration": 14,
    "start_time": "2022-03-25T16:01:16.326Z"
   },
   {
    "duration": 115,
    "start_time": "2022-03-25T16:01:16.342Z"
   },
   {
    "duration": 11,
    "start_time": "2022-03-25T16:01:16.458Z"
   },
   {
    "duration": 23,
    "start_time": "2022-03-25T16:01:16.470Z"
   },
   {
    "duration": 219,
    "start_time": "2022-03-25T16:01:16.495Z"
   },
   {
    "duration": 60,
    "start_time": "2022-03-25T16:01:16.716Z"
   },
   {
    "duration": 48,
    "start_time": "2022-03-25T16:01:16.778Z"
   },
   {
    "duration": 26,
    "start_time": "2022-03-25T16:01:16.827Z"
   },
   {
    "duration": 25,
    "start_time": "2022-03-25T16:01:16.854Z"
   },
   {
    "duration": 51,
    "start_time": "2022-03-25T16:01:16.881Z"
   },
   {
    "duration": 19,
    "start_time": "2022-03-25T16:01:16.934Z"
   },
   {
    "duration": 5,
    "start_time": "2022-03-25T16:01:16.955Z"
   },
   {
    "duration": 16,
    "start_time": "2022-03-25T16:01:16.961Z"
   },
   {
    "duration": 46,
    "start_time": "2022-03-25T16:01:16.979Z"
   },
   {
    "duration": 7,
    "start_time": "2022-03-25T16:01:17.026Z"
   },
   {
    "duration": 13,
    "start_time": "2022-03-25T16:01:17.035Z"
   },
   {
    "duration": 7,
    "start_time": "2022-03-25T16:01:17.050Z"
   },
   {
    "duration": 7,
    "start_time": "2022-03-25T16:01:17.061Z"
   },
   {
    "duration": 14,
    "start_time": "2022-03-25T16:01:17.069Z"
   },
   {
    "duration": 6,
    "start_time": "2022-03-25T16:01:17.108Z"
   },
   {
    "duration": 153,
    "start_time": "2022-03-25T16:01:17.116Z"
   },
   {
    "duration": 10,
    "start_time": "2022-03-25T16:01:17.271Z"
   },
   {
    "duration": 211,
    "start_time": "2022-03-25T16:01:17.283Z"
   },
   {
    "duration": 14,
    "start_time": "2022-03-25T16:01:17.497Z"
   },
   {
    "duration": 7,
    "start_time": "2022-03-25T16:01:17.512Z"
   },
   {
    "duration": 208,
    "start_time": "2022-03-25T16:01:17.521Z"
   },
   {
    "duration": 8,
    "start_time": "2022-03-25T16:01:17.731Z"
   },
   {
    "duration": 4,
    "start_time": "2022-03-25T16:01:17.741Z"
   },
   {
    "duration": 194,
    "start_time": "2022-03-25T16:01:17.747Z"
   },
   {
    "duration": 9,
    "start_time": "2022-03-25T16:01:17.942Z"
   },
   {
    "duration": 6,
    "start_time": "2022-03-25T16:01:17.953Z"
   },
   {
    "duration": 214,
    "start_time": "2022-03-25T16:01:17.960Z"
   },
   {
    "duration": 8,
    "start_time": "2022-03-25T16:01:18.176Z"
   },
   {
    "duration": 7,
    "start_time": "2022-03-25T16:01:18.185Z"
   },
   {
    "duration": 234,
    "start_time": "2022-03-25T16:01:18.194Z"
   },
   {
    "duration": 9,
    "start_time": "2022-03-25T16:01:18.430Z"
   },
   {
    "duration": 21,
    "start_time": "2022-03-25T16:01:18.440Z"
   },
   {
    "duration": 149,
    "start_time": "2022-03-25T16:01:18.463Z"
   },
   {
    "duration": 9,
    "start_time": "2022-03-25T16:01:18.614Z"
   },
   {
    "duration": 6,
    "start_time": "2022-03-25T16:01:18.624Z"
   },
   {
    "duration": 171,
    "start_time": "2022-03-25T16:01:18.632Z"
   },
   {
    "duration": 10,
    "start_time": "2022-03-25T16:01:18.805Z"
   },
   {
    "duration": 7,
    "start_time": "2022-03-25T16:01:18.816Z"
   },
   {
    "duration": 180,
    "start_time": "2022-03-25T16:01:18.825Z"
   },
   {
    "duration": 9,
    "start_time": "2022-03-25T16:01:19.008Z"
   },
   {
    "duration": 4,
    "start_time": "2022-03-25T16:01:19.018Z"
   },
   {
    "duration": 11,
    "start_time": "2022-03-25T16:01:19.024Z"
   },
   {
    "duration": 973,
    "start_time": "2022-03-25T16:01:19.036Z"
   },
   {
    "duration": 993,
    "start_time": "2022-03-25T16:01:20.011Z"
   },
   {
    "duration": 9,
    "start_time": "2022-03-25T16:01:21.005Z"
   },
   {
    "duration": 10,
    "start_time": "2022-03-25T16:01:21.016Z"
   },
   {
    "duration": 1111,
    "start_time": "2022-03-25T16:08:36.329Z"
   },
   {
    "duration": 358,
    "start_time": "2022-03-25T16:08:37.441Z"
   },
   {
    "duration": 13,
    "start_time": "2022-03-25T16:08:37.800Z"
   },
   {
    "duration": 26,
    "start_time": "2022-03-25T16:08:37.815Z"
   },
   {
    "duration": 8,
    "start_time": "2022-03-25T16:08:37.843Z"
   },
   {
    "duration": 21,
    "start_time": "2022-03-25T16:08:37.853Z"
   },
   {
    "duration": 7,
    "start_time": "2022-03-25T16:08:37.875Z"
   },
   {
    "duration": 42,
    "start_time": "2022-03-25T16:08:37.883Z"
   },
   {
    "duration": 8,
    "start_time": "2022-03-25T16:08:37.926Z"
   },
   {
    "duration": 9,
    "start_time": "2022-03-25T16:08:37.936Z"
   },
   {
    "duration": 11,
    "start_time": "2022-03-25T16:08:37.947Z"
   },
   {
    "duration": 113,
    "start_time": "2022-03-25T16:08:37.959Z"
   },
   {
    "duration": 13,
    "start_time": "2022-03-25T16:08:38.073Z"
   },
   {
    "duration": 34,
    "start_time": "2022-03-25T16:08:38.088Z"
   },
   {
    "duration": 185,
    "start_time": "2022-03-25T16:08:38.124Z"
   },
   {
    "duration": 58,
    "start_time": "2022-03-25T16:08:38.310Z"
   },
   {
    "duration": 50,
    "start_time": "2022-03-25T16:08:38.370Z"
   },
   {
    "duration": 25,
    "start_time": "2022-03-25T16:08:38.422Z"
   },
   {
    "duration": 25,
    "start_time": "2022-03-25T16:08:38.448Z"
   },
   {
    "duration": 51,
    "start_time": "2022-03-25T16:08:38.475Z"
   },
   {
    "duration": 16,
    "start_time": "2022-03-25T16:08:38.528Z"
   },
   {
    "duration": 5,
    "start_time": "2022-03-25T16:08:38.546Z"
   },
   {
    "duration": 16,
    "start_time": "2022-03-25T16:08:38.552Z"
   },
   {
    "duration": 41,
    "start_time": "2022-03-25T16:08:38.570Z"
   },
   {
    "duration": 6,
    "start_time": "2022-03-25T16:08:38.613Z"
   },
   {
    "duration": 19,
    "start_time": "2022-03-25T16:08:38.621Z"
   },
   {
    "duration": 5,
    "start_time": "2022-03-25T16:08:38.641Z"
   },
   {
    "duration": 5,
    "start_time": "2022-03-25T16:08:38.650Z"
   },
   {
    "duration": 8,
    "start_time": "2022-03-25T16:08:38.656Z"
   },
   {
    "duration": 6,
    "start_time": "2022-03-25T16:08:38.666Z"
   },
   {
    "duration": 150,
    "start_time": "2022-03-25T16:08:38.674Z"
   },
   {
    "duration": 8,
    "start_time": "2022-03-25T16:08:38.826Z"
   },
   {
    "duration": 203,
    "start_time": "2022-03-25T16:08:38.836Z"
   },
   {
    "duration": 8,
    "start_time": "2022-03-25T16:08:39.041Z"
   },
   {
    "duration": 5,
    "start_time": "2022-03-25T16:08:39.051Z"
   },
   {
    "duration": 195,
    "start_time": "2022-03-25T16:08:39.058Z"
   },
   {
    "duration": 9,
    "start_time": "2022-03-25T16:08:39.255Z"
   },
   {
    "duration": 5,
    "start_time": "2022-03-25T16:08:39.265Z"
   },
   {
    "duration": 195,
    "start_time": "2022-03-25T16:08:39.272Z"
   },
   {
    "duration": 7,
    "start_time": "2022-03-25T16:08:39.469Z"
   },
   {
    "duration": 5,
    "start_time": "2022-03-25T16:08:39.478Z"
   },
   {
    "duration": 199,
    "start_time": "2022-03-25T16:08:39.485Z"
   },
   {
    "duration": 8,
    "start_time": "2022-03-25T16:08:39.685Z"
   },
   {
    "duration": 16,
    "start_time": "2022-03-25T16:08:39.695Z"
   },
   {
    "duration": 146,
    "start_time": "2022-03-25T16:08:39.713Z"
   },
   {
    "duration": 9,
    "start_time": "2022-03-25T16:08:39.861Z"
   },
   {
    "duration": 4,
    "start_time": "2022-03-25T16:08:39.872Z"
   },
   {
    "duration": 237,
    "start_time": "2022-03-25T16:08:39.878Z"
   },
   {
    "duration": 8,
    "start_time": "2022-03-25T16:08:40.117Z"
   },
   {
    "duration": 6,
    "start_time": "2022-03-25T16:08:40.127Z"
   },
   {
    "duration": 153,
    "start_time": "2022-03-25T16:08:40.135Z"
   },
   {
    "duration": 8,
    "start_time": "2022-03-25T16:08:40.289Z"
   },
   {
    "duration": 11,
    "start_time": "2022-03-25T16:08:40.298Z"
   },
   {
    "duration": 157,
    "start_time": "2022-03-25T16:08:40.311Z"
   },
   {
    "duration": 8,
    "start_time": "2022-03-25T16:08:40.469Z"
   },
   {
    "duration": 6,
    "start_time": "2022-03-25T16:08:40.478Z"
   },
   {
    "duration": 27,
    "start_time": "2022-03-25T16:08:40.485Z"
   },
   {
    "duration": 868,
    "start_time": "2022-03-25T16:08:40.513Z"
   },
   {
    "duration": 942,
    "start_time": "2022-03-25T16:08:41.382Z"
   },
   {
    "duration": 7,
    "start_time": "2022-03-25T16:08:42.326Z"
   },
   {
    "duration": 8,
    "start_time": "2022-03-25T16:08:42.335Z"
   },
   {
    "duration": 27,
    "start_time": "2022-03-25T16:09:50.286Z"
   },
   {
    "duration": 1140,
    "start_time": "2022-03-25T16:16:39.518Z"
   },
   {
    "duration": 351,
    "start_time": "2022-03-25T16:16:40.660Z"
   },
   {
    "duration": 11,
    "start_time": "2022-03-25T16:16:41.013Z"
   },
   {
    "duration": 27,
    "start_time": "2022-03-25T16:16:41.026Z"
   },
   {
    "duration": 8,
    "start_time": "2022-03-25T16:16:41.055Z"
   },
   {
    "duration": 44,
    "start_time": "2022-03-25T16:16:41.065Z"
   },
   {
    "duration": 8,
    "start_time": "2022-03-25T16:16:41.110Z"
   },
   {
    "duration": 21,
    "start_time": "2022-03-25T16:16:41.119Z"
   },
   {
    "duration": 7,
    "start_time": "2022-03-25T16:16:41.142Z"
   },
   {
    "duration": 11,
    "start_time": "2022-03-25T16:16:41.152Z"
   },
   {
    "duration": 12,
    "start_time": "2022-03-25T16:16:41.164Z"
   },
   {
    "duration": 118,
    "start_time": "2022-03-25T16:16:41.177Z"
   },
   {
    "duration": 15,
    "start_time": "2022-03-25T16:16:41.297Z"
   },
   {
    "duration": 17,
    "start_time": "2022-03-25T16:16:41.314Z"
   },
   {
    "duration": 206,
    "start_time": "2022-03-25T16:16:41.332Z"
   },
   {
    "duration": 69,
    "start_time": "2022-03-25T16:16:41.539Z"
   },
   {
    "duration": 32,
    "start_time": "2022-03-25T16:16:41.610Z"
   },
   {
    "duration": 25,
    "start_time": "2022-03-25T16:16:41.644Z"
   },
   {
    "duration": 50,
    "start_time": "2022-03-25T16:16:41.671Z"
   },
   {
    "duration": 31,
    "start_time": "2022-03-25T16:16:41.722Z"
   },
   {
    "duration": 19,
    "start_time": "2022-03-25T16:16:41.754Z"
   },
   {
    "duration": 4,
    "start_time": "2022-03-25T16:16:41.775Z"
   },
   {
    "duration": 40,
    "start_time": "2022-03-25T16:16:41.781Z"
   },
   {
    "duration": 21,
    "start_time": "2022-03-25T16:16:41.822Z"
   },
   {
    "duration": 5,
    "start_time": "2022-03-25T16:16:41.845Z"
   },
   {
    "duration": 12,
    "start_time": "2022-03-25T16:16:41.852Z"
   },
   {
    "duration": 5,
    "start_time": "2022-03-25T16:16:41.865Z"
   },
   {
    "duration": 6,
    "start_time": "2022-03-25T16:16:41.874Z"
   },
   {
    "duration": 7,
    "start_time": "2022-03-25T16:16:41.909Z"
   },
   {
    "duration": 19,
    "start_time": "2022-03-25T16:16:41.918Z"
   },
   {
    "duration": 144,
    "start_time": "2022-03-25T16:16:41.938Z"
   },
   {
    "duration": 9,
    "start_time": "2022-03-25T16:16:42.084Z"
   },
   {
    "duration": 196,
    "start_time": "2022-03-25T16:16:42.095Z"
   },
   {
    "duration": 8,
    "start_time": "2022-03-25T16:16:42.292Z"
   },
   {
    "duration": 4,
    "start_time": "2022-03-25T16:16:42.309Z"
   },
   {
    "duration": 188,
    "start_time": "2022-03-25T16:16:42.315Z"
   },
   {
    "duration": 8,
    "start_time": "2022-03-25T16:16:42.509Z"
   },
   {
    "duration": 4,
    "start_time": "2022-03-25T16:16:42.519Z"
   },
   {
    "duration": 194,
    "start_time": "2022-03-25T16:16:42.524Z"
   },
   {
    "duration": 8,
    "start_time": "2022-03-25T16:16:42.719Z"
   },
   {
    "duration": 7,
    "start_time": "2022-03-25T16:16:42.728Z"
   },
   {
    "duration": 200,
    "start_time": "2022-03-25T16:16:42.737Z"
   },
   {
    "duration": 9,
    "start_time": "2022-03-25T16:16:42.939Z"
   },
   {
    "duration": 4,
    "start_time": "2022-03-25T16:16:42.950Z"
   },
   {
    "duration": 219,
    "start_time": "2022-03-25T16:16:42.956Z"
   },
   {
    "duration": 8,
    "start_time": "2022-03-25T16:16:43.177Z"
   },
   {
    "duration": 21,
    "start_time": "2022-03-25T16:16:43.187Z"
   },
   {
    "duration": 153,
    "start_time": "2022-03-25T16:16:43.210Z"
   },
   {
    "duration": 9,
    "start_time": "2022-03-25T16:16:43.364Z"
   },
   {
    "duration": 5,
    "start_time": "2022-03-25T16:16:43.375Z"
   },
   {
    "duration": 149,
    "start_time": "2022-03-25T16:16:43.381Z"
   },
   {
    "duration": 11,
    "start_time": "2022-03-25T16:16:43.532Z"
   },
   {
    "duration": 6,
    "start_time": "2022-03-25T16:16:43.545Z"
   },
   {
    "duration": 195,
    "start_time": "2022-03-25T16:16:43.553Z"
   },
   {
    "duration": 8,
    "start_time": "2022-03-25T16:16:43.749Z"
   },
   {
    "duration": 6,
    "start_time": "2022-03-25T16:16:43.759Z"
   },
   {
    "duration": 11,
    "start_time": "2022-03-25T16:16:43.766Z"
   },
   {
    "duration": 911,
    "start_time": "2022-03-25T16:16:43.778Z"
   },
   {
    "duration": 985,
    "start_time": "2022-03-25T16:16:44.691Z"
   },
   {
    "duration": 9,
    "start_time": "2022-03-25T16:16:45.678Z"
   },
   {
    "duration": 26,
    "start_time": "2022-03-25T16:16:45.690Z"
   },
   {
    "duration": 1174,
    "start_time": "2022-03-25T16:34:30.022Z"
   },
   {
    "duration": 395,
    "start_time": "2022-03-25T16:34:31.198Z"
   },
   {
    "duration": 13,
    "start_time": "2022-03-25T16:34:31.595Z"
   },
   {
    "duration": 27,
    "start_time": "2022-03-25T16:34:31.610Z"
   },
   {
    "duration": 9,
    "start_time": "2022-03-25T16:34:31.639Z"
   },
   {
    "duration": 24,
    "start_time": "2022-03-25T16:34:31.650Z"
   },
   {
    "duration": 7,
    "start_time": "2022-03-25T16:34:31.676Z"
   },
   {
    "duration": 43,
    "start_time": "2022-03-25T16:34:31.685Z"
   },
   {
    "duration": 8,
    "start_time": "2022-03-25T16:34:31.730Z"
   },
   {
    "duration": 14,
    "start_time": "2022-03-25T16:34:31.740Z"
   },
   {
    "duration": 13,
    "start_time": "2022-03-25T16:34:31.755Z"
   },
   {
    "duration": 124,
    "start_time": "2022-03-25T16:34:31.770Z"
   },
   {
    "duration": 20,
    "start_time": "2022-03-25T16:34:31.896Z"
   },
   {
    "duration": 16,
    "start_time": "2022-03-25T16:34:31.919Z"
   },
   {
    "duration": 212,
    "start_time": "2022-03-25T16:34:31.937Z"
   },
   {
    "duration": 73,
    "start_time": "2022-03-25T16:34:32.150Z"
   },
   {
    "duration": 31,
    "start_time": "2022-03-25T16:34:32.225Z"
   },
   {
    "duration": 25,
    "start_time": "2022-03-25T16:34:32.258Z"
   },
   {
    "duration": 48,
    "start_time": "2022-03-25T16:34:32.285Z"
   },
   {
    "duration": 42,
    "start_time": "2022-03-25T16:34:32.334Z"
   },
   {
    "duration": 39,
    "start_time": "2022-03-25T16:34:32.378Z"
   },
   {
    "duration": 6,
    "start_time": "2022-03-25T16:34:32.419Z"
   },
   {
    "duration": 14,
    "start_time": "2022-03-25T16:34:32.426Z"
   },
   {
    "duration": 18,
    "start_time": "2022-03-25T16:34:32.441Z"
   },
   {
    "duration": 7,
    "start_time": "2022-03-25T16:34:32.460Z"
   },
   {
    "duration": 45,
    "start_time": "2022-03-25T16:34:32.469Z"
   },
   {
    "duration": 6,
    "start_time": "2022-03-25T16:34:32.517Z"
   },
   {
    "duration": 5,
    "start_time": "2022-03-25T16:34:32.525Z"
   },
   {
    "duration": 7,
    "start_time": "2022-03-25T16:34:32.532Z"
   },
   {
    "duration": 6,
    "start_time": "2022-03-25T16:34:32.541Z"
   },
   {
    "duration": 165,
    "start_time": "2022-03-25T16:34:32.549Z"
   },
   {
    "duration": 9,
    "start_time": "2022-03-25T16:34:32.715Z"
   },
   {
    "duration": 228,
    "start_time": "2022-03-25T16:34:32.726Z"
   },
   {
    "duration": 8,
    "start_time": "2022-03-25T16:34:32.957Z"
   },
   {
    "duration": 5,
    "start_time": "2022-03-25T16:34:32.967Z"
   },
   {
    "duration": 212,
    "start_time": "2022-03-25T16:34:32.974Z"
   },
   {
    "duration": 11,
    "start_time": "2022-03-25T16:34:33.188Z"
   },
   {
    "duration": 5,
    "start_time": "2022-03-25T16:34:33.209Z"
   },
   {
    "duration": 194,
    "start_time": "2022-03-25T16:34:33.216Z"
   },
   {
    "duration": 8,
    "start_time": "2022-03-25T16:34:33.412Z"
   },
   {
    "duration": 5,
    "start_time": "2022-03-25T16:34:33.425Z"
   },
   {
    "duration": 221,
    "start_time": "2022-03-25T16:34:33.431Z"
   },
   {
    "duration": 7,
    "start_time": "2022-03-25T16:34:33.654Z"
   },
   {
    "duration": 6,
    "start_time": "2022-03-25T16:34:33.663Z"
   },
   {
    "duration": 228,
    "start_time": "2022-03-25T16:34:33.671Z"
   },
   {
    "duration": 14,
    "start_time": "2022-03-25T16:34:33.901Z"
   },
   {
    "duration": 7,
    "start_time": "2022-03-25T16:34:33.917Z"
   },
   {
    "duration": 159,
    "start_time": "2022-03-25T16:34:33.926Z"
   },
   {
    "duration": 9,
    "start_time": "2022-03-25T16:34:34.086Z"
   },
   {
    "duration": 16,
    "start_time": "2022-03-25T16:34:34.096Z"
   },
   {
    "duration": 139,
    "start_time": "2022-03-25T16:34:34.113Z"
   },
   {
    "duration": 9,
    "start_time": "2022-03-25T16:34:34.254Z"
   },
   {
    "duration": 5,
    "start_time": "2022-03-25T16:34:34.265Z"
   },
   {
    "duration": 187,
    "start_time": "2022-03-25T16:34:34.272Z"
   },
   {
    "duration": 10,
    "start_time": "2022-03-25T16:34:34.461Z"
   },
   {
    "duration": 5,
    "start_time": "2022-03-25T16:34:34.472Z"
   },
   {
    "duration": 33,
    "start_time": "2022-03-25T16:34:34.479Z"
   },
   {
    "duration": 963,
    "start_time": "2022-03-25T16:34:34.514Z"
   },
   {
    "duration": 989,
    "start_time": "2022-03-25T16:34:35.479Z"
   },
   {
    "duration": 9,
    "start_time": "2022-03-25T16:34:36.469Z"
   },
   {
    "duration": 10,
    "start_time": "2022-03-25T16:34:36.480Z"
   },
   {
    "duration": 10,
    "start_time": "2022-03-25T17:24:35.195Z"
   },
   {
    "duration": 8,
    "start_time": "2022-03-25T17:26:13.341Z"
   },
   {
    "duration": 65,
    "start_time": "2022-03-25T17:28:44.178Z"
   },
   {
    "duration": 105,
    "start_time": "2022-03-25T17:34:33.504Z"
   },
   {
    "duration": 6,
    "start_time": "2022-03-25T17:34:44.998Z"
   },
   {
    "duration": 4,
    "start_time": "2022-03-25T17:35:14.184Z"
   },
   {
    "duration": 1174,
    "start_time": "2022-03-25T17:44:13.702Z"
   },
   {
    "duration": 418,
    "start_time": "2022-03-25T17:44:14.879Z"
   },
   {
    "duration": 15,
    "start_time": "2022-03-25T17:44:15.299Z"
   },
   {
    "duration": 30,
    "start_time": "2022-03-25T17:44:15.316Z"
   },
   {
    "duration": 8,
    "start_time": "2022-03-25T17:44:15.349Z"
   },
   {
    "duration": 27,
    "start_time": "2022-03-25T17:44:15.359Z"
   },
   {
    "duration": 26,
    "start_time": "2022-03-25T17:44:15.388Z"
   },
   {
    "duration": 27,
    "start_time": "2022-03-25T17:44:15.415Z"
   },
   {
    "duration": 8,
    "start_time": "2022-03-25T17:44:15.444Z"
   },
   {
    "duration": 16,
    "start_time": "2022-03-25T17:44:15.453Z"
   },
   {
    "duration": 39,
    "start_time": "2022-03-25T17:44:15.471Z"
   },
   {
    "duration": 115,
    "start_time": "2022-03-25T17:44:15.512Z"
   },
   {
    "duration": 12,
    "start_time": "2022-03-25T17:44:15.629Z"
   },
   {
    "duration": 18,
    "start_time": "2022-03-25T17:44:15.645Z"
   },
   {
    "duration": 249,
    "start_time": "2022-03-25T17:44:15.664Z"
   },
   {
    "duration": 66,
    "start_time": "2022-03-25T17:44:15.915Z"
   },
   {
    "duration": 54,
    "start_time": "2022-03-25T17:44:15.983Z"
   },
   {
    "duration": 28,
    "start_time": "2022-03-25T17:44:16.039Z"
   },
   {
    "duration": 49,
    "start_time": "2022-03-25T17:44:16.069Z"
   },
   {
    "duration": 31,
    "start_time": "2022-03-25T17:44:16.120Z"
   },
   {
    "duration": 20,
    "start_time": "2022-03-25T17:44:16.153Z"
   },
   {
    "duration": 6,
    "start_time": "2022-03-25T17:44:16.174Z"
   },
   {
    "duration": 14,
    "start_time": "2022-03-25T17:44:16.208Z"
   },
   {
    "duration": 24,
    "start_time": "2022-03-25T17:44:16.224Z"
   },
   {
    "duration": 8,
    "start_time": "2022-03-25T17:44:16.250Z"
   },
   {
    "duration": 17,
    "start_time": "2022-03-25T17:44:16.260Z"
   },
   {
    "duration": 35,
    "start_time": "2022-03-25T17:44:16.279Z"
   },
   {
    "duration": 7,
    "start_time": "2022-03-25T17:44:16.316Z"
   },
   {
    "duration": 7,
    "start_time": "2022-03-25T17:44:16.325Z"
   },
   {
    "duration": 6,
    "start_time": "2022-03-25T17:44:16.334Z"
   },
   {
    "duration": 169,
    "start_time": "2022-03-25T17:44:16.342Z"
   },
   {
    "duration": 9,
    "start_time": "2022-03-25T17:44:16.513Z"
   },
   {
    "duration": 14,
    "start_time": "2022-03-25T17:44:16.524Z"
   },
   {
    "duration": 9,
    "start_time": "2022-03-25T17:44:16.540Z"
   },
   {
    "duration": 207,
    "start_time": "2022-03-25T17:44:16.551Z"
   },
   {
    "duration": 10,
    "start_time": "2022-03-25T17:44:16.761Z"
   },
   {
    "duration": 8,
    "start_time": "2022-03-25T17:44:16.773Z"
   },
   {
    "duration": 228,
    "start_time": "2022-03-25T17:44:16.783Z"
   },
   {
    "duration": 9,
    "start_time": "2022-03-25T17:44:17.013Z"
   },
   {
    "duration": 7,
    "start_time": "2022-03-25T17:44:17.023Z"
   },
   {
    "duration": 206,
    "start_time": "2022-03-25T17:44:17.035Z"
   },
   {
    "duration": 8,
    "start_time": "2022-03-25T17:44:17.243Z"
   },
   {
    "duration": 17,
    "start_time": "2022-03-25T17:44:17.254Z"
   },
   {
    "duration": 220,
    "start_time": "2022-03-25T17:44:17.272Z"
   },
   {
    "duration": 19,
    "start_time": "2022-03-25T17:44:17.494Z"
   },
   {
    "duration": 5,
    "start_time": "2022-03-25T17:44:17.515Z"
   },
   {
    "duration": 245,
    "start_time": "2022-03-25T17:44:17.522Z"
   },
   {
    "duration": 9,
    "start_time": "2022-03-25T17:44:17.769Z"
   },
   {
    "duration": 29,
    "start_time": "2022-03-25T17:44:17.779Z"
   },
   {
    "duration": 170,
    "start_time": "2022-03-25T17:44:17.810Z"
   },
   {
    "duration": 10,
    "start_time": "2022-03-25T17:44:17.982Z"
   },
   {
    "duration": 37,
    "start_time": "2022-03-25T17:44:17.994Z"
   },
   {
    "duration": 148,
    "start_time": "2022-03-25T17:44:18.033Z"
   },
   {
    "duration": 9,
    "start_time": "2022-03-25T17:44:18.183Z"
   },
   {
    "duration": 28,
    "start_time": "2022-03-25T17:44:18.194Z"
   },
   {
    "duration": 188,
    "start_time": "2022-03-25T17:44:18.224Z"
   },
   {
    "duration": 10,
    "start_time": "2022-03-25T17:44:18.414Z"
   },
   {
    "duration": 9,
    "start_time": "2022-03-25T17:44:18.426Z"
   },
   {
    "duration": 14,
    "start_time": "2022-03-25T17:44:18.437Z"
   },
   {
    "duration": 1055,
    "start_time": "2022-03-25T17:44:18.453Z"
   },
   {
    "duration": 1064,
    "start_time": "2022-03-25T17:44:19.511Z"
   },
   {
    "duration": 10,
    "start_time": "2022-03-25T17:44:20.577Z"
   },
   {
    "duration": 26,
    "start_time": "2022-03-25T17:44:20.589Z"
   },
   {
    "duration": 1238,
    "start_time": "2022-03-25T18:20:34.669Z"
   },
   {
    "duration": 360,
    "start_time": "2022-03-25T18:20:35.910Z"
   },
   {
    "duration": 11,
    "start_time": "2022-03-25T18:20:36.271Z"
   },
   {
    "duration": 22,
    "start_time": "2022-03-25T18:20:36.284Z"
   },
   {
    "duration": 7,
    "start_time": "2022-03-25T18:20:36.307Z"
   },
   {
    "duration": 21,
    "start_time": "2022-03-25T18:20:36.315Z"
   },
   {
    "duration": 6,
    "start_time": "2022-03-25T18:20:36.337Z"
   },
   {
    "duration": 36,
    "start_time": "2022-03-25T18:20:36.345Z"
   },
   {
    "duration": 7,
    "start_time": "2022-03-25T18:20:36.382Z"
   },
   {
    "duration": 9,
    "start_time": "2022-03-25T18:20:36.390Z"
   },
   {
    "duration": 10,
    "start_time": "2022-03-25T18:20:36.401Z"
   },
   {
    "duration": 96,
    "start_time": "2022-03-25T18:20:36.412Z"
   },
   {
    "duration": 9,
    "start_time": "2022-03-25T18:20:36.510Z"
   },
   {
    "duration": 14,
    "start_time": "2022-03-25T18:20:36.522Z"
   },
   {
    "duration": 168,
    "start_time": "2022-03-25T18:20:36.537Z"
   },
   {
    "duration": 53,
    "start_time": "2022-03-25T18:20:36.706Z"
   },
   {
    "duration": 47,
    "start_time": "2022-03-25T18:20:36.761Z"
   },
   {
    "duration": 22,
    "start_time": "2022-03-25T18:20:36.809Z"
   },
   {
    "duration": 49,
    "start_time": "2022-03-25T18:20:36.833Z"
   },
   {
    "duration": 39,
    "start_time": "2022-03-25T18:20:36.884Z"
   },
   {
    "duration": 22,
    "start_time": "2022-03-25T18:20:36.925Z"
   },
   {
    "duration": 5,
    "start_time": "2022-03-25T18:20:36.949Z"
   },
   {
    "duration": 36,
    "start_time": "2022-03-25T18:20:36.955Z"
   },
   {
    "duration": 15,
    "start_time": "2022-03-25T18:20:36.993Z"
   },
   {
    "duration": 6,
    "start_time": "2022-03-25T18:20:37.009Z"
   },
   {
    "duration": 11,
    "start_time": "2022-03-25T18:20:37.016Z"
   },
   {
    "duration": 5,
    "start_time": "2022-03-25T18:20:37.028Z"
   },
   {
    "duration": 4,
    "start_time": "2022-03-25T18:20:37.035Z"
   },
   {
    "duration": 7,
    "start_time": "2022-03-25T18:20:37.041Z"
   },
   {
    "duration": 33,
    "start_time": "2022-03-25T18:20:37.050Z"
   },
   {
    "duration": 119,
    "start_time": "2022-03-25T18:20:37.085Z"
   },
   {
    "duration": 8,
    "start_time": "2022-03-25T18:20:37.206Z"
   },
   {
    "duration": 6,
    "start_time": "2022-03-25T18:20:37.216Z"
   },
   {
    "duration": 5,
    "start_time": "2022-03-25T18:20:37.224Z"
   },
   {
    "duration": 171,
    "start_time": "2022-03-25T18:20:37.230Z"
   },
   {
    "duration": 7,
    "start_time": "2022-03-25T18:20:37.403Z"
   },
   {
    "duration": 6,
    "start_time": "2022-03-25T18:20:37.411Z"
   },
   {
    "duration": 170,
    "start_time": "2022-03-25T18:20:37.418Z"
   },
   {
    "duration": 7,
    "start_time": "2022-03-25T18:20:37.590Z"
   },
   {
    "duration": 8,
    "start_time": "2022-03-25T18:20:37.599Z"
   },
   {
    "duration": 163,
    "start_time": "2022-03-25T18:20:37.611Z"
   },
   {
    "duration": 11,
    "start_time": "2022-03-25T18:20:37.775Z"
   },
   {
    "duration": 5,
    "start_time": "2022-03-25T18:20:37.788Z"
   },
   {
    "duration": 171,
    "start_time": "2022-03-25T18:20:37.795Z"
   },
   {
    "duration": 14,
    "start_time": "2022-03-25T18:20:37.967Z"
   },
   {
    "duration": 4,
    "start_time": "2022-03-25T18:20:37.983Z"
   },
   {
    "duration": 172,
    "start_time": "2022-03-25T18:20:37.988Z"
   },
   {
    "duration": 7,
    "start_time": "2022-03-25T18:20:38.162Z"
   },
   {
    "duration": 5,
    "start_time": "2022-03-25T18:20:38.181Z"
   },
   {
    "duration": 131,
    "start_time": "2022-03-25T18:20:38.187Z"
   },
   {
    "duration": 7,
    "start_time": "2022-03-25T18:20:38.320Z"
   },
   {
    "duration": 6,
    "start_time": "2022-03-25T18:20:38.328Z"
   },
   {
    "duration": 114,
    "start_time": "2022-03-25T18:20:38.335Z"
   },
   {
    "duration": 6,
    "start_time": "2022-03-25T18:20:38.452Z"
   },
   {
    "duration": 22,
    "start_time": "2022-03-25T18:20:38.460Z"
   },
   {
    "duration": 137,
    "start_time": "2022-03-25T18:20:38.483Z"
   },
   {
    "duration": 7,
    "start_time": "2022-03-25T18:20:38.622Z"
   },
   {
    "duration": 5,
    "start_time": "2022-03-25T18:20:38.631Z"
   },
   {
    "duration": 11,
    "start_time": "2022-03-25T18:20:38.638Z"
   },
   {
    "duration": 919,
    "start_time": "2022-03-25T18:20:38.650Z"
   },
   {
    "duration": 832,
    "start_time": "2022-03-25T18:20:39.572Z"
   },
   {
    "duration": 8,
    "start_time": "2022-03-25T18:20:40.405Z"
   },
   {
    "duration": 11,
    "start_time": "2022-03-25T18:20:40.414Z"
   },
   {
    "duration": 5,
    "start_time": "2022-03-25T18:27:40.738Z"
   },
   {
    "duration": 79,
    "start_time": "2022-05-21T18:36:16.882Z"
   },
   {
    "duration": 1164,
    "start_time": "2022-05-21T18:36:23.768Z"
   },
   {
    "duration": 1484,
    "start_time": "2022-05-21T18:36:24.934Z"
   },
   {
    "duration": 12,
    "start_time": "2022-05-21T18:36:26.420Z"
   },
   {
    "duration": 37,
    "start_time": "2022-05-21T18:36:26.434Z"
   },
   {
    "duration": 14,
    "start_time": "2022-05-21T18:36:26.473Z"
   },
   {
    "duration": 25,
    "start_time": "2022-05-21T18:36:26.488Z"
   },
   {
    "duration": 8,
    "start_time": "2022-05-21T18:36:26.515Z"
   },
   {
    "duration": 40,
    "start_time": "2022-05-21T18:36:26.525Z"
   },
   {
    "duration": 8,
    "start_time": "2022-05-21T18:36:26.567Z"
   },
   {
    "duration": 11,
    "start_time": "2022-05-21T18:36:26.577Z"
   },
   {
    "duration": 12,
    "start_time": "2022-05-21T18:36:26.590Z"
   },
   {
    "duration": 114,
    "start_time": "2022-05-21T18:36:26.604Z"
   },
   {
    "duration": 11,
    "start_time": "2022-05-21T18:36:26.719Z"
   },
   {
    "duration": 27,
    "start_time": "2022-05-21T18:36:26.732Z"
   },
   {
    "duration": 232,
    "start_time": "2022-05-21T18:36:26.761Z"
   },
   {
    "duration": 79,
    "start_time": "2022-05-21T18:36:26.996Z"
   },
   {
    "duration": 37,
    "start_time": "2022-05-21T18:36:27.077Z"
   },
   {
    "duration": 61,
    "start_time": "2022-05-21T18:36:27.116Z"
   },
   {
    "duration": 33,
    "start_time": "2022-05-21T18:36:27.179Z"
   },
   {
    "duration": 105,
    "start_time": "2022-05-21T18:36:27.214Z"
   },
   {
    "duration": 37,
    "start_time": "2022-05-21T18:36:27.321Z"
   },
   {
    "duration": 4,
    "start_time": "2022-05-21T18:36:27.360Z"
   },
   {
    "duration": 21,
    "start_time": "2022-05-21T18:36:27.365Z"
   },
   {
    "duration": 15,
    "start_time": "2022-05-21T18:36:27.388Z"
   },
   {
    "duration": 18,
    "start_time": "2022-05-21T18:36:27.405Z"
   },
   {
    "duration": 28,
    "start_time": "2022-05-21T18:36:27.425Z"
   },
   {
    "duration": 19,
    "start_time": "2022-05-21T18:36:27.454Z"
   },
   {
    "duration": 6,
    "start_time": "2022-05-21T18:36:27.477Z"
   },
   {
    "duration": 8,
    "start_time": "2022-05-21T18:36:27.484Z"
   },
   {
    "duration": 8,
    "start_time": "2022-05-21T18:36:27.494Z"
   },
   {
    "duration": 6,
    "start_time": "2022-05-21T18:36:27.503Z"
   },
   {
    "duration": 183,
    "start_time": "2022-05-21T18:36:27.511Z"
   },
   {
    "duration": 10,
    "start_time": "2022-05-21T18:36:27.696Z"
   },
   {
    "duration": 6,
    "start_time": "2022-05-21T18:36:27.707Z"
   },
   {
    "duration": 7,
    "start_time": "2022-05-21T18:36:27.714Z"
   },
   {
    "duration": 225,
    "start_time": "2022-05-21T18:36:27.722Z"
   },
   {
    "duration": 10,
    "start_time": "2022-05-21T18:36:27.949Z"
   },
   {
    "duration": 10,
    "start_time": "2022-05-21T18:36:27.960Z"
   },
   {
    "duration": 205,
    "start_time": "2022-05-21T18:36:27.972Z"
   },
   {
    "duration": 9,
    "start_time": "2022-05-21T18:36:28.178Z"
   },
   {
    "duration": 9,
    "start_time": "2022-05-21T18:36:28.188Z"
   },
   {
    "duration": 204,
    "start_time": "2022-05-21T18:36:28.198Z"
   },
   {
    "duration": 9,
    "start_time": "2022-05-21T18:36:28.403Z"
   },
   {
    "duration": 11,
    "start_time": "2022-05-21T18:36:28.414Z"
   },
   {
    "duration": 235,
    "start_time": "2022-05-21T18:36:28.427Z"
   },
   {
    "duration": 8,
    "start_time": "2022-05-21T18:36:28.664Z"
   },
   {
    "duration": 5,
    "start_time": "2022-05-21T18:36:28.674Z"
   },
   {
    "duration": 178,
    "start_time": "2022-05-21T18:36:28.680Z"
   },
   {
    "duration": 9,
    "start_time": "2022-05-21T18:36:28.860Z"
   },
   {
    "duration": 6,
    "start_time": "2022-05-21T18:36:28.870Z"
   },
   {
    "duration": 157,
    "start_time": "2022-05-21T18:36:28.877Z"
   },
   {
    "duration": 12,
    "start_time": "2022-05-21T18:36:29.044Z"
   },
   {
    "duration": 10,
    "start_time": "2022-05-21T18:36:29.058Z"
   },
   {
    "duration": 153,
    "start_time": "2022-05-21T18:36:29.070Z"
   },
   {
    "duration": 7,
    "start_time": "2022-05-21T18:36:29.225Z"
   },
   {
    "duration": 13,
    "start_time": "2022-05-21T18:36:29.234Z"
   },
   {
    "duration": 177,
    "start_time": "2022-05-21T18:36:29.249Z"
   },
   {
    "duration": 28,
    "start_time": "2022-05-21T18:36:29.428Z"
   },
   {
    "duration": 5,
    "start_time": "2022-05-21T18:36:29.458Z"
   },
   {
    "duration": 12,
    "start_time": "2022-05-21T18:36:29.464Z"
   },
   {
    "duration": 1081,
    "start_time": "2022-05-21T18:36:29.477Z"
   },
   {
    "duration": 1093,
    "start_time": "2022-05-21T18:36:30.560Z"
   },
   {
    "duration": 9,
    "start_time": "2022-05-21T18:36:31.658Z"
   },
   {
    "duration": 12,
    "start_time": "2022-05-21T18:36:31.669Z"
   },
   {
    "duration": 1143,
    "start_time": "2022-07-19T16:54:25.241Z"
   },
   {
    "duration": 1187,
    "start_time": "2022-07-19T16:54:26.386Z"
   },
   {
    "duration": 13,
    "start_time": "2022-07-19T16:54:27.575Z"
   },
   {
    "duration": 57,
    "start_time": "2022-07-19T16:54:27.590Z"
   },
   {
    "duration": 13,
    "start_time": "2022-07-19T16:54:27.650Z"
   },
   {
    "duration": 29,
    "start_time": "2022-07-19T16:54:27.665Z"
   },
   {
    "duration": 17,
    "start_time": "2022-07-19T16:54:27.695Z"
   },
   {
    "duration": 54,
    "start_time": "2022-07-19T16:54:27.714Z"
   },
   {
    "duration": 24,
    "start_time": "2022-07-19T16:54:27.770Z"
   },
   {
    "duration": 61,
    "start_time": "2022-07-19T16:54:27.798Z"
   },
   {
    "duration": 28,
    "start_time": "2022-07-19T16:54:27.861Z"
   },
   {
    "duration": 131,
    "start_time": "2022-07-19T16:54:27.890Z"
   },
   {
    "duration": 19,
    "start_time": "2022-07-19T16:54:28.023Z"
   },
   {
    "duration": 30,
    "start_time": "2022-07-19T16:54:28.044Z"
   },
   {
    "duration": 209,
    "start_time": "2022-07-19T16:54:28.076Z"
   },
   {
    "duration": 75,
    "start_time": "2022-07-19T16:54:28.286Z"
   },
   {
    "duration": 32,
    "start_time": "2022-07-19T16:54:28.363Z"
   },
   {
    "duration": 57,
    "start_time": "2022-07-19T16:54:28.396Z"
   },
   {
    "duration": 58,
    "start_time": "2022-07-19T16:54:28.455Z"
   },
   {
    "duration": 51,
    "start_time": "2022-07-19T16:54:28.514Z"
   },
   {
    "duration": 21,
    "start_time": "2022-07-19T16:54:28.567Z"
   },
   {
    "duration": 52,
    "start_time": "2022-07-19T16:54:28.589Z"
   },
   {
    "duration": 35,
    "start_time": "2022-07-19T16:54:28.643Z"
   },
   {
    "duration": 53,
    "start_time": "2022-07-19T16:54:28.680Z"
   },
   {
    "duration": 20,
    "start_time": "2022-07-19T16:54:28.737Z"
   },
   {
    "duration": 18,
    "start_time": "2022-07-19T16:54:28.759Z"
   },
   {
    "duration": 25,
    "start_time": "2022-07-19T16:54:28.778Z"
   },
   {
    "duration": 37,
    "start_time": "2022-07-19T16:54:28.807Z"
   },
   {
    "duration": 30,
    "start_time": "2022-07-19T16:54:28.846Z"
   },
   {
    "duration": 16,
    "start_time": "2022-07-19T16:54:28.878Z"
   },
   {
    "duration": 185,
    "start_time": "2022-07-19T16:54:28.896Z"
   },
   {
    "duration": 8,
    "start_time": "2022-07-19T16:54:29.083Z"
   },
   {
    "duration": 45,
    "start_time": "2022-07-19T16:54:29.092Z"
   },
   {
    "duration": 18,
    "start_time": "2022-07-19T16:54:29.139Z"
   },
   {
    "duration": 225,
    "start_time": "2022-07-19T16:54:29.159Z"
   },
   {
    "duration": 8,
    "start_time": "2022-07-19T16:54:29.385Z"
   },
   {
    "duration": 45,
    "start_time": "2022-07-19T16:54:29.395Z"
   },
   {
    "duration": 236,
    "start_time": "2022-07-19T16:54:29.441Z"
   },
   {
    "duration": 8,
    "start_time": "2022-07-19T16:54:29.679Z"
   },
   {
    "duration": 70,
    "start_time": "2022-07-19T16:54:29.689Z"
   },
   {
    "duration": 240,
    "start_time": "2022-07-19T16:54:29.761Z"
   },
   {
    "duration": 20,
    "start_time": "2022-07-19T16:54:30.003Z"
   },
   {
    "duration": 40,
    "start_time": "2022-07-19T16:54:30.025Z"
   },
   {
    "duration": 241,
    "start_time": "2022-07-19T16:54:30.066Z"
   },
   {
    "duration": 25,
    "start_time": "2022-07-19T16:54:30.309Z"
   },
   {
    "duration": 40,
    "start_time": "2022-07-19T16:54:30.343Z"
   },
   {
    "duration": 264,
    "start_time": "2022-07-19T16:54:30.385Z"
   },
   {
    "duration": 9,
    "start_time": "2022-07-19T16:54:30.651Z"
   },
   {
    "duration": 25,
    "start_time": "2022-07-19T16:54:30.661Z"
   },
   {
    "duration": 155,
    "start_time": "2022-07-19T16:54:30.687Z"
   },
   {
    "duration": 8,
    "start_time": "2022-07-19T16:54:30.844Z"
   },
   {
    "duration": 25,
    "start_time": "2022-07-19T16:54:30.854Z"
   },
   {
    "duration": 159,
    "start_time": "2022-07-19T16:54:30.881Z"
   },
   {
    "duration": 10,
    "start_time": "2022-07-19T16:54:31.042Z"
   },
   {
    "duration": 32,
    "start_time": "2022-07-19T16:54:31.054Z"
   },
   {
    "duration": 197,
    "start_time": "2022-07-19T16:54:31.087Z"
   },
   {
    "duration": 8,
    "start_time": "2022-07-19T16:54:31.286Z"
   },
   {
    "duration": 69,
    "start_time": "2022-07-19T16:54:31.296Z"
   },
   {
    "duration": 31,
    "start_time": "2022-07-19T16:54:31.367Z"
   },
   {
    "duration": 1096,
    "start_time": "2022-07-19T16:54:31.400Z"
   },
   {
    "duration": 1064,
    "start_time": "2022-07-19T16:54:32.498Z"
   },
   {
    "duration": 11,
    "start_time": "2022-07-19T16:54:33.564Z"
   },
   {
    "duration": 24,
    "start_time": "2022-07-19T16:54:33.577Z"
   }
  ],
  "kernelspec": {
   "display_name": "Python 3 (ipykernel)",
   "language": "python",
   "name": "python3"
  },
  "language_info": {
   "codemirror_mode": {
    "name": "ipython",
    "version": 3
   },
   "file_extension": ".py",
   "mimetype": "text/x-python",
   "name": "python",
   "nbconvert_exporter": "python",
   "pygments_lexer": "ipython3",
   "version": "3.9.7"
  },
  "toc": {
   "base_numbering": 1,
   "nav_menu": {},
   "number_sections": true,
   "sideBar": true,
   "skip_h1_title": true,
   "title_cell": "Table of Contents",
   "title_sidebar": "Contents",
   "toc_cell": false,
   "toc_position": {},
   "toc_section_display": true,
   "toc_window_display": true
  }
 },
 "nbformat": 4,
 "nbformat_minor": 2
}
