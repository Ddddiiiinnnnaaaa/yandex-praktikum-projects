{
 "cells": [
  {
   "cell_type": "markdown",
   "metadata": {},
   "source": [
    "## Исследовательский анализ успешности компьютерных игр"
   ]
  },
  {
   "cell_type": "markdown",
   "metadata": {},
   "source": [
    "##  Изучение данных из файла"
   ]
  },
  {
   "cell_type": "code",
   "execution_count": 1,
   "metadata": {},
   "outputs": [],
   "source": [
    "import pandas as pd # импортируем библиотеку pandas\n",
    "import numpy as np # импортируем библиотеку numpy для выполнения математических вычислений\n",
    "import matplotlib.pyplot as plt # импортируем библиотеку matplotlib.pyplot для работы с графиками\n",
    "import seaborn as sns  # импортируем библиотеку seaborn для визуализации данных\n",
    "from scipy import stats as st #для статистических операций"
   ]
  },
  {
   "cell_type": "code",
   "execution_count": 2,
   "metadata": {},
   "outputs": [
    {
     "data": {
      "text/html": [
       "<div>\n",
       "<style scoped>\n",
       "    .dataframe tbody tr th:only-of-type {\n",
       "        vertical-align: middle;\n",
       "    }\n",
       "\n",
       "    .dataframe tbody tr th {\n",
       "        vertical-align: top;\n",
       "    }\n",
       "\n",
       "    .dataframe thead th {\n",
       "        text-align: right;\n",
       "    }\n",
       "</style>\n",
       "<table border=\"1\" class=\"dataframe\">\n",
       "  <thead>\n",
       "    <tr style=\"text-align: right;\">\n",
       "      <th></th>\n",
       "      <th>Name</th>\n",
       "      <th>Platform</th>\n",
       "      <th>Year_of_Release</th>\n",
       "      <th>Genre</th>\n",
       "      <th>NA_sales</th>\n",
       "      <th>EU_sales</th>\n",
       "      <th>JP_sales</th>\n",
       "      <th>Other_sales</th>\n",
       "      <th>Critic_Score</th>\n",
       "      <th>User_Score</th>\n",
       "      <th>Rating</th>\n",
       "    </tr>\n",
       "  </thead>\n",
       "  <tbody>\n",
       "    <tr>\n",
       "      <th>0</th>\n",
       "      <td>Wii Sports</td>\n",
       "      <td>Wii</td>\n",
       "      <td>2006.0</td>\n",
       "      <td>Sports</td>\n",
       "      <td>41.36</td>\n",
       "      <td>28.96</td>\n",
       "      <td>3.77</td>\n",
       "      <td>8.45</td>\n",
       "      <td>76.0</td>\n",
       "      <td>8</td>\n",
       "      <td>E</td>\n",
       "    </tr>\n",
       "    <tr>\n",
       "      <th>1</th>\n",
       "      <td>Super Mario Bros.</td>\n",
       "      <td>NES</td>\n",
       "      <td>1985.0</td>\n",
       "      <td>Platform</td>\n",
       "      <td>29.08</td>\n",
       "      <td>3.58</td>\n",
       "      <td>6.81</td>\n",
       "      <td>0.77</td>\n",
       "      <td>NaN</td>\n",
       "      <td>NaN</td>\n",
       "      <td>NaN</td>\n",
       "    </tr>\n",
       "    <tr>\n",
       "      <th>2</th>\n",
       "      <td>Mario Kart Wii</td>\n",
       "      <td>Wii</td>\n",
       "      <td>2008.0</td>\n",
       "      <td>Racing</td>\n",
       "      <td>15.68</td>\n",
       "      <td>12.76</td>\n",
       "      <td>3.79</td>\n",
       "      <td>3.29</td>\n",
       "      <td>82.0</td>\n",
       "      <td>8.3</td>\n",
       "      <td>E</td>\n",
       "    </tr>\n",
       "    <tr>\n",
       "      <th>3</th>\n",
       "      <td>Wii Sports Resort</td>\n",
       "      <td>Wii</td>\n",
       "      <td>2009.0</td>\n",
       "      <td>Sports</td>\n",
       "      <td>15.61</td>\n",
       "      <td>10.93</td>\n",
       "      <td>3.28</td>\n",
       "      <td>2.95</td>\n",
       "      <td>80.0</td>\n",
       "      <td>8</td>\n",
       "      <td>E</td>\n",
       "    </tr>\n",
       "    <tr>\n",
       "      <th>4</th>\n",
       "      <td>Pokemon Red/Pokemon Blue</td>\n",
       "      <td>GB</td>\n",
       "      <td>1996.0</td>\n",
       "      <td>Role-Playing</td>\n",
       "      <td>11.27</td>\n",
       "      <td>8.89</td>\n",
       "      <td>10.22</td>\n",
       "      <td>1.00</td>\n",
       "      <td>NaN</td>\n",
       "      <td>NaN</td>\n",
       "      <td>NaN</td>\n",
       "    </tr>\n",
       "    <tr>\n",
       "      <th>5</th>\n",
       "      <td>Tetris</td>\n",
       "      <td>GB</td>\n",
       "      <td>1989.0</td>\n",
       "      <td>Puzzle</td>\n",
       "      <td>23.20</td>\n",
       "      <td>2.26</td>\n",
       "      <td>4.22</td>\n",
       "      <td>0.58</td>\n",
       "      <td>NaN</td>\n",
       "      <td>NaN</td>\n",
       "      <td>NaN</td>\n",
       "    </tr>\n",
       "    <tr>\n",
       "      <th>6</th>\n",
       "      <td>New Super Mario Bros.</td>\n",
       "      <td>DS</td>\n",
       "      <td>2006.0</td>\n",
       "      <td>Platform</td>\n",
       "      <td>11.28</td>\n",
       "      <td>9.14</td>\n",
       "      <td>6.50</td>\n",
       "      <td>2.88</td>\n",
       "      <td>89.0</td>\n",
       "      <td>8.5</td>\n",
       "      <td>E</td>\n",
       "    </tr>\n",
       "    <tr>\n",
       "      <th>7</th>\n",
       "      <td>Wii Play</td>\n",
       "      <td>Wii</td>\n",
       "      <td>2006.0</td>\n",
       "      <td>Misc</td>\n",
       "      <td>13.96</td>\n",
       "      <td>9.18</td>\n",
       "      <td>2.93</td>\n",
       "      <td>2.84</td>\n",
       "      <td>58.0</td>\n",
       "      <td>6.6</td>\n",
       "      <td>E</td>\n",
       "    </tr>\n",
       "    <tr>\n",
       "      <th>8</th>\n",
       "      <td>New Super Mario Bros. Wii</td>\n",
       "      <td>Wii</td>\n",
       "      <td>2009.0</td>\n",
       "      <td>Platform</td>\n",
       "      <td>14.44</td>\n",
       "      <td>6.94</td>\n",
       "      <td>4.70</td>\n",
       "      <td>2.24</td>\n",
       "      <td>87.0</td>\n",
       "      <td>8.4</td>\n",
       "      <td>E</td>\n",
       "    </tr>\n",
       "    <tr>\n",
       "      <th>9</th>\n",
       "      <td>Duck Hunt</td>\n",
       "      <td>NES</td>\n",
       "      <td>1984.0</td>\n",
       "      <td>Shooter</td>\n",
       "      <td>26.93</td>\n",
       "      <td>0.63</td>\n",
       "      <td>0.28</td>\n",
       "      <td>0.47</td>\n",
       "      <td>NaN</td>\n",
       "      <td>NaN</td>\n",
       "      <td>NaN</td>\n",
       "    </tr>\n",
       "  </tbody>\n",
       "</table>\n",
       "</div>"
      ],
      "text/plain": [
       "                        Name Platform  Year_of_Release         Genre  \\\n",
       "0                 Wii Sports      Wii           2006.0        Sports   \n",
       "1          Super Mario Bros.      NES           1985.0      Platform   \n",
       "2             Mario Kart Wii      Wii           2008.0        Racing   \n",
       "3          Wii Sports Resort      Wii           2009.0        Sports   \n",
       "4   Pokemon Red/Pokemon Blue       GB           1996.0  Role-Playing   \n",
       "5                     Tetris       GB           1989.0        Puzzle   \n",
       "6      New Super Mario Bros.       DS           2006.0      Platform   \n",
       "7                   Wii Play      Wii           2006.0          Misc   \n",
       "8  New Super Mario Bros. Wii      Wii           2009.0      Platform   \n",
       "9                  Duck Hunt      NES           1984.0       Shooter   \n",
       "\n",
       "   NA_sales  EU_sales  JP_sales  Other_sales  Critic_Score User_Score Rating  \n",
       "0     41.36     28.96      3.77         8.45          76.0          8      E  \n",
       "1     29.08      3.58      6.81         0.77           NaN        NaN    NaN  \n",
       "2     15.68     12.76      3.79         3.29          82.0        8.3      E  \n",
       "3     15.61     10.93      3.28         2.95          80.0          8      E  \n",
       "4     11.27      8.89     10.22         1.00           NaN        NaN    NaN  \n",
       "5     23.20      2.26      4.22         0.58           NaN        NaN    NaN  \n",
       "6     11.28      9.14      6.50         2.88          89.0        8.5      E  \n",
       "7     13.96      9.18      2.93         2.84          58.0        6.6      E  \n",
       "8     14.44      6.94      4.70         2.24          87.0        8.4      E  \n",
       "9     26.93      0.63      0.28         0.47           NaN        NaN    NaN  "
      ]
     },
     "execution_count": 2,
     "metadata": {},
     "output_type": "execute_result"
    }
   ],
   "source": [
    "\n",
    "df.head(10)\n",
    "# выведем на экран 10 первых строк датафрейма"
   ]
  },
  {
   "cell_type": "code",
   "execution_count": 3,
   "metadata": {},
   "outputs": [
    {
     "name": "stdout",
     "output_type": "stream",
     "text": [
      "<class 'pandas.core.frame.DataFrame'>\n",
      "RangeIndex: 16715 entries, 0 to 16714\n",
      "Data columns (total 11 columns):\n",
      " #   Column           Non-Null Count  Dtype  \n",
      "---  ------           --------------  -----  \n",
      " 0   Name             16713 non-null  object \n",
      " 1   Platform         16715 non-null  object \n",
      " 2   Year_of_Release  16446 non-null  float64\n",
      " 3   Genre            16713 non-null  object \n",
      " 4   NA_sales         16715 non-null  float64\n",
      " 5   EU_sales         16715 non-null  float64\n",
      " 6   JP_sales         16715 non-null  float64\n",
      " 7   Other_sales      16715 non-null  float64\n",
      " 8   Critic_Score     8137 non-null   float64\n",
      " 9   User_Score       10014 non-null  object \n",
      " 10  Rating           9949 non-null   object \n",
      "dtypes: float64(6), object(5)\n",
      "memory usage: 1.4+ MB\n"
     ]
    }
   ],
   "source": [
    "df.info() \n",
    "# получим общую информацию о df"
   ]
  },
  {
   "cell_type": "markdown",
   "metadata": {},
   "source": [
    "Есть нарушение стиля в названии столбцов и пропущенные значения, так же в колонке Year_of_Release заменим тип данных на int , так как год не может быть дробным числом."
   ]
  },
  {
   "cell_type": "code",
   "execution_count": 4,
   "metadata": {},
   "outputs": [
    {
     "data": {
      "text/html": [
       "<div>\n",
       "<style scoped>\n",
       "    .dataframe tbody tr th:only-of-type {\n",
       "        vertical-align: middle;\n",
       "    }\n",
       "\n",
       "    .dataframe tbody tr th {\n",
       "        vertical-align: top;\n",
       "    }\n",
       "\n",
       "    .dataframe thead th {\n",
       "        text-align: right;\n",
       "    }\n",
       "</style>\n",
       "<table border=\"1\" class=\"dataframe\">\n",
       "  <thead>\n",
       "    <tr style=\"text-align: right;\">\n",
       "      <th></th>\n",
       "      <th>Year_of_Release</th>\n",
       "      <th>NA_sales</th>\n",
       "      <th>EU_sales</th>\n",
       "      <th>JP_sales</th>\n",
       "      <th>Other_sales</th>\n",
       "      <th>Critic_Score</th>\n",
       "    </tr>\n",
       "  </thead>\n",
       "  <tbody>\n",
       "    <tr>\n",
       "      <th>count</th>\n",
       "      <td>16446.000000</td>\n",
       "      <td>16715.000000</td>\n",
       "      <td>16715.000000</td>\n",
       "      <td>16715.000000</td>\n",
       "      <td>16715.000000</td>\n",
       "      <td>8137.000000</td>\n",
       "    </tr>\n",
       "    <tr>\n",
       "      <th>mean</th>\n",
       "      <td>2006.484616</td>\n",
       "      <td>0.263377</td>\n",
       "      <td>0.145060</td>\n",
       "      <td>0.077617</td>\n",
       "      <td>0.047342</td>\n",
       "      <td>68.967679</td>\n",
       "    </tr>\n",
       "    <tr>\n",
       "      <th>std</th>\n",
       "      <td>5.877050</td>\n",
       "      <td>0.813604</td>\n",
       "      <td>0.503339</td>\n",
       "      <td>0.308853</td>\n",
       "      <td>0.186731</td>\n",
       "      <td>13.938165</td>\n",
       "    </tr>\n",
       "    <tr>\n",
       "      <th>min</th>\n",
       "      <td>1980.000000</td>\n",
       "      <td>0.000000</td>\n",
       "      <td>0.000000</td>\n",
       "      <td>0.000000</td>\n",
       "      <td>0.000000</td>\n",
       "      <td>13.000000</td>\n",
       "    </tr>\n",
       "    <tr>\n",
       "      <th>25%</th>\n",
       "      <td>2003.000000</td>\n",
       "      <td>0.000000</td>\n",
       "      <td>0.000000</td>\n",
       "      <td>0.000000</td>\n",
       "      <td>0.000000</td>\n",
       "      <td>60.000000</td>\n",
       "    </tr>\n",
       "    <tr>\n",
       "      <th>50%</th>\n",
       "      <td>2007.000000</td>\n",
       "      <td>0.080000</td>\n",
       "      <td>0.020000</td>\n",
       "      <td>0.000000</td>\n",
       "      <td>0.010000</td>\n",
       "      <td>71.000000</td>\n",
       "    </tr>\n",
       "    <tr>\n",
       "      <th>75%</th>\n",
       "      <td>2010.000000</td>\n",
       "      <td>0.240000</td>\n",
       "      <td>0.110000</td>\n",
       "      <td>0.040000</td>\n",
       "      <td>0.030000</td>\n",
       "      <td>79.000000</td>\n",
       "    </tr>\n",
       "    <tr>\n",
       "      <th>max</th>\n",
       "      <td>2016.000000</td>\n",
       "      <td>41.360000</td>\n",
       "      <td>28.960000</td>\n",
       "      <td>10.220000</td>\n",
       "      <td>10.570000</td>\n",
       "      <td>98.000000</td>\n",
       "    </tr>\n",
       "  </tbody>\n",
       "</table>\n",
       "</div>"
      ],
      "text/plain": [
       "       Year_of_Release      NA_sales      EU_sales      JP_sales  \\\n",
       "count     16446.000000  16715.000000  16715.000000  16715.000000   \n",
       "mean       2006.484616      0.263377      0.145060      0.077617   \n",
       "std           5.877050      0.813604      0.503339      0.308853   \n",
       "min        1980.000000      0.000000      0.000000      0.000000   \n",
       "25%        2003.000000      0.000000      0.000000      0.000000   \n",
       "50%        2007.000000      0.080000      0.020000      0.000000   \n",
       "75%        2010.000000      0.240000      0.110000      0.040000   \n",
       "max        2016.000000     41.360000     28.960000     10.220000   \n",
       "\n",
       "        Other_sales  Critic_Score  \n",
       "count  16715.000000   8137.000000  \n",
       "mean       0.047342     68.967679  \n",
       "std        0.186731     13.938165  \n",
       "min        0.000000     13.000000  \n",
       "25%        0.000000     60.000000  \n",
       "50%        0.010000     71.000000  \n",
       "75%        0.030000     79.000000  \n",
       "max       10.570000     98.000000  "
      ]
     },
     "execution_count": 4,
     "metadata": {},
     "output_type": "execute_result"
    }
   ],
   "source": [
    "df.describe()\n",
    "# посмотрим список характерных значений таблицы с помощью метода describe()"
   ]
  },
  {
   "cell_type": "markdown",
   "metadata": {},
   "source": [
    "По строке std, mean и max  можем увидеть  насколько значение в выборке отличается от среднего арифметического. Можно сказать, что значения в столбцах неоднородны. Значит в этих столбцах могут быть серьезные аномалии и выбросы"
   ]
  },
  {
   "cell_type": "markdown",
   "metadata": {},
   "source": [
    "В датафрейме данные о продажах игр, оценки пользователей и экспертов, жанры и платформы собраные до 2016 года. \n"
   ]
  },
  {
   "cell_type": "markdown",
   "metadata": {},
   "source": [
    "Итак, после обзора данных, можно сделать вывод, что они нуждаются в предобработки.\n",
    "\n",
    "В названиях колонок обнаружено нарушение стиля - строчные буквы сочетаются с прописными.\n",
    "\n",
    "Также видим наличие пропущенных значений в столбцах.\n",
    "\n",
    "Необходимо преобразовать данные к нужному типу для дальнейшего их использования.\n",
    "\n",
    "Проверим данные на явные и неявные дубликаты.\n",
    "\n",
    "И посчитаем суммарные продажи во всех регионах."
   ]
  },
  {
   "cell_type": "markdown",
   "metadata": {},
   "source": [
    "## Предобработка данных"
   ]
  },
  {
   "cell_type": "markdown",
   "metadata": {},
   "source": [
    "**Заменим названия столбцов - приведем его к нижнему регистру**"
   ]
  },
  {
   "cell_type": "code",
   "execution_count": 5,
   "metadata": {},
   "outputs": [
    {
     "name": "stdout",
     "output_type": "stream",
     "text": [
      "<class 'pandas.core.frame.DataFrame'>\n",
      "RangeIndex: 16715 entries, 0 to 16714\n",
      "Data columns (total 11 columns):\n",
      " #   Column           Non-Null Count  Dtype  \n",
      "---  ------           --------------  -----  \n",
      " 0   name             16713 non-null  object \n",
      " 1   platform         16715 non-null  object \n",
      " 2   year_of_release  16446 non-null  float64\n",
      " 3   genre            16713 non-null  object \n",
      " 4   na_sales         16715 non-null  float64\n",
      " 5   eu_sales         16715 non-null  float64\n",
      " 6   jp_sales         16715 non-null  float64\n",
      " 7   other_sales      16715 non-null  float64\n",
      " 8   critic_score     8137 non-null   float64\n",
      " 9   user_score       10014 non-null  object \n",
      " 10  rating           9949 non-null   object \n",
      "dtypes: float64(6), object(5)\n",
      "memory usage: 1.4+ MB\n"
     ]
    }
   ],
   "source": [
    "df.columns = df.columns.str.lower()\n",
    "#  с помощью метода str.lower() приведем названия столбцов к нижнему регистру\n",
    "df.info()\n",
    "# проверим изменились ли названия столбцов"
   ]
  },
  {
   "cell_type": "markdown",
   "metadata": {},
   "source": [
    "Проверим данные на явные и неявные дубликаты"
   ]
  },
  {
   "cell_type": "code",
   "execution_count": 6,
   "metadata": {},
   "outputs": [
    {
     "data": {
      "text/plain": [
       "PS2     2161\n",
       "DS      2151\n",
       "PS3     1331\n",
       "Wii     1320\n",
       "X360    1262\n",
       "PSP     1209\n",
       "PS      1197\n",
       "PC       974\n",
       "XB       824\n",
       "GBA      822\n",
       "GC       556\n",
       "3DS      520\n",
       "PSV      430\n",
       "PS4      392\n",
       "N64      319\n",
       "XOne     247\n",
       "SNES     239\n",
       "SAT      173\n",
       "WiiU     147\n",
       "2600     133\n",
       "NES       98\n",
       "GB        98\n",
       "DC        52\n",
       "GEN       29\n",
       "NG        12\n",
       "SCD        6\n",
       "WS         6\n",
       "3DO        3\n",
       "TG16       2\n",
       "PCFX       1\n",
       "GG         1\n",
       "Name: platform, dtype: int64"
      ]
     },
     "execution_count": 6,
     "metadata": {},
     "output_type": "execute_result"
    }
   ],
   "source": [
    "df['platform'].value_counts()\n",
    "#посмотрим уникальные значения и количество их упоминаний в столбце platform с помощью метода value_counts()"
   ]
  },
  {
   "cell_type": "code",
   "execution_count": 7,
   "metadata": {},
   "outputs": [
    {
     "data": {
      "text/plain": [
       "Action          3369\n",
       "Sports          2348\n",
       "Misc            1750\n",
       "Role-Playing    1498\n",
       "Shooter         1323\n",
       "Adventure       1303\n",
       "Racing          1249\n",
       "Platform         888\n",
       "Simulation       873\n",
       "Fighting         849\n",
       "Strategy         683\n",
       "Puzzle           580\n",
       "Name: genre, dtype: int64"
      ]
     },
     "execution_count": 7,
     "metadata": {},
     "output_type": "execute_result"
    }
   ],
   "source": [
    "df['genre'].value_counts()\n",
    "#посмотрим уникальные значения и количество их упоминаний в столбце genre с помощью метода value_counts()"
   ]
  },
  {
   "cell_type": "markdown",
   "metadata": {},
   "source": [
    "В столбцах platform и genre дубликатов нет."
   ]
  },
  {
   "cell_type": "code",
   "execution_count": 8,
   "metadata": {},
   "outputs": [
    {
     "data": {
      "text/plain": [
       "array([13., 17., 19., 20., 21., 22., 23., 24., 25., 26., 27., 28., 29.,\n",
       "       30., 31., 32., 33., 34., 35., 36., 37., 38., 39., 40., 41., 42.,\n",
       "       43., 44., 45., 46., 47., 48., 49., 50., 51., 52., 53., 54., 55.,\n",
       "       56., 57., 58., 59., 60., 61., 62., 63., 64., 65., 66., 67., 68.,\n",
       "       69., 70., 71., 72., 73., 74., 75., 76., 77., 78., 79., 80., 81.,\n",
       "       82., 83., 84., 85., 86., 87., 88., 89., 90., 91., 92., 93., 94.,\n",
       "       95., 96., 97., 98., nan])"
      ]
     },
     "execution_count": 8,
     "metadata": {},
     "output_type": "execute_result"
    }
   ],
   "source": [
    "df['critic_score'].sort_values().unique()\n",
    "# посмотрим список уникальных значений с помощью метода unique()\n",
    "# отсортируем их с помощью метода sort_values()"
   ]
  },
  {
   "cell_type": "code",
   "execution_count": 9,
   "metadata": {},
   "outputs": [
    {
     "data": {
      "text/plain": [
       "array(['0', '0.2', '0.3', '0.5', '0.6', '0.7', '0.9', '1', '1.1', '1.2',\n",
       "       '1.3', '1.4', '1.5', '1.6', '1.7', '1.8', '1.9', '2', '2.1', '2.2',\n",
       "       '2.3', '2.4', '2.5', '2.6', '2.7', '2.8', '2.9', '3', '3.1', '3.2',\n",
       "       '3.3', '3.4', '3.5', '3.6', '3.7', '3.8', '3.9', '4', '4.1', '4.2',\n",
       "       '4.3', '4.4', '4.5', '4.6', '4.7', '4.8', '4.9', '5', '5.1', '5.2',\n",
       "       '5.3', '5.4', '5.5', '5.6', '5.7', '5.8', '5.9', '6', '6.1', '6.2',\n",
       "       '6.3', '6.4', '6.5', '6.6', '6.7', '6.8', '6.9', '7', '7.1', '7.2',\n",
       "       '7.3', '7.4', '7.5', '7.6', '7.7', '7.8', '7.9', '8', '8.1', '8.2',\n",
       "       '8.3', '8.4', '8.5', '8.6', '8.7', '8.8', '8.9', '9', '9.1', '9.2',\n",
       "       '9.3', '9.4', '9.5', '9.6', '9.7', 'tbd', nan], dtype=object)"
      ]
     },
     "execution_count": 9,
     "metadata": {},
     "output_type": "execute_result"
    }
   ],
   "source": [
    "df['user_score'].sort_values().unique()\n",
    "# посмотрим список уникальных значений с помощью метода unique()\n",
    "# отсортируем их с помощью метода sort_values()"
   ]
  },
  {
   "cell_type": "markdown",
   "metadata": {},
   "source": [
    "Кроме чисел в столбце user_score встречается значение tbd, что означает в компьютерном мире \"будет определенно\", это тоже что и пропущенное значение. Так что заменим tbd на NaN."
   ]
  },
  {
   "cell_type": "code",
   "execution_count": 10,
   "metadata": {},
   "outputs": [],
   "source": [
    "df['user_score'] = df['user_score'].replace('tbd', np.nan, regex=True)\n",
    "#заменим значения в столбце user_score с помощью метода replace()"
   ]
  },
  {
   "cell_type": "code",
   "execution_count": 11,
   "metadata": {},
   "outputs": [
    {
     "data": {
      "text/plain": [
       "array([1980., 1981., 1982., 1983., 1984., 1985., 1986., 1987., 1988.,\n",
       "       1989., 1990., 1991., 1992., 1993., 1994., 1995., 1996., 1997.,\n",
       "       1998., 1999., 2000., 2001., 2002., 2003., 2004., 2005., 2006.,\n",
       "       2007., 2008., 2009., 2010., 2011., 2012., 2013., 2014., 2015.,\n",
       "       2016.,   nan])"
      ]
     },
     "execution_count": 11,
     "metadata": {},
     "output_type": "execute_result"
    }
   ],
   "source": [
    "df['year_of_release'].sort_values().unique()\n",
    "# посмотрим уникальные названия в столбце year_of_release\n",
    "# отсортируем значения по возрастанию с помощью метода sort_values()"
   ]
  },
  {
   "cell_type": "markdown",
   "metadata": {},
   "source": [
    "В столбце year_of_release значения с 1980 по 2016 год."
   ]
  },
  {
   "cell_type": "code",
   "execution_count": 12,
   "metadata": {},
   "outputs": [
    {
     "data": {
      "text/plain": [
       "array(['AO', 'E', 'E10+', 'EC', 'K-A', 'M', 'RP', 'T', nan], dtype=object)"
      ]
     },
     "execution_count": 12,
     "metadata": {},
     "output_type": "execute_result"
    }
   ],
   "source": [
    "df['rating'].sort_values().unique()"
   ]
  },
  {
   "cell_type": "markdown",
   "metadata": {},
   "source": [
    "В столбцах critic_score, user_score, year_of_release и rating неявных дубликатов нет.\n",
    "\n",
    "Проверим данные на явные дубликаты"
   ]
  },
  {
   "cell_type": "code",
   "execution_count": 13,
   "metadata": {},
   "outputs": [
    {
     "data": {
      "text/plain": [
       "0"
      ]
     },
     "execution_count": 13,
     "metadata": {},
     "output_type": "execute_result"
    }
   ],
   "source": [
    "df.duplicated().sum()\n",
    "# посчитаем количество явных дубликатов с помощью метода duplicated()"
   ]
  },
  {
   "cell_type": "markdown",
   "metadata": {},
   "source": [
    "Явных дубликатов нет"
   ]
  },
  {
   "cell_type": "markdown",
   "metadata": {},
   "source": [
    "**Обработаем пропуски**"
   ]
  },
  {
   "cell_type": "code",
   "execution_count": 14,
   "metadata": {},
   "outputs": [
    {
     "data": {
      "text/plain": [
       "name                  2\n",
       "platform              0\n",
       "year_of_release     269\n",
       "genre                 2\n",
       "na_sales              0\n",
       "eu_sales              0\n",
       "jp_sales              0\n",
       "other_sales           0\n",
       "critic_score       8578\n",
       "user_score         9125\n",
       "rating             6766\n",
       "dtype: int64"
      ]
     },
     "execution_count": 14,
     "metadata": {},
     "output_type": "execute_result"
    }
   ],
   "source": [
    "df.isna().sum() # посчитаем все пропуски в таблице df с помощью isna()"
   ]
  },
  {
   "cell_type": "code",
   "execution_count": 15,
   "metadata": {},
   "outputs": [
    {
     "data": {
      "text/html": [
       "<div>\n",
       "<style scoped>\n",
       "    .dataframe tbody tr th:only-of-type {\n",
       "        vertical-align: middle;\n",
       "    }\n",
       "\n",
       "    .dataframe tbody tr th {\n",
       "        vertical-align: top;\n",
       "    }\n",
       "\n",
       "    .dataframe thead th {\n",
       "        text-align: right;\n",
       "    }\n",
       "</style>\n",
       "<table border=\"1\" class=\"dataframe\">\n",
       "  <thead>\n",
       "    <tr style=\"text-align: right;\">\n",
       "      <th></th>\n",
       "      <th>name</th>\n",
       "      <th>platform</th>\n",
       "      <th>year_of_release</th>\n",
       "      <th>genre</th>\n",
       "      <th>na_sales</th>\n",
       "      <th>eu_sales</th>\n",
       "      <th>jp_sales</th>\n",
       "      <th>other_sales</th>\n",
       "      <th>critic_score</th>\n",
       "      <th>user_score</th>\n",
       "      <th>rating</th>\n",
       "    </tr>\n",
       "  </thead>\n",
       "  <tbody>\n",
       "    <tr>\n",
       "      <th>659</th>\n",
       "      <td>NaN</td>\n",
       "      <td>GEN</td>\n",
       "      <td>1993.0</td>\n",
       "      <td>NaN</td>\n",
       "      <td>1.78</td>\n",
       "      <td>0.53</td>\n",
       "      <td>0.00</td>\n",
       "      <td>0.08</td>\n",
       "      <td>NaN</td>\n",
       "      <td>NaN</td>\n",
       "      <td>NaN</td>\n",
       "    </tr>\n",
       "    <tr>\n",
       "      <th>14244</th>\n",
       "      <td>NaN</td>\n",
       "      <td>GEN</td>\n",
       "      <td>1993.0</td>\n",
       "      <td>NaN</td>\n",
       "      <td>0.00</td>\n",
       "      <td>0.00</td>\n",
       "      <td>0.03</td>\n",
       "      <td>0.00</td>\n",
       "      <td>NaN</td>\n",
       "      <td>NaN</td>\n",
       "      <td>NaN</td>\n",
       "    </tr>\n",
       "  </tbody>\n",
       "</table>\n",
       "</div>"
      ],
      "text/plain": [
       "      name platform  year_of_release genre  na_sales  eu_sales  jp_sales  \\\n",
       "659    NaN      GEN           1993.0   NaN      1.78      0.53      0.00   \n",
       "14244  NaN      GEN           1993.0   NaN      0.00      0.00      0.03   \n",
       "\n",
       "       other_sales  critic_score user_score rating  \n",
       "659           0.08           NaN        NaN    NaN  \n",
       "14244         0.00           NaN        NaN    NaN  "
      ]
     },
     "execution_count": 15,
     "metadata": {},
     "output_type": "execute_result"
    }
   ],
   "source": [
    "df[df['name'].isna()].head()\n",
    "# выведем строки с пропусками в столбце name"
   ]
  },
  {
   "cell_type": "markdown",
   "metadata": {},
   "source": [
    "Если строку с индексом 14244 можно удалить без огладки, то по строке с индексом 659 есть вопросы, так как было продано более 2 млн. копий этой игры. Но так как по ней очень мало информации - только год выпуска и количество проданных копий - для нашего исследования этой информации недостаточно. Удалим эти две строки. Вместе с ним удалится и два пропуска в столбце жанр."
   ]
  },
  {
   "cell_type": "code",
   "execution_count": 16,
   "metadata": {},
   "outputs": [],
   "source": [
    "df = df.dropna(subset = ['name'])\n",
    "#для удаления строк где есть пропущенные значения в столбце, указанном в параметре subset использую метода dropna()"
   ]
  },
  {
   "cell_type": "code",
   "execution_count": 17,
   "metadata": {},
   "outputs": [
    {
     "data": {
      "text/plain": [
       "name               0.000000\n",
       "platform           0.000000\n",
       "year_of_release    0.016095\n",
       "genre              0.000000\n",
       "na_sales           0.000000\n",
       "eu_sales           0.000000\n",
       "jp_sales           0.000000\n",
       "other_sales        0.000000\n",
       "critic_score       0.513133\n",
       "user_score         0.545863\n",
       "rating             0.404715\n",
       "dtype: float64"
      ]
     },
     "execution_count": 17,
     "metadata": {},
     "output_type": "execute_result"
    }
   ],
   "source": [
    "df.isna().mean()\n",
    "#посмотрим долю пропущенных значений среди всех данных"
   ]
  },
  {
   "cell_type": "markdown",
   "metadata": {},
   "source": [
    "Так как доля пропущенных значений в столбце year_of_release менее 2% удалим их."
   ]
  },
  {
   "cell_type": "code",
   "execution_count": 18,
   "metadata": {},
   "outputs": [],
   "source": [
    "df = df.dropna(subset = ['year_of_release'])\n",
    "#для удаления строк где есть пропущенные значения в столбце, указанном в параметре subset использую метода dropna()\n"
   ]
  },
  {
   "cell_type": "markdown",
   "metadata": {},
   "source": [
    "Есть у меня предположение, что отсутсвие значений в столбцах critic_score,rating и user_score связано с тем, что эти данные начали собирать относительно недавно. Создадим сводную таблицу что бы проверить это предположение."
   ]
  },
  {
   "cell_type": "code",
   "execution_count": 19,
   "metadata": {},
   "outputs": [
    {
     "data": {
      "text/html": [
       "<div>\n",
       "<style scoped>\n",
       "    .dataframe tbody tr th:only-of-type {\n",
       "        vertical-align: middle;\n",
       "    }\n",
       "\n",
       "    .dataframe tbody tr th {\n",
       "        vertical-align: top;\n",
       "    }\n",
       "\n",
       "    .dataframe thead th {\n",
       "        text-align: right;\n",
       "    }\n",
       "</style>\n",
       "<table border=\"1\" class=\"dataframe\">\n",
       "  <thead>\n",
       "    <tr style=\"text-align: right;\">\n",
       "      <th></th>\n",
       "      <th>critic_score</th>\n",
       "      <th>rating</th>\n",
       "      <th>user_score</th>\n",
       "    </tr>\n",
       "    <tr>\n",
       "      <th>year_of_release</th>\n",
       "      <th></th>\n",
       "      <th></th>\n",
       "      <th></th>\n",
       "    </tr>\n",
       "  </thead>\n",
       "  <tbody>\n",
       "    <tr>\n",
       "      <th>1980.0</th>\n",
       "      <td>0</td>\n",
       "      <td>0</td>\n",
       "      <td>0</td>\n",
       "    </tr>\n",
       "    <tr>\n",
       "      <th>1981.0</th>\n",
       "      <td>0</td>\n",
       "      <td>0</td>\n",
       "      <td>0</td>\n",
       "    </tr>\n",
       "    <tr>\n",
       "      <th>1982.0</th>\n",
       "      <td>0</td>\n",
       "      <td>0</td>\n",
       "      <td>0</td>\n",
       "    </tr>\n",
       "    <tr>\n",
       "      <th>1983.0</th>\n",
       "      <td>0</td>\n",
       "      <td>0</td>\n",
       "      <td>0</td>\n",
       "    </tr>\n",
       "    <tr>\n",
       "      <th>1984.0</th>\n",
       "      <td>0</td>\n",
       "      <td>0</td>\n",
       "      <td>0</td>\n",
       "    </tr>\n",
       "    <tr>\n",
       "      <th>1985.0</th>\n",
       "      <td>1</td>\n",
       "      <td>1</td>\n",
       "      <td>1</td>\n",
       "    </tr>\n",
       "    <tr>\n",
       "      <th>1986.0</th>\n",
       "      <td>0</td>\n",
       "      <td>0</td>\n",
       "      <td>0</td>\n",
       "    </tr>\n",
       "    <tr>\n",
       "      <th>1987.0</th>\n",
       "      <td>0</td>\n",
       "      <td>0</td>\n",
       "      <td>0</td>\n",
       "    </tr>\n",
       "    <tr>\n",
       "      <th>1988.0</th>\n",
       "      <td>1</td>\n",
       "      <td>1</td>\n",
       "      <td>1</td>\n",
       "    </tr>\n",
       "    <tr>\n",
       "      <th>1989.0</th>\n",
       "      <td>0</td>\n",
       "      <td>0</td>\n",
       "      <td>0</td>\n",
       "    </tr>\n",
       "    <tr>\n",
       "      <th>1990.0</th>\n",
       "      <td>0</td>\n",
       "      <td>0</td>\n",
       "      <td>0</td>\n",
       "    </tr>\n",
       "    <tr>\n",
       "      <th>1991.0</th>\n",
       "      <td>0</td>\n",
       "      <td>0</td>\n",
       "      <td>0</td>\n",
       "    </tr>\n",
       "    <tr>\n",
       "      <th>1992.0</th>\n",
       "      <td>1</td>\n",
       "      <td>2</td>\n",
       "      <td>1</td>\n",
       "    </tr>\n",
       "    <tr>\n",
       "      <th>1993.0</th>\n",
       "      <td>0</td>\n",
       "      <td>0</td>\n",
       "      <td>0</td>\n",
       "    </tr>\n",
       "    <tr>\n",
       "      <th>1994.0</th>\n",
       "      <td>1</td>\n",
       "      <td>1</td>\n",
       "      <td>1</td>\n",
       "    </tr>\n",
       "    <tr>\n",
       "      <th>1995.0</th>\n",
       "      <td>0</td>\n",
       "      <td>0</td>\n",
       "      <td>0</td>\n",
       "    </tr>\n",
       "    <tr>\n",
       "      <th>1996.0</th>\n",
       "      <td>8</td>\n",
       "      <td>7</td>\n",
       "      <td>8</td>\n",
       "    </tr>\n",
       "    <tr>\n",
       "      <th>1997.0</th>\n",
       "      <td>17</td>\n",
       "      <td>19</td>\n",
       "      <td>18</td>\n",
       "    </tr>\n",
       "    <tr>\n",
       "      <th>1998.0</th>\n",
       "      <td>28</td>\n",
       "      <td>32</td>\n",
       "      <td>31</td>\n",
       "    </tr>\n",
       "    <tr>\n",
       "      <th>1999.0</th>\n",
       "      <td>39</td>\n",
       "      <td>42</td>\n",
       "      <td>31</td>\n",
       "    </tr>\n",
       "    <tr>\n",
       "      <th>2000.0</th>\n",
       "      <td>143</td>\n",
       "      <td>148</td>\n",
       "      <td>107</td>\n",
       "    </tr>\n",
       "    <tr>\n",
       "      <th>2001.0</th>\n",
       "      <td>326</td>\n",
       "      <td>339</td>\n",
       "      <td>257</td>\n",
       "    </tr>\n",
       "    <tr>\n",
       "      <th>2002.0</th>\n",
       "      <td>627</td>\n",
       "      <td>655</td>\n",
       "      <td>464</td>\n",
       "    </tr>\n",
       "    <tr>\n",
       "      <th>2003.0</th>\n",
       "      <td>585</td>\n",
       "      <td>613</td>\n",
       "      <td>516</td>\n",
       "    </tr>\n",
       "    <tr>\n",
       "      <th>2004.0</th>\n",
       "      <td>561</td>\n",
       "      <td>598</td>\n",
       "      <td>489</td>\n",
       "    </tr>\n",
       "    <tr>\n",
       "      <th>2005.0</th>\n",
       "      <td>655</td>\n",
       "      <td>706</td>\n",
       "      <td>583</td>\n",
       "    </tr>\n",
       "    <tr>\n",
       "      <th>2006.0</th>\n",
       "      <td>620</td>\n",
       "      <td>678</td>\n",
       "      <td>552</td>\n",
       "    </tr>\n",
       "    <tr>\n",
       "      <th>2007.0</th>\n",
       "      <td>692</td>\n",
       "      <td>821</td>\n",
       "      <td>629</td>\n",
       "    </tr>\n",
       "    <tr>\n",
       "      <th>2008.0</th>\n",
       "      <td>715</td>\n",
       "      <td>981</td>\n",
       "      <td>661</td>\n",
       "    </tr>\n",
       "    <tr>\n",
       "      <th>2009.0</th>\n",
       "      <td>651</td>\n",
       "      <td>1011</td>\n",
       "      <td>614</td>\n",
       "    </tr>\n",
       "    <tr>\n",
       "      <th>2010.0</th>\n",
       "      <td>500</td>\n",
       "      <td>799</td>\n",
       "      <td>467</td>\n",
       "    </tr>\n",
       "    <tr>\n",
       "      <th>2011.0</th>\n",
       "      <td>500</td>\n",
       "      <td>703</td>\n",
       "      <td>501</td>\n",
       "    </tr>\n",
       "    <tr>\n",
       "      <th>2012.0</th>\n",
       "      <td>321</td>\n",
       "      <td>355</td>\n",
       "      <td>339</td>\n",
       "    </tr>\n",
       "    <tr>\n",
       "      <th>2013.0</th>\n",
       "      <td>273</td>\n",
       "      <td>316</td>\n",
       "      <td>304</td>\n",
       "    </tr>\n",
       "    <tr>\n",
       "      <th>2014.0</th>\n",
       "      <td>261</td>\n",
       "      <td>345</td>\n",
       "      <td>329</td>\n",
       "    </tr>\n",
       "    <tr>\n",
       "      <th>2015.0</th>\n",
       "      <td>225</td>\n",
       "      <td>315</td>\n",
       "      <td>297</td>\n",
       "    </tr>\n",
       "    <tr>\n",
       "      <th>2016.0</th>\n",
       "      <td>232</td>\n",
       "      <td>280</td>\n",
       "      <td>262</td>\n",
       "    </tr>\n",
       "  </tbody>\n",
       "</table>\n",
       "</div>"
      ],
      "text/plain": [
       "                 critic_score  rating  user_score\n",
       "year_of_release                                  \n",
       "1980.0                      0       0           0\n",
       "1981.0                      0       0           0\n",
       "1982.0                      0       0           0\n",
       "1983.0                      0       0           0\n",
       "1984.0                      0       0           0\n",
       "1985.0                      1       1           1\n",
       "1986.0                      0       0           0\n",
       "1987.0                      0       0           0\n",
       "1988.0                      1       1           1\n",
       "1989.0                      0       0           0\n",
       "1990.0                      0       0           0\n",
       "1991.0                      0       0           0\n",
       "1992.0                      1       2           1\n",
       "1993.0                      0       0           0\n",
       "1994.0                      1       1           1\n",
       "1995.0                      0       0           0\n",
       "1996.0                      8       7           8\n",
       "1997.0                     17      19          18\n",
       "1998.0                     28      32          31\n",
       "1999.0                     39      42          31\n",
       "2000.0                    143     148         107\n",
       "2001.0                    326     339         257\n",
       "2002.0                    627     655         464\n",
       "2003.0                    585     613         516\n",
       "2004.0                    561     598         489\n",
       "2005.0                    655     706         583\n",
       "2006.0                    620     678         552\n",
       "2007.0                    692     821         629\n",
       "2008.0                    715     981         661\n",
       "2009.0                    651    1011         614\n",
       "2010.0                    500     799         467\n",
       "2011.0                    500     703         501\n",
       "2012.0                    321     355         339\n",
       "2013.0                    273     316         304\n",
       "2014.0                    261     345         329\n",
       "2015.0                    225     315         297\n",
       "2016.0                    232     280         262"
      ]
     },
     "execution_count": 19,
     "metadata": {},
     "output_type": "execute_result"
    }
   ],
   "source": [
    "# построим сводную таблицу для подтверждения предположения\n",
    "df_pivot = df.pivot_table(index='year_of_release', values=['critic_score','user_score','rating'], aggfunc='count')\n",
    "df_pivot"
   ]
  },
  {
   "cell_type": "markdown",
   "metadata": {},
   "source": [
    "До 1996 года эти данные единичны, поэтому можно сказать, что мое предположение логично. Оставлю эти данные незаполненными, потому что они пропущены в половине значений, а что бы заполнить их - недостаточно информации."
   ]
  },
  {
   "cell_type": "code",
   "execution_count": 20,
   "metadata": {},
   "outputs": [
    {
     "name": "stdout",
     "output_type": "stream",
     "text": [
      "<class 'pandas.core.frame.DataFrame'>\n",
      "Int64Index: 16444 entries, 0 to 16714\n",
      "Data columns (total 11 columns):\n",
      " #   Column           Non-Null Count  Dtype  \n",
      "---  ------           --------------  -----  \n",
      " 0   name             16444 non-null  object \n",
      " 1   platform         16444 non-null  object \n",
      " 2   year_of_release  16444 non-null  float64\n",
      " 3   genre            16444 non-null  object \n",
      " 4   na_sales         16444 non-null  float64\n",
      " 5   eu_sales         16444 non-null  float64\n",
      " 6   jp_sales         16444 non-null  float64\n",
      " 7   other_sales      16444 non-null  float64\n",
      " 8   critic_score     7983 non-null   float64\n",
      " 9   user_score       7463 non-null   object \n",
      " 10  rating           16444 non-null  object \n",
      "dtypes: float64(6), object(5)\n",
      "memory usage: 1.5+ MB\n"
     ]
    }
   ],
   "source": [
    "df['rating']=df['rating'].fillna(-1)\n",
    "df.info()\n",
    "# выведем на экран общую информацию по датафрейму"
   ]
  },
  {
   "cell_type": "markdown",
   "metadata": {},
   "source": [
    "**Преобразуем данные в нужный тип**"
   ]
  },
  {
   "cell_type": "markdown",
   "metadata": {},
   "source": [
    "Переведем значения колонки year_of_release(год выпуска) в тип значение int  так как это значение может быть только целым числом. Так же переведем значения в столбце user_score в формат float, так как там числа"
   ]
  },
  {
   "cell_type": "code",
   "execution_count": 21,
   "metadata": {},
   "outputs": [
    {
     "name": "stdout",
     "output_type": "stream",
     "text": [
      "<class 'pandas.core.frame.DataFrame'>\n",
      "Int64Index: 16444 entries, 0 to 16714\n",
      "Data columns (total 11 columns):\n",
      " #   Column           Non-Null Count  Dtype  \n",
      "---  ------           --------------  -----  \n",
      " 0   name             16444 non-null  object \n",
      " 1   platform         16444 non-null  object \n",
      " 2   year_of_release  16444 non-null  int64  \n",
      " 3   genre            16444 non-null  object \n",
      " 4   na_sales         16444 non-null  float64\n",
      " 5   eu_sales         16444 non-null  float64\n",
      " 6   jp_sales         16444 non-null  float64\n",
      " 7   other_sales      16444 non-null  float64\n",
      " 8   critic_score     7983 non-null   float64\n",
      " 9   user_score       7463 non-null   float64\n",
      " 10  rating           16444 non-null  object \n",
      "dtypes: float64(6), int64(1), object(4)\n",
      "memory usage: 1.5+ MB\n"
     ]
    }
   ],
   "source": [
    "df['year_of_release'] = df['year_of_release'].astype('int')\n",
    "# переведем значения колонок в тип int методом astype()\n",
    "df['user_score'] = pd.to_numeric(df['user_score'])\n",
    "# переведем значения столбца user_score из типа object в тип float64 с помощью \n",
    "df.info()\n",
    "# проверим все ли типы данных изменились"
   ]
  },
  {
   "cell_type": "markdown",
   "metadata": {},
   "source": [
    "Посчитаем суммарные продажи во всех регионах и запишем их в отдельный столбец"
   ]
  },
  {
   "cell_type": "code",
   "execution_count": 22,
   "metadata": {},
   "outputs": [
    {
     "data": {
      "text/html": [
       "<div>\n",
       "<style scoped>\n",
       "    .dataframe tbody tr th:only-of-type {\n",
       "        vertical-align: middle;\n",
       "    }\n",
       "\n",
       "    .dataframe tbody tr th {\n",
       "        vertical-align: top;\n",
       "    }\n",
       "\n",
       "    .dataframe thead th {\n",
       "        text-align: right;\n",
       "    }\n",
       "</style>\n",
       "<table border=\"1\" class=\"dataframe\">\n",
       "  <thead>\n",
       "    <tr style=\"text-align: right;\">\n",
       "      <th></th>\n",
       "      <th>name</th>\n",
       "      <th>platform</th>\n",
       "      <th>year_of_release</th>\n",
       "      <th>genre</th>\n",
       "      <th>na_sales</th>\n",
       "      <th>eu_sales</th>\n",
       "      <th>jp_sales</th>\n",
       "      <th>other_sales</th>\n",
       "      <th>critic_score</th>\n",
       "      <th>user_score</th>\n",
       "      <th>rating</th>\n",
       "      <th>total_sales</th>\n",
       "    </tr>\n",
       "  </thead>\n",
       "  <tbody>\n",
       "    <tr>\n",
       "      <th>0</th>\n",
       "      <td>Wii Sports</td>\n",
       "      <td>Wii</td>\n",
       "      <td>2006</td>\n",
       "      <td>Sports</td>\n",
       "      <td>41.36</td>\n",
       "      <td>28.96</td>\n",
       "      <td>3.77</td>\n",
       "      <td>8.45</td>\n",
       "      <td>76.0</td>\n",
       "      <td>8.0</td>\n",
       "      <td>E</td>\n",
       "      <td>82.54</td>\n",
       "    </tr>\n",
       "    <tr>\n",
       "      <th>1</th>\n",
       "      <td>Super Mario Bros.</td>\n",
       "      <td>NES</td>\n",
       "      <td>1985</td>\n",
       "      <td>Platform</td>\n",
       "      <td>29.08</td>\n",
       "      <td>3.58</td>\n",
       "      <td>6.81</td>\n",
       "      <td>0.77</td>\n",
       "      <td>NaN</td>\n",
       "      <td>NaN</td>\n",
       "      <td>-1</td>\n",
       "      <td>40.24</td>\n",
       "    </tr>\n",
       "    <tr>\n",
       "      <th>2</th>\n",
       "      <td>Mario Kart Wii</td>\n",
       "      <td>Wii</td>\n",
       "      <td>2008</td>\n",
       "      <td>Racing</td>\n",
       "      <td>15.68</td>\n",
       "      <td>12.76</td>\n",
       "      <td>3.79</td>\n",
       "      <td>3.29</td>\n",
       "      <td>82.0</td>\n",
       "      <td>8.3</td>\n",
       "      <td>E</td>\n",
       "      <td>35.52</td>\n",
       "    </tr>\n",
       "    <tr>\n",
       "      <th>3</th>\n",
       "      <td>Wii Sports Resort</td>\n",
       "      <td>Wii</td>\n",
       "      <td>2009</td>\n",
       "      <td>Sports</td>\n",
       "      <td>15.61</td>\n",
       "      <td>10.93</td>\n",
       "      <td>3.28</td>\n",
       "      <td>2.95</td>\n",
       "      <td>80.0</td>\n",
       "      <td>8.0</td>\n",
       "      <td>E</td>\n",
       "      <td>32.77</td>\n",
       "    </tr>\n",
       "    <tr>\n",
       "      <th>4</th>\n",
       "      <td>Pokemon Red/Pokemon Blue</td>\n",
       "      <td>GB</td>\n",
       "      <td>1996</td>\n",
       "      <td>Role-Playing</td>\n",
       "      <td>11.27</td>\n",
       "      <td>8.89</td>\n",
       "      <td>10.22</td>\n",
       "      <td>1.00</td>\n",
       "      <td>NaN</td>\n",
       "      <td>NaN</td>\n",
       "      <td>-1</td>\n",
       "      <td>31.38</td>\n",
       "    </tr>\n",
       "  </tbody>\n",
       "</table>\n",
       "</div>"
      ],
      "text/plain": [
       "                       name platform  year_of_release         genre  na_sales  \\\n",
       "0                Wii Sports      Wii             2006        Sports     41.36   \n",
       "1         Super Mario Bros.      NES             1985      Platform     29.08   \n",
       "2            Mario Kart Wii      Wii             2008        Racing     15.68   \n",
       "3         Wii Sports Resort      Wii             2009        Sports     15.61   \n",
       "4  Pokemon Red/Pokemon Blue       GB             1996  Role-Playing     11.27   \n",
       "\n",
       "   eu_sales  jp_sales  other_sales  critic_score  user_score rating  \\\n",
       "0     28.96      3.77         8.45          76.0         8.0      E   \n",
       "1      3.58      6.81         0.77           NaN         NaN     -1   \n",
       "2     12.76      3.79         3.29          82.0         8.3      E   \n",
       "3     10.93      3.28         2.95          80.0         8.0      E   \n",
       "4      8.89     10.22         1.00           NaN         NaN     -1   \n",
       "\n",
       "   total_sales  \n",
       "0        82.54  \n",
       "1        40.24  \n",
       "2        35.52  \n",
       "3        32.77  \n",
       "4        31.38  "
      ]
     },
     "execution_count": 22,
     "metadata": {},
     "output_type": "execute_result"
    }
   ],
   "source": [
    "df['total_sales'] = df['na_sales'] + df['eu_sales'] + df['jp_sales'] + df['other_sales']\n",
    "df.head()\n",
    "# выведем на экран первые 5 строк"
   ]
  },
  {
   "cell_type": "markdown",
   "metadata": {},
   "source": [
    "Итак, заменила названия столбцов – привела их к нижнему регистру Проверила данные на явные и неявные дубликаты, они не обнаружены. В столбце user_score значение tbd, заменила на NaN. В столбце year_of_release значения с 1980 по 2016 год. Удалила 2 строки с пропущенными значениями в столбце name Также удалила пропущенные значения в столбце year_of_release, так как их менее 2% . Подтвердилось мое предположение, что отсутствие значений в столбцах critic_score,rating и user_score связано с тем, что эти данные начали собирать относительно недавно( с 1996 года). Поэтому оставила эти данные незаполненными, потому что они пропущены в половине значений, а что бы заполнить их - недостаточно информации. Перевела значения колонки year_of_release(год выпуска) в тип значение int так как это значение может быть только целым числом, а значения в столбце user_score в формат float, так как там числа. Посчитала суммарные продажи для всех регионов и записала эти данные в отдельный столбец total_sales."
   ]
  },
  {
   "cell_type": "markdown",
   "metadata": {},
   "source": [
    "## Исследовательский анализ данных"
   ]
  },
  {
   "cell_type": "markdown",
   "metadata": {},
   "source": [
    "**Посмотрим сколько игр выпускалось в разные годы**"
   ]
  },
  {
   "cell_type": "code",
   "execution_count": 23,
   "metadata": {},
   "outputs": [
    {
     "data": {
      "text/plain": [
       "<AxesSubplot:xlabel='year_of_release'>"
      ]
     },
     "execution_count": 23,
     "metadata": {},
     "output_type": "execute_result"
    },
    {
     "data": {
      "image/png": "[encoded data removed]",
      "text/plain": [
       "<Figure size 432x288 with 1 Axes>"
      ]
     },
     "metadata": {
      "needs_background": "light"
     },
     "output_type": "display_data"
    }
   ],
   "source": [
    "df.pivot_table(index='year_of_release', values='name', aggfunc='count').plot()\n",
    "# создадим сводную таблицу по количеству игр в разные годы с помощью метода pivot_table()\n",
    "# построим график по этим данным используя метод plot()"
   ]
  },
  {
   "cell_type": "markdown",
   "metadata": {},
   "source": [
    "По этому графику можно сделать вывод, что начиная с середины девяностых  идет ежегодный рост выпускаемых игр, и пик приходится на  2008 год, а после 2010 года идет резкое снижение количества игр, выпускаемых каждый год. Так что можно сказать, что важны данные начиная с 1996 года."
   ]
  },
  {
   "cell_type": "markdown",
   "metadata": {},
   "source": [
    "**Посмотрим как менялись продажи по платформам**"
   ]
  },
  {
   "cell_type": "code",
   "execution_count": 24,
   "metadata": {},
   "outputs": [
    {
     "data": {
      "text/plain": [
       "<AxesSubplot:xlabel='platform'>"
      ]
     },
     "execution_count": 24,
     "metadata": {},
     "output_type": "execute_result"
    },
    {
     "data": {
      "image/png": "[encoded data removed]",
      "text/plain": [
       "<Figure size 1440x360 with 1 Axes>"
      ]
     },
     "metadata": {
      "needs_background": "light"
     },
     "output_type": "display_data"
    }
   ],
   "source": [
    "df.pivot_table(index='platform', values='total_sales', aggfunc='sum').sort_values(\n",
    "    by='total_sales', ascending=False).plot(kind = 'bar',figsize = (20,5))\n",
    "# создадим сводную таблицу с помощью метода pivot_table\n",
    "# построим график по этим данным используя метод plot()"
   ]
  },
  {
   "cell_type": "markdown",
   "metadata": {},
   "source": [
    "По графику видно что у 6 платформ самые большие продажи - это PS2, X360, PS3, Wii, DS, PS. Построим для них распределения по годам."
   ]
  },
  {
   "cell_type": "code",
   "execution_count": 25,
   "metadata": {},
   "outputs": [
    {
     "data": {
      "text/plain": [
       "<AxesSubplot:xlabel='year_of_release'>"
      ]
     },
     "execution_count": 25,
     "metadata": {},
     "output_type": "execute_result"
    },
    {
     "data": {
      "image/png": "[encoded data removed]",
      "text/plain": [
       "<Figure size 936x288 with 1 Axes>"
      ]
     },
     "metadata": {
      "needs_background": "light"
     },
     "output_type": "display_data"
    }
   ],
   "source": [
    "df[df['platform'] == 'PS2'].pivot_table(index='year_of_release', values='total_sales', aggfunc='sum').plot(\n",
    "        kind='bar', figsize=(13,4))\n",
    "# создадим сводную таблицу с помощью метода pivot_table\n",
    "# построим график по этим данным используя метод plot()"
   ]
  },
  {
   "cell_type": "markdown",
   "metadata": {},
   "source": [
    "Для платформы PS2 пик продаж пришелся на 2004 год, появилась она в 2000, а исчезла в 2011.(11 лет)"
   ]
  },
  {
   "cell_type": "code",
   "execution_count": 26,
   "metadata": {},
   "outputs": [
    {
     "data": {
      "text/plain": [
       "<AxesSubplot:xlabel='year_of_release'>"
      ]
     },
     "execution_count": 26,
     "metadata": {},
     "output_type": "execute_result"
    },
    {
     "data": {
      "image/png": "[encoded data removed]",
      "text/plain": [
       "<Figure size 936x288 with 1 Axes>"
      ]
     },
     "metadata": {
      "needs_background": "light"
     },
     "output_type": "display_data"
    }
   ],
   "source": [
    "df[df['platform'] == 'X360'].pivot_table(index='year_of_release', values='total_sales', aggfunc='sum').plot(\n",
    "        kind='bar', figsize=(13,4))\n",
    "# создадим сводную таблицу с помощью метода pivot_table\n",
    "# построим график по этим данным используя метод plot()"
   ]
  },
  {
   "cell_type": "markdown",
   "metadata": {},
   "source": [
    "Для платформы X360 пик продаж пришелся на 2010 год, появилась она в 2005, а к 2016 году продажи минимальны.(11 лет)"
   ]
  },
  {
   "cell_type": "code",
   "execution_count": 27,
   "metadata": {},
   "outputs": [
    {
     "data": {
      "text/plain": [
       "<AxesSubplot:xlabel='year_of_release'>"
      ]
     },
     "execution_count": 27,
     "metadata": {},
     "output_type": "execute_result"
    },
    {
     "data": {
      "image/png": "[encoded data removed]",
      "text/plain": [
       "<Figure size 936x288 with 1 Axes>"
      ]
     },
     "metadata": {
      "needs_background": "light"
     },
     "output_type": "display_data"
    }
   ],
   "source": [
    "df[df['platform'] == 'PS3'].pivot_table(index='year_of_release', values='total_sales', aggfunc='sum').plot(\n",
    "        kind='bar', figsize=(13,4))\n",
    "# создадим сводную таблицу с помощью метода pivot_table\n",
    "# построим график по этим данным используя метод plot()"
   ]
  },
  {
   "cell_type": "markdown",
   "metadata": {},
   "source": [
    "Для платформы PS3 пик продаж пришелся на 2011 год, появилась она в 2006, а к 2016 году продажи тоже упали практически до нуля(10 лет)."
   ]
  },
  {
   "cell_type": "code",
   "execution_count": 28,
   "metadata": {},
   "outputs": [
    {
     "data": {
      "text/plain": [
       "<AxesSubplot:xlabel='year_of_release'>"
      ]
     },
     "execution_count": 28,
     "metadata": {},
     "output_type": "execute_result"
    },
    {
     "data": {
      "image/png": "[encoded data removed]",
      "text/plain": [
       "<Figure size 936x288 with 1 Axes>"
      ]
     },
     "metadata": {
      "needs_background": "light"
     },
     "output_type": "display_data"
    }
   ],
   "source": [
    "df[df['platform'] == 'Wii'].pivot_table(index='year_of_release', values='total_sales', aggfunc='sum').plot(\n",
    "        kind='bar', figsize=(13,4))\n",
    "# создадим сводную таблицу с помощью метода pivot_table\n",
    "# построим график по этим данным используя метод plot()"
   ]
  },
  {
   "cell_type": "markdown",
   "metadata": {},
   "source": [
    "Для платформы Wii пик продаж пришелся на 2009 год, появилась она в 2006, а в 2016 году продажи практически на нуле(10лет)"
   ]
  },
  {
   "cell_type": "code",
   "execution_count": 29,
   "metadata": {},
   "outputs": [
    {
     "data": {
      "text/plain": [
       "<AxesSubplot:xlabel='year_of_release'>"
      ]
     },
     "execution_count": 29,
     "metadata": {},
     "output_type": "execute_result"
    },
    {
     "data": {
      "image/png": "[encoded data removed]",
      "text/plain": [
       "<Figure size 936x288 with 1 Axes>"
      ]
     },
     "metadata": {
      "needs_background": "light"
     },
     "output_type": "display_data"
    }
   ],
   "source": [
    "df[df['platform'] == 'DS'].pivot_table(index='year_of_release', values='total_sales', aggfunc='sum').plot(\n",
    "        kind='bar', figsize=(13,4))\n",
    "# создадим сводную таблицу с помощью метода pivot_table\n",
    "# построим график по этим данным используя метод plot()"
   ]
  },
  {
   "cell_type": "markdown",
   "metadata": {},
   "source": [
    "Впервые платформа DS появилась в 1985 году, следующее упоминание о ней появилась лишь в 2004, и исчезла в 2013.(9 лет) Пик продаж пришелся на 2007-2008 год."
   ]
  },
  {
   "cell_type": "code",
   "execution_count": 30,
   "metadata": {},
   "outputs": [
    {
     "data": {
      "text/plain": [
       "<AxesSubplot:xlabel='year_of_release'>"
      ]
     },
     "execution_count": 30,
     "metadata": {},
     "output_type": "execute_result"
    },
    {
     "data": {
      "image/png": "[encoded data removed]",
      "text/plain": [
       "<Figure size 936x288 with 1 Axes>"
      ]
     },
     "metadata": {
      "needs_background": "light"
     },
     "output_type": "display_data"
    }
   ],
   "source": [
    "df[df['platform'] == 'PS'].pivot_table(index='year_of_release', values='total_sales', aggfunc='sum').plot(\n",
    "        kind='bar', figsize=(13,4))\n",
    "# создадим сводную таблицу с помощью метода pivot_table\n",
    "# построим график по этим данным используя метод plot()"
   ]
  },
  {
   "cell_type": "markdown",
   "metadata": {},
   "source": [
    "Для платформы PS2 пик продаж пришелся на 1998 год, появилась она в 1994, а исчезла в 2003.(10лет)"
   ]
  },
  {
   "cell_type": "markdown",
   "metadata": {},
   "source": [
    "Можно сказать, что длительность жизни самых популярных платформы составляет 9-11 лет. Некоторые ранее популярные платформы канули в лету, посмотрим какие же еще остаются на плаву в 2016 году.\n",
    "\n"
   ]
  },
  {
   "cell_type": "code",
   "execution_count": 31,
   "metadata": {},
   "outputs": [
    {
     "data": {
      "text/plain": [
       "<AxesSubplot:xlabel='platform'>"
      ]
     },
     "execution_count": 31,
     "metadata": {},
     "output_type": "execute_result"
    },
    {
     "data": {
      "image/png": "[encoded data removed]",
      "text/plain": [
       "<Figure size 432x288 with 1 Axes>"
      ]
     },
     "metadata": {
      "needs_background": "light"
     },
     "output_type": "display_data"
    }
   ],
   "source": [
    "df[df['year_of_release'] == 2016].pivot_table(index='platform', values='total_sales', aggfunc='sum').plot(kind='bar')\n",
    "# создадим сводную таблицу с помощью метода pivot_table\n",
    "# построим график по этим данным используя метод plot()"
   ]
  },
  {
   "cell_type": "markdown",
   "metadata": {},
   "source": [
    "Из этого графика видно, что в 2016 году осталось лишь 9 платформ, причем у многих продажи стремятся к нулю, только PS4 до сих пор держится."
   ]
  },
  {
   "cell_type": "markdown",
   "metadata": {},
   "source": [
    "По первому графику видно, что после 2009 года идет ежегодный спад количества выпускаемых игр, и лишь 9(3DS,PC,PS3,PS4,PSV,Wii,WiiU,X360,XOne) платформ еще существует в 2016 году. За этот период и возьмем данные."
   ]
  },
  {
   "cell_type": "code",
   "execution_count": 32,
   "metadata": {
    "scrolled": true
   },
   "outputs": [
    {
     "data": {
      "text/html": [
       "<div>\n",
       "<style scoped>\n",
       "    .dataframe tbody tr th:only-of-type {\n",
       "        vertical-align: middle;\n",
       "    }\n",
       "\n",
       "    .dataframe tbody tr th {\n",
       "        vertical-align: top;\n",
       "    }\n",
       "\n",
       "    .dataframe thead th {\n",
       "        text-align: right;\n",
       "    }\n",
       "</style>\n",
       "<table border=\"1\" class=\"dataframe\">\n",
       "  <thead>\n",
       "    <tr style=\"text-align: right;\">\n",
       "      <th></th>\n",
       "      <th>name</th>\n",
       "      <th>platform</th>\n",
       "      <th>year_of_release</th>\n",
       "      <th>genre</th>\n",
       "      <th>na_sales</th>\n",
       "      <th>eu_sales</th>\n",
       "      <th>jp_sales</th>\n",
       "      <th>other_sales</th>\n",
       "      <th>critic_score</th>\n",
       "      <th>user_score</th>\n",
       "      <th>rating</th>\n",
       "      <th>total_sales</th>\n",
       "    </tr>\n",
       "  </thead>\n",
       "  <tbody>\n",
       "    <tr>\n",
       "      <th>0</th>\n",
       "      <td>Call of Duty: Black Ops 3</td>\n",
       "      <td>PS4</td>\n",
       "      <td>2015</td>\n",
       "      <td>Shooter</td>\n",
       "      <td>6.03</td>\n",
       "      <td>5.86</td>\n",
       "      <td>0.36</td>\n",
       "      <td>2.38</td>\n",
       "      <td>NaN</td>\n",
       "      <td>NaN</td>\n",
       "      <td>-1</td>\n",
       "      <td>14.63</td>\n",
       "    </tr>\n",
       "    <tr>\n",
       "      <th>1</th>\n",
       "      <td>Grand Theft Auto V</td>\n",
       "      <td>PS4</td>\n",
       "      <td>2014</td>\n",
       "      <td>Action</td>\n",
       "      <td>3.96</td>\n",
       "      <td>6.31</td>\n",
       "      <td>0.38</td>\n",
       "      <td>1.97</td>\n",
       "      <td>97.0</td>\n",
       "      <td>8.3</td>\n",
       "      <td>M</td>\n",
       "      <td>12.62</td>\n",
       "    </tr>\n",
       "    <tr>\n",
       "      <th>2</th>\n",
       "      <td>Pokemon Omega Ruby/Pokemon Alpha Sapphire</td>\n",
       "      <td>3DS</td>\n",
       "      <td>2014</td>\n",
       "      <td>Role-Playing</td>\n",
       "      <td>4.35</td>\n",
       "      <td>3.49</td>\n",
       "      <td>3.10</td>\n",
       "      <td>0.74</td>\n",
       "      <td>NaN</td>\n",
       "      <td>NaN</td>\n",
       "      <td>-1</td>\n",
       "      <td>11.68</td>\n",
       "    </tr>\n",
       "    <tr>\n",
       "      <th>3</th>\n",
       "      <td>FIFA 16</td>\n",
       "      <td>PS4</td>\n",
       "      <td>2015</td>\n",
       "      <td>Sports</td>\n",
       "      <td>1.12</td>\n",
       "      <td>6.12</td>\n",
       "      <td>0.06</td>\n",
       "      <td>1.28</td>\n",
       "      <td>82.0</td>\n",
       "      <td>4.3</td>\n",
       "      <td>E</td>\n",
       "      <td>8.58</td>\n",
       "    </tr>\n",
       "    <tr>\n",
       "      <th>4</th>\n",
       "      <td>Star Wars Battlefront (2015)</td>\n",
       "      <td>PS4</td>\n",
       "      <td>2015</td>\n",
       "      <td>Shooter</td>\n",
       "      <td>2.99</td>\n",
       "      <td>3.49</td>\n",
       "      <td>0.22</td>\n",
       "      <td>1.28</td>\n",
       "      <td>NaN</td>\n",
       "      <td>NaN</td>\n",
       "      <td>-1</td>\n",
       "      <td>7.98</td>\n",
       "    </tr>\n",
       "    <tr>\n",
       "      <th>...</th>\n",
       "      <td>...</td>\n",
       "      <td>...</td>\n",
       "      <td>...</td>\n",
       "      <td>...</td>\n",
       "      <td>...</td>\n",
       "      <td>...</td>\n",
       "      <td>...</td>\n",
       "      <td>...</td>\n",
       "      <td>...</td>\n",
       "      <td>...</td>\n",
       "      <td>...</td>\n",
       "      <td>...</td>\n",
       "    </tr>\n",
       "    <tr>\n",
       "      <th>1671</th>\n",
       "      <td>Strawberry Nauts</td>\n",
       "      <td>PSV</td>\n",
       "      <td>2016</td>\n",
       "      <td>Adventure</td>\n",
       "      <td>0.00</td>\n",
       "      <td>0.00</td>\n",
       "      <td>0.01</td>\n",
       "      <td>0.00</td>\n",
       "      <td>NaN</td>\n",
       "      <td>NaN</td>\n",
       "      <td>-1</td>\n",
       "      <td>0.01</td>\n",
       "    </tr>\n",
       "    <tr>\n",
       "      <th>1672</th>\n",
       "      <td>Aiyoku no Eustia</td>\n",
       "      <td>PSV</td>\n",
       "      <td>2014</td>\n",
       "      <td>Misc</td>\n",
       "      <td>0.00</td>\n",
       "      <td>0.00</td>\n",
       "      <td>0.01</td>\n",
       "      <td>0.00</td>\n",
       "      <td>NaN</td>\n",
       "      <td>NaN</td>\n",
       "      <td>-1</td>\n",
       "      <td>0.01</td>\n",
       "    </tr>\n",
       "    <tr>\n",
       "      <th>1673</th>\n",
       "      <td>Samurai Warriors: Sanada Maru</td>\n",
       "      <td>PS3</td>\n",
       "      <td>2016</td>\n",
       "      <td>Action</td>\n",
       "      <td>0.00</td>\n",
       "      <td>0.00</td>\n",
       "      <td>0.01</td>\n",
       "      <td>0.00</td>\n",
       "      <td>NaN</td>\n",
       "      <td>NaN</td>\n",
       "      <td>-1</td>\n",
       "      <td>0.01</td>\n",
       "    </tr>\n",
       "    <tr>\n",
       "      <th>1674</th>\n",
       "      <td>Haitaka no Psychedelica</td>\n",
       "      <td>PSV</td>\n",
       "      <td>2016</td>\n",
       "      <td>Adventure</td>\n",
       "      <td>0.00</td>\n",
       "      <td>0.00</td>\n",
       "      <td>0.01</td>\n",
       "      <td>0.00</td>\n",
       "      <td>NaN</td>\n",
       "      <td>NaN</td>\n",
       "      <td>-1</td>\n",
       "      <td>0.01</td>\n",
       "    </tr>\n",
       "    <tr>\n",
       "      <th>1675</th>\n",
       "      <td>Winning Post 8 2016</td>\n",
       "      <td>PSV</td>\n",
       "      <td>2016</td>\n",
       "      <td>Simulation</td>\n",
       "      <td>0.00</td>\n",
       "      <td>0.00</td>\n",
       "      <td>0.01</td>\n",
       "      <td>0.00</td>\n",
       "      <td>NaN</td>\n",
       "      <td>NaN</td>\n",
       "      <td>-1</td>\n",
       "      <td>0.01</td>\n",
       "    </tr>\n",
       "  </tbody>\n",
       "</table>\n",
       "<p>1676 rows × 12 columns</p>\n",
       "</div>"
      ],
      "text/plain": [
       "                                           name platform  year_of_release  \\\n",
       "0                     Call of Duty: Black Ops 3      PS4             2015   \n",
       "1                            Grand Theft Auto V      PS4             2014   \n",
       "2     Pokemon Omega Ruby/Pokemon Alpha Sapphire      3DS             2014   \n",
       "3                                       FIFA 16      PS4             2015   \n",
       "4                  Star Wars Battlefront (2015)      PS4             2015   \n",
       "...                                         ...      ...              ...   \n",
       "1671                           Strawberry Nauts      PSV             2016   \n",
       "1672                           Aiyoku no Eustia      PSV             2014   \n",
       "1673              Samurai Warriors: Sanada Maru      PS3             2016   \n",
       "1674                    Haitaka no Psychedelica      PSV             2016   \n",
       "1675                        Winning Post 8 2016      PSV             2016   \n",
       "\n",
       "             genre  na_sales  eu_sales  jp_sales  other_sales  critic_score  \\\n",
       "0          Shooter      6.03      5.86      0.36         2.38           NaN   \n",
       "1           Action      3.96      6.31      0.38         1.97          97.0   \n",
       "2     Role-Playing      4.35      3.49      3.10         0.74           NaN   \n",
       "3           Sports      1.12      6.12      0.06         1.28          82.0   \n",
       "4          Shooter      2.99      3.49      0.22         1.28           NaN   \n",
       "...            ...       ...       ...       ...          ...           ...   \n",
       "1671     Adventure      0.00      0.00      0.01         0.00           NaN   \n",
       "1672          Misc      0.00      0.00      0.01         0.00           NaN   \n",
       "1673        Action      0.00      0.00      0.01         0.00           NaN   \n",
       "1674     Adventure      0.00      0.00      0.01         0.00           NaN   \n",
       "1675    Simulation      0.00      0.00      0.01         0.00           NaN   \n",
       "\n",
       "      user_score rating  total_sales  \n",
       "0            NaN     -1        14.63  \n",
       "1            8.3      M        12.62  \n",
       "2            NaN     -1        11.68  \n",
       "3            4.3      E         8.58  \n",
       "4            NaN     -1         7.98  \n",
       "...          ...    ...          ...  \n",
       "1671         NaN     -1         0.01  \n",
       "1672         NaN     -1         0.01  \n",
       "1673         NaN     -1         0.01  \n",
       "1674         NaN     -1         0.01  \n",
       "1675         NaN     -1         0.01  \n",
       "\n",
       "[1676 rows x 12 columns]"
      ]
     },
     "execution_count": 32,
     "metadata": {},
     "output_type": "execute_result"
    }
   ],
   "source": [
    "df_selection = df.query(\n",
    "    'year_of_release >= 2014 and platform ==(\"3DS\",\"PC\",\"PS3\",\"PS4\",\"PSV\",\"Wii\",\"WiiU\",\"X360\",\"XOne\")'\n",
    ").reset_index(drop=True)\n",
    "# сделаем срез данных с помощью метода query() \n",
    "# сбросим индексы датафрейма с помощью reset_index()\n",
    "df_selection\n",
    "# выведем на экран новый датафрейм"
   ]
  },
  {
   "cell_type": "markdown",
   "metadata": {},
   "source": [
    "Посмотрим какие платформы были наиболее популярны в промежутке времени с 2014 года"
   ]
  },
  {
   "cell_type": "code",
   "execution_count": 33,
   "metadata": {},
   "outputs": [
    {
     "data": {
      "text/plain": [
       "<AxesSubplot:xlabel='platform'>"
      ]
     },
     "execution_count": 33,
     "metadata": {},
     "output_type": "execute_result"
    },
    {
     "data": {
      "image/png": "[encoded data removed]",
      "text/plain": [
       "<Figure size 432x288 with 1 Axes>"
      ]
     },
     "metadata": {
      "needs_background": "light"
     },
     "output_type": "display_data"
    }
   ],
   "source": [
    "df_selection.pivot_table(index='platform', values='total_sales', aggfunc='sum').plot(kind='bar')\n",
    "# создадим сводную таблицу с помощью метода pivot_table\n",
    "# построим график по этим данным используя метод plot()"
   ]
  },
  {
   "cell_type": "markdown",
   "metadata": {},
   "source": [
    "Самые популярные платформы в промежуток времени 2014 - 2016 год являются PS4 и ХOne."
   ]
  },
  {
   "cell_type": "code",
   "execution_count": 34,
   "metadata": {},
   "outputs": [
    {
     "data": {
      "text/html": [
       "<div>\n",
       "<style scoped>\n",
       "    .dataframe tbody tr th:only-of-type {\n",
       "        vertical-align: middle;\n",
       "    }\n",
       "\n",
       "    .dataframe tbody tr th {\n",
       "        vertical-align: top;\n",
       "    }\n",
       "\n",
       "    .dataframe thead th {\n",
       "        text-align: right;\n",
       "    }\n",
       "</style>\n",
       "<table border=\"1\" class=\"dataframe\">\n",
       "  <thead>\n",
       "    <tr style=\"text-align: right;\">\n",
       "      <th></th>\n",
       "      <th></th>\n",
       "      <th>total_sales</th>\n",
       "    </tr>\n",
       "    <tr>\n",
       "      <th>platform</th>\n",
       "      <th>year_of_release</th>\n",
       "      <th></th>\n",
       "    </tr>\n",
       "  </thead>\n",
       "  <tbody>\n",
       "    <tr>\n",
       "      <th rowspan=\"3\" valign=\"top\">3DS</th>\n",
       "      <th>2014</th>\n",
       "      <td>43.76</td>\n",
       "    </tr>\n",
       "    <tr>\n",
       "      <th>2015</th>\n",
       "      <td>27.78</td>\n",
       "    </tr>\n",
       "    <tr>\n",
       "      <th>2016</th>\n",
       "      <td>15.14</td>\n",
       "    </tr>\n",
       "    <tr>\n",
       "      <th rowspan=\"3\" valign=\"top\">PC</th>\n",
       "      <th>2014</th>\n",
       "      <td>13.28</td>\n",
       "    </tr>\n",
       "    <tr>\n",
       "      <th>2015</th>\n",
       "      <td>8.52</td>\n",
       "    </tr>\n",
       "    <tr>\n",
       "      <th>2016</th>\n",
       "      <td>5.25</td>\n",
       "    </tr>\n",
       "    <tr>\n",
       "      <th rowspan=\"3\" valign=\"top\">PS3</th>\n",
       "      <th>2014</th>\n",
       "      <td>47.76</td>\n",
       "    </tr>\n",
       "    <tr>\n",
       "      <th>2015</th>\n",
       "      <td>16.82</td>\n",
       "    </tr>\n",
       "    <tr>\n",
       "      <th>2016</th>\n",
       "      <td>3.60</td>\n",
       "    </tr>\n",
       "    <tr>\n",
       "      <th rowspan=\"3\" valign=\"top\">PS4</th>\n",
       "      <th>2014</th>\n",
       "      <td>100.00</td>\n",
       "    </tr>\n",
       "    <tr>\n",
       "      <th>2015</th>\n",
       "      <td>118.90</td>\n",
       "    </tr>\n",
       "    <tr>\n",
       "      <th>2016</th>\n",
       "      <td>69.25</td>\n",
       "    </tr>\n",
       "    <tr>\n",
       "      <th rowspan=\"3\" valign=\"top\">PSV</th>\n",
       "      <th>2014</th>\n",
       "      <td>11.90</td>\n",
       "    </tr>\n",
       "    <tr>\n",
       "      <th>2015</th>\n",
       "      <td>6.25</td>\n",
       "    </tr>\n",
       "    <tr>\n",
       "      <th>2016</th>\n",
       "      <td>4.25</td>\n",
       "    </tr>\n",
       "    <tr>\n",
       "      <th rowspan=\"3\" valign=\"top\">Wii</th>\n",
       "      <th>2014</th>\n",
       "      <td>3.75</td>\n",
       "    </tr>\n",
       "    <tr>\n",
       "      <th>2015</th>\n",
       "      <td>1.14</td>\n",
       "    </tr>\n",
       "    <tr>\n",
       "      <th>2016</th>\n",
       "      <td>0.18</td>\n",
       "    </tr>\n",
       "    <tr>\n",
       "      <th rowspan=\"3\" valign=\"top\">WiiU</th>\n",
       "      <th>2014</th>\n",
       "      <td>22.03</td>\n",
       "    </tr>\n",
       "    <tr>\n",
       "      <th>2015</th>\n",
       "      <td>16.35</td>\n",
       "    </tr>\n",
       "    <tr>\n",
       "      <th>2016</th>\n",
       "      <td>4.60</td>\n",
       "    </tr>\n",
       "    <tr>\n",
       "      <th rowspan=\"3\" valign=\"top\">X360</th>\n",
       "      <th>2014</th>\n",
       "      <td>34.74</td>\n",
       "    </tr>\n",
       "    <tr>\n",
       "      <th>2015</th>\n",
       "      <td>11.96</td>\n",
       "    </tr>\n",
       "    <tr>\n",
       "      <th>2016</th>\n",
       "      <td>1.52</td>\n",
       "    </tr>\n",
       "    <tr>\n",
       "      <th rowspan=\"3\" valign=\"top\">XOne</th>\n",
       "      <th>2014</th>\n",
       "      <td>54.07</td>\n",
       "    </tr>\n",
       "    <tr>\n",
       "      <th>2015</th>\n",
       "      <td>60.14</td>\n",
       "    </tr>\n",
       "    <tr>\n",
       "      <th>2016</th>\n",
       "      <td>26.15</td>\n",
       "    </tr>\n",
       "  </tbody>\n",
       "</table>\n",
       "</div>"
      ],
      "text/plain": [
       "                          total_sales\n",
       "platform year_of_release             \n",
       "3DS      2014                   43.76\n",
       "         2015                   27.78\n",
       "         2016                   15.14\n",
       "PC       2014                   13.28\n",
       "         2015                    8.52\n",
       "         2016                    5.25\n",
       "PS3      2014                   47.76\n",
       "         2015                   16.82\n",
       "         2016                    3.60\n",
       "PS4      2014                  100.00\n",
       "         2015                  118.90\n",
       "         2016                   69.25\n",
       "PSV      2014                   11.90\n",
       "         2015                    6.25\n",
       "         2016                    4.25\n",
       "Wii      2014                    3.75\n",
       "         2015                    1.14\n",
       "         2016                    0.18\n",
       "WiiU     2014                   22.03\n",
       "         2015                   16.35\n",
       "         2016                    4.60\n",
       "X360     2014                   34.74\n",
       "         2015                   11.96\n",
       "         2016                    1.52\n",
       "XOne     2014                   54.07\n",
       "         2015                   60.14\n",
       "         2016                   26.15"
      ]
     },
     "execution_count": 34,
     "metadata": {},
     "output_type": "execute_result"
    }
   ],
   "source": [
    "df_selection \\\n",
    "    .groupby(['platform','year_of_release']) \\\n",
    "    .agg({'total_sales': 'sum'})\n",
    "# сгруппируем данные по платформам и году выпуска, что бы посмотреть какие платформы по продажам растут, а какие падают"
   ]
  },
  {
   "cell_type": "markdown",
   "metadata": {},
   "source": [
    "Все платформы показали падение по продажам, но в 2016 году самые лучшие продажи показали  такие платформы как XOne, PS4 и 3DS. Их и выберем как потенциально прибыльные."
   ]
  },
  {
   "cell_type": "code",
   "execution_count": 35,
   "metadata": {},
   "outputs": [
    {
     "data": {
      "text/plain": [
       "count    376.000000\n",
       "mean       0.766356\n",
       "std        1.614969\n",
       "min        0.010000\n",
       "25%        0.057500\n",
       "50%        0.185000\n",
       "75%        0.690000\n",
       "max       14.630000\n",
       "Name: total_sales, dtype: float64"
      ]
     },
     "execution_count": 35,
     "metadata": {},
     "output_type": "execute_result"
    },
    {
     "data": {
      "image/png": "[encoded data removed]",
      "text/plain": [
       "<Figure size 432x288 with 1 Axes>"
      ]
     },
     "metadata": {
      "needs_background": "light"
     },
     "output_type": "display_data"
    }
   ],
   "source": [
    "PS4 = df_selection.query('platform == \"PS4\"')\n",
    "# сделаем срез данных с помощью метода query()\n",
    "PS4.boxplot(column='total_sales')\n",
    "# построим диаграмму размаха используя метод boxplot()\n",
    "PS4['total_sales'].describe()\n",
    "# получим список характерных значений для этого среза данных"
   ]
  },
  {
   "cell_type": "markdown",
   "metadata": {},
   "source": [
    "По этой диаграмме размаха можно сказать, что среднее больше медианы в 4 раза, так же большое значение имеет и стандартное отклонение, это говорит о том, что в распределении длинный хвост высоких значений, влияющих на среднее, но не на медиану. Действительно, видим, что третий квартиль у нас заканчивается на значении 0.69(млн. проданных копий), а максимальное значение - целых 14.63(млн. проданных копий)."
   ]
  },
  {
   "cell_type": "code",
   "execution_count": 36,
   "metadata": {},
   "outputs": [
    {
     "data": {
      "text/plain": [
       "count    212.000000\n",
       "mean       0.408868\n",
       "std        1.188368\n",
       "min        0.010000\n",
       "25%        0.030000\n",
       "50%        0.090000\n",
       "75%        0.250000\n",
       "max       11.680000\n",
       "Name: total_sales, dtype: float64"
      ]
     },
     "execution_count": 36,
     "metadata": {},
     "output_type": "execute_result"
    },
    {
     "data": {
      "image/png": "[encoded data removed]",
      "text/plain": [
       "<Figure size 432x288 with 1 Axes>"
      ]
     },
     "metadata": {
      "needs_background": "light"
     },
     "output_type": "display_data"
    }
   ],
   "source": [
    "DS = df_selection.query('platform == \"3DS\"')\n",
    "# сделаем срез данных с помощью метода query()\n",
    "DS.boxplot(column='total_sales')\n",
    "# построим диаграмму размаха используя метод boxplot()\n",
    "DS['total_sales'].describe()\n",
    "# получим список характерных значений для этого среза данных"
   ]
  },
  {
   "cell_type": "markdown",
   "metadata": {},
   "source": [
    "Здесь история практически повторяется,только третий квартиль у нас заканчивается на значении 0.25(млн. проданных копий), а максимальное значение - целых 11.68(млн. проданных копий)."
   ]
  },
  {
   "cell_type": "code",
   "execution_count": 37,
   "metadata": {},
   "outputs": [
    {
     "data": {
      "text/plain": [
       "count    228.000000\n",
       "mean       0.615614\n",
       "std        1.046513\n",
       "min        0.010000\n",
       "25%        0.050000\n",
       "50%        0.205000\n",
       "75%        0.632500\n",
       "max        7.390000\n",
       "Name: total_sales, dtype: float64"
      ]
     },
     "execution_count": 37,
     "metadata": {},
     "output_type": "execute_result"
    },
    {
     "data": {
      "image/png": "[encoded data removed]",
      "text/plain": [
       "<Figure size 432x288 with 1 Axes>"
      ]
     },
     "metadata": {
      "needs_background": "light"
     },
     "output_type": "display_data"
    }
   ],
   "source": [
    "XOne = df_selection.query('platform == \"XOne\"')\n",
    "# сделаем срез данных с помощью метода query()\n",
    "XOne.boxplot(column='total_sales')\n",
    "# построим диаграмму размаха используя метод boxplot()\n",
    "XOne['total_sales'].describe()\n",
    "# получим список характерных значений для этого среза данных"
   ]
  },
  {
   "cell_type": "markdown",
   "metadata": {},
   "source": [
    "По этой диаграмме размаха можно сказать, что среднее больше медианы в 3 раза, так же  в распределении длинный хвост высоких значений, влияющих на среднее, но не на медиану, третий квартиль у нас заканчивается на значении 0.63(млн. проданных копий), а максимальное значение - 7.39(млн. проданных копий)."
   ]
  },
  {
   "cell_type": "markdown",
   "metadata": {},
   "source": [
    "У каждой из трех наиболее популярной платформы в 2016 году среднее значение в несколько раз больше медианы и есть значения, которые на порядок больше их,поэтому наблюдаем в распределении длинный хвост высоких значений, влияющих на среднее, но не на медиану. И максимальное значение на несколько порядков больше третьего квартиля,значит были моменты, когда эти платформы были максимально популярны - но их очень мало."
   ]
  },
  {
   "cell_type": "code",
   "execution_count": 38,
   "metadata": {},
   "outputs": [
    {
     "data": {
      "image/png": "[encoded data removed]",
      "text/plain": [
       "<Figure size 432x288 with 1 Axes>"
      ]
     },
     "metadata": {
      "needs_background": "light"
     },
     "output_type": "display_data"
    }
   ],
   "source": [
    "\n",
    "sns.boxplot(\n",
    "    data = df_selection, y = 'total_sales', x='platform'\n",
    ").set(title = 'Боксплот для полных данных', xlabel = 'platform', ylabel = 'total_sales') \n",
    "plt.show()\n"
   ]
  },
  {
   "cell_type": "markdown",
   "metadata": {},
   "source": [
    "Здесь более наглядно видно, что у PS4 самые большие выбросы."
   ]
  },
  {
   "cell_type": "code",
   "execution_count": 39,
   "metadata": {},
   "outputs": [
    {
     "data": {
      "text/plain": [
       "(0.0, 2.0)"
      ]
     },
     "execution_count": 39,
     "metadata": {},
     "output_type": "execute_result"
    },
    {
     "data": {
      "image/png": "[encoded data removed]",
      "text/plain": [
       "<Figure size 1080x720 with 1 Axes>"
      ]
     },
     "metadata": {
      "needs_background": "light"
     },
     "output_type": "display_data"
    }
   ],
   "source": [
    "\n",
    "plt.figure(figsize=(15, 10))\n",
    "sns.boxplot(\n",
    "    data = df_selection, y = 'total_sales', x='platform'\n",
    ").set(title = 'Боксплот с ограничением по оси y', xlabel = 'platform', ylabel = 'total_sales') \n",
    "plt.ylim([0,2])"
   ]
  },
  {
   "cell_type": "markdown",
   "metadata": {},
   "source": [
    "Здесь можно сравнить медианы и значени 3 квартиля для разных платформ. Видно, что для 3DS она меньше."
   ]
  },
  {
   "cell_type": "markdown",
   "metadata": {},
   "source": [
    "Посмотрим как влияют на продажи внутри одной платформы отзывы пользователей и критиков"
   ]
  },
  {
   "cell_type": "code",
   "execution_count": 40,
   "metadata": {},
   "outputs": [
    {
     "data": {
      "text/plain": [
       "-0.040131589472697356"
      ]
     },
     "execution_count": 40,
     "metadata": {},
     "output_type": "execute_result"
    }
   ],
   "source": [
    "PS4['user_score'].corr(PS4['total_sales'])\n",
    "# найдем коэффициент корреляции с помощью метода corr()"
   ]
  },
  {
   "cell_type": "code",
   "execution_count": 41,
   "metadata": {},
   "outputs": [
    {
     "data": {
      "text/plain": [
       "Text(0.5, 1.0, 'Диаграмма рассеяния для PS4 (оценки пользователей - продажи)')"
      ]
     },
     "execution_count": 41,
     "metadata": {},
     "output_type": "execute_result"
    },
    {
     "data": {
      "image/png": "[encoded data removed]",
      "text/plain": [
       "<Figure size 864x432 with 1 Axes>"
      ]
     },
     "metadata": {
      "needs_background": "light"
     },
     "output_type": "display_data"
    }
   ],
   "source": [
    "plt.figure(figsize=(12,6))\n",
    "sns.scatterplot(x='user_score', y='total_sales', data=PS4)\n",
    "plt.title('Диаграмма рассеяния для PS4 (оценки пользователей - продажи)')\n",
    "# построим диаграмму рассеяния с помощью метода scatterplot()"
   ]
  },
  {
   "cell_type": "markdown",
   "metadata": {},
   "source": [
    "Можно сказать, что зависимость количества продаж от оценок пользователей не зависит. Это видно и на диаграмме рассеяния."
   ]
  },
  {
   "cell_type": "code",
   "execution_count": 42,
   "metadata": {},
   "outputs": [
    {
     "data": {
      "text/plain": [
       "0.40266141068104083"
      ]
     },
     "execution_count": 42,
     "metadata": {},
     "output_type": "execute_result"
    }
   ],
   "source": [
    "PS4['critic_score'].corr(PS4['total_sales'])\n",
    "# найдем коэффициент корреляции с помощью метода corr()"
   ]
  },
  {
   "cell_type": "code",
   "execution_count": 43,
   "metadata": {},
   "outputs": [
    {
     "data": {
      "text/plain": [
       "Text(0.5, 1.0, 'Диаграмма рассеяния для PS4 (оценки критиков - продажи)')"
      ]
     },
     "execution_count": 43,
     "metadata": {},
     "output_type": "execute_result"
    },
    {
     "data": {
      "image/png": "[encoded data removed]",
      "text/plain": [
       "<Figure size 864x432 with 1 Axes>"
      ]
     },
     "metadata": {
      "needs_background": "light"
     },
     "output_type": "display_data"
    }
   ],
   "source": [
    "plt.figure(figsize=(12,6))\n",
    "sns.scatterplot(x='critic_score', y='total_sales', data=PS4)\n",
    "plt.title('Диаграмма рассеяния для PS4 (оценки критиков - продажи)')\n",
    "# построим диаграмму рассеятия с помощью метода scatterplot()"
   ]
  },
  {
   "cell_type": "markdown",
   "metadata": {},
   "source": [
    "Можно сказать, что есть зависимость количества продаж от оценок критиков. Это видно и на диаграмме рассеяния. "
   ]
  },
  {
   "cell_type": "markdown",
   "metadata": {},
   "source": [
    "По платформе PS4 можно сделать вывод, что на продажи влияют оценки критиков, а оценки пользователей покупатель не берет в расчет."
   ]
  },
  {
   "cell_type": "code",
   "execution_count": 44,
   "metadata": {},
   "outputs": [
    {
     "data": {
      "text/plain": [
       "0.2151932718527028"
      ]
     },
     "metadata": {},
     "output_type": "display_data"
    },
    {
     "data": {
      "text/plain": [
       "0.314117492869051"
      ]
     },
     "metadata": {},
     "output_type": "display_data"
    }
   ],
   "source": [
    "# посчитаем коэффициент корреляции для других популярных платформ\n",
    "display(DS['user_score'].corr(DS['total_sales']))\n",
    "display(DS['critic_score'].corr(DS['total_sales']))"
   ]
  },
  {
   "cell_type": "code",
   "execution_count": 45,
   "metadata": {},
   "outputs": [
    {
     "data": {
      "text/plain": [
       "-0.0703839280647581"
      ]
     },
     "metadata": {},
     "output_type": "display_data"
    },
    {
     "data": {
      "text/plain": [
       "0.42867694370333226"
      ]
     },
     "metadata": {},
     "output_type": "display_data"
    }
   ],
   "source": [
    "# посчитаем коэффициент корреляции для других популярных платформ\n",
    "display(XOne['user_score'].corr(XOne['total_sales']))\n",
    "display(XOne['critic_score'].corr(XOne['total_sales']))"
   ]
  },
  {
   "cell_type": "markdown",
   "metadata": {},
   "source": [
    "Однозначный вывод, что оценки пользователей совсем не влияет на продажи среди популярных платформ мы сделать не можем, но что на продажи влияют оценки критиков - это точно, так как на трех самых популярных платформах в 2016 году мы видим эту взаимосвязь."
   ]
  },
  {
   "cell_type": "markdown",
   "metadata": {},
   "source": [
    "Посмотрим на общее распределение игр по жанрам. Что можно сказать о самых прибыльных жанрах? Выделяются ли жанры с высокими и низкими продажами?"
   ]
  },
  {
   "cell_type": "code",
   "execution_count": 46,
   "metadata": {},
   "outputs": [
    {
     "data": {
      "text/plain": [
       "<AxesSubplot:xlabel='genre'>"
      ]
     },
     "execution_count": 46,
     "metadata": {},
     "output_type": "execute_result"
    },
    {
     "data": {
      "image/png": "[encoded data removed]",
      "text/plain": [
       "<Figure size 432x288 with 1 Axes>"
      ]
     },
     "metadata": {
      "needs_background": "light"
     },
     "output_type": "display_data"
    }
   ],
   "source": [
    "df_selection.pivot_table(index='genre', values='total_sales', aggfunc='mean').sort_values(\n",
    "    by='total_sales', ascending=False).reset_index().rename_axis(None, axis=1).plot(kind='bar',x='genre',y='total_sales')\n",
    "# построим столбчатую диаграмму для сводной таблицы, что бы посмотреть какие жанры самые прибыльные"
   ]
  },
  {
   "cell_type": "markdown",
   "metadata": {},
   "source": [
    "Самые популярные жанры  года являются shooter и sports, а жанры с низкими продажами - strategy и adventure."
   ]
  },
  {
   "cell_type": "markdown",
   "metadata": {},
   "source": [
    "Итак, можно сказать, что начиная с середины девяностых шел ежегодный рост выпускаемых игр, и пик приходится на 2008 год, а после 2010 года идет резкое снижение количества игр, выпускаемых каждый год. По графику видно, что у 6 платформ самые большие продажи - это PS2, X360, PS3, Wii, DS, PS. \n",
    "Можно сказать, что длительность жизни самых популярных платформ составляет 9-11 лет. \n",
    "В 2016 году осталось лишь 9 платформ(3DS,PC,PS3,PS4,PSV,Wii,WiiU,X360,XOne), причем у многих продажи стремятся к нулю, только PS4 до сих пор держится.\n",
    "Все платформы показали падение по продажам, но в 2016 году самые лучшие продажи показали такие платформы как XOne, PS4 и 3DS. \n",
    "Однозначный вывод, что оценки пользователей совсем не влияет на продажи среди популярных платформ, мы сделать не можем, но что на продажи влияют оценки критиков - это точно, так как на трех самых популярных платформах в 2016 году мы видим эту взаимосвязь.\n",
    "Самые популярные жанры года являются shooter и sports, а жанры с низкими продажами - strategy и adventure.\n"
   ]
  },
  {
   "cell_type": "markdown",
   "metadata": {},
   "source": [
    "## Составим портрет пользователя каждого региона"
   ]
  },
  {
   "cell_type": "markdown",
   "metadata": {},
   "source": [
    "Определим 5 самых популярных платформы и жанры для пользователей каждого региона."
   ]
  },
  {
   "cell_type": "code",
   "execution_count": 47,
   "metadata": {},
   "outputs": [
    {
     "data": {
      "text/html": [
       "<div>\n",
       "<style scoped>\n",
       "    .dataframe tbody tr th:only-of-type {\n",
       "        vertical-align: middle;\n",
       "    }\n",
       "\n",
       "    .dataframe tbody tr th {\n",
       "        vertical-align: top;\n",
       "    }\n",
       "\n",
       "    .dataframe thead th {\n",
       "        text-align: right;\n",
       "    }\n",
       "</style>\n",
       "<table border=\"1\" class=\"dataframe\">\n",
       "  <thead>\n",
       "    <tr style=\"text-align: right;\">\n",
       "      <th></th>\n",
       "      <th>na_sales</th>\n",
       "      <th>total_sales</th>\n",
       "      <th>ratio_sales</th>\n",
       "    </tr>\n",
       "    <tr>\n",
       "      <th>platform</th>\n",
       "      <th></th>\n",
       "      <th></th>\n",
       "      <th></th>\n",
       "    </tr>\n",
       "  </thead>\n",
       "  <tbody>\n",
       "    <tr>\n",
       "      <th>PS4</th>\n",
       "      <td>98.61</td>\n",
       "      <td>288.15</td>\n",
       "      <td>0.342218</td>\n",
       "    </tr>\n",
       "    <tr>\n",
       "      <th>XOne</th>\n",
       "      <td>81.27</td>\n",
       "      <td>140.36</td>\n",
       "      <td>0.579011</td>\n",
       "    </tr>\n",
       "    <tr>\n",
       "      <th>X360</th>\n",
       "      <td>28.30</td>\n",
       "      <td>48.22</td>\n",
       "      <td>0.586893</td>\n",
       "    </tr>\n",
       "    <tr>\n",
       "      <th>3DS</th>\n",
       "      <td>22.64</td>\n",
       "      <td>86.68</td>\n",
       "      <td>0.261191</td>\n",
       "    </tr>\n",
       "    <tr>\n",
       "      <th>PS3</th>\n",
       "      <td>22.05</td>\n",
       "      <td>68.18</td>\n",
       "      <td>0.323409</td>\n",
       "    </tr>\n",
       "  </tbody>\n",
       "</table>\n",
       "</div>"
      ],
      "text/plain": [
       "          na_sales  total_sales  ratio_sales\n",
       "platform                                    \n",
       "PS4          98.61       288.15     0.342218\n",
       "XOne         81.27       140.36     0.579011\n",
       "X360         28.30        48.22     0.586893\n",
       "3DS          22.64        86.68     0.261191\n",
       "PS3          22.05        68.18     0.323409"
      ]
     },
     "execution_count": 47,
     "metadata": {},
     "output_type": "execute_result"
    }
   ],
   "source": [
    "na_sales_platform=df_selection.pivot_table(\n",
    "    index='platform',values=['na_sales','total_sales'],aggfunc=('sum')\n",
    ").sort_values(by='na_sales',ascending=False)\n",
    "# создадим сводную таблицу по продажам с Северной Америке\n",
    "na_sales_platform['ratio_sales']=na_sales_platform['na_sales']/na_sales_platform['total_sales']\n",
    "# посчитаем долю продаж для самых популярных платформ \n",
    "na_sales_platform.head()\n",
    "# выведем на экра первые 5 строк таблицы"
   ]
  },
  {
   "cell_type": "markdown",
   "metadata": {},
   "source": [
    "Cамыми популярными платформами в Северной Америке являются PS4, XOne, X360, 3DS, PS3. Причем на платформу PS4 приходится 34% всех продаж."
   ]
  },
  {
   "cell_type": "code",
   "execution_count": 48,
   "metadata": {},
   "outputs": [
    {
     "data": {
      "text/html": [
       "<div>\n",
       "<style scoped>\n",
       "    .dataframe tbody tr th:only-of-type {\n",
       "        vertical-align: middle;\n",
       "    }\n",
       "\n",
       "    .dataframe tbody tr th {\n",
       "        vertical-align: top;\n",
       "    }\n",
       "\n",
       "    .dataframe thead th {\n",
       "        text-align: right;\n",
       "    }\n",
       "</style>\n",
       "<table border=\"1\" class=\"dataframe\">\n",
       "  <thead>\n",
       "    <tr style=\"text-align: right;\">\n",
       "      <th></th>\n",
       "      <th>eu_sales</th>\n",
       "      <th>total_sales</th>\n",
       "      <th>ratio_sales</th>\n",
       "    </tr>\n",
       "    <tr>\n",
       "      <th>platform</th>\n",
       "      <th></th>\n",
       "      <th></th>\n",
       "      <th></th>\n",
       "    </tr>\n",
       "  </thead>\n",
       "  <tbody>\n",
       "    <tr>\n",
       "      <th>PS4</th>\n",
       "      <td>130.04</td>\n",
       "      <td>288.15</td>\n",
       "      <td>0.451293</td>\n",
       "    </tr>\n",
       "    <tr>\n",
       "      <th>XOne</th>\n",
       "      <td>46.25</td>\n",
       "      <td>140.36</td>\n",
       "      <td>0.329510</td>\n",
       "    </tr>\n",
       "    <tr>\n",
       "      <th>PS3</th>\n",
       "      <td>25.54</td>\n",
       "      <td>68.18</td>\n",
       "      <td>0.374597</td>\n",
       "    </tr>\n",
       "    <tr>\n",
       "      <th>PC</th>\n",
       "      <td>17.97</td>\n",
       "      <td>27.05</td>\n",
       "      <td>0.664325</td>\n",
       "    </tr>\n",
       "    <tr>\n",
       "      <th>3DS</th>\n",
       "      <td>16.12</td>\n",
       "      <td>86.68</td>\n",
       "      <td>0.185971</td>\n",
       "    </tr>\n",
       "  </tbody>\n",
       "</table>\n",
       "</div>"
      ],
      "text/plain": [
       "          eu_sales  total_sales  ratio_sales\n",
       "platform                                    \n",
       "PS4         130.04       288.15     0.451293\n",
       "XOne         46.25       140.36     0.329510\n",
       "PS3          25.54        68.18     0.374597\n",
       "PC           17.97        27.05     0.664325\n",
       "3DS          16.12        86.68     0.185971"
      ]
     },
     "execution_count": 48,
     "metadata": {},
     "output_type": "execute_result"
    }
   ],
   "source": [
    "eu_sales_platform=df_selection.pivot_table(\n",
    "    index='platform',values=['eu_sales','total_sales'],aggfunc=('sum')\n",
    ").sort_values(by='eu_sales',ascending=False)\n",
    "# создадим сводную таблицу по продажам с Европе\n",
    "eu_sales_platform['ratio_sales']=eu_sales_platform['eu_sales']/eu_sales_platform['total_sales']\n",
    "# посчитаем долю продаж для самых популярных платформ \n",
    "eu_sales_platform.head()\n",
    "# выведем на экра первые 5 строк таблицы"
   ]
  },
  {
   "cell_type": "markdown",
   "metadata": {},
   "source": [
    "Cамыми популярными платформами в Европе являются PS4,XOne, PS3,РС, 3DS. Причем на платформу PS4 приходиться 45% всех продаж."
   ]
  },
  {
   "cell_type": "code",
   "execution_count": 49,
   "metadata": {},
   "outputs": [
    {
     "data": {
      "text/html": [
       "<div>\n",
       "<style scoped>\n",
       "    .dataframe tbody tr th:only-of-type {\n",
       "        vertical-align: middle;\n",
       "    }\n",
       "\n",
       "    .dataframe tbody tr th {\n",
       "        vertical-align: top;\n",
       "    }\n",
       "\n",
       "    .dataframe thead th {\n",
       "        text-align: right;\n",
       "    }\n",
       "</style>\n",
       "<table border=\"1\" class=\"dataframe\">\n",
       "  <thead>\n",
       "    <tr style=\"text-align: right;\">\n",
       "      <th></th>\n",
       "      <th>jp_sales</th>\n",
       "      <th>total_sales</th>\n",
       "      <th>ratio_sales</th>\n",
       "    </tr>\n",
       "    <tr>\n",
       "      <th>platform</th>\n",
       "      <th></th>\n",
       "      <th></th>\n",
       "      <th></th>\n",
       "    </tr>\n",
       "  </thead>\n",
       "  <tbody>\n",
       "    <tr>\n",
       "      <th>3DS</th>\n",
       "      <td>44.24</td>\n",
       "      <td>86.68</td>\n",
       "      <td>0.510383</td>\n",
       "    </tr>\n",
       "    <tr>\n",
       "      <th>PS4</th>\n",
       "      <td>15.02</td>\n",
       "      <td>288.15</td>\n",
       "      <td>0.052126</td>\n",
       "    </tr>\n",
       "    <tr>\n",
       "      <th>PSV</th>\n",
       "      <td>14.54</td>\n",
       "      <td>22.40</td>\n",
       "      <td>0.649107</td>\n",
       "    </tr>\n",
       "    <tr>\n",
       "      <th>PS3</th>\n",
       "      <td>11.22</td>\n",
       "      <td>68.18</td>\n",
       "      <td>0.164564</td>\n",
       "    </tr>\n",
       "    <tr>\n",
       "      <th>WiiU</th>\n",
       "      <td>7.31</td>\n",
       "      <td>42.98</td>\n",
       "      <td>0.170079</td>\n",
       "    </tr>\n",
       "  </tbody>\n",
       "</table>\n",
       "</div>"
      ],
      "text/plain": [
       "          jp_sales  total_sales  ratio_sales\n",
       "platform                                    \n",
       "3DS          44.24        86.68     0.510383\n",
       "PS4          15.02       288.15     0.052126\n",
       "PSV          14.54        22.40     0.649107\n",
       "PS3          11.22        68.18     0.164564\n",
       "WiiU          7.31        42.98     0.170079"
      ]
     },
     "execution_count": 49,
     "metadata": {},
     "output_type": "execute_result"
    }
   ],
   "source": [
    "jp_sales_platform=df_selection.pivot_table(\n",
    "    index='platform',values=['jp_sales','total_sales'],aggfunc=('sum')\n",
    ").sort_values(by='jp_sales',ascending=False)\n",
    "# создадим сводную таблицу по продажам с Европе\n",
    "jp_sales_platform['ratio_sales']=jp_sales_platform['jp_sales']/jp_sales_platform['total_sales']\n",
    "# посчитаем долю продаж для самых популярных платформ \n",
    "jp_sales_platform.head()\n",
    "# выведем на экра первые 5 строк таблицы"
   ]
  },
  {
   "cell_type": "markdown",
   "metadata": {},
   "source": [
    "Cамыми популярными платформами в Японии  являются 3DS, PS4,PSV,PS3,WiiU . Причем на платформу 3DS приходиться  51% всех продаж."
   ]
  },
  {
   "cell_type": "markdown",
   "metadata": {},
   "source": [
    "Создадим функцию, которая покажет нам самые популярные платформы из актуального периода. \n",
    "Пропущенные значения в графе райтинг заполним на значение -1"
   ]
  },
  {
   "cell_type": "code",
   "execution_count": 50,
   "metadata": {},
   "outputs": [],
   "source": [
    "#Функция для создания сводных таблиц за последний год\n",
    "def user_portrait_2016(row, title):\n",
    "    temp = df[df['year_of_release']>=2014]\n",
    "    fig, axes = plt.subplots(1, 3, figsize=(20, 4))\n",
    "    for pivot, ax in zip(list(['platform','genre','rating']), axes):\n",
    "        ppivot = temp.pivot_table(index=pivot, values=row, aggfunc='sum')\\\n",
    "        .sort_values(by=row, ascending=False).reset_index().rename_axis(None, axis=1).head(5)\n",
    "        display(ppivot)\n",
    "\n",
    "        sns.set_palette(\"BuGn_r\")\n",
    "        sns.barplot(data=ppivot, x=pivot, y=row, ax=ax)\n",
    "        fig.suptitle(title, fontsize=15)"
   ]
  },
  {
   "cell_type": "code",
   "execution_count": 51,
   "metadata": {},
   "outputs": [
    {
     "data": {
      "text/html": [
       "<div>\n",
       "<style scoped>\n",
       "    .dataframe tbody tr th:only-of-type {\n",
       "        vertical-align: middle;\n",
       "    }\n",
       "\n",
       "    .dataframe tbody tr th {\n",
       "        vertical-align: top;\n",
       "    }\n",
       "\n",
       "    .dataframe thead th {\n",
       "        text-align: right;\n",
       "    }\n",
       "</style>\n",
       "<table border=\"1\" class=\"dataframe\">\n",
       "  <thead>\n",
       "    <tr style=\"text-align: right;\">\n",
       "      <th></th>\n",
       "      <th>platform</th>\n",
       "      <th>na_sales</th>\n",
       "    </tr>\n",
       "  </thead>\n",
       "  <tbody>\n",
       "    <tr>\n",
       "      <th>0</th>\n",
       "      <td>PS4</td>\n",
       "      <td>98.61</td>\n",
       "    </tr>\n",
       "    <tr>\n",
       "      <th>1</th>\n",
       "      <td>XOne</td>\n",
       "      <td>81.27</td>\n",
       "    </tr>\n",
       "    <tr>\n",
       "      <th>2</th>\n",
       "      <td>X360</td>\n",
       "      <td>28.30</td>\n",
       "    </tr>\n",
       "    <tr>\n",
       "      <th>3</th>\n",
       "      <td>3DS</td>\n",
       "      <td>22.64</td>\n",
       "    </tr>\n",
       "    <tr>\n",
       "      <th>4</th>\n",
       "      <td>PS3</td>\n",
       "      <td>22.05</td>\n",
       "    </tr>\n",
       "  </tbody>\n",
       "</table>\n",
       "</div>"
      ],
      "text/plain": [
       "  platform  na_sales\n",
       "0      PS4     98.61\n",
       "1     XOne     81.27\n",
       "2     X360     28.30\n",
       "3      3DS     22.64\n",
       "4      PS3     22.05"
      ]
     },
     "metadata": {},
     "output_type": "display_data"
    },
    {
     "data": {
      "text/html": [
       "<div>\n",
       "<style scoped>\n",
       "    .dataframe tbody tr th:only-of-type {\n",
       "        vertical-align: middle;\n",
       "    }\n",
       "\n",
       "    .dataframe tbody tr th {\n",
       "        vertical-align: top;\n",
       "    }\n",
       "\n",
       "    .dataframe thead th {\n",
       "        text-align: right;\n",
       "    }\n",
       "</style>\n",
       "<table border=\"1\" class=\"dataframe\">\n",
       "  <thead>\n",
       "    <tr style=\"text-align: right;\">\n",
       "      <th></th>\n",
       "      <th>genre</th>\n",
       "      <th>na_sales</th>\n",
       "    </tr>\n",
       "  </thead>\n",
       "  <tbody>\n",
       "    <tr>\n",
       "      <th>0</th>\n",
       "      <td>Shooter</td>\n",
       "      <td>79.02</td>\n",
       "    </tr>\n",
       "    <tr>\n",
       "      <th>1</th>\n",
       "      <td>Action</td>\n",
       "      <td>72.53</td>\n",
       "    </tr>\n",
       "    <tr>\n",
       "      <th>2</th>\n",
       "      <td>Sports</td>\n",
       "      <td>46.13</td>\n",
       "    </tr>\n",
       "    <tr>\n",
       "      <th>3</th>\n",
       "      <td>Role-Playing</td>\n",
       "      <td>33.47</td>\n",
       "    </tr>\n",
       "    <tr>\n",
       "      <th>4</th>\n",
       "      <td>Misc</td>\n",
       "      <td>15.05</td>\n",
       "    </tr>\n",
       "  </tbody>\n",
       "</table>\n",
       "</div>"
      ],
      "text/plain": [
       "          genre  na_sales\n",
       "0       Shooter     79.02\n",
       "1        Action     72.53\n",
       "2        Sports     46.13\n",
       "3  Role-Playing     33.47\n",
       "4          Misc     15.05"
      ]
     },
     "metadata": {},
     "output_type": "display_data"
    },
    {
     "data": {
      "text/html": [
       "<div>\n",
       "<style scoped>\n",
       "    .dataframe tbody tr th:only-of-type {\n",
       "        vertical-align: middle;\n",
       "    }\n",
       "\n",
       "    .dataframe tbody tr th {\n",
       "        vertical-align: top;\n",
       "    }\n",
       "\n",
       "    .dataframe thead th {\n",
       "        text-align: right;\n",
       "    }\n",
       "</style>\n",
       "<table border=\"1\" class=\"dataframe\">\n",
       "  <thead>\n",
       "    <tr style=\"text-align: right;\">\n",
       "      <th></th>\n",
       "      <th>rating</th>\n",
       "      <th>na_sales</th>\n",
       "    </tr>\n",
       "  </thead>\n",
       "  <tbody>\n",
       "    <tr>\n",
       "      <th>0</th>\n",
       "      <td>M</td>\n",
       "      <td>96.42</td>\n",
       "    </tr>\n",
       "    <tr>\n",
       "      <th>1</th>\n",
       "      <td>-1</td>\n",
       "      <td>64.72</td>\n",
       "    </tr>\n",
       "    <tr>\n",
       "      <th>2</th>\n",
       "      <td>E</td>\n",
       "      <td>50.74</td>\n",
       "    </tr>\n",
       "    <tr>\n",
       "      <th>3</th>\n",
       "      <td>T</td>\n",
       "      <td>38.95</td>\n",
       "    </tr>\n",
       "    <tr>\n",
       "      <th>4</th>\n",
       "      <td>E10+</td>\n",
       "      <td>33.23</td>\n",
       "    </tr>\n",
       "  </tbody>\n",
       "</table>\n",
       "</div>"
      ],
      "text/plain": [
       "  rating  na_sales\n",
       "0      M     96.42\n",
       "1     -1     64.72\n",
       "2      E     50.74\n",
       "3      T     38.95\n",
       "4   E10+     33.23"
      ]
     },
     "metadata": {},
     "output_type": "display_data"
    },
    {
     "data": {
      "image/png": "[encoded data removed]",
      "text/plain": [
       "<Figure size 1440x288 with 3 Axes>"
      ]
     },
     "metadata": {
      "needs_background": "light"
     },
     "output_type": "display_data"
    }
   ],
   "source": [
    "user_portrait_2016('na_sales','Топ 5 платформ,жанров и рейтинга для Северной Америки за последний год')\n",
    "# для Северной Америки за 2016 год"
   ]
  },
  {
   "cell_type": "markdown",
   "metadata": {},
   "source": [
    "Cамыми популярными платформами в Северной Америке являются PS4, XOne,X360, 3DS, PS3. Самыми популярными жанрами являются shooter,action,sports,role-playing,figting."
   ]
  },
  {
   "cell_type": "code",
   "execution_count": 52,
   "metadata": {},
   "outputs": [
    {
     "data": {
      "text/html": [
       "<div>\n",
       "<style scoped>\n",
       "    .dataframe tbody tr th:only-of-type {\n",
       "        vertical-align: middle;\n",
       "    }\n",
       "\n",
       "    .dataframe tbody tr th {\n",
       "        vertical-align: top;\n",
       "    }\n",
       "\n",
       "    .dataframe thead th {\n",
       "        text-align: right;\n",
       "    }\n",
       "</style>\n",
       "<table border=\"1\" class=\"dataframe\">\n",
       "  <thead>\n",
       "    <tr style=\"text-align: right;\">\n",
       "      <th></th>\n",
       "      <th>platform</th>\n",
       "      <th>eu_sales</th>\n",
       "    </tr>\n",
       "  </thead>\n",
       "  <tbody>\n",
       "    <tr>\n",
       "      <th>0</th>\n",
       "      <td>PS4</td>\n",
       "      <td>130.04</td>\n",
       "    </tr>\n",
       "    <tr>\n",
       "      <th>1</th>\n",
       "      <td>XOne</td>\n",
       "      <td>46.25</td>\n",
       "    </tr>\n",
       "    <tr>\n",
       "      <th>2</th>\n",
       "      <td>PS3</td>\n",
       "      <td>25.54</td>\n",
       "    </tr>\n",
       "    <tr>\n",
       "      <th>3</th>\n",
       "      <td>PC</td>\n",
       "      <td>17.97</td>\n",
       "    </tr>\n",
       "    <tr>\n",
       "      <th>4</th>\n",
       "      <td>3DS</td>\n",
       "      <td>16.12</td>\n",
       "    </tr>\n",
       "  </tbody>\n",
       "</table>\n",
       "</div>"
      ],
      "text/plain": [
       "  platform  eu_sales\n",
       "0      PS4    130.04\n",
       "1     XOne     46.25\n",
       "2      PS3     25.54\n",
       "3       PC     17.97\n",
       "4      3DS     16.12"
      ]
     },
     "metadata": {},
     "output_type": "display_data"
    },
    {
     "data": {
      "text/html": [
       "<div>\n",
       "<style scoped>\n",
       "    .dataframe tbody tr th:only-of-type {\n",
       "        vertical-align: middle;\n",
       "    }\n",
       "\n",
       "    .dataframe tbody tr th {\n",
       "        vertical-align: top;\n",
       "    }\n",
       "\n",
       "    .dataframe thead th {\n",
       "        text-align: right;\n",
       "    }\n",
       "</style>\n",
       "<table border=\"1\" class=\"dataframe\">\n",
       "  <thead>\n",
       "    <tr style=\"text-align: right;\">\n",
       "      <th></th>\n",
       "      <th>genre</th>\n",
       "      <th>eu_sales</th>\n",
       "    </tr>\n",
       "  </thead>\n",
       "  <tbody>\n",
       "    <tr>\n",
       "      <th>0</th>\n",
       "      <td>Action</td>\n",
       "      <td>74.68</td>\n",
       "    </tr>\n",
       "    <tr>\n",
       "      <th>1</th>\n",
       "      <td>Shooter</td>\n",
       "      <td>65.52</td>\n",
       "    </tr>\n",
       "    <tr>\n",
       "      <th>2</th>\n",
       "      <td>Sports</td>\n",
       "      <td>45.73</td>\n",
       "    </tr>\n",
       "    <tr>\n",
       "      <th>3</th>\n",
       "      <td>Role-Playing</td>\n",
       "      <td>28.17</td>\n",
       "    </tr>\n",
       "    <tr>\n",
       "      <th>4</th>\n",
       "      <td>Racing</td>\n",
       "      <td>14.13</td>\n",
       "    </tr>\n",
       "  </tbody>\n",
       "</table>\n",
       "</div>"
      ],
      "text/plain": [
       "          genre  eu_sales\n",
       "0        Action     74.68\n",
       "1       Shooter     65.52\n",
       "2        Sports     45.73\n",
       "3  Role-Playing     28.17\n",
       "4        Racing     14.13"
      ]
     },
     "metadata": {},
     "output_type": "display_data"
    },
    {
     "data": {
      "text/html": [
       "<div>\n",
       "<style scoped>\n",
       "    .dataframe tbody tr th:only-of-type {\n",
       "        vertical-align: middle;\n",
       "    }\n",
       "\n",
       "    .dataframe tbody tr th {\n",
       "        vertical-align: top;\n",
       "    }\n",
       "\n",
       "    .dataframe thead th {\n",
       "        text-align: right;\n",
       "    }\n",
       "</style>\n",
       "<table border=\"1\" class=\"dataframe\">\n",
       "  <thead>\n",
       "    <tr style=\"text-align: right;\">\n",
       "      <th></th>\n",
       "      <th>rating</th>\n",
       "      <th>eu_sales</th>\n",
       "    </tr>\n",
       "  </thead>\n",
       "  <tbody>\n",
       "    <tr>\n",
       "      <th>0</th>\n",
       "      <td>M</td>\n",
       "      <td>93.44</td>\n",
       "    </tr>\n",
       "    <tr>\n",
       "      <th>1</th>\n",
       "      <td>-1</td>\n",
       "      <td>58.95</td>\n",
       "    </tr>\n",
       "    <tr>\n",
       "      <th>2</th>\n",
       "      <td>E</td>\n",
       "      <td>58.06</td>\n",
       "    </tr>\n",
       "    <tr>\n",
       "      <th>3</th>\n",
       "      <td>T</td>\n",
       "      <td>34.07</td>\n",
       "    </tr>\n",
       "    <tr>\n",
       "      <th>4</th>\n",
       "      <td>E10+</td>\n",
       "      <td>26.16</td>\n",
       "    </tr>\n",
       "  </tbody>\n",
       "</table>\n",
       "</div>"
      ],
      "text/plain": [
       "  rating  eu_sales\n",
       "0      M     93.44\n",
       "1     -1     58.95\n",
       "2      E     58.06\n",
       "3      T     34.07\n",
       "4   E10+     26.16"
      ]
     },
     "metadata": {},
     "output_type": "display_data"
    },
    {
     "data": {
      "image/png": "[encoded data removed]",
      "text/plain": [
       "<Figure size 1440x288 with 3 Axes>"
      ]
     },
     "metadata": {
      "needs_background": "light"
     },
     "output_type": "display_data"
    }
   ],
   "source": [
    "user_portrait_2016('eu_sales','Топ 5 платформ, жанров и рейтинга для Европы за последний год')\n",
    "# для Европы за 2016 год"
   ]
  },
  {
   "cell_type": "markdown",
   "metadata": {},
   "source": [
    "Cамыми популярными платформами в Европе являются PS4, XOne,PS3, РС, 3DS. Самыми популярными жанрами являются action,shooter,sports,role-playing,racing."
   ]
  },
  {
   "cell_type": "code",
   "execution_count": 53,
   "metadata": {},
   "outputs": [
    {
     "data": {
      "text/html": [
       "<div>\n",
       "<style scoped>\n",
       "    .dataframe tbody tr th:only-of-type {\n",
       "        vertical-align: middle;\n",
       "    }\n",
       "\n",
       "    .dataframe tbody tr th {\n",
       "        vertical-align: top;\n",
       "    }\n",
       "\n",
       "    .dataframe thead th {\n",
       "        text-align: right;\n",
       "    }\n",
       "</style>\n",
       "<table border=\"1\" class=\"dataframe\">\n",
       "  <thead>\n",
       "    <tr style=\"text-align: right;\">\n",
       "      <th></th>\n",
       "      <th>platform</th>\n",
       "      <th>jp_sales</th>\n",
       "    </tr>\n",
       "  </thead>\n",
       "  <tbody>\n",
       "    <tr>\n",
       "      <th>0</th>\n",
       "      <td>3DS</td>\n",
       "      <td>44.24</td>\n",
       "    </tr>\n",
       "    <tr>\n",
       "      <th>1</th>\n",
       "      <td>PS4</td>\n",
       "      <td>15.02</td>\n",
       "    </tr>\n",
       "    <tr>\n",
       "      <th>2</th>\n",
       "      <td>PSV</td>\n",
       "      <td>14.54</td>\n",
       "    </tr>\n",
       "    <tr>\n",
       "      <th>3</th>\n",
       "      <td>PS3</td>\n",
       "      <td>11.22</td>\n",
       "    </tr>\n",
       "    <tr>\n",
       "      <th>4</th>\n",
       "      <td>WiiU</td>\n",
       "      <td>7.31</td>\n",
       "    </tr>\n",
       "  </tbody>\n",
       "</table>\n",
       "</div>"
      ],
      "text/plain": [
       "  platform  jp_sales\n",
       "0      3DS     44.24\n",
       "1      PS4     15.02\n",
       "2      PSV     14.54\n",
       "3      PS3     11.22\n",
       "4     WiiU      7.31"
      ]
     },
     "metadata": {},
     "output_type": "display_data"
    },
    {
     "data": {
      "text/html": [
       "<div>\n",
       "<style scoped>\n",
       "    .dataframe tbody tr th:only-of-type {\n",
       "        vertical-align: middle;\n",
       "    }\n",
       "\n",
       "    .dataframe tbody tr th {\n",
       "        vertical-align: top;\n",
       "    }\n",
       "\n",
       "    .dataframe thead th {\n",
       "        text-align: right;\n",
       "    }\n",
       "</style>\n",
       "<table border=\"1\" class=\"dataframe\">\n",
       "  <thead>\n",
       "    <tr style=\"text-align: right;\">\n",
       "      <th></th>\n",
       "      <th>genre</th>\n",
       "      <th>jp_sales</th>\n",
       "    </tr>\n",
       "  </thead>\n",
       "  <tbody>\n",
       "    <tr>\n",
       "      <th>0</th>\n",
       "      <td>Role-Playing</td>\n",
       "      <td>31.16</td>\n",
       "    </tr>\n",
       "    <tr>\n",
       "      <th>1</th>\n",
       "      <td>Action</td>\n",
       "      <td>29.58</td>\n",
       "    </tr>\n",
       "    <tr>\n",
       "      <th>2</th>\n",
       "      <td>Fighting</td>\n",
       "      <td>6.37</td>\n",
       "    </tr>\n",
       "    <tr>\n",
       "      <th>3</th>\n",
       "      <td>Misc</td>\n",
       "      <td>5.61</td>\n",
       "    </tr>\n",
       "    <tr>\n",
       "      <th>4</th>\n",
       "      <td>Shooter</td>\n",
       "      <td>4.87</td>\n",
       "    </tr>\n",
       "  </tbody>\n",
       "</table>\n",
       "</div>"
      ],
      "text/plain": [
       "          genre  jp_sales\n",
       "0  Role-Playing     31.16\n",
       "1        Action     29.58\n",
       "2      Fighting      6.37\n",
       "3          Misc      5.61\n",
       "4       Shooter      4.87"
      ]
     },
     "metadata": {},
     "output_type": "display_data"
    },
    {
     "data": {
      "text/html": [
       "<div>\n",
       "<style scoped>\n",
       "    .dataframe tbody tr th:only-of-type {\n",
       "        vertical-align: middle;\n",
       "    }\n",
       "\n",
       "    .dataframe tbody tr th {\n",
       "        vertical-align: top;\n",
       "    }\n",
       "\n",
       "    .dataframe thead th {\n",
       "        text-align: right;\n",
       "    }\n",
       "</style>\n",
       "<table border=\"1\" class=\"dataframe\">\n",
       "  <thead>\n",
       "    <tr style=\"text-align: right;\">\n",
       "      <th></th>\n",
       "      <th>rating</th>\n",
       "      <th>jp_sales</th>\n",
       "    </tr>\n",
       "  </thead>\n",
       "  <tbody>\n",
       "    <tr>\n",
       "      <th>0</th>\n",
       "      <td>-1</td>\n",
       "      <td>56.90</td>\n",
       "    </tr>\n",
       "    <tr>\n",
       "      <th>1</th>\n",
       "      <td>T</td>\n",
       "      <td>14.78</td>\n",
       "    </tr>\n",
       "    <tr>\n",
       "      <th>2</th>\n",
       "      <td>E</td>\n",
       "      <td>8.94</td>\n",
       "    </tr>\n",
       "    <tr>\n",
       "      <th>3</th>\n",
       "      <td>M</td>\n",
       "      <td>8.01</td>\n",
       "    </tr>\n",
       "    <tr>\n",
       "      <th>4</th>\n",
       "      <td>E10+</td>\n",
       "      <td>4.46</td>\n",
       "    </tr>\n",
       "  </tbody>\n",
       "</table>\n",
       "</div>"
      ],
      "text/plain": [
       "  rating  jp_sales\n",
       "0     -1     56.90\n",
       "1      T     14.78\n",
       "2      E      8.94\n",
       "3      M      8.01\n",
       "4   E10+      4.46"
      ]
     },
     "metadata": {},
     "output_type": "display_data"
    },
    {
     "data": {
      "image/png": "[encoded data removed]",
      "text/plain": [
       "<Figure size 1440x288 with 3 Axes>"
      ]
     },
     "metadata": {
      "needs_background": "light"
     },
     "output_type": "display_data"
    }
   ],
   "source": [
    "user_portrait_2016('jp_sales','Топ 5 платформ, жанров и рейтинга для Японии за последний год')\n",
    "# для Японии за 2016 год"
   ]
  },
  {
   "cell_type": "markdown",
   "metadata": {},
   "source": [
    "Cамыми популярными платформами в Японии являются 3DS,PS4,PSV,PS3, WiiU. Самыми популярными жанрами являются role-playing,action,fighting,misc,shooter. Именно платформы без рейтинга вырвались в лидеры."
   ]
  },
  {
   "cell_type": "markdown",
   "metadata": {},
   "source": [
    "**Влияет ли рейтинг ESRB на продажи в отдельном регионе?**"
   ]
  },
  {
   "cell_type": "code",
   "execution_count": 54,
   "metadata": {},
   "outputs": [
    {
     "data": {
      "text/html": [
       "<div>\n",
       "<style scoped>\n",
       "    .dataframe tbody tr th:only-of-type {\n",
       "        vertical-align: middle;\n",
       "    }\n",
       "\n",
       "    .dataframe tbody tr th {\n",
       "        vertical-align: top;\n",
       "    }\n",
       "\n",
       "    .dataframe thead th {\n",
       "        text-align: right;\n",
       "    }\n",
       "</style>\n",
       "<table border=\"1\" class=\"dataframe\">\n",
       "  <thead>\n",
       "    <tr style=\"text-align: right;\">\n",
       "      <th></th>\n",
       "      <th>na_sales</th>\n",
       "    </tr>\n",
       "    <tr>\n",
       "      <th>rating</th>\n",
       "      <th></th>\n",
       "    </tr>\n",
       "  </thead>\n",
       "  <tbody>\n",
       "    <tr>\n",
       "      <th>M</th>\n",
       "      <td>96.42</td>\n",
       "    </tr>\n",
       "    <tr>\n",
       "      <th>-1</th>\n",
       "      <td>64.72</td>\n",
       "    </tr>\n",
       "    <tr>\n",
       "      <th>E</th>\n",
       "      <td>50.74</td>\n",
       "    </tr>\n",
       "    <tr>\n",
       "      <th>T</th>\n",
       "      <td>38.95</td>\n",
       "    </tr>\n",
       "    <tr>\n",
       "      <th>E10+</th>\n",
       "      <td>33.23</td>\n",
       "    </tr>\n",
       "  </tbody>\n",
       "</table>\n",
       "</div>"
      ],
      "text/plain": [
       "        na_sales\n",
       "rating          \n",
       "M          96.42\n",
       "-1         64.72\n",
       "E          50.74\n",
       "T          38.95\n",
       "E10+       33.23"
      ]
     },
     "execution_count": 54,
     "metadata": {},
     "output_type": "execute_result"
    }
   ],
   "source": [
    "na_sales_esrb=df_selection.pivot_table(\n",
    "    index='rating',values=['na_sales'],aggfunc=('sum')\n",
    ").sort_values(by='na_sales',ascending=False)\n",
    "# создадим сводную таблицу для Северной Америки по рейтингу и продажам\n",
    "na_sales_esrb"
   ]
  },
  {
   "cell_type": "code",
   "execution_count": 55,
   "metadata": {},
   "outputs": [
    {
     "data": {
      "text/html": [
       "<div>\n",
       "<style scoped>\n",
       "    .dataframe tbody tr th:only-of-type {\n",
       "        vertical-align: middle;\n",
       "    }\n",
       "\n",
       "    .dataframe tbody tr th {\n",
       "        vertical-align: top;\n",
       "    }\n",
       "\n",
       "    .dataframe thead th {\n",
       "        text-align: right;\n",
       "    }\n",
       "</style>\n",
       "<table border=\"1\" class=\"dataframe\">\n",
       "  <thead>\n",
       "    <tr style=\"text-align: right;\">\n",
       "      <th></th>\n",
       "      <th>eu_sales</th>\n",
       "    </tr>\n",
       "    <tr>\n",
       "      <th>rating</th>\n",
       "      <th></th>\n",
       "    </tr>\n",
       "  </thead>\n",
       "  <tbody>\n",
       "    <tr>\n",
       "      <th>M</th>\n",
       "      <td>93.44</td>\n",
       "    </tr>\n",
       "    <tr>\n",
       "      <th>-1</th>\n",
       "      <td>58.95</td>\n",
       "    </tr>\n",
       "    <tr>\n",
       "      <th>E</th>\n",
       "      <td>58.06</td>\n",
       "    </tr>\n",
       "    <tr>\n",
       "      <th>T</th>\n",
       "      <td>34.07</td>\n",
       "    </tr>\n",
       "    <tr>\n",
       "      <th>E10+</th>\n",
       "      <td>26.16</td>\n",
       "    </tr>\n",
       "  </tbody>\n",
       "</table>\n",
       "</div>"
      ],
      "text/plain": [
       "        eu_sales\n",
       "rating          \n",
       "M          93.44\n",
       "-1         58.95\n",
       "E          58.06\n",
       "T          34.07\n",
       "E10+       26.16"
      ]
     },
     "execution_count": 55,
     "metadata": {},
     "output_type": "execute_result"
    }
   ],
   "source": [
    "eu_sales_esrb=df_selection.pivot_table(\n",
    "    index='rating',values=['eu_sales'],aggfunc=('sum')\n",
    ").sort_values(by='eu_sales',ascending=False)\n",
    "# создадим сводную таблицу для Европы по рейтингу и продажам\n",
    "eu_sales_esrb"
   ]
  },
  {
   "cell_type": "code",
   "execution_count": 56,
   "metadata": {},
   "outputs": [
    {
     "data": {
      "text/html": [
       "<div>\n",
       "<style scoped>\n",
       "    .dataframe tbody tr th:only-of-type {\n",
       "        vertical-align: middle;\n",
       "    }\n",
       "\n",
       "    .dataframe tbody tr th {\n",
       "        vertical-align: top;\n",
       "    }\n",
       "\n",
       "    .dataframe thead th {\n",
       "        text-align: right;\n",
       "    }\n",
       "</style>\n",
       "<table border=\"1\" class=\"dataframe\">\n",
       "  <thead>\n",
       "    <tr style=\"text-align: right;\">\n",
       "      <th></th>\n",
       "      <th>jp_sales</th>\n",
       "    </tr>\n",
       "    <tr>\n",
       "      <th>rating</th>\n",
       "      <th></th>\n",
       "    </tr>\n",
       "  </thead>\n",
       "  <tbody>\n",
       "    <tr>\n",
       "      <th>-1</th>\n",
       "      <td>56.54</td>\n",
       "    </tr>\n",
       "    <tr>\n",
       "      <th>T</th>\n",
       "      <td>14.78</td>\n",
       "    </tr>\n",
       "    <tr>\n",
       "      <th>E</th>\n",
       "      <td>8.94</td>\n",
       "    </tr>\n",
       "    <tr>\n",
       "      <th>M</th>\n",
       "      <td>8.01</td>\n",
       "    </tr>\n",
       "    <tr>\n",
       "      <th>E10+</th>\n",
       "      <td>4.46</td>\n",
       "    </tr>\n",
       "  </tbody>\n",
       "</table>\n",
       "</div>"
      ],
      "text/plain": [
       "        jp_sales\n",
       "rating          \n",
       "-1         56.54\n",
       "T          14.78\n",
       "E           8.94\n",
       "M           8.01\n",
       "E10+        4.46"
      ]
     },
     "execution_count": 56,
     "metadata": {},
     "output_type": "execute_result"
    }
   ],
   "source": [
    "jp_sales_esrb=df_selection.pivot_table(\n",
    "    index='rating',values=['jp_sales'],aggfunc=('sum')\n",
    ").sort_values(by='jp_sales',ascending=False)\n",
    "# создадим сводную таблицу для Японии по рейтингу и продажам\n",
    "jp_sales_esrb"
   ]
  },
  {
   "cell_type": "markdown",
   "metadata": {},
   "source": [
    "Здесь можно сделать вывод, что самыми продаваемыми играми являются с рейтингом М,Е,Т и так же игры без рейтинга."
   ]
  },
  {
   "cell_type": "markdown",
   "metadata": {},
   "source": [
    "Итак, можно сделать вывод, что предпочтения пользователей в Северной Америке и Европе популярны одни и те же платформы(PS4, XOne, 3DS, PS3) и жанры(shooter,action,sports,role-playing), только отличается расположением по местам.  В Японии ситуация другая, там популярны платформы - 3DS, PS4,PSV,PS3,Wii, а жанры - role-playing,action,fighting,misc,shooter. Хотя и там и там есть совпадения. Но что точно совпадает - так это то, что рейтинг наиболее популярных игр - М,Е,Т и игры без рейтинга."
   ]
  },
  {
   "cell_type": "markdown",
   "metadata": {},
   "source": [
    "## Проверка гипотез"
   ]
  },
  {
   "cell_type": "markdown",
   "metadata": {},
   "source": [
    "Гипотеза 1: средние пользовательские рейтинги платформ Xbox One и PC одинаковые\n",
    "\n",
    "Сформулируем нулевые гипотезы:\n",
    "\n",
    "Нулевая гипотеза H₀: Средние пользовательские рейтинги платформ XOne и PC одинаковые;\n",
    "\n",
    "Альтернативная гипотеза H₁: Средние пользовательские рейтинги платформ XOne и PC различаются"
   ]
  },
  {
   "cell_type": "code",
   "execution_count": 57,
   "metadata": {},
   "outputs": [],
   "source": [
    "# Сохраним в переменных xbox_hyp и pc_hyp соответствующие данные (актуальные данные за последние 10 лет)\n",
    "# xone_hyp = df_selection[(df_selection['platform']=='XOne')]\n",
    "# pc_hyp = df_selection[(df_selection['platform']=='PC')]\n",
    "xone_hyp = df[(df['platform']=='XOne') & (df['year_of_release']>=2014)]['user_score']\n",
    "pc_hyp = df[(df['platform']=='PC') & (df['year_of_release']>=2014)]['user_score']"
   ]
  },
  {
   "cell_type": "code",
   "execution_count": 58,
   "metadata": {},
   "outputs": [
    {
     "data": {
      "text/plain": [
       "6.594545454545454"
      ]
     },
     "execution_count": 58,
     "metadata": {},
     "output_type": "execute_result"
    }
   ],
   "source": [
    "#Посчитаем средний рейтинг пользователя для xbox платформ\n",
    "xone_hyp.mean()"
   ]
  },
  {
   "cell_type": "code",
   "execution_count": 59,
   "metadata": {},
   "outputs": [
    {
     "data": {
      "text/plain": [
       "6.298360655737704"
      ]
     },
     "execution_count": 59,
     "metadata": {},
     "output_type": "execute_result"
    }
   ],
   "source": [
    "#Посчитаем средний рейтинг пользователя для PC платформ\n",
    "pc_hyp.mean()"
   ]
  },
  {
   "cell_type": "code",
   "execution_count": 60,
   "metadata": {},
   "outputs": [
    {
     "data": {
      "text/plain": [
       "1.8910066518847009"
      ]
     },
     "execution_count": 60,
     "metadata": {},
     "output_type": "execute_result"
    }
   ],
   "source": [
    "# Произведем проверку дисперсии выборок\n",
    "np.var(df_selection[df_selection['platform']=='XOne']['user_score'], ddof=1)"
   ]
  },
  {
   "cell_type": "code",
   "execution_count": 61,
   "metadata": {},
   "outputs": [
    {
     "data": {
      "text/plain": [
       "2.901154315133451"
      ]
     },
     "execution_count": 61,
     "metadata": {},
     "output_type": "execute_result"
    }
   ],
   "source": [
    "# Произведем проверку дисперсии выборок\n",
    "np.var(df_selection[df_selection['platform']=='PC']['user_score'],ddof=1)"
   ]
  },
  {
   "cell_type": "code",
   "execution_count": 62,
   "metadata": {},
   "outputs": [
    {
     "name": "stdout",
     "output_type": "stream",
     "text": [
      "p-значение: 0.11601398086668827\n",
      "Не получилось отвергнуть нулевую гипотезу\n"
     ]
    }
   ],
   "source": [
    "#Выполним проверку гипотезы. Будем использовать метод ttest_ind\n",
    "\n",
    "alpha = .05\n",
    "\n",
    "results = st.ttest_ind(xone_hyp.dropna(), pc_hyp.dropna(), equal_var=False)\n",
    "\n",
    "print('p-значение:', results.pvalue)\n",
    "\n",
    "\n",
    "if (results.pvalue < alpha):\n",
    "    print(\"Отвергаем нулевую гипотезу\")\n",
    "else:\n",
    "    print(\"Не получилось отвергнуть нулевую гипотезу\")"
   ]
  },
  {
   "cell_type": "markdown",
   "metadata": {},
   "source": [
    "Гипотеза 2: Средние пользовательские рейтинги жанров Action (англ. «действие», экшен-игры) и Sports (англ. «спортивные соревнования») разные\n",
    "\n",
    "Сформулируем нулевые гипотезы:\n",
    "\n",
    "Нулевая гипотеза H₀: Средние пользовательские рейтинги жанров Action и Sports одинаковые.\n",
    "\n",
    "Альтернативная гипотеза H₁: Средние пользовательские рейтинги жанров Action и Sports различаются."
   ]
  },
  {
   "cell_type": "code",
   "execution_count": 63,
   "metadata": {},
   "outputs": [
    {
     "data": {
      "text/plain": [
       "6.760606060606061"
      ]
     },
     "metadata": {},
     "output_type": "display_data"
    },
    {
     "data": {
      "text/plain": [
       "5.225196850393701"
      ]
     },
     "metadata": {},
     "output_type": "display_data"
    },
    {
     "data": {
      "text/plain": [
       "2.026364874182172"
      ]
     },
     "metadata": {},
     "output_type": "display_data"
    },
    {
     "data": {
      "text/plain": [
       "2.620629303904546"
      ]
     },
     "metadata": {},
     "output_type": "display_data"
    }
   ],
   "source": [
    "# Сохраним в переменных genre_action_hyp и genre_sports_hyp соответствующие данные с пользовательскими оценками\n",
    "genre_action_hyp = df[(df['genre']=='Action') & (df['year_of_release']>=2014)]['user_score']\n",
    "genre_sports_hyp = df[(df['genre']=='Sports') & (df['year_of_release']>=2014)]['user_score']\n",
    "\n",
    "#выведем среднюю оценку по жанру экшн\n",
    "display(genre_action_hyp.mean())\n",
    "#выведем среднюю оценку по жанру спорт\n",
    "display(genre_sports_hyp.mean())\n",
    "# Произведем проверку дисперсии выборок\n",
    "display(np.var(df[df['genre']=='Action']['user_score']))\n",
    "display(np.var(df[df['genre']=='Sports']['user_score']))"
   ]
  },
  {
   "cell_type": "code",
   "execution_count": 64,
   "metadata": {},
   "outputs": [
    {
     "name": "stdout",
     "output_type": "stream",
     "text": [
      "p-значение: 1.1825550382644557e-14\n",
      "Отвергаем нулевую гипотезу\n"
     ]
    }
   ],
   "source": [
    "#Выполним проверку гипотезы. Будем использовать метод ttest_ind\n",
    "\n",
    "alpha = .05\n",
    "\n",
    "results = st.ttest_ind(genre_action_hyp.dropna(), genre_sports_hyp.dropna(), equal_var=False)\n",
    "\n",
    "print('p-значение:', results.pvalue)\n",
    "\n",
    "\n",
    "if (results.pvalue < alpha):\n",
    "    print(\"Отвергаем нулевую гипотезу\")\n",
    "else:\n",
    "    print(\"Не получилось отвергнуть нулевую гипотезу\")"
   ]
  },
  {
   "cell_type": "markdown",
   "metadata": {},
   "source": [
    "\n",
    "Для формулирования нулевой гипотезы использую функцию ttest_ind. Сравнивая среднее двух совокупностей и формулирование нулевой гипотезы, я эти совокупности приравниваю затем сравниваю со статистический значимостью.  Значение статистической значимости задам 5%. Соответственно для альтернативной гипотезы наши совокупности не равны.\n",
    "\n"
   ]
  },
  {
   "cell_type": "markdown",
   "metadata": {},
   "source": [
    "## Вывод"
   ]
  },
  {
   "cell_type": "markdown",
   "metadata": {},
   "source": [
    "Итак, в столбце year_of_release значения с 1980 по 2016 год. Подтвердилось мое предположение, что отсутствие значений в столбцах critic_score,rating и user_score связано с тем, что эти данные начали собирать относительно недавно( с 1996 года). Посчитала суммарные продажи для всех регионов и записала эти данные в отдельный столбец total_sales.\n",
    "\n",
    "Можно сказать, что начиная с середины девяностых шел ежегодный рост выпускаемых игр, и пик приходится на 2008 год, а после 2010 года идет резкое снижение количества игр, выпускаемых каждый год. По графику видно, что у 6 платформ самые большие продажи - это PS2, X360, PS3, Wii, DS, PS. Длительность жизни самых популярных платформ составляет 9-11 лет. В 2016 году осталось лишь 9 платформ(3DS,PC,PS3,PS4,PSV,Wii,WiiU,X360,XOne), причем у многих продажи стремятся к нулю, только PS4 до сих пор держится. Самые популярные платформы в промежуток времени с 2014 по 2016 год являются PS4 и ХOne. Все платформы показали падение по продажам. На продажи влияют оценки критиков больше чем оценки пользователей. Самые популярные жанры после 2014 года являются shooter и sports, а жанры с низкими продажами - strategy  и adventure.\n",
    "Предпочтения пользователей в Северной Америке и Европе очень схожи у них популярны одни и те же платформы(PS4, XOne,PS3, 3DS) и жанры(shooter,action,sports,role-playing), только отличается расположением по местам. В Японии ситуация другая, там популярны платформы - 3DS, PS4,PSV,PS3,Wii а жанры - role-playing,action,fighting,misc,shooter. Хотя и там и там есть совпадения. Но что точно совпадает - так это то, что рейтинг наиболее популярных игр - М,Е,Т  и игры без рейтинга.\n",
    "\n",
    "Для планированиярекламной кампании на 2017 года нужно учесть, что большую часть прибыли будут приносить игры жанра Shooter для платформы PS4. "
   ]
  }
 ],
 "metadata": {
  "ExecuteTimeLog": [
   {
    "duration": 5,
    "start_time": "2022-03-26T04:15:32.234Z"
   },
   {
    "duration": 1779,
    "start_time": "2022-03-26T04:17:49.092Z"
   },
   {
    "duration": 87,
    "start_time": "2022-03-26T04:18:45.346Z"
   },
   {
    "duration": 152,
    "start_time": "2022-03-26T04:29:49.199Z"
   },
   {
    "duration": 2003,
    "start_time": "2022-03-26T04:30:00.772Z"
   },
   {
    "duration": 116,
    "start_time": "2022-03-26T04:30:02.779Z"
   },
   {
    "duration": 21,
    "start_time": "2022-03-26T04:30:02.898Z"
   },
   {
    "duration": 51,
    "start_time": "2022-03-26T04:30:02.921Z"
   },
   {
    "duration": 19,
    "start_time": "2022-03-26T04:30:02.975Z"
   },
   {
    "duration": 11,
    "start_time": "2022-03-26T04:30:02.996Z"
   },
   {
    "duration": 37,
    "start_time": "2022-03-26T04:30:03.008Z"
   },
   {
    "duration": 12,
    "start_time": "2022-03-26T04:30:03.048Z"
   },
   {
    "duration": 16,
    "start_time": "2022-03-26T04:30:03.062Z"
   },
   {
    "duration": 29,
    "start_time": "2022-03-26T04:30:03.080Z"
   },
   {
    "duration": 40,
    "start_time": "2022-03-26T04:30:03.111Z"
   },
   {
    "duration": 16,
    "start_time": "2022-03-26T04:30:03.154Z"
   },
   {
    "duration": 26,
    "start_time": "2022-03-26T04:30:03.173Z"
   },
   {
    "duration": 50,
    "start_time": "2022-03-26T04:30:03.203Z"
   },
   {
    "duration": 21,
    "start_time": "2022-03-26T04:30:03.255Z"
   },
   {
    "duration": 16,
    "start_time": "2022-03-26T04:30:03.278Z"
   },
   {
    "duration": 49,
    "start_time": "2022-03-26T04:30:03.296Z"
   },
   {
    "duration": 27,
    "start_time": "2022-03-26T04:30:03.347Z"
   },
   {
    "duration": 1511,
    "start_time": "2022-03-26T04:49:55.743Z"
   },
   {
    "duration": 79,
    "start_time": "2022-03-26T04:49:57.257Z"
   },
   {
    "duration": 22,
    "start_time": "2022-03-26T04:49:57.338Z"
   },
   {
    "duration": 39,
    "start_time": "2022-03-26T04:49:57.364Z"
   },
   {
    "duration": 54,
    "start_time": "2022-03-26T04:49:57.405Z"
   },
   {
    "duration": 9,
    "start_time": "2022-03-26T04:49:57.462Z"
   },
   {
    "duration": 11,
    "start_time": "2022-03-26T04:49:57.474Z"
   },
   {
    "duration": 11,
    "start_time": "2022-03-26T04:49:57.488Z"
   },
   {
    "duration": 55,
    "start_time": "2022-03-26T04:49:57.502Z"
   },
   {
    "duration": 29,
    "start_time": "2022-03-26T04:49:57.561Z"
   },
   {
    "duration": 9,
    "start_time": "2022-03-26T04:49:57.592Z"
   },
   {
    "duration": 51,
    "start_time": "2022-03-26T04:49:57.603Z"
   },
   {
    "duration": 30,
    "start_time": "2022-03-26T04:49:57.656Z"
   },
   {
    "duration": 17,
    "start_time": "2022-03-26T04:49:57.689Z"
   },
   {
    "duration": 62,
    "start_time": "2022-03-26T04:49:57.708Z"
   },
   {
    "duration": 16,
    "start_time": "2022-03-26T04:49:57.773Z"
   },
   {
    "duration": 18,
    "start_time": "2022-03-26T04:49:57.792Z"
   },
   {
    "duration": 24,
    "start_time": "2022-03-26T04:49:57.844Z"
   },
   {
    "duration": 29,
    "start_time": "2022-03-26T04:49:57.870Z"
   },
   {
    "duration": 55,
    "start_time": "2022-03-26T04:49:57.901Z"
   },
   {
    "duration": 23,
    "start_time": "2022-03-26T04:49:57.959Z"
   },
   {
    "duration": 296,
    "start_time": "2022-03-26T04:49:57.984Z"
   },
   {
    "duration": 715,
    "start_time": "2022-03-26T04:49:58.283Z"
   },
   {
    "duration": 452,
    "start_time": "2022-03-26T04:49:59.001Z"
   },
   {
    "duration": 450,
    "start_time": "2022-03-26T04:49:59.456Z"
   },
   {
    "duration": 318,
    "start_time": "2022-03-26T04:49:59.908Z"
   },
   {
    "duration": 316,
    "start_time": "2022-03-26T04:50:00.229Z"
   },
   {
    "duration": 318,
    "start_time": "2022-03-26T04:50:00.550Z"
   },
   {
    "duration": 397,
    "start_time": "2022-03-26T04:50:00.871Z"
   },
   {
    "duration": 284,
    "start_time": "2022-03-26T04:50:01.271Z"
   },
   {
    "duration": 39,
    "start_time": "2022-03-26T04:50:01.557Z"
   },
   {
    "duration": 279,
    "start_time": "2022-03-26T04:50:01.598Z"
   },
   {
    "duration": 22,
    "start_time": "2022-03-26T04:50:01.880Z"
   },
   {
    "duration": 203,
    "start_time": "2022-03-26T04:50:01.904Z"
   },
   {
    "duration": 191,
    "start_time": "2022-03-26T04:50:02.109Z"
   },
   {
    "duration": 195,
    "start_time": "2022-03-26T04:50:02.302Z"
   },
   {
    "duration": 1863,
    "start_time": "2022-03-26T15:57:22.546Z"
   },
   {
    "duration": 79,
    "start_time": "2022-03-26T15:57:24.411Z"
   },
   {
    "duration": 22,
    "start_time": "2022-03-26T15:57:24.492Z"
   },
   {
    "duration": 60,
    "start_time": "2022-03-26T15:57:24.516Z"
   },
   {
    "duration": 28,
    "start_time": "2022-03-26T15:57:24.580Z"
   },
   {
    "duration": 10,
    "start_time": "2022-03-26T15:57:24.610Z"
   },
   {
    "duration": 18,
    "start_time": "2022-03-26T15:57:24.623Z"
   },
   {
    "duration": 10,
    "start_time": "2022-03-26T15:57:24.674Z"
   },
   {
    "duration": 16,
    "start_time": "2022-03-26T15:57:24.686Z"
   },
   {
    "duration": 30,
    "start_time": "2022-03-26T15:57:24.704Z"
   },
   {
    "duration": 43,
    "start_time": "2022-03-26T15:57:24.737Z"
   },
   {
    "duration": 16,
    "start_time": "2022-03-26T15:57:24.783Z"
   },
   {
    "duration": 25,
    "start_time": "2022-03-26T15:57:24.801Z"
   },
   {
    "duration": 55,
    "start_time": "2022-03-26T15:57:24.832Z"
   },
   {
    "duration": 22,
    "start_time": "2022-03-26T15:57:24.889Z"
   },
   {
    "duration": 15,
    "start_time": "2022-03-26T15:57:24.914Z"
   },
   {
    "duration": 47,
    "start_time": "2022-03-26T15:57:24.931Z"
   },
   {
    "duration": 24,
    "start_time": "2022-03-26T15:57:24.980Z"
   },
   {
    "duration": 29,
    "start_time": "2022-03-26T15:57:25.006Z"
   },
   {
    "duration": 61,
    "start_time": "2022-03-26T15:57:25.037Z"
   },
   {
    "duration": 22,
    "start_time": "2022-03-26T15:57:25.102Z"
   },
   {
    "duration": 284,
    "start_time": "2022-03-26T15:57:25.127Z"
   },
   {
    "duration": 502,
    "start_time": "2022-03-26T15:57:25.413Z"
   },
   {
    "duration": 319,
    "start_time": "2022-03-26T15:57:25.917Z"
   },
   {
    "duration": 325,
    "start_time": "2022-03-26T15:57:26.238Z"
   },
   {
    "duration": 310,
    "start_time": "2022-03-26T15:57:26.566Z"
   },
   {
    "duration": 319,
    "start_time": "2022-03-26T15:57:26.879Z"
   },
   {
    "duration": 313,
    "start_time": "2022-03-26T15:57:27.200Z"
   },
   {
    "duration": 372,
    "start_time": "2022-03-26T15:57:27.515Z"
   },
   {
    "duration": 267,
    "start_time": "2022-03-26T15:57:27.890Z"
   },
   {
    "duration": 42,
    "start_time": "2022-03-26T15:57:28.160Z"
   },
   {
    "duration": 259,
    "start_time": "2022-03-26T15:57:28.204Z"
   },
   {
    "duration": 22,
    "start_time": "2022-03-26T15:57:28.474Z"
   },
   {
    "duration": 192,
    "start_time": "2022-03-26T15:57:28.498Z"
   },
   {
    "duration": 185,
    "start_time": "2022-03-26T15:57:28.692Z"
   },
   {
    "duration": 190,
    "start_time": "2022-03-26T15:57:28.879Z"
   },
   {
    "duration": 498,
    "start_time": "2022-03-26T16:21:48.260Z"
   },
   {
    "duration": 38,
    "start_time": "2022-03-26T16:31:30.607Z"
   },
   {
    "duration": 46,
    "start_time": "2022-03-26T16:31:59.151Z"
   },
   {
    "duration": 1247,
    "start_time": "2022-03-27T03:12:43.393Z"
   },
   {
    "duration": 57,
    "start_time": "2022-03-27T03:12:44.643Z"
   },
   {
    "duration": 14,
    "start_time": "2022-03-27T03:12:44.702Z"
   },
   {
    "duration": 35,
    "start_time": "2022-03-27T03:12:44.718Z"
   },
   {
    "duration": 14,
    "start_time": "2022-03-27T03:12:44.754Z"
   },
   {
    "duration": 6,
    "start_time": "2022-03-27T03:12:44.769Z"
   },
   {
    "duration": 8,
    "start_time": "2022-03-27T03:12:44.777Z"
   },
   {
    "duration": 7,
    "start_time": "2022-03-27T03:12:44.786Z"
   },
   {
    "duration": 40,
    "start_time": "2022-03-27T03:12:44.794Z"
   },
   {
    "duration": 15,
    "start_time": "2022-03-27T03:12:44.836Z"
   },
   {
    "duration": 8,
    "start_time": "2022-03-27T03:12:44.853Z"
   },
   {
    "duration": 9,
    "start_time": "2022-03-27T03:12:44.863Z"
   },
   {
    "duration": 16,
    "start_time": "2022-03-27T03:12:44.874Z"
   },
   {
    "duration": 9,
    "start_time": "2022-03-27T03:12:44.891Z"
   },
   {
    "duration": 43,
    "start_time": "2022-03-27T03:12:44.902Z"
   },
   {
    "duration": 10,
    "start_time": "2022-03-27T03:12:44.946Z"
   },
   {
    "duration": 9,
    "start_time": "2022-03-27T03:12:44.958Z"
   },
   {
    "duration": 18,
    "start_time": "2022-03-27T03:12:44.969Z"
   },
   {
    "duration": 48,
    "start_time": "2022-03-27T03:12:44.988Z"
   },
   {
    "duration": 18,
    "start_time": "2022-03-27T03:12:45.037Z"
   },
   {
    "duration": 15,
    "start_time": "2022-03-27T03:12:45.057Z"
   },
   {
    "duration": 175,
    "start_time": "2022-03-27T03:12:45.074Z"
   },
   {
    "duration": 268,
    "start_time": "2022-03-27T03:12:45.250Z"
   },
   {
    "duration": 183,
    "start_time": "2022-03-27T03:12:45.519Z"
   },
   {
    "duration": 180,
    "start_time": "2022-03-27T03:12:45.704Z"
   },
   {
    "duration": 179,
    "start_time": "2022-03-27T03:12:45.885Z"
   },
   {
    "duration": 170,
    "start_time": "2022-03-27T03:12:46.066Z"
   },
   {
    "duration": 170,
    "start_time": "2022-03-27T03:12:46.239Z"
   },
   {
    "duration": 244,
    "start_time": "2022-03-27T03:12:46.411Z"
   },
   {
    "duration": 149,
    "start_time": "2022-03-27T03:12:46.656Z"
   },
   {
    "duration": 27,
    "start_time": "2022-03-27T03:12:46.807Z"
   },
   {
    "duration": 143,
    "start_time": "2022-03-27T03:12:46.836Z"
   },
   {
    "duration": 15,
    "start_time": "2022-03-27T03:12:46.981Z"
   },
   {
    "duration": 113,
    "start_time": "2022-03-27T03:12:46.998Z"
   },
   {
    "duration": 106,
    "start_time": "2022-03-27T03:12:47.113Z"
   },
   {
    "duration": 118,
    "start_time": "2022-03-27T03:12:47.220Z"
   },
   {
    "duration": 5,
    "start_time": "2022-03-27T03:21:41.690Z"
   },
   {
    "duration": 151,
    "start_time": "2022-03-27T03:22:29.614Z"
   },
   {
    "duration": 4,
    "start_time": "2022-03-27T03:24:58.724Z"
   },
   {
    "duration": 145,
    "start_time": "2022-03-27T03:25:43.943Z"
   },
   {
    "duration": 149,
    "start_time": "2022-03-27T04:25:45.864Z"
   },
   {
    "duration": 163,
    "start_time": "2022-03-27T04:26:11.309Z"
   },
   {
    "duration": 107,
    "start_time": "2022-03-27T04:32:15.009Z"
   },
   {
    "duration": 5,
    "start_time": "2022-03-27T04:33:17.993Z"
   },
   {
    "duration": 112,
    "start_time": "2022-03-27T04:36:09.178Z"
   },
   {
    "duration": 12,
    "start_time": "2022-03-27T04:36:16.811Z"
   },
   {
    "duration": 11,
    "start_time": "2022-03-27T04:36:28.399Z"
   },
   {
    "duration": 20,
    "start_time": "2022-03-27T04:36:41.604Z"
   },
   {
    "duration": 12,
    "start_time": "2022-03-27T04:45:17.629Z"
   },
   {
    "duration": 11,
    "start_time": "2022-03-27T04:45:35.414Z"
   },
   {
    "duration": 12,
    "start_time": "2022-03-27T04:46:14.133Z"
   },
   {
    "duration": 11,
    "start_time": "2022-03-27T04:46:59.271Z"
   },
   {
    "duration": 15,
    "start_time": "2022-03-27T04:48:59.191Z"
   },
   {
    "duration": 17,
    "start_time": "2022-03-27T04:50:47.060Z"
   },
   {
    "duration": 27,
    "start_time": "2022-03-27T04:58:33.348Z"
   },
   {
    "duration": 16,
    "start_time": "2022-03-27T04:59:27.910Z"
   },
   {
    "duration": 11,
    "start_time": "2022-03-27T04:59:53.868Z"
   },
   {
    "duration": 5,
    "start_time": "2022-03-27T05:00:15.043Z"
   },
   {
    "duration": 4,
    "start_time": "2022-03-27T05:00:57.642Z"
   },
   {
    "duration": 1227,
    "start_time": "2022-03-27T05:01:09.114Z"
   },
   {
    "duration": 59,
    "start_time": "2022-03-27T05:01:10.343Z"
   },
   {
    "duration": 13,
    "start_time": "2022-03-27T05:01:10.404Z"
   },
   {
    "duration": 35,
    "start_time": "2022-03-27T05:01:10.419Z"
   },
   {
    "duration": 13,
    "start_time": "2022-03-27T05:01:10.457Z"
   },
   {
    "duration": 9,
    "start_time": "2022-03-27T05:01:10.472Z"
   },
   {
    "duration": 12,
    "start_time": "2022-03-27T05:01:10.482Z"
   },
   {
    "duration": 9,
    "start_time": "2022-03-27T05:01:10.495Z"
   },
   {
    "duration": 32,
    "start_time": "2022-03-27T05:01:10.505Z"
   },
   {
    "duration": 16,
    "start_time": "2022-03-27T05:01:10.539Z"
   },
   {
    "duration": 10,
    "start_time": "2022-03-27T05:01:10.557Z"
   },
   {
    "duration": 11,
    "start_time": "2022-03-27T05:01:10.568Z"
   },
   {
    "duration": 17,
    "start_time": "2022-03-27T05:01:10.581Z"
   },
   {
    "duration": 40,
    "start_time": "2022-03-27T05:01:10.601Z"
   },
   {
    "duration": 16,
    "start_time": "2022-03-27T05:01:10.643Z"
   },
   {
    "duration": 15,
    "start_time": "2022-03-27T05:01:10.661Z"
   },
   {
    "duration": 10,
    "start_time": "2022-03-27T05:01:10.677Z"
   },
   {
    "duration": 19,
    "start_time": "2022-03-27T05:01:10.689Z"
   },
   {
    "duration": 41,
    "start_time": "2022-03-27T05:01:10.710Z"
   },
   {
    "duration": 18,
    "start_time": "2022-03-27T05:01:10.753Z"
   },
   {
    "duration": 16,
    "start_time": "2022-03-27T05:01:10.773Z"
   },
   {
    "duration": 183,
    "start_time": "2022-03-27T05:01:10.791Z"
   },
   {
    "duration": 284,
    "start_time": "2022-03-27T05:01:10.976Z"
   },
   {
    "duration": 195,
    "start_time": "2022-03-27T05:01:11.262Z"
   },
   {
    "duration": 187,
    "start_time": "2022-03-27T05:01:11.459Z"
   },
   {
    "duration": 188,
    "start_time": "2022-03-27T05:01:11.648Z"
   },
   {
    "duration": 175,
    "start_time": "2022-03-27T05:01:11.838Z"
   },
   {
    "duration": 183,
    "start_time": "2022-03-27T05:01:12.015Z"
   },
   {
    "duration": 251,
    "start_time": "2022-03-27T05:01:12.199Z"
   },
   {
    "duration": 152,
    "start_time": "2022-03-27T05:01:12.452Z"
   },
   {
    "duration": 33,
    "start_time": "2022-03-27T05:01:12.606Z"
   },
   {
    "duration": 151,
    "start_time": "2022-03-27T05:01:12.640Z"
   },
   {
    "duration": 19,
    "start_time": "2022-03-27T05:01:12.793Z"
   },
   {
    "duration": 137,
    "start_time": "2022-03-27T05:01:12.813Z"
   },
   {
    "duration": 121,
    "start_time": "2022-03-27T05:01:12.952Z"
   },
   {
    "duration": 113,
    "start_time": "2022-03-27T05:01:13.076Z"
   },
   {
    "duration": 6,
    "start_time": "2022-03-27T05:01:13.191Z"
   },
   {
    "duration": 176,
    "start_time": "2022-03-27T05:01:13.199Z"
   },
   {
    "duration": 6,
    "start_time": "2022-03-27T05:01:13.377Z"
   },
   {
    "duration": 176,
    "start_time": "2022-03-27T05:01:13.385Z"
   },
   {
    "duration": 12,
    "start_time": "2022-03-27T05:01:13.566Z"
   },
   {
    "duration": 5,
    "start_time": "2022-03-27T05:01:13.580Z"
   },
   {
    "duration": 4,
    "start_time": "2022-03-27T05:01:44.540Z"
   },
   {
    "duration": 17,
    "start_time": "2022-03-27T05:02:15.934Z"
   },
   {
    "duration": 4,
    "start_time": "2022-03-27T05:02:38.995Z"
   },
   {
    "duration": 20,
    "start_time": "2022-03-27T05:02:45.751Z"
   },
   {
    "duration": 108,
    "start_time": "2022-03-27T05:03:16.676Z"
   },
   {
    "duration": 24,
    "start_time": "2022-03-27T05:03:32.465Z"
   },
   {
    "duration": 4,
    "start_time": "2022-03-27T05:03:59.619Z"
   },
   {
    "duration": 19,
    "start_time": "2022-03-27T05:04:38.591Z"
   },
   {
    "duration": 12,
    "start_time": "2022-03-27T05:05:58.619Z"
   },
   {
    "duration": 1679,
    "start_time": "2022-03-27T05:07:42.640Z"
   },
   {
    "duration": 3,
    "start_time": "2022-03-27T05:11:04.993Z"
   },
   {
    "duration": 4,
    "start_time": "2022-03-27T05:12:18.821Z"
   },
   {
    "duration": 136,
    "start_time": "2022-03-27T05:13:34.995Z"
   },
   {
    "duration": 14,
    "start_time": "2022-03-27T05:13:43.153Z"
   },
   {
    "duration": 14,
    "start_time": "2022-03-27T05:13:46.419Z"
   },
   {
    "duration": 4,
    "start_time": "2022-03-27T05:14:25.405Z"
   },
   {
    "duration": 4,
    "start_time": "2022-03-27T05:14:35.133Z"
   },
   {
    "duration": 10,
    "start_time": "2022-03-27T05:14:42.796Z"
   },
   {
    "duration": 8,
    "start_time": "2022-03-27T05:15:11.750Z"
   },
   {
    "duration": 9,
    "start_time": "2022-03-27T05:15:48.790Z"
   },
   {
    "duration": 5,
    "start_time": "2022-03-27T05:21:32.128Z"
   },
   {
    "duration": 6,
    "start_time": "2022-03-27T05:21:53.558Z"
   },
   {
    "duration": 5,
    "start_time": "2022-03-27T05:22:28.736Z"
   },
   {
    "duration": 6,
    "start_time": "2022-03-27T05:23:22.217Z"
   },
   {
    "duration": 7,
    "start_time": "2022-03-27T05:23:36.013Z"
   },
   {
    "duration": 7,
    "start_time": "2022-03-27T05:23:45.074Z"
   },
   {
    "duration": 15,
    "start_time": "2022-03-27T05:29:48.982Z"
   },
   {
    "duration": 121,
    "start_time": "2022-03-27T05:30:04.850Z"
   },
   {
    "duration": 150,
    "start_time": "2022-03-27T05:30:34.909Z"
   },
   {
    "duration": 158,
    "start_time": "2022-03-27T05:31:44.113Z"
   },
   {
    "duration": 1741,
    "start_time": "2022-03-27T05:33:45.336Z"
   },
   {
    "duration": 1867,
    "start_time": "2022-03-27T05:34:11.494Z"
   },
   {
    "duration": 160,
    "start_time": "2022-03-27T05:34:28.850Z"
   },
   {
    "duration": 23,
    "start_time": "2022-03-27T05:40:17.727Z"
   },
   {
    "duration": 12,
    "start_time": "2022-03-27T06:01:32.480Z"
   },
   {
    "duration": 20,
    "start_time": "2022-03-27T06:01:51.699Z"
   },
   {
    "duration": 16,
    "start_time": "2022-03-27T06:02:05.865Z"
   },
   {
    "duration": 17,
    "start_time": "2022-03-27T06:02:52.744Z"
   },
   {
    "duration": 1971,
    "start_time": "2022-03-27T11:25:01.547Z"
   },
   {
    "duration": 80,
    "start_time": "2022-03-27T11:25:03.521Z"
   },
   {
    "duration": 22,
    "start_time": "2022-03-27T11:25:03.603Z"
   },
   {
    "duration": 57,
    "start_time": "2022-03-27T11:25:03.627Z"
   },
   {
    "duration": 22,
    "start_time": "2022-03-27T11:25:03.689Z"
   },
   {
    "duration": 10,
    "start_time": "2022-03-27T11:25:03.713Z"
   },
   {
    "duration": 49,
    "start_time": "2022-03-27T11:25:03.725Z"
   },
   {
    "duration": 10,
    "start_time": "2022-03-27T11:25:03.776Z"
   },
   {
    "duration": 16,
    "start_time": "2022-03-27T11:25:03.788Z"
   },
   {
    "duration": 29,
    "start_time": "2022-03-27T11:25:03.806Z"
   },
   {
    "duration": 46,
    "start_time": "2022-03-27T11:25:03.837Z"
   },
   {
    "duration": 15,
    "start_time": "2022-03-27T11:25:03.885Z"
   },
   {
    "duration": 23,
    "start_time": "2022-03-27T11:25:03.904Z"
   },
   {
    "duration": 45,
    "start_time": "2022-03-27T11:25:03.931Z"
   },
   {
    "duration": 28,
    "start_time": "2022-03-27T11:25:03.979Z"
   },
   {
    "duration": 31,
    "start_time": "2022-03-27T11:25:04.011Z"
   },
   {
    "duration": 21,
    "start_time": "2022-03-27T11:25:04.044Z"
   },
   {
    "duration": 34,
    "start_time": "2022-03-27T11:25:04.068Z"
   },
   {
    "duration": 31,
    "start_time": "2022-03-27T11:25:04.105Z"
   },
   {
    "duration": 55,
    "start_time": "2022-03-27T11:25:04.138Z"
   },
   {
    "duration": 26,
    "start_time": "2022-03-27T11:25:04.196Z"
   },
   {
    "duration": 292,
    "start_time": "2022-03-27T11:25:04.225Z"
   },
   {
    "duration": 512,
    "start_time": "2022-03-27T11:25:04.520Z"
   },
   {
    "duration": 342,
    "start_time": "2022-03-27T11:25:05.035Z"
   },
   {
    "duration": 322,
    "start_time": "2022-03-27T11:25:05.380Z"
   },
   {
    "duration": 325,
    "start_time": "2022-03-27T11:25:05.705Z"
   },
   {
    "duration": 329,
    "start_time": "2022-03-27T11:25:06.032Z"
   },
   {
    "duration": 413,
    "start_time": "2022-03-27T11:25:06.363Z"
   },
   {
    "duration": 313,
    "start_time": "2022-03-27T11:25:06.778Z"
   },
   {
    "duration": 291,
    "start_time": "2022-03-27T11:25:07.094Z"
   },
   {
    "duration": 55,
    "start_time": "2022-03-27T11:25:07.388Z"
   },
   {
    "duration": 393,
    "start_time": "2022-03-27T11:25:07.447Z"
   },
   {
    "duration": 38,
    "start_time": "2022-03-27T11:25:07.843Z"
   },
   {
    "duration": 213,
    "start_time": "2022-03-27T11:25:07.883Z"
   },
   {
    "duration": 200,
    "start_time": "2022-03-27T11:25:08.099Z"
   },
   {
    "duration": 202,
    "start_time": "2022-03-27T11:25:08.302Z"
   },
   {
    "duration": 8,
    "start_time": "2022-03-27T11:25:08.507Z"
   },
   {
    "duration": 421,
    "start_time": "2022-03-27T11:25:08.518Z"
   },
   {
    "duration": 9,
    "start_time": "2022-03-27T11:25:08.942Z"
   },
   {
    "duration": 338,
    "start_time": "2022-03-27T11:25:08.975Z"
   },
   {
    "duration": 9,
    "start_time": "2022-03-27T11:25:09.319Z"
   },
   {
    "duration": 10,
    "start_time": "2022-03-27T11:25:09.330Z"
   },
   {
    "duration": 360,
    "start_time": "2022-03-27T11:25:09.342Z"
   },
   {
    "duration": 35,
    "start_time": "2022-03-27T11:25:09.705Z"
   },
   {
    "duration": 54,
    "start_time": "2022-03-27T11:25:09.743Z"
   },
   {
    "duration": 32,
    "start_time": "2022-03-27T11:26:11.701Z"
   },
   {
    "duration": 208,
    "start_time": "2022-03-27T11:26:38.146Z"
   },
   {
    "duration": 23,
    "start_time": "2022-03-27T11:26:47.645Z"
   },
   {
    "duration": 172,
    "start_time": "2022-03-27T11:37:09.677Z"
   },
   {
    "duration": 7,
    "start_time": "2022-03-27T11:38:05.296Z"
   },
   {
    "duration": 7,
    "start_time": "2022-03-27T11:39:16.748Z"
   },
   {
    "duration": 6,
    "start_time": "2022-03-27T11:39:20.499Z"
   },
   {
    "duration": 16,
    "start_time": "2022-03-27T11:39:56.317Z"
   },
   {
    "duration": 15,
    "start_time": "2022-03-27T11:41:06.734Z"
   },
   {
    "duration": 34,
    "start_time": "2022-03-27T11:43:19.931Z"
   },
   {
    "duration": 16,
    "start_time": "2022-03-27T11:44:53.011Z"
   },
   {
    "duration": 24,
    "start_time": "2022-03-27T11:44:59.391Z"
   },
   {
    "duration": 37,
    "start_time": "2022-03-27T11:49:52.869Z"
   },
   {
    "duration": 161,
    "start_time": "2022-03-27T11:52:45.310Z"
   },
   {
    "duration": 36,
    "start_time": "2022-03-27T11:52:59.300Z"
   },
   {
    "duration": 39,
    "start_time": "2022-03-27T11:53:31.588Z"
   },
   {
    "duration": 27,
    "start_time": "2022-03-27T11:53:42.234Z"
   },
   {
    "duration": 25,
    "start_time": "2022-03-27T11:54:14.112Z"
   },
   {
    "duration": 27,
    "start_time": "2022-03-27T11:55:14.239Z"
   },
   {
    "duration": 27,
    "start_time": "2022-03-27T11:55:43.380Z"
   },
   {
    "duration": 7,
    "start_time": "2022-03-27T12:01:53.814Z"
   },
   {
    "duration": 833,
    "start_time": "2022-03-27T12:02:09.631Z"
   },
   {
    "duration": 2436,
    "start_time": "2022-03-27T12:04:39.493Z"
   },
   {
    "duration": 1310,
    "start_time": "2022-03-27T12:06:00.703Z"
   },
   {
    "duration": 2022,
    "start_time": "2022-03-27T12:07:20.941Z"
   },
   {
    "duration": 25,
    "start_time": "2022-03-27T12:12:14.825Z"
   },
   {
    "duration": 26,
    "start_time": "2022-03-27T12:13:08.116Z"
   },
   {
    "duration": 28,
    "start_time": "2022-03-27T12:13:49.058Z"
   },
   {
    "duration": 36,
    "start_time": "2022-03-27T12:13:51.434Z"
   },
   {
    "duration": 303,
    "start_time": "2022-03-27T12:22:17.841Z"
   },
   {
    "duration": 1457,
    "start_time": "2022-03-27T13:00:40.200Z"
   },
   {
    "duration": 69,
    "start_time": "2022-03-27T13:00:41.659Z"
   },
   {
    "duration": 15,
    "start_time": "2022-03-27T13:00:41.730Z"
   },
   {
    "duration": 29,
    "start_time": "2022-03-27T13:00:41.747Z"
   },
   {
    "duration": 40,
    "start_time": "2022-03-27T13:00:41.777Z"
   },
   {
    "duration": 11,
    "start_time": "2022-03-27T13:00:41.820Z"
   },
   {
    "duration": 11,
    "start_time": "2022-03-27T13:00:41.832Z"
   },
   {
    "duration": 8,
    "start_time": "2022-03-27T13:00:41.845Z"
   },
   {
    "duration": 11,
    "start_time": "2022-03-27T13:00:41.854Z"
   },
   {
    "duration": 58,
    "start_time": "2022-03-27T13:00:41.868Z"
   },
   {
    "duration": 9,
    "start_time": "2022-03-27T13:00:41.928Z"
   },
   {
    "duration": 12,
    "start_time": "2022-03-27T13:00:41.938Z"
   },
   {
    "duration": 18,
    "start_time": "2022-03-27T13:00:41.951Z"
   },
   {
    "duration": 52,
    "start_time": "2022-03-27T13:00:41.971Z"
   },
   {
    "duration": 17,
    "start_time": "2022-03-27T13:00:42.025Z"
   },
   {
    "duration": 8,
    "start_time": "2022-03-27T13:00:42.044Z"
   },
   {
    "duration": 13,
    "start_time": "2022-03-27T13:00:42.053Z"
   },
   {
    "duration": 46,
    "start_time": "2022-03-27T13:00:42.068Z"
   },
   {
    "duration": 31,
    "start_time": "2022-03-27T13:00:42.117Z"
   },
   {
    "duration": 20,
    "start_time": "2022-03-27T13:00:42.150Z"
   },
   {
    "duration": 15,
    "start_time": "2022-03-27T13:00:42.171Z"
   },
   {
    "duration": 190,
    "start_time": "2022-03-27T13:00:42.209Z"
   },
   {
    "duration": 350,
    "start_time": "2022-03-27T13:00:42.401Z"
   },
   {
    "duration": 222,
    "start_time": "2022-03-27T13:00:42.752Z"
   },
   {
    "duration": 232,
    "start_time": "2022-03-27T13:00:42.975Z"
   },
   {
    "duration": 235,
    "start_time": "2022-03-27T13:00:43.210Z"
   },
   {
    "duration": 218,
    "start_time": "2022-03-27T13:00:43.446Z"
   },
   {
    "duration": 235,
    "start_time": "2022-03-27T13:00:43.668Z"
   },
   {
    "duration": 284,
    "start_time": "2022-03-27T13:00:43.908Z"
   },
   {
    "duration": 185,
    "start_time": "2022-03-27T13:00:44.194Z"
   },
   {
    "duration": 43,
    "start_time": "2022-03-27T13:00:44.380Z"
   },
   {
    "duration": 198,
    "start_time": "2022-03-27T13:00:44.425Z"
   },
   {
    "duration": 21,
    "start_time": "2022-03-27T13:00:44.625Z"
   },
   {
    "duration": 144,
    "start_time": "2022-03-27T13:00:44.648Z"
   },
   {
    "duration": 160,
    "start_time": "2022-03-27T13:00:44.794Z"
   },
   {
    "duration": 134,
    "start_time": "2022-03-27T13:00:44.956Z"
   },
   {
    "duration": 6,
    "start_time": "2022-03-27T13:00:45.092Z"
   },
   {
    "duration": 199,
    "start_time": "2022-03-27T13:00:45.108Z"
   },
   {
    "duration": 10,
    "start_time": "2022-03-27T13:00:45.310Z"
   },
   {
    "duration": 243,
    "start_time": "2022-03-27T13:00:45.324Z"
   },
   {
    "duration": 10,
    "start_time": "2022-03-27T13:00:45.569Z"
   },
   {
    "duration": 9,
    "start_time": "2022-03-27T13:00:45.582Z"
   },
   {
    "duration": 216,
    "start_time": "2022-03-27T13:00:45.612Z"
   },
   {
    "duration": 34,
    "start_time": "2022-03-27T13:00:45.831Z"
   },
   {
    "duration": 21,
    "start_time": "2022-03-27T13:00:45.866Z"
   },
   {
    "duration": 30,
    "start_time": "2022-03-27T13:00:45.911Z"
   },
   {
    "duration": 1051,
    "start_time": "2022-03-27T13:00:45.943Z"
   },
   {
    "duration": 953,
    "start_time": "2022-03-27T13:00:46.995Z"
   },
   {
    "duration": 990,
    "start_time": "2022-03-27T13:00:47.950Z"
   },
   {
    "duration": 15,
    "start_time": "2022-03-27T13:01:03.887Z"
   },
   {
    "duration": 15,
    "start_time": "2022-03-27T13:01:34.229Z"
   },
   {
    "duration": 15,
    "start_time": "2022-03-27T13:03:13.078Z"
   },
   {
    "duration": 7,
    "start_time": "2022-03-27T13:03:14.014Z"
   },
   {
    "duration": 3,
    "start_time": "2022-03-27T13:03:14.922Z"
   },
   {
    "duration": 1025,
    "start_time": "2022-03-27T13:03:15.701Z"
   },
   {
    "duration": 1321,
    "start_time": "2022-03-27T13:03:16.730Z"
   },
   {
    "duration": 1021,
    "start_time": "2022-03-27T13:03:18.055Z"
   },
   {
    "duration": 7,
    "start_time": "2022-03-27T13:15:47.528Z"
   },
   {
    "duration": 848,
    "start_time": "2022-03-27T13:15:48.425Z"
   },
   {
    "duration": 872,
    "start_time": "2022-03-27T13:16:23.993Z"
   },
   {
    "duration": 931,
    "start_time": "2022-03-27T13:19:44.844Z"
   },
   {
    "duration": 797,
    "start_time": "2022-03-27T13:19:52.153Z"
   },
   {
    "duration": 7,
    "start_time": "2022-03-27T13:24:43.913Z"
   },
   {
    "duration": 837,
    "start_time": "2022-03-27T13:24:48.424Z"
   },
   {
    "duration": 949,
    "start_time": "2022-03-27T13:25:16.042Z"
   },
   {
    "duration": 803,
    "start_time": "2022-03-27T13:25:32.981Z"
   },
   {
    "duration": 23,
    "start_time": "2022-03-27T13:42:09.515Z"
   },
   {
    "duration": 19,
    "start_time": "2022-03-27T13:42:35.953Z"
   },
   {
    "duration": 4,
    "start_time": "2022-03-27T14:14:01.195Z"
   },
   {
    "duration": 24,
    "start_time": "2022-03-27T14:14:08.200Z"
   },
   {
    "duration": 4,
    "start_time": "2022-03-27T14:15:04.115Z"
   },
   {
    "duration": 884,
    "start_time": "2022-03-27T14:17:56.171Z"
   },
   {
    "duration": 955,
    "start_time": "2022-03-27T14:18:19.220Z"
   },
   {
    "duration": 1342,
    "start_time": "2022-03-27T16:20:26.878Z"
   },
   {
    "duration": 57,
    "start_time": "2022-03-27T16:20:28.222Z"
   },
   {
    "duration": 16,
    "start_time": "2022-03-27T16:20:28.281Z"
   },
   {
    "duration": 31,
    "start_time": "2022-03-27T16:20:28.309Z"
   },
   {
    "duration": 15,
    "start_time": "2022-03-27T16:20:28.342Z"
   },
   {
    "duration": 10,
    "start_time": "2022-03-27T16:20:28.359Z"
   },
   {
    "duration": 8,
    "start_time": "2022-03-27T16:20:28.372Z"
   },
   {
    "duration": 34,
    "start_time": "2022-03-27T16:20:28.381Z"
   },
   {
    "duration": 12,
    "start_time": "2022-03-27T16:20:28.417Z"
   },
   {
    "duration": 18,
    "start_time": "2022-03-27T16:20:28.433Z"
   },
   {
    "duration": 7,
    "start_time": "2022-03-27T16:20:28.453Z"
   },
   {
    "duration": 53,
    "start_time": "2022-03-27T16:20:28.462Z"
   },
   {
    "duration": 18,
    "start_time": "2022-03-27T16:20:28.517Z"
   },
   {
    "duration": 10,
    "start_time": "2022-03-27T16:20:28.536Z"
   },
   {
    "duration": 12,
    "start_time": "2022-03-27T16:20:28.548Z"
   },
   {
    "duration": 10,
    "start_time": "2022-03-27T16:20:28.562Z"
   },
   {
    "duration": 36,
    "start_time": "2022-03-27T16:20:28.574Z"
   },
   {
    "duration": 20,
    "start_time": "2022-03-27T16:20:28.611Z"
   },
   {
    "duration": 20,
    "start_time": "2022-03-27T16:20:28.632Z"
   },
   {
    "duration": 19,
    "start_time": "2022-03-27T16:20:28.654Z"
   },
   {
    "duration": 48,
    "start_time": "2022-03-27T16:20:28.675Z"
   },
   {
    "duration": 183,
    "start_time": "2022-03-27T16:20:28.725Z"
   },
   {
    "duration": 321,
    "start_time": "2022-03-27T16:20:28.910Z"
   },
   {
    "duration": 203,
    "start_time": "2022-03-27T16:20:29.232Z"
   },
   {
    "duration": 212,
    "start_time": "2022-03-27T16:20:29.436Z"
   },
   {
    "duration": 206,
    "start_time": "2022-03-27T16:20:29.649Z"
   },
   {
    "duration": 196,
    "start_time": "2022-03-27T16:20:29.857Z"
   },
   {
    "duration": 200,
    "start_time": "2022-03-27T16:20:30.056Z"
   },
   {
    "duration": 259,
    "start_time": "2022-03-27T16:20:30.257Z"
   },
   {
    "duration": 158,
    "start_time": "2022-03-27T16:20:30.517Z"
   },
   {
    "duration": 35,
    "start_time": "2022-03-27T16:20:30.676Z"
   },
   {
    "duration": 172,
    "start_time": "2022-03-27T16:20:30.713Z"
   },
   {
    "duration": 24,
    "start_time": "2022-03-27T16:20:30.887Z"
   },
   {
    "duration": 115,
    "start_time": "2022-03-27T16:20:30.913Z"
   },
   {
    "duration": 118,
    "start_time": "2022-03-27T16:20:31.029Z"
   },
   {
    "duration": 119,
    "start_time": "2022-03-27T16:20:31.149Z"
   },
   {
    "duration": 5,
    "start_time": "2022-03-27T16:20:31.269Z"
   },
   {
    "duration": 178,
    "start_time": "2022-03-27T16:20:31.276Z"
   },
   {
    "duration": 6,
    "start_time": "2022-03-27T16:20:31.456Z"
   },
   {
    "duration": 182,
    "start_time": "2022-03-27T16:20:31.464Z"
   },
   {
    "duration": 9,
    "start_time": "2022-03-27T16:20:31.648Z"
   },
   {
    "duration": 8,
    "start_time": "2022-03-27T16:20:31.658Z"
   },
   {
    "duration": 212,
    "start_time": "2022-03-27T16:20:31.668Z"
   },
   {
    "duration": 105,
    "start_time": "2022-03-27T16:20:36.909Z"
   },
   {
    "duration": 17,
    "start_time": "2022-03-27T16:21:00.571Z"
   },
   {
    "duration": 222,
    "start_time": "2022-03-27T16:27:51.589Z"
   },
   {
    "duration": 20,
    "start_time": "2022-03-27T16:30:00.163Z"
   },
   {
    "duration": 17,
    "start_time": "2022-03-27T16:30:11.264Z"
   },
   {
    "duration": 1181,
    "start_time": "2022-03-27T16:31:49.855Z"
   },
   {
    "duration": 17,
    "start_time": "2022-03-27T16:32:00.485Z"
   },
   {
    "duration": 17,
    "start_time": "2022-03-27T16:33:36.592Z"
   },
   {
    "duration": 91,
    "start_time": "2022-03-27T16:35:36.546Z"
   },
   {
    "duration": 17,
    "start_time": "2022-03-27T16:35:44.188Z"
   },
   {
    "duration": 16,
    "start_time": "2022-03-27T16:36:09.269Z"
   },
   {
    "duration": 18,
    "start_time": "2022-03-27T16:39:18.433Z"
   },
   {
    "duration": 16,
    "start_time": "2022-03-27T16:40:34.573Z"
   },
   {
    "duration": 15,
    "start_time": "2022-03-27T16:40:37.623Z"
   },
   {
    "duration": 5,
    "start_time": "2022-03-27T16:46:36.073Z"
   },
   {
    "duration": 448,
    "start_time": "2022-03-27T16:47:05.918Z"
   },
   {
    "duration": 398,
    "start_time": "2022-03-27T16:49:18.451Z"
   },
   {
    "duration": 365,
    "start_time": "2022-03-27T16:49:58.453Z"
   },
   {
    "duration": 397,
    "start_time": "2022-03-27T16:50:07.828Z"
   },
   {
    "duration": 384,
    "start_time": "2022-03-27T16:50:21.262Z"
   },
   {
    "duration": 14,
    "start_time": "2022-03-27T16:54:31.206Z"
   },
   {
    "duration": 14,
    "start_time": "2022-03-27T16:55:20.597Z"
   },
   {
    "duration": 16,
    "start_time": "2022-03-27T16:56:02.533Z"
   },
   {
    "duration": 14,
    "start_time": "2022-03-27T16:56:36.677Z"
   },
   {
    "duration": 15,
    "start_time": "2022-03-27T17:04:26.895Z"
   },
   {
    "duration": 18,
    "start_time": "2022-03-27T17:05:01.729Z"
   },
   {
    "duration": 18,
    "start_time": "2022-03-27T17:05:27.459Z"
   },
   {
    "duration": 11,
    "start_time": "2022-03-27T17:05:51.144Z"
   },
   {
    "duration": 3,
    "start_time": "2022-03-27T17:06:36.470Z"
   },
   {
    "duration": 3,
    "start_time": "2022-03-27T17:07:08.640Z"
   },
   {
    "duration": 6,
    "start_time": "2022-03-27T17:07:14.911Z"
   },
   {
    "duration": 19,
    "start_time": "2022-03-27T17:10:00.440Z"
   },
   {
    "duration": 18,
    "start_time": "2022-03-27T17:10:32.489Z"
   },
   {
    "duration": 1231,
    "start_time": "2022-03-27T17:11:04.281Z"
   },
   {
    "duration": 55,
    "start_time": "2022-03-27T17:11:05.514Z"
   },
   {
    "duration": 14,
    "start_time": "2022-03-27T17:11:05.571Z"
   },
   {
    "duration": 42,
    "start_time": "2022-03-27T17:11:05.587Z"
   },
   {
    "duration": 14,
    "start_time": "2022-03-27T17:11:05.631Z"
   },
   {
    "duration": 7,
    "start_time": "2022-03-27T17:11:05.646Z"
   },
   {
    "duration": 11,
    "start_time": "2022-03-27T17:11:05.654Z"
   },
   {
    "duration": 9,
    "start_time": "2022-03-27T17:11:05.667Z"
   },
   {
    "duration": 36,
    "start_time": "2022-03-27T17:11:05.678Z"
   },
   {
    "duration": 21,
    "start_time": "2022-03-27T17:11:05.717Z"
   },
   {
    "duration": 10,
    "start_time": "2022-03-27T17:11:05.739Z"
   },
   {
    "duration": 11,
    "start_time": "2022-03-27T17:11:05.750Z"
   },
   {
    "duration": 16,
    "start_time": "2022-03-27T17:11:05.763Z"
   },
   {
    "duration": 32,
    "start_time": "2022-03-27T17:11:05.781Z"
   },
   {
    "duration": 15,
    "start_time": "2022-03-27T17:11:05.814Z"
   },
   {
    "duration": 9,
    "start_time": "2022-03-27T17:11:05.830Z"
   },
   {
    "duration": 11,
    "start_time": "2022-03-27T17:11:05.840Z"
   },
   {
    "duration": 19,
    "start_time": "2022-03-27T17:11:05.852Z"
   },
   {
    "duration": 55,
    "start_time": "2022-03-27T17:11:05.872Z"
   },
   {
    "duration": 18,
    "start_time": "2022-03-27T17:11:05.929Z"
   },
   {
    "duration": 16,
    "start_time": "2022-03-27T17:11:05.949Z"
   },
   {
    "duration": 195,
    "start_time": "2022-03-27T17:11:05.967Z"
   },
   {
    "duration": 322,
    "start_time": "2022-03-27T17:11:06.164Z"
   },
   {
    "duration": 203,
    "start_time": "2022-03-27T17:11:06.488Z"
   },
   {
    "duration": 205,
    "start_time": "2022-03-27T17:11:06.693Z"
   },
   {
    "duration": 189,
    "start_time": "2022-03-27T17:11:06.900Z"
   },
   {
    "duration": 199,
    "start_time": "2022-03-27T17:11:07.091Z"
   },
   {
    "duration": 188,
    "start_time": "2022-03-27T17:11:07.293Z"
   },
   {
    "duration": 267,
    "start_time": "2022-03-27T17:11:07.483Z"
   },
   {
    "duration": 164,
    "start_time": "2022-03-27T17:11:07.752Z"
   },
   {
    "duration": 26,
    "start_time": "2022-03-27T17:11:07.918Z"
   },
   {
    "duration": 180,
    "start_time": "2022-03-27T17:11:07.946Z"
   },
   {
    "duration": 16,
    "start_time": "2022-03-27T17:11:08.128Z"
   },
   {
    "duration": 132,
    "start_time": "2022-03-27T17:11:08.146Z"
   },
   {
    "duration": 117,
    "start_time": "2022-03-27T17:11:08.279Z"
   },
   {
    "duration": 124,
    "start_time": "2022-03-27T17:11:08.397Z"
   },
   {
    "duration": 5,
    "start_time": "2022-03-27T17:11:08.523Z"
   },
   {
    "duration": 189,
    "start_time": "2022-03-27T17:11:08.529Z"
   },
   {
    "duration": 5,
    "start_time": "2022-03-27T17:11:08.720Z"
   },
   {
    "duration": 184,
    "start_time": "2022-03-27T17:11:08.727Z"
   },
   {
    "duration": 7,
    "start_time": "2022-03-27T17:11:08.912Z"
   },
   {
    "duration": 6,
    "start_time": "2022-03-27T17:11:08.921Z"
   },
   {
    "duration": 197,
    "start_time": "2022-03-27T17:11:08.929Z"
   },
   {
    "duration": 16,
    "start_time": "2022-03-27T17:11:09.128Z"
   },
   {
    "duration": 16,
    "start_time": "2022-03-27T17:11:09.146Z"
   },
   {
    "duration": 17,
    "start_time": "2022-03-27T17:11:09.164Z"
   },
   {
    "duration": 30,
    "start_time": "2022-03-27T17:11:09.182Z"
   },
   {
    "duration": 399,
    "start_time": "2022-03-27T17:11:09.214Z"
   },
   {
    "duration": 482,
    "start_time": "2022-03-27T17:11:09.615Z"
   },
   {
    "duration": 384,
    "start_time": "2022-03-27T17:11:10.099Z"
   },
   {
    "duration": 15,
    "start_time": "2022-03-27T17:11:10.484Z"
   },
   {
    "duration": 14,
    "start_time": "2022-03-27T17:11:10.509Z"
   },
   {
    "duration": 15,
    "start_time": "2022-03-27T17:11:10.524Z"
   },
   {
    "duration": 18,
    "start_time": "2022-03-27T17:11:10.541Z"
   },
   {
    "duration": 5,
    "start_time": "2022-03-27T17:11:10.561Z"
   },
   {
    "duration": 52,
    "start_time": "2022-03-27T17:11:10.567Z"
   },
   {
    "duration": 10,
    "start_time": "2022-03-27T17:11:10.621Z"
   },
   {
    "duration": 13,
    "start_time": "2022-03-27T17:11:57.851Z"
   },
   {
    "duration": 4,
    "start_time": "2022-03-27T17:13:22.369Z"
   },
   {
    "duration": 5,
    "start_time": "2022-03-27T17:13:56.328Z"
   },
   {
    "duration": 19,
    "start_time": "2022-03-27T17:14:34.396Z"
   },
   {
    "duration": 20,
    "start_time": "2022-03-27T17:14:42.720Z"
   },
   {
    "duration": 6,
    "start_time": "2022-03-27T17:14:58.124Z"
   },
   {
    "duration": 5,
    "start_time": "2022-03-27T17:23:54.217Z"
   },
   {
    "duration": 352,
    "start_time": "2022-03-27T17:23:59.784Z"
   },
   {
    "duration": 400,
    "start_time": "2022-03-27T17:24:04.727Z"
   },
   {
    "duration": 398,
    "start_time": "2022-03-27T17:24:09.512Z"
   },
   {
    "duration": 15,
    "start_time": "2022-03-27T17:24:14.759Z"
   },
   {
    "duration": 441,
    "start_time": "2022-03-27T17:24:53.102Z"
   },
   {
    "duration": 333,
    "start_time": "2022-03-27T17:28:58.737Z"
   },
   {
    "duration": 1222,
    "start_time": "2022-03-27T18:00:53.606Z"
   },
   {
    "duration": 61,
    "start_time": "2022-03-27T18:00:54.831Z"
   },
   {
    "duration": 20,
    "start_time": "2022-03-27T18:00:54.894Z"
   },
   {
    "duration": 32,
    "start_time": "2022-03-27T18:00:54.916Z"
   },
   {
    "duration": 16,
    "start_time": "2022-03-27T18:00:54.949Z"
   },
   {
    "duration": 7,
    "start_time": "2022-03-27T18:00:54.967Z"
   },
   {
    "duration": 34,
    "start_time": "2022-03-27T18:00:54.976Z"
   },
   {
    "duration": 8,
    "start_time": "2022-03-27T18:00:55.012Z"
   },
   {
    "duration": 13,
    "start_time": "2022-03-27T18:00:55.022Z"
   },
   {
    "duration": 18,
    "start_time": "2022-03-27T18:00:55.038Z"
   },
   {
    "duration": 10,
    "start_time": "2022-03-27T18:00:55.057Z"
   },
   {
    "duration": 40,
    "start_time": "2022-03-27T18:00:55.069Z"
   },
   {
    "duration": 18,
    "start_time": "2022-03-27T18:00:55.111Z"
   },
   {
    "duration": 9,
    "start_time": "2022-03-27T18:00:55.130Z"
   },
   {
    "duration": 15,
    "start_time": "2022-03-27T18:00:55.140Z"
   },
   {
    "duration": 10,
    "start_time": "2022-03-27T18:00:55.157Z"
   },
   {
    "duration": 41,
    "start_time": "2022-03-27T18:00:55.168Z"
   },
   {
    "duration": 18,
    "start_time": "2022-03-27T18:00:55.211Z"
   },
   {
    "duration": 19,
    "start_time": "2022-03-27T18:00:55.230Z"
   },
   {
    "duration": 18,
    "start_time": "2022-03-27T18:00:55.251Z"
   },
   {
    "duration": 46,
    "start_time": "2022-03-27T18:00:55.271Z"
   },
   {
    "duration": 184,
    "start_time": "2022-03-27T18:00:55.319Z"
   },
   {
    "duration": 317,
    "start_time": "2022-03-27T18:00:55.508Z"
   },
   {
    "duration": 218,
    "start_time": "2022-03-27T18:00:55.827Z"
   },
   {
    "duration": 216,
    "start_time": "2022-03-27T18:00:56.046Z"
   },
   {
    "duration": 217,
    "start_time": "2022-03-27T18:00:56.264Z"
   },
   {
    "duration": 209,
    "start_time": "2022-03-27T18:00:56.483Z"
   },
   {
    "duration": 206,
    "start_time": "2022-03-27T18:00:56.696Z"
   },
   {
    "duration": 275,
    "start_time": "2022-03-27T18:00:56.908Z"
   },
   {
    "duration": 173,
    "start_time": "2022-03-27T18:00:57.185Z"
   },
   {
    "duration": 28,
    "start_time": "2022-03-27T18:00:57.360Z"
   },
   {
    "duration": 185,
    "start_time": "2022-03-27T18:00:57.389Z"
   },
   {
    "duration": 15,
    "start_time": "2022-03-27T18:00:57.575Z"
   },
   {
    "duration": 136,
    "start_time": "2022-03-27T18:00:57.592Z"
   },
   {
    "duration": 128,
    "start_time": "2022-03-27T18:00:57.729Z"
   },
   {
    "duration": 128,
    "start_time": "2022-03-27T18:00:57.859Z"
   },
   {
    "duration": 5,
    "start_time": "2022-03-27T18:00:57.989Z"
   },
   {
    "duration": 194,
    "start_time": "2022-03-27T18:00:57.995Z"
   },
   {
    "duration": 5,
    "start_time": "2022-03-27T18:00:58.191Z"
   },
   {
    "duration": 196,
    "start_time": "2022-03-27T18:00:58.197Z"
   },
   {
    "duration": 15,
    "start_time": "2022-03-27T18:00:58.395Z"
   },
   {
    "duration": 8,
    "start_time": "2022-03-27T18:00:58.413Z"
   },
   {
    "duration": 220,
    "start_time": "2022-03-27T18:00:58.424Z"
   },
   {
    "duration": 18,
    "start_time": "2022-03-27T18:00:58.645Z"
   },
   {
    "duration": 17,
    "start_time": "2022-03-27T18:00:58.665Z"
   },
   {
    "duration": 35,
    "start_time": "2022-03-27T18:00:58.683Z"
   },
   {
    "duration": 5,
    "start_time": "2022-03-27T18:00:58.719Z"
   },
   {
    "duration": 384,
    "start_time": "2022-03-27T18:00:58.726Z"
   },
   {
    "duration": 483,
    "start_time": "2022-03-27T18:00:59.112Z"
   },
   {
    "duration": 373,
    "start_time": "2022-03-27T18:00:59.597Z"
   },
   {
    "duration": 14,
    "start_time": "2022-03-27T18:00:59.971Z"
   },
   {
    "duration": 34,
    "start_time": "2022-03-27T18:00:59.987Z"
   },
   {
    "duration": 24,
    "start_time": "2022-03-27T18:01:00.023Z"
   },
   {
    "duration": 19,
    "start_time": "2022-03-27T18:01:00.049Z"
   },
   {
    "duration": 8,
    "start_time": "2022-03-27T18:01:00.071Z"
   },
   {
    "duration": 50,
    "start_time": "2022-03-27T18:01:00.080Z"
   },
   {
    "duration": 7,
    "start_time": "2022-03-27T18:01:00.131Z"
   },
   {
    "duration": 5,
    "start_time": "2022-03-27T18:02:57.765Z"
   },
   {
    "duration": 6,
    "start_time": "2022-03-27T18:03:04.961Z"
   },
   {
    "duration": 6,
    "start_time": "2022-03-27T18:04:26.254Z"
   },
   {
    "duration": 383,
    "start_time": "2022-03-27T18:04:34.958Z"
   },
   {
    "duration": 387,
    "start_time": "2022-03-27T18:05:01.187Z"
   },
   {
    "duration": 392,
    "start_time": "2022-03-27T18:05:11.623Z"
   },
   {
    "duration": 387,
    "start_time": "2022-03-27T18:05:30.865Z"
   },
   {
    "duration": 505,
    "start_time": "2022-03-27T18:05:56.572Z"
   },
   {
    "duration": 16,
    "start_time": "2022-03-27T18:06:08.888Z"
   },
   {
    "duration": 2016,
    "start_time": "2022-04-07T09:20:18.303Z"
   },
   {
    "duration": 93,
    "start_time": "2022-04-07T09:20:20.322Z"
   },
   {
    "duration": 26,
    "start_time": "2022-04-07T09:20:20.417Z"
   },
   {
    "duration": 41,
    "start_time": "2022-04-07T09:20:20.446Z"
   },
   {
    "duration": 21,
    "start_time": "2022-04-07T09:20:20.490Z"
   },
   {
    "duration": 39,
    "start_time": "2022-04-07T09:20:20.513Z"
   },
   {
    "duration": 11,
    "start_time": "2022-04-07T09:20:20.554Z"
   },
   {
    "duration": 26,
    "start_time": "2022-04-07T09:20:20.568Z"
   },
   {
    "duration": 55,
    "start_time": "2022-04-07T09:20:20.597Z"
   },
   {
    "duration": 42,
    "start_time": "2022-04-07T09:20:20.658Z"
   },
   {
    "duration": 9,
    "start_time": "2022-04-07T09:20:20.702Z"
   },
   {
    "duration": 44,
    "start_time": "2022-04-07T09:20:20.713Z"
   },
   {
    "duration": 25,
    "start_time": "2022-04-07T09:20:20.759Z"
   },
   {
    "duration": 13,
    "start_time": "2022-04-07T09:20:20.786Z"
   },
   {
    "duration": 62,
    "start_time": "2022-04-07T09:20:20.802Z"
   },
   {
    "duration": 22,
    "start_time": "2022-04-07T09:20:20.866Z"
   },
   {
    "duration": 14,
    "start_time": "2022-04-07T09:20:20.890Z"
   },
   {
    "duration": 60,
    "start_time": "2022-04-07T09:20:20.906Z"
   },
   {
    "duration": 28,
    "start_time": "2022-04-07T09:20:20.969Z"
   },
   {
    "duration": 55,
    "start_time": "2022-04-07T09:20:21.000Z"
   },
   {
    "duration": 24,
    "start_time": "2022-04-07T09:20:21.057Z"
   },
   {
    "duration": 295,
    "start_time": "2022-04-07T09:20:21.084Z"
   },
   {
    "duration": 500,
    "start_time": "2022-04-07T09:20:21.382Z"
   },
   {
    "duration": 324,
    "start_time": "2022-04-07T09:20:21.884Z"
   },
   {
    "duration": 456,
    "start_time": "2022-04-07T09:20:22.212Z"
   },
   {
    "duration": 311,
    "start_time": "2022-04-07T09:20:22.672Z"
   },
   {
    "duration": 313,
    "start_time": "2022-04-07T09:20:22.986Z"
   },
   {
    "duration": 305,
    "start_time": "2022-04-07T09:20:23.305Z"
   },
   {
    "duration": 388,
    "start_time": "2022-04-07T09:20:23.612Z"
   },
   {
    "duration": 367,
    "start_time": "2022-04-07T09:20:24.003Z"
   },
   {
    "duration": 46,
    "start_time": "2022-04-07T09:20:24.372Z"
   },
   {
    "duration": 363,
    "start_time": "2022-04-07T09:20:24.421Z"
   },
   {
    "duration": 25,
    "start_time": "2022-04-07T09:20:24.787Z"
   },
   {
    "duration": 231,
    "start_time": "2022-04-07T09:20:24.814Z"
   },
   {
    "duration": 208,
    "start_time": "2022-04-07T09:20:25.048Z"
   },
   {
    "duration": 204,
    "start_time": "2022-04-07T09:20:25.259Z"
   },
   {
    "duration": 8,
    "start_time": "2022-04-07T09:20:25.466Z"
   },
   {
    "duration": 314,
    "start_time": "2022-04-07T09:20:25.477Z"
   },
   {
    "duration": 7,
    "start_time": "2022-04-07T09:20:25.794Z"
   },
   {
    "duration": 422,
    "start_time": "2022-04-07T09:20:25.804Z"
   },
   {
    "duration": 22,
    "start_time": "2022-04-07T09:20:26.228Z"
   },
   {
    "duration": 12,
    "start_time": "2022-04-07T09:20:26.252Z"
   },
   {
    "duration": 305,
    "start_time": "2022-04-07T09:20:26.266Z"
   },
   {
    "duration": 25,
    "start_time": "2022-04-07T09:20:26.573Z"
   },
   {
    "duration": 51,
    "start_time": "2022-04-07T09:20:26.600Z"
   },
   {
    "duration": 36,
    "start_time": "2022-04-07T09:20:26.654Z"
   },
   {
    "duration": 10,
    "start_time": "2022-04-07T09:20:26.693Z"
   },
   {
    "duration": 838,
    "start_time": "2022-04-07T09:20:26.705Z"
   },
   {
    "duration": 957,
    "start_time": "2022-04-07T09:20:27.545Z"
   },
   {
    "duration": 931,
    "start_time": "2022-04-07T09:20:28.505Z"
   },
   {
    "duration": 29,
    "start_time": "2022-04-07T09:20:29.439Z"
   },
   {
    "duration": 31,
    "start_time": "2022-04-07T09:20:29.470Z"
   },
   {
    "duration": 52,
    "start_time": "2022-04-07T09:20:29.504Z"
   },
   {
    "duration": 35,
    "start_time": "2022-04-07T09:20:29.562Z"
   },
   {
    "duration": 8,
    "start_time": "2022-04-07T09:20:29.600Z"
   },
   {
    "duration": 76,
    "start_time": "2022-04-07T09:20:29.611Z"
   },
   {
    "duration": 8,
    "start_time": "2022-04-07T09:20:29.689Z"
   },
   {
    "duration": 122,
    "start_time": "2022-04-07T09:26:02.014Z"
   },
   {
    "duration": 1369,
    "start_time": "2022-04-09T07:21:03.123Z"
   },
   {
    "duration": 53,
    "start_time": "2022-04-09T07:21:04.494Z"
   },
   {
    "duration": 20,
    "start_time": "2022-04-09T07:21:04.549Z"
   },
   {
    "duration": 26,
    "start_time": "2022-04-09T07:21:04.572Z"
   },
   {
    "duration": 15,
    "start_time": "2022-04-09T07:21:04.600Z"
   },
   {
    "duration": 7,
    "start_time": "2022-04-09T07:21:04.617Z"
   },
   {
    "duration": 37,
    "start_time": "2022-04-09T07:21:04.626Z"
   },
   {
    "duration": 16,
    "start_time": "2022-04-09T07:21:04.665Z"
   },
   {
    "duration": 13,
    "start_time": "2022-04-09T07:21:04.683Z"
   },
   {
    "duration": 18,
    "start_time": "2022-04-09T07:21:04.698Z"
   },
   {
    "duration": 21,
    "start_time": "2022-04-09T07:21:04.717Z"
   },
   {
    "duration": 26,
    "start_time": "2022-04-09T07:21:04.739Z"
   },
   {
    "duration": 16,
    "start_time": "2022-04-09T07:21:04.766Z"
   },
   {
    "duration": 10,
    "start_time": "2022-04-09T07:21:04.784Z"
   },
   {
    "duration": 13,
    "start_time": "2022-04-09T07:21:04.796Z"
   },
   {
    "duration": 11,
    "start_time": "2022-04-09T07:21:04.811Z"
   },
   {
    "duration": 47,
    "start_time": "2022-04-09T07:21:04.823Z"
   },
   {
    "duration": 24,
    "start_time": "2022-04-09T07:21:04.872Z"
   },
   {
    "duration": 24,
    "start_time": "2022-04-09T07:21:04.898Z"
   },
   {
    "duration": 44,
    "start_time": "2022-04-09T07:21:04.923Z"
   },
   {
    "duration": 15,
    "start_time": "2022-04-09T07:21:04.969Z"
   },
   {
    "duration": 227,
    "start_time": "2022-04-09T07:21:04.986Z"
   },
   {
    "duration": 273,
    "start_time": "2022-04-09T07:21:05.214Z"
   },
   {
    "duration": 187,
    "start_time": "2022-04-09T07:21:05.489Z"
   },
   {
    "duration": 186,
    "start_time": "2022-04-09T07:21:05.679Z"
   },
   {
    "duration": 181,
    "start_time": "2022-04-09T07:21:05.867Z"
   },
   {
    "duration": 222,
    "start_time": "2022-04-09T07:21:06.050Z"
   },
   {
    "duration": 226,
    "start_time": "2022-04-09T07:21:06.278Z"
   },
   {
    "duration": 247,
    "start_time": "2022-04-09T07:21:06.506Z"
   },
   {
    "duration": 239,
    "start_time": "2022-04-09T07:21:06.758Z"
   },
   {
    "duration": 37,
    "start_time": "2022-04-09T07:21:07.000Z"
   },
   {
    "duration": 215,
    "start_time": "2022-04-09T07:21:07.040Z"
   },
   {
    "duration": 15,
    "start_time": "2022-04-09T07:21:07.257Z"
   },
   {
    "duration": 111,
    "start_time": "2022-04-09T07:21:07.274Z"
   },
   {
    "duration": 108,
    "start_time": "2022-04-09T07:21:07.387Z"
   },
   {
    "duration": 114,
    "start_time": "2022-04-09T07:21:07.497Z"
   },
   {
    "duration": 5,
    "start_time": "2022-04-09T07:21:07.612Z"
   },
   {
    "duration": 169,
    "start_time": "2022-04-09T07:21:07.618Z"
   },
   {
    "duration": 5,
    "start_time": "2022-04-09T07:21:07.789Z"
   },
   {
    "duration": 175,
    "start_time": "2022-04-09T07:21:07.795Z"
   },
   {
    "duration": 7,
    "start_time": "2022-04-09T07:21:07.972Z"
   },
   {
    "duration": 7,
    "start_time": "2022-04-09T07:21:07.980Z"
   },
   {
    "duration": 192,
    "start_time": "2022-04-09T07:21:07.988Z"
   },
   {
    "duration": 16,
    "start_time": "2022-04-09T07:21:08.181Z"
   },
   {
    "duration": 14,
    "start_time": "2022-04-09T07:21:08.199Z"
   },
   {
    "duration": 15,
    "start_time": "2022-04-09T07:21:08.214Z"
   },
   {
    "duration": 5,
    "start_time": "2022-04-09T07:21:08.258Z"
   },
   {
    "duration": 344,
    "start_time": "2022-04-09T07:21:08.264Z"
   },
   {
    "duration": 440,
    "start_time": "2022-04-09T07:21:08.610Z"
   },
   {
    "duration": 340,
    "start_time": "2022-04-09T07:21:09.052Z"
   },
   {
    "duration": 13,
    "start_time": "2022-04-09T07:21:09.393Z"
   },
   {
    "duration": 18,
    "start_time": "2022-04-09T07:21:09.408Z"
   },
   {
    "duration": 34,
    "start_time": "2022-04-09T07:21:09.429Z"
   },
   {
    "duration": 18,
    "start_time": "2022-04-09T07:21:09.465Z"
   },
   {
    "duration": 5,
    "start_time": "2022-04-09T07:21:09.485Z"
   },
   {
    "duration": 26,
    "start_time": "2022-04-09T07:21:09.492Z"
   },
   {
    "duration": 39,
    "start_time": "2022-04-09T07:21:09.519Z"
   },
   {
    "duration": 1179,
    "start_time": "2022-04-09T07:27:05.273Z"
   },
   {
    "duration": 50,
    "start_time": "2022-04-09T07:27:06.454Z"
   },
   {
    "duration": 13,
    "start_time": "2022-04-09T07:27:06.506Z"
   },
   {
    "duration": 37,
    "start_time": "2022-04-09T07:27:06.522Z"
   },
   {
    "duration": 14,
    "start_time": "2022-04-09T07:27:06.561Z"
   },
   {
    "duration": 7,
    "start_time": "2022-04-09T07:27:06.577Z"
   },
   {
    "duration": 8,
    "start_time": "2022-04-09T07:27:06.586Z"
   },
   {
    "duration": 9,
    "start_time": "2022-04-09T07:27:06.596Z"
   },
   {
    "duration": 10,
    "start_time": "2022-04-09T07:27:06.607Z"
   },
   {
    "duration": 46,
    "start_time": "2022-04-09T07:27:06.620Z"
   },
   {
    "duration": 6,
    "start_time": "2022-04-09T07:27:06.667Z"
   },
   {
    "duration": 14,
    "start_time": "2022-04-09T07:27:06.675Z"
   },
   {
    "duration": 15,
    "start_time": "2022-04-09T07:27:06.690Z"
   },
   {
    "duration": 9,
    "start_time": "2022-04-09T07:27:06.706Z"
   },
   {
    "duration": 43,
    "start_time": "2022-04-09T07:27:06.716Z"
   },
   {
    "duration": 8,
    "start_time": "2022-04-09T07:27:06.760Z"
   },
   {
    "duration": 9,
    "start_time": "2022-04-09T07:27:06.769Z"
   },
   {
    "duration": 19,
    "start_time": "2022-04-09T07:27:06.779Z"
   },
   {
    "duration": 17,
    "start_time": "2022-04-09T07:27:06.799Z"
   },
   {
    "duration": 42,
    "start_time": "2022-04-09T07:27:06.818Z"
   },
   {
    "duration": 16,
    "start_time": "2022-04-09T07:27:06.861Z"
   },
   {
    "duration": 167,
    "start_time": "2022-04-09T07:27:06.878Z"
   },
   {
    "duration": 278,
    "start_time": "2022-04-09T07:27:07.047Z"
   },
   {
    "duration": 180,
    "start_time": "2022-04-09T07:27:07.327Z"
   },
   {
    "duration": 188,
    "start_time": "2022-04-09T07:27:07.509Z"
   },
   {
    "duration": 207,
    "start_time": "2022-04-09T07:27:07.698Z"
   },
   {
    "duration": 181,
    "start_time": "2022-04-09T07:27:07.907Z"
   },
   {
    "duration": 168,
    "start_time": "2022-04-09T07:27:08.092Z"
   },
   {
    "duration": 241,
    "start_time": "2022-04-09T07:27:08.262Z"
   },
   {
    "duration": 153,
    "start_time": "2022-04-09T07:27:08.505Z"
   },
   {
    "duration": 24,
    "start_time": "2022-04-09T07:27:08.659Z"
   },
   {
    "duration": 158,
    "start_time": "2022-04-09T07:27:08.685Z"
   },
   {
    "duration": 24,
    "start_time": "2022-04-09T07:27:08.846Z"
   },
   {
    "duration": 170,
    "start_time": "2022-04-09T07:27:08.871Z"
   },
   {
    "duration": 146,
    "start_time": "2022-04-09T07:27:09.043Z"
   },
   {
    "duration": 119,
    "start_time": "2022-04-09T07:27:09.190Z"
   },
   {
    "duration": 6,
    "start_time": "2022-04-09T07:27:09.311Z"
   },
   {
    "duration": 180,
    "start_time": "2022-04-09T07:27:09.319Z"
   },
   {
    "duration": 5,
    "start_time": "2022-04-09T07:27:09.501Z"
   },
   {
    "duration": 187,
    "start_time": "2022-04-09T07:27:09.508Z"
   },
   {
    "duration": 7,
    "start_time": "2022-04-09T07:27:09.697Z"
   },
   {
    "duration": 9,
    "start_time": "2022-04-09T07:27:09.707Z"
   },
   {
    "duration": 203,
    "start_time": "2022-04-09T07:27:09.718Z"
   },
   {
    "duration": 18,
    "start_time": "2022-04-09T07:27:09.923Z"
   },
   {
    "duration": 29,
    "start_time": "2022-04-09T07:27:09.943Z"
   },
   {
    "duration": 16,
    "start_time": "2022-04-09T07:27:09.974Z"
   },
   {
    "duration": 5,
    "start_time": "2022-04-09T07:27:09.992Z"
   },
   {
    "duration": 360,
    "start_time": "2022-04-09T07:27:09.999Z"
   },
   {
    "duration": 422,
    "start_time": "2022-04-09T07:27:10.361Z"
   },
   {
    "duration": 336,
    "start_time": "2022-04-09T07:27:10.784Z"
   },
   {
    "duration": 14,
    "start_time": "2022-04-09T07:27:11.122Z"
   },
   {
    "duration": 31,
    "start_time": "2022-04-09T07:27:11.137Z"
   },
   {
    "duration": 13,
    "start_time": "2022-04-09T07:27:11.170Z"
   },
   {
    "duration": 17,
    "start_time": "2022-04-09T07:27:11.185Z"
   },
   {
    "duration": 5,
    "start_time": "2022-04-09T07:27:11.204Z"
   },
   {
    "duration": 57,
    "start_time": "2022-04-09T07:27:11.210Z"
   },
   {
    "duration": 5,
    "start_time": "2022-04-09T07:27:11.268Z"
   },
   {
    "duration": 22,
    "start_time": "2022-04-09T07:29:57.244Z"
   },
   {
    "duration": 140,
    "start_time": "2022-04-09T07:31:09.340Z"
   },
   {
    "duration": 13,
    "start_time": "2022-04-09T07:35:21.755Z"
   },
   {
    "duration": 23,
    "start_time": "2022-04-09T07:36:02.915Z"
   },
   {
    "duration": 135,
    "start_time": "2022-04-09T07:36:08.466Z"
   },
   {
    "duration": 13,
    "start_time": "2022-04-09T07:36:40.399Z"
   },
   {
    "duration": 25,
    "start_time": "2022-04-09T07:37:39.851Z"
   },
   {
    "duration": 129,
    "start_time": "2022-04-09T07:37:45.280Z"
   },
   {
    "duration": 25,
    "start_time": "2022-04-09T07:38:10.024Z"
   },
   {
    "duration": 127,
    "start_time": "2022-04-09T07:38:20.521Z"
   },
   {
    "duration": 13,
    "start_time": "2022-04-09T07:38:27.916Z"
   },
   {
    "duration": 97,
    "start_time": "2022-04-09T07:39:16.726Z"
   },
   {
    "duration": 91,
    "start_time": "2022-04-09T07:40:33.026Z"
   },
   {
    "duration": 92,
    "start_time": "2022-04-09T07:41:15.745Z"
   },
   {
    "duration": 4,
    "start_time": "2022-04-09T07:50:01.187Z"
   },
   {
    "duration": 564,
    "start_time": "2022-04-09T07:50:26.952Z"
   },
   {
    "duration": 128,
    "start_time": "2022-04-09T07:52:20.707Z"
   },
   {
    "duration": 94,
    "start_time": "2022-04-09T07:52:55.144Z"
   },
   {
    "duration": 10,
    "start_time": "2022-04-09T07:53:39.883Z"
   },
   {
    "duration": 1034,
    "start_time": "2022-04-09T07:55:21.851Z"
   },
   {
    "duration": 1043,
    "start_time": "2022-04-09T07:55:39.389Z"
   },
   {
    "duration": 1032,
    "start_time": "2022-04-09T07:56:31.671Z"
   },
   {
    "duration": 8,
    "start_time": "2022-04-09T07:57:46.194Z"
   },
   {
    "duration": 224,
    "start_time": "2022-04-09T07:57:56.343Z"
   },
   {
    "duration": 214,
    "start_time": "2022-04-09T08:00:16.392Z"
   },
   {
    "duration": 223,
    "start_time": "2022-04-09T08:00:53.939Z"
   },
   {
    "duration": 142,
    "start_time": "2022-04-09T08:04:37.560Z"
   },
   {
    "duration": 222,
    "start_time": "2022-04-09T08:04:45.303Z"
   },
   {
    "duration": 353,
    "start_time": "2022-04-09T08:05:42.233Z"
   },
   {
    "duration": 219,
    "start_time": "2022-04-09T08:05:49.266Z"
   },
   {
    "duration": 133,
    "start_time": "2022-04-09T08:06:19.198Z"
   },
   {
    "duration": 225,
    "start_time": "2022-04-09T08:08:02.215Z"
   },
   {
    "duration": 206,
    "start_time": "2022-04-09T08:08:15.985Z"
   },
   {
    "duration": 193,
    "start_time": "2022-04-09T08:08:24.606Z"
   },
   {
    "duration": 182,
    "start_time": "2022-04-09T08:08:43.122Z"
   },
   {
    "duration": 223,
    "start_time": "2022-04-09T08:08:51.928Z"
   },
   {
    "duration": 372,
    "start_time": "2022-04-09T08:09:10.227Z"
   },
   {
    "duration": 217,
    "start_time": "2022-04-09T08:09:21.566Z"
   },
   {
    "duration": 231,
    "start_time": "2022-04-09T08:12:14.254Z"
   },
   {
    "duration": 214,
    "start_time": "2022-04-09T08:13:14.488Z"
   },
   {
    "duration": 228,
    "start_time": "2022-04-09T08:13:26.931Z"
   },
   {
    "duration": 221,
    "start_time": "2022-04-09T08:14:38.049Z"
   },
   {
    "duration": 296,
    "start_time": "2022-04-09T08:16:34.286Z"
   },
   {
    "duration": 176,
    "start_time": "2022-04-09T08:17:17.475Z"
   },
   {
    "duration": 245,
    "start_time": "2022-04-09T08:17:45.354Z"
   },
   {
    "duration": 187,
    "start_time": "2022-04-09T08:19:39.011Z"
   },
   {
    "duration": 234,
    "start_time": "2022-04-09T08:20:42.023Z"
   },
   {
    "duration": 5,
    "start_time": "2022-04-09T08:27:04.233Z"
   },
   {
    "duration": 172,
    "start_time": "2022-04-09T08:27:10.384Z"
   },
   {
    "duration": 6,
    "start_time": "2022-04-09T08:27:40.323Z"
   },
   {
    "duration": 151,
    "start_time": "2022-04-09T08:27:44.088Z"
   },
   {
    "duration": 7,
    "start_time": "2022-04-09T08:27:55.250Z"
   },
   {
    "duration": 7,
    "start_time": "2022-04-09T08:28:01.930Z"
   },
   {
    "duration": 6,
    "start_time": "2022-04-09T08:33:08.440Z"
   },
   {
    "duration": 245,
    "start_time": "2022-04-09T08:33:09.260Z"
   },
   {
    "duration": 6,
    "start_time": "2022-04-09T08:33:11.722Z"
   },
   {
    "duration": 227,
    "start_time": "2022-04-09T08:33:12.410Z"
   },
   {
    "duration": 7,
    "start_time": "2022-04-09T08:33:14.829Z"
   },
   {
    "duration": 8,
    "start_time": "2022-04-09T08:33:17.111Z"
   },
   {
    "duration": 248,
    "start_time": "2022-04-09T08:33:33.892Z"
   },
   {
    "duration": 138,
    "start_time": "2022-04-09T08:43:01.507Z"
   },
   {
    "duration": 133,
    "start_time": "2022-04-09T08:43:30.171Z"
   },
   {
    "duration": 184,
    "start_time": "2022-04-09T08:44:32.600Z"
   },
   {
    "duration": 122,
    "start_time": "2022-04-09T08:44:52.277Z"
   },
   {
    "duration": 143,
    "start_time": "2022-04-09T08:46:21.858Z"
   },
   {
    "duration": 10,
    "start_time": "2022-04-09T08:48:30.429Z"
   },
   {
    "duration": 11,
    "start_time": "2022-04-09T08:50:02.885Z"
   },
   {
    "duration": 10,
    "start_time": "2022-04-09T08:50:44.700Z"
   },
   {
    "duration": 14,
    "start_time": "2022-04-09T08:51:38.107Z"
   },
   {
    "duration": 148,
    "start_time": "2022-04-09T08:52:55.370Z"
   },
   {
    "duration": 16,
    "start_time": "2022-04-09T08:56:04.525Z"
   },
   {
    "duration": 17,
    "start_time": "2022-04-09T08:59:03.409Z"
   },
   {
    "duration": 15,
    "start_time": "2022-04-09T09:01:27.103Z"
   },
   {
    "duration": 4,
    "start_time": "2022-04-09T09:02:34.157Z"
   },
   {
    "duration": 155,
    "start_time": "2022-04-09T09:10:57.067Z"
   },
   {
    "duration": 4,
    "start_time": "2022-04-09T09:11:10.106Z"
   },
   {
    "duration": 7,
    "start_time": "2022-04-09T09:11:18.405Z"
   },
   {
    "duration": 451,
    "start_time": "2022-04-09T09:13:32.513Z"
   },
   {
    "duration": 306,
    "start_time": "2022-04-09T09:15:24.705Z"
   },
   {
    "duration": 321,
    "start_time": "2022-04-09T09:15:26.958Z"
   },
   {
    "duration": 289,
    "start_time": "2022-04-09T09:15:28.844Z"
   },
   {
    "duration": 12,
    "start_time": "2022-04-09T09:18:16.618Z"
   },
   {
    "duration": 13,
    "start_time": "2022-04-09T09:18:21.488Z"
   },
   {
    "duration": 14,
    "start_time": "2022-04-09T09:18:22.726Z"
   },
   {
    "duration": 4,
    "start_time": "2022-04-09T09:19:59.657Z"
   },
   {
    "duration": 14,
    "start_time": "2022-04-09T09:20:01.641Z"
   },
   {
    "duration": 13,
    "start_time": "2022-04-09T09:20:07.544Z"
   },
   {
    "duration": 15,
    "start_time": "2022-04-09T09:20:08.528Z"
   },
   {
    "duration": 129,
    "start_time": "2022-04-09T09:29:50.301Z"
   },
   {
    "duration": 144,
    "start_time": "2022-04-09T09:30:36.756Z"
   },
   {
    "duration": 127,
    "start_time": "2022-04-09T09:31:02.819Z"
   },
   {
    "duration": 151,
    "start_time": "2022-04-09T09:31:22.141Z"
   },
   {
    "duration": 134,
    "start_time": "2022-04-09T09:32:28.462Z"
   },
   {
    "duration": 9,
    "start_time": "2022-04-09T09:32:56.878Z"
   },
   {
    "duration": 6,
    "start_time": "2022-04-09T09:33:39.112Z"
   },
   {
    "duration": 9,
    "start_time": "2022-04-09T09:34:13.578Z"
   },
   {
    "duration": 9,
    "start_time": "2022-04-09T09:34:15.656Z"
   },
   {
    "duration": 6,
    "start_time": "2022-04-09T09:34:25.780Z"
   },
   {
    "duration": 6,
    "start_time": "2022-04-09T09:34:30.693Z"
   },
   {
    "duration": 17,
    "start_time": "2022-04-09T09:36:16.383Z"
   },
   {
    "duration": 9,
    "start_time": "2022-04-09T09:39:23.757Z"
   },
   {
    "duration": 5,
    "start_time": "2022-04-09T09:39:37.552Z"
   },
   {
    "duration": 4,
    "start_time": "2022-04-09T09:39:38.960Z"
   },
   {
    "duration": 6,
    "start_time": "2022-04-09T09:39:42.339Z"
   },
   {
    "duration": 5,
    "start_time": "2022-04-09T09:40:08.670Z"
   },
   {
    "duration": 8,
    "start_time": "2022-04-09T09:40:44.162Z"
   },
   {
    "duration": 7,
    "start_time": "2022-04-09T09:41:28.482Z"
   },
   {
    "duration": 9,
    "start_time": "2022-04-09T09:43:24.115Z"
   },
   {
    "duration": 6,
    "start_time": "2022-04-09T09:43:29.708Z"
   },
   {
    "duration": 5,
    "start_time": "2022-04-09T09:45:54.865Z"
   },
   {
    "duration": 6,
    "start_time": "2022-04-09T09:46:57.945Z"
   },
   {
    "duration": 5,
    "start_time": "2022-04-09T09:48:12.760Z"
   },
   {
    "duration": 18,
    "start_time": "2022-04-09T09:48:45.395Z"
   },
   {
    "duration": 5,
    "start_time": "2022-04-09T09:48:53.765Z"
   },
   {
    "duration": 2104,
    "start_time": "2022-04-09T11:24:36.600Z"
   },
   {
    "duration": 1511,
    "start_time": "2022-04-09T11:26:48.388Z"
   },
   {
    "duration": 72,
    "start_time": "2022-04-09T11:26:49.902Z"
   },
   {
    "duration": 21,
    "start_time": "2022-04-09T11:26:49.976Z"
   },
   {
    "duration": 28,
    "start_time": "2022-04-09T11:26:49.999Z"
   },
   {
    "duration": 36,
    "start_time": "2022-04-09T11:26:50.029Z"
   },
   {
    "duration": 6,
    "start_time": "2022-04-09T11:26:50.066Z"
   },
   {
    "duration": 9,
    "start_time": "2022-04-09T11:26:50.074Z"
   },
   {
    "duration": 9,
    "start_time": "2022-04-09T11:26:50.085Z"
   },
   {
    "duration": 9,
    "start_time": "2022-04-09T11:26:50.096Z"
   },
   {
    "duration": 16,
    "start_time": "2022-04-09T11:26:50.108Z"
   },
   {
    "duration": 34,
    "start_time": "2022-04-09T11:26:50.125Z"
   },
   {
    "duration": 10,
    "start_time": "2022-04-09T11:26:50.160Z"
   },
   {
    "duration": 20,
    "start_time": "2022-04-09T11:26:50.172Z"
   },
   {
    "duration": 8,
    "start_time": "2022-04-09T11:26:50.193Z"
   },
   {
    "duration": 16,
    "start_time": "2022-04-09T11:26:50.203Z"
   },
   {
    "duration": 47,
    "start_time": "2022-04-09T11:26:50.221Z"
   },
   {
    "duration": 11,
    "start_time": "2022-04-09T11:26:50.269Z"
   },
   {
    "duration": 23,
    "start_time": "2022-04-09T11:26:50.281Z"
   },
   {
    "duration": 17,
    "start_time": "2022-04-09T11:26:50.305Z"
   },
   {
    "duration": 2371,
    "start_time": "2022-04-09T11:26:50.323Z"
   },
   {
    "duration": 0,
    "start_time": "2022-04-09T11:26:52.697Z"
   },
   {
    "duration": 0,
    "start_time": "2022-04-09T11:26:52.698Z"
   },
   {
    "duration": 0,
    "start_time": "2022-04-09T11:26:52.699Z"
   },
   {
    "duration": 1,
    "start_time": "2022-04-09T11:26:52.699Z"
   },
   {
    "duration": 1,
    "start_time": "2022-04-09T11:26:52.700Z"
   },
   {
    "duration": 0,
    "start_time": "2022-04-09T11:26:52.701Z"
   },
   {
    "duration": 0,
    "start_time": "2022-04-09T11:26:52.702Z"
   },
   {
    "duration": 0,
    "start_time": "2022-04-09T11:26:52.703Z"
   },
   {
    "duration": 0,
    "start_time": "2022-04-09T11:26:52.703Z"
   },
   {
    "duration": 0,
    "start_time": "2022-04-09T11:26:52.704Z"
   },
   {
    "duration": 0,
    "start_time": "2022-04-09T11:26:52.705Z"
   },
   {
    "duration": 0,
    "start_time": "2022-04-09T11:26:52.706Z"
   },
   {
    "duration": 0,
    "start_time": "2022-04-09T11:26:52.707Z"
   },
   {
    "duration": 0,
    "start_time": "2022-04-09T11:26:52.708Z"
   },
   {
    "duration": 0,
    "start_time": "2022-04-09T11:26:52.709Z"
   },
   {
    "duration": 0,
    "start_time": "2022-04-09T11:26:52.710Z"
   },
   {
    "duration": 0,
    "start_time": "2022-04-09T11:26:52.710Z"
   },
   {
    "duration": 0,
    "start_time": "2022-04-09T11:26:52.711Z"
   },
   {
    "duration": 0,
    "start_time": "2022-04-09T11:26:52.712Z"
   },
   {
    "duration": 0,
    "start_time": "2022-04-09T11:26:52.713Z"
   },
   {
    "duration": 0,
    "start_time": "2022-04-09T11:26:52.714Z"
   },
   {
    "duration": 0,
    "start_time": "2022-04-09T11:26:52.715Z"
   },
   {
    "duration": 0,
    "start_time": "2022-04-09T11:26:52.715Z"
   },
   {
    "duration": 0,
    "start_time": "2022-04-09T11:26:52.716Z"
   },
   {
    "duration": 0,
    "start_time": "2022-04-09T11:26:52.717Z"
   },
   {
    "duration": 0,
    "start_time": "2022-04-09T11:26:52.718Z"
   },
   {
    "duration": 0,
    "start_time": "2022-04-09T11:26:52.719Z"
   },
   {
    "duration": 0,
    "start_time": "2022-04-09T11:26:52.720Z"
   },
   {
    "duration": 0,
    "start_time": "2022-04-09T11:26:52.721Z"
   },
   {
    "duration": 0,
    "start_time": "2022-04-09T11:26:52.722Z"
   },
   {
    "duration": 0,
    "start_time": "2022-04-09T11:26:52.723Z"
   },
   {
    "duration": 0,
    "start_time": "2022-04-09T11:26:52.723Z"
   },
   {
    "duration": 0,
    "start_time": "2022-04-09T11:26:52.725Z"
   },
   {
    "duration": 0,
    "start_time": "2022-04-09T11:26:52.725Z"
   },
   {
    "duration": 0,
    "start_time": "2022-04-09T11:26:52.726Z"
   },
   {
    "duration": 0,
    "start_time": "2022-04-09T11:26:52.727Z"
   },
   {
    "duration": 0,
    "start_time": "2022-04-09T11:26:52.728Z"
   },
   {
    "duration": 0,
    "start_time": "2022-04-09T11:26:52.729Z"
   },
   {
    "duration": 0,
    "start_time": "2022-04-09T11:26:52.729Z"
   },
   {
    "duration": 0,
    "start_time": "2022-04-09T11:26:52.730Z"
   },
   {
    "duration": 0,
    "start_time": "2022-04-09T11:26:52.731Z"
   },
   {
    "duration": 0,
    "start_time": "2022-04-09T11:26:52.732Z"
   },
   {
    "duration": 0,
    "start_time": "2022-04-09T11:26:52.733Z"
   },
   {
    "duration": 0,
    "start_time": "2022-04-09T11:26:52.757Z"
   },
   {
    "duration": 0,
    "start_time": "2022-04-09T11:26:52.759Z"
   },
   {
    "duration": 5,
    "start_time": "2022-04-09T11:29:00.307Z"
   },
   {
    "duration": 1309,
    "start_time": "2022-04-09T11:29:16.329Z"
   },
   {
    "duration": 49,
    "start_time": "2022-04-09T11:29:17.640Z"
   },
   {
    "duration": 13,
    "start_time": "2022-04-09T11:29:17.691Z"
   },
   {
    "duration": 28,
    "start_time": "2022-04-09T11:29:17.705Z"
   },
   {
    "duration": 29,
    "start_time": "2022-04-09T11:29:17.735Z"
   },
   {
    "duration": 6,
    "start_time": "2022-04-09T11:29:17.766Z"
   },
   {
    "duration": 8,
    "start_time": "2022-04-09T11:29:17.773Z"
   },
   {
    "duration": 10,
    "start_time": "2022-04-09T11:29:17.782Z"
   },
   {
    "duration": 11,
    "start_time": "2022-04-09T11:29:17.793Z"
   },
   {
    "duration": 16,
    "start_time": "2022-04-09T11:29:17.805Z"
   },
   {
    "duration": 37,
    "start_time": "2022-04-09T11:29:17.822Z"
   },
   {
    "duration": 11,
    "start_time": "2022-04-09T11:29:17.861Z"
   },
   {
    "duration": 16,
    "start_time": "2022-04-09T11:29:17.874Z"
   },
   {
    "duration": 9,
    "start_time": "2022-04-09T11:29:17.893Z"
   },
   {
    "duration": 13,
    "start_time": "2022-04-09T11:29:17.904Z"
   },
   {
    "duration": 41,
    "start_time": "2022-04-09T11:29:17.919Z"
   },
   {
    "duration": 10,
    "start_time": "2022-04-09T11:29:17.962Z"
   },
   {
    "duration": 16,
    "start_time": "2022-04-09T11:29:17.973Z"
   },
   {
    "duration": 19,
    "start_time": "2022-04-09T11:29:17.991Z"
   },
   {
    "duration": 4,
    "start_time": "2022-04-09T11:29:18.012Z"
   },
   {
    "duration": 47,
    "start_time": "2022-04-09T11:29:18.017Z"
   },
   {
    "duration": 14,
    "start_time": "2022-04-09T11:29:18.066Z"
   },
   {
    "duration": 156,
    "start_time": "2022-04-09T11:29:18.082Z"
   },
   {
    "duration": 284,
    "start_time": "2022-04-09T11:29:18.240Z"
   },
   {
    "duration": 172,
    "start_time": "2022-04-09T11:29:18.526Z"
   },
   {
    "duration": 178,
    "start_time": "2022-04-09T11:29:18.700Z"
   },
   {
    "duration": 172,
    "start_time": "2022-04-09T11:29:18.880Z"
   },
   {
    "duration": 173,
    "start_time": "2022-04-09T11:29:19.053Z"
   },
   {
    "duration": 176,
    "start_time": "2022-04-09T11:29:19.228Z"
   },
   {
    "duration": 243,
    "start_time": "2022-04-09T11:29:19.406Z"
   },
   {
    "duration": 153,
    "start_time": "2022-04-09T11:29:19.651Z"
   },
   {
    "duration": 25,
    "start_time": "2022-04-09T11:29:19.805Z"
   },
   {
    "duration": 155,
    "start_time": "2022-04-09T11:29:19.831Z"
   },
   {
    "duration": 14,
    "start_time": "2022-04-09T11:29:19.988Z"
   },
   {
    "duration": 122,
    "start_time": "2022-04-09T11:29:20.004Z"
   },
   {
    "duration": 102,
    "start_time": "2022-04-09T11:29:20.128Z"
   },
   {
    "duration": 111,
    "start_time": "2022-04-09T11:29:20.232Z"
   },
   {
    "duration": 203,
    "start_time": "2022-04-09T11:29:20.344Z"
   },
   {
    "duration": 256,
    "start_time": "2022-04-09T11:29:20.549Z"
   },
   {
    "duration": 5,
    "start_time": "2022-04-09T11:29:20.806Z"
   },
   {
    "duration": 160,
    "start_time": "2022-04-09T11:29:20.815Z"
   },
   {
    "duration": 5,
    "start_time": "2022-04-09T11:29:20.976Z"
   },
   {
    "duration": 164,
    "start_time": "2022-04-09T11:29:20.982Z"
   },
   {
    "duration": 12,
    "start_time": "2022-04-09T11:29:21.148Z"
   },
   {
    "duration": 6,
    "start_time": "2022-04-09T11:29:21.161Z"
   },
   {
    "duration": 15,
    "start_time": "2022-04-09T11:29:21.168Z"
   },
   {
    "duration": 263,
    "start_time": "2022-04-09T11:29:21.185Z"
   },
   {
    "duration": 20,
    "start_time": "2022-04-09T11:29:21.450Z"
   },
   {
    "duration": 15,
    "start_time": "2022-04-09T11:29:21.471Z"
   },
   {
    "duration": 20,
    "start_time": "2022-04-09T11:29:21.488Z"
   },
   {
    "duration": 4,
    "start_time": "2022-04-09T11:29:21.510Z"
   },
   {
    "duration": 336,
    "start_time": "2022-04-09T11:29:21.516Z"
   },
   {
    "duration": 348,
    "start_time": "2022-04-09T11:29:21.858Z"
   },
   {
    "duration": 327,
    "start_time": "2022-04-09T11:29:22.209Z"
   },
   {
    "duration": 23,
    "start_time": "2022-04-09T11:29:22.538Z"
   },
   {
    "duration": 14,
    "start_time": "2022-04-09T11:29:22.563Z"
   },
   {
    "duration": 12,
    "start_time": "2022-04-09T11:29:22.579Z"
   },
   {
    "duration": 7,
    "start_time": "2022-04-09T11:29:22.593Z"
   },
   {
    "duration": 5,
    "start_time": "2022-04-09T11:29:22.601Z"
   },
   {
    "duration": 12,
    "start_time": "2022-04-09T11:29:22.608Z"
   },
   {
    "duration": 8,
    "start_time": "2022-04-09T11:29:22.621Z"
   },
   {
    "duration": 6,
    "start_time": "2022-04-09T11:29:22.658Z"
   },
   {
    "duration": 14,
    "start_time": "2022-04-09T11:29:22.666Z"
   },
   {
    "duration": 22,
    "start_time": "2022-04-09T11:29:22.682Z"
   },
   {
    "duration": 5,
    "start_time": "2022-04-09T11:29:22.705Z"
   },
   {
    "duration": 15,
    "start_time": "2022-04-09T11:31:08.574Z"
   },
   {
    "duration": 24,
    "start_time": "2022-04-09T11:35:10.393Z"
   },
   {
    "duration": 5,
    "start_time": "2022-04-09T11:37:56.874Z"
   },
   {
    "duration": 309,
    "start_time": "2022-04-09T11:38:12.988Z"
   },
   {
    "duration": 334,
    "start_time": "2022-04-09T11:38:20.031Z"
   },
   {
    "duration": 411,
    "start_time": "2022-04-09T11:39:10.017Z"
   },
   {
    "duration": 312,
    "start_time": "2022-04-09T11:39:52.117Z"
   },
   {
    "duration": 320,
    "start_time": "2022-04-09T11:39:59.854Z"
   },
   {
    "duration": 526,
    "start_time": "2022-04-09T11:43:31.761Z"
   },
   {
    "duration": 12,
    "start_time": "2022-04-09T11:48:53.581Z"
   },
   {
    "duration": 4,
    "start_time": "2022-04-09T11:48:54.738Z"
   },
   {
    "duration": 4,
    "start_time": "2022-04-09T11:48:55.466Z"
   },
   {
    "duration": 6,
    "start_time": "2022-04-09T11:48:56.438Z"
   },
   {
    "duration": 5,
    "start_time": "2022-04-09T11:48:57.477Z"
   },
   {
    "duration": 5,
    "start_time": "2022-04-09T11:49:04.715Z"
   },
   {
    "duration": 19,
    "start_time": "2022-04-09T11:49:23.787Z"
   },
   {
    "duration": 6,
    "start_time": "2022-04-09T11:49:24.903Z"
   },
   {
    "duration": 1290,
    "start_time": "2022-04-09T11:58:55.478Z"
   },
   {
    "duration": 61,
    "start_time": "2022-04-09T11:58:56.773Z"
   },
   {
    "duration": 13,
    "start_time": "2022-04-09T11:58:56.837Z"
   },
   {
    "duration": 39,
    "start_time": "2022-04-09T11:58:56.862Z"
   },
   {
    "duration": 20,
    "start_time": "2022-04-09T11:58:56.904Z"
   },
   {
    "duration": 9,
    "start_time": "2022-04-09T11:58:56.926Z"
   },
   {
    "duration": 24,
    "start_time": "2022-04-09T11:58:56.936Z"
   },
   {
    "duration": 18,
    "start_time": "2022-04-09T11:58:56.962Z"
   },
   {
    "duration": 20,
    "start_time": "2022-04-09T11:58:56.982Z"
   },
   {
    "duration": 28,
    "start_time": "2022-04-09T11:58:57.004Z"
   },
   {
    "duration": 8,
    "start_time": "2022-04-09T11:58:57.034Z"
   },
   {
    "duration": 14,
    "start_time": "2022-04-09T11:58:57.062Z"
   },
   {
    "duration": 21,
    "start_time": "2022-04-09T11:58:57.078Z"
   },
   {
    "duration": 13,
    "start_time": "2022-04-09T11:58:57.103Z"
   },
   {
    "duration": 29,
    "start_time": "2022-04-09T11:58:57.118Z"
   },
   {
    "duration": 22,
    "start_time": "2022-04-09T11:58:57.149Z"
   },
   {
    "duration": 23,
    "start_time": "2022-04-09T11:58:57.173Z"
   },
   {
    "duration": 8,
    "start_time": "2022-04-09T11:58:57.197Z"
   },
   {
    "duration": 23,
    "start_time": "2022-04-09T11:58:57.206Z"
   },
   {
    "duration": 16,
    "start_time": "2022-04-09T11:58:57.231Z"
   },
   {
    "duration": 22,
    "start_time": "2022-04-09T11:58:57.248Z"
   },
   {
    "duration": 15,
    "start_time": "2022-04-09T11:58:57.272Z"
   },
   {
    "duration": 165,
    "start_time": "2022-04-09T11:58:57.288Z"
   },
   {
    "duration": 287,
    "start_time": "2022-04-09T11:58:57.458Z"
   },
   {
    "duration": 202,
    "start_time": "2022-04-09T11:58:57.747Z"
   },
   {
    "duration": 247,
    "start_time": "2022-04-09T11:58:57.951Z"
   },
   {
    "duration": 238,
    "start_time": "2022-04-09T11:58:58.200Z"
   },
   {
    "duration": 187,
    "start_time": "2022-04-09T11:58:58.440Z"
   },
   {
    "duration": 234,
    "start_time": "2022-04-09T11:58:58.629Z"
   },
   {
    "duration": 252,
    "start_time": "2022-04-09T11:58:58.865Z"
   },
   {
    "duration": 157,
    "start_time": "2022-04-09T11:58:59.119Z"
   },
   {
    "duration": 36,
    "start_time": "2022-04-09T11:58:59.279Z"
   },
   {
    "duration": 197,
    "start_time": "2022-04-09T11:58:59.317Z"
   },
   {
    "duration": 13,
    "start_time": "2022-04-09T11:58:59.515Z"
   },
   {
    "duration": 117,
    "start_time": "2022-04-09T11:58:59.530Z"
   },
   {
    "duration": 112,
    "start_time": "2022-04-09T11:58:59.649Z"
   },
   {
    "duration": 115,
    "start_time": "2022-04-09T11:58:59.763Z"
   },
   {
    "duration": 215,
    "start_time": "2022-04-09T11:58:59.880Z"
   },
   {
    "duration": 369,
    "start_time": "2022-04-09T11:59:00.097Z"
   },
   {
    "duration": 8,
    "start_time": "2022-04-09T11:59:00.470Z"
   },
   {
    "duration": 248,
    "start_time": "2022-04-09T11:59:00.483Z"
   },
   {
    "duration": 6,
    "start_time": "2022-04-09T11:59:00.732Z"
   },
   {
    "duration": 216,
    "start_time": "2022-04-09T11:59:00.739Z"
   },
   {
    "duration": 11,
    "start_time": "2022-04-09T11:59:00.957Z"
   },
   {
    "duration": 19,
    "start_time": "2022-04-09T11:59:00.972Z"
   },
   {
    "duration": 29,
    "start_time": "2022-04-09T11:59:00.993Z"
   },
   {
    "duration": 416,
    "start_time": "2022-04-09T11:59:01.025Z"
   },
   {
    "duration": 29,
    "start_time": "2022-04-09T11:59:01.443Z"
   },
   {
    "duration": 43,
    "start_time": "2022-04-09T11:59:01.479Z"
   },
   {
    "duration": 24,
    "start_time": "2022-04-09T11:59:01.524Z"
   },
   {
    "duration": 11,
    "start_time": "2022-04-09T11:59:01.551Z"
   },
   {
    "duration": 575,
    "start_time": "2022-04-09T11:59:01.564Z"
   },
   {
    "duration": 565,
    "start_time": "2022-04-09T11:59:02.141Z"
   },
   {
    "duration": 407,
    "start_time": "2022-04-09T11:59:02.708Z"
   },
   {
    "duration": 14,
    "start_time": "2022-04-09T11:59:03.118Z"
   },
   {
    "duration": 38,
    "start_time": "2022-04-09T11:59:03.133Z"
   },
   {
    "duration": 14,
    "start_time": "2022-04-09T11:59:03.173Z"
   },
   {
    "duration": 37,
    "start_time": "2022-04-09T11:59:03.189Z"
   },
   {
    "duration": 14,
    "start_time": "2022-04-09T11:59:03.228Z"
   },
   {
    "duration": 40,
    "start_time": "2022-04-09T11:59:03.243Z"
   },
   {
    "duration": 9,
    "start_time": "2022-04-09T11:59:03.285Z"
   },
   {
    "duration": 8,
    "start_time": "2022-04-09T11:59:03.296Z"
   },
   {
    "duration": 7,
    "start_time": "2022-04-09T11:59:03.306Z"
   },
   {
    "duration": 21,
    "start_time": "2022-04-09T11:59:03.315Z"
   },
   {
    "duration": 44,
    "start_time": "2022-04-09T11:59:03.338Z"
   },
   {
    "duration": 1749,
    "start_time": "2022-04-10T09:12:56.105Z"
   },
   {
    "duration": 80,
    "start_time": "2022-04-10T09:12:57.856Z"
   },
   {
    "duration": 30,
    "start_time": "2022-04-10T09:12:57.938Z"
   },
   {
    "duration": 47,
    "start_time": "2022-04-10T09:12:57.972Z"
   },
   {
    "duration": 19,
    "start_time": "2022-04-10T09:12:58.021Z"
   },
   {
    "duration": 36,
    "start_time": "2022-04-10T09:12:58.043Z"
   },
   {
    "duration": 10,
    "start_time": "2022-04-10T09:12:58.083Z"
   },
   {
    "duration": 9,
    "start_time": "2022-04-10T09:12:58.095Z"
   },
   {
    "duration": 15,
    "start_time": "2022-04-10T09:12:58.106Z"
   },
   {
    "duration": 74,
    "start_time": "2022-04-10T09:12:58.124Z"
   },
   {
    "duration": 8,
    "start_time": "2022-04-10T09:12:58.201Z"
   },
   {
    "duration": 19,
    "start_time": "2022-04-10T09:12:58.211Z"
   },
   {
    "duration": 51,
    "start_time": "2022-04-10T09:12:58.232Z"
   },
   {
    "duration": 14,
    "start_time": "2022-04-10T09:12:58.286Z"
   },
   {
    "duration": 18,
    "start_time": "2022-04-10T09:12:58.303Z"
   },
   {
    "duration": 43,
    "start_time": "2022-04-10T09:12:58.324Z"
   },
   {
    "duration": 19,
    "start_time": "2022-04-10T09:12:58.370Z"
   },
   {
    "duration": 9,
    "start_time": "2022-04-10T09:12:58.391Z"
   },
   {
    "duration": 27,
    "start_time": "2022-04-10T09:12:58.402Z"
   },
   {
    "duration": 60,
    "start_time": "2022-04-10T09:12:58.431Z"
   },
   {
    "duration": 25,
    "start_time": "2022-04-10T09:12:58.494Z"
   },
   {
    "duration": 49,
    "start_time": "2022-04-10T09:12:58.522Z"
   },
   {
    "duration": 271,
    "start_time": "2022-04-10T09:12:58.574Z"
   },
   {
    "duration": 490,
    "start_time": "2022-04-10T09:12:58.847Z"
   },
   {
    "duration": 316,
    "start_time": "2022-04-10T09:12:59.339Z"
   },
   {
    "duration": 334,
    "start_time": "2022-04-10T09:12:59.657Z"
   },
   {
    "duration": 326,
    "start_time": "2022-04-10T09:12:59.993Z"
   },
   {
    "duration": 320,
    "start_time": "2022-04-10T09:13:00.325Z"
   },
   {
    "duration": 319,
    "start_time": "2022-04-10T09:13:00.648Z"
   },
   {
    "duration": 384,
    "start_time": "2022-04-10T09:13:00.970Z"
   },
   {
    "duration": 268,
    "start_time": "2022-04-10T09:13:01.356Z"
   },
   {
    "duration": 60,
    "start_time": "2022-04-10T09:13:01.627Z"
   },
   {
    "duration": 263,
    "start_time": "2022-04-10T09:13:01.690Z"
   },
   {
    "duration": 33,
    "start_time": "2022-04-10T09:13:01.956Z"
   },
   {
    "duration": 195,
    "start_time": "2022-04-10T09:13:01.992Z"
   },
   {
    "duration": 189,
    "start_time": "2022-04-10T09:13:02.190Z"
   },
   {
    "duration": 191,
    "start_time": "2022-04-10T09:13:02.382Z"
   },
   {
    "duration": 344,
    "start_time": "2022-04-10T09:13:02.576Z"
   },
   {
    "duration": 477,
    "start_time": "2022-04-10T09:13:02.922Z"
   },
   {
    "duration": 7,
    "start_time": "2022-04-10T09:13:03.402Z"
   },
   {
    "duration": 305,
    "start_time": "2022-04-10T09:13:03.411Z"
   },
   {
    "duration": 6,
    "start_time": "2022-04-10T09:13:03.719Z"
   },
   {
    "duration": 312,
    "start_time": "2022-04-10T09:13:03.727Z"
   },
   {
    "duration": 10,
    "start_time": "2022-04-10T09:13:04.042Z"
   },
   {
    "duration": 15,
    "start_time": "2022-04-10T09:13:04.071Z"
   },
   {
    "duration": 25,
    "start_time": "2022-04-10T09:13:04.088Z"
   },
   {
    "duration": 392,
    "start_time": "2022-04-10T09:13:04.116Z"
   },
   {
    "duration": 22,
    "start_time": "2022-04-10T09:13:04.510Z"
   },
   {
    "duration": 50,
    "start_time": "2022-04-10T09:13:04.535Z"
   },
   {
    "duration": 24,
    "start_time": "2022-04-10T09:13:04.587Z"
   },
   {
    "duration": 7,
    "start_time": "2022-04-10T09:13:04.613Z"
   },
   {
    "duration": 609,
    "start_time": "2022-04-10T09:13:04.623Z"
   },
   {
    "duration": 596,
    "start_time": "2022-04-10T09:13:05.234Z"
   },
   {
    "duration": 596,
    "start_time": "2022-04-10T09:13:05.832Z"
   },
   {
    "duration": 20,
    "start_time": "2022-04-10T09:13:06.430Z"
   },
   {
    "duration": 34,
    "start_time": "2022-04-10T09:13:06.452Z"
   },
   {
    "duration": 20,
    "start_time": "2022-04-10T09:13:06.488Z"
   },
   {
    "duration": 12,
    "start_time": "2022-04-10T09:13:06.511Z"
   },
   {
    "duration": 9,
    "start_time": "2022-04-10T09:13:06.568Z"
   },
   {
    "duration": 14,
    "start_time": "2022-04-10T09:13:06.580Z"
   },
   {
    "duration": 8,
    "start_time": "2022-04-10T09:13:06.596Z"
   },
   {
    "duration": 9,
    "start_time": "2022-04-10T09:13:06.606Z"
   },
   {
    "duration": 8,
    "start_time": "2022-04-10T09:13:06.617Z"
   },
   {
    "duration": 69,
    "start_time": "2022-04-10T09:13:06.627Z"
   },
   {
    "duration": 7,
    "start_time": "2022-04-10T09:13:06.699Z"
   },
   {
    "duration": 285,
    "start_time": "2022-04-10T09:23:20.909Z"
   },
   {
    "duration": 1614,
    "start_time": "2022-04-10T09:25:36.518Z"
   },
   {
    "duration": 84,
    "start_time": "2022-04-10T09:25:38.135Z"
   },
   {
    "duration": 20,
    "start_time": "2022-04-10T09:25:38.221Z"
   },
   {
    "duration": 62,
    "start_time": "2022-04-10T09:25:38.245Z"
   },
   {
    "duration": 20,
    "start_time": "2022-04-10T09:25:38.309Z"
   },
   {
    "duration": 9,
    "start_time": "2022-04-10T09:25:38.332Z"
   },
   {
    "duration": 38,
    "start_time": "2022-04-10T09:25:38.343Z"
   },
   {
    "duration": 18,
    "start_time": "2022-04-10T09:25:38.384Z"
   },
   {
    "duration": 16,
    "start_time": "2022-04-10T09:25:38.405Z"
   },
   {
    "duration": 62,
    "start_time": "2022-04-10T09:25:38.426Z"
   },
   {
    "duration": 10,
    "start_time": "2022-04-10T09:25:38.491Z"
   },
   {
    "duration": 15,
    "start_time": "2022-04-10T09:25:38.503Z"
   },
   {
    "duration": 54,
    "start_time": "2022-04-10T09:25:38.520Z"
   },
   {
    "duration": 18,
    "start_time": "2022-04-10T09:25:38.577Z"
   },
   {
    "duration": 21,
    "start_time": "2022-04-10T09:25:38.598Z"
   },
   {
    "duration": 50,
    "start_time": "2022-04-10T09:25:38.622Z"
   },
   {
    "duration": 20,
    "start_time": "2022-04-10T09:25:38.675Z"
   },
   {
    "duration": 11,
    "start_time": "2022-04-10T09:25:38.698Z"
   },
   {
    "duration": 76,
    "start_time": "2022-04-10T09:25:38.712Z"
   },
   {
    "duration": 22,
    "start_time": "2022-04-10T09:25:38.790Z"
   },
   {
    "duration": 53,
    "start_time": "2022-04-10T09:25:38.815Z"
   },
   {
    "duration": 29,
    "start_time": "2022-04-10T09:25:38.871Z"
   },
   {
    "duration": 297,
    "start_time": "2022-04-10T09:25:38.903Z"
   },
   {
    "duration": 537,
    "start_time": "2022-04-10T09:25:39.202Z"
   },
   {
    "duration": 333,
    "start_time": "2022-04-10T09:25:39.741Z"
   },
   {
    "duration": 343,
    "start_time": "2022-04-10T09:25:40.077Z"
   },
   {
    "duration": 332,
    "start_time": "2022-04-10T09:25:40.422Z"
   },
   {
    "duration": 339,
    "start_time": "2022-04-10T09:25:40.767Z"
   },
   {
    "duration": 320,
    "start_time": "2022-04-10T09:25:41.109Z"
   },
   {
    "duration": 416,
    "start_time": "2022-04-10T09:25:41.431Z"
   },
   {
    "duration": 310,
    "start_time": "2022-04-10T09:25:41.849Z"
   },
   {
    "duration": 46,
    "start_time": "2022-04-10T09:25:42.161Z"
   },
   {
    "duration": 293,
    "start_time": "2022-04-10T09:25:42.210Z"
   },
   {
    "duration": 21,
    "start_time": "2022-04-10T09:25:42.505Z"
   },
   {
    "duration": 234,
    "start_time": "2022-04-10T09:25:42.528Z"
   },
   {
    "duration": 226,
    "start_time": "2022-04-10T09:25:42.773Z"
   },
   {
    "duration": 199,
    "start_time": "2022-04-10T09:25:43.002Z"
   },
   {
    "duration": 401,
    "start_time": "2022-04-10T09:25:43.204Z"
   },
   {
    "duration": 532,
    "start_time": "2022-04-10T09:25:43.608Z"
   },
   {
    "duration": 7,
    "start_time": "2022-04-10T09:25:44.143Z"
   },
   {
    "duration": 356,
    "start_time": "2022-04-10T09:25:44.152Z"
   },
   {
    "duration": 7,
    "start_time": "2022-04-10T09:25:44.510Z"
   },
   {
    "duration": 322,
    "start_time": "2022-04-10T09:25:44.519Z"
   },
   {
    "duration": 9,
    "start_time": "2022-04-10T09:25:44.844Z"
   },
   {
    "duration": 13,
    "start_time": "2022-04-10T09:25:44.867Z"
   },
   {
    "duration": 445,
    "start_time": "2022-04-10T09:25:44.883Z"
   },
   {
    "duration": 25,
    "start_time": "2022-04-10T09:25:45.330Z"
   },
   {
    "duration": 42,
    "start_time": "2022-04-10T09:25:45.357Z"
   },
   {
    "duration": 25,
    "start_time": "2022-04-10T09:25:45.401Z"
   },
   {
    "duration": 39,
    "start_time": "2022-04-10T09:25:45.429Z"
   },
   {
    "duration": 648,
    "start_time": "2022-04-10T09:25:45.471Z"
   },
   {
    "duration": 638,
    "start_time": "2022-04-10T09:25:46.121Z"
   },
   {
    "duration": 643,
    "start_time": "2022-04-10T09:25:46.761Z"
   },
   {
    "duration": 21,
    "start_time": "2022-04-10T09:25:47.406Z"
   },
   {
    "duration": 38,
    "start_time": "2022-04-10T09:25:47.430Z"
   },
   {
    "duration": 35,
    "start_time": "2022-04-10T09:25:47.471Z"
   },
   {
    "duration": 13,
    "start_time": "2022-04-10T09:25:47.508Z"
   },
   {
    "duration": 5,
    "start_time": "2022-04-10T09:25:47.524Z"
   },
   {
    "duration": 7,
    "start_time": "2022-04-10T09:25:47.531Z"
   },
   {
    "duration": 30,
    "start_time": "2022-04-10T09:25:47.540Z"
   },
   {
    "duration": 26,
    "start_time": "2022-04-10T09:25:47.573Z"
   },
   {
    "duration": 10,
    "start_time": "2022-04-10T09:25:47.602Z"
   },
   {
    "duration": 74,
    "start_time": "2022-04-10T09:25:47.614Z"
   },
   {
    "duration": 8,
    "start_time": "2022-04-10T09:25:47.691Z"
   },
   {
    "duration": 1511,
    "start_time": "2022-04-10T09:31:19.982Z"
   },
   {
    "duration": 87,
    "start_time": "2022-04-10T09:31:21.496Z"
   },
   {
    "duration": 23,
    "start_time": "2022-04-10T09:31:21.586Z"
   },
   {
    "duration": 57,
    "start_time": "2022-04-10T09:31:21.612Z"
   },
   {
    "duration": 22,
    "start_time": "2022-04-10T09:31:21.678Z"
   },
   {
    "duration": 9,
    "start_time": "2022-04-10T09:31:21.702Z"
   },
   {
    "duration": 25,
    "start_time": "2022-04-10T09:31:21.713Z"
   },
   {
    "duration": 41,
    "start_time": "2022-04-10T09:31:21.740Z"
   },
   {
    "duration": 15,
    "start_time": "2022-04-10T09:31:21.784Z"
   },
   {
    "duration": 27,
    "start_time": "2022-04-10T09:31:21.801Z"
   },
   {
    "duration": 11,
    "start_time": "2022-04-10T09:31:21.830Z"
   },
   {
    "duration": 44,
    "start_time": "2022-04-10T09:31:21.843Z"
   },
   {
    "duration": 32,
    "start_time": "2022-04-10T09:31:21.889Z"
   },
   {
    "duration": 46,
    "start_time": "2022-04-10T09:31:21.926Z"
   },
   {
    "duration": 23,
    "start_time": "2022-04-10T09:31:21.976Z"
   },
   {
    "duration": 20,
    "start_time": "2022-04-10T09:31:22.001Z"
   },
   {
    "duration": 15,
    "start_time": "2022-04-10T09:31:22.023Z"
   },
   {
    "duration": 36,
    "start_time": "2022-04-10T09:31:22.040Z"
   },
   {
    "duration": 34,
    "start_time": "2022-04-10T09:31:22.079Z"
   },
   {
    "duration": 25,
    "start_time": "2022-04-10T09:31:22.116Z"
   },
   {
    "duration": 55,
    "start_time": "2022-04-10T09:31:22.143Z"
   },
   {
    "duration": 25,
    "start_time": "2022-04-10T09:31:22.200Z"
   },
   {
    "duration": 309,
    "start_time": "2022-04-10T09:31:22.228Z"
   },
   {
    "duration": 550,
    "start_time": "2022-04-10T09:31:22.539Z"
   },
   {
    "duration": 346,
    "start_time": "2022-04-10T09:31:23.092Z"
   },
   {
    "duration": 331,
    "start_time": "2022-04-10T09:31:23.441Z"
   },
   {
    "duration": 325,
    "start_time": "2022-04-10T09:31:23.777Z"
   },
   {
    "duration": 351,
    "start_time": "2022-04-10T09:31:24.105Z"
   },
   {
    "duration": 337,
    "start_time": "2022-04-10T09:31:24.459Z"
   },
   {
    "duration": 408,
    "start_time": "2022-04-10T09:31:24.799Z"
   },
   {
    "duration": 279,
    "start_time": "2022-04-10T09:31:25.210Z"
   },
   {
    "duration": 39,
    "start_time": "2022-04-10T09:31:25.492Z"
   },
   {
    "duration": 281,
    "start_time": "2022-04-10T09:31:25.534Z"
   },
   {
    "duration": 18,
    "start_time": "2022-04-10T09:31:25.818Z"
   },
   {
    "duration": 201,
    "start_time": "2022-04-10T09:31:25.838Z"
   },
   {
    "duration": 187,
    "start_time": "2022-04-10T09:31:26.041Z"
   },
   {
    "duration": 197,
    "start_time": "2022-04-10T09:31:26.231Z"
   },
   {
    "duration": 357,
    "start_time": "2022-04-10T09:31:26.431Z"
   },
   {
    "duration": 527,
    "start_time": "2022-04-10T09:31:26.790Z"
   },
   {
    "duration": 7,
    "start_time": "2022-04-10T09:31:27.319Z"
   },
   {
    "duration": 414,
    "start_time": "2022-04-10T09:31:27.332Z"
   },
   {
    "duration": 19,
    "start_time": "2022-04-10T09:31:27.748Z"
   },
   {
    "duration": 315,
    "start_time": "2022-04-10T09:31:27.771Z"
   },
   {
    "duration": 10,
    "start_time": "2022-04-10T09:31:28.088Z"
   },
   {
    "duration": 9,
    "start_time": "2022-04-10T09:31:28.101Z"
   },
   {
    "duration": 405,
    "start_time": "2022-04-10T09:31:28.112Z"
   },
   {
    "duration": 23,
    "start_time": "2022-04-10T09:31:28.519Z"
   },
   {
    "duration": 48,
    "start_time": "2022-04-10T09:31:28.544Z"
   },
   {
    "duration": 22,
    "start_time": "2022-04-10T09:31:28.594Z"
   },
   {
    "duration": 7,
    "start_time": "2022-04-10T09:31:28.618Z"
   },
   {
    "duration": 611,
    "start_time": "2022-04-10T09:31:28.627Z"
   },
   {
    "duration": 612,
    "start_time": "2022-04-10T09:31:29.241Z"
   },
   {
    "duration": 676,
    "start_time": "2022-04-10T09:31:29.856Z"
   },
   {
    "duration": 39,
    "start_time": "2022-04-10T09:31:30.535Z"
   },
   {
    "duration": 52,
    "start_time": "2022-04-10T09:31:30.577Z"
   },
   {
    "duration": 37,
    "start_time": "2022-04-10T09:31:30.632Z"
   },
   {
    "duration": 44,
    "start_time": "2022-04-10T09:31:30.672Z"
   },
   {
    "duration": 10,
    "start_time": "2022-04-10T09:31:30.719Z"
   },
   {
    "duration": 19,
    "start_time": "2022-04-10T09:31:30.732Z"
   },
   {
    "duration": 34,
    "start_time": "2022-04-10T09:31:30.754Z"
   },
   {
    "duration": 31,
    "start_time": "2022-04-10T09:31:30.790Z"
   },
   {
    "duration": 16,
    "start_time": "2022-04-10T09:31:30.823Z"
   },
   {
    "duration": 48,
    "start_time": "2022-04-10T09:31:30.841Z"
   },
   {
    "duration": 7,
    "start_time": "2022-04-10T09:31:30.892Z"
   },
   {
    "duration": 105,
    "start_time": "2022-04-10T09:34:27.135Z"
   }
  ],
  "kernelspec": {
   "display_name": "Python 3 (ipykernel)",
   "language": "python",
   "name": "python3"
  },
  "language_info": {
   "codemirror_mode": {
    "name": "ipython",
    "version": 3
   },
   "file_extension": ".py",
   "mimetype": "text/x-python",
   "name": "python",
   "nbconvert_exporter": "python",
   "pygments_lexer": "ipython3",
   "version": "3.9.7"
  },
  "toc": {
   "base_numbering": 1,
   "nav_menu": {},
   "number_sections": true,
   "sideBar": true,
   "skip_h1_title": true,
   "title_cell": "Table of Contents",
   "title_sidebar": "Contents",
   "toc_cell": false,
   "toc_position": {},
   "toc_section_display": true,
   "toc_window_display": true
  }
 },
 "nbformat": 4,
 "nbformat_minor": 2
}
