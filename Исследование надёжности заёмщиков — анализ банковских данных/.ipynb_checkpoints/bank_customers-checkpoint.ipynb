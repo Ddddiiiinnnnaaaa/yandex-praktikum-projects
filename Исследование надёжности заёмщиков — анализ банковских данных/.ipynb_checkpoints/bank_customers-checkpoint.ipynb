{
 "cells": [
  {
   "cell_type": "markdown",
   "id": "820b1130",
   "metadata": {},
   "source": [
    "### Шаг 1. Обзор данных\n"
   ]
  },
  {
   "cell_type": "code",
   "execution_count": 1,
   "id": "db602d69",
   "metadata": {},
   "outputs": [],
   "source": [
    "# импорт библиотеки pandas\n",
    "import pandas as pd "
   ]
  },
  {
   "cell_type": "code",
   "execution_count": 3,
   "id": "9ee318c2",
   "metadata": {
    "scrolled": true
   },
   "outputs": [
    {
     "data": {
      "text/html": [
       "<div>\n",
       "<style scoped>\n",
       "    .dataframe tbody tr th:only-of-type {\n",
       "        vertical-align: middle;\n",
       "    }\n",
       "\n",
       "    .dataframe tbody tr th {\n",
       "        vertical-align: top;\n",
       "    }\n",
       "\n",
       "    .dataframe thead th {\n",
       "        text-align: right;\n",
       "    }\n",
       "</style>\n",
       "<table border=\"1\" class=\"dataframe\">\n",
       "  <thead>\n",
       "    <tr style=\"text-align: right;\">\n",
       "      <th></th>\n",
       "      <th>children</th>\n",
       "      <th>days_employed</th>\n",
       "      <th>dob_years</th>\n",
       "      <th>education</th>\n",
       "      <th>education_id</th>\n",
       "      <th>family_status</th>\n",
       "      <th>family_status_id</th>\n",
       "      <th>gender</th>\n",
       "      <th>income_type</th>\n",
       "      <th>debt</th>\n",
       "      <th>total_income</th>\n",
       "      <th>purpose</th>\n",
       "    </tr>\n",
       "  </thead>\n",
       "  <tbody>\n",
       "    <tr>\n",
       "      <th>0</th>\n",
       "      <td>1</td>\n",
       "      <td>-8437.673028</td>\n",
       "      <td>42</td>\n",
       "      <td>высшее</td>\n",
       "      <td>0</td>\n",
       "      <td>женат / замужем</td>\n",
       "      <td>0</td>\n",
       "      <td>F</td>\n",
       "      <td>сотрудник</td>\n",
       "      <td>0</td>\n",
       "      <td>253875.639453</td>\n",
       "      <td>покупка жилья</td>\n",
       "    </tr>\n",
       "    <tr>\n",
       "      <th>1</th>\n",
       "      <td>1</td>\n",
       "      <td>-4024.803754</td>\n",
       "      <td>36</td>\n",
       "      <td>среднее</td>\n",
       "      <td>1</td>\n",
       "      <td>женат / замужем</td>\n",
       "      <td>0</td>\n",
       "      <td>F</td>\n",
       "      <td>сотрудник</td>\n",
       "      <td>0</td>\n",
       "      <td>112080.014102</td>\n",
       "      <td>приобретение автомобиля</td>\n",
       "    </tr>\n",
       "    <tr>\n",
       "      <th>2</th>\n",
       "      <td>0</td>\n",
       "      <td>-5623.422610</td>\n",
       "      <td>33</td>\n",
       "      <td>Среднее</td>\n",
       "      <td>1</td>\n",
       "      <td>женат / замужем</td>\n",
       "      <td>0</td>\n",
       "      <td>M</td>\n",
       "      <td>сотрудник</td>\n",
       "      <td>0</td>\n",
       "      <td>145885.952297</td>\n",
       "      <td>покупка жилья</td>\n",
       "    </tr>\n",
       "    <tr>\n",
       "      <th>3</th>\n",
       "      <td>3</td>\n",
       "      <td>-4124.747207</td>\n",
       "      <td>32</td>\n",
       "      <td>среднее</td>\n",
       "      <td>1</td>\n",
       "      <td>женат / замужем</td>\n",
       "      <td>0</td>\n",
       "      <td>M</td>\n",
       "      <td>сотрудник</td>\n",
       "      <td>0</td>\n",
       "      <td>267628.550329</td>\n",
       "      <td>дополнительное образование</td>\n",
       "    </tr>\n",
       "    <tr>\n",
       "      <th>4</th>\n",
       "      <td>0</td>\n",
       "      <td>340266.072047</td>\n",
       "      <td>53</td>\n",
       "      <td>среднее</td>\n",
       "      <td>1</td>\n",
       "      <td>гражданский брак</td>\n",
       "      <td>1</td>\n",
       "      <td>F</td>\n",
       "      <td>пенсионер</td>\n",
       "      <td>0</td>\n",
       "      <td>158616.077870</td>\n",
       "      <td>сыграть свадьбу</td>\n",
       "    </tr>\n",
       "    <tr>\n",
       "      <th>5</th>\n",
       "      <td>0</td>\n",
       "      <td>-926.185831</td>\n",
       "      <td>27</td>\n",
       "      <td>высшее</td>\n",
       "      <td>0</td>\n",
       "      <td>гражданский брак</td>\n",
       "      <td>1</td>\n",
       "      <td>M</td>\n",
       "      <td>компаньон</td>\n",
       "      <td>0</td>\n",
       "      <td>255763.565419</td>\n",
       "      <td>покупка жилья</td>\n",
       "    </tr>\n",
       "    <tr>\n",
       "      <th>6</th>\n",
       "      <td>0</td>\n",
       "      <td>-2879.202052</td>\n",
       "      <td>43</td>\n",
       "      <td>высшее</td>\n",
       "      <td>0</td>\n",
       "      <td>женат / замужем</td>\n",
       "      <td>0</td>\n",
       "      <td>F</td>\n",
       "      <td>компаньон</td>\n",
       "      <td>0</td>\n",
       "      <td>240525.971920</td>\n",
       "      <td>операции с жильем</td>\n",
       "    </tr>\n",
       "    <tr>\n",
       "      <th>7</th>\n",
       "      <td>0</td>\n",
       "      <td>-152.779569</td>\n",
       "      <td>50</td>\n",
       "      <td>СРЕДНЕЕ</td>\n",
       "      <td>1</td>\n",
       "      <td>женат / замужем</td>\n",
       "      <td>0</td>\n",
       "      <td>M</td>\n",
       "      <td>сотрудник</td>\n",
       "      <td>0</td>\n",
       "      <td>135823.934197</td>\n",
       "      <td>образование</td>\n",
       "    </tr>\n",
       "    <tr>\n",
       "      <th>8</th>\n",
       "      <td>2</td>\n",
       "      <td>-6929.865299</td>\n",
       "      <td>35</td>\n",
       "      <td>ВЫСШЕЕ</td>\n",
       "      <td>0</td>\n",
       "      <td>гражданский брак</td>\n",
       "      <td>1</td>\n",
       "      <td>F</td>\n",
       "      <td>сотрудник</td>\n",
       "      <td>0</td>\n",
       "      <td>95856.832424</td>\n",
       "      <td>на проведение свадьбы</td>\n",
       "    </tr>\n",
       "    <tr>\n",
       "      <th>9</th>\n",
       "      <td>0</td>\n",
       "      <td>-2188.756445</td>\n",
       "      <td>41</td>\n",
       "      <td>среднее</td>\n",
       "      <td>1</td>\n",
       "      <td>женат / замужем</td>\n",
       "      <td>0</td>\n",
       "      <td>M</td>\n",
       "      <td>сотрудник</td>\n",
       "      <td>0</td>\n",
       "      <td>144425.938277</td>\n",
       "      <td>покупка жилья для семьи</td>\n",
       "    </tr>\n",
       "  </tbody>\n",
       "</table>\n",
       "</div>"
      ],
      "text/plain": [
       "   children  days_employed  dob_years education  education_id  \\\n",
       "0         1   -8437.673028         42    высшее             0   \n",
       "1         1   -4024.803754         36   среднее             1   \n",
       "2         0   -5623.422610         33   Среднее             1   \n",
       "3         3   -4124.747207         32   среднее             1   \n",
       "4         0  340266.072047         53   среднее             1   \n",
       "5         0    -926.185831         27    высшее             0   \n",
       "6         0   -2879.202052         43    высшее             0   \n",
       "7         0    -152.779569         50   СРЕДНЕЕ             1   \n",
       "8         2   -6929.865299         35    ВЫСШЕЕ             0   \n",
       "9         0   -2188.756445         41   среднее             1   \n",
       "\n",
       "      family_status  family_status_id gender income_type  debt   total_income  \\\n",
       "0   женат / замужем                 0      F   сотрудник     0  253875.639453   \n",
       "1   женат / замужем                 0      F   сотрудник     0  112080.014102   \n",
       "2   женат / замужем                 0      M   сотрудник     0  145885.952297   \n",
       "3   женат / замужем                 0      M   сотрудник     0  267628.550329   \n",
       "4  гражданский брак                 1      F   пенсионер     0  158616.077870   \n",
       "5  гражданский брак                 1      M   компаньон     0  255763.565419   \n",
       "6   женат / замужем                 0      F   компаньон     0  240525.971920   \n",
       "7   женат / замужем                 0      M   сотрудник     0  135823.934197   \n",
       "8  гражданский брак                 1      F   сотрудник     0   95856.832424   \n",
       "9   женат / замужем                 0      M   сотрудник     0  144425.938277   \n",
       "\n",
       "                      purpose  \n",
       "0               покупка жилья  \n",
       "1     приобретение автомобиля  \n",
       "2               покупка жилья  \n",
       "3  дополнительное образование  \n",
       "4             сыграть свадьбу  \n",
       "5               покупка жилья  \n",
       "6           операции с жильем  \n",
       "7                 образование  \n",
       "8       на проведение свадьбы  \n",
       "9     покупка жилья для семьи  "
      ]
     },
     "execution_count": 3,
     "metadata": {},
     "output_type": "execute_result"
    }
   ],
   "source": [
    "statistics.head(10) \n",
    "# получение первых 10 строк таблицы statistics"
   ]
  },
  {
   "cell_type": "code",
   "execution_count": 4,
   "id": "0b43d744",
   "metadata": {},
   "outputs": [
    {
     "name": "stdout",
     "output_type": "stream",
     "text": [
      "<class 'pandas.core.frame.DataFrame'>\n",
      "RangeIndex: 21525 entries, 0 to 21524\n",
      "Data columns (total 12 columns):\n",
      " #   Column            Non-Null Count  Dtype  \n",
      "---  ------            --------------  -----  \n",
      " 0   children          21525 non-null  int64  \n",
      " 1   days_employed     19351 non-null  float64\n",
      " 2   dob_years         21525 non-null  int64  \n",
      " 3   education         21525 non-null  object \n",
      " 4   education_id      21525 non-null  int64  \n",
      " 5   family_status     21525 non-null  object \n",
      " 6   family_status_id  21525 non-null  int64  \n",
      " 7   gender            21525 non-null  object \n",
      " 8   income_type       21525 non-null  object \n",
      " 9   debt              21525 non-null  int64  \n",
      " 10  total_income      19351 non-null  float64\n",
      " 11  purpose           21525 non-null  object \n",
      "dtypes: float64(2), int64(5), object(5)\n",
      "memory usage: 2.0+ MB\n"
     ]
    }
   ],
   "source": [
    "statistics.info() \n",
    "# получение общей информации о данных в таблице statistics"
   ]
  },
  {
   "cell_type": "markdown",
   "id": "e31708ef",
   "metadata": {},
   "source": [
    "**Итак, в таблице двенадцать столбцов.**\n",
    "\n",
    "Тип данных в столбцах разный\n",
    "\n",
    "В названиях колонок нарушения стиля не обнаружены\n",
    "\n"
   ]
  },
  {
   "cell_type": "markdown",
   "id": "dbf157e5",
   "metadata": {},
   "source": [
    "**Выводы**\n",
    "\n",
    "В каждой строке таблицы — данные о клиентах банка. \n",
    "\n",
    "Часть колонок описывает социальную жизнь клиента: количество детей, возраст, уровень образования, трудовой стаж, семейное положение. \n",
    "\n",
    "Остальные данные рассказывают о клиенте, как о пользователе услуг банка: имел ли задолженность по возврату кредитов, цель получения кредита.\n",
    "\n",
    "Предварительно можно утверждать, что, данных достаточно для проверки гипотез. \n",
    "\n",
    "Но количество значений в столбцах days_employed и total_income меньше. Значит, в данных есть пропущенные значения.\n",
    "\n",
    "В колонке days_employed есть как отрицательные, так и положительные значения. Так же является странным, что трудовой стаж в днях указан как вещественное число.\n",
    "\n",
    "Но, предварительно, эти данные для анализа нам не нужны.\n",
    "\n",
    "Доход total_income так же указан как вещественное число - имеет смысл перевести в целое (int)\n",
    "\n",
    "Чтобы двигаться дальше, нужно устранить проблемы в данных."
   ]
  },
  {
   "cell_type": "markdown",
   "id": "34013134",
   "metadata": {},
   "source": [
    "### Шаг 2.1 Заполнение пропусков"
   ]
  },
  {
   "cell_type": "code",
   "execution_count": 5,
   "id": "181058d2",
   "metadata": {
    "scrolled": true
   },
   "outputs": [
    {
     "data": {
      "text/plain": [
       "children               0\n",
       "days_employed       2174\n",
       "dob_years              0\n",
       "education              0\n",
       "education_id           0\n",
       "family_status          0\n",
       "family_status_id       0\n",
       "gender                 0\n",
       "income_type            0\n",
       "debt                   0\n",
       "total_income        2174\n",
       "purpose                0\n",
       "dtype: int64"
      ]
     },
     "execution_count": 5,
     "metadata": {},
     "output_type": "execute_result"
    }
   ],
   "source": [
    "statistics.isna().sum() \n",
    "# посчитаем все пропуски в таблице"
   ]
  },
  {
   "cell_type": "code",
   "execution_count": 6,
   "id": "626f2a54",
   "metadata": {},
   "outputs": [
    {
     "data": {
      "text/html": [
       "<div>\n",
       "<style scoped>\n",
       "    .dataframe tbody tr th:only-of-type {\n",
       "        vertical-align: middle;\n",
       "    }\n",
       "\n",
       "    .dataframe tbody tr th {\n",
       "        vertical-align: top;\n",
       "    }\n",
       "\n",
       "    .dataframe thead th {\n",
       "        text-align: right;\n",
       "    }\n",
       "</style>\n",
       "<table border=\"1\" class=\"dataframe\">\n",
       "  <thead>\n",
       "    <tr style=\"text-align: right;\">\n",
       "      <th></th>\n",
       "      <th>children</th>\n",
       "      <th>days_employed</th>\n",
       "      <th>dob_years</th>\n",
       "      <th>education</th>\n",
       "      <th>education_id</th>\n",
       "      <th>family_status</th>\n",
       "      <th>family_status_id</th>\n",
       "      <th>gender</th>\n",
       "      <th>income_type</th>\n",
       "      <th>debt</th>\n",
       "      <th>total_income</th>\n",
       "      <th>purpose</th>\n",
       "    </tr>\n",
       "  </thead>\n",
       "  <tbody>\n",
       "    <tr>\n",
       "      <th>12</th>\n",
       "      <td>0</td>\n",
       "      <td>NaN</td>\n",
       "      <td>65</td>\n",
       "      <td>среднее</td>\n",
       "      <td>1</td>\n",
       "      <td>гражданский брак</td>\n",
       "      <td>1</td>\n",
       "      <td>M</td>\n",
       "      <td>пенсионер</td>\n",
       "      <td>0</td>\n",
       "      <td>NaN</td>\n",
       "      <td>сыграть свадьбу</td>\n",
       "    </tr>\n",
       "    <tr>\n",
       "      <th>26</th>\n",
       "      <td>0</td>\n",
       "      <td>NaN</td>\n",
       "      <td>41</td>\n",
       "      <td>среднее</td>\n",
       "      <td>1</td>\n",
       "      <td>женат / замужем</td>\n",
       "      <td>0</td>\n",
       "      <td>M</td>\n",
       "      <td>госслужащий</td>\n",
       "      <td>0</td>\n",
       "      <td>NaN</td>\n",
       "      <td>образование</td>\n",
       "    </tr>\n",
       "    <tr>\n",
       "      <th>29</th>\n",
       "      <td>0</td>\n",
       "      <td>NaN</td>\n",
       "      <td>63</td>\n",
       "      <td>среднее</td>\n",
       "      <td>1</td>\n",
       "      <td>Не женат / не замужем</td>\n",
       "      <td>4</td>\n",
       "      <td>F</td>\n",
       "      <td>пенсионер</td>\n",
       "      <td>0</td>\n",
       "      <td>NaN</td>\n",
       "      <td>строительство жилой недвижимости</td>\n",
       "    </tr>\n",
       "    <tr>\n",
       "      <th>41</th>\n",
       "      <td>0</td>\n",
       "      <td>NaN</td>\n",
       "      <td>50</td>\n",
       "      <td>среднее</td>\n",
       "      <td>1</td>\n",
       "      <td>женат / замужем</td>\n",
       "      <td>0</td>\n",
       "      <td>F</td>\n",
       "      <td>госслужащий</td>\n",
       "      <td>0</td>\n",
       "      <td>NaN</td>\n",
       "      <td>сделка с подержанным автомобилем</td>\n",
       "    </tr>\n",
       "    <tr>\n",
       "      <th>55</th>\n",
       "      <td>0</td>\n",
       "      <td>NaN</td>\n",
       "      <td>54</td>\n",
       "      <td>среднее</td>\n",
       "      <td>1</td>\n",
       "      <td>гражданский брак</td>\n",
       "      <td>1</td>\n",
       "      <td>F</td>\n",
       "      <td>пенсионер</td>\n",
       "      <td>1</td>\n",
       "      <td>NaN</td>\n",
       "      <td>сыграть свадьбу</td>\n",
       "    </tr>\n",
       "  </tbody>\n",
       "</table>\n",
       "</div>"
      ],
      "text/plain": [
       "    children  days_employed  dob_years education  education_id  \\\n",
       "12         0            NaN         65   среднее             1   \n",
       "26         0            NaN         41   среднее             1   \n",
       "29         0            NaN         63   среднее             1   \n",
       "41         0            NaN         50   среднее             1   \n",
       "55         0            NaN         54   среднее             1   \n",
       "\n",
       "            family_status  family_status_id gender  income_type  debt  \\\n",
       "12       гражданский брак                 1      M    пенсионер     0   \n",
       "26        женат / замужем                 0      M  госслужащий     0   \n",
       "29  Не женат / не замужем                 4      F    пенсионер     0   \n",
       "41        женат / замужем                 0      F  госслужащий     0   \n",
       "55       гражданский брак                 1      F    пенсионер     1   \n",
       "\n",
       "    total_income                           purpose  \n",
       "12           NaN                   сыграть свадьбу  \n",
       "26           NaN                       образование  \n",
       "29           NaN  строительство жилой недвижимости  \n",
       "41           NaN  сделка с подержанным автомобилем  \n",
       "55           NaN                   сыграть свадьбу  "
      ]
     },
     "execution_count": 6,
     "metadata": {},
     "output_type": "execute_result"
    }
   ],
   "source": [
    "statistics[statistics['days_employed'].isna()].head() \n",
    "# найдем строки с пропусками в столбце days_employed\n",
    "# посмотрим первые 5 строк"
   ]
  },
  {
   "cell_type": "code",
   "execution_count": 7,
   "id": "9a18f4dc",
   "metadata": {},
   "outputs": [
    {
     "data": {
      "text/plain": [
       "10.099883855981417"
      ]
     },
     "execution_count": 7,
     "metadata": {},
     "output_type": "execute_result"
    }
   ],
   "source": [
    "len(statistics[statistics['days_employed'].isna()]) / len(statistics['days_employed']) * 100\n",
    "# посчитаем долю пропущенных значений в столбце с пропусками"
   ]
  },
  {
   "cell_type": "markdown",
   "id": "143da1bc",
   "metadata": {},
   "source": [
    "По таблице видно, что вместо пропущенных значений в столбцах days_employed и total_income  - NaN. \n",
    "\n",
    "Доля пропущенных значений составляет 10%.\n",
    "\n",
    "Данные пропуски могли возникнуть по нескольким причинам:\n",
    "- клиент не указал о себе сведения\n",
    "- клиент, обративщийся в банк за кредитом не имел еще опыта трудовой деятельности или работает неофициально\n",
    "- система дала сбой\n",
    "\n",
    "Что бы пропуски в количественных переменных в дальнейшем имели минимальное влияние на ход исследования заменим их на медианное значение. \n",
    "\n",
    "Для этого вначале заменим значения в столбцах на абсолютные и найдем медианное значение для каждого столбца."
   ]
  },
  {
   "cell_type": "code",
   "execution_count": 8,
   "id": "b93da5b9",
   "metadata": {},
   "outputs": [
    {
     "data": {
      "text/html": [
       "<div>\n",
       "<style scoped>\n",
       "    .dataframe tbody tr th:only-of-type {\n",
       "        vertical-align: middle;\n",
       "    }\n",
       "\n",
       "    .dataframe tbody tr th {\n",
       "        vertical-align: top;\n",
       "    }\n",
       "\n",
       "    .dataframe thead th {\n",
       "        text-align: right;\n",
       "    }\n",
       "</style>\n",
       "<table border=\"1\" class=\"dataframe\">\n",
       "  <thead>\n",
       "    <tr style=\"text-align: right;\">\n",
       "      <th></th>\n",
       "      <th>children</th>\n",
       "      <th>days_employed</th>\n",
       "      <th>dob_years</th>\n",
       "      <th>education</th>\n",
       "      <th>education_id</th>\n",
       "      <th>family_status</th>\n",
       "      <th>family_status_id</th>\n",
       "      <th>gender</th>\n",
       "      <th>income_type</th>\n",
       "      <th>debt</th>\n",
       "      <th>total_income</th>\n",
       "      <th>purpose</th>\n",
       "    </tr>\n",
       "  </thead>\n",
       "  <tbody>\n",
       "    <tr>\n",
       "      <th>0</th>\n",
       "      <td>1</td>\n",
       "      <td>8437.673028</td>\n",
       "      <td>42</td>\n",
       "      <td>высшее</td>\n",
       "      <td>0</td>\n",
       "      <td>женат / замужем</td>\n",
       "      <td>0</td>\n",
       "      <td>F</td>\n",
       "      <td>сотрудник</td>\n",
       "      <td>0</td>\n",
       "      <td>253875.639453</td>\n",
       "      <td>покупка жилья</td>\n",
       "    </tr>\n",
       "    <tr>\n",
       "      <th>1</th>\n",
       "      <td>1</td>\n",
       "      <td>4024.803754</td>\n",
       "      <td>36</td>\n",
       "      <td>среднее</td>\n",
       "      <td>1</td>\n",
       "      <td>женат / замужем</td>\n",
       "      <td>0</td>\n",
       "      <td>F</td>\n",
       "      <td>сотрудник</td>\n",
       "      <td>0</td>\n",
       "      <td>112080.014102</td>\n",
       "      <td>приобретение автомобиля</td>\n",
       "    </tr>\n",
       "    <tr>\n",
       "      <th>2</th>\n",
       "      <td>0</td>\n",
       "      <td>5623.422610</td>\n",
       "      <td>33</td>\n",
       "      <td>Среднее</td>\n",
       "      <td>1</td>\n",
       "      <td>женат / замужем</td>\n",
       "      <td>0</td>\n",
       "      <td>M</td>\n",
       "      <td>сотрудник</td>\n",
       "      <td>0</td>\n",
       "      <td>145885.952297</td>\n",
       "      <td>покупка жилья</td>\n",
       "    </tr>\n",
       "    <tr>\n",
       "      <th>3</th>\n",
       "      <td>3</td>\n",
       "      <td>4124.747207</td>\n",
       "      <td>32</td>\n",
       "      <td>среднее</td>\n",
       "      <td>1</td>\n",
       "      <td>женат / замужем</td>\n",
       "      <td>0</td>\n",
       "      <td>M</td>\n",
       "      <td>сотрудник</td>\n",
       "      <td>0</td>\n",
       "      <td>267628.550329</td>\n",
       "      <td>дополнительное образование</td>\n",
       "    </tr>\n",
       "    <tr>\n",
       "      <th>4</th>\n",
       "      <td>0</td>\n",
       "      <td>340266.072047</td>\n",
       "      <td>53</td>\n",
       "      <td>среднее</td>\n",
       "      <td>1</td>\n",
       "      <td>гражданский брак</td>\n",
       "      <td>1</td>\n",
       "      <td>F</td>\n",
       "      <td>пенсионер</td>\n",
       "      <td>0</td>\n",
       "      <td>158616.077870</td>\n",
       "      <td>сыграть свадьбу</td>\n",
       "    </tr>\n",
       "  </tbody>\n",
       "</table>\n",
       "</div>"
      ],
      "text/plain": [
       "   children  days_employed  dob_years education  education_id  \\\n",
       "0         1    8437.673028         42    высшее             0   \n",
       "1         1    4024.803754         36   среднее             1   \n",
       "2         0    5623.422610         33   Среднее             1   \n",
       "3         3    4124.747207         32   среднее             1   \n",
       "4         0  340266.072047         53   среднее             1   \n",
       "\n",
       "      family_status  family_status_id gender income_type  debt   total_income  \\\n",
       "0   женат / замужем                 0      F   сотрудник     0  253875.639453   \n",
       "1   женат / замужем                 0      F   сотрудник     0  112080.014102   \n",
       "2   женат / замужем                 0      M   сотрудник     0  145885.952297   \n",
       "3   женат / замужем                 0      M   сотрудник     0  267628.550329   \n",
       "4  гражданский брак                 1      F   пенсионер     0  158616.077870   \n",
       "\n",
       "                      purpose  \n",
       "0               покупка жилья  \n",
       "1     приобретение автомобиля  \n",
       "2               покупка жилья  \n",
       "3  дополнительное образование  \n",
       "4             сыграть свадьбу  "
      ]
     },
     "execution_count": 8,
     "metadata": {},
     "output_type": "execute_result"
    }
   ],
   "source": [
    "statistics['days_employed'] = abs(statistics['days_employed'])\n",
    "#заменим значения в столбце days_employed на абсолютные\n",
    "statistics['total_income'] = abs(statistics['total_income'])\n",
    "#заменим значения в столбце total_income на абсолютные\n",
    "statistics.head()"
   ]
  },
  {
   "cell_type": "code",
   "execution_count": 9,
   "id": "30438864",
   "metadata": {},
   "outputs": [
    {
     "data": {
      "text/plain": [
       "2194.220566878695"
      ]
     },
     "execution_count": 9,
     "metadata": {},
     "output_type": "execute_result"
    }
   ],
   "source": [
    "statistics_days_employed = statistics['days_employed'].median() \n",
    "#найдем медиану для столбца days_employed\n",
    "statistics_days_employed"
   ]
  },
  {
   "cell_type": "code",
   "execution_count": 10,
   "id": "24261c38",
   "metadata": {},
   "outputs": [
    {
     "data": {
      "text/plain": [
       "145017.93753253992"
      ]
     },
     "execution_count": 10,
     "metadata": {},
     "output_type": "execute_result"
    }
   ],
   "source": [
    "statistics_total_income = statistics['total_income'].median()\n",
    "#найдем медиану для столбца total_income\n",
    "statistics_total_income"
   ]
  },
  {
   "cell_type": "code",
   "execution_count": 11,
   "id": "af21fa42",
   "metadata": {},
   "outputs": [
    {
     "name": "stdout",
     "output_type": "stream",
     "text": [
      "<class 'pandas.core.frame.DataFrame'>\n",
      "RangeIndex: 21525 entries, 0 to 21524\n",
      "Data columns (total 12 columns):\n",
      " #   Column            Non-Null Count  Dtype  \n",
      "---  ------            --------------  -----  \n",
      " 0   children          21525 non-null  int64  \n",
      " 1   days_employed     21525 non-null  float64\n",
      " 2   dob_years         21525 non-null  int64  \n",
      " 3   education         21525 non-null  object \n",
      " 4   education_id      21525 non-null  int64  \n",
      " 5   family_status     21525 non-null  object \n",
      " 6   family_status_id  21525 non-null  int64  \n",
      " 7   gender            21525 non-null  object \n",
      " 8   income_type       21525 non-null  object \n",
      " 9   debt              21525 non-null  int64  \n",
      " 10  total_income      21525 non-null  float64\n",
      " 11  purpose           21525 non-null  object \n",
      "dtypes: float64(2), int64(5), object(5)\n",
      "memory usage: 2.0+ MB\n"
     ]
    }
   ],
   "source": [
    "statistics['days_employed'] = statistics['days_employed'].fillna(statistics_days_employed)\n",
    "# заменим пропущенные значения в столбце days_employed на медианное значение\n",
    "statistics['total_income'] = statistics['total_income'].fillna(statistics_total_income)\n",
    "# заменим пропущенные значения в столбце total_income на медианное значение\n",
    "statistics.info()\n",
    "# проверим, что пропусков в таблице больше нет"
   ]
  },
  {
   "cell_type": "markdown",
   "id": "7699f24f",
   "metadata": {},
   "source": [
    "### Шаг 2.2 Проверка данных на аномалии и исправления."
   ]
  },
  {
   "cell_type": "markdown",
   "id": "f600fee2",
   "metadata": {},
   "source": [
    "Пропуски в данных устранены, отрицательные значения в данных столбцах days_employed и total_income заменены на абсолютные.\n",
    "\n",
    "Так как в данных могут встречаться различные аномалии, необходимо их вычислить и исправить."
   ]
  },
  {
   "cell_type": "code",
   "execution_count": 12,
   "id": "582d35ec",
   "metadata": {},
   "outputs": [
    {
     "data": {
      "text/plain": [
       " 0     14149\n",
       " 1      4818\n",
       " 2      2055\n",
       " 3       330\n",
       " 20       76\n",
       "-1        47\n",
       " 4        41\n",
       " 5         9\n",
       "Name: children, dtype: int64"
      ]
     },
     "execution_count": 12,
     "metadata": {},
     "output_type": "execute_result"
    }
   ],
   "source": [
    "statistics['children'].value_counts()\n",
    "# узнаем какие уникальные значения встречаются в колонке children и количесвтво их упоминаний"
   ]
  },
  {
   "cell_type": "markdown",
   "id": "7c1ce99e",
   "metadata": {},
   "source": [
    "В столбце children содержится значение 20 и -1, хотя отрицательного числа быть не может - заменим его на абсолютное. И 20 сильно выделяется на фоне остальной выборки. Возможно это действительно многодетные семьи, а возможно опечатка. Сложно сказать наверняка, потому что подобных опечаток на других данных нет. Их количество не так много, поэтому оставлю этот факт без изменения."
   ]
  },
  {
   "cell_type": "code",
   "execution_count": 13,
   "id": "10210b49",
   "metadata": {},
   "outputs": [
    {
     "data": {
      "text/plain": [
       "0     14149\n",
       "1      4865\n",
       "2      2055\n",
       "3       330\n",
       "20       76\n",
       "4        41\n",
       "5         9\n",
       "Name: children, dtype: int64"
      ]
     },
     "execution_count": 13,
     "metadata": {},
     "output_type": "execute_result"
    }
   ],
   "source": [
    "statistics['children'] = abs(statistics['children']) \n",
    "#заменим значения в столбце children на абсолютные\n",
    "statistics['children'].value_counts()\n",
    "# проверим что артефакты в столбце children отсутствуют\n"
   ]
  },
  {
   "cell_type": "code",
   "execution_count": 14,
   "id": "2b730b10",
   "metadata": {},
   "outputs": [
    {
     "data": {
      "text/plain": [
       "женат / замужем          12380\n",
       "гражданский брак          4177\n",
       "Не женат / не замужем     2813\n",
       "в разводе                 1195\n",
       "вдовец / вдова             960\n",
       "Name: family_status, dtype: int64"
      ]
     },
     "execution_count": 14,
     "metadata": {},
     "output_type": "execute_result"
    }
   ],
   "source": [
    "statistics['family_status'].value_counts()\n",
    "# узнаем какие уникальные значения встречаются в колонке family_status и количество их упоминаний"
   ]
  },
  {
   "cell_type": "markdown",
   "id": "49461f05",
   "metadata": {},
   "source": [
    "**В колонке family_status аномальных значений не обнаружено**"
   ]
  },
  {
   "cell_type": "code",
   "execution_count": 15,
   "id": "d12fde06",
   "metadata": {},
   "outputs": [
    {
     "data": {
      "text/plain": [
       "0    19784\n",
       "1     1741\n",
       "Name: debt, dtype: int64"
      ]
     },
     "execution_count": 15,
     "metadata": {},
     "output_type": "execute_result"
    }
   ],
   "source": [
    "statistics['debt'].value_counts()\n",
    "# узнаем какие уникальные значения встречаются в колонке debt и количество их упоминаний"
   ]
  },
  {
   "cell_type": "markdown",
   "id": "f2995f24",
   "metadata": {},
   "source": [
    "**0 - нет просрочки, 1 - была просрочка в столбце debt**"
   ]
  },
  {
   "cell_type": "code",
   "execution_count": 16,
   "id": "46b9dffd",
   "metadata": {},
   "outputs": [
    {
     "data": {
      "text/plain": [
       "array([ 0, 19, 20, 21, 22, 23, 24, 25, 26, 27, 28, 29, 30, 31, 32, 33, 34,\n",
       "       35, 36, 37, 38, 39, 40, 41, 42, 43, 44, 45, 46, 47, 48, 49, 50, 51,\n",
       "       52, 53, 54, 55, 56, 57, 58, 59, 60, 61, 62, 63, 64, 65, 66, 67, 68,\n",
       "       69, 70, 71, 72, 73, 74, 75], dtype=int64)"
      ]
     },
     "execution_count": 16,
     "metadata": {},
     "output_type": "execute_result"
    }
   ],
   "source": [
    "statistics['dob_years'].sort_values().unique()\n",
    "# узнаем какие уникальные значения встречаются в колонке dob_years "
   ]
  },
  {
   "cell_type": "markdown",
   "id": "49b1479d",
   "metadata": {},
   "source": [
    "**В столбце dob_years(возраст клиента) встречаются значения равные 0**\n",
    "\n",
    "Скорее всего возраст клиента не был указан, поэтому разработчиками он был указан как 0. В нашем случае вопросов касательно возраста нет, поэтому этот факт никак не повлияет на наше исследование. Оставляю как есть."
   ]
  },
  {
   "cell_type": "code",
   "execution_count": 17,
   "id": "e84672f9",
   "metadata": {},
   "outputs": [
    {
     "data": {
      "text/plain": [
       "среднее                13750\n",
       "высшее                  4718\n",
       "СРЕДНЕЕ                  772\n",
       "Среднее                  711\n",
       "неоконченное высшее      668\n",
       "ВЫСШЕЕ                   274\n",
       "Высшее                   268\n",
       "начальное                250\n",
       "Неоконченное высшее       47\n",
       "НЕОКОНЧЕННОЕ ВЫСШЕЕ       29\n",
       "НАЧАЛЬНОЕ                 17\n",
       "Начальное                 15\n",
       "ученая степень             4\n",
       "Ученая степень             1\n",
       "УЧЕНАЯ СТЕПЕНЬ             1\n",
       "Name: education, dtype: int64"
      ]
     },
     "execution_count": 17,
     "metadata": {},
     "output_type": "execute_result"
    }
   ],
   "source": [
    "statistics['education'].value_counts()\n",
    "# узнаем какие уникальные значения встречаются в колонке education и количество их упоминаний"
   ]
  },
  {
   "cell_type": "markdown",
   "id": "bfd5a65b",
   "metadata": {},
   "source": [
    "В столбце education встречаются одни и те же значения, записанные с использованием заглавных и строчных букв.\n",
    "\n",
    "Приведем значения к одному регистру с помощью метода str.lower()"
   ]
  },
  {
   "cell_type": "code",
   "execution_count": 18,
   "id": "271c1245",
   "metadata": {},
   "outputs": [
    {
     "data": {
      "text/plain": [
       "среднее                15233\n",
       "высшее                  5260\n",
       "неоконченное высшее      744\n",
       "начальное                282\n",
       "ученая степень             6\n",
       "Name: education, dtype: int64"
      ]
     },
     "execution_count": 18,
     "metadata": {},
     "output_type": "execute_result"
    }
   ],
   "source": [
    "statistics['education'] = statistics['education'].str.lower()\n",
    "# приведем к нижнему регистру данные в столбце education\n",
    "statistics['education'].value_counts()\n",
    "# проверим данные в столбце education"
   ]
  },
  {
   "cell_type": "code",
   "execution_count": 19,
   "id": "747026c6",
   "metadata": {},
   "outputs": [
    {
     "data": {
      "text/plain": [
       "F      14236\n",
       "M       7288\n",
       "XNA        1\n",
       "Name: gender, dtype: int64"
      ]
     },
     "execution_count": 19,
     "metadata": {},
     "output_type": "execute_result"
    }
   ],
   "source": [
    "statistics['gender'].value_counts()\n",
    "# узнаем какие уникальные значения встречаются в колонке gender и количество их упоминаний "
   ]
  },
  {
   "cell_type": "markdown",
   "id": "d5f09f7a",
   "metadata": {},
   "source": [
    "в столбце gender один раз встречается неизвестная аббревиатура XNA.  В нашем случае вопросов касательно пола нет, поэтому этот факт никак не повлияет на наше исследование. Оставляю как есть."
   ]
  },
  {
   "cell_type": "code",
   "execution_count": 20,
   "id": "9acfb979",
   "metadata": {},
   "outputs": [
    {
     "data": {
      "text/plain": [
       "сотрудник          11119\n",
       "компаньон           5085\n",
       "пенсионер           3856\n",
       "госслужащий         1459\n",
       "безработный            2\n",
       "предприниматель        2\n",
       "студент                1\n",
       "в декрете              1\n",
       "Name: income_type, dtype: int64"
      ]
     },
     "execution_count": 20,
     "metadata": {},
     "output_type": "execute_result"
    }
   ],
   "source": [
    "statistics['income_type'].value_counts()\n",
    "# узнаем какие уникальные значения встречаются в колонке income_type и количество их упоминаний"
   ]
  },
  {
   "cell_type": "markdown",
   "id": "4d172c5e",
   "metadata": {},
   "source": [
    "В столбце income_type никаких аномалий не обнаружено"
   ]
  },
  {
   "cell_type": "code",
   "execution_count": 21,
   "id": "c27420b0",
   "metadata": {},
   "outputs": [
    {
     "data": {
      "text/plain": [
       "свадьба                                   797\n",
       "на проведение свадьбы                     777\n",
       "сыграть свадьбу                           774\n",
       "операции с недвижимостью                  676\n",
       "покупка коммерческой недвижимости         664\n",
       "покупка жилья для сдачи                   653\n",
       "операции с жильем                         653\n",
       "операции с коммерческой недвижимостью     651\n",
       "покупка жилья                             647\n",
       "жилье                                     647\n",
       "покупка жилья для семьи                   641\n",
       "строительство собственной недвижимости    635\n",
       "недвижимость                              634\n",
       "операции со своей недвижимостью           630\n",
       "строительство жилой недвижимости          626\n",
       "покупка недвижимости                      624\n",
       "строительство недвижимости                620\n",
       "покупка своего жилья                      620\n",
       "ремонт жилью                              612\n",
       "покупка жилой недвижимости                607\n",
       "на покупку своего автомобиля              505\n",
       "заняться высшим образованием              496\n",
       "автомобиль                                495\n",
       "сделка с подержанным автомобилем          489\n",
       "свой автомобиль                           480\n",
       "на покупку подержанного автомобиля        479\n",
       "автомобили                                478\n",
       "на покупку автомобиля                     472\n",
       "дополнительное образование                462\n",
       "приобретение автомобиля                   462\n",
       "сделка с автомобилем                      455\n",
       "высшее образование                        453\n",
       "образование                               447\n",
       "получение дополнительного образования     447\n",
       "получение образования                     443\n",
       "профильное образование                    436\n",
       "получение высшего образования             426\n",
       "заняться образованием                     412\n",
       "Name: purpose, dtype: int64"
      ]
     },
     "execution_count": 21,
     "metadata": {},
     "output_type": "execute_result"
    }
   ],
   "source": [
    "statistics['purpose'].value_counts()\n",
    "# узнаем какие уникальные значения встречаются в колонке purpose и количество их упоминаний"
   ]
  },
  {
   "cell_type": "markdown",
   "id": "f192291a",
   "metadata": {},
   "source": [
    "В столбце purpose встречаются значения с похожим смыслом, категаризацией их займемся позже."
   ]
  },
  {
   "cell_type": "markdown",
   "id": "c20b2d4e",
   "metadata": {},
   "source": [
    "### Шаг 2.3. Изменение типов данных."
   ]
  },
  {
   "cell_type": "code",
   "execution_count": 22,
   "id": "2ef249f0",
   "metadata": {},
   "outputs": [
    {
     "data": {
      "text/html": [
       "<div>\n",
       "<style scoped>\n",
       "    .dataframe tbody tr th:only-of-type {\n",
       "        vertical-align: middle;\n",
       "    }\n",
       "\n",
       "    .dataframe tbody tr th {\n",
       "        vertical-align: top;\n",
       "    }\n",
       "\n",
       "    .dataframe thead th {\n",
       "        text-align: right;\n",
       "    }\n",
       "</style>\n",
       "<table border=\"1\" class=\"dataframe\">\n",
       "  <thead>\n",
       "    <tr style=\"text-align: right;\">\n",
       "      <th></th>\n",
       "      <th>children</th>\n",
       "      <th>days_employed</th>\n",
       "      <th>dob_years</th>\n",
       "      <th>education</th>\n",
       "      <th>education_id</th>\n",
       "      <th>family_status</th>\n",
       "      <th>family_status_id</th>\n",
       "      <th>gender</th>\n",
       "      <th>income_type</th>\n",
       "      <th>debt</th>\n",
       "      <th>total_income</th>\n",
       "      <th>purpose</th>\n",
       "    </tr>\n",
       "  </thead>\n",
       "  <tbody>\n",
       "    <tr>\n",
       "      <th>0</th>\n",
       "      <td>1</td>\n",
       "      <td>8437</td>\n",
       "      <td>42</td>\n",
       "      <td>высшее</td>\n",
       "      <td>0</td>\n",
       "      <td>женат / замужем</td>\n",
       "      <td>0</td>\n",
       "      <td>F</td>\n",
       "      <td>сотрудник</td>\n",
       "      <td>0</td>\n",
       "      <td>253875</td>\n",
       "      <td>покупка жилья</td>\n",
       "    </tr>\n",
       "    <tr>\n",
       "      <th>1</th>\n",
       "      <td>1</td>\n",
       "      <td>4024</td>\n",
       "      <td>36</td>\n",
       "      <td>среднее</td>\n",
       "      <td>1</td>\n",
       "      <td>женат / замужем</td>\n",
       "      <td>0</td>\n",
       "      <td>F</td>\n",
       "      <td>сотрудник</td>\n",
       "      <td>0</td>\n",
       "      <td>112080</td>\n",
       "      <td>приобретение автомобиля</td>\n",
       "    </tr>\n",
       "    <tr>\n",
       "      <th>2</th>\n",
       "      <td>0</td>\n",
       "      <td>5623</td>\n",
       "      <td>33</td>\n",
       "      <td>среднее</td>\n",
       "      <td>1</td>\n",
       "      <td>женат / замужем</td>\n",
       "      <td>0</td>\n",
       "      <td>M</td>\n",
       "      <td>сотрудник</td>\n",
       "      <td>0</td>\n",
       "      <td>145885</td>\n",
       "      <td>покупка жилья</td>\n",
       "    </tr>\n",
       "    <tr>\n",
       "      <th>3</th>\n",
       "      <td>3</td>\n",
       "      <td>4124</td>\n",
       "      <td>32</td>\n",
       "      <td>среднее</td>\n",
       "      <td>1</td>\n",
       "      <td>женат / замужем</td>\n",
       "      <td>0</td>\n",
       "      <td>M</td>\n",
       "      <td>сотрудник</td>\n",
       "      <td>0</td>\n",
       "      <td>267628</td>\n",
       "      <td>дополнительное образование</td>\n",
       "    </tr>\n",
       "    <tr>\n",
       "      <th>4</th>\n",
       "      <td>0</td>\n",
       "      <td>340266</td>\n",
       "      <td>53</td>\n",
       "      <td>среднее</td>\n",
       "      <td>1</td>\n",
       "      <td>гражданский брак</td>\n",
       "      <td>1</td>\n",
       "      <td>F</td>\n",
       "      <td>пенсионер</td>\n",
       "      <td>0</td>\n",
       "      <td>158616</td>\n",
       "      <td>сыграть свадьбу</td>\n",
       "    </tr>\n",
       "  </tbody>\n",
       "</table>\n",
       "</div>"
      ],
      "text/plain": [
       "   children  days_employed  dob_years education  education_id  \\\n",
       "0         1           8437         42    высшее             0   \n",
       "1         1           4024         36   среднее             1   \n",
       "2         0           5623         33   среднее             1   \n",
       "3         3           4124         32   среднее             1   \n",
       "4         0         340266         53   среднее             1   \n",
       "\n",
       "      family_status  family_status_id gender income_type  debt  total_income  \\\n",
       "0   женат / замужем                 0      F   сотрудник     0        253875   \n",
       "1   женат / замужем                 0      F   сотрудник     0        112080   \n",
       "2   женат / замужем                 0      M   сотрудник     0        145885   \n",
       "3   женат / замужем                 0      M   сотрудник     0        267628   \n",
       "4  гражданский брак                 1      F   пенсионер     0        158616   \n",
       "\n",
       "                      purpose  \n",
       "0               покупка жилья  \n",
       "1     приобретение автомобиля  \n",
       "2               покупка жилья  \n",
       "3  дополнительное образование  \n",
       "4             сыграть свадьбу  "
      ]
     },
     "execution_count": 22,
     "metadata": {},
     "output_type": "execute_result"
    }
   ],
   "source": [
    "statistics['total_income'] = statistics['total_income'].astype('int') \n",
    "# заменим тип float на int в столбце total_income\n",
    "statistics['days_employed'] = statistics['days_employed'].astype('int')\n",
    "# заменим тип float на int в столбце days_employed\n",
    "statistics.head()\n",
    "# выведем 5 первых строк датафрейма на экран"
   ]
  },
  {
   "cell_type": "markdown",
   "id": "c96bb29a",
   "metadata": {},
   "source": [
    "### Шаг 2.4. Удаление дубликатов."
   ]
  },
  {
   "cell_type": "code",
   "execution_count": 23,
   "id": "2b522003",
   "metadata": {},
   "outputs": [
    {
     "data": {
      "text/plain": [
       "71"
      ]
     },
     "execution_count": 23,
     "metadata": {},
     "output_type": "execute_result"
    }
   ],
   "source": [
    "statistics.duplicated().sum()\n",
    "# посчитаем количество явных дубликатов"
   ]
  },
  {
   "cell_type": "code",
   "execution_count": 24,
   "id": "8fad8444",
   "metadata": {},
   "outputs": [
    {
     "data": {
      "text/plain": [
       "0"
      ]
     },
     "execution_count": 24,
     "metadata": {},
     "output_type": "execute_result"
    }
   ],
   "source": [
    "statistics = statistics.drop_duplicates().reset_index(drop=True)\n",
    "# удалим явные дубликаты и поправим индексацию\n",
    "statistics.duplicated().sum()\n"
   ]
  },
  {
   "cell_type": "markdown",
   "id": "7befed0c",
   "metadata": {},
   "source": [
    "Итак, были проверены все столбцы, устранены аномалии, которые могут повлиять на ход исследования и устренены дубликаты.\n",
    "\n",
    "Дубликаты могли появиться по нескольким причинам:\n",
    "- внесение в датафрейм повторных данных\n",
    "- если клиент несколько раз обращался за кредитом в данный банк \n",
    "- системная ошибка"
   ]
  },
  {
   "cell_type": "markdown",
   "id": "14293388",
   "metadata": {},
   "source": [
    "### Шаг 2.5. Формирование дополнительных датафреймов словарей, декомпозиция исходного датафрейма."
   ]
  },
  {
   "cell_type": "markdown",
   "id": "e4c449c1",
   "metadata": {},
   "source": [
    "**Я честно не поняла для чего это надо было сделать. Если только для общего сведения**"
   ]
  },
  {
   "cell_type": "code",
   "execution_count": 25,
   "id": "8f4769a7",
   "metadata": {},
   "outputs": [
    {
     "data": {
      "text/html": [
       "<div>\n",
       "<style scoped>\n",
       "    .dataframe tbody tr th:only-of-type {\n",
       "        vertical-align: middle;\n",
       "    }\n",
       "\n",
       "    .dataframe tbody tr th {\n",
       "        vertical-align: top;\n",
       "    }\n",
       "\n",
       "    .dataframe thead th {\n",
       "        text-align: right;\n",
       "    }\n",
       "</style>\n",
       "<table border=\"1\" class=\"dataframe\">\n",
       "  <thead>\n",
       "    <tr style=\"text-align: right;\">\n",
       "      <th></th>\n",
       "      <th>education</th>\n",
       "      <th>education_id</th>\n",
       "    </tr>\n",
       "  </thead>\n",
       "  <tbody>\n",
       "    <tr>\n",
       "      <th>0</th>\n",
       "      <td>высшее</td>\n",
       "      <td>0</td>\n",
       "    </tr>\n",
       "    <tr>\n",
       "      <th>1</th>\n",
       "      <td>среднее</td>\n",
       "      <td>1</td>\n",
       "    </tr>\n",
       "    <tr>\n",
       "      <th>2</th>\n",
       "      <td>неоконченное высшее</td>\n",
       "      <td>2</td>\n",
       "    </tr>\n",
       "    <tr>\n",
       "      <th>3</th>\n",
       "      <td>начальное</td>\n",
       "      <td>3</td>\n",
       "    </tr>\n",
       "    <tr>\n",
       "      <th>4</th>\n",
       "      <td>ученая степень</td>\n",
       "      <td>4</td>\n",
       "    </tr>\n",
       "  </tbody>\n",
       "</table>\n",
       "</div>"
      ],
      "text/plain": [
       "             education  education_id\n",
       "0               высшее             0\n",
       "1              среднее             1\n",
       "2  неоконченное высшее             2\n",
       "3            начальное             3\n",
       "4       ученая степень             4"
      ]
     },
     "execution_count": 25,
     "metadata": {},
     "output_type": "execute_result"
    }
   ],
   "source": [
    "stat_education = statistics[['education','education_id']]\n",
    "# создадим новый датафрейм со столбцами education, education_id\n",
    "stat_education = stat_education.drop_duplicates().reset_index(drop=True)\n",
    "# удалим из этого списка повторы\n",
    "stat_education.head()"
   ]
  },
  {
   "cell_type": "code",
   "execution_count": 26,
   "id": "958aea64",
   "metadata": {},
   "outputs": [
    {
     "data": {
      "text/html": [
       "<div>\n",
       "<style scoped>\n",
       "    .dataframe tbody tr th:only-of-type {\n",
       "        vertical-align: middle;\n",
       "    }\n",
       "\n",
       "    .dataframe tbody tr th {\n",
       "        vertical-align: top;\n",
       "    }\n",
       "\n",
       "    .dataframe thead th {\n",
       "        text-align: right;\n",
       "    }\n",
       "</style>\n",
       "<table border=\"1\" class=\"dataframe\">\n",
       "  <thead>\n",
       "    <tr style=\"text-align: right;\">\n",
       "      <th></th>\n",
       "      <th>family_status</th>\n",
       "      <th>family_status_id</th>\n",
       "    </tr>\n",
       "  </thead>\n",
       "  <tbody>\n",
       "    <tr>\n",
       "      <th>0</th>\n",
       "      <td>женат / замужем</td>\n",
       "      <td>0</td>\n",
       "    </tr>\n",
       "    <tr>\n",
       "      <th>1</th>\n",
       "      <td>гражданский брак</td>\n",
       "      <td>1</td>\n",
       "    </tr>\n",
       "    <tr>\n",
       "      <th>2</th>\n",
       "      <td>вдовец / вдова</td>\n",
       "      <td>2</td>\n",
       "    </tr>\n",
       "    <tr>\n",
       "      <th>3</th>\n",
       "      <td>в разводе</td>\n",
       "      <td>3</td>\n",
       "    </tr>\n",
       "    <tr>\n",
       "      <th>4</th>\n",
       "      <td>Не женат / не замужем</td>\n",
       "      <td>4</td>\n",
       "    </tr>\n",
       "  </tbody>\n",
       "</table>\n",
       "</div>"
      ],
      "text/plain": [
       "           family_status  family_status_id\n",
       "0        женат / замужем                 0\n",
       "1       гражданский брак                 1\n",
       "2         вдовец / вдова                 2\n",
       "3              в разводе                 3\n",
       "4  Не женат / не замужем                 4"
      ]
     },
     "execution_count": 26,
     "metadata": {},
     "output_type": "execute_result"
    }
   ],
   "source": [
    "stat_family = statistics[['family_status','family_status_id']]\n",
    "# создадим новый датафрейм со столбцами family_status,family_status_id\n",
    "stat_family = stat_family.drop_duplicates().reset_index(drop=True)\n",
    "# удалим из этого списка повторы\n",
    "stat_family.head()"
   ]
  },
  {
   "cell_type": "code",
   "execution_count": 27,
   "id": "87c19f6d",
   "metadata": {},
   "outputs": [
    {
     "name": "stdout",
     "output_type": "stream",
     "text": [
      "<class 'pandas.core.frame.DataFrame'>\n",
      "RangeIndex: 21454 entries, 0 to 21453\n",
      "Data columns (total 10 columns):\n",
      " #   Column            Non-Null Count  Dtype \n",
      "---  ------            --------------  ----- \n",
      " 0   children          21454 non-null  int64 \n",
      " 1   days_employed     21454 non-null  int32 \n",
      " 2   dob_years         21454 non-null  int64 \n",
      " 3   education_id      21454 non-null  int64 \n",
      " 4   family_status_id  21454 non-null  int64 \n",
      " 5   gender            21454 non-null  object\n",
      " 6   income_type       21454 non-null  object\n",
      " 7   debt              21454 non-null  int64 \n",
      " 8   total_income      21454 non-null  int32 \n",
      " 9   purpose           21454 non-null  object\n",
      "dtypes: int32(2), int64(5), object(3)\n",
      "memory usage: 1.5+ MB\n"
     ]
    }
   ],
   "source": [
    "del statistics['education']\n",
    "# удалим из исходного датафрейма столбец education\n",
    "del statistics['family_status']\n",
    "# удалим из исходного датафрейма столбец family_status\n",
    "#посмотрим, остались ли столбцы\n",
    "statistics.info()"
   ]
  },
  {
   "cell_type": "markdown",
   "id": "97036fbd",
   "metadata": {},
   "source": [
    "### Шаг 2.6. Категоризация дохода."
   ]
  },
  {
   "cell_type": "code",
   "execution_count": 28,
   "id": "54beb4e6",
   "metadata": {},
   "outputs": [],
   "source": [
    "def total_income_group(income):\n",
    "    if income <= 30000:\n",
    "        return 'E'\n",
    "    if income <= 50000:\n",
    "        return 'D'\n",
    "    if income <= 200000:\n",
    "        return 'C'\n",
    "    if income <= 1000000:\n",
    "        return 'B'\n",
    "    return 'A'\n",
    "# создадим функцию, которая поделит столбец total_income на категории"
   ]
  },
  {
   "cell_type": "code",
   "execution_count": 29,
   "id": "200c8730",
   "metadata": {},
   "outputs": [],
   "source": [
    "statistics['total_income_group'] = statistics['total_income'].apply(total_income_group)\n",
    "# добавим в датафрейм столбец с категориями"
   ]
  },
  {
   "cell_type": "code",
   "execution_count": 30,
   "id": "a576639b",
   "metadata": {},
   "outputs": [
    {
     "data": {
      "text/html": [
       "<div>\n",
       "<style scoped>\n",
       "    .dataframe tbody tr th:only-of-type {\n",
       "        vertical-align: middle;\n",
       "    }\n",
       "\n",
       "    .dataframe tbody tr th {\n",
       "        vertical-align: top;\n",
       "    }\n",
       "\n",
       "    .dataframe thead th {\n",
       "        text-align: right;\n",
       "    }\n",
       "</style>\n",
       "<table border=\"1\" class=\"dataframe\">\n",
       "  <thead>\n",
       "    <tr style=\"text-align: right;\">\n",
       "      <th></th>\n",
       "      <th>children</th>\n",
       "      <th>days_employed</th>\n",
       "      <th>dob_years</th>\n",
       "      <th>education_id</th>\n",
       "      <th>family_status_id</th>\n",
       "      <th>gender</th>\n",
       "      <th>income_type</th>\n",
       "      <th>debt</th>\n",
       "      <th>total_income</th>\n",
       "      <th>purpose</th>\n",
       "      <th>total_income_group</th>\n",
       "    </tr>\n",
       "  </thead>\n",
       "  <tbody>\n",
       "    <tr>\n",
       "      <th>0</th>\n",
       "      <td>1</td>\n",
       "      <td>8437</td>\n",
       "      <td>42</td>\n",
       "      <td>0</td>\n",
       "      <td>0</td>\n",
       "      <td>F</td>\n",
       "      <td>сотрудник</td>\n",
       "      <td>0</td>\n",
       "      <td>253875</td>\n",
       "      <td>покупка жилья</td>\n",
       "      <td>B</td>\n",
       "    </tr>\n",
       "    <tr>\n",
       "      <th>1</th>\n",
       "      <td>1</td>\n",
       "      <td>4024</td>\n",
       "      <td>36</td>\n",
       "      <td>1</td>\n",
       "      <td>0</td>\n",
       "      <td>F</td>\n",
       "      <td>сотрудник</td>\n",
       "      <td>0</td>\n",
       "      <td>112080</td>\n",
       "      <td>приобретение автомобиля</td>\n",
       "      <td>C</td>\n",
       "    </tr>\n",
       "    <tr>\n",
       "      <th>2</th>\n",
       "      <td>0</td>\n",
       "      <td>5623</td>\n",
       "      <td>33</td>\n",
       "      <td>1</td>\n",
       "      <td>0</td>\n",
       "      <td>M</td>\n",
       "      <td>сотрудник</td>\n",
       "      <td>0</td>\n",
       "      <td>145885</td>\n",
       "      <td>покупка жилья</td>\n",
       "      <td>C</td>\n",
       "    </tr>\n",
       "    <tr>\n",
       "      <th>3</th>\n",
       "      <td>3</td>\n",
       "      <td>4124</td>\n",
       "      <td>32</td>\n",
       "      <td>1</td>\n",
       "      <td>0</td>\n",
       "      <td>M</td>\n",
       "      <td>сотрудник</td>\n",
       "      <td>0</td>\n",
       "      <td>267628</td>\n",
       "      <td>дополнительное образование</td>\n",
       "      <td>B</td>\n",
       "    </tr>\n",
       "    <tr>\n",
       "      <th>4</th>\n",
       "      <td>0</td>\n",
       "      <td>340266</td>\n",
       "      <td>53</td>\n",
       "      <td>1</td>\n",
       "      <td>1</td>\n",
       "      <td>F</td>\n",
       "      <td>пенсионер</td>\n",
       "      <td>0</td>\n",
       "      <td>158616</td>\n",
       "      <td>сыграть свадьбу</td>\n",
       "      <td>C</td>\n",
       "    </tr>\n",
       "  </tbody>\n",
       "</table>\n",
       "</div>"
      ],
      "text/plain": [
       "   children  days_employed  dob_years  education_id  family_status_id gender  \\\n",
       "0         1           8437         42             0                 0      F   \n",
       "1         1           4024         36             1                 0      F   \n",
       "2         0           5623         33             1                 0      M   \n",
       "3         3           4124         32             1                 0      M   \n",
       "4         0         340266         53             1                 1      F   \n",
       "\n",
       "  income_type  debt  total_income                     purpose  \\\n",
       "0   сотрудник     0        253875               покупка жилья   \n",
       "1   сотрудник     0        112080     приобретение автомобиля   \n",
       "2   сотрудник     0        145885               покупка жилья   \n",
       "3   сотрудник     0        267628  дополнительное образование   \n",
       "4   пенсионер     0        158616             сыграть свадьбу   \n",
       "\n",
       "  total_income_group  \n",
       "0                  B  \n",
       "1                  C  \n",
       "2                  C  \n",
       "3                  B  \n",
       "4                  C  "
      ]
     },
     "execution_count": 30,
     "metadata": {},
     "output_type": "execute_result"
    }
   ],
   "source": [
    "statistics.head()\n",
    "# проверим работает ли функция как задуманно"
   ]
  },
  {
   "cell_type": "code",
   "execution_count": 31,
   "id": "84df253f",
   "metadata": {},
   "outputs": [
    {
     "data": {
      "text/plain": [
       "C    16016\n",
       "B     5041\n",
       "D      350\n",
       "A       25\n",
       "E       22\n",
       "Name: total_income_group, dtype: int64"
      ]
     },
     "execution_count": 31,
     "metadata": {},
     "output_type": "execute_result"
    }
   ],
   "source": [
    "statistics['total_income_group'].value_counts()\n",
    "# посмотрим как распределились доходы"
   ]
  },
  {
   "cell_type": "markdown",
   "id": "3f52e47f",
   "metadata": {},
   "source": [
    "Исходя из этой категоризации можно сказать, что за кредитом чаще всего обращаються люди со средним доходом(50001-200000)"
   ]
  },
  {
   "cell_type": "markdown",
   "id": "1954bb97",
   "metadata": {},
   "source": [
    "### Шаг 2.7. Категоризация целей кредита."
   ]
  },
  {
   "cell_type": "code",
   "execution_count": 32,
   "id": "329c56fc",
   "metadata": {},
   "outputs": [
    {
     "data": {
      "text/plain": [
       "array(['автомобили', 'автомобиль', 'высшее образование',\n",
       "       'дополнительное образование', 'жилье',\n",
       "       'заняться высшим образованием', 'заняться образованием',\n",
       "       'на покупку автомобиля', 'на покупку подержанного автомобиля',\n",
       "       'на покупку своего автомобиля', 'на проведение свадьбы',\n",
       "       'недвижимость', 'образование', 'операции с жильем',\n",
       "       'операции с коммерческой недвижимостью',\n",
       "       'операции с недвижимостью', 'операции со своей недвижимостью',\n",
       "       'покупка жилой недвижимости', 'покупка жилья',\n",
       "       'покупка жилья для сдачи', 'покупка жилья для семьи',\n",
       "       'покупка коммерческой недвижимости', 'покупка недвижимости',\n",
       "       'покупка своего жилья', 'получение высшего образования',\n",
       "       'получение дополнительного образования', 'получение образования',\n",
       "       'приобретение автомобиля', 'профильное образование',\n",
       "       'ремонт жилью', 'свадьба', 'свой автомобиль',\n",
       "       'сделка с автомобилем', 'сделка с подержанным автомобилем',\n",
       "       'строительство жилой недвижимости', 'строительство недвижимости',\n",
       "       'строительство собственной недвижимости', 'сыграть свадьбу'],\n",
       "      dtype=object)"
      ]
     },
     "execution_count": 32,
     "metadata": {},
     "output_type": "execute_result"
    }
   ],
   "source": [
    "statistics['purpose'].sort_values().unique()\n",
    "# посмотрим уникальные названия в столбце purpose"
   ]
  },
  {
   "cell_type": "code",
   "execution_count": 33,
   "id": "6e5378fc",
   "metadata": {},
   "outputs": [],
   "source": [
    "# создам функцию для замены значений в столбце purpose\n",
    "def purpose_category(wrong_category,correct_category):\n",
    "    statistics['purpose'] = statistics['purpose'].replace(wrong_category,correct_category)\n"
   ]
  },
  {
   "cell_type": "code",
   "execution_count": 34,
   "id": "1f3171a2",
   "metadata": {},
   "outputs": [],
   "source": [
    "purpose_category(['автомобили', 'автомобиль','на покупку автомобиля', 'на покупку подержанного автомобиля',\n",
    "                  'на покупку своего автомобиля','приобретение автомобиля','свой автомобиль','сделка с автомобилем',\n",
    "                  'сделка с подержанным автомобилем'], 'операции с автомобилем')"
   ]
  },
  {
   "cell_type": "code",
   "execution_count": 35,
   "id": "b6a4a87e",
   "metadata": {},
   "outputs": [],
   "source": [
    "purpose_category(['жилье','недвижимость','операции с жильем','операции с коммерческой недвижимостью',\n",
    "       'операции с недвижимостью', 'операции со своей недвижимостью',\n",
    "       'покупка жилой недвижимости', 'покупка жилья',\n",
    "       'покупка жилья для сдачи', 'покупка жилья для семьи',\n",
    "       'покупка коммерческой недвижимости', 'покупка недвижимости',\n",
    "       'покупка своего жилья','ремонт жилью','строительство жилой недвижимости', 'строительство недвижимости',\n",
    "       'строительство собственной недвижимости'], 'операции с недвижимостью')"
   ]
  },
  {
   "cell_type": "code",
   "execution_count": 36,
   "id": "3af0207a",
   "metadata": {},
   "outputs": [
    {
     "data": {
      "text/plain": [
       "array(['высшее образование', 'дополнительное образование',\n",
       "       'заняться высшим образованием', 'заняться образованием',\n",
       "       'на проведение свадьбы', 'образование', 'операции с автомобилем',\n",
       "       'операции с недвижимостью', 'получение высшего образования',\n",
       "       'получение дополнительного образования', 'получение образования',\n",
       "       'профильное образование', 'свадьба', 'сыграть свадьбу'],\n",
       "      dtype=object)"
      ]
     },
     "execution_count": 36,
     "metadata": {},
     "output_type": "execute_result"
    }
   ],
   "source": [
    "statistics['purpose'].sort_values().unique()"
   ]
  },
  {
   "cell_type": "code",
   "execution_count": 37,
   "id": "e7be010d",
   "metadata": {},
   "outputs": [],
   "source": [
    "purpose_category(['на проведение свадьбы','свадьба', 'сыграть свадьбу'], 'проведение свадьбы')"
   ]
  },
  {
   "cell_type": "code",
   "execution_count": 38,
   "id": "45cadca4",
   "metadata": {},
   "outputs": [
    {
     "data": {
      "text/plain": [
       "array(['высшее образование', 'дополнительное образование',\n",
       "       'заняться высшим образованием', 'заняться образованием',\n",
       "       'образование', 'операции с автомобилем',\n",
       "       'операции с недвижимостью', 'получение высшего образования',\n",
       "       'получение дополнительного образования', 'получение образования',\n",
       "       'проведение свадьбы', 'профильное образование'], dtype=object)"
      ]
     },
     "execution_count": 38,
     "metadata": {},
     "output_type": "execute_result"
    }
   ],
   "source": [
    "statistics['purpose'].sort_values().unique()"
   ]
  },
  {
   "cell_type": "code",
   "execution_count": 39,
   "id": "9702ab66",
   "metadata": {},
   "outputs": [],
   "source": [
    "purpose_category(['высшее образование', 'дополнительное образование',\n",
    "       'заняться высшим образованием', 'заняться образованием',\n",
    "       'образование','получение высшего образования',\n",
    "       'получение дополнительного образования', 'получение образования','профильное образование'], 'получение образования')"
   ]
  },
  {
   "cell_type": "code",
   "execution_count": 40,
   "id": "c4d140c9",
   "metadata": {},
   "outputs": [
    {
     "data": {
      "text/plain": [
       "операции с недвижимостью    10811\n",
       "операции с автомобилем       4306\n",
       "получение образования        4013\n",
       "проведение свадьбы           2324\n",
       "Name: purpose, dtype: int64"
      ]
     },
     "execution_count": 40,
     "metadata": {},
     "output_type": "execute_result"
    }
   ],
   "source": [
    "statistics['purpose'].value_counts()\n",
    "# посчитаем сколько раз встречается та или иная категория"
   ]
  },
  {
   "cell_type": "code",
   "execution_count": 41,
   "id": "a0baa1ce",
   "metadata": {},
   "outputs": [
    {
     "data": {
      "text/html": [
       "<div>\n",
       "<style scoped>\n",
       "    .dataframe tbody tr th:only-of-type {\n",
       "        vertical-align: middle;\n",
       "    }\n",
       "\n",
       "    .dataframe tbody tr th {\n",
       "        vertical-align: top;\n",
       "    }\n",
       "\n",
       "    .dataframe thead th {\n",
       "        text-align: right;\n",
       "    }\n",
       "</style>\n",
       "<table border=\"1\" class=\"dataframe\">\n",
       "  <thead>\n",
       "    <tr style=\"text-align: right;\">\n",
       "      <th></th>\n",
       "      <th>children</th>\n",
       "      <th>days_employed</th>\n",
       "      <th>dob_years</th>\n",
       "      <th>education_id</th>\n",
       "      <th>family_status_id</th>\n",
       "      <th>gender</th>\n",
       "      <th>income_type</th>\n",
       "      <th>debt</th>\n",
       "      <th>total_income</th>\n",
       "      <th>purpose</th>\n",
       "      <th>total_income_group</th>\n",
       "    </tr>\n",
       "  </thead>\n",
       "  <tbody>\n",
       "    <tr>\n",
       "      <th>0</th>\n",
       "      <td>1</td>\n",
       "      <td>8437</td>\n",
       "      <td>42</td>\n",
       "      <td>0</td>\n",
       "      <td>0</td>\n",
       "      <td>F</td>\n",
       "      <td>сотрудник</td>\n",
       "      <td>0</td>\n",
       "      <td>253875</td>\n",
       "      <td>операции с недвижимостью</td>\n",
       "      <td>B</td>\n",
       "    </tr>\n",
       "    <tr>\n",
       "      <th>1</th>\n",
       "      <td>1</td>\n",
       "      <td>4024</td>\n",
       "      <td>36</td>\n",
       "      <td>1</td>\n",
       "      <td>0</td>\n",
       "      <td>F</td>\n",
       "      <td>сотрудник</td>\n",
       "      <td>0</td>\n",
       "      <td>112080</td>\n",
       "      <td>операции с автомобилем</td>\n",
       "      <td>C</td>\n",
       "    </tr>\n",
       "    <tr>\n",
       "      <th>2</th>\n",
       "      <td>0</td>\n",
       "      <td>5623</td>\n",
       "      <td>33</td>\n",
       "      <td>1</td>\n",
       "      <td>0</td>\n",
       "      <td>M</td>\n",
       "      <td>сотрудник</td>\n",
       "      <td>0</td>\n",
       "      <td>145885</td>\n",
       "      <td>операции с недвижимостью</td>\n",
       "      <td>C</td>\n",
       "    </tr>\n",
       "    <tr>\n",
       "      <th>3</th>\n",
       "      <td>3</td>\n",
       "      <td>4124</td>\n",
       "      <td>32</td>\n",
       "      <td>1</td>\n",
       "      <td>0</td>\n",
       "      <td>M</td>\n",
       "      <td>сотрудник</td>\n",
       "      <td>0</td>\n",
       "      <td>267628</td>\n",
       "      <td>получение образования</td>\n",
       "      <td>B</td>\n",
       "    </tr>\n",
       "    <tr>\n",
       "      <th>4</th>\n",
       "      <td>0</td>\n",
       "      <td>340266</td>\n",
       "      <td>53</td>\n",
       "      <td>1</td>\n",
       "      <td>1</td>\n",
       "      <td>F</td>\n",
       "      <td>пенсионер</td>\n",
       "      <td>0</td>\n",
       "      <td>158616</td>\n",
       "      <td>проведение свадьбы</td>\n",
       "      <td>C</td>\n",
       "    </tr>\n",
       "  </tbody>\n",
       "</table>\n",
       "</div>"
      ],
      "text/plain": [
       "   children  days_employed  dob_years  education_id  family_status_id gender  \\\n",
       "0         1           8437         42             0                 0      F   \n",
       "1         1           4024         36             1                 0      F   \n",
       "2         0           5623         33             1                 0      M   \n",
       "3         3           4124         32             1                 0      M   \n",
       "4         0         340266         53             1                 1      F   \n",
       "\n",
       "  income_type  debt  total_income                   purpose total_income_group  \n",
       "0   сотрудник     0        253875  операции с недвижимостью                  B  \n",
       "1   сотрудник     0        112080    операции с автомобилем                  C  \n",
       "2   сотрудник     0        145885  операции с недвижимостью                  C  \n",
       "3   сотрудник     0        267628     получение образования                  B  \n",
       "4   пенсионер     0        158616        проведение свадьбы                  C  "
      ]
     },
     "execution_count": 41,
     "metadata": {},
     "output_type": "execute_result"
    }
   ],
   "source": [
    "statistics.head()"
   ]
  },
  {
   "cell_type": "markdown",
   "id": "3f8b7abc",
   "metadata": {},
   "source": [
    "Исходя из этой категоризации можно сказать, что за кредитом чаще всего обращаються для проведения операций с недвижимостью."
   ]
  },
  {
   "cell_type": "markdown",
   "id": "e022bfcc",
   "metadata": {},
   "source": [
    "### Шаг 2.8. Категоризация по количеству детей"
   ]
  },
  {
   "cell_type": "code",
   "execution_count": 42,
   "id": "b6f74ffe",
   "metadata": {},
   "outputs": [
    {
     "data": {
      "text/plain": [
       "Нет детей      14091\n",
       "1 ребенок       4855\n",
       "2 ребенка       2052\n",
       "Много детей      456\n",
       "Name: children_category, dtype: int64"
      ]
     },
     "execution_count": 42,
     "metadata": {},
     "output_type": "execute_result"
    }
   ],
   "source": [
    "# создам функцию для категоризации данных \n",
    "def children_category(children_count):\n",
    "    if children_count == 1:\n",
    "        return '1 ребенок'\n",
    "    if children_count == 2:\n",
    "        return '2 ребенка'\n",
    "    if children_count >= 3:\n",
    "        return 'Много детей'\n",
    "    return 'Нет детей'\n",
    "\n",
    "statistics['children_category'] = statistics['children'].apply(children_category) \n",
    "# использую метод apply() для создания столбца с подкатегориями\n",
    "\n",
    "# проверим, что все ок\n",
    "statistics['children_category'].value_counts()"
   ]
  },
  {
   "cell_type": "markdown",
   "id": "4b8056a1",
   "metadata": {},
   "source": [
    "Исходя из этой категоризации можно сказать, что за кредитом чаще всего обращаються люди без детей."
   ]
  },
  {
   "cell_type": "markdown",
   "id": "9cd75c9b",
   "metadata": {},
   "source": [
    "### Шаг 3. Ответы на вопросы"
   ]
  },
  {
   "cell_type": "markdown",
   "id": "ee9f26f8",
   "metadata": {},
   "source": [
    "**Есть ли зависимость между наличием детей и возвратом кредита в срок?**"
   ]
  },
  {
   "cell_type": "code",
   "execution_count": 43,
   "id": "5f5a0e05",
   "metadata": {},
   "outputs": [
    {
     "data": {
      "text/html": [
       "<div>\n",
       "<style scoped>\n",
       "    .dataframe tbody tr th:only-of-type {\n",
       "        vertical-align: middle;\n",
       "    }\n",
       "\n",
       "    .dataframe tbody tr th {\n",
       "        vertical-align: top;\n",
       "    }\n",
       "\n",
       "    .dataframe thead tr th {\n",
       "        text-align: left;\n",
       "    }\n",
       "\n",
       "    .dataframe thead tr:last-of-type th {\n",
       "        text-align: right;\n",
       "    }\n",
       "</style>\n",
       "<table border=\"1\" class=\"dataframe\">\n",
       "  <thead>\n",
       "    <tr>\n",
       "      <th></th>\n",
       "      <th>sum</th>\n",
       "      <th>count</th>\n",
       "      <th>gives_answers</th>\n",
       "    </tr>\n",
       "    <tr>\n",
       "      <th></th>\n",
       "      <th>debt</th>\n",
       "      <th>debt</th>\n",
       "      <th>debt</th>\n",
       "    </tr>\n",
       "    <tr>\n",
       "      <th>children_category</th>\n",
       "      <th></th>\n",
       "      <th></th>\n",
       "      <th></th>\n",
       "    </tr>\n",
       "  </thead>\n",
       "  <tbody>\n",
       "    <tr>\n",
       "      <th>Нет детей</th>\n",
       "      <td>1063</td>\n",
       "      <td>14091</td>\n",
       "      <td>7.54%</td>\n",
       "    </tr>\n",
       "    <tr>\n",
       "      <th>Много детей</th>\n",
       "      <td>39</td>\n",
       "      <td>456</td>\n",
       "      <td>8.55%</td>\n",
       "    </tr>\n",
       "    <tr>\n",
       "      <th>1 ребенок</th>\n",
       "      <td>445</td>\n",
       "      <td>4855</td>\n",
       "      <td>9.17%</td>\n",
       "    </tr>\n",
       "    <tr>\n",
       "      <th>2 ребенка</th>\n",
       "      <td>194</td>\n",
       "      <td>2052</td>\n",
       "      <td>9.45%</td>\n",
       "    </tr>\n",
       "  </tbody>\n",
       "</table>\n",
       "</div>"
      ],
      "text/plain": [
       "                    sum  count gives_answers\n",
       "                   debt   debt          debt\n",
       "children_category                           \n",
       "Нет детей          1063  14091         7.54%\n",
       "Много детей          39    456         8.55%\n",
       "1 ребенок           445   4855         9.17%\n",
       "2 ребенка           194   2052         9.45%"
      ]
     },
     "execution_count": 43,
     "metadata": {},
     "output_type": "execute_result"
    }
   ],
   "source": [
    "# создам функцию, которая даст мне ответы на все вопросы \n",
    "def gives_answers(pdSerises):\n",
    "    return str(round((pdSerises.sum() / pdSerises.count()) * 100, 2)) + '%'\n",
    "\n",
    "# построим сводную таблицу для ответа на вопрос\n",
    "data_pivot = statistics.pivot_table(index=['children_category'], values=[\"debt\"], aggfunc=['sum', 'count', gives_answers])\n",
    "# сортируем, чтобы сразу видеть у кого ситуация лучше\n",
    "data_pivot = data_pivot.sort_values(by=('gives_answers', 'debt'))\n",
    "data_pivot"
   ]
  },
  {
   "cell_type": "markdown",
   "id": "35b1174a",
   "metadata": {},
   "source": [
    "Можно сделать вывод, что у заемщиков у которых нет детей вероятность просрочки ниже."
   ]
  },
  {
   "cell_type": "markdown",
   "id": "a1b70069",
   "metadata": {},
   "source": [
    "**Есть ли зависимость между семейным положением и возвратом кредита в срок?**"
   ]
  },
  {
   "cell_type": "code",
   "execution_count": 44,
   "id": "f2feccac",
   "metadata": {},
   "outputs": [
    {
     "data": {
      "text/html": [
       "<div>\n",
       "<style scoped>\n",
       "    .dataframe tbody tr th:only-of-type {\n",
       "        vertical-align: middle;\n",
       "    }\n",
       "\n",
       "    .dataframe tbody tr th {\n",
       "        vertical-align: top;\n",
       "    }\n",
       "\n",
       "    .dataframe thead tr th {\n",
       "        text-align: left;\n",
       "    }\n",
       "\n",
       "    .dataframe thead tr:last-of-type th {\n",
       "        text-align: right;\n",
       "    }\n",
       "</style>\n",
       "<table border=\"1\" class=\"dataframe\">\n",
       "  <thead>\n",
       "    <tr>\n",
       "      <th></th>\n",
       "      <th>sum</th>\n",
       "      <th>count</th>\n",
       "      <th>gives_answers</th>\n",
       "    </tr>\n",
       "    <tr>\n",
       "      <th></th>\n",
       "      <th>debt</th>\n",
       "      <th>debt</th>\n",
       "      <th>debt</th>\n",
       "    </tr>\n",
       "    <tr>\n",
       "      <th>family_status</th>\n",
       "      <th></th>\n",
       "      <th></th>\n",
       "      <th></th>\n",
       "    </tr>\n",
       "  </thead>\n",
       "  <tbody>\n",
       "    <tr>\n",
       "      <th>вдовец / вдова</th>\n",
       "      <td>63</td>\n",
       "      <td>959</td>\n",
       "      <td>6.57%</td>\n",
       "    </tr>\n",
       "    <tr>\n",
       "      <th>в разводе</th>\n",
       "      <td>85</td>\n",
       "      <td>1195</td>\n",
       "      <td>7.11%</td>\n",
       "    </tr>\n",
       "    <tr>\n",
       "      <th>женат / замужем</th>\n",
       "      <td>931</td>\n",
       "      <td>12339</td>\n",
       "      <td>7.55%</td>\n",
       "    </tr>\n",
       "    <tr>\n",
       "      <th>гражданский брак</th>\n",
       "      <td>388</td>\n",
       "      <td>4151</td>\n",
       "      <td>9.35%</td>\n",
       "    </tr>\n",
       "    <tr>\n",
       "      <th>Не женат / не замужем</th>\n",
       "      <td>274</td>\n",
       "      <td>2810</td>\n",
       "      <td>9.75%</td>\n",
       "    </tr>\n",
       "  </tbody>\n",
       "</table>\n",
       "</div>"
      ],
      "text/plain": [
       "                       sum  count gives_answers\n",
       "                      debt   debt          debt\n",
       "family_status                                  \n",
       "вдовец / вдова          63    959         6.57%\n",
       "в разводе               85   1195         7.11%\n",
       "женат / замужем        931  12339         7.55%\n",
       "гражданский брак       388   4151         9.35%\n",
       "Не женат / не замужем  274   2810         9.75%"
      ]
     },
     "execution_count": 44,
     "metadata": {},
     "output_type": "execute_result"
    }
   ],
   "source": [
    "# поскольку мы до этого удаляли из основных данных текстовые значения,вернем их обратно\n",
    "stat_with_family_status = statistics.merge(stat_family, on='family_status_id', how='left')\n",
    "\n",
    "# построим сводную таблицу для ответа на вопрос (по фрейму со значениями из словаря)\n",
    "data_pivot = stat_with_family_status.pivot_table(index=['family_status'], values=['debt'], aggfunc=['sum', 'count', gives_answers])\n",
    "# сортируем, чтобы сразу видеть у кого ситуация лучше\n",
    "data_pivot = data_pivot.sort_values(by=('gives_answers', 'debt'))\n",
    "data_pivot"
   ]
  },
  {
   "cell_type": "markdown",
   "id": "39ecfdc3",
   "metadata": {},
   "source": [
    "Можно сделать вывод, что вдовцы и вдовы реже имеют прострочку по кредиту."
   ]
  },
  {
   "cell_type": "markdown",
   "id": "4f4ee933",
   "metadata": {},
   "source": [
    "**Есть ли зависимость между уровнем дохода и возвратом кредита в срок?**"
   ]
  },
  {
   "cell_type": "code",
   "execution_count": 45,
   "id": "e1a53c99",
   "metadata": {},
   "outputs": [
    {
     "data": {
      "text/html": [
       "<div>\n",
       "<style scoped>\n",
       "    .dataframe tbody tr th:only-of-type {\n",
       "        vertical-align: middle;\n",
       "    }\n",
       "\n",
       "    .dataframe tbody tr th {\n",
       "        vertical-align: top;\n",
       "    }\n",
       "\n",
       "    .dataframe thead tr th {\n",
       "        text-align: left;\n",
       "    }\n",
       "\n",
       "    .dataframe thead tr:last-of-type th {\n",
       "        text-align: right;\n",
       "    }\n",
       "</style>\n",
       "<table border=\"1\" class=\"dataframe\">\n",
       "  <thead>\n",
       "    <tr>\n",
       "      <th></th>\n",
       "      <th>sum</th>\n",
       "      <th>count</th>\n",
       "      <th>gives_answers</th>\n",
       "    </tr>\n",
       "    <tr>\n",
       "      <th></th>\n",
       "      <th>debt</th>\n",
       "      <th>debt</th>\n",
       "      <th>debt</th>\n",
       "    </tr>\n",
       "    <tr>\n",
       "      <th>total_income_group</th>\n",
       "      <th></th>\n",
       "      <th></th>\n",
       "      <th></th>\n",
       "    </tr>\n",
       "  </thead>\n",
       "  <tbody>\n",
       "    <tr>\n",
       "      <th>D</th>\n",
       "      <td>21</td>\n",
       "      <td>350</td>\n",
       "      <td>6.0%</td>\n",
       "    </tr>\n",
       "    <tr>\n",
       "      <th>B</th>\n",
       "      <td>356</td>\n",
       "      <td>5041</td>\n",
       "      <td>7.06%</td>\n",
       "    </tr>\n",
       "    <tr>\n",
       "      <th>A</th>\n",
       "      <td>2</td>\n",
       "      <td>25</td>\n",
       "      <td>8.0%</td>\n",
       "    </tr>\n",
       "    <tr>\n",
       "      <th>C</th>\n",
       "      <td>1360</td>\n",
       "      <td>16016</td>\n",
       "      <td>8.49%</td>\n",
       "    </tr>\n",
       "    <tr>\n",
       "      <th>E</th>\n",
       "      <td>2</td>\n",
       "      <td>22</td>\n",
       "      <td>9.09%</td>\n",
       "    </tr>\n",
       "  </tbody>\n",
       "</table>\n",
       "</div>"
      ],
      "text/plain": [
       "                     sum  count gives_answers\n",
       "                    debt   debt          debt\n",
       "total_income_group                           \n",
       "D                     21    350          6.0%\n",
       "B                    356   5041         7.06%\n",
       "A                      2     25          8.0%\n",
       "C                   1360  16016         8.49%\n",
       "E                      2     22         9.09%"
      ]
     },
     "execution_count": 45,
     "metadata": {},
     "output_type": "execute_result"
    }
   ],
   "source": [
    "# построим сводную таблицу для ответа на вопрос\n",
    "data_pivot =statistics.pivot_table(index=['total_income_group'], values=[\"debt\"], aggfunc=['sum', 'count', gives_answers])\n",
    "# сортируем, чтобы сразу видеть у кого ситуация лучше\n",
    "data_pivot = data_pivot.sort_values(by=('gives_answers', 'debt'))\n",
    "data_pivot"
   ]
  },
  {
   "cell_type": "markdown",
   "id": "da3d726e",
   "metadata": {},
   "source": [
    "Можно сделать вывод, что меньше всего просрочек по кредитом у клиентов со средними доходами."
   ]
  },
  {
   "cell_type": "markdown",
   "id": "4b00dbd2",
   "metadata": {},
   "source": [
    "**Как разные цели кредита влияют на его возврат в срок?**"
   ]
  },
  {
   "cell_type": "code",
   "execution_count": 46,
   "id": "9bb14ca7",
   "metadata": {},
   "outputs": [
    {
     "data": {
      "text/html": [
       "<div>\n",
       "<style scoped>\n",
       "    .dataframe tbody tr th:only-of-type {\n",
       "        vertical-align: middle;\n",
       "    }\n",
       "\n",
       "    .dataframe tbody tr th {\n",
       "        vertical-align: top;\n",
       "    }\n",
       "\n",
       "    .dataframe thead tr th {\n",
       "        text-align: left;\n",
       "    }\n",
       "\n",
       "    .dataframe thead tr:last-of-type th {\n",
       "        text-align: right;\n",
       "    }\n",
       "</style>\n",
       "<table border=\"1\" class=\"dataframe\">\n",
       "  <thead>\n",
       "    <tr>\n",
       "      <th></th>\n",
       "      <th>sum</th>\n",
       "      <th>count</th>\n",
       "      <th>gives_answers</th>\n",
       "    </tr>\n",
       "    <tr>\n",
       "      <th></th>\n",
       "      <th>debt</th>\n",
       "      <th>debt</th>\n",
       "      <th>debt</th>\n",
       "    </tr>\n",
       "    <tr>\n",
       "      <th>purpose</th>\n",
       "      <th></th>\n",
       "      <th></th>\n",
       "      <th></th>\n",
       "    </tr>\n",
       "  </thead>\n",
       "  <tbody>\n",
       "    <tr>\n",
       "      <th>операции с недвижимостью</th>\n",
       "      <td>782</td>\n",
       "      <td>10811</td>\n",
       "      <td>7.23%</td>\n",
       "    </tr>\n",
       "    <tr>\n",
       "      <th>проведение свадьбы</th>\n",
       "      <td>186</td>\n",
       "      <td>2324</td>\n",
       "      <td>8.0%</td>\n",
       "    </tr>\n",
       "    <tr>\n",
       "      <th>получение образования</th>\n",
       "      <td>370</td>\n",
       "      <td>4013</td>\n",
       "      <td>9.22%</td>\n",
       "    </tr>\n",
       "    <tr>\n",
       "      <th>операции с автомобилем</th>\n",
       "      <td>403</td>\n",
       "      <td>4306</td>\n",
       "      <td>9.36%</td>\n",
       "    </tr>\n",
       "  </tbody>\n",
       "</table>\n",
       "</div>"
      ],
      "text/plain": [
       "                          sum  count gives_answers\n",
       "                         debt   debt          debt\n",
       "purpose                                           \n",
       "операции с недвижимостью  782  10811         7.23%\n",
       "проведение свадьбы        186   2324          8.0%\n",
       "получение образования     370   4013         9.22%\n",
       "операции с автомобилем    403   4306         9.36%"
      ]
     },
     "execution_count": 46,
     "metadata": {},
     "output_type": "execute_result"
    }
   ],
   "source": [
    "# построим сводную таблицу для ответа на вопрос\n",
    "data_pivot = statistics.pivot_table(index=['purpose'], values=[\"debt\"], aggfunc=['sum', 'count', gives_answers])\n",
    "# сортируем, чтобы сразу видеть у кого ситуация лучше\n",
    "data_pivot = data_pivot.sort_values(by=('gives_answers', 'debt'))\n",
    "data_pivot"
   ]
  },
  {
   "cell_type": "markdown",
   "id": "1d51c962",
   "metadata": {},
   "source": [
    "Можно сделать вывод, что когда клиент берет кредит на недвижимость риск просрочки меньше."
   ]
  },
  {
   "cell_type": "markdown",
   "id": "4323a0b2",
   "metadata": {},
   "source": [
    "## Общий вывод:"
   ]
  },
  {
   "cell_type": "markdown",
   "id": "2e36b9dc",
   "metadata": {},
   "source": [
    "Можно сделать вывод, что реже всего просрочка по кредиту возможна у вдовцов не имеющих детей с доходом от 30001 до 50000, взявший кредит на покупку недвижимости.\n",
    "\n",
    "Чаще всего просрочка по кредиту возможна у клиентов с двумя детьми, которые не находяться в браке с доходами ниже 30000 и взявшие кредит на покупку автомобиля.\n",
    "\n",
    "Однако, стоит заметить, что разница между значениями не такая большая - порядка 2 - 3%. Поэтому можно сказать, что наличие детей, семейное положение, уровень доходи и цели кредита не значительно влияет на риск возникновения задолжности клиента перед банком."
   ]
  }
 ],
 "metadata": {
  "ExecuteTimeLog": [
   {
    "duration": 724,
    "start_time": "2022-02-04T09:40:30.391Z"
   },
   {
    "duration": 69,
    "start_time": "2022-02-04T10:05:06.883Z"
   },
   {
    "duration": 3,
    "start_time": "2022-02-04T10:22:14.442Z"
   },
   {
    "duration": 568,
    "start_time": "2022-02-04T13:46:55.939Z"
   },
   {
    "duration": 51,
    "start_time": "2022-02-04T13:46:58.711Z"
   },
   {
    "duration": 22,
    "start_time": "2022-02-04T13:47:12.698Z"
   },
   {
    "duration": 11,
    "start_time": "2022-02-04T13:50:26.919Z"
   },
   {
    "duration": 11,
    "start_time": "2022-02-04T14:28:48.852Z"
   },
   {
    "duration": 92,
    "start_time": "2022-02-04T14:53:19.773Z"
   },
   {
    "duration": 640,
    "start_time": "2022-02-05T06:20:57.282Z"
   },
   {
    "duration": 55,
    "start_time": "2022-02-05T06:20:59.116Z"
   },
   {
    "duration": 22,
    "start_time": "2022-02-05T06:21:01.763Z"
   },
   {
    "duration": 13,
    "start_time": "2022-02-05T06:21:07.941Z"
   },
   {
    "duration": 4,
    "start_time": "2022-02-05T09:37:01.832Z"
   },
   {
    "duration": 13,
    "start_time": "2022-02-05T09:37:38.974Z"
   },
   {
    "duration": 20,
    "start_time": "2022-02-05T09:38:38.375Z"
   },
   {
    "duration": 14,
    "start_time": "2022-02-05T09:55:30.280Z"
   },
   {
    "duration": 6,
    "start_time": "2022-02-05T09:59:38.545Z"
   },
   {
    "duration": 6,
    "start_time": "2022-02-05T10:09:59.279Z"
   },
   {
    "duration": 7,
    "start_time": "2022-02-05T10:10:01.169Z"
   },
   {
    "duration": 7,
    "start_time": "2022-02-05T10:11:13.898Z"
   },
   {
    "duration": 6,
    "start_time": "2022-02-05T10:24:12.041Z"
   },
   {
    "duration": 4,
    "start_time": "2022-02-05T12:29:14.644Z"
   },
   {
    "duration": 4,
    "start_time": "2022-02-05T12:29:17.665Z"
   },
   {
    "duration": 3,
    "start_time": "2022-02-05T12:29:36.735Z"
   },
   {
    "duration": 5,
    "start_time": "2022-02-05T12:29:47.558Z"
   },
   {
    "duration": 11,
    "start_time": "2022-02-05T13:49:29.640Z"
   },
   {
    "duration": 15,
    "start_time": "2022-02-05T13:52:41.231Z"
   },
   {
    "duration": 10,
    "start_time": "2022-02-05T13:53:13.135Z"
   },
   {
    "duration": 11,
    "start_time": "2022-02-05T13:53:29.421Z"
   },
   {
    "duration": 3,
    "start_time": "2022-02-05T13:53:42.565Z"
   },
   {
    "duration": 50,
    "start_time": "2022-02-05T13:53:44.708Z"
   },
   {
    "duration": 13,
    "start_time": "2022-02-05T13:53:46.886Z"
   },
   {
    "duration": 12,
    "start_time": "2022-02-05T13:53:50.413Z"
   },
   {
    "duration": 11,
    "start_time": "2022-02-05T13:54:02.413Z"
   },
   {
    "duration": 6,
    "start_time": "2022-02-05T13:55:31.813Z"
   },
   {
    "duration": 14,
    "start_time": "2022-02-05T13:56:53.446Z"
   },
   {
    "duration": 351,
    "start_time": "2022-02-05T13:59:54.080Z"
   },
   {
    "duration": 265,
    "start_time": "2022-02-05T14:00:12.691Z"
   },
   {
    "duration": 14,
    "start_time": "2022-02-05T14:00:22.238Z"
   },
   {
    "duration": 16,
    "start_time": "2022-02-05T14:11:17.479Z"
   },
   {
    "duration": 6,
    "start_time": "2022-02-05T14:12:18.773Z"
   },
   {
    "duration": 15,
    "start_time": "2022-02-05T14:13:44.897Z"
   },
   {
    "duration": 16,
    "start_time": "2022-02-05T14:15:01.660Z"
   },
   {
    "duration": 101,
    "start_time": "2022-02-05T14:17:43.747Z"
   },
   {
    "duration": 7,
    "start_time": "2022-02-05T14:18:01.012Z"
   },
   {
    "duration": 7,
    "start_time": "2022-02-05T14:18:18.804Z"
   },
   {
    "duration": 4,
    "start_time": "2022-02-05T14:20:04.323Z"
   },
   {
    "duration": 5,
    "start_time": "2022-02-05T14:20:15.210Z"
   },
   {
    "duration": 4,
    "start_time": "2022-02-05T14:20:17.846Z"
   },
   {
    "duration": 15,
    "start_time": "2022-02-05T14:21:19.826Z"
   },
   {
    "duration": 4,
    "start_time": "2022-02-05T14:29:16.962Z"
   },
   {
    "duration": 7,
    "start_time": "2022-02-05T14:29:56.577Z"
   },
   {
    "duration": 13,
    "start_time": "2022-02-05T15:00:53.162Z"
   },
   {
    "duration": 5,
    "start_time": "2022-02-05T15:00:53.337Z"
   },
   {
    "duration": 61,
    "start_time": "2022-02-05T15:00:53.343Z"
   },
   {
    "duration": 15,
    "start_time": "2022-02-05T15:00:53.406Z"
   },
   {
    "duration": 13,
    "start_time": "2022-02-05T15:00:53.439Z"
   },
   {
    "duration": 15,
    "start_time": "2022-02-05T15:01:48.589Z"
   },
   {
    "duration": 15,
    "start_time": "2022-02-05T15:08:14.559Z"
   },
   {
    "duration": 15,
    "start_time": "2022-02-05T15:09:12.795Z"
   },
   {
    "duration": 4,
    "start_time": "2022-02-05T15:09:23.419Z"
   },
   {
    "duration": 6,
    "start_time": "2022-02-05T15:09:31.307Z"
   },
   {
    "duration": 16,
    "start_time": "2022-02-05T15:12:41.515Z"
   },
   {
    "duration": 6,
    "start_time": "2022-02-05T15:15:51.812Z"
   },
   {
    "duration": 6,
    "start_time": "2022-02-05T15:17:43.292Z"
   },
   {
    "duration": 14,
    "start_time": "2022-02-05T15:17:52.497Z"
   },
   {
    "duration": 7,
    "start_time": "2022-02-05T15:24:56.315Z"
   },
   {
    "duration": -4852,
    "start_time": "2022-02-05T15:27:25.498Z"
   },
   {
    "duration": 262,
    "start_time": "2022-02-05T15:27:52.079Z"
   },
   {
    "duration": 8,
    "start_time": "2022-02-05T15:28:05.057Z"
   },
   {
    "duration": 8,
    "start_time": "2022-02-05T15:28:48.568Z"
   },
   {
    "duration": 276,
    "start_time": "2022-02-05T15:29:30.771Z"
   },
   {
    "duration": 287,
    "start_time": "2022-02-05T15:30:34.854Z"
   },
   {
    "duration": 27,
    "start_time": "2022-02-05T15:31:45.825Z"
   },
   {
    "duration": 253,
    "start_time": "2022-02-05T15:35:00.753Z"
   },
   {
    "duration": 6,
    "start_time": "2022-02-05T15:36:16.888Z"
   },
   {
    "duration": 512,
    "start_time": "2022-02-05T15:36:33.696Z"
   },
   {
    "duration": 8,
    "start_time": "2022-02-05T15:36:58.351Z"
   },
   {
    "duration": 2,
    "start_time": "2022-02-05T15:37:58.044Z"
   },
   {
    "duration": 10,
    "start_time": "2022-02-05T15:38:17.738Z"
   },
   {
    "duration": 7,
    "start_time": "2022-02-05T15:39:05.727Z"
   },
   {
    "duration": 8,
    "start_time": "2022-02-05T15:39:52.064Z"
   },
   {
    "duration": 9,
    "start_time": "2022-02-05T15:40:41.448Z"
   },
   {
    "duration": 347,
    "start_time": "2022-02-06T05:04:40.424Z"
   },
   {
    "duration": 828,
    "start_time": "2022-02-06T05:04:59.772Z"
   },
   {
    "duration": 61,
    "start_time": "2022-02-06T05:05:00.686Z"
   },
   {
    "duration": 28,
    "start_time": "2022-02-06T05:05:01.567Z"
   },
   {
    "duration": 15,
    "start_time": "2022-02-06T05:05:05.911Z"
   },
   {
    "duration": 13,
    "start_time": "2022-02-06T05:05:12.059Z"
   },
   {
    "duration": 19,
    "start_time": "2022-02-06T05:05:14.799Z"
   },
   {
    "duration": 9,
    "start_time": "2022-02-06T05:05:17.717Z"
   },
   {
    "duration": 19,
    "start_time": "2022-02-06T05:05:20.695Z"
   },
   {
    "duration": 7,
    "start_time": "2022-02-06T05:05:26.092Z"
   },
   {
    "duration": 6,
    "start_time": "2022-02-06T05:05:27.575Z"
   },
   {
    "duration": 17,
    "start_time": "2022-02-06T05:05:31.328Z"
   },
   {
    "duration": 8,
    "start_time": "2022-02-06T05:05:37.832Z"
   },
   {
    "duration": 45,
    "start_time": "2022-02-06T05:05:46.784Z"
   },
   {
    "duration": 41,
    "start_time": "2022-02-06T05:05:55.532Z"
   },
   {
    "duration": 40,
    "start_time": "2022-02-06T05:06:36.178Z"
   },
   {
    "duration": 43,
    "start_time": "2022-02-06T05:07:06.668Z"
   },
   {
    "duration": 58,
    "start_time": "2022-02-06T05:13:09.654Z"
   },
   {
    "duration": 41,
    "start_time": "2022-02-06T05:14:30.064Z"
   },
   {
    "duration": 28,
    "start_time": "2022-02-06T05:15:39.030Z"
   },
   {
    "duration": 27,
    "start_time": "2022-02-06T05:16:53.855Z"
   },
   {
    "duration": 334,
    "start_time": "2022-02-06T05:22:19.756Z"
   },
   {
    "duration": 32,
    "start_time": "2022-02-06T05:24:23.126Z"
   },
   {
    "duration": 9,
    "start_time": "2022-02-06T05:28:20.386Z"
   },
   {
    "duration": 9,
    "start_time": "2022-02-06T05:29:08.380Z"
   },
   {
    "duration": 9,
    "start_time": "2022-02-06T05:29:11.441Z"
   },
   {
    "duration": 8,
    "start_time": "2022-02-06T05:29:21.699Z"
   },
   {
    "duration": 9,
    "start_time": "2022-02-06T05:29:29.310Z"
   },
   {
    "duration": 7,
    "start_time": "2022-02-06T05:29:32.820Z"
   },
   {
    "duration": 8,
    "start_time": "2022-02-06T05:30:02.795Z"
   },
   {
    "duration": 3,
    "start_time": "2022-02-06T05:30:10.233Z"
   },
   {
    "duration": 60,
    "start_time": "2022-02-06T05:30:11.859Z"
   },
   {
    "duration": 18,
    "start_time": "2022-02-06T05:30:13.489Z"
   },
   {
    "duration": 15,
    "start_time": "2022-02-06T05:30:15.113Z"
   },
   {
    "duration": 13,
    "start_time": "2022-02-06T05:30:20.763Z"
   },
   {
    "duration": 20,
    "start_time": "2022-02-06T05:30:22.165Z"
   },
   {
    "duration": 8,
    "start_time": "2022-02-06T05:30:23.337Z"
   },
   {
    "duration": 19,
    "start_time": "2022-02-06T05:30:25.665Z"
   },
   {
    "duration": 9,
    "start_time": "2022-02-06T05:30:28.865Z"
   },
   {
    "duration": 7,
    "start_time": "2022-02-06T05:30:30.482Z"
   },
   {
    "duration": 17,
    "start_time": "2022-02-06T05:30:32.594Z"
   },
   {
    "duration": 9,
    "start_time": "2022-02-06T05:30:37.120Z"
   },
   {
    "duration": 9,
    "start_time": "2022-02-06T05:30:39.743Z"
   },
   {
    "duration": 10,
    "start_time": "2022-02-06T05:32:59.947Z"
   },
   {
    "duration": 9,
    "start_time": "2022-02-06T05:33:06.841Z"
   },
   {
    "duration": 3,
    "start_time": "2022-02-06T05:34:05.675Z"
   },
   {
    "duration": 9,
    "start_time": "2022-02-06T05:34:10.273Z"
   },
   {
    "duration": 11,
    "start_time": "2022-02-06T05:35:11.833Z"
   },
   {
    "duration": 12,
    "start_time": "2022-02-06T05:35:17.379Z"
   },
   {
    "duration": 9,
    "start_time": "2022-02-06T05:35:37.388Z"
   },
   {
    "duration": 11,
    "start_time": "2022-02-06T05:37:41.666Z"
   },
   {
    "duration": 361,
    "start_time": "2022-02-06T07:33:17.148Z"
   },
   {
    "duration": 314,
    "start_time": "2022-02-06T07:34:22.680Z"
   },
   {
    "duration": 611,
    "start_time": "2022-02-06T07:34:37.352Z"
   },
   {
    "duration": 46,
    "start_time": "2022-02-06T07:34:37.964Z"
   },
   {
    "duration": 16,
    "start_time": "2022-02-06T07:34:38.671Z"
   },
   {
    "duration": 10,
    "start_time": "2022-02-06T07:34:39.477Z"
   },
   {
    "duration": 9,
    "start_time": "2022-02-06T07:34:42.855Z"
   },
   {
    "duration": 12,
    "start_time": "2022-02-06T07:34:43.589Z"
   },
   {
    "duration": 5,
    "start_time": "2022-02-06T07:34:44.421Z"
   },
   {
    "duration": 12,
    "start_time": "2022-02-06T07:34:45.975Z"
   },
   {
    "duration": 5,
    "start_time": "2022-02-06T07:34:46.754Z"
   },
   {
    "duration": 5,
    "start_time": "2022-02-06T07:34:47.823Z"
   },
   {
    "duration": 11,
    "start_time": "2022-02-06T07:34:48.652Z"
   },
   {
    "duration": 5,
    "start_time": "2022-02-06T07:34:51.250Z"
   },
   {
    "duration": 6,
    "start_time": "2022-02-06T07:34:52.645Z"
   },
   {
    "duration": 6,
    "start_time": "2022-02-06T07:34:53.970Z"
   },
   {
    "duration": 6,
    "start_time": "2022-02-06T07:34:56.793Z"
   },
   {
    "duration": 6,
    "start_time": "2022-02-06T07:34:59.558Z"
   },
   {
    "duration": 7,
    "start_time": "2022-02-06T07:35:02.971Z"
   },
   {
    "duration": 7,
    "start_time": "2022-02-06T07:35:05.564Z"
   },
   {
    "duration": 741,
    "start_time": "2022-02-06T07:35:18.220Z"
   },
   {
    "duration": 318,
    "start_time": "2022-02-06T07:42:17.555Z"
   },
   {
    "duration": 345,
    "start_time": "2022-02-06T08:10:01.449Z"
   },
   {
    "duration": 17,
    "start_time": "2022-02-06T08:11:24.216Z"
   },
   {
    "duration": 12,
    "start_time": "2022-02-06T08:45:59.599Z"
   },
   {
    "duration": 12,
    "start_time": "2022-02-06T08:46:31.505Z"
   },
   {
    "duration": 7,
    "start_time": "2022-02-06T08:46:54.327Z"
   },
   {
    "duration": 7,
    "start_time": "2022-02-06T08:47:08.452Z"
   },
   {
    "duration": 8,
    "start_time": "2022-02-06T08:47:34.749Z"
   },
   {
    "duration": 17,
    "start_time": "2022-02-06T09:04:20.704Z"
   },
   {
    "duration": 15,
    "start_time": "2022-02-06T09:04:24.146Z"
   },
   {
    "duration": 11,
    "start_time": "2022-02-06T09:04:28.010Z"
   },
   {
    "duration": 20,
    "start_time": "2022-02-06T09:04:33.125Z"
   },
   {
    "duration": 13,
    "start_time": "2022-02-06T09:04:54.181Z"
   },
   {
    "duration": 338,
    "start_time": "2022-02-06T09:05:12.452Z"
   },
   {
    "duration": 331,
    "start_time": "2022-02-06T09:05:57.765Z"
   },
   {
    "duration": 7,
    "start_time": "2022-02-06T09:06:09.643Z"
   },
   {
    "duration": 11,
    "start_time": "2022-02-06T09:06:14.890Z"
   },
   {
    "duration": 345,
    "start_time": "2022-02-06T09:06:17.594Z"
   },
   {
    "duration": 20,
    "start_time": "2022-02-06T09:06:51.444Z"
   },
   {
    "duration": 16,
    "start_time": "2022-02-06T09:07:21.347Z"
   },
   {
    "duration": 15,
    "start_time": "2022-02-06T09:09:00.469Z"
   },
   {
    "duration": 2,
    "start_time": "2022-02-06T14:34:51.463Z"
   },
   {
    "duration": 44,
    "start_time": "2022-02-06T14:34:52.082Z"
   },
   {
    "duration": 11,
    "start_time": "2022-02-06T14:34:52.739Z"
   },
   {
    "duration": 10,
    "start_time": "2022-02-06T14:34:53.412Z"
   },
   {
    "duration": 9,
    "start_time": "2022-02-06T14:34:56.146Z"
   },
   {
    "duration": 12,
    "start_time": "2022-02-06T14:34:56.843Z"
   },
   {
    "duration": 6,
    "start_time": "2022-02-06T14:34:57.552Z"
   },
   {
    "duration": 11,
    "start_time": "2022-02-06T14:34:58.808Z"
   },
   {
    "duration": 4,
    "start_time": "2022-02-06T14:34:59.401Z"
   },
   {
    "duration": 5,
    "start_time": "2022-02-06T14:35:00.103Z"
   },
   {
    "duration": 11,
    "start_time": "2022-02-06T14:35:01.062Z"
   },
   {
    "duration": 5,
    "start_time": "2022-02-06T14:35:02.958Z"
   },
   {
    "duration": 7,
    "start_time": "2022-02-06T14:35:03.573Z"
   },
   {
    "duration": 7,
    "start_time": "2022-02-06T14:35:04.251Z"
   },
   {
    "duration": 6,
    "start_time": "2022-02-06T14:35:05.578Z"
   },
   {
    "duration": 7,
    "start_time": "2022-02-06T14:35:06.886Z"
   },
   {
    "duration": 7,
    "start_time": "2022-02-06T14:35:08.718Z"
   },
   {
    "duration": 17,
    "start_time": "2022-02-06T14:35:10.182Z"
   },
   {
    "duration": 7,
    "start_time": "2022-02-06T14:35:10.929Z"
   },
   {
    "duration": 7,
    "start_time": "2022-02-06T14:35:12.888Z"
   },
   {
    "duration": 7,
    "start_time": "2022-02-06T14:35:13.983Z"
   },
   {
    "duration": 12,
    "start_time": "2022-02-06T14:35:20.277Z"
   },
   {
    "duration": 18,
    "start_time": "2022-02-06T14:35:22.148Z"
   },
   {
    "duration": 16,
    "start_time": "2022-02-06T14:36:55.478Z"
   },
   {
    "duration": 15,
    "start_time": "2022-02-06T14:37:49.069Z"
   },
   {
    "duration": 14,
    "start_time": "2022-02-06T14:39:05.780Z"
   },
   {
    "duration": 25,
    "start_time": "2022-02-06T14:39:21.373Z"
   },
   {
    "duration": 21,
    "start_time": "2022-02-06T14:40:24.980Z"
   },
   {
    "duration": 24,
    "start_time": "2022-02-06T14:41:30.602Z"
   },
   {
    "duration": 331,
    "start_time": "2022-02-06T14:41:35.574Z"
   },
   {
    "duration": 309,
    "start_time": "2022-02-06T14:41:40.388Z"
   },
   {
    "duration": 312,
    "start_time": "2022-02-06T14:42:05.680Z"
   },
   {
    "duration": 3,
    "start_time": "2022-02-06T14:42:24.531Z"
   },
   {
    "duration": 44,
    "start_time": "2022-02-06T14:42:25.156Z"
   },
   {
    "duration": 12,
    "start_time": "2022-02-06T14:42:25.751Z"
   },
   {
    "duration": 11,
    "start_time": "2022-02-06T14:42:26.337Z"
   },
   {
    "duration": 9,
    "start_time": "2022-02-06T14:42:28.717Z"
   },
   {
    "duration": 12,
    "start_time": "2022-02-06T14:42:29.255Z"
   },
   {
    "duration": 5,
    "start_time": "2022-02-06T14:42:29.848Z"
   },
   {
    "duration": 11,
    "start_time": "2022-02-06T14:42:31.053Z"
   },
   {
    "duration": 5,
    "start_time": "2022-02-06T14:42:31.626Z"
   },
   {
    "duration": 5,
    "start_time": "2022-02-06T14:42:32.243Z"
   },
   {
    "duration": 11,
    "start_time": "2022-02-06T14:42:32.811Z"
   },
   {
    "duration": 5,
    "start_time": "2022-02-06T14:42:34.639Z"
   },
   {
    "duration": 6,
    "start_time": "2022-02-06T14:42:35.237Z"
   },
   {
    "duration": 6,
    "start_time": "2022-02-06T14:42:35.844Z"
   },
   {
    "duration": 5,
    "start_time": "2022-02-06T14:42:37.082Z"
   },
   {
    "duration": 7,
    "start_time": "2022-02-06T14:42:38.286Z"
   },
   {
    "duration": 7,
    "start_time": "2022-02-06T14:42:39.622Z"
   },
   {
    "duration": 16,
    "start_time": "2022-02-06T14:42:40.892Z"
   },
   {
    "duration": 7,
    "start_time": "2022-02-06T14:42:41.489Z"
   },
   {
    "duration": 6,
    "start_time": "2022-02-06T14:42:42.743Z"
   },
   {
    "duration": 8,
    "start_time": "2022-02-06T14:42:43.439Z"
   },
   {
    "duration": 11,
    "start_time": "2022-02-06T14:42:47.337Z"
   },
   {
    "duration": 15,
    "start_time": "2022-02-06T14:42:48.870Z"
   },
   {
    "duration": 24,
    "start_time": "2022-02-06T14:42:50.797Z"
   },
   {
    "duration": 55,
    "start_time": "2022-02-06T14:43:34.578Z"
   },
   {
    "duration": 33,
    "start_time": "2022-02-06T14:44:45.196Z"
   },
   {
    "duration": 30,
    "start_time": "2022-02-06T14:45:00.387Z"
   },
   {
    "duration": 12,
    "start_time": "2022-02-06T14:45:26.592Z"
   },
   {
    "duration": 11,
    "start_time": "2022-02-06T14:45:31.062Z"
   },
   {
    "duration": 29,
    "start_time": "2022-02-06T14:46:00.278Z"
   },
   {
    "duration": 47,
    "start_time": "2022-02-06T14:46:09.856Z"
   },
   {
    "duration": 21,
    "start_time": "2022-02-06T14:49:20.758Z"
   },
   {
    "duration": 17,
    "start_time": "2022-02-06T14:53:51.438Z"
   },
   {
    "duration": 16,
    "start_time": "2022-02-06T14:54:01.097Z"
   },
   {
    "duration": 13,
    "start_time": "2022-02-06T15:40:08.287Z"
   },
   {
    "duration": 18,
    "start_time": "2022-02-06T15:40:14.494Z"
   },
   {
    "duration": 16,
    "start_time": "2022-02-06T15:40:17.670Z"
   },
   {
    "duration": 23,
    "start_time": "2022-02-06T15:40:22.632Z"
   },
   {
    "duration": 2,
    "start_time": "2022-02-06T15:40:36.217Z"
   },
   {
    "duration": 45,
    "start_time": "2022-02-06T15:40:36.812Z"
   },
   {
    "duration": 12,
    "start_time": "2022-02-06T15:40:37.381Z"
   },
   {
    "duration": 10,
    "start_time": "2022-02-06T15:40:37.946Z"
   },
   {
    "duration": 9,
    "start_time": "2022-02-06T15:40:40.115Z"
   },
   {
    "duration": 12,
    "start_time": "2022-02-06T15:40:40.668Z"
   },
   {
    "duration": 5,
    "start_time": "2022-02-06T15:40:41.224Z"
   },
   {
    "duration": 12,
    "start_time": "2022-02-06T15:40:42.424Z"
   },
   {
    "duration": 5,
    "start_time": "2022-02-06T15:40:42.976Z"
   },
   {
    "duration": 5,
    "start_time": "2022-02-06T15:40:43.767Z"
   },
   {
    "duration": 11,
    "start_time": "2022-02-06T15:40:44.574Z"
   },
   {
    "duration": 5,
    "start_time": "2022-02-06T15:40:47.675Z"
   },
   {
    "duration": 6,
    "start_time": "2022-02-06T15:40:48.619Z"
   },
   {
    "duration": 7,
    "start_time": "2022-02-06T15:40:49.353Z"
   },
   {
    "duration": 5,
    "start_time": "2022-02-06T15:40:54.002Z"
   },
   {
    "duration": 6,
    "start_time": "2022-02-06T15:41:13.125Z"
   },
   {
    "duration": 6,
    "start_time": "2022-02-06T15:41:14.721Z"
   },
   {
    "duration": 15,
    "start_time": "2022-02-06T15:41:16.274Z"
   },
   {
    "duration": 6,
    "start_time": "2022-02-06T15:41:17.037Z"
   },
   {
    "duration": 7,
    "start_time": "2022-02-06T15:41:18.645Z"
   },
   {
    "duration": 7,
    "start_time": "2022-02-06T15:41:20.499Z"
   },
   {
    "duration": 11,
    "start_time": "2022-02-06T15:41:23.867Z"
   },
   {
    "duration": 17,
    "start_time": "2022-02-06T15:41:27.555Z"
   },
   {
    "duration": 21,
    "start_time": "2022-02-06T15:41:28.960Z"
   },
   {
    "duration": 8,
    "start_time": "2022-02-06T15:50:47.528Z"
   },
   {
    "duration": 8,
    "start_time": "2022-02-06T16:02:13.179Z"
   },
   {
    "duration": 8,
    "start_time": "2022-02-06T16:05:37.452Z"
   },
   {
    "duration": 812,
    "start_time": "2022-02-07T13:08:11.252Z"
   },
   {
    "duration": 66,
    "start_time": "2022-02-07T13:08:12.067Z"
   },
   {
    "duration": 33,
    "start_time": "2022-02-07T13:08:12.675Z"
   },
   {
    "duration": 17,
    "start_time": "2022-02-07T13:08:13.600Z"
   },
   {
    "duration": 15,
    "start_time": "2022-02-07T13:08:16.581Z"
   },
   {
    "duration": 22,
    "start_time": "2022-02-07T13:08:17.300Z"
   },
   {
    "duration": 10,
    "start_time": "2022-02-07T13:08:18.007Z"
   },
   {
    "duration": 20,
    "start_time": "2022-02-07T13:08:19.477Z"
   },
   {
    "duration": 7,
    "start_time": "2022-02-07T13:08:20.162Z"
   },
   {
    "duration": 8,
    "start_time": "2022-02-07T13:08:20.826Z"
   },
   {
    "duration": 19,
    "start_time": "2022-02-07T13:08:21.546Z"
   },
   {
    "duration": 9,
    "start_time": "2022-02-07T13:08:23.686Z"
   },
   {
    "duration": 9,
    "start_time": "2022-02-07T13:08:24.498Z"
   },
   {
    "duration": 10,
    "start_time": "2022-02-07T13:08:25.404Z"
   },
   {
    "duration": 9,
    "start_time": "2022-02-07T13:08:27.966Z"
   },
   {
    "duration": 10,
    "start_time": "2022-02-07T13:08:29.390Z"
   },
   {
    "duration": 17,
    "start_time": "2022-02-07T13:10:10.193Z"
   },
   {
    "duration": 8,
    "start_time": "2022-02-07T13:10:14.526Z"
   },
   {
    "duration": 7,
    "start_time": "2022-02-07T13:10:37.935Z"
   },
   {
    "duration": 8,
    "start_time": "2022-02-07T13:10:54.011Z"
   },
   {
    "duration": 4,
    "start_time": "2022-02-07T13:11:07.739Z"
   },
   {
    "duration": 62,
    "start_time": "2022-02-07T13:11:08.343Z"
   },
   {
    "duration": 19,
    "start_time": "2022-02-07T13:11:09.042Z"
   },
   {
    "duration": 15,
    "start_time": "2022-02-07T13:11:09.710Z"
   },
   {
    "duration": 13,
    "start_time": "2022-02-07T13:11:12.423Z"
   },
   {
    "duration": 19,
    "start_time": "2022-02-07T13:11:13.223Z"
   },
   {
    "duration": 8,
    "start_time": "2022-02-07T13:11:13.854Z"
   },
   {
    "duration": 20,
    "start_time": "2022-02-07T13:11:15.260Z"
   },
   {
    "duration": 7,
    "start_time": "2022-02-07T13:11:16.020Z"
   },
   {
    "duration": 6,
    "start_time": "2022-02-07T13:11:17.080Z"
   },
   {
    "duration": 17,
    "start_time": "2022-02-07T13:11:17.891Z"
   },
   {
    "duration": 8,
    "start_time": "2022-02-07T13:11:22.448Z"
   },
   {
    "duration": 9,
    "start_time": "2022-02-07T13:11:25.561Z"
   },
   {
    "duration": 10,
    "start_time": "2022-02-07T13:11:27.711Z"
   },
   {
    "duration": 8,
    "start_time": "2022-02-07T13:11:35.731Z"
   },
   {
    "duration": 8,
    "start_time": "2022-02-07T13:11:38.655Z"
   },
   {
    "duration": 24,
    "start_time": "2022-02-07T13:11:51.704Z"
   },
   {
    "duration": 10,
    "start_time": "2022-02-07T13:11:58.401Z"
   },
   {
    "duration": 10,
    "start_time": "2022-02-07T13:12:02.089Z"
   },
   {
    "duration": 10,
    "start_time": "2022-02-07T13:12:05.882Z"
   },
   {
    "duration": 20,
    "start_time": "2022-02-07T13:12:10.790Z"
   },
   {
    "duration": 27,
    "start_time": "2022-02-07T13:12:17.356Z"
   },
   {
    "duration": 37,
    "start_time": "2022-02-07T13:12:20.407Z"
   },
   {
    "duration": 41,
    "start_time": "2022-02-07T13:13:26.322Z"
   },
   {
    "duration": 17,
    "start_time": "2022-02-07T13:30:57.128Z"
   },
   {
    "duration": 14,
    "start_time": "2022-02-07T13:31:32.311Z"
   },
   {
    "duration": 466,
    "start_time": "2022-02-07T13:34:15.791Z"
   },
   {
    "duration": 15,
    "start_time": "2022-02-07T13:34:45.635Z"
   },
   {
    "duration": 5,
    "start_time": "2022-02-07T14:08:25.160Z"
   },
   {
    "duration": 346,
    "start_time": "2022-02-07T14:08:27.758Z"
   },
   {
    "duration": 15,
    "start_time": "2022-02-07T14:08:56.774Z"
   },
   {
    "duration": 22,
    "start_time": "2022-02-07T14:10:16.901Z"
   },
   {
    "duration": 16,
    "start_time": "2022-02-07T14:14:27.261Z"
   },
   {
    "duration": 10,
    "start_time": "2022-02-07T14:36:24.512Z"
   },
   {
    "duration": 10,
    "start_time": "2022-02-07T14:37:54.337Z"
   },
   {
    "duration": 25,
    "start_time": "2022-02-07T14:45:35.985Z"
   },
   {
    "duration": 4,
    "start_time": "2022-02-07T15:18:33.244Z"
   },
   {
    "duration": 10,
    "start_time": "2022-02-07T15:18:36.010Z"
   },
   {
    "duration": 27,
    "start_time": "2022-02-07T15:19:07.032Z"
   },
   {
    "duration": 12,
    "start_time": "2022-02-07T15:22:16.857Z"
   },
   {
    "duration": 24,
    "start_time": "2022-02-07T15:22:46.491Z"
   },
   {
    "duration": 24,
    "start_time": "2022-02-07T15:26:04.502Z"
   },
   {
    "duration": 25,
    "start_time": "2022-02-07T15:26:08.485Z"
   },
   {
    "duration": 7,
    "start_time": "2022-02-07T15:26:11.131Z"
   },
   {
    "duration": 10,
    "start_time": "2022-02-07T15:26:17.411Z"
   },
   {
    "duration": 14,
    "start_time": "2022-02-07T15:26:18.752Z"
   },
   {
    "duration": 24,
    "start_time": "2022-02-07T15:26:20.223Z"
   },
   {
    "duration": 8,
    "start_time": "2022-02-07T15:26:23.065Z"
   },
   {
    "duration": 25,
    "start_time": "2022-02-07T15:26:25.368Z"
   },
   {
    "duration": 26,
    "start_time": "2022-02-07T15:26:42.925Z"
   },
   {
    "duration": 4,
    "start_time": "2022-02-07T15:26:43.788Z"
   },
   {
    "duration": 14,
    "start_time": "2022-02-07T15:26:44.927Z"
   },
   {
    "duration": 15,
    "start_time": "2022-02-07T15:26:45.876Z"
   },
   {
    "duration": 25,
    "start_time": "2022-02-07T15:26:46.916Z"
   },
   {
    "duration": 7,
    "start_time": "2022-02-07T15:26:58.003Z"
   },
   {
    "duration": 25,
    "start_time": "2022-02-07T15:26:59.172Z"
   },
   {
    "duration": 10,
    "start_time": "2022-02-07T15:27:25.458Z"
   },
   {
    "duration": 15,
    "start_time": "2022-02-07T15:27:34.968Z"
   },
   {
    "duration": 32,
    "start_time": "2022-02-07T15:27:36.720Z"
   },
   {
    "duration": 4,
    "start_time": "2022-02-07T15:27:54.745Z"
   },
   {
    "duration": 62,
    "start_time": "2022-02-07T15:27:55.299Z"
   },
   {
    "duration": 20,
    "start_time": "2022-02-07T15:27:55.881Z"
   },
   {
    "duration": 15,
    "start_time": "2022-02-07T15:27:56.535Z"
   },
   {
    "duration": 14,
    "start_time": "2022-02-07T15:27:59.119Z"
   },
   {
    "duration": 20,
    "start_time": "2022-02-07T15:27:59.797Z"
   },
   {
    "duration": 9,
    "start_time": "2022-02-07T15:28:00.412Z"
   },
   {
    "duration": 19,
    "start_time": "2022-02-07T15:28:01.755Z"
   },
   {
    "duration": 7,
    "start_time": "2022-02-07T15:28:02.440Z"
   },
   {
    "duration": 8,
    "start_time": "2022-02-07T15:28:03.130Z"
   },
   {
    "duration": 18,
    "start_time": "2022-02-07T15:28:03.824Z"
   },
   {
    "duration": 8,
    "start_time": "2022-02-07T15:28:10.682Z"
   },
   {
    "duration": 10,
    "start_time": "2022-02-07T15:28:10.693Z"
   },
   {
    "duration": 11,
    "start_time": "2022-02-07T15:28:10.745Z"
   },
   {
    "duration": 11,
    "start_time": "2022-02-07T15:28:10.758Z"
   },
   {
    "duration": 12,
    "start_time": "2022-02-07T15:28:10.773Z"
   },
   {
    "duration": 9,
    "start_time": "2022-02-07T15:28:11.093Z"
   },
   {
    "duration": 26,
    "start_time": "2022-02-07T15:28:12.957Z"
   },
   {
    "duration": 51,
    "start_time": "2022-02-07T15:29:01.235Z"
   },
   {
    "duration": 19,
    "start_time": "2022-02-07T15:29:05.616Z"
   },
   {
    "duration": 17,
    "start_time": "2022-02-07T15:29:06.299Z"
   },
   {
    "duration": 15,
    "start_time": "2022-02-07T15:29:07.064Z"
   },
   {
    "duration": 6,
    "start_time": "2022-02-07T15:29:09.163Z"
   },
   {
    "duration": 22,
    "start_time": "2022-02-07T15:29:09.917Z"
   },
   {
    "duration": 21,
    "start_time": "2022-02-07T15:29:10.724Z"
   },
   {
    "duration": 10,
    "start_time": "2022-02-07T15:29:11.635Z"
   },
   {
    "duration": 27,
    "start_time": "2022-02-07T15:29:14.196Z"
   },
   {
    "duration": 4,
    "start_time": "2022-02-07T15:29:17.365Z"
   },
   {
    "duration": 11,
    "start_time": "2022-02-07T15:29:18.296Z"
   },
   {
    "duration": 14,
    "start_time": "2022-02-07T15:29:19.075Z"
   },
   {
    "duration": 25,
    "start_time": "2022-02-07T15:29:23.280Z"
   },
   {
    "duration": 11,
    "start_time": "2022-02-07T15:29:53.670Z"
   },
   {
    "duration": 14,
    "start_time": "2022-02-07T15:29:55.202Z"
   },
   {
    "duration": 28,
    "start_time": "2022-02-07T15:29:56.228Z"
   },
   {
    "duration": 7,
    "start_time": "2022-02-07T15:30:17.210Z"
   },
   {
    "duration": 26,
    "start_time": "2022-02-07T15:30:20.077Z"
   },
   {
    "duration": 14,
    "start_time": "2022-02-07T15:31:31.001Z"
   },
   {
    "duration": 13,
    "start_time": "2022-02-07T15:31:32.248Z"
   },
   {
    "duration": 25,
    "start_time": "2022-02-07T15:31:33.878Z"
   },
   {
    "duration": 9,
    "start_time": "2022-02-07T15:31:38.991Z"
   },
   {
    "duration": 10,
    "start_time": "2022-02-07T15:33:51.751Z"
   },
   {
    "duration": 10,
    "start_time": "2022-02-07T15:35:40.742Z"
   },
   {
    "duration": 17,
    "start_time": "2022-02-07T15:42:43.312Z"
   },
   {
    "duration": 3,
    "start_time": "2022-02-07T15:43:07.514Z"
   },
   {
    "duration": 80,
    "start_time": "2022-02-07T15:43:08.218Z"
   },
   {
    "duration": 19,
    "start_time": "2022-02-07T15:43:09.068Z"
   },
   {
    "duration": 15,
    "start_time": "2022-02-07T15:43:10.758Z"
   },
   {
    "duration": 15,
    "start_time": "2022-02-07T15:43:15.956Z"
   },
   {
    "duration": 22,
    "start_time": "2022-02-07T15:43:17.161Z"
   },
   {
    "duration": 8,
    "start_time": "2022-02-07T15:43:20.011Z"
   },
   {
    "duration": 21,
    "start_time": "2022-02-07T15:43:21.765Z"
   },
   {
    "duration": 7,
    "start_time": "2022-02-07T15:43:22.542Z"
   },
   {
    "duration": 8,
    "start_time": "2022-02-07T15:43:24.646Z"
   },
   {
    "duration": 17,
    "start_time": "2022-02-07T15:43:32.670Z"
   },
   {
    "duration": 7,
    "start_time": "2022-02-07T15:43:32.690Z"
   },
   {
    "duration": 17,
    "start_time": "2022-02-07T15:43:32.699Z"
   },
   {
    "duration": 10,
    "start_time": "2022-02-07T15:43:40.681Z"
   },
   {
    "duration": 9,
    "start_time": "2022-02-07T15:44:14.292Z"
   },
   {
    "duration": 12,
    "start_time": "2022-02-07T15:44:15.801Z"
   },
   {
    "duration": 11,
    "start_time": "2022-02-07T15:44:20.192Z"
   },
   {
    "duration": 9,
    "start_time": "2022-02-07T15:44:22.895Z"
   },
   {
    "duration": 9,
    "start_time": "2022-02-07T15:44:28.963Z"
   },
   {
    "duration": 10,
    "start_time": "2022-02-07T15:44:31.833Z"
   },
   {
    "duration": 24,
    "start_time": "2022-02-07T15:44:34.401Z"
   },
   {
    "duration": 10,
    "start_time": "2022-02-07T15:44:35.676Z"
   },
   {
    "duration": 11,
    "start_time": "2022-02-07T15:44:38.147Z"
   },
   {
    "duration": 11,
    "start_time": "2022-02-07T15:44:42.802Z"
   },
   {
    "duration": 20,
    "start_time": "2022-02-07T15:45:04.265Z"
   },
   {
    "duration": 25,
    "start_time": "2022-02-07T15:45:07.480Z"
   },
   {
    "duration": 44,
    "start_time": "2022-02-07T15:45:09.042Z"
   },
   {
    "duration": 19,
    "start_time": "2022-02-07T15:45:15.180Z"
   },
   {
    "duration": 18,
    "start_time": "2022-02-07T15:45:16.209Z"
   },
   {
    "duration": 16,
    "start_time": "2022-02-07T15:45:17.192Z"
   },
   {
    "duration": 4,
    "start_time": "2022-02-07T15:45:19.965Z"
   },
   {
    "duration": 13,
    "start_time": "2022-02-07T15:45:20.782Z"
   },
   {
    "duration": 17,
    "start_time": "2022-02-07T15:45:22.196Z"
   },
   {
    "duration": 9,
    "start_time": "2022-02-07T15:45:23.647Z"
   },
   {
    "duration": 26,
    "start_time": "2022-02-07T15:45:26.604Z"
   },
   {
    "duration": 4,
    "start_time": "2022-02-07T15:45:27.432Z"
   },
   {
    "duration": 11,
    "start_time": "2022-02-07T15:45:28.443Z"
   },
   {
    "duration": 16,
    "start_time": "2022-02-07T15:45:29.214Z"
   },
   {
    "duration": 24,
    "start_time": "2022-02-07T15:45:30.022Z"
   },
   {
    "duration": 7,
    "start_time": "2022-02-07T15:45:30.827Z"
   },
   {
    "duration": 25,
    "start_time": "2022-02-07T15:45:31.969Z"
   },
   {
    "duration": 9,
    "start_time": "2022-02-07T15:45:32.972Z"
   },
   {
    "duration": 11,
    "start_time": "2022-02-07T15:45:33.771Z"
   },
   {
    "duration": 17,
    "start_time": "2022-02-07T15:45:34.797Z"
   },
   {
    "duration": 8,
    "start_time": "2022-02-07T15:58:40.579Z"
   },
   {
    "duration": 8,
    "start_time": "2022-02-07T15:58:44.325Z"
   },
   {
    "duration": 4,
    "start_time": "2022-02-07T16:00:42.400Z"
   },
   {
    "duration": 63,
    "start_time": "2022-02-07T16:00:43.132Z"
   },
   {
    "duration": 21,
    "start_time": "2022-02-07T16:00:43.884Z"
   },
   {
    "duration": 15,
    "start_time": "2022-02-07T16:00:45.366Z"
   },
   {
    "duration": 14,
    "start_time": "2022-02-07T16:00:50.405Z"
   },
   {
    "duration": 21,
    "start_time": "2022-02-07T16:00:51.598Z"
   },
   {
    "duration": 9,
    "start_time": "2022-02-07T16:00:52.789Z"
   },
   {
    "duration": 20,
    "start_time": "2022-02-07T16:01:09.518Z"
   },
   {
    "duration": 10,
    "start_time": "2022-02-07T16:01:14.043Z"
   },
   {
    "duration": 7,
    "start_time": "2022-02-07T16:01:15.227Z"
   },
   {
    "duration": 18,
    "start_time": "2022-02-07T16:01:16.196Z"
   },
   {
    "duration": 10,
    "start_time": "2022-02-07T16:01:23.540Z"
   },
   {
    "duration": 11,
    "start_time": "2022-02-07T16:12:44.720Z"
   },
   {
    "duration": 49,
    "start_time": "2022-02-07T16:14:48.400Z"
   },
   {
    "duration": 3,
    "start_time": "2022-02-07T16:24:16.357Z"
   },
   {
    "duration": 3,
    "start_time": "2022-02-07T16:24:20.107Z"
   },
   {
    "duration": 4,
    "start_time": "2022-02-07T16:24:33.060Z"
   },
   {
    "duration": 4,
    "start_time": "2022-02-07T16:24:35.640Z"
   },
   {
    "duration": 290,
    "start_time": "2022-02-07T16:26:04.953Z"
   },
   {
    "duration": 1367,
    "start_time": "2022-02-07T16:26:16.674Z"
   },
   {
    "duration": 1246,
    "start_time": "2022-02-07T16:26:18.987Z"
   },
   {
    "duration": 19,
    "start_time": "2022-02-07T16:26:42.356Z"
   },
   {
    "duration": 3,
    "start_time": "2022-02-07T16:27:53.005Z"
   },
   {
    "duration": 3,
    "start_time": "2022-02-07T16:28:11.681Z"
   },
   {
    "duration": 711,
    "start_time": "2022-02-08T14:29:39.077Z"
   },
   {
    "duration": 59,
    "start_time": "2022-02-08T14:29:39.791Z"
   },
   {
    "duration": 31,
    "start_time": "2022-02-08T14:29:40.403Z"
   },
   {
    "duration": 19,
    "start_time": "2022-02-08T14:29:41.293Z"
   },
   {
    "duration": 14,
    "start_time": "2022-02-08T14:29:44.438Z"
   },
   {
    "duration": 21,
    "start_time": "2022-02-08T14:29:45.240Z"
   },
   {
    "duration": 9,
    "start_time": "2022-02-08T14:29:46.002Z"
   },
   {
    "duration": 20,
    "start_time": "2022-02-08T14:29:48.772Z"
   },
   {
    "duration": 9,
    "start_time": "2022-02-08T14:29:49.533Z"
   },
   {
    "duration": 9,
    "start_time": "2022-02-08T14:29:50.230Z"
   },
   {
    "duration": 23,
    "start_time": "2022-02-08T14:29:50.918Z"
   },
   {
    "duration": 9,
    "start_time": "2022-02-08T14:29:52.981Z"
   },
   {
    "duration": 9,
    "start_time": "2022-02-08T14:29:54.713Z"
   },
   {
    "duration": 10,
    "start_time": "2022-02-08T14:29:55.456Z"
   },
   {
    "duration": 11,
    "start_time": "2022-02-08T14:29:56.810Z"
   },
   {
    "duration": 10,
    "start_time": "2022-02-08T14:29:58.250Z"
   },
   {
    "duration": 10,
    "start_time": "2022-02-08T14:29:59.848Z"
   },
   {
    "duration": 23,
    "start_time": "2022-02-08T14:30:01.591Z"
   },
   {
    "duration": 11,
    "start_time": "2022-02-08T14:30:02.468Z"
   },
   {
    "duration": 11,
    "start_time": "2022-02-08T14:30:04.069Z"
   },
   {
    "duration": 13,
    "start_time": "2022-02-08T14:30:05.430Z"
   },
   {
    "duration": 20,
    "start_time": "2022-02-08T14:30:08.357Z"
   },
   {
    "duration": 29,
    "start_time": "2022-02-08T14:30:09.784Z"
   },
   {
    "duration": 43,
    "start_time": "2022-02-08T14:30:10.628Z"
   },
   {
    "duration": 17,
    "start_time": "2022-02-08T14:30:14.107Z"
   },
   {
    "duration": 16,
    "start_time": "2022-02-08T14:30:14.922Z"
   },
   {
    "duration": 14,
    "start_time": "2022-02-08T14:30:15.708Z"
   },
   {
    "duration": 4,
    "start_time": "2022-02-08T14:30:18.104Z"
   },
   {
    "duration": 20,
    "start_time": "2022-02-08T14:30:18.838Z"
   },
   {
    "duration": 23,
    "start_time": "2022-02-08T14:30:19.680Z"
   },
   {
    "duration": 10,
    "start_time": "2022-02-08T14:30:20.501Z"
   },
   {
    "duration": 27,
    "start_time": "2022-02-08T14:30:23.063Z"
   },
   {
    "duration": 4,
    "start_time": "2022-02-08T14:30:23.828Z"
   },
   {
    "duration": 11,
    "start_time": "2022-02-08T14:30:24.580Z"
   },
   {
    "duration": 16,
    "start_time": "2022-02-08T14:30:25.244Z"
   },
   {
    "duration": 23,
    "start_time": "2022-02-08T14:30:26.032Z"
   },
   {
    "duration": 8,
    "start_time": "2022-02-08T14:30:26.688Z"
   },
   {
    "duration": 25,
    "start_time": "2022-02-08T14:30:27.457Z"
   },
   {
    "duration": 11,
    "start_time": "2022-02-08T14:30:28.198Z"
   },
   {
    "duration": 9,
    "start_time": "2022-02-08T14:30:28.859Z"
   },
   {
    "duration": 17,
    "start_time": "2022-02-08T14:30:29.652Z"
   },
   {
    "duration": 20,
    "start_time": "2022-02-08T14:30:32.884Z"
   },
   {
    "duration": 3,
    "start_time": "2022-02-08T14:33:30.975Z"
   },
   {
    "duration": 55,
    "start_time": "2022-02-08T14:33:31.931Z"
   },
   {
    "duration": 20,
    "start_time": "2022-02-08T14:33:32.779Z"
   },
   {
    "duration": 15,
    "start_time": "2022-02-08T14:33:33.681Z"
   },
   {
    "duration": 13,
    "start_time": "2022-02-08T14:33:36.877Z"
   },
   {
    "duration": 22,
    "start_time": "2022-02-08T14:33:37.601Z"
   },
   {
    "duration": 8,
    "start_time": "2022-02-08T14:33:38.371Z"
   },
   {
    "duration": 20,
    "start_time": "2022-02-08T14:33:39.889Z"
   },
   {
    "duration": 8,
    "start_time": "2022-02-08T14:33:40.665Z"
   },
   {
    "duration": 8,
    "start_time": "2022-02-08T14:33:41.422Z"
   },
   {
    "duration": 19,
    "start_time": "2022-02-08T14:33:42.179Z"
   },
   {
    "duration": 9,
    "start_time": "2022-02-08T14:33:44.356Z"
   },
   {
    "duration": 9,
    "start_time": "2022-02-08T14:33:45.892Z"
   },
   {
    "duration": 11,
    "start_time": "2022-02-08T14:33:46.633Z"
   },
   {
    "duration": 11,
    "start_time": "2022-02-08T14:33:48.121Z"
   },
   {
    "duration": 8,
    "start_time": "2022-02-08T14:33:49.647Z"
   },
   {
    "duration": 10,
    "start_time": "2022-02-08T14:33:51.105Z"
   },
   {
    "duration": 23,
    "start_time": "2022-02-08T14:33:52.563Z"
   },
   {
    "duration": 10,
    "start_time": "2022-02-08T14:33:53.342Z"
   },
   {
    "duration": 10,
    "start_time": "2022-02-08T14:33:54.937Z"
   },
   {
    "duration": 12,
    "start_time": "2022-02-08T14:33:56.213Z"
   },
   {
    "duration": 20,
    "start_time": "2022-02-08T14:33:59.245Z"
   },
   {
    "duration": 24,
    "start_time": "2022-02-08T14:34:00.990Z"
   },
   {
    "duration": 48,
    "start_time": "2022-02-08T14:34:02.193Z"
   },
   {
    "duration": 18,
    "start_time": "2022-02-08T14:34:05.179Z"
   },
   {
    "duration": 17,
    "start_time": "2022-02-08T14:34:05.903Z"
   },
   {
    "duration": 16,
    "start_time": "2022-02-08T14:34:06.690Z"
   },
   {
    "duration": 4,
    "start_time": "2022-02-08T14:34:08.605Z"
   },
   {
    "duration": 13,
    "start_time": "2022-02-08T14:34:09.436Z"
   },
   {
    "duration": 18,
    "start_time": "2022-02-08T14:34:10.153Z"
   },
   {
    "duration": 16,
    "start_time": "2022-02-08T14:34:10.870Z"
   },
   {
    "duration": 26,
    "start_time": "2022-02-08T14:34:13.141Z"
   },
   {
    "duration": 4,
    "start_time": "2022-02-08T14:34:13.919Z"
   },
   {
    "duration": 10,
    "start_time": "2022-02-08T14:34:14.797Z"
   },
   {
    "duration": 15,
    "start_time": "2022-02-08T14:34:15.550Z"
   },
   {
    "duration": 24,
    "start_time": "2022-02-08T14:34:16.218Z"
   },
   {
    "duration": 7,
    "start_time": "2022-02-08T14:34:16.960Z"
   },
   {
    "duration": 24,
    "start_time": "2022-02-08T14:34:17.746Z"
   },
   {
    "duration": 10,
    "start_time": "2022-02-08T14:34:18.593Z"
   },
   {
    "duration": 10,
    "start_time": "2022-02-08T14:34:19.433Z"
   },
   {
    "duration": 16,
    "start_time": "2022-02-08T14:34:20.237Z"
   },
   {
    "duration": 20,
    "start_time": "2022-02-08T14:34:23.779Z"
   },
   {
    "duration": 364,
    "start_time": "2022-02-08T14:42:08.084Z"
   },
   {
    "duration": 57,
    "start_time": "2022-02-08T14:42:37.079Z"
   },
   {
    "duration": 52,
    "start_time": "2022-02-08T14:49:48.539Z"
   },
   {
    "duration": 52,
    "start_time": "2022-02-08T14:49:50.648Z"
   },
   {
    "duration": 336,
    "start_time": "2022-02-08T14:54:00.129Z"
   },
   {
    "duration": 347,
    "start_time": "2022-02-08T14:57:11.624Z"
   },
   {
    "duration": 68,
    "start_time": "2022-02-08T15:02:04.555Z"
   },
   {
    "duration": 307,
    "start_time": "2022-02-08T15:29:25.364Z"
   },
   {
    "duration": 4501,
    "start_time": "2022-02-08T15:38:06.832Z"
   },
   {
    "duration": 4461,
    "start_time": "2022-02-08T15:38:11.877Z"
   },
   {
    "duration": 50,
    "start_time": "2022-02-08T15:38:57.333Z"
   },
   {
    "duration": 50,
    "start_time": "2022-02-08T15:47:06.111Z"
   },
   {
    "duration": 3,
    "start_time": "2022-02-08T15:58:24.762Z"
   },
   {
    "duration": 60,
    "start_time": "2022-02-08T15:58:27.479Z"
   },
   {
    "duration": 26,
    "start_time": "2022-02-08T15:58:29.636Z"
   },
   {
    "duration": 25,
    "start_time": "2022-02-08T15:58:31.842Z"
   },
   {
    "duration": 13,
    "start_time": "2022-02-08T15:59:46.582Z"
   },
   {
    "duration": 22,
    "start_time": "2022-02-08T15:59:48.176Z"
   },
   {
    "duration": 20,
    "start_time": "2022-02-08T16:00:24.088Z"
   },
   {
    "duration": 8,
    "start_time": "2022-02-08T16:00:32.685Z"
   },
   {
    "duration": 8,
    "start_time": "2022-02-08T16:00:36.794Z"
   },
   {
    "duration": 13,
    "start_time": "2022-02-08T16:01:32.148Z"
   },
   {
    "duration": 14,
    "start_time": "2022-02-08T16:01:56.784Z"
   },
   {
    "duration": 10,
    "start_time": "2022-02-08T16:09:58.127Z"
   },
   {
    "duration": 29,
    "start_time": "2022-02-08T16:10:13.928Z"
   },
   {
    "duration": 10,
    "start_time": "2022-02-08T16:10:24.095Z"
   },
   {
    "duration": 10,
    "start_time": "2022-02-08T16:10:27.992Z"
   },
   {
    "duration": 11,
    "start_time": "2022-02-08T16:10:34.992Z"
   },
   {
    "duration": 16,
    "start_time": "2022-02-08T16:11:53.149Z"
   },
   {
    "duration": 322,
    "start_time": "2022-02-08T16:24:29.466Z"
   },
   {
    "duration": 352,
    "start_time": "2022-02-08T16:28:55.342Z"
   },
   {
    "duration": 21,
    "start_time": "2022-02-08T16:29:16.016Z"
   },
   {
    "duration": 59,
    "start_time": "2022-02-08T16:29:19.996Z"
   },
   {
    "duration": 361,
    "start_time": "2022-02-08T16:29:42.104Z"
   },
   {
    "duration": 18,
    "start_time": "2022-02-08T16:30:01.061Z"
   },
   {
    "duration": 19,
    "start_time": "2022-02-08T16:30:02.214Z"
   },
   {
    "duration": 5,
    "start_time": "2022-02-08T16:30:03.493Z"
   },
   {
    "duration": 15,
    "start_time": "2022-02-08T16:30:04.143Z"
   },
   {
    "duration": 17,
    "start_time": "2022-02-08T16:30:04.863Z"
   },
   {
    "duration": 10,
    "start_time": "2022-02-08T16:30:06.049Z"
   },
   {
    "duration": 25,
    "start_time": "2022-02-08T16:30:08.348Z"
   },
   {
    "duration": 5,
    "start_time": "2022-02-08T16:30:09.076Z"
   },
   {
    "duration": 11,
    "start_time": "2022-02-08T16:30:09.793Z"
   },
   {
    "duration": 15,
    "start_time": "2022-02-08T16:30:10.395Z"
   },
   {
    "duration": 24,
    "start_time": "2022-02-08T16:30:10.950Z"
   },
   {
    "duration": 7,
    "start_time": "2022-02-08T16:30:11.539Z"
   },
   {
    "duration": 30,
    "start_time": "2022-02-08T16:30:12.159Z"
   },
   {
    "duration": 11,
    "start_time": "2022-02-08T16:30:12.800Z"
   },
   {
    "duration": 9,
    "start_time": "2022-02-08T16:30:13.377Z"
   },
   {
    "duration": 19,
    "start_time": "2022-02-08T16:30:13.997Z"
   },
   {
    "duration": 20,
    "start_time": "2022-02-08T16:30:22.049Z"
   },
   {
    "duration": 53,
    "start_time": "2022-02-08T16:30:31.378Z"
   },
   {
    "duration": 106,
    "start_time": "2022-02-08T16:30:37.242Z"
   },
   {
    "duration": 47,
    "start_time": "2022-02-08T16:30:53.132Z"
   },
   {
    "duration": 53,
    "start_time": "2022-02-08T16:31:04.988Z"
   },
   {
    "duration": 622,
    "start_time": "2022-02-13T14:45:38.675Z"
   },
   {
    "duration": 46,
    "start_time": "2022-02-13T14:45:39.299Z"
   },
   {
    "duration": 18,
    "start_time": "2022-02-13T14:45:39.347Z"
   },
   {
    "duration": 10,
    "start_time": "2022-02-13T14:45:39.367Z"
   },
   {
    "duration": 8,
    "start_time": "2022-02-13T14:45:39.379Z"
   },
   {
    "duration": 39,
    "start_time": "2022-02-13T14:45:39.389Z"
   },
   {
    "duration": 5,
    "start_time": "2022-02-13T14:45:39.431Z"
   },
   {
    "duration": 16,
    "start_time": "2022-02-13T14:45:39.439Z"
   },
   {
    "duration": 5,
    "start_time": "2022-02-13T14:45:39.458Z"
   },
   {
    "duration": 7,
    "start_time": "2022-02-13T14:45:39.464Z"
   },
   {
    "duration": 14,
    "start_time": "2022-02-13T14:45:39.473Z"
   },
   {
    "duration": 8,
    "start_time": "2022-02-13T14:45:39.519Z"
   },
   {
    "duration": 19,
    "start_time": "2022-02-13T14:45:39.529Z"
   },
   {
    "duration": 8,
    "start_time": "2022-02-13T14:45:39.551Z"
   },
   {
    "duration": 6,
    "start_time": "2022-02-13T14:45:39.561Z"
   },
   {
    "duration": 10,
    "start_time": "2022-02-13T14:45:39.569Z"
   },
   {
    "duration": 41,
    "start_time": "2022-02-13T14:45:39.581Z"
   },
   {
    "duration": 18,
    "start_time": "2022-02-13T14:45:39.624Z"
   },
   {
    "duration": 7,
    "start_time": "2022-02-13T14:45:39.644Z"
   },
   {
    "duration": 13,
    "start_time": "2022-02-13T14:45:39.653Z"
   },
   {
    "duration": 19,
    "start_time": "2022-02-13T14:45:39.668Z"
   },
   {
    "duration": 31,
    "start_time": "2022-02-13T14:45:39.689Z"
   },
   {
    "duration": 17,
    "start_time": "2022-02-13T14:45:39.723Z"
   },
   {
    "duration": 29,
    "start_time": "2022-02-13T14:45:39.742Z"
   },
   {
    "duration": 10,
    "start_time": "2022-02-13T14:45:39.772Z"
   },
   {
    "duration": 36,
    "start_time": "2022-02-13T14:45:39.783Z"
   },
   {
    "duration": 10,
    "start_time": "2022-02-13T14:45:39.821Z"
   },
   {
    "duration": 4,
    "start_time": "2022-02-13T14:45:39.833Z"
   },
   {
    "duration": 11,
    "start_time": "2022-02-13T14:45:39.838Z"
   },
   {
    "duration": 11,
    "start_time": "2022-02-13T14:45:39.850Z"
   },
   {
    "duration": 11,
    "start_time": "2022-02-13T14:45:39.862Z"
   },
   {
    "duration": 45,
    "start_time": "2022-02-13T14:45:39.874Z"
   },
   {
    "duration": 2,
    "start_time": "2022-02-13T14:45:39.921Z"
   },
   {
    "duration": 13,
    "start_time": "2022-02-13T14:45:39.925Z"
   },
   {
    "duration": 11,
    "start_time": "2022-02-13T14:45:39.940Z"
   },
   {
    "duration": 18,
    "start_time": "2022-02-13T14:45:39.953Z"
   },
   {
    "duration": 4,
    "start_time": "2022-02-13T14:45:39.973Z"
   },
   {
    "duration": 20,
    "start_time": "2022-02-13T14:45:39.979Z"
   },
   {
    "duration": 8,
    "start_time": "2022-02-13T14:45:40.018Z"
   },
   {
    "duration": 18,
    "start_time": "2022-02-13T14:45:40.028Z"
   },
   {
    "duration": 31,
    "start_time": "2022-02-13T14:45:40.048Z"
   },
   {
    "duration": 19,
    "start_time": "2022-02-13T14:45:40.081Z"
   },
   {
    "duration": 47,
    "start_time": "2022-02-13T14:45:40.102Z"
   },
   {
    "duration": 54,
    "start_time": "2022-02-13T14:45:40.151Z"
   },
   {
    "duration": 40,
    "start_time": "2022-02-13T14:45:40.219Z"
   },
   {
    "duration": 58,
    "start_time": "2022-02-13T14:45:40.261Z"
   }
  ],
  "kernelspec": {
   "display_name": "Python 3 (ipykernel)",
   "language": "python",
   "name": "python3"
  },
  "language_info": {
   "codemirror_mode": {
    "name": "ipython",
    "version": 3
   },
   "file_extension": ".py",
   "mimetype": "text/x-python",
   "name": "python",
   "nbconvert_exporter": "python",
   "pygments_lexer": "ipython3",
   "version": "3.9.7"
  },
  "toc": {
   "base_numbering": 1,
   "nav_menu": {},
   "number_sections": true,
   "sideBar": true,
   "skip_h1_title": true,
   "title_cell": "Table of Contents",
   "title_sidebar": "Contents",
   "toc_cell": false,
   "toc_position": {},
   "toc_section_display": true,
   "toc_window_display": false
  }
 },
 "nbformat": 4,
 "nbformat_minor": 5
}
