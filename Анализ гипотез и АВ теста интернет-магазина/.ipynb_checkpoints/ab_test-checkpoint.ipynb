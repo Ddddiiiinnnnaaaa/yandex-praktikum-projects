{
 "cells": [
  {
   "cell_type": "markdown",
   "metadata": {},
   "source": [
    "# Анализ гипотез и А/В теста интернет-магазина"
   ]
  },
  {
   "cell_type": "markdown",
   "metadata": {},
   "source": [
    "## Приоритизация гипотез"
   ]
  },
  {
   "cell_type": "code",
   "execution_count": 1,
   "metadata": {},
   "outputs": [
    {
     "data": {
      "text/html": [
       "<div>\n",
       "<style scoped>\n",
       "    .dataframe tbody tr th:only-of-type {\n",
       "        vertical-align: middle;\n",
       "    }\n",
       "\n",
       "    .dataframe tbody tr th {\n",
       "        vertical-align: top;\n",
       "    }\n",
       "\n",
       "    .dataframe thead th {\n",
       "        text-align: right;\n",
       "    }\n",
       "</style>\n",
       "<table border=\"1\" class=\"dataframe\">\n",
       "  <thead>\n",
       "    <tr style=\"text-align: right;\">\n",
       "      <th></th>\n",
       "      <th>Hypothesis</th>\n",
       "      <th>Reach</th>\n",
       "      <th>Impact</th>\n",
       "      <th>Confidence</th>\n",
       "      <th>Efforts</th>\n",
       "    </tr>\n",
       "  </thead>\n",
       "  <tbody>\n",
       "    <tr>\n",
       "      <th>0</th>\n",
       "      <td>Добавить два новых канала привлечения трафика, что позволит привлекать на 30% больше пользователей</td>\n",
       "      <td>3</td>\n",
       "      <td>10</td>\n",
       "      <td>8</td>\n",
       "      <td>6</td>\n",
       "    </tr>\n",
       "    <tr>\n",
       "      <th>1</th>\n",
       "      <td>Запустить собственную службу доставки, что сократит срок доставки заказов</td>\n",
       "      <td>2</td>\n",
       "      <td>5</td>\n",
       "      <td>4</td>\n",
       "      <td>10</td>\n",
       "    </tr>\n",
       "    <tr>\n",
       "      <th>2</th>\n",
       "      <td>Добавить блоки рекомендаций товаров на сайт интернет магазина, чтобы повысить конверсию и средний чек заказа</td>\n",
       "      <td>8</td>\n",
       "      <td>3</td>\n",
       "      <td>7</td>\n",
       "      <td>3</td>\n",
       "    </tr>\n",
       "    <tr>\n",
       "      <th>3</th>\n",
       "      <td>Изменить структура категорий, что увеличит конверсию, т.к. пользователи быстрее найдут нужный товар</td>\n",
       "      <td>8</td>\n",
       "      <td>3</td>\n",
       "      <td>3</td>\n",
       "      <td>8</td>\n",
       "    </tr>\n",
       "    <tr>\n",
       "      <th>4</th>\n",
       "      <td>Изменить цвет фона главной страницы, чтобы увеличить вовлеченность пользователей</td>\n",
       "      <td>3</td>\n",
       "      <td>1</td>\n",
       "      <td>1</td>\n",
       "      <td>1</td>\n",
       "    </tr>\n",
       "    <tr>\n",
       "      <th>5</th>\n",
       "      <td>Добавить страницу отзывов клиентов о магазине, что позволит увеличить количество заказов</td>\n",
       "      <td>3</td>\n",
       "      <td>2</td>\n",
       "      <td>2</td>\n",
       "      <td>3</td>\n",
       "    </tr>\n",
       "    <tr>\n",
       "      <th>6</th>\n",
       "      <td>Показать на главной странице баннеры с актуальными акциями и распродажами, чтобы увеличить конверсию</td>\n",
       "      <td>5</td>\n",
       "      <td>3</td>\n",
       "      <td>8</td>\n",
       "      <td>3</td>\n",
       "    </tr>\n",
       "    <tr>\n",
       "      <th>7</th>\n",
       "      <td>Добавить форму подписки на все основные страницы, чтобы собрать базу клиентов для email-рассылок</td>\n",
       "      <td>10</td>\n",
       "      <td>7</td>\n",
       "      <td>8</td>\n",
       "      <td>5</td>\n",
       "    </tr>\n",
       "    <tr>\n",
       "      <th>8</th>\n",
       "      <td>Запустить акцию, дающую скидку на товар в день рождения</td>\n",
       "      <td>1</td>\n",
       "      <td>9</td>\n",
       "      <td>9</td>\n",
       "      <td>5</td>\n",
       "    </tr>\n",
       "  </tbody>\n",
       "</table>\n",
       "</div>"
      ],
      "text/plain": [
       "                                                                                                     Hypothesis  \\\n",
       "0            Добавить два новых канала привлечения трафика, что позволит привлекать на 30% больше пользователей   \n",
       "1                                     Запустить собственную службу доставки, что сократит срок доставки заказов   \n",
       "2  Добавить блоки рекомендаций товаров на сайт интернет магазина, чтобы повысить конверсию и средний чек заказа   \n",
       "3           Изменить структура категорий, что увеличит конверсию, т.к. пользователи быстрее найдут нужный товар   \n",
       "4                              Изменить цвет фона главной страницы, чтобы увеличить вовлеченность пользователей   \n",
       "5                      Добавить страницу отзывов клиентов о магазине, что позволит увеличить количество заказов   \n",
       "6          Показать на главной странице баннеры с актуальными акциями и распродажами, чтобы увеличить конверсию   \n",
       "7              Добавить форму подписки на все основные страницы, чтобы собрать базу клиентов для email-рассылок   \n",
       "8                                                       Запустить акцию, дающую скидку на товар в день рождения   \n",
       "\n",
       "   Reach  Impact  Confidence  Efforts  \n",
       "0      3      10           8        6  \n",
       "1      2       5           4       10  \n",
       "2      8       3           7        3  \n",
       "3      8       3           3        8  \n",
       "4      3       1           1        1  \n",
       "5      3       2           2        3  \n",
       "6      5       3           8        3  \n",
       "7     10       7           8        5  \n",
       "8      1       9           9        5  "
      ]
     },
     "execution_count": 1,
     "metadata": {},
     "output_type": "execute_result"
    }
   ],
   "source": [
    "import pandas as pd # импортируем библиотеку pandas\n",
    "import datetime as dt\n",
    "import numpy as np\n",
    "import matplotlib.pyplot as plt\n",
    "from pandas.plotting import register_matplotlib_converters\n",
    "import warnings\n",
    "import datetime as dt\n",
    "import numpy as np\n",
    "import scipy.stats as stats\n",
    "# загрузим все необходимые библиотеки\n",
    "# конвертеры, которые позволяют использовать типы pandas в matplotlib  \n",
    "register_matplotlib_converters()\n",
    "pd.set_option('display.max_colwidth', 150)\n",
    "data = pd.read_csv('/datasets/hypothesis.csv',sep=',')\n",
    "# прочитаем файл и сохраним его в переменной data\n",
    "data\n",
    "# выведем данные таблицы для изучения"
   ]
  },
  {
   "cell_type": "markdown",
   "metadata": {},
   "source": [
    "Итак, в таблице 9 гипотез."
   ]
  },
  {
   "cell_type": "code",
   "execution_count": 2,
   "metadata": {},
   "outputs": [
    {
     "name": "stdout",
     "output_type": "stream",
     "text": [
      "<class 'pandas.core.frame.DataFrame'>\n",
      "RangeIndex: 9 entries, 0 to 8\n",
      "Data columns (total 5 columns):\n",
      " #   Column      Non-Null Count  Dtype \n",
      "---  ------      --------------  ----- \n",
      " 0   Hypothesis  9 non-null      object\n",
      " 1   Reach       9 non-null      int64 \n",
      " 2   Impact      9 non-null      int64 \n",
      " 3   Confidence  9 non-null      int64 \n",
      " 4   Efforts     9 non-null      int64 \n",
      "dtypes: int64(4), object(1)\n",
      "memory usage: 488.0+ bytes\n"
     ]
    }
   ],
   "source": [
    "data.info()#выведем общую информацию"
   ]
  },
  {
   "cell_type": "markdown",
   "metadata": {},
   "source": [
    "Пропущенных значений в таблице нет. Есть нарушение стиля в название столбцов, приведем их к нижнему регистру. "
   ]
  },
  {
   "cell_type": "code",
   "execution_count": 3,
   "metadata": {},
   "outputs": [],
   "source": [
    "data.columns=data.columns.str.lower()\n",
    "# приведем название столбцов к нижнему регистру"
   ]
  },
  {
   "cell_type": "markdown",
   "metadata": {},
   "source": [
    "**Применим фреймворк ICE для приоретизации гипотез**"
   ]
  },
  {
   "cell_type": "code",
   "execution_count": 4,
   "metadata": {},
   "outputs": [
    {
     "data": {
      "text/html": [
       "<div>\n",
       "<style scoped>\n",
       "    .dataframe tbody tr th:only-of-type {\n",
       "        vertical-align: middle;\n",
       "    }\n",
       "\n",
       "    .dataframe tbody tr th {\n",
       "        vertical-align: top;\n",
       "    }\n",
       "\n",
       "    .dataframe thead th {\n",
       "        text-align: right;\n",
       "    }\n",
       "</style>\n",
       "<table border=\"1\" class=\"dataframe\">\n",
       "  <thead>\n",
       "    <tr style=\"text-align: right;\">\n",
       "      <th></th>\n",
       "      <th>hypothesis</th>\n",
       "      <th>reach</th>\n",
       "      <th>impact</th>\n",
       "      <th>confidence</th>\n",
       "      <th>efforts</th>\n",
       "      <th>ICE</th>\n",
       "    </tr>\n",
       "  </thead>\n",
       "  <tbody>\n",
       "    <tr>\n",
       "      <th>8</th>\n",
       "      <td>Запустить акцию, дающую скидку на товар в день рождения</td>\n",
       "      <td>1</td>\n",
       "      <td>9</td>\n",
       "      <td>9</td>\n",
       "      <td>5</td>\n",
       "      <td>16.20</td>\n",
       "    </tr>\n",
       "    <tr>\n",
       "      <th>0</th>\n",
       "      <td>Добавить два новых канала привлечения трафика, что позволит привлекать на 30% больше пользователей</td>\n",
       "      <td>3</td>\n",
       "      <td>10</td>\n",
       "      <td>8</td>\n",
       "      <td>6</td>\n",
       "      <td>13.33</td>\n",
       "    </tr>\n",
       "    <tr>\n",
       "      <th>7</th>\n",
       "      <td>Добавить форму подписки на все основные страницы, чтобы собрать базу клиентов для email-рассылок</td>\n",
       "      <td>10</td>\n",
       "      <td>7</td>\n",
       "      <td>8</td>\n",
       "      <td>5</td>\n",
       "      <td>11.20</td>\n",
       "    </tr>\n",
       "    <tr>\n",
       "      <th>6</th>\n",
       "      <td>Показать на главной странице баннеры с актуальными акциями и распродажами, чтобы увеличить конверсию</td>\n",
       "      <td>5</td>\n",
       "      <td>3</td>\n",
       "      <td>8</td>\n",
       "      <td>3</td>\n",
       "      <td>8.00</td>\n",
       "    </tr>\n",
       "    <tr>\n",
       "      <th>2</th>\n",
       "      <td>Добавить блоки рекомендаций товаров на сайт интернет магазина, чтобы повысить конверсию и средний чек заказа</td>\n",
       "      <td>8</td>\n",
       "      <td>3</td>\n",
       "      <td>7</td>\n",
       "      <td>3</td>\n",
       "      <td>7.00</td>\n",
       "    </tr>\n",
       "    <tr>\n",
       "      <th>1</th>\n",
       "      <td>Запустить собственную службу доставки, что сократит срок доставки заказов</td>\n",
       "      <td>2</td>\n",
       "      <td>5</td>\n",
       "      <td>4</td>\n",
       "      <td>10</td>\n",
       "      <td>2.00</td>\n",
       "    </tr>\n",
       "    <tr>\n",
       "      <th>5</th>\n",
       "      <td>Добавить страницу отзывов клиентов о магазине, что позволит увеличить количество заказов</td>\n",
       "      <td>3</td>\n",
       "      <td>2</td>\n",
       "      <td>2</td>\n",
       "      <td>3</td>\n",
       "      <td>1.33</td>\n",
       "    </tr>\n",
       "    <tr>\n",
       "      <th>3</th>\n",
       "      <td>Изменить структура категорий, что увеличит конверсию, т.к. пользователи быстрее найдут нужный товар</td>\n",
       "      <td>8</td>\n",
       "      <td>3</td>\n",
       "      <td>3</td>\n",
       "      <td>8</td>\n",
       "      <td>1.12</td>\n",
       "    </tr>\n",
       "    <tr>\n",
       "      <th>4</th>\n",
       "      <td>Изменить цвет фона главной страницы, чтобы увеличить вовлеченность пользователей</td>\n",
       "      <td>3</td>\n",
       "      <td>1</td>\n",
       "      <td>1</td>\n",
       "      <td>1</td>\n",
       "      <td>1.00</td>\n",
       "    </tr>\n",
       "  </tbody>\n",
       "</table>\n",
       "</div>"
      ],
      "text/plain": [
       "                                                                                                     hypothesis  \\\n",
       "8                                                       Запустить акцию, дающую скидку на товар в день рождения   \n",
       "0            Добавить два новых канала привлечения трафика, что позволит привлекать на 30% больше пользователей   \n",
       "7              Добавить форму подписки на все основные страницы, чтобы собрать базу клиентов для email-рассылок   \n",
       "6          Показать на главной странице баннеры с актуальными акциями и распродажами, чтобы увеличить конверсию   \n",
       "2  Добавить блоки рекомендаций товаров на сайт интернет магазина, чтобы повысить конверсию и средний чек заказа   \n",
       "1                                     Запустить собственную службу доставки, что сократит срок доставки заказов   \n",
       "5                      Добавить страницу отзывов клиентов о магазине, что позволит увеличить количество заказов   \n",
       "3           Изменить структура категорий, что увеличит конверсию, т.к. пользователи быстрее найдут нужный товар   \n",
       "4                              Изменить цвет фона главной страницы, чтобы увеличить вовлеченность пользователей   \n",
       "\n",
       "   reach  impact  confidence  efforts    ICE  \n",
       "8      1       9           9        5  16.20  \n",
       "0      3      10           8        6  13.33  \n",
       "7     10       7           8        5  11.20  \n",
       "6      5       3           8        3   8.00  \n",
       "2      8       3           7        3   7.00  \n",
       "1      2       5           4       10   2.00  \n",
       "5      3       2           2        3   1.33  \n",
       "3      8       3           3        8   1.12  \n",
       "4      3       1           1        1   1.00  "
      ]
     },
     "execution_count": 4,
     "metadata": {},
     "output_type": "execute_result"
    }
   ],
   "source": [
    "data['ICE'] = (\n",
    "    data['impact'] * data['confidence'] / data['efforts']\n",
    ")# посчитаем ICE для гипотез, добавим новый столбец к таблице\n",
    "data['ICE']=round(data['ICE'],2)\n",
    "data.sort_values(by='ICE',ascending=False)\n",
    "# выведем на экран, отсортировав по убыванию приоритета\n"
   ]
  },
  {
   "cell_type": "markdown",
   "metadata": {},
   "source": [
    "Наиболее перспективными гипотезами по ICE являются гипотезы под индексами 8,0 и 7."
   ]
  },
  {
   "cell_type": "code",
   "execution_count": 5,
   "metadata": {},
   "outputs": [
    {
     "data": {
      "text/plain": [
       "'Запустить акцию, дающую скидку на товар в день рождения'"
      ]
     },
     "metadata": {},
     "output_type": "display_data"
    },
    {
     "data": {
      "text/plain": [
       "'Добавить два новых канала привлечения трафика, что позволит привлекать на 30% больше пользователей'"
      ]
     },
     "metadata": {},
     "output_type": "display_data"
    },
    {
     "data": {
      "text/plain": [
       "'Добавить форму подписки на все основные страницы, чтобы собрать базу клиентов для email-рассылок'"
      ]
     },
     "metadata": {},
     "output_type": "display_data"
    }
   ],
   "source": [
    "display(data['hypothesis'][8])\n",
    "display(data['hypothesis'][0])\n",
    "display(data['hypothesis'][7])\n",
    "# выведем на экран самые перспективные гипотезы по ICE"
   ]
  },
  {
   "cell_type": "markdown",
   "metadata": {},
   "source": [
    "**Применим фреймворк RICE для приоретизации гипотез**"
   ]
  },
  {
   "cell_type": "code",
   "execution_count": 6,
   "metadata": {},
   "outputs": [
    {
     "data": {
      "text/html": [
       "<div>\n",
       "<style scoped>\n",
       "    .dataframe tbody tr th:only-of-type {\n",
       "        vertical-align: middle;\n",
       "    }\n",
       "\n",
       "    .dataframe tbody tr th {\n",
       "        vertical-align: top;\n",
       "    }\n",
       "\n",
       "    .dataframe thead th {\n",
       "        text-align: right;\n",
       "    }\n",
       "</style>\n",
       "<table border=\"1\" class=\"dataframe\">\n",
       "  <thead>\n",
       "    <tr style=\"text-align: right;\">\n",
       "      <th></th>\n",
       "      <th>hypothesis</th>\n",
       "      <th>reach</th>\n",
       "      <th>impact</th>\n",
       "      <th>confidence</th>\n",
       "      <th>efforts</th>\n",
       "      <th>ICE</th>\n",
       "      <th>RICE</th>\n",
       "    </tr>\n",
       "  </thead>\n",
       "  <tbody>\n",
       "    <tr>\n",
       "      <th>7</th>\n",
       "      <td>Добавить форму подписки на все основные страницы, чтобы собрать базу клиентов для email-рассылок</td>\n",
       "      <td>10</td>\n",
       "      <td>7</td>\n",
       "      <td>8</td>\n",
       "      <td>5</td>\n",
       "      <td>11.20</td>\n",
       "      <td>112.0</td>\n",
       "    </tr>\n",
       "    <tr>\n",
       "      <th>2</th>\n",
       "      <td>Добавить блоки рекомендаций товаров на сайт интернет магазина, чтобы повысить конверсию и средний чек заказа</td>\n",
       "      <td>8</td>\n",
       "      <td>3</td>\n",
       "      <td>7</td>\n",
       "      <td>3</td>\n",
       "      <td>7.00</td>\n",
       "      <td>56.0</td>\n",
       "    </tr>\n",
       "    <tr>\n",
       "      <th>0</th>\n",
       "      <td>Добавить два новых канала привлечения трафика, что позволит привлекать на 30% больше пользователей</td>\n",
       "      <td>3</td>\n",
       "      <td>10</td>\n",
       "      <td>8</td>\n",
       "      <td>6</td>\n",
       "      <td>13.33</td>\n",
       "      <td>40.0</td>\n",
       "    </tr>\n",
       "    <tr>\n",
       "      <th>6</th>\n",
       "      <td>Показать на главной странице баннеры с актуальными акциями и распродажами, чтобы увеличить конверсию</td>\n",
       "      <td>5</td>\n",
       "      <td>3</td>\n",
       "      <td>8</td>\n",
       "      <td>3</td>\n",
       "      <td>8.00</td>\n",
       "      <td>40.0</td>\n",
       "    </tr>\n",
       "    <tr>\n",
       "      <th>8</th>\n",
       "      <td>Запустить акцию, дающую скидку на товар в день рождения</td>\n",
       "      <td>1</td>\n",
       "      <td>9</td>\n",
       "      <td>9</td>\n",
       "      <td>5</td>\n",
       "      <td>16.20</td>\n",
       "      <td>16.2</td>\n",
       "    </tr>\n",
       "    <tr>\n",
       "      <th>3</th>\n",
       "      <td>Изменить структура категорий, что увеличит конверсию, т.к. пользователи быстрее найдут нужный товар</td>\n",
       "      <td>8</td>\n",
       "      <td>3</td>\n",
       "      <td>3</td>\n",
       "      <td>8</td>\n",
       "      <td>1.12</td>\n",
       "      <td>9.0</td>\n",
       "    </tr>\n",
       "    <tr>\n",
       "      <th>1</th>\n",
       "      <td>Запустить собственную службу доставки, что сократит срок доставки заказов</td>\n",
       "      <td>2</td>\n",
       "      <td>5</td>\n",
       "      <td>4</td>\n",
       "      <td>10</td>\n",
       "      <td>2.00</td>\n",
       "      <td>4.0</td>\n",
       "    </tr>\n",
       "    <tr>\n",
       "      <th>5</th>\n",
       "      <td>Добавить страницу отзывов клиентов о магазине, что позволит увеличить количество заказов</td>\n",
       "      <td>3</td>\n",
       "      <td>2</td>\n",
       "      <td>2</td>\n",
       "      <td>3</td>\n",
       "      <td>1.33</td>\n",
       "      <td>4.0</td>\n",
       "    </tr>\n",
       "    <tr>\n",
       "      <th>4</th>\n",
       "      <td>Изменить цвет фона главной страницы, чтобы увеличить вовлеченность пользователей</td>\n",
       "      <td>3</td>\n",
       "      <td>1</td>\n",
       "      <td>1</td>\n",
       "      <td>1</td>\n",
       "      <td>1.00</td>\n",
       "      <td>3.0</td>\n",
       "    </tr>\n",
       "  </tbody>\n",
       "</table>\n",
       "</div>"
      ],
      "text/plain": [
       "                                                                                                     hypothesis  \\\n",
       "7              Добавить форму подписки на все основные страницы, чтобы собрать базу клиентов для email-рассылок   \n",
       "2  Добавить блоки рекомендаций товаров на сайт интернет магазина, чтобы повысить конверсию и средний чек заказа   \n",
       "0            Добавить два новых канала привлечения трафика, что позволит привлекать на 30% больше пользователей   \n",
       "6          Показать на главной странице баннеры с актуальными акциями и распродажами, чтобы увеличить конверсию   \n",
       "8                                                       Запустить акцию, дающую скидку на товар в день рождения   \n",
       "3           Изменить структура категорий, что увеличит конверсию, т.к. пользователи быстрее найдут нужный товар   \n",
       "1                                     Запустить собственную службу доставки, что сократит срок доставки заказов   \n",
       "5                      Добавить страницу отзывов клиентов о магазине, что позволит увеличить количество заказов   \n",
       "4                              Изменить цвет фона главной страницы, чтобы увеличить вовлеченность пользователей   \n",
       "\n",
       "   reach  impact  confidence  efforts    ICE   RICE  \n",
       "7     10       7           8        5  11.20  112.0  \n",
       "2      8       3           7        3   7.00   56.0  \n",
       "0      3      10           8        6  13.33   40.0  \n",
       "6      5       3           8        3   8.00   40.0  \n",
       "8      1       9           9        5  16.20   16.2  \n",
       "3      8       3           3        8   1.12    9.0  \n",
       "1      2       5           4       10   2.00    4.0  \n",
       "5      3       2           2        3   1.33    4.0  \n",
       "4      3       1           1        1   1.00    3.0  "
      ]
     },
     "execution_count": 6,
     "metadata": {},
     "output_type": "execute_result"
    }
   ],
   "source": [
    "data['RICE'] = data['reach'] * data['impact'] * data['confidence'] / data['efforts'] \n",
    "# посчитаем RICE для гипотез, добавим новый столбец к таблице\n",
    "data.sort_values(by='RICE', ascending=False)\n",
    "# выведем на экран, отсортировав по убыванию приоритета"
   ]
  },
  {
   "cell_type": "markdown",
   "metadata": {},
   "source": [
    "Наиболее перспективными гипотезами по RICE являются гипотезы под индексами 7,2 и 0."
   ]
  },
  {
   "cell_type": "code",
   "execution_count": 7,
   "metadata": {},
   "outputs": [
    {
     "data": {
      "text/plain": [
       "'Добавить форму подписки на все основные страницы, чтобы собрать базу клиентов для email-рассылок'"
      ]
     },
     "metadata": {},
     "output_type": "display_data"
    },
    {
     "data": {
      "text/plain": [
       "'Добавить блоки рекомендаций товаров на сайт интернет магазина, чтобы повысить конверсию и средний чек заказа'"
      ]
     },
     "metadata": {},
     "output_type": "display_data"
    },
    {
     "data": {
      "text/plain": [
       "'Добавить два новых канала привлечения трафика, что позволит привлекать на 30% больше пользователей'"
      ]
     },
     "metadata": {},
     "output_type": "display_data"
    }
   ],
   "source": [
    "display(data['hypothesis'][7])\n",
    "display(data['hypothesis'][2])\n",
    "display(data['hypothesis'][0])\n",
    "# выведем на экран самые перспективные гипотезы по RICE"
   ]
  },
  {
   "cell_type": "markdown",
   "metadata": {},
   "source": [
    "Итак, и по ICE и по RICE в первую тройку попали 2 гипотезы под индексом 7 и 0. Гипотеза под индексом 7 по RICE встала на первое место, потому что у нее значение reach 10, в то время как у гипотезы под индексом 8 это значение только 1, это значит, что гипотеза под номером 7 затронет намного больше пользователей."
   ]
  },
  {
   "cell_type": "markdown",
   "metadata": {},
   "source": [
    "Итак, две самые перспективные гипотезы по влиянию, уверенности, простоте и охвату\n",
    "- Добавить форму подписки на все основные страницы, чтобы собрать базу клиентов для email-рассылок\n",
    "- Добавить два новых канала привлечения трафика, что позволит привлекать на 30% больше пользователей"
   ]
  },
  {
   "cell_type": "markdown",
   "metadata": {},
   "source": [
    "## Анализ А/В теста"
   ]
  },
  {
   "cell_type": "markdown",
   "metadata": {},
   "source": [
    "**Подготовим данные в таблицах к анализу**"
   ]
  },
  {
   "cell_type": "code",
   "execution_count": 8,
   "metadata": {},
   "outputs": [
    {
     "data": {
      "text/html": [
       "<div>\n",
       "<style scoped>\n",
       "    .dataframe tbody tr th:only-of-type {\n",
       "        vertical-align: middle;\n",
       "    }\n",
       "\n",
       "    .dataframe tbody tr th {\n",
       "        vertical-align: top;\n",
       "    }\n",
       "\n",
       "    .dataframe thead th {\n",
       "        text-align: right;\n",
       "    }\n",
       "</style>\n",
       "<table border=\"1\" class=\"dataframe\">\n",
       "  <thead>\n",
       "    <tr style=\"text-align: right;\">\n",
       "      <th></th>\n",
       "      <th>transactionId</th>\n",
       "      <th>visitorId</th>\n",
       "      <th>date</th>\n",
       "      <th>revenue</th>\n",
       "      <th>group</th>\n",
       "    </tr>\n",
       "  </thead>\n",
       "  <tbody>\n",
       "    <tr>\n",
       "      <th>0</th>\n",
       "      <td>3667963787</td>\n",
       "      <td>3312258926</td>\n",
       "      <td>2019-08-15</td>\n",
       "      <td>1650</td>\n",
       "      <td>B</td>\n",
       "    </tr>\n",
       "    <tr>\n",
       "      <th>1</th>\n",
       "      <td>2804400009</td>\n",
       "      <td>3642806036</td>\n",
       "      <td>2019-08-15</td>\n",
       "      <td>730</td>\n",
       "      <td>B</td>\n",
       "    </tr>\n",
       "    <tr>\n",
       "      <th>2</th>\n",
       "      <td>2961555356</td>\n",
       "      <td>4069496402</td>\n",
       "      <td>2019-08-15</td>\n",
       "      <td>400</td>\n",
       "      <td>A</td>\n",
       "    </tr>\n",
       "    <tr>\n",
       "      <th>3</th>\n",
       "      <td>3797467345</td>\n",
       "      <td>1196621759</td>\n",
       "      <td>2019-08-15</td>\n",
       "      <td>9759</td>\n",
       "      <td>B</td>\n",
       "    </tr>\n",
       "    <tr>\n",
       "      <th>4</th>\n",
       "      <td>2282983706</td>\n",
       "      <td>2322279887</td>\n",
       "      <td>2019-08-15</td>\n",
       "      <td>2308</td>\n",
       "      <td>B</td>\n",
       "    </tr>\n",
       "  </tbody>\n",
       "</table>\n",
       "</div>"
      ],
      "text/plain": [
       "   transactionId   visitorId        date  revenue group\n",
       "0     3667963787  3312258926  2019-08-15     1650     B\n",
       "1     2804400009  3642806036  2019-08-15      730     B\n",
       "2     2961555356  4069496402  2019-08-15      400     A\n",
       "3     3797467345  1196621759  2019-08-15     9759     B\n",
       "4     2282983706  2322279887  2019-08-15     2308     B"
      ]
     },
     "execution_count": 8,
     "metadata": {},
     "output_type": "execute_result"
    }
   ],
   "source": [
    "orders = pd.read_csv('/datasets/orders.csv', sep=',')\n",
    "# прочитаем файл и сохраним его в переменной orders\n",
    "orders.head()\n",
    "# выведем на экран первые 5 строк таблицы"
   ]
  },
  {
   "cell_type": "code",
   "execution_count": 9,
   "metadata": {},
   "outputs": [
    {
     "name": "stdout",
     "output_type": "stream",
     "text": [
      "<class 'pandas.core.frame.DataFrame'>\n",
      "RangeIndex: 1197 entries, 0 to 1196\n",
      "Data columns (total 5 columns):\n",
      " #   Column         Non-Null Count  Dtype \n",
      "---  ------         --------------  ----- \n",
      " 0   transactionId  1197 non-null   int64 \n",
      " 1   visitorId      1197 non-null   int64 \n",
      " 2   date           1197 non-null   object\n",
      " 3   revenue        1197 non-null   int64 \n",
      " 4   group          1197 non-null   object\n",
      "dtypes: int64(3), object(2)\n",
      "memory usage: 46.9+ KB\n"
     ]
    }
   ],
   "source": [
    "orders.info() \n",
    "# посмотрим общую информацию таблицы orders"
   ]
  },
  {
   "cell_type": "markdown",
   "metadata": {},
   "source": [
    "Таблица orders 5 столбцов.\n",
    "\n",
    "- transactionId — идентификатор заказа;\n",
    "- visitorId — идентификатор пользователя, совершившего заказ;\n",
    "- date — дата, когда был совершён заказ;\n",
    "- revenue — выручка заказа;\n",
    "- group — группа A/B-теста, в которую попал заказ\n",
    "\n",
    "Пропущенных данных нет, преобразуем столбец date в тип datetime, переименуем столбцы transactionId и visitorId  - приведем название к нижнему регистру"
   ]
  },
  {
   "cell_type": "code",
   "execution_count": 10,
   "metadata": {},
   "outputs": [],
   "source": [
    "orders['date'] = pd.to_datetime(orders['date'])\n",
    "# приведем к данные в столбце date к типу datetime"
   ]
  },
  {
   "cell_type": "code",
   "execution_count": 11,
   "metadata": {},
   "outputs": [],
   "source": [
    "orders = orders.rename(\n",
    "    columns={'transactionId':'transaction_id','visitorId':'visitor_id'}\n",
    ")\n",
    "# переименуем название столбцов методом rename"
   ]
  },
  {
   "cell_type": "code",
   "execution_count": 12,
   "metadata": {},
   "outputs": [
    {
     "name": "stdout",
     "output_type": "stream",
     "text": [
      "<class 'pandas.core.frame.DataFrame'>\n",
      "RangeIndex: 1197 entries, 0 to 1196\n",
      "Data columns (total 5 columns):\n",
      " #   Column          Non-Null Count  Dtype         \n",
      "---  ------          --------------  -----         \n",
      " 0   transaction_id  1197 non-null   int64         \n",
      " 1   visitor_id      1197 non-null   int64         \n",
      " 2   date            1197 non-null   datetime64[ns]\n",
      " 3   revenue         1197 non-null   int64         \n",
      " 4   group           1197 non-null   object        \n",
      "dtypes: datetime64[ns](1), int64(3), object(1)\n",
      "memory usage: 46.9+ KB\n"
     ]
    }
   ],
   "source": [
    "orders.info() # проверим изменения"
   ]
  },
  {
   "cell_type": "code",
   "execution_count": 13,
   "metadata": {},
   "outputs": [
    {
     "data": {
      "text/html": [
       "<div>\n",
       "<style scoped>\n",
       "    .dataframe tbody tr th:only-of-type {\n",
       "        vertical-align: middle;\n",
       "    }\n",
       "\n",
       "    .dataframe tbody tr th {\n",
       "        vertical-align: top;\n",
       "    }\n",
       "\n",
       "    .dataframe thead th {\n",
       "        text-align: right;\n",
       "    }\n",
       "</style>\n",
       "<table border=\"1\" class=\"dataframe\">\n",
       "  <thead>\n",
       "    <tr style=\"text-align: right;\">\n",
       "      <th></th>\n",
       "      <th>date</th>\n",
       "      <th>group</th>\n",
       "      <th>visitors</th>\n",
       "    </tr>\n",
       "  </thead>\n",
       "  <tbody>\n",
       "    <tr>\n",
       "      <th>0</th>\n",
       "      <td>2019-08-01</td>\n",
       "      <td>A</td>\n",
       "      <td>719</td>\n",
       "    </tr>\n",
       "    <tr>\n",
       "      <th>1</th>\n",
       "      <td>2019-08-02</td>\n",
       "      <td>A</td>\n",
       "      <td>619</td>\n",
       "    </tr>\n",
       "    <tr>\n",
       "      <th>2</th>\n",
       "      <td>2019-08-03</td>\n",
       "      <td>A</td>\n",
       "      <td>507</td>\n",
       "    </tr>\n",
       "    <tr>\n",
       "      <th>3</th>\n",
       "      <td>2019-08-04</td>\n",
       "      <td>A</td>\n",
       "      <td>717</td>\n",
       "    </tr>\n",
       "    <tr>\n",
       "      <th>4</th>\n",
       "      <td>2019-08-05</td>\n",
       "      <td>A</td>\n",
       "      <td>756</td>\n",
       "    </tr>\n",
       "  </tbody>\n",
       "</table>\n",
       "</div>"
      ],
      "text/plain": [
       "         date group  visitors\n",
       "0  2019-08-01     A       719\n",
       "1  2019-08-02     A       619\n",
       "2  2019-08-03     A       507\n",
       "3  2019-08-04     A       717\n",
       "4  2019-08-05     A       756"
      ]
     },
     "execution_count": 13,
     "metadata": {},
     "output_type": "execute_result"
    }
   ],
   "source": [
    "visitors = pd.read_csv('/datasets/visitors.csv', sep=',')\n",
    "# прочитаем файл и сохраним его в переменной orders\n",
    "visitors.head()\n",
    "# выведем на экран первые 5 строк таблицы"
   ]
  },
  {
   "cell_type": "code",
   "execution_count": 14,
   "metadata": {},
   "outputs": [
    {
     "name": "stdout",
     "output_type": "stream",
     "text": [
      "<class 'pandas.core.frame.DataFrame'>\n",
      "RangeIndex: 62 entries, 0 to 61\n",
      "Data columns (total 3 columns):\n",
      " #   Column    Non-Null Count  Dtype \n",
      "---  ------    --------------  ----- \n",
      " 0   date      62 non-null     object\n",
      " 1   group     62 non-null     object\n",
      " 2   visitors  62 non-null     int64 \n",
      "dtypes: int64(1), object(2)\n",
      "memory usage: 1.6+ KB\n"
     ]
    }
   ],
   "source": [
    "visitors.info() #посмотрим общую информацию таблицы visitors"
   ]
  },
  {
   "cell_type": "markdown",
   "metadata": {},
   "source": [
    "Таблица visitors 3 столбца\n",
    "\n",
    "- date — дата;\n",
    "- group — группа A/B-теста;\n",
    "- visitors — количество пользователей в указанную дату в указанной группе A/B-теста\n",
    "\n",
    "Пропущенных данных нет, преобразуем тип столбца date  в datetime"
   ]
  },
  {
   "cell_type": "code",
   "execution_count": 15,
   "metadata": {},
   "outputs": [],
   "source": [
    " visitors['date'] = pd.to_datetime( visitors['date'])\n",
    "# приведем к данные в столбце date к типу datetime"
   ]
  },
  {
   "cell_type": "markdown",
   "metadata": {},
   "source": [
    "Посмотрим какие даты у нас получились, какой временной интервал мы рассматриваем, совпадает ли он в двух таблицах и в двух группах."
   ]
  },
  {
   "cell_type": "code",
   "execution_count": 16,
   "metadata": {},
   "outputs": [
    {
     "data": {
      "text/plain": [
       "Timestamp('2019-08-01 00:00:00')"
      ]
     },
     "metadata": {},
     "output_type": "display_data"
    },
    {
     "data": {
      "text/plain": [
       "Timestamp('2019-08-31 00:00:00')"
      ]
     },
     "metadata": {},
     "output_type": "display_data"
    }
   ],
   "source": [
    "min_date_order = orders['date'].min()\n",
    "max_date_order = orders['date'].max() \n",
    "display(min_date_order, max_date_order)"
   ]
  },
  {
   "cell_type": "code",
   "execution_count": 17,
   "metadata": {},
   "outputs": [
    {
     "data": {
      "text/plain": [
       "Timestamp('2019-08-01 00:00:00')"
      ]
     },
     "metadata": {},
     "output_type": "display_data"
    },
    {
     "data": {
      "text/plain": [
       "Timestamp('2019-08-31 00:00:00')"
      ]
     },
     "metadata": {},
     "output_type": "display_data"
    }
   ],
   "source": [
    "min_date_visitors = visitors['date'].min()\n",
    "max_date_visitors = visitors['date'].max() \n",
    "display(min_date_visitors, max_date_visitors)"
   ]
  },
  {
   "cell_type": "code",
   "execution_count": 18,
   "metadata": {},
   "outputs": [
    {
     "data": {
      "text/plain": [
       "Timestamp('2019-08-01 00:00:00')"
      ]
     },
     "metadata": {},
     "output_type": "display_data"
    },
    {
     "data": {
      "text/plain": [
       "Timestamp('2019-08-31 00:00:00')"
      ]
     },
     "metadata": {},
     "output_type": "display_data"
    },
    {
     "data": {
      "text/plain": [
       "Timestamp('2019-08-01 00:00:00')"
      ]
     },
     "metadata": {},
     "output_type": "display_data"
    },
    {
     "data": {
      "text/plain": [
       "Timestamp('2019-08-31 00:00:00')"
      ]
     },
     "metadata": {},
     "output_type": "display_data"
    }
   ],
   "source": [
    "orders_A=orders.query('group==\"A\"')\n",
    "orders_B=orders.query('group==\"B\"')\n",
    "min_date_A = orders_A['date'].min()\n",
    "max_date_A = orders_A['date'].max() \n",
    "min_date_B = orders_B['date'].min()\n",
    "max_date_B = orders_B['date'].max() \n",
    "display(min_date_A, max_date_A)\n",
    "display(min_date_B, max_date_B)\n"
   ]
  },
  {
   "cell_type": "markdown",
   "metadata": {},
   "source": [
    "В двух таблицах временной интервал совпадает. Тест шел целый месяц в августе 2019 года. В двух группах он тоже совпадает."
   ]
  },
  {
   "cell_type": "code",
   "execution_count": 19,
   "metadata": {},
   "outputs": [
    {
     "data": {
      "text/plain": [
       "array([   8300375,  199603092,  232979603,  237748145,  276558944,\n",
       "        351125977,  393266494,  457167155,  471551937,  477780734,\n",
       "        818047933,  963407295, 1230306981, 1294878855, 1316129916,\n",
       "       1333886533, 1404934699, 1602967004, 1614305549, 1648269707,\n",
       "       1668030113, 1738359350, 1801183820, 1959144690, 2038680547,\n",
       "       2044997962, 2378935119, 2458001652, 2579882178, 2587333274,\n",
       "       2600415354, 2654030115, 2686716486, 2712142231, 2716752286,\n",
       "       2780786433, 2927087541, 2949041841, 2954449915, 3062433592,\n",
       "       3202540741, 3234906277, 3656415546, 3717692402, 3766097110,\n",
       "       3803269165, 3891541246, 3941795274, 3951559397, 3957174400,\n",
       "       3963646447, 3972127743, 3984495233, 4069496402, 4120364173,\n",
       "       4186807279, 4256040402, 4266935830])"
      ]
     },
     "execution_count": 19,
     "metadata": {},
     "output_type": "execute_result"
    }
   ],
   "source": [
    "arA=orders.query('group == \"A\"')['visitor_id'].unique()\n",
    "arB=orders.query('group == \"B\"')['visitor_id'].unique()\n",
    "intersected_visitors_new = np.intersect1d(arA, arB)\n",
    "intersected_visitors_new"
   ]
  },
  {
   "cell_type": "markdown",
   "metadata": {},
   "source": [
    "**Рассчитае кумулятивные данные**"
   ]
  },
  {
   "cell_type": "code",
   "execution_count": 20,
   "metadata": {},
   "outputs": [],
   "source": [
    "datesGroups = orders[['date','group']].drop_duplicates()\n",
    "# создадим датафрейм datesGroups с уникальными парами значений 'date' и 'group', таблицы orders \n",
    "# избавимся от дубликатов методом drop_duplicates()."
   ]
  },
  {
   "cell_type": "markdown",
   "metadata": {},
   "source": [
    "Объявим переменную ordersAggregated, содержащую:\n",
    "- дату;\n",
    "- группу A/B-теста;\n",
    "- число уникальных заказов в группе теста по указанную дату включительно;\n",
    "- число уникальных пользователей, совершивших хотя бы 1 заказ в группе теста по указанную дату включительно;\n",
    "- суммарную выручку заказов в группе теста по указанную дату включительно."
   ]
  },
  {
   "cell_type": "code",
   "execution_count": 21,
   "metadata": {},
   "outputs": [],
   "source": [
    "ordersAggregated = datesGroups.apply(\n",
    "    lambda x: orders[\n",
    "        np.logical_and(\n",
    "            orders['date'] <= x['date'], orders['group'] == x['group']\n",
    "        )\n",
    "    ].agg(\n",
    "        {\n",
    "            'date': 'max',\n",
    "            'group': 'max',\n",
    "            'transaction_id': 'nunique',\n",
    "            'visitor_id': 'nunique',\n",
    "            'revenue': 'sum',\n",
    "        }\n",
    "    ),\n",
    "    axis=1,\n",
    ").sort_values(by=['date', 'group'])\n",
    "# используем метод apply() для применения функций к столбцам датафрейма \n",
    "# в методе agg() укажем какие функции к каким столбцам использовать\n",
    "# np.logical_and - функция, которая рассчитает кумулятивные данные\n",
    "# отсортируем данные по столбцам 'date', 'group' в указанном порядке"
   ]
  },
  {
   "cell_type": "markdown",
   "metadata": {},
   "source": [
    "Объявим переменную visitorsAggregated, содержащую:\n",
    "- дату;\n",
    "- группу A/B-теста;\n",
    "- количество уникальных посетителей в группе теста по указанную дату включительно."
   ]
  },
  {
   "cell_type": "code",
   "execution_count": 22,
   "metadata": {},
   "outputs": [],
   "source": [
    "visitorsAggregated = datesGroups.apply(\n",
    "    lambda x: visitors[\n",
    "        np.logical_and(\n",
    "            visitors['date'] <= x['date'], visitors['group'] == x['group']\n",
    "        )\n",
    "    ].agg({'date': 'max', 'group': 'max', 'visitors': 'sum'}),\n",
    "    axis=1,\n",
    ").sort_values(by=['date', 'group'])"
   ]
  },
  {
   "cell_type": "markdown",
   "metadata": {},
   "source": [
    "Определим переменную cumulativeData, объединив ordersAggregated и visitorsAggregated по колонкам 'date', 'group' методом merge()"
   ]
  },
  {
   "cell_type": "code",
   "execution_count": 23,
   "metadata": {},
   "outputs": [],
   "source": [
    "cumulativeData = ordersAggregated.merge(\n",
    "    visitorsAggregated, left_on=['date', 'group'], right_on=['date', 'group']\n",
    ")"
   ]
  },
  {
   "cell_type": "code",
   "execution_count": 24,
   "metadata": {},
   "outputs": [],
   "source": [
    "cumulativeData.columns = ['date', 'group', 'orders', 'buyers', 'revenue', 'visitors']\n",
    "# переименуем столбцы"
   ]
  },
  {
   "cell_type": "code",
   "execution_count": 25,
   "metadata": {},
   "outputs": [
    {
     "data": {
      "text/html": [
       "<div>\n",
       "<style scoped>\n",
       "    .dataframe tbody tr th:only-of-type {\n",
       "        vertical-align: middle;\n",
       "    }\n",
       "\n",
       "    .dataframe tbody tr th {\n",
       "        vertical-align: top;\n",
       "    }\n",
       "\n",
       "    .dataframe thead th {\n",
       "        text-align: right;\n",
       "    }\n",
       "</style>\n",
       "<table border=\"1\" class=\"dataframe\">\n",
       "  <thead>\n",
       "    <tr style=\"text-align: right;\">\n",
       "      <th></th>\n",
       "      <th>date</th>\n",
       "      <th>group</th>\n",
       "      <th>orders</th>\n",
       "      <th>buyers</th>\n",
       "      <th>revenue</th>\n",
       "      <th>visitors</th>\n",
       "    </tr>\n",
       "  </thead>\n",
       "  <tbody>\n",
       "    <tr>\n",
       "      <th>0</th>\n",
       "      <td>2019-08-01</td>\n",
       "      <td>A</td>\n",
       "      <td>24</td>\n",
       "      <td>20</td>\n",
       "      <td>148579</td>\n",
       "      <td>719</td>\n",
       "    </tr>\n",
       "    <tr>\n",
       "      <th>1</th>\n",
       "      <td>2019-08-01</td>\n",
       "      <td>B</td>\n",
       "      <td>21</td>\n",
       "      <td>20</td>\n",
       "      <td>101217</td>\n",
       "      <td>713</td>\n",
       "    </tr>\n",
       "    <tr>\n",
       "      <th>2</th>\n",
       "      <td>2019-08-02</td>\n",
       "      <td>A</td>\n",
       "      <td>44</td>\n",
       "      <td>38</td>\n",
       "      <td>242401</td>\n",
       "      <td>1338</td>\n",
       "    </tr>\n",
       "    <tr>\n",
       "      <th>3</th>\n",
       "      <td>2019-08-02</td>\n",
       "      <td>B</td>\n",
       "      <td>45</td>\n",
       "      <td>43</td>\n",
       "      <td>266748</td>\n",
       "      <td>1294</td>\n",
       "    </tr>\n",
       "    <tr>\n",
       "      <th>4</th>\n",
       "      <td>2019-08-03</td>\n",
       "      <td>A</td>\n",
       "      <td>68</td>\n",
       "      <td>62</td>\n",
       "      <td>354874</td>\n",
       "      <td>1845</td>\n",
       "    </tr>\n",
       "  </tbody>\n",
       "</table>\n",
       "</div>"
      ],
      "text/plain": [
       "        date group  orders  buyers  revenue  visitors\n",
       "0 2019-08-01     A      24      20   148579       719\n",
       "1 2019-08-01     B      21      20   101217       713\n",
       "2 2019-08-02     A      44      38   242401      1338\n",
       "3 2019-08-02     B      45      43   266748      1294\n",
       "4 2019-08-03     A      68      62   354874      1845"
      ]
     },
     "execution_count": 25,
     "metadata": {},
     "output_type": "execute_result"
    }
   ],
   "source": [
    "cumulativeData.head() # выведем на экран первые 5 строк кумулятивной таблицы"
   ]
  },
  {
   "cell_type": "markdown",
   "metadata": {},
   "source": [
    "**Сделаем анализ выбросов и всплесков**"
   ]
  },
  {
   "cell_type": "markdown",
   "metadata": {},
   "source": [
    "Объявим переменные cumulativeRevenueA и cumulativeRevenueB, в которых сохраним данные о датах, выручке и числе заказов в группах A и B.\n",
    "Построим графики кумулятивной выручки по дням по группам."
   ]
  },
  {
   "cell_type": "code",
   "execution_count": 26,
   "metadata": {},
   "outputs": [
    {
     "data": {
      "text/plain": [
       "Text(0, 0.5, 'выручка')"
      ]
     },
     "execution_count": 26,
     "metadata": {},
     "output_type": "execute_result"
    },
    {
     "data": {
      "image/png": "[encoded data removed]",
      "text/plain": [
       "<Figure size 432x288 with 1 Axes>"
      ]
     },
     "metadata": {
      "needs_background": "light"
     },
     "output_type": "display_data"
    }
   ],
   "source": [
    "cumulativeRevenueA = cumulativeData[cumulativeData['group']=='A'][['date','revenue', 'orders']]\n",
    "cumulativeRevenueB = cumulativeData[cumulativeData['group']=='B'][['date','revenue', 'orders']]\n",
    "# сделаем срез\n",
    "plt.plot(cumulativeRevenueA['date'], cumulativeRevenueA['revenue'], label='A')\n",
    "plt.plot(cumulativeRevenueB['date'], cumulativeRevenueB['revenue'], label='B')\n",
    "# построим графики используя метод plot()\n",
    "plt.legend()\n",
    "plt.title('Графики кумулятивной выручки по дням по группам')\n",
    "plt.xticks(rotation = 45)\n",
    "plt.xlabel('дата')\n",
    "plt.ylabel('выручка')"
   ]
  },
  {
   "cell_type": "markdown",
   "metadata": {},
   "source": [
    "В середине теста выручка группы В уверенно вырвалась вперед и продолжала лидировать весь остаток теста."
   ]
  },
  {
   "cell_type": "markdown",
   "metadata": {},
   "source": [
    "Для каждой группы построим графики кумулятивного среднего чека по дням."
   ]
  },
  {
   "cell_type": "code",
   "execution_count": 27,
   "metadata": {},
   "outputs": [
    {
     "data": {
      "text/plain": [
       "Text(0, 0.5, 'значение среднего чека')"
      ]
     },
     "execution_count": 27,
     "metadata": {},
     "output_type": "execute_result"
    },
    {
     "data": {
      "image/png": "[encoded data removed]",
      "text/plain": [
       "<Figure size 432x288 with 1 Axes>"
      ]
     },
     "metadata": {
      "needs_background": "light"
     },
     "output_type": "display_data"
    }
   ],
   "source": [
    "plt.plot(cumulativeRevenueA['date'], cumulativeRevenueA['revenue']/cumulativeRevenueA['orders'], label='A')\n",
    "plt.plot(cumulativeRevenueB['date'], cumulativeRevenueB['revenue']/cumulativeRevenueB['orders'], label='B')\n",
    "plt.legend()\n",
    "plt.title('Графики кумулятивного среднего чека по дням')\n",
    "plt.xticks(rotation = 45)\n",
    "plt.xlabel('дата')\n",
    "plt.ylabel('значение среднего чека')"
   ]
  },
  {
   "cell_type": "markdown",
   "metadata": {},
   "source": [
    "Кумулятивное значение среднего чека по сегментам продолжает колебаться, но видим резкий всплеск у группы В в середине теста."
   ]
  },
  {
   "cell_type": "markdown",
   "metadata": {},
   "source": [
    "Объедим таблицы cumulativeRevenueA и cumulativeRevenueB методом merge().\n",
    "Построим график относительно различия кумулятивного среднего чека группы B к группе A.\n",
    "Добавим пунктирную линию оси X (значение оси Y = 0) методом plt.axhline()."
   ]
  },
  {
   "cell_type": "code",
   "execution_count": 28,
   "metadata": {},
   "outputs": [
    {
     "data": {
      "text/plain": [
       "Text(0, 0.5, ' различия кумулятивного среднего чека группы B к группе A')"
      ]
     },
     "execution_count": 28,
     "metadata": {},
     "output_type": "execute_result"
    },
    {
     "data": {
      "image/png": "[encoded data removed]",
      "text/plain": [
       "<Figure size 432x288 with 1 Axes>"
      ]
     },
     "metadata": {
      "needs_background": "light"
     },
     "output_type": "display_data"
    }
   ],
   "source": [
    "# собираем данные в одном датафрейме\n",
    "mergedCumulativeRevenue = cumulativeRevenueA.merge(cumulativeRevenueB, left_on='date', right_on='date', how='left', suffixes=['A', 'B'])\n",
    "\n",
    "# cтроим отношение средних чеков\n",
    "plt.plot(mergedCumulativeRevenue['date'], (mergedCumulativeRevenue['revenueB']/mergedCumulativeRevenue['ordersB'])/(mergedCumulativeRevenue['revenueA']/mergedCumulativeRevenue['ordersA'])-1)\n",
    "\n",
    "# добавляем ось X\n",
    "plt.axhline(y=0, color='black', linestyle='--')\n",
    "plt.title('График относительно различия кумулятивного среднего чека группы B к группе A')\n",
    "plt.xticks(rotation = 45)\n",
    "plt.xlabel('дата')\n",
    "plt.ylabel(' различия кумулятивного среднего чека группы B к группе A')"
   ]
  },
  {
   "cell_type": "markdown",
   "metadata": {},
   "source": [
    "Результаты теста значительно и резко менялись в несколько дат, но особенно резкий спад был в середине теста."
   ]
  },
  {
   "cell_type": "markdown",
   "metadata": {},
   "source": [
    "Добавим в cumulativeData столбец 'conversion' c отношением числа заказов к количеству пользователей в указанной группе в указанный день.\n",
    "Объявим переменные cumulativeDataA и cumulativeDataB, в которых сохраним данные о заказах в сегментах A и B соответственно.\n",
    "\n",
    "Построим графики кумулятивной конверсии по дням по группам."
   ]
  },
  {
   "cell_type": "code",
   "execution_count": 29,
   "metadata": {},
   "outputs": [
    {
     "data": {
      "text/plain": [
       "Text(0, 0.5, 'кумулятивная конверсия')"
      ]
     },
     "execution_count": 29,
     "metadata": {},
     "output_type": "execute_result"
    },
    {
     "data": {
      "image/png": "[encoded data removed]",
      "text/plain": [
       "<Figure size 432x288 with 1 Axes>"
      ]
     },
     "metadata": {
      "needs_background": "light"
     },
     "output_type": "display_data"
    }
   ],
   "source": [
    "# считаем кумулятивную конверсию\n",
    "cumulativeData['conversion'] = cumulativeData['orders']/cumulativeData['visitors']\n",
    "\n",
    "# отделяем данные по группе A\n",
    "cumulativeDataA = cumulativeData[cumulativeData['group']=='A']\n",
    "\n",
    "# отделяем данные по группе B\n",
    "cumulativeDataB = cumulativeData[cumulativeData['group']=='B']\n",
    "\n",
    "# строим графики\n",
    "plt.plot(cumulativeDataA['date'], cumulativeDataA['conversion'], label='A')\n",
    "plt.plot(cumulativeDataB['date'], cumulativeDataB['conversion'], label='B')\n",
    "plt.legend()\n",
    "\n",
    "# задаем масштаб осей\n",
    "plt.axis([dt.datetime(2019,8,1), dt.datetime(2019,8,31), 0, 0.05])\n",
    "plt.title('Графики кумулятивной конверсии по дням по группам')\n",
    "plt.xticks(rotation = 45)\n",
    "plt.xlabel('дата')\n",
    "plt.ylabel('кумулятивная конверсия')"
   ]
  },
  {
   "cell_type": "markdown",
   "metadata": {},
   "source": [
    "В начале теста сегмент А имел большую конверсию, но постепенно сегмент В выровнился и зафиксировался возле одного значения больше значения сегмента А"
   ]
  },
  {
   "cell_type": "markdown",
   "metadata": {},
   "source": [
    "Объединим таблицы cumulativeDataA и cumulativeDataB методом merge().\n",
    "Построим график относительного различия кумулятивной конверсии группы B к группе A.\n",
    "\n",
    "Добавим пунктирную линию оси X чёрного цвета ('black') со значением оси Y = 0 методом plt.axhline() и линию оси X серого цвета ('grey') со значением оси Y = 0.1."
   ]
  },
  {
   "cell_type": "code",
   "execution_count": 30,
   "metadata": {},
   "outputs": [
    {
     "data": {
      "text/plain": [
       "Text(0, 0.5, 'прирост конверсии группы B относительно группы A ')"
      ]
     },
     "execution_count": 30,
     "metadata": {},
     "output_type": "execute_result"
    },
    {
     "data": {
      "image/png": "[encoded data removed]",
      "text/plain": [
       "<Figure size 432x288 with 1 Axes>"
      ]
     },
     "metadata": {
      "needs_background": "light"
     },
     "output_type": "display_data"
    }
   ],
   "source": [
    "mergedCumulativeConversions = cumulativeDataA[['date','conversion']].merge(\n",
    "    cumulativeDataB[['date','conversion']], left_on='date', right_on='date', how='left', suffixes=['A', 'B']\n",
    ")\n",
    "\n",
    "plt.plot(\n",
    "    mergedCumulativeConversions['date']\n",
    "    ,mergedCumulativeConversions['conversionB']/mergedCumulativeConversions['conversionA']-1\n",
    "    , label=\"Относительный прирост конверсии группы B относительно группы A\")\n",
    "plt.legend()\n",
    "\n",
    "plt.axhline(y=0, color='black', linestyle='--')\n",
    "plt.axhline(y= 0.1, color='grey', linestyle='--')\n",
    "plt.axis([\"2019-08-01\", '2019-08-31', -0.5, 0.5])\n",
    "plt.xticks(rotation = 45)\n",
    "plt.xlabel('дата')\n",
    "plt.ylabel('прирост конверсии группы B относительно группы A ')"
   ]
  },
  {
   "cell_type": "markdown",
   "metadata": {},
   "source": [
    "Практически сначала теста группа В лидирует по конверсии, шел рост и зафиксировалась около прироста в 10% относительно группы А"
   ]
  },
  {
   "cell_type": "markdown",
   "metadata": {},
   "source": [
    "Найдем число заказов по пользователям — создадим датафрейм ordersByUsers c двумя столбцами: 'user_id' и 'orders'"
   ]
  },
  {
   "cell_type": "code",
   "execution_count": 31,
   "metadata": {},
   "outputs": [
    {
     "data": {
      "text/html": [
       "<div>\n",
       "<style scoped>\n",
       "    .dataframe tbody tr th:only-of-type {\n",
       "        vertical-align: middle;\n",
       "    }\n",
       "\n",
       "    .dataframe tbody tr th {\n",
       "        vertical-align: top;\n",
       "    }\n",
       "\n",
       "    .dataframe thead th {\n",
       "        text-align: right;\n",
       "    }\n",
       "</style>\n",
       "<table border=\"1\" class=\"dataframe\">\n",
       "  <thead>\n",
       "    <tr style=\"text-align: right;\">\n",
       "      <th></th>\n",
       "      <th>user_id</th>\n",
       "      <th>orders</th>\n",
       "    </tr>\n",
       "  </thead>\n",
       "  <tbody>\n",
       "    <tr>\n",
       "      <th>1023</th>\n",
       "      <td>4256040402</td>\n",
       "      <td>11</td>\n",
       "    </tr>\n",
       "    <tr>\n",
       "      <th>591</th>\n",
       "      <td>2458001652</td>\n",
       "      <td>11</td>\n",
       "    </tr>\n",
       "    <tr>\n",
       "      <th>569</th>\n",
       "      <td>2378935119</td>\n",
       "      <td>9</td>\n",
       "    </tr>\n",
       "    <tr>\n",
       "      <th>487</th>\n",
       "      <td>2038680547</td>\n",
       "      <td>8</td>\n",
       "    </tr>\n",
       "    <tr>\n",
       "      <th>44</th>\n",
       "      <td>199603092</td>\n",
       "      <td>5</td>\n",
       "    </tr>\n",
       "  </tbody>\n",
       "</table>\n",
       "</div>"
      ],
      "text/plain": [
       "         user_id  orders\n",
       "1023  4256040402      11\n",
       "591   2458001652      11\n",
       "569   2378935119       9\n",
       "487   2038680547       8\n",
       "44     199603092       5"
      ]
     },
     "execution_count": 31,
     "metadata": {},
     "output_type": "execute_result"
    }
   ],
   "source": [
    "ordersByUsers = (\n",
    "    orders.groupby('visitor_id', as_index=False)\n",
    "    .agg({'transaction_id': 'nunique'})\n",
    ")\n",
    "\n",
    "ordersByUsers.columns = ['user_id', 'orders']\n",
    "ordersByUsers.sort_values(by='orders', ascending=False).head()"
   ]
  },
  {
   "cell_type": "markdown",
   "metadata": {},
   "source": [
    "Видим что есть пользователи, которые делали и 11 и 9 заказов."
   ]
  },
  {
   "cell_type": "markdown",
   "metadata": {},
   "source": [
    "Построим диаграмму методом scatter().В переменной x_values — сгенерированные номера наблюдений. Значения для вертикальной оси возьмите из столбца 'orders' датафрейма ordersByUsers."
   ]
  },
  {
   "cell_type": "code",
   "execution_count": 32,
   "metadata": {},
   "outputs": [
    {
     "data": {
      "text/plain": [
       "<matplotlib.collections.PathCollection at 0x7fd58d1a6d00>"
      ]
     },
     "execution_count": 32,
     "metadata": {},
     "output_type": "execute_result"
    },
    {
     "data": {
      "image/png": "[encoded data removed]",
      "text/plain": [
       "<Figure size 432x288 with 1 Axes>"
      ]
     },
     "metadata": {
      "needs_background": "light"
     },
     "output_type": "display_data"
    }
   ],
   "source": [
    "# серия из чисел от 0 до количества наблюдений в ordersByUsers\n",
    "x_values = pd.Series(range(0, len(ordersByUsers)))\n",
    "plt.scatter(x_values, ordersByUsers['orders']) "
   ]
  },
  {
   "cell_type": "markdown",
   "metadata": {},
   "source": [
    "Пользователей, сделавших более 2 заказов совсем мало"
   ]
  },
  {
   "cell_type": "markdown",
   "metadata": {},
   "source": [
    "Посчитаем 95-й и 99-й выборочные перцентили количества заказов по пользователям методом np.percentile()"
   ]
  },
  {
   "cell_type": "code",
   "execution_count": 33,
   "metadata": {},
   "outputs": [
    {
     "data": {
      "text/plain": [
       "array([2., 4.])"
      ]
     },
     "execution_count": 33,
     "metadata": {},
     "output_type": "execute_result"
    }
   ],
   "source": [
    "# Метод np.percentile находит перцентили.\n",
    "np.percentile(ordersByUsers['orders'], [95, 99])"
   ]
  },
  {
   "cell_type": "markdown",
   "metadata": {},
   "source": [
    "Не более 5% пользователей совершили больше 2 заказов и не более 1% - больше 4"
   ]
  },
  {
   "cell_type": "markdown",
   "metadata": {},
   "source": [
    "Построим диаграмму распределения выручек  с заказов по пользователям "
   ]
  },
  {
   "cell_type": "code",
   "execution_count": 34,
   "metadata": {},
   "outputs": [
    {
     "data": {
      "text/plain": [
       "<matplotlib.collections.PathCollection at 0x7fd58d21ed60>"
      ]
     },
     "execution_count": 34,
     "metadata": {},
     "output_type": "execute_result"
    },
    {
     "data": {
      "image/png": "[encoded data removed]",
      "text/plain": [
       "<Figure size 432x288 with 1 Axes>"
      ]
     },
     "metadata": {
      "needs_background": "light"
     },
     "output_type": "display_data"
    }
   ],
   "source": [
    "x_values = pd.Series(range(0, len(orders['revenue'])))\n",
    "plt.scatter(x_values, orders['revenue'])"
   ]
  },
  {
   "cell_type": "markdown",
   "metadata": {},
   "source": [
    "Большинство заказов находиться в пределе до 100тыс, но есть выброс в районе 200тыс. и 1млн.300тыс"
   ]
  },
  {
   "cell_type": "markdown",
   "metadata": {},
   "source": [
    "\n",
    "Посчитаем 95-й и 99-й выборочные перцентили выручки с заказов по пользователям методом np.percentile()"
   ]
  },
  {
   "cell_type": "code",
   "execution_count": 35,
   "metadata": {},
   "outputs": [
    {
     "data": {
      "text/plain": [
       "array([28000. , 58233.2])"
      ]
     },
     "execution_count": 35,
     "metadata": {},
     "output_type": "execute_result"
    }
   ],
   "source": [
    "np.percentile(orders['revenue'], [95, 99])"
   ]
  },
  {
   "cell_type": "markdown",
   "metadata": {},
   "source": [
    "Не более чем у 5% чек дороже 28000 рублей, и не больше чем у 1% - дороже 58233.2"
   ]
  },
  {
   "cell_type": "markdown",
   "metadata": {},
   "source": [
    "**Посчитаем статистическую значимость различия в конверсии между группами**"
   ]
  },
  {
   "cell_type": "markdown",
   "metadata": {},
   "source": [
    "Объявим переменные sampleA и sampleB, в которых пользователям с заказами будет соответствовать число заказов пользователя. А пользователям без заказов — нули.\n",
    "Посчитаем статистическую значимость различия конверсии по результатам  теста. Применим тест Манна-Уитни.\n",
    "Выведим p-value для сравнения конверсии между группами. Округлим p-value до 5 знаков после запятой.\n",
    "Вычислим и выведим относительное различие в конверсии между группами. Округлим до 3 знаков после запятой."
   ]
  },
  {
   "cell_type": "markdown",
   "metadata": {},
   "source": [
    "\n",
    "Нулевая гипотеза: различий в конверсии между группами нет.\n",
    "\n",
    "Альтернативная: различия в конверсии между группами есть. \n",
    "  \n"
   ]
  },
  {
   "cell_type": "code",
   "execution_count": 36,
   "metadata": {},
   "outputs": [],
   "source": [
    "visitorsADaily = visitors[visitors['group'] == 'A'][['date', 'visitors']]\n",
    "visitorsADaily.columns = ['date', 'visitorsPerDateA']\n",
    "\n",
    "visitorsACummulative = visitorsADaily.apply(\n",
    "    lambda x: visitorsADaily[visitorsADaily['date'] <= x['date']].agg(\n",
    "        {'date': 'max', 'visitorsPerDateA': 'sum'}\n",
    "    ),\n",
    "    axis=1,\n",
    ")\n",
    "visitorsACummulative.columns = ['date', 'visitorsCummulativeA']\n",
    "\n",
    "visitorsBDaily = visitors[visitors['group'] == 'B'][['date', 'visitors']]\n",
    "visitorsBDaily.columns = ['date', 'visitorsPerDateB']\n",
    "\n",
    "visitorsBCummulative = visitorsBDaily.apply(\n",
    "    lambda x: visitorsBDaily[visitorsBDaily['date'] <= x['date']].agg(\n",
    "        {'date': 'max', 'visitorsPerDateB': 'sum'}\n",
    "    ),\n",
    "    axis=1,\n",
    ")\n",
    "visitorsBCummulative.columns = ['date', 'visitorsCummulativeB']\n",
    "\n",
    "ordersADaily = (\n",
    "    orders[orders['group'] == 'A'][['date', 'transaction_id', 'visitor_id', 'revenue']]\n",
    "    .groupby('date', as_index=False)\n",
    "    .agg({'transaction_id': pd.Series.nunique, 'revenue': 'sum'})\n",
    ")\n",
    "ordersADaily.columns = ['date', 'ordersPerDateA', 'revenuePerDateA']\n",
    "\n",
    "ordersACummulative = ordersADaily.apply(\n",
    "    lambda x: ordersADaily[ordersADaily['date'] <= x['date']].agg(\n",
    "        {'date': 'max', 'ordersPerDateA': 'sum', 'revenuePerDateA': 'sum'}\n",
    "    ),\n",
    "    axis=1,\n",
    ").sort_values(by=['date'])\n",
    "ordersACummulative.columns = [\n",
    "    'date',\n",
    "    'ordersCummulativeA',\n",
    "    'revenueCummulativeA',\n",
    "]\n",
    "\n",
    "ordersBDaily = (\n",
    "    orders[orders['group'] == 'B'][['date', 'transaction_id', 'visitor_id', 'revenue']]\n",
    "    .groupby('date', as_index=False)\n",
    "    .agg({'transaction_id': pd.Series.nunique, 'revenue': 'sum'})\n",
    ")\n",
    "ordersBDaily.columns = ['date', 'ordersPerDateB', 'revenuePerDateB']\n",
    "\n",
    "ordersBCummulative = ordersBDaily.apply(\n",
    "    lambda x: ordersBDaily[ordersBDaily['date'] <= x['date']].agg(\n",
    "        {'date': 'max', 'ordersPerDateB': 'sum', 'revenuePerDateB': 'sum'}\n",
    "    ),\n",
    "    axis=1,\n",
    ").sort_values(by=['date'])\n",
    "ordersBCummulative.columns = [\n",
    "    'date',\n",
    "    'ordersCummulativeB',\n",
    "    'revenueCummulativeB',\n",
    "]\n",
    "\n",
    "data = (\n",
    "    ordersADaily.merge(\n",
    "        ordersBDaily, left_on='date', right_on='date', how='left'\n",
    "    )\n",
    "    .merge(ordersACummulative, left_on='date', right_on='date', how='left')\n",
    "    .merge(ordersBCummulative, left_on='date', right_on='date', how='left')\n",
    "    .merge(visitorsADaily, left_on='date', right_on='date', how='left')\n",
    "    .merge(visitorsBDaily, left_on='date', right_on='date', how='left')\n",
    "    .merge(visitorsACummulative, left_on='date', right_on='date', how='left')\n",
    "    .merge(visitorsBCummulative, left_on='date', right_on='date', how='left')\n",
    ")\n",
    "ordersByUsersA = (\n",
    "    orders[orders['group'] == 'A']\n",
    "    .groupby('visitor_id', as_index=False)\n",
    "    .agg({'transaction_id': pd.Series.nunique})\n",
    ")\n",
    "ordersByUsersA.columns = ['user_id', 'orders']\n",
    "\n",
    "ordersByUsersB = (\n",
    "    orders[orders['group'] == 'B']\n",
    "    .groupby('visitor_id', as_index=False)\n",
    "    .agg({'transaction_id': pd.Series.nunique})\n",
    ")\n",
    "ordersByUsersB.columns = ['user_id', 'orders']\n",
    "sampleA = pd.concat(\n",
    "    [\n",
    "        ordersByUsersA['orders'],\n",
    "        pd.Series(\n",
    "            0,\n",
    "            index=np.arange(\n",
    "                data['visitorsPerDateA'].sum() - len(ordersByUsersA['orders'])\n",
    "            ),\n",
    "            name='orders',\n",
    "        ),\n",
    "    ],\n",
    "    axis=0,\n",
    ")\n",
    "\n",
    "sampleB = pd.concat(\n",
    "    [\n",
    "        ordersByUsersB['orders'],\n",
    "        pd.Series(\n",
    "            0,\n",
    "            index=np.arange(\n",
    "                data['visitorsPerDateB'].sum() - len(ordersByUsersB['orders'])\n",
    "            ),\n",
    "            name='orders',\n",
    "        ),\n",
    "    ],\n",
    "    axis=0,\n",
    ")"
   ]
  },
  {
   "cell_type": "code",
   "execution_count": 37,
   "metadata": {},
   "outputs": [
    {
     "data": {
      "text/plain": [
       "'0.01679'"
      ]
     },
     "metadata": {},
     "output_type": "display_data"
    },
    {
     "data": {
      "text/plain": [
       "'0.138'"
      ]
     },
     "metadata": {},
     "output_type": "display_data"
    }
   ],
   "source": [
    "display(\"{0:.5f}\".format(stats.mannwhitneyu(sampleA, sampleB)[1]))\n",
    "\n",
    "display(\"{0:.3f}\".format(sampleB.mean() / sampleA.mean() - 1))"
   ]
  },
  {
   "cell_type": "markdown",
   "metadata": {},
   "source": [
    "P-value меньше 0.05, поэтому нулевую гипотезу отвергаем. Анализ сырых данных сообщает, что в конверсии между группами есть статичстически значимые различия. Относительный прирост конверсии группы В к конверсии группы А равен 13.8%"
   ]
  },
  {
   "cell_type": "markdown",
   "metadata": {},
   "source": [
    "Посчитаем статистическую значимость различия средних чеков между группами.\n",
    "Выведим p-value для сравнения средних чеков между группами. Округлим p-value до трёх знаков после запятой.\n",
    "Выведим относительный прирост среднего чека группы B, округлив до трёх знаков после запятой."
   ]
  },
  {
   "cell_type": "markdown",
   "metadata": {},
   "source": [
    "\n",
    "    \n",
    "Нулевая гипотеза: различий в среднем чеке между группами нет.\n",
    "\n",
    "Альтернативная гипотеза: различия в среднем чеке между группами есть.\n",
    "  \n"
   ]
  },
  {
   "cell_type": "code",
   "execution_count": 38,
   "metadata": {},
   "outputs": [
    {
     "name": "stdout",
     "output_type": "stream",
     "text": [
      "0.729\n",
      "0.259\n"
     ]
    }
   ],
   "source": [
    "print('{0:.3f}'.format(stats.mannwhitneyu(orders[orders['group']=='A']['revenue'], orders[orders['group']=='B']['revenue'])[1]))\n",
    "print('{0:.3f}'.format(orders[orders['group']=='B']['revenue'].mean()/orders[orders['group']=='A']['revenue'].mean()-1)) "
   ]
  },
  {
   "cell_type": "markdown",
   "metadata": {},
   "source": [
    "P-value больше 0.05 - статистически значимых отличий в среднем чеке между группами нет.  Относительное различие среднего чека между сегментами равен 25.9%"
   ]
  },
  {
   "cell_type": "markdown",
   "metadata": {},
   "source": [
    "Приступаем к подготовке очищенных от аномалий данных.\n",
    "Напомним, что 95-й и 99-й перцентили средних чеков равны 28000 и 58233.2 рублям. А 95-й и 99-й перцентили числа заказов на одного пользователя равны 2 и 4 заказам на пользователя.\n",
    "Примим за аномальных пользователей тех, кто совершил 3 заказа и более, или совершил заказ на сумму свыше 30 000 рублей. Так мы уберем 1% пользователей с наибольшим числом заказов и от 1% до 5% заказов с наибольшей стоимостью.\n",
    "Сначала определить аномальные заказы. Затем пользователей, совершивших их, и добавить их в список аномальных.\n",
    "Сделаем срезы пользователей с числом заказов больше 2 — usersWithManyOrders и пользователей, совершивших заказы дороже  30 000 — usersWithExpensiveOrders. Объединим их в таблице abnormalUsers, удалим дубликаты, отсортируем по возрастанию.\n",
    "Выведим первые 5 строк переменной abnormalUsers."
   ]
  },
  {
   "cell_type": "code",
   "execution_count": 39,
   "metadata": {},
   "outputs": [
    {
     "data": {
      "text/plain": [
       "1099    148427295\n",
       "18      199603092\n",
       "928     204675465\n",
       "23      237748145\n",
       "37      249864742\n",
       "dtype: int64"
      ]
     },
     "execution_count": 39,
     "metadata": {},
     "output_type": "execute_result"
    }
   ],
   "source": [
    "ordersByUsersB.columns = ['user_id', 'orders']\n",
    "usersWithManyOrders = pd.concat(\n",
    "    [\n",
    "        ordersByUsersA[ordersByUsersA['orders'] >= 3]['user_id'],\n",
    "        ordersByUsersB[ordersByUsersB['orders'] >= 3]['user_id'],\n",
    "    ],\n",
    "    axis=0,\n",
    ")\n",
    "usersWithExpensiveOrders = orders[orders['revenue'] > 30000]['visitor_id']\n",
    "abnormalUsers = (\n",
    "    pd.concat([usersWithManyOrders, usersWithExpensiveOrders], axis=0)\n",
    "    .drop_duplicates()\n",
    "    .sort_values()\n",
    ")\n",
    "abnormalUsers.head(5)\n"
   ]
  },
  {
   "cell_type": "markdown",
   "metadata": {},
   "source": [
    "Теперь у нас есть множество анамальных пользователей. После их удаления посчитаем статистическую значимость"
   ]
  },
  {
   "cell_type": "markdown",
   "metadata": {},
   "source": [
    "Посчитаем статистическую значимость различия конверсии после удаления аномальных пользователей.\n",
    "Создадим переменные sampleAFiltered и sampleBFiltered, в которых сохраним очищенные данные о заказах — не включая аномальных пользователей.\n",
    "Выведим p-value для сравнения конверсии между очищенными группами. Округлим p-value до пяти знаков после запятой. Выведим относительный прирост конверсии очищенной группы B, округлив до трёх знаков после запятой."
   ]
  },
  {
   "cell_type": "code",
   "execution_count": 40,
   "metadata": {},
   "outputs": [
    {
     "name": "stdout",
     "output_type": "stream",
     "text": [
      "0.01334\n",
      "0.172\n"
     ]
    }
   ],
   "source": [
    "sampleAFiltered = pd.concat(\n",
    "    [\n",
    "        ordersByUsersA[\n",
    "            np.logical_not(ordersByUsersA['user_id'].isin(abnormalUsers))\n",
    "        ]['orders'],\n",
    "        pd.Series(\n",
    "            0,\n",
    "            index=np.arange(\n",
    "                data['visitorsPerDateA'].sum() - len(ordersByUsersA['orders'])\n",
    "            ),\n",
    "            name='orders',\n",
    "        ),\n",
    "    ],\n",
    "    axis=0,\n",
    ")\n",
    "\n",
    "sampleBFiltered = pd.concat(\n",
    "    [\n",
    "        ordersByUsersB[\n",
    "            np.logical_not(ordersByUsersB['user_id'].isin(abnormalUsers))\n",
    "        ]['orders'],\n",
    "        pd.Series(\n",
    "            0,\n",
    "            index=np.arange(\n",
    "                data['visitorsPerDateB'].sum() - len(ordersByUsersB['orders'])\n",
    "            ),\n",
    "            name='orders',\n",
    "        ),\n",
    "    ],\n",
    "    axis=0,\n",
    ")\n",
    "print('{0:.5f}'.format(stats.mannwhitneyu(sampleAFiltered, sampleBFiltered)[1]))\n",
    "print('{0:.3f}'.format(sampleBFiltered.mean()/sampleAFiltered.mean()-1))"
   ]
  },
  {
   "cell_type": "markdown",
   "metadata": {},
   "source": [
    "P-value меньше 0.05, поэтому нулевую гипотезу отвергаем. Анализ очищенных данных сообщает, что в конверсии между группами есть статичстически значимые различия. Относительный прирост конверсии группы В к конверсии группы А равен 17.2%"
   ]
  },
  {
   "cell_type": "markdown",
   "metadata": {},
   "source": [
    "Как в случае и с сырыми данными статистическая значимость достигнута, сегмент В на порядок лучше сегмента А"
   ]
  },
  {
   "cell_type": "markdown",
   "metadata": {},
   "source": [
    "\n",
    "Посчитаем статистическую значимость различия средних чеков после удаления аномальных пользователей.\n",
    "Выведим p-value для сравнения средних чеков между очищенными группами. Округлим p-value до трёх знаков после запятой. Выведим относительный прирост среднего чека очищенной группы B, округлив до трёх знаков после запятой."
   ]
  },
  {
   "cell_type": "code",
   "execution_count": 41,
   "metadata": {},
   "outputs": [
    {
     "name": "stdout",
     "output_type": "stream",
     "text": [
      "0.720\n",
      "-0.023\n"
     ]
    }
   ],
   "source": [
    "print(\n",
    "    '{0:.3f}'.format(\n",
    "        stats.mannwhitneyu(\n",
    "            orders[\n",
    "                np.logical_and(\n",
    "                    orders['group'] == 'A',\n",
    "                    np.logical_not(orders['visitor_id'].isin(abnormalUsers)),\n",
    "                )\n",
    "            ]['revenue'],\n",
    "            orders[\n",
    "                np.logical_and(\n",
    "                    orders['group'] == 'B',\n",
    "                    np.logical_not(orders['visitor_id'].isin(abnormalUsers)),\n",
    "                )\n",
    "            ]['revenue'],\n",
    "        )[1]\n",
    "    )\n",
    ")\n",
    "\n",
    "print(\n",
    "    \"{0:.3f}\".format(\n",
    "        orders[\n",
    "            np.logical_and(\n",
    "                orders['group'] == 'B',\n",
    "                np.logical_not(orders['visitor_id'].isin(abnormalUsers)),\n",
    "            )\n",
    "        ]['revenue'].mean()\n",
    "        / orders[\n",
    "            np.logical_and(\n",
    "                orders['group'] == 'A',\n",
    "                np.logical_not(orders['visitor_id'].isin(abnormalUsers)),\n",
    "            )\n",
    "        ]['revenue'].mean()\n",
    "        - 1\n",
    "    )\n",
    ")"
   ]
  },
  {
   "cell_type": "markdown",
   "metadata": {},
   "source": [
    "P-value больше 0.05 - статистически значимых отличий в среднем чеке между группами нет.  Относительное различие среднего чека между сегментами равен 2.3% в пользу группы А. После удаления выбросов в данных меньше шума, дисперсия снизилась и различие по выручке стало отрицательным."
   ]
  },
  {
   "cell_type": "markdown",
   "metadata": {},
   "source": [
    "Анализ сырых данных сообщает, что в конверсии между группами есть статистически значимые различия. Относительный прирост конверсии группы В к конверсии группы А равен 13.8%\n",
    " Анализ очищенных данных сообщает, что в конверсии между группами есть статистически значимые различия. Относительный прирост конверсии группы В к конверсии группы А равен 17.2%\n",
    "По конверсии сегмент В на порядок лучше сегмента А.\n",
    "\n",
    "Анализ сырых данных сообщает , что статистически значимых отличий в среднем чеке между группами нет.  Относительное различие среднего чека между сегментами равен 25.9%\n",
    "Анализ очищенных данных сообщает, что статистически значимых отличий в среднем чеке между группами нет.  Относительное различие среднего чека между сегментами равен 2.3% в пользу группы А.\n",
    "После удаления выбросов в данных меньше шума, дисперсия снизилась и различие по выручке стало отрицательным."
   ]
  },
  {
   "cell_type": "markdown",
   "metadata": {},
   "source": [
    "## Выводы"
   ]
  },
  {
   "cell_type": "markdown",
   "metadata": {},
   "source": [
    "Итак, для приоритизации гипотез и анализа результатов  А/В теста представлены данные трех таблиц:\n",
    "- таблица c гипотезами по увеличению выручки интернет-магазина\n",
    "- таблицы с результатами A/B теста orders и visitors\n",
    "Данные были подготовлены к анализу, тип данных в столбце date переведены в тип datetime, а название столбцов в змеиному регистру.\n",
    "В результате расчета ICE и RICE в лидеры выбились две самые перспективные гипотезы по влиянию, уверенности, простоте и охвату\n",
    "- Добавить форму подписки на все основные страницы, чтобы собрать базу клиентов для email-рассылок\n",
    "- Добавить два новых канала привлечения трафика, что позволит привлекать на 30% больше пользователей\n",
    "\n",
    "По результатам А/В теста было предположение, что в середине теста были аномально большие заказы, это подтверждалось и  выручкой группы В и кумулятивным значение среднего чека по сегментам. Группа В так же имела большую конверсию сегмента А. Значение зафиксировалось около прироста в 10% относительно группы А.  Рассчитав 95-й и 99-й выборочные перцентили выяснили, что не более 5% пользователей совершили больше 2 заказов и не более 1% - больше 4  и не более чем у 5% чек дороже 28000 рублей, и не больше чем у 1% - дороже 58233.2\n",
    "Провели анализ сырых и очищенных  данных и выяснили, что в конверсии между группами есть статистически значимые различия в обоих случаях. Относительный прирост конверсии группы В к конверсии группы А в сырых данных равен 13.8% , а в очищенных данных равен 17.2% По конверсии сегмент В на порядок лучше сегмента А. \n",
    "Анализ сырых и очищенных  данных  так же показал, статистически значимых отличий в среднем чеке между группами нет. У сырых данных этот показатель  25.9%  у очищенных данных равен 2.3% в пользу группы А. \n",
    "\n",
    "Можно остановить тест и сделать вывод, что конверсия у группы В стала выше, однако увеличение выручки нет, так как средний чек не увеличился.\n",
    "\n"
   ]
  }
 ],
 "metadata": {
  "ExecuteTimeLog": [
   {
    "duration": 4,
    "start_time": "2022-04-30T03:06:33.004Z"
   },
   {
    "duration": 424,
    "start_time": "2022-04-30T03:26:18.715Z"
   },
   {
    "duration": 21,
    "start_time": "2022-04-30T03:26:27.277Z"
   },
   {
    "duration": 15,
    "start_time": "2022-04-30T03:28:18.212Z"
   },
   {
    "duration": 148,
    "start_time": "2022-04-30T03:34:10.001Z"
   },
   {
    "duration": 2241,
    "start_time": "2022-04-30T03:34:21.430Z"
   },
   {
    "duration": 11,
    "start_time": "2022-04-30T03:37:36.415Z"
   },
   {
    "duration": 18,
    "start_time": "2022-04-30T03:38:06.007Z"
   },
   {
    "duration": 4,
    "start_time": "2022-04-30T03:43:17.750Z"
   },
   {
    "duration": 3,
    "start_time": "2022-04-30T03:43:54.841Z"
   },
   {
    "duration": 8,
    "start_time": "2022-04-30T03:43:58.188Z"
   },
   {
    "duration": 7,
    "start_time": "2022-04-30T03:45:50.582Z"
   },
   {
    "duration": 6,
    "start_time": "2022-04-30T03:45:54.912Z"
   },
   {
    "duration": 7,
    "start_time": "2022-04-30T03:46:29.139Z"
   },
   {
    "duration": 19,
    "start_time": "2022-04-30T03:46:45.813Z"
   },
   {
    "duration": 11,
    "start_time": "2022-04-30T03:46:49.371Z"
   },
   {
    "duration": 3,
    "start_time": "2022-04-30T03:46:51.683Z"
   },
   {
    "duration": 12,
    "start_time": "2022-04-30T03:46:57.219Z"
   },
   {
    "duration": 10,
    "start_time": "2022-04-30T03:47:47.150Z"
   },
   {
    "duration": 11,
    "start_time": "2022-04-30T03:47:53.800Z"
   },
   {
    "duration": 10,
    "start_time": "2022-04-30T03:48:12.868Z"
   },
   {
    "duration": 10,
    "start_time": "2022-04-30T03:50:29.918Z"
   },
   {
    "duration": 10,
    "start_time": "2022-04-30T03:51:37.183Z"
   },
   {
    "duration": 9,
    "start_time": "2022-04-30T03:54:58.835Z"
   },
   {
    "duration": 10,
    "start_time": "2022-04-30T03:55:21.168Z"
   },
   {
    "duration": 13,
    "start_time": "2022-04-30T03:58:29.457Z"
   },
   {
    "duration": 10,
    "start_time": "2022-04-30T03:58:47.937Z"
   },
   {
    "duration": 12,
    "start_time": "2022-04-30T03:59:20.563Z"
   },
   {
    "duration": 407,
    "start_time": "2022-04-30T03:59:36.269Z"
   },
   {
    "duration": 10,
    "start_time": "2022-04-30T03:59:36.678Z"
   },
   {
    "duration": 6,
    "start_time": "2022-04-30T03:59:36.690Z"
   },
   {
    "duration": 14,
    "start_time": "2022-04-30T03:59:36.698Z"
   },
   {
    "duration": 12,
    "start_time": "2022-04-30T03:59:36.713Z"
   },
   {
    "duration": 5,
    "start_time": "2022-04-30T04:08:06.936Z"
   },
   {
    "duration": 5,
    "start_time": "2022-04-30T04:08:34.699Z"
   },
   {
    "duration": 3,
    "start_time": "2022-04-30T04:08:58.203Z"
   },
   {
    "duration": 4,
    "start_time": "2022-04-30T04:13:41.517Z"
   },
   {
    "duration": 4,
    "start_time": "2022-04-30T04:13:58.840Z"
   },
   {
    "duration": 407,
    "start_time": "2022-04-30T05:04:54.124Z"
   },
   {
    "duration": 3,
    "start_time": "2022-04-30T05:05:02.303Z"
   },
   {
    "duration": 22,
    "start_time": "2022-04-30T05:08:26.352Z"
   },
   {
    "duration": 28,
    "start_time": "2022-04-30T05:08:50.669Z"
   },
   {
    "duration": 15,
    "start_time": "2022-04-30T05:09:49.215Z"
   },
   {
    "duration": 722,
    "start_time": "2022-04-30T05:10:56.098Z"
   },
   {
    "duration": 24,
    "start_time": "2022-04-30T05:11:20.704Z"
   },
   {
    "duration": 4,
    "start_time": "2022-04-30T05:18:27.353Z"
   },
   {
    "duration": 33,
    "start_time": "2022-04-30T05:18:28.985Z"
   },
   {
    "duration": 13,
    "start_time": "2022-04-30T05:18:29.849Z"
   },
   {
    "duration": 635,
    "start_time": "2022-04-30T05:18:40.696Z"
   },
   {
    "duration": 606,
    "start_time": "2022-04-30T05:19:06.948Z"
   },
   {
    "duration": 6,
    "start_time": "2022-04-30T05:26:27.012Z"
   },
   {
    "duration": 11,
    "start_time": "2022-04-30T05:26:36.209Z"
   },
   {
    "duration": 128,
    "start_time": "2022-04-30T05:32:57.095Z"
   },
   {
    "duration": 8,
    "start_time": "2022-04-30T05:33:10.068Z"
   },
   {
    "duration": 3,
    "start_time": "2022-04-30T05:33:24.781Z"
   },
   {
    "duration": 10,
    "start_time": "2022-04-30T05:33:27.491Z"
   },
   {
    "duration": 156,
    "start_time": "2022-04-30T05:39:14.932Z"
   },
   {
    "duration": 6,
    "start_time": "2022-04-30T05:39:21.765Z"
   },
   {
    "duration": 4,
    "start_time": "2022-04-30T05:40:42.023Z"
   },
   {
    "duration": 10,
    "start_time": "2022-04-30T05:40:43.286Z"
   },
   {
    "duration": 473,
    "start_time": "2022-04-30T05:40:50.891Z"
   },
   {
    "duration": 11,
    "start_time": "2022-04-30T05:40:51.366Z"
   },
   {
    "duration": 10,
    "start_time": "2022-04-30T05:40:51.378Z"
   },
   {
    "duration": 12,
    "start_time": "2022-04-30T05:40:51.390Z"
   },
   {
    "duration": 11,
    "start_time": "2022-04-30T05:40:51.404Z"
   },
   {
    "duration": 5,
    "start_time": "2022-04-30T05:40:51.417Z"
   },
   {
    "duration": 32,
    "start_time": "2022-04-30T05:40:51.424Z"
   },
   {
    "duration": 335,
    "start_time": "2022-04-30T05:40:51.458Z"
   },
   {
    "duration": 27,
    "start_time": "2022-04-30T05:40:51.795Z"
   },
   {
    "duration": 12,
    "start_time": "2022-04-30T05:40:51.825Z"
   },
   {
    "duration": 7,
    "start_time": "2022-04-30T05:40:51.839Z"
   },
   {
    "duration": 7,
    "start_time": "2022-04-30T05:40:51.847Z"
   },
   {
    "duration": 14,
    "start_time": "2022-04-30T05:40:51.856Z"
   },
   {
    "duration": 23,
    "start_time": "2022-04-30T05:43:43.273Z"
   },
   {
    "duration": 13,
    "start_time": "2022-04-30T05:45:42.304Z"
   },
   {
    "duration": 12,
    "start_time": "2022-04-30T05:46:12.399Z"
   },
   {
    "duration": 12,
    "start_time": "2022-04-30T05:48:50.827Z"
   },
   {
    "duration": 4,
    "start_time": "2022-04-30T05:49:17.477Z"
   },
   {
    "duration": 442,
    "start_time": "2022-04-30T05:49:55.521Z"
   },
   {
    "duration": 10,
    "start_time": "2022-04-30T05:49:55.964Z"
   },
   {
    "duration": 6,
    "start_time": "2022-04-30T05:49:55.976Z"
   },
   {
    "duration": 13,
    "start_time": "2022-04-30T05:49:55.983Z"
   },
   {
    "duration": 10,
    "start_time": "2022-04-30T05:49:55.998Z"
   },
   {
    "duration": 7,
    "start_time": "2022-04-30T05:49:56.010Z"
   },
   {
    "duration": 14,
    "start_time": "2022-04-30T05:49:56.018Z"
   },
   {
    "duration": 296,
    "start_time": "2022-04-30T05:49:56.033Z"
   },
   {
    "duration": 25,
    "start_time": "2022-04-30T05:49:56.330Z"
   },
   {
    "duration": 9,
    "start_time": "2022-04-30T05:49:56.357Z"
   },
   {
    "duration": 6,
    "start_time": "2022-04-30T05:49:56.368Z"
   },
   {
    "duration": 5,
    "start_time": "2022-04-30T05:49:56.376Z"
   },
   {
    "duration": 15,
    "start_time": "2022-04-30T05:49:56.382Z"
   },
   {
    "duration": 18,
    "start_time": "2022-04-30T05:49:56.399Z"
   },
   {
    "duration": 9,
    "start_time": "2022-04-30T05:49:56.419Z"
   },
   {
    "duration": 26,
    "start_time": "2022-04-30T05:49:56.429Z"
   },
   {
    "duration": 14,
    "start_time": "2022-04-30T05:50:32.832Z"
   },
   {
    "duration": 443,
    "start_time": "2022-04-30T05:50:50.215Z"
   },
   {
    "duration": 11,
    "start_time": "2022-04-30T05:50:50.660Z"
   },
   {
    "duration": 17,
    "start_time": "2022-04-30T05:50:50.672Z"
   },
   {
    "duration": 15,
    "start_time": "2022-04-30T05:50:50.691Z"
   },
   {
    "duration": 10,
    "start_time": "2022-04-30T05:50:50.708Z"
   },
   {
    "duration": 6,
    "start_time": "2022-04-30T05:50:50.720Z"
   },
   {
    "duration": 6,
    "start_time": "2022-04-30T05:50:50.728Z"
   },
   {
    "duration": 283,
    "start_time": "2022-04-30T05:50:50.736Z"
   },
   {
    "duration": 25,
    "start_time": "2022-04-30T05:50:51.021Z"
   },
   {
    "duration": 11,
    "start_time": "2022-04-30T05:50:51.048Z"
   },
   {
    "duration": 15,
    "start_time": "2022-04-30T05:50:51.061Z"
   },
   {
    "duration": 9,
    "start_time": "2022-04-30T05:50:51.078Z"
   },
   {
    "duration": 18,
    "start_time": "2022-04-30T05:50:51.089Z"
   },
   {
    "duration": 22,
    "start_time": "2022-04-30T05:50:51.109Z"
   },
   {
    "duration": 9,
    "start_time": "2022-04-30T05:50:51.133Z"
   },
   {
    "duration": 10,
    "start_time": "2022-04-30T05:50:51.144Z"
   },
   {
    "duration": 9,
    "start_time": "2022-04-30T05:51:35.315Z"
   },
   {
    "duration": 3,
    "start_time": "2022-04-30T05:52:00.123Z"
   },
   {
    "duration": 613,
    "start_time": "2022-04-30T05:53:17.576Z"
   },
   {
    "duration": 5,
    "start_time": "2022-04-30T05:54:30.539Z"
   },
   {
    "duration": 150,
    "start_time": "2022-04-30T05:58:12.588Z"
   },
   {
    "duration": 112,
    "start_time": "2022-04-30T05:59:46.832Z"
   },
   {
    "duration": 8,
    "start_time": "2022-04-30T06:01:13.622Z"
   },
   {
    "duration": 30,
    "start_time": "2022-04-30T06:04:37.537Z"
   },
   {
    "duration": 10,
    "start_time": "2022-04-30T06:04:37.569Z"
   },
   {
    "duration": 10,
    "start_time": "2022-04-30T06:04:37.580Z"
   },
   {
    "duration": 17,
    "start_time": "2022-04-30T06:04:37.592Z"
   },
   {
    "duration": 16,
    "start_time": "2022-04-30T06:04:37.611Z"
   },
   {
    "duration": 7,
    "start_time": "2022-04-30T06:04:37.628Z"
   },
   {
    "duration": 6,
    "start_time": "2022-04-30T06:04:37.639Z"
   },
   {
    "duration": 7,
    "start_time": "2022-04-30T06:04:37.646Z"
   },
   {
    "duration": 34,
    "start_time": "2022-04-30T06:04:37.655Z"
   },
   {
    "duration": 10,
    "start_time": "2022-04-30T06:04:37.691Z"
   },
   {
    "duration": 5,
    "start_time": "2022-04-30T06:04:37.703Z"
   },
   {
    "duration": 4,
    "start_time": "2022-04-30T06:04:37.710Z"
   },
   {
    "duration": 12,
    "start_time": "2022-04-30T06:04:37.716Z"
   },
   {
    "duration": 11,
    "start_time": "2022-04-30T06:04:37.730Z"
   },
   {
    "duration": 17,
    "start_time": "2022-04-30T06:04:37.742Z"
   },
   {
    "duration": 6,
    "start_time": "2022-04-30T06:04:37.761Z"
   },
   {
    "duration": 25,
    "start_time": "2022-04-30T06:04:37.768Z"
   },
   {
    "duration": 144,
    "start_time": "2022-04-30T06:04:37.795Z"
   },
   {
    "duration": 116,
    "start_time": "2022-04-30T06:04:37.941Z"
   },
   {
    "duration": 5,
    "start_time": "2022-04-30T06:04:38.059Z"
   },
   {
    "duration": 6,
    "start_time": "2022-04-30T06:04:38.066Z"
   },
   {
    "duration": 15,
    "start_time": "2022-04-30T06:05:09.833Z"
   },
   {
    "duration": 437,
    "start_time": "2022-04-30T06:13:04.338Z"
   },
   {
    "duration": 11,
    "start_time": "2022-04-30T06:13:04.777Z"
   },
   {
    "duration": 7,
    "start_time": "2022-04-30T06:13:04.789Z"
   },
   {
    "duration": 13,
    "start_time": "2022-04-30T06:13:04.798Z"
   },
   {
    "duration": 11,
    "start_time": "2022-04-30T06:13:04.812Z"
   },
   {
    "duration": 5,
    "start_time": "2022-04-30T06:13:04.825Z"
   },
   {
    "duration": 23,
    "start_time": "2022-04-30T06:13:04.832Z"
   },
   {
    "duration": 278,
    "start_time": "2022-04-30T06:13:04.857Z"
   },
   {
    "duration": 24,
    "start_time": "2022-04-30T06:13:05.136Z"
   },
   {
    "duration": 9,
    "start_time": "2022-04-30T06:13:05.163Z"
   },
   {
    "duration": 8,
    "start_time": "2022-04-30T06:13:05.173Z"
   },
   {
    "duration": 18,
    "start_time": "2022-04-30T06:13:05.183Z"
   },
   {
    "duration": 20,
    "start_time": "2022-04-30T06:13:05.203Z"
   },
   {
    "duration": 21,
    "start_time": "2022-04-30T06:13:05.225Z"
   },
   {
    "duration": 10,
    "start_time": "2022-04-30T06:13:05.247Z"
   },
   {
    "duration": 13,
    "start_time": "2022-04-30T06:13:05.259Z"
   },
   {
    "duration": 14,
    "start_time": "2022-04-30T06:13:05.274Z"
   },
   {
    "duration": 229,
    "start_time": "2022-04-30T06:13:05.290Z"
   },
   {
    "duration": 166,
    "start_time": "2022-04-30T06:13:05.521Z"
   },
   {
    "duration": 8,
    "start_time": "2022-04-30T06:13:05.689Z"
   },
   {
    "duration": 7,
    "start_time": "2022-04-30T06:13:05.698Z"
   },
   {
    "duration": 17,
    "start_time": "2022-04-30T06:13:05.707Z"
   },
   {
    "duration": 219,
    "start_time": "2022-04-30T06:16:02.783Z"
   },
   {
    "duration": 6,
    "start_time": "2022-04-30T06:17:36.328Z"
   },
   {
    "duration": 6,
    "start_time": "2022-04-30T06:17:51.839Z"
   },
   {
    "duration": 3,
    "start_time": "2022-04-30T06:18:11.760Z"
   },
   {
    "duration": 8,
    "start_time": "2022-04-30T06:18:25.948Z"
   },
   {
    "duration": 9,
    "start_time": "2022-04-30T06:19:14.131Z"
   },
   {
    "duration": 158,
    "start_time": "2022-04-30T06:25:30.982Z"
   },
   {
    "duration": 275,
    "start_time": "2022-04-30T07:00:30.568Z"
   },
   {
    "duration": 154,
    "start_time": "2022-04-30T07:05:43.283Z"
   },
   {
    "duration": 301,
    "start_time": "2022-04-30T07:08:04.430Z"
   },
   {
    "duration": 209,
    "start_time": "2022-04-30T07:10:14.319Z"
   },
   {
    "duration": 146,
    "start_time": "2022-04-30T07:10:32.252Z"
   },
   {
    "duration": 7,
    "start_time": "2022-04-30T07:13:38.959Z"
   },
   {
    "duration": 6,
    "start_time": "2022-04-30T07:13:58.961Z"
   },
   {
    "duration": 160,
    "start_time": "2022-04-30T07:14:54.393Z"
   },
   {
    "duration": 159,
    "start_time": "2022-04-30T07:15:01.020Z"
   },
   {
    "duration": 224,
    "start_time": "2022-04-30T07:19:07.696Z"
   },
   {
    "duration": 72,
    "start_time": "2022-04-30T07:26:06.322Z"
   },
   {
    "duration": 7,
    "start_time": "2022-04-30T07:27:09.586Z"
   },
   {
    "duration": 11,
    "start_time": "2022-04-30T07:27:22.366Z"
   },
   {
    "duration": 11,
    "start_time": "2022-04-30T07:28:07.091Z"
   },
   {
    "duration": 11,
    "start_time": "2022-04-30T07:28:26.201Z"
   },
   {
    "duration": 101,
    "start_time": "2022-04-30T07:29:02.513Z"
   },
   {
    "duration": 140,
    "start_time": "2022-04-30T07:29:54.222Z"
   },
   {
    "duration": 110,
    "start_time": "2022-04-30T07:31:13.848Z"
   },
   {
    "duration": 5,
    "start_time": "2022-04-30T07:33:23.032Z"
   },
   {
    "duration": 2124,
    "start_time": "2022-04-30T07:35:56.125Z"
   },
   {
    "duration": 2240,
    "start_time": "2022-04-30T07:36:41.399Z"
   },
   {
    "duration": 111,
    "start_time": "2022-04-30T07:37:01.418Z"
   },
   {
    "duration": 6,
    "start_time": "2022-04-30T07:40:57.367Z"
   },
   {
    "duration": 149,
    "start_time": "2022-04-30T07:42:10.874Z"
   },
   {
    "duration": 260,
    "start_time": "2022-04-30T07:45:00.425Z"
   },
   {
    "duration": 219,
    "start_time": "2022-04-30T07:46:34.244Z"
   },
   {
    "duration": 168,
    "start_time": "2022-04-30T07:48:10.619Z"
   },
   {
    "duration": 524,
    "start_time": "2022-04-30T07:53:43.805Z"
   },
   {
    "duration": 12,
    "start_time": "2022-04-30T07:53:44.332Z"
   },
   {
    "duration": 16,
    "start_time": "2022-04-30T07:53:44.346Z"
   },
   {
    "duration": 30,
    "start_time": "2022-04-30T07:53:44.364Z"
   },
   {
    "duration": 14,
    "start_time": "2022-04-30T07:53:44.396Z"
   },
   {
    "duration": 31,
    "start_time": "2022-04-30T07:53:44.412Z"
   },
   {
    "duration": 28,
    "start_time": "2022-04-30T07:53:44.445Z"
   },
   {
    "duration": 308,
    "start_time": "2022-04-30T07:53:44.475Z"
   },
   {
    "duration": 26,
    "start_time": "2022-04-30T07:53:44.785Z"
   },
   {
    "duration": 11,
    "start_time": "2022-04-30T07:53:44.814Z"
   },
   {
    "duration": 16,
    "start_time": "2022-04-30T07:53:44.827Z"
   },
   {
    "duration": 10,
    "start_time": "2022-04-30T07:53:44.845Z"
   },
   {
    "duration": 22,
    "start_time": "2022-04-30T07:53:44.856Z"
   },
   {
    "duration": 34,
    "start_time": "2022-04-30T07:53:44.879Z"
   },
   {
    "duration": 14,
    "start_time": "2022-04-30T07:53:44.914Z"
   },
   {
    "duration": 28,
    "start_time": "2022-04-30T07:53:44.930Z"
   },
   {
    "duration": 19,
    "start_time": "2022-04-30T07:53:44.960Z"
   },
   {
    "duration": 210,
    "start_time": "2022-04-30T07:53:44.980Z"
   },
   {
    "duration": 127,
    "start_time": "2022-04-30T07:53:45.192Z"
   },
   {
    "duration": 7,
    "start_time": "2022-04-30T07:53:45.321Z"
   },
   {
    "duration": 19,
    "start_time": "2022-04-30T07:53:45.329Z"
   },
   {
    "duration": 31,
    "start_time": "2022-04-30T07:53:45.350Z"
   },
   {
    "duration": 266,
    "start_time": "2022-04-30T07:53:45.383Z"
   },
   {
    "duration": 195,
    "start_time": "2022-04-30T07:53:45.654Z"
   },
   {
    "duration": 305,
    "start_time": "2022-04-30T07:53:45.855Z"
   },
   {
    "duration": 7,
    "start_time": "2022-04-30T07:53:46.161Z"
   },
   {
    "duration": 240,
    "start_time": "2022-04-30T07:53:46.170Z"
   },
   {
    "duration": 307,
    "start_time": "2022-04-30T07:53:46.415Z"
   },
   {
    "duration": 13,
    "start_time": "2022-04-30T07:53:46.724Z"
   },
   {
    "duration": 129,
    "start_time": "2022-04-30T07:53:46.739Z"
   },
   {
    "duration": 4,
    "start_time": "2022-04-30T07:53:46.870Z"
   },
   {
    "duration": 142,
    "start_time": "2022-04-30T07:53:46.876Z"
   },
   {
    "duration": 6,
    "start_time": "2022-04-30T07:53:47.020Z"
   },
   {
    "duration": 273,
    "start_time": "2022-04-30T07:57:27.202Z"
   },
   {
    "duration": 154,
    "start_time": "2022-04-30T07:59:43.599Z"
   },
   {
    "duration": 253,
    "start_time": "2022-04-30T08:01:20.602Z"
   },
   {
    "duration": 146,
    "start_time": "2022-04-30T08:01:42.999Z"
   },
   {
    "duration": 297,
    "start_time": "2022-04-30T08:02:33.735Z"
   },
   {
    "duration": 302,
    "start_time": "2022-04-30T08:02:51.532Z"
   },
   {
    "duration": 96,
    "start_time": "2022-04-30T08:16:09.225Z"
   },
   {
    "duration": 5,
    "start_time": "2022-04-30T08:18:18.613Z"
   },
   {
    "duration": 121,
    "start_time": "2022-04-30T08:18:35.610Z"
   },
   {
    "duration": 261,
    "start_time": "2022-04-30T08:21:01.922Z"
   },
   {
    "duration": 5,
    "start_time": "2022-04-30T08:24:26.274Z"
   },
   {
    "duration": 575,
    "start_time": "2022-04-30T08:29:54.510Z"
   },
   {
    "duration": 15,
    "start_time": "2022-04-30T08:29:55.087Z"
   },
   {
    "duration": 17,
    "start_time": "2022-04-30T08:29:55.104Z"
   },
   {
    "duration": 26,
    "start_time": "2022-04-30T08:29:55.123Z"
   },
   {
    "duration": 30,
    "start_time": "2022-04-30T08:29:55.151Z"
   },
   {
    "duration": 35,
    "start_time": "2022-04-30T08:29:55.183Z"
   },
   {
    "duration": 27,
    "start_time": "2022-04-30T08:29:55.219Z"
   },
   {
    "duration": 403,
    "start_time": "2022-04-30T08:29:55.248Z"
   },
   {
    "duration": 31,
    "start_time": "2022-04-30T08:29:55.653Z"
   },
   {
    "duration": 13,
    "start_time": "2022-04-30T08:29:55.687Z"
   },
   {
    "duration": 16,
    "start_time": "2022-04-30T08:29:55.702Z"
   },
   {
    "duration": 23,
    "start_time": "2022-04-30T08:29:55.720Z"
   },
   {
    "duration": 18,
    "start_time": "2022-04-30T08:29:55.746Z"
   },
   {
    "duration": 39,
    "start_time": "2022-04-30T08:29:55.766Z"
   },
   {
    "duration": 27,
    "start_time": "2022-04-30T08:29:55.807Z"
   },
   {
    "duration": 25,
    "start_time": "2022-04-30T08:29:55.836Z"
   },
   {
    "duration": 29,
    "start_time": "2022-04-30T08:29:55.863Z"
   },
   {
    "duration": 183,
    "start_time": "2022-04-30T08:29:55.894Z"
   },
   {
    "duration": 137,
    "start_time": "2022-04-30T08:29:56.079Z"
   },
   {
    "duration": 7,
    "start_time": "2022-04-30T08:29:56.217Z"
   },
   {
    "duration": 28,
    "start_time": "2022-04-30T08:29:56.226Z"
   },
   {
    "duration": 26,
    "start_time": "2022-04-30T08:29:56.256Z"
   },
   {
    "duration": 282,
    "start_time": "2022-04-30T08:29:56.284Z"
   },
   {
    "duration": 193,
    "start_time": "2022-04-30T08:29:56.568Z"
   },
   {
    "duration": 306,
    "start_time": "2022-04-30T08:29:56.763Z"
   },
   {
    "duration": 7,
    "start_time": "2022-04-30T08:29:57.071Z"
   },
   {
    "duration": 328,
    "start_time": "2022-04-30T08:29:57.080Z"
   },
   {
    "duration": 376,
    "start_time": "2022-04-30T08:29:57.412Z"
   },
   {
    "duration": 17,
    "start_time": "2022-04-30T08:29:57.790Z"
   },
   {
    "duration": 121,
    "start_time": "2022-04-30T08:29:57.809Z"
   },
   {
    "duration": 5,
    "start_time": "2022-04-30T08:29:57.932Z"
   },
   {
    "duration": 129,
    "start_time": "2022-04-30T08:29:57.954Z"
   },
   {
    "duration": 6,
    "start_time": "2022-04-30T08:29:58.085Z"
   },
   {
    "duration": 69,
    "start_time": "2022-04-30T08:35:45.063Z"
   },
   {
    "duration": 2680,
    "start_time": "2022-04-30T08:39:22.707Z"
   },
   {
    "duration": 2354,
    "start_time": "2022-04-30T08:39:58.447Z"
   },
   {
    "duration": 116,
    "start_time": "2022-04-30T08:43:32.234Z"
   },
   {
    "duration": 213,
    "start_time": "2022-04-30T08:46:00.482Z"
   },
   {
    "duration": 154,
    "start_time": "2022-04-30T08:50:05.946Z"
   },
   {
    "duration": 372,
    "start_time": "2022-04-30T08:51:40.470Z"
   },
   {
    "duration": 9,
    "start_time": "2022-04-30T08:52:18.703Z"
   },
   {
    "duration": 453,
    "start_time": "2022-04-30T08:52:33.131Z"
   },
   {
    "duration": 10,
    "start_time": "2022-04-30T08:52:33.587Z"
   },
   {
    "duration": 8,
    "start_time": "2022-04-30T08:52:33.599Z"
   },
   {
    "duration": 21,
    "start_time": "2022-04-30T08:52:33.609Z"
   },
   {
    "duration": 27,
    "start_time": "2022-04-30T08:52:33.633Z"
   },
   {
    "duration": 6,
    "start_time": "2022-04-30T08:52:33.662Z"
   },
   {
    "duration": 20,
    "start_time": "2022-04-30T08:52:33.669Z"
   },
   {
    "duration": 272,
    "start_time": "2022-04-30T08:52:33.690Z"
   },
   {
    "duration": 27,
    "start_time": "2022-04-30T08:52:33.964Z"
   },
   {
    "duration": 30,
    "start_time": "2022-04-30T08:52:33.994Z"
   },
   {
    "duration": 31,
    "start_time": "2022-04-30T08:52:34.025Z"
   },
   {
    "duration": 24,
    "start_time": "2022-04-30T08:52:34.057Z"
   },
   {
    "duration": 18,
    "start_time": "2022-04-30T08:52:34.082Z"
   },
   {
    "duration": 54,
    "start_time": "2022-04-30T08:52:34.102Z"
   },
   {
    "duration": 40,
    "start_time": "2022-04-30T08:52:34.158Z"
   },
   {
    "duration": 10,
    "start_time": "2022-04-30T08:52:34.200Z"
   },
   {
    "duration": 74,
    "start_time": "2022-04-30T08:52:34.212Z"
   },
   {
    "duration": 271,
    "start_time": "2022-04-30T08:52:34.289Z"
   },
   {
    "duration": 120,
    "start_time": "2022-04-30T08:52:34.561Z"
   },
   {
    "duration": 6,
    "start_time": "2022-04-30T08:52:34.683Z"
   },
   {
    "duration": 21,
    "start_time": "2022-04-30T08:52:34.690Z"
   },
   {
    "duration": 14,
    "start_time": "2022-04-30T08:52:34.712Z"
   },
   {
    "duration": 262,
    "start_time": "2022-04-30T08:52:34.728Z"
   },
   {
    "duration": 188,
    "start_time": "2022-04-30T08:52:34.992Z"
   },
   {
    "duration": 332,
    "start_time": "2022-04-30T08:52:35.182Z"
   },
   {
    "duration": 8,
    "start_time": "2022-04-30T08:52:35.516Z"
   },
   {
    "duration": 361,
    "start_time": "2022-04-30T08:52:35.526Z"
   },
   {
    "duration": 309,
    "start_time": "2022-04-30T08:52:35.892Z"
   },
   {
    "duration": 14,
    "start_time": "2022-04-30T08:52:36.203Z"
   },
   {
    "duration": 179,
    "start_time": "2022-04-30T08:52:36.219Z"
   },
   {
    "duration": 5,
    "start_time": "2022-04-30T08:52:36.400Z"
   },
   {
    "duration": 198,
    "start_time": "2022-04-30T08:52:36.407Z"
   },
   {
    "duration": 6,
    "start_time": "2022-04-30T08:52:36.607Z"
   },
   {
    "duration": 621,
    "start_time": "2022-04-30T08:52:36.615Z"
   },
   {
    "duration": 87,
    "start_time": "2022-04-30T08:52:37.239Z"
   },
   {
    "duration": 382,
    "start_time": "2022-04-30T08:53:03.478Z"
   },
   {
    "duration": 53,
    "start_time": "2022-04-30T08:53:08.152Z"
   },
   {
    "duration": 11,
    "start_time": "2022-04-30T09:04:09.506Z"
   },
   {
    "duration": 2336,
    "start_time": "2022-04-30T09:12:20.739Z"
   },
   {
    "duration": 2155,
    "start_time": "2022-04-30T09:12:57.066Z"
   },
   {
    "duration": 2427,
    "start_time": "2022-04-30T09:13:15.120Z"
   },
   {
    "duration": 2133,
    "start_time": "2022-04-30T09:13:23.341Z"
   },
   {
    "duration": 2431,
    "start_time": "2022-04-30T09:14:24.894Z"
   },
   {
    "duration": 7,
    "start_time": "2022-04-30T09:15:21.298Z"
   },
   {
    "duration": 402,
    "start_time": "2022-04-30T09:15:32.189Z"
   },
   {
    "duration": 11,
    "start_time": "2022-04-30T09:15:32.594Z"
   },
   {
    "duration": 4,
    "start_time": "2022-04-30T09:15:32.607Z"
   },
   {
    "duration": 13,
    "start_time": "2022-04-30T09:15:32.613Z"
   },
   {
    "duration": 27,
    "start_time": "2022-04-30T09:15:32.627Z"
   },
   {
    "duration": 4,
    "start_time": "2022-04-30T09:15:32.656Z"
   },
   {
    "duration": 8,
    "start_time": "2022-04-30T09:15:32.661Z"
   },
   {
    "duration": 720,
    "start_time": "2022-04-30T09:15:32.670Z"
   },
   {
    "duration": 24,
    "start_time": "2022-04-30T09:15:33.392Z"
   },
   {
    "duration": 11,
    "start_time": "2022-04-30T09:15:33.419Z"
   },
   {
    "duration": 16,
    "start_time": "2022-04-30T09:15:33.431Z"
   },
   {
    "duration": 9,
    "start_time": "2022-04-30T09:15:33.449Z"
   },
   {
    "duration": 17,
    "start_time": "2022-04-30T09:15:33.460Z"
   },
   {
    "duration": 19,
    "start_time": "2022-04-30T09:15:33.479Z"
   },
   {
    "duration": 10,
    "start_time": "2022-04-30T09:15:33.500Z"
   },
   {
    "duration": 4,
    "start_time": "2022-04-30T09:15:33.512Z"
   },
   {
    "duration": 7,
    "start_time": "2022-04-30T09:15:33.517Z"
   },
   {
    "duration": 164,
    "start_time": "2022-04-30T09:15:33.526Z"
   },
   {
    "duration": 124,
    "start_time": "2022-04-30T09:15:33.692Z"
   },
   {
    "duration": 5,
    "start_time": "2022-04-30T09:15:33.818Z"
   },
   {
    "duration": 30,
    "start_time": "2022-04-30T09:15:33.825Z"
   },
   {
    "duration": 28,
    "start_time": "2022-04-30T09:15:33.857Z"
   },
   {
    "duration": 244,
    "start_time": "2022-04-30T09:15:33.886Z"
   },
   {
    "duration": 164,
    "start_time": "2022-04-30T09:15:34.131Z"
   },
   {
    "duration": 260,
    "start_time": "2022-04-30T09:15:34.297Z"
   },
   {
    "duration": 7,
    "start_time": "2022-04-30T09:15:34.558Z"
   },
   {
    "duration": 169,
    "start_time": "2022-04-30T09:15:34.566Z"
   },
   {
    "duration": 300,
    "start_time": "2022-04-30T09:15:34.738Z"
   },
   {
    "duration": 23,
    "start_time": "2022-04-30T09:15:35.039Z"
   },
   {
    "duration": 113,
    "start_time": "2022-04-30T09:15:35.064Z"
   },
   {
    "duration": 5,
    "start_time": "2022-04-30T09:15:35.178Z"
   },
   {
    "duration": 134,
    "start_time": "2022-04-30T09:15:35.184Z"
   },
   {
    "duration": 5,
    "start_time": "2022-04-30T09:15:35.320Z"
   },
   {
    "duration": 328,
    "start_time": "2022-04-30T09:15:35.326Z"
   },
   {
    "duration": 24,
    "start_time": "2022-04-30T09:15:35.656Z"
   },
   {
    "duration": 13,
    "start_time": "2022-04-30T09:15:35.682Z"
   },
   {
    "duration": 51,
    "start_time": "2022-04-30T09:15:35.697Z"
   },
   {
    "duration": 2399,
    "start_time": "2022-04-30T09:15:35.750Z"
   },
   {
    "duration": 9,
    "start_time": "2022-04-30T09:16:30.713Z"
   },
   {
    "duration": 11,
    "start_time": "2022-04-30T09:16:41.810Z"
   },
   {
    "duration": 26,
    "start_time": "2022-04-30T09:22:30.470Z"
   },
   {
    "duration": 13,
    "start_time": "2022-04-30T09:25:51.545Z"
   },
   {
    "duration": 453,
    "start_time": "2022-04-30T09:26:14.142Z"
   },
   {
    "duration": 10,
    "start_time": "2022-04-30T09:26:14.598Z"
   },
   {
    "duration": 14,
    "start_time": "2022-04-30T09:26:14.610Z"
   },
   {
    "duration": 42,
    "start_time": "2022-04-30T09:26:14.627Z"
   },
   {
    "duration": 29,
    "start_time": "2022-04-30T09:26:14.671Z"
   },
   {
    "duration": 21,
    "start_time": "2022-04-30T09:26:14.702Z"
   },
   {
    "duration": 25,
    "start_time": "2022-04-30T09:26:14.725Z"
   },
   {
    "duration": 753,
    "start_time": "2022-04-30T09:26:14.752Z"
   },
   {
    "duration": 24,
    "start_time": "2022-04-30T09:26:15.506Z"
   },
   {
    "duration": 10,
    "start_time": "2022-04-30T09:26:15.532Z"
   },
   {
    "duration": 8,
    "start_time": "2022-04-30T09:26:15.544Z"
   },
   {
    "duration": 24,
    "start_time": "2022-04-30T09:26:15.553Z"
   },
   {
    "duration": 13,
    "start_time": "2022-04-30T09:26:15.578Z"
   },
   {
    "duration": 13,
    "start_time": "2022-04-30T09:26:15.593Z"
   },
   {
    "duration": 9,
    "start_time": "2022-04-30T09:26:15.607Z"
   },
   {
    "duration": 7,
    "start_time": "2022-04-30T09:26:15.617Z"
   },
   {
    "duration": 7,
    "start_time": "2022-04-30T09:26:15.625Z"
   },
   {
    "duration": 154,
    "start_time": "2022-04-30T09:26:15.633Z"
   },
   {
    "duration": 122,
    "start_time": "2022-04-30T09:26:15.789Z"
   },
   {
    "duration": 6,
    "start_time": "2022-04-30T09:26:15.913Z"
   },
   {
    "duration": 9,
    "start_time": "2022-04-30T09:26:15.920Z"
   },
   {
    "duration": 12,
    "start_time": "2022-04-30T09:26:15.930Z"
   },
   {
    "duration": 240,
    "start_time": "2022-04-30T09:26:15.954Z"
   },
   {
    "duration": 171,
    "start_time": "2022-04-30T09:26:16.196Z"
   },
   {
    "duration": 286,
    "start_time": "2022-04-30T09:26:16.368Z"
   },
   {
    "duration": 6,
    "start_time": "2022-04-30T09:26:16.656Z"
   },
   {
    "duration": 164,
    "start_time": "2022-04-30T09:26:16.663Z"
   },
   {
    "duration": 304,
    "start_time": "2022-04-30T09:26:16.830Z"
   },
   {
    "duration": 20,
    "start_time": "2022-04-30T09:26:17.135Z"
   },
   {
    "duration": 110,
    "start_time": "2022-04-30T09:26:17.156Z"
   },
   {
    "duration": 4,
    "start_time": "2022-04-30T09:26:17.267Z"
   },
   {
    "duration": 129,
    "start_time": "2022-04-30T09:26:17.273Z"
   },
   {
    "duration": 5,
    "start_time": "2022-04-30T09:26:17.403Z"
   },
   {
    "duration": 325,
    "start_time": "2022-04-30T09:26:17.410Z"
   },
   {
    "duration": 33,
    "start_time": "2022-04-30T09:26:17.736Z"
   },
   {
    "duration": 10,
    "start_time": "2022-04-30T09:26:17.771Z"
   },
   {
    "duration": 9,
    "start_time": "2022-04-30T09:26:17.782Z"
   },
   {
    "duration": 10,
    "start_time": "2022-04-30T09:26:17.792Z"
   },
   {
    "duration": 52,
    "start_time": "2022-04-30T09:26:17.804Z"
   },
   {
    "duration": 13,
    "start_time": "2022-04-30T09:26:17.858Z"
   },
   {
    "duration": 547,
    "start_time": "2022-04-30T12:53:06.100Z"
   },
   {
    "duration": 15,
    "start_time": "2022-04-30T12:53:06.650Z"
   },
   {
    "duration": 7,
    "start_time": "2022-04-30T12:53:06.667Z"
   },
   {
    "duration": 17,
    "start_time": "2022-04-30T12:53:06.677Z"
   },
   {
    "duration": 18,
    "start_time": "2022-04-30T12:53:06.696Z"
   },
   {
    "duration": 6,
    "start_time": "2022-04-30T12:53:06.715Z"
   },
   {
    "duration": 8,
    "start_time": "2022-04-30T12:53:06.723Z"
   },
   {
    "duration": 1201,
    "start_time": "2022-04-30T12:53:06.733Z"
   },
   {
    "duration": 49,
    "start_time": "2022-04-30T12:53:07.936Z"
   },
   {
    "duration": 15,
    "start_time": "2022-04-30T12:53:07.988Z"
   },
   {
    "duration": 9,
    "start_time": "2022-04-30T12:53:08.005Z"
   },
   {
    "duration": 9,
    "start_time": "2022-04-30T12:53:08.016Z"
   },
   {
    "duration": 18,
    "start_time": "2022-04-30T12:53:08.028Z"
   },
   {
    "duration": 27,
    "start_time": "2022-04-30T12:53:08.048Z"
   },
   {
    "duration": 26,
    "start_time": "2022-04-30T12:53:08.077Z"
   },
   {
    "duration": 8,
    "start_time": "2022-04-30T12:53:08.105Z"
   },
   {
    "duration": 9,
    "start_time": "2022-04-30T12:53:08.115Z"
   },
   {
    "duration": 287,
    "start_time": "2022-04-30T12:53:08.127Z"
   },
   {
    "duration": 225,
    "start_time": "2022-04-30T12:53:08.417Z"
   },
   {
    "duration": 13,
    "start_time": "2022-04-30T12:53:08.645Z"
   },
   {
    "duration": 6,
    "start_time": "2022-04-30T12:53:08.660Z"
   },
   {
    "duration": 34,
    "start_time": "2022-04-30T12:53:08.668Z"
   },
   {
    "duration": 418,
    "start_time": "2022-04-30T12:53:08.705Z"
   },
   {
    "duration": 285,
    "start_time": "2022-04-30T12:53:09.125Z"
   },
   {
    "duration": 437,
    "start_time": "2022-04-30T12:53:09.413Z"
   },
   {
    "duration": 9,
    "start_time": "2022-04-30T12:53:09.853Z"
   },
   {
    "duration": 289,
    "start_time": "2022-04-30T12:53:09.865Z"
   },
   {
    "duration": 382,
    "start_time": "2022-04-30T12:53:10.159Z"
   },
   {
    "duration": 16,
    "start_time": "2022-04-30T12:53:10.543Z"
   },
   {
    "duration": 304,
    "start_time": "2022-04-30T12:53:10.562Z"
   },
   {
    "duration": 22,
    "start_time": "2022-04-30T12:53:10.870Z"
   },
   {
    "duration": 266,
    "start_time": "2022-04-30T12:53:10.895Z"
   },
   {
    "duration": 8,
    "start_time": "2022-04-30T12:53:11.164Z"
   },
   {
    "duration": 618,
    "start_time": "2022-04-30T12:53:11.175Z"
   },
   {
    "duration": 31,
    "start_time": "2022-04-30T12:53:11.796Z"
   },
   {
    "duration": 14,
    "start_time": "2022-04-30T12:53:11.830Z"
   },
   {
    "duration": 53,
    "start_time": "2022-04-30T12:53:11.847Z"
   },
   {
    "duration": 16,
    "start_time": "2022-04-30T12:53:11.902Z"
   },
   {
    "duration": 41,
    "start_time": "2022-04-30T12:53:11.921Z"
   },
   {
    "duration": 46,
    "start_time": "2022-04-30T12:53:11.964Z"
   },
   {
    "duration": 3662,
    "start_time": "2022-04-30T13:06:53.109Z"
   },
   {
    "duration": 550,
    "start_time": "2022-04-30T13:07:06.807Z"
   },
   {
    "duration": 16,
    "start_time": "2022-04-30T13:07:07.360Z"
   },
   {
    "duration": 7,
    "start_time": "2022-04-30T13:07:07.379Z"
   },
   {
    "duration": 21,
    "start_time": "2022-04-30T13:07:07.394Z"
   },
   {
    "duration": 10,
    "start_time": "2022-04-30T13:07:07.417Z"
   },
   {
    "duration": 21,
    "start_time": "2022-04-30T13:07:07.430Z"
   },
   {
    "duration": 6,
    "start_time": "2022-04-30T13:07:07.493Z"
   },
   {
    "duration": 11,
    "start_time": "2022-04-30T13:07:07.502Z"
   },
   {
    "duration": 920,
    "start_time": "2022-04-30T13:07:07.516Z"
   },
   {
    "duration": 48,
    "start_time": "2022-04-30T13:07:08.440Z"
   },
   {
    "duration": 16,
    "start_time": "2022-04-30T13:07:08.490Z"
   },
   {
    "duration": 9,
    "start_time": "2022-04-30T13:07:08.508Z"
   },
   {
    "duration": 6,
    "start_time": "2022-04-30T13:07:08.520Z"
   },
   {
    "duration": 16,
    "start_time": "2022-04-30T13:07:08.528Z"
   },
   {
    "duration": 48,
    "start_time": "2022-04-30T13:07:08.547Z"
   },
   {
    "duration": 15,
    "start_time": "2022-04-30T13:07:08.597Z"
   },
   {
    "duration": 8,
    "start_time": "2022-04-30T13:07:08.614Z"
   },
   {
    "duration": 10,
    "start_time": "2022-04-30T13:07:08.624Z"
   },
   {
    "duration": 284,
    "start_time": "2022-04-30T13:07:08.636Z"
   },
   {
    "duration": 219,
    "start_time": "2022-04-30T13:07:08.922Z"
   },
   {
    "duration": 10,
    "start_time": "2022-04-30T13:07:09.143Z"
   },
   {
    "duration": 6,
    "start_time": "2022-04-30T13:07:09.155Z"
   },
   {
    "duration": 35,
    "start_time": "2022-04-30T13:07:09.164Z"
   },
   {
    "duration": 399,
    "start_time": "2022-04-30T13:07:09.201Z"
   },
   {
    "duration": 281,
    "start_time": "2022-04-30T13:07:09.602Z"
   },
   {
    "duration": 375,
    "start_time": "2022-04-30T13:07:09.885Z"
   },
   {
    "duration": 9,
    "start_time": "2022-04-30T13:07:10.262Z"
   },
   {
    "duration": 274,
    "start_time": "2022-04-30T13:07:10.275Z"
   },
   {
    "duration": 380,
    "start_time": "2022-04-30T13:07:10.551Z"
   },
   {
    "duration": 16,
    "start_time": "2022-04-30T13:07:10.933Z"
   },
   {
    "duration": 192,
    "start_time": "2022-04-30T13:07:10.951Z"
   },
   {
    "duration": 5,
    "start_time": "2022-04-30T13:07:11.145Z"
   },
   {
    "duration": 215,
    "start_time": "2022-04-30T13:07:11.152Z"
   },
   {
    "duration": 22,
    "start_time": "2022-04-30T13:07:11.370Z"
   },
   {
    "duration": 609,
    "start_time": "2022-04-30T13:07:11.395Z"
   },
   {
    "duration": 35,
    "start_time": "2022-04-30T13:07:12.006Z"
   },
   {
    "duration": 15,
    "start_time": "2022-04-30T13:07:12.043Z"
   },
   {
    "duration": 42,
    "start_time": "2022-04-30T13:07:12.060Z"
   },
   {
    "duration": 18,
    "start_time": "2022-04-30T13:07:12.105Z"
   },
   {
    "duration": 37,
    "start_time": "2022-04-30T13:07:12.125Z"
   },
   {
    "duration": 45,
    "start_time": "2022-04-30T13:07:12.164Z"
   },
   {
    "duration": 3344,
    "start_time": "2022-04-30T13:13:12.139Z"
   },
   {
    "duration": 565,
    "start_time": "2022-04-30T13:13:44.257Z"
   },
   {
    "duration": 16,
    "start_time": "2022-04-30T13:13:44.825Z"
   },
   {
    "duration": 11,
    "start_time": "2022-04-30T13:13:44.843Z"
   },
   {
    "duration": 20,
    "start_time": "2022-04-30T13:13:44.857Z"
   },
   {
    "duration": 18,
    "start_time": "2022-04-30T13:13:44.879Z"
   },
   {
    "duration": 20,
    "start_time": "2022-04-30T13:13:44.900Z"
   },
   {
    "duration": 15,
    "start_time": "2022-04-30T13:13:44.923Z"
   },
   {
    "duration": 7,
    "start_time": "2022-04-30T13:13:44.940Z"
   },
   {
    "duration": 50,
    "start_time": "2022-04-30T13:13:44.949Z"
   },
   {
    "duration": 948,
    "start_time": "2022-04-30T13:13:45.005Z"
   },
   {
    "duration": 48,
    "start_time": "2022-04-30T13:13:45.955Z"
   },
   {
    "duration": 15,
    "start_time": "2022-04-30T13:13:46.005Z"
   },
   {
    "duration": 14,
    "start_time": "2022-04-30T13:13:46.022Z"
   },
   {
    "duration": 6,
    "start_time": "2022-04-30T13:13:46.038Z"
   },
   {
    "duration": 38,
    "start_time": "2022-04-30T13:13:46.046Z"
   },
   {
    "duration": 35,
    "start_time": "2022-04-30T13:13:46.087Z"
   },
   {
    "duration": 22,
    "start_time": "2022-04-30T13:13:46.125Z"
   },
   {
    "duration": 15,
    "start_time": "2022-04-30T13:13:46.149Z"
   },
   {
    "duration": 27,
    "start_time": "2022-04-30T13:13:46.166Z"
   },
   {
    "duration": 273,
    "start_time": "2022-04-30T13:13:46.196Z"
   },
   {
    "duration": 223,
    "start_time": "2022-04-30T13:13:46.471Z"
   },
   {
    "duration": 9,
    "start_time": "2022-04-30T13:13:46.696Z"
   },
   {
    "duration": 9,
    "start_time": "2022-04-30T13:13:46.707Z"
   },
   {
    "duration": 14,
    "start_time": "2022-04-30T13:13:46.718Z"
   },
   {
    "duration": 416,
    "start_time": "2022-04-30T13:13:46.734Z"
   },
   {
    "duration": 289,
    "start_time": "2022-04-30T13:13:47.152Z"
   },
   {
    "duration": 440,
    "start_time": "2022-04-30T13:13:47.444Z"
   },
   {
    "duration": 9,
    "start_time": "2022-04-30T13:13:47.889Z"
   },
   {
    "duration": 279,
    "start_time": "2022-04-30T13:13:47.900Z"
   },
   {
    "duration": 374,
    "start_time": "2022-04-30T13:13:48.181Z"
   },
   {
    "duration": 19,
    "start_time": "2022-04-30T13:13:48.558Z"
   },
   {
    "duration": 212,
    "start_time": "2022-04-30T13:13:48.593Z"
   },
   {
    "duration": 6,
    "start_time": "2022-04-30T13:13:48.807Z"
   },
   {
    "duration": 212,
    "start_time": "2022-04-30T13:13:48.816Z"
   },
   {
    "duration": 8,
    "start_time": "2022-04-30T13:13:49.031Z"
   },
   {
    "duration": 588,
    "start_time": "2022-04-30T13:13:49.042Z"
   },
   {
    "duration": 33,
    "start_time": "2022-04-30T13:13:49.632Z"
   },
   {
    "duration": 33,
    "start_time": "2022-04-30T13:13:49.667Z"
   },
   {
    "duration": 14,
    "start_time": "2022-04-30T13:13:49.702Z"
   },
   {
    "duration": 15,
    "start_time": "2022-04-30T13:13:49.718Z"
   },
   {
    "duration": 69,
    "start_time": "2022-04-30T13:13:49.735Z"
   },
   {
    "duration": 19,
    "start_time": "2022-04-30T13:13:49.806Z"
   },
   {
    "duration": 9,
    "start_time": "2022-04-30T13:34:43.515Z"
   },
   {
    "duration": 8,
    "start_time": "2022-04-30T13:46:40.343Z"
   },
   {
    "duration": 24,
    "start_time": "2022-04-30T13:47:24.894Z"
   },
   {
    "duration": 35,
    "start_time": "2022-04-30T13:49:19.052Z"
   },
   {
    "duration": 20,
    "start_time": "2022-04-30T13:55:38.126Z"
   },
   {
    "duration": 4,
    "start_time": "2022-04-30T14:04:29.859Z"
   },
   {
    "duration": 25,
    "start_time": "2022-04-30T15:47:13.698Z"
   },
   {
    "duration": 16,
    "start_time": "2022-04-30T15:47:13.726Z"
   },
   {
    "duration": 5,
    "start_time": "2022-04-30T15:47:13.745Z"
   },
   {
    "duration": 47,
    "start_time": "2022-04-30T15:47:13.753Z"
   },
   {
    "duration": 12,
    "start_time": "2022-04-30T15:47:13.803Z"
   },
   {
    "duration": 21,
    "start_time": "2022-04-30T15:47:13.818Z"
   },
   {
    "duration": 56,
    "start_time": "2022-04-30T15:47:13.841Z"
   },
   {
    "duration": 5,
    "start_time": "2022-04-30T15:47:13.899Z"
   },
   {
    "duration": 52,
    "start_time": "2022-04-30T15:47:13.906Z"
   },
   {
    "duration": 16,
    "start_time": "2022-04-30T15:47:13.960Z"
   },
   {
    "duration": 16,
    "start_time": "2022-04-30T15:47:13.979Z"
   },
   {
    "duration": 13,
    "start_time": "2022-04-30T15:47:13.997Z"
   },
   {
    "duration": 24,
    "start_time": "2022-04-30T15:47:14.012Z"
   },
   {
    "duration": 29,
    "start_time": "2022-04-30T15:47:14.038Z"
   },
   {
    "duration": 24,
    "start_time": "2022-04-30T15:47:14.069Z"
   },
   {
    "duration": 5,
    "start_time": "2022-04-30T15:47:14.096Z"
   },
   {
    "duration": 15,
    "start_time": "2022-04-30T15:47:14.103Z"
   },
   {
    "duration": 298,
    "start_time": "2022-04-30T15:47:14.120Z"
   },
   {
    "duration": 223,
    "start_time": "2022-04-30T15:47:14.421Z"
   },
   {
    "duration": 9,
    "start_time": "2022-04-30T15:47:14.647Z"
   },
   {
    "duration": 7,
    "start_time": "2022-04-30T15:47:14.658Z"
   },
   {
    "duration": 37,
    "start_time": "2022-04-30T15:47:14.667Z"
   },
   {
    "duration": 310,
    "start_time": "2022-04-30T15:47:14.706Z"
   },
   {
    "duration": 357,
    "start_time": "2022-04-30T15:47:15.018Z"
   },
   {
    "duration": 394,
    "start_time": "2022-04-30T15:47:15.377Z"
   },
   {
    "duration": 20,
    "start_time": "2022-04-30T15:47:15.774Z"
   },
   {
    "duration": 282,
    "start_time": "2022-04-30T15:47:15.796Z"
   },
   {
    "duration": 385,
    "start_time": "2022-04-30T15:47:16.080Z"
   },
   {
    "duration": 34,
    "start_time": "2022-04-30T15:47:16.467Z"
   },
   {
    "duration": 184,
    "start_time": "2022-04-30T15:47:16.503Z"
   },
   {
    "duration": 6,
    "start_time": "2022-04-30T15:47:16.693Z"
   },
   {
    "duration": 224,
    "start_time": "2022-04-30T15:47:16.701Z"
   },
   {
    "duration": 7,
    "start_time": "2022-04-30T15:47:16.927Z"
   },
   {
    "duration": 599,
    "start_time": "2022-04-30T15:47:16.937Z"
   },
   {
    "duration": 32,
    "start_time": "2022-04-30T15:47:17.538Z"
   },
   {
    "duration": 29,
    "start_time": "2022-04-30T15:47:17.572Z"
   },
   {
    "duration": 16,
    "start_time": "2022-04-30T15:47:17.604Z"
   },
   {
    "duration": 36,
    "start_time": "2022-04-30T15:47:17.622Z"
   },
   {
    "duration": 50,
    "start_time": "2022-04-30T15:47:17.660Z"
   },
   {
    "duration": 463,
    "start_time": "2022-05-01T13:14:11.453Z"
   },
   {
    "duration": 16,
    "start_time": "2022-05-01T13:14:11.919Z"
   },
   {
    "duration": 8,
    "start_time": "2022-05-01T13:14:11.937Z"
   },
   {
    "duration": 17,
    "start_time": "2022-05-01T13:14:11.948Z"
   },
   {
    "duration": 6,
    "start_time": "2022-05-01T13:14:11.967Z"
   },
   {
    "duration": 19,
    "start_time": "2022-05-01T13:14:11.974Z"
   },
   {
    "duration": 10,
    "start_time": "2022-05-01T13:14:11.994Z"
   },
   {
    "duration": 1199,
    "start_time": "2022-05-01T13:14:12.028Z"
   },
   {
    "duration": 45,
    "start_time": "2022-05-01T13:14:13.233Z"
   },
   {
    "duration": 14,
    "start_time": "2022-05-01T13:14:13.282Z"
   },
   {
    "duration": 7,
    "start_time": "2022-05-01T13:14:13.298Z"
   },
   {
    "duration": 6,
    "start_time": "2022-05-01T13:14:13.307Z"
   },
   {
    "duration": 19,
    "start_time": "2022-05-01T13:14:13.315Z"
   },
   {
    "duration": 23,
    "start_time": "2022-05-01T13:14:13.336Z"
   },
   {
    "duration": 10,
    "start_time": "2022-05-01T13:14:13.361Z"
   },
   {
    "duration": 17,
    "start_time": "2022-05-01T13:14:13.372Z"
   },
   {
    "duration": 8,
    "start_time": "2022-05-01T13:14:13.391Z"
   },
   {
    "duration": 189,
    "start_time": "2022-05-01T13:14:13.401Z"
   },
   {
    "duration": 132,
    "start_time": "2022-05-01T13:14:13.591Z"
   },
   {
    "duration": 7,
    "start_time": "2022-05-01T13:14:13.725Z"
   },
   {
    "duration": 3,
    "start_time": "2022-05-01T13:14:13.734Z"
   },
   {
    "duration": 24,
    "start_time": "2022-05-01T13:14:13.739Z"
   },
   {
    "duration": 305,
    "start_time": "2022-05-01T13:14:13.765Z"
   },
   {
    "duration": 207,
    "start_time": "2022-05-01T13:14:14.071Z"
   },
   {
    "duration": 374,
    "start_time": "2022-05-01T13:14:14.280Z"
   },
   {
    "duration": 7,
    "start_time": "2022-05-01T13:14:14.656Z"
   },
   {
    "duration": 202,
    "start_time": "2022-05-01T13:14:14.664Z"
   },
   {
    "duration": 290,
    "start_time": "2022-05-01T13:14:14.870Z"
   },
   {
    "duration": 12,
    "start_time": "2022-05-01T13:14:15.162Z"
   },
   {
    "duration": 141,
    "start_time": "2022-05-01T13:14:15.176Z"
   },
   {
    "duration": 6,
    "start_time": "2022-05-01T13:14:15.319Z"
   },
   {
    "duration": 139,
    "start_time": "2022-05-01T13:14:15.328Z"
   },
   {
    "duration": 5,
    "start_time": "2022-05-01T13:14:15.469Z"
   },
   {
    "duration": 388,
    "start_time": "2022-05-01T13:14:15.476Z"
   },
   {
    "duration": 28,
    "start_time": "2022-05-01T13:14:15.866Z"
   },
   {
    "duration": 29,
    "start_time": "2022-05-01T13:14:15.896Z"
   },
   {
    "duration": 18,
    "start_time": "2022-05-01T13:14:15.930Z"
   },
   {
    "duration": 31,
    "start_time": "2022-05-01T13:14:15.952Z"
   },
   {
    "duration": 15,
    "start_time": "2022-05-01T13:14:15.985Z"
   },
   {
    "duration": 193,
    "start_time": "2022-05-01T13:23:42.571Z"
   },
   {
    "duration": 38,
    "start_time": "2022-05-01T13:24:02.308Z"
   },
   {
    "duration": 147,
    "start_time": "2022-05-01T13:24:36.224Z"
   },
   {
    "duration": 27,
    "start_time": "2022-05-01T13:25:02.973Z"
   },
   {
    "duration": 21,
    "start_time": "2022-05-01T13:25:44.974Z"
   },
   {
    "duration": 26,
    "start_time": "2022-05-01T13:25:57.089Z"
   },
   {
    "duration": 24,
    "start_time": "2022-05-01T13:26:58.887Z"
   },
   {
    "duration": 27,
    "start_time": "2022-05-01T13:27:05.261Z"
   },
   {
    "duration": 9,
    "start_time": "2022-05-01T13:27:53.387Z"
   },
   {
    "duration": 29,
    "start_time": "2022-05-01T13:28:09.415Z"
   },
   {
    "duration": 541,
    "start_time": "2022-05-01T13:30:11.726Z"
   },
   {
    "duration": 11,
    "start_time": "2022-05-01T13:30:41.696Z"
   },
   {
    "duration": 20,
    "start_time": "2022-05-01T13:30:52.725Z"
   },
   {
    "duration": 29,
    "start_time": "2022-05-01T13:31:41.524Z"
   },
   {
    "duration": 23,
    "start_time": "2022-05-01T13:33:18.160Z"
   },
   {
    "duration": 22,
    "start_time": "2022-05-01T13:36:51.285Z"
   },
   {
    "duration": 493,
    "start_time": "2022-05-01T13:37:11.421Z"
   },
   {
    "duration": 14,
    "start_time": "2022-05-01T13:37:11.917Z"
   },
   {
    "duration": 4,
    "start_time": "2022-05-01T13:37:11.933Z"
   },
   {
    "duration": 16,
    "start_time": "2022-05-01T13:37:11.940Z"
   },
   {
    "duration": 8,
    "start_time": "2022-05-01T13:37:11.959Z"
   },
   {
    "duration": 14,
    "start_time": "2022-05-01T13:37:11.969Z"
   },
   {
    "duration": 49,
    "start_time": "2022-05-01T13:37:11.985Z"
   },
   {
    "duration": 830,
    "start_time": "2022-05-01T13:37:12.036Z"
   },
   {
    "duration": 43,
    "start_time": "2022-05-01T13:37:12.868Z"
   },
   {
    "duration": 19,
    "start_time": "2022-05-01T13:37:12.913Z"
   },
   {
    "duration": 18,
    "start_time": "2022-05-01T13:37:12.935Z"
   },
   {
    "duration": 19,
    "start_time": "2022-05-01T13:37:12.955Z"
   },
   {
    "duration": 27,
    "start_time": "2022-05-01T13:37:12.976Z"
   },
   {
    "duration": 56,
    "start_time": "2022-05-01T13:37:13.006Z"
   },
   {
    "duration": 11,
    "start_time": "2022-05-01T13:37:13.064Z"
   },
   {
    "duration": 21,
    "start_time": "2022-05-01T13:37:13.077Z"
   },
   {
    "duration": 27,
    "start_time": "2022-05-01T13:37:13.100Z"
   },
   {
    "duration": 210,
    "start_time": "2022-05-01T13:37:13.128Z"
   },
   {
    "duration": 141,
    "start_time": "2022-05-01T13:37:13.340Z"
   },
   {
    "duration": 7,
    "start_time": "2022-05-01T13:37:13.483Z"
   },
   {
    "duration": 40,
    "start_time": "2022-05-01T13:37:13.492Z"
   },
   {
    "duration": 36,
    "start_time": "2022-05-01T13:37:13.534Z"
   },
   {
    "duration": 335,
    "start_time": "2022-05-01T13:37:13.573Z"
   },
   {
    "duration": 261,
    "start_time": "2022-05-01T13:37:13.910Z"
   },
   {
    "duration": 327,
    "start_time": "2022-05-01T13:37:14.173Z"
   },
   {
    "duration": 19,
    "start_time": "2022-05-01T13:37:14.503Z"
   },
   {
    "duration": 216,
    "start_time": "2022-05-01T13:37:14.525Z"
   },
   {
    "duration": 297,
    "start_time": "2022-05-01T13:37:14.742Z"
   },
   {
    "duration": 18,
    "start_time": "2022-05-01T13:37:15.044Z"
   },
   {
    "duration": 138,
    "start_time": "2022-05-01T13:37:15.064Z"
   },
   {
    "duration": 5,
    "start_time": "2022-05-01T13:37:15.204Z"
   },
   {
    "duration": 153,
    "start_time": "2022-05-01T13:37:15.211Z"
   },
   {
    "duration": 5,
    "start_time": "2022-05-01T13:37:15.366Z"
   },
   {
    "duration": 404,
    "start_time": "2022-05-01T13:37:15.373Z"
   },
   {
    "duration": 28,
    "start_time": "2022-05-01T13:37:15.779Z"
   },
   {
    "duration": 27,
    "start_time": "2022-05-01T13:37:15.808Z"
   },
   {
    "duration": 14,
    "start_time": "2022-05-01T13:37:15.838Z"
   },
   {
    "duration": 35,
    "start_time": "2022-05-01T13:37:15.854Z"
   },
   {
    "duration": 42,
    "start_time": "2022-05-01T13:37:15.890Z"
   },
   {
    "duration": 3276,
    "start_time": "2022-05-01T13:41:32.316Z"
   },
   {
    "duration": 3305,
    "start_time": "2022-05-01T13:42:07.361Z"
   },
   {
    "duration": 3129,
    "start_time": "2022-05-01T13:42:25.073Z"
   },
   {
    "duration": 3269,
    "start_time": "2022-05-01T13:42:56.670Z"
   },
   {
    "duration": 454,
    "start_time": "2022-05-01T13:43:12.077Z"
   },
   {
    "duration": 18,
    "start_time": "2022-05-01T13:43:12.533Z"
   },
   {
    "duration": 9,
    "start_time": "2022-05-01T13:43:12.553Z"
   },
   {
    "duration": 27,
    "start_time": "2022-05-01T13:43:12.563Z"
   },
   {
    "duration": 11,
    "start_time": "2022-05-01T13:43:12.592Z"
   },
   {
    "duration": 44,
    "start_time": "2022-05-01T13:43:12.604Z"
   },
   {
    "duration": 26,
    "start_time": "2022-05-01T13:43:12.651Z"
   },
   {
    "duration": 878,
    "start_time": "2022-05-01T13:43:12.679Z"
   },
   {
    "duration": 26,
    "start_time": "2022-05-01T13:43:13.560Z"
   },
   {
    "duration": 13,
    "start_time": "2022-05-01T13:43:13.588Z"
   },
   {
    "duration": 31,
    "start_time": "2022-05-01T13:43:13.603Z"
   },
   {
    "duration": 7,
    "start_time": "2022-05-01T13:43:13.644Z"
   },
   {
    "duration": 36,
    "start_time": "2022-05-01T13:43:13.652Z"
   },
   {
    "duration": 26,
    "start_time": "2022-05-01T13:43:13.692Z"
   },
   {
    "duration": 17,
    "start_time": "2022-05-01T13:43:13.720Z"
   },
   {
    "duration": 6,
    "start_time": "2022-05-01T13:43:13.749Z"
   },
   {
    "duration": 17,
    "start_time": "2022-05-01T13:43:13.758Z"
   },
   {
    "duration": 216,
    "start_time": "2022-05-01T13:43:13.777Z"
   },
   {
    "duration": 141,
    "start_time": "2022-05-01T13:43:13.995Z"
   },
   {
    "duration": 12,
    "start_time": "2022-05-01T13:43:14.138Z"
   },
   {
    "duration": 12,
    "start_time": "2022-05-01T13:43:14.152Z"
   },
   {
    "duration": 16,
    "start_time": "2022-05-01T13:43:14.166Z"
   },
   {
    "duration": 299,
    "start_time": "2022-05-01T13:43:14.184Z"
   },
   {
    "duration": 210,
    "start_time": "2022-05-01T13:43:14.485Z"
   },
   {
    "duration": 362,
    "start_time": "2022-05-01T13:43:14.697Z"
   },
   {
    "duration": 7,
    "start_time": "2022-05-01T13:43:15.061Z"
   },
   {
    "duration": 207,
    "start_time": "2022-05-01T13:43:15.070Z"
   },
   {
    "duration": 339,
    "start_time": "2022-05-01T13:43:15.279Z"
   },
   {
    "duration": 26,
    "start_time": "2022-05-01T13:43:15.620Z"
   },
   {
    "duration": 129,
    "start_time": "2022-05-01T13:43:15.651Z"
   },
   {
    "duration": 5,
    "start_time": "2022-05-01T13:43:15.782Z"
   },
   {
    "duration": 168,
    "start_time": "2022-05-01T13:43:15.788Z"
   },
   {
    "duration": 5,
    "start_time": "2022-05-01T13:43:15.958Z"
   },
   {
    "duration": 432,
    "start_time": "2022-05-01T13:43:15.965Z"
   },
   {
    "duration": 50,
    "start_time": "2022-05-01T13:43:16.399Z"
   },
   {
    "duration": 13,
    "start_time": "2022-05-01T13:43:16.454Z"
   },
   {
    "duration": 12,
    "start_time": "2022-05-01T13:43:16.468Z"
   },
   {
    "duration": 73,
    "start_time": "2022-05-01T13:43:16.483Z"
   },
   {
    "duration": 16,
    "start_time": "2022-05-01T13:43:16.559Z"
   },
   {
    "duration": 3367,
    "start_time": "2022-05-01T13:43:57.005Z"
   },
   {
    "duration": 38,
    "start_time": "2022-05-01T13:47:48.120Z"
   },
   {
    "duration": 3731,
    "start_time": "2022-05-01T13:48:01.884Z"
   },
   {
    "duration": 1530,
    "start_time": "2022-05-01T13:48:13.469Z"
   },
   {
    "duration": 22,
    "start_time": "2022-05-01T13:48:15.001Z"
   },
   {
    "duration": 14,
    "start_time": "2022-05-01T13:48:15.026Z"
   },
   {
    "duration": 18,
    "start_time": "2022-05-01T13:48:15.044Z"
   },
   {
    "duration": 9,
    "start_time": "2022-05-01T13:48:15.064Z"
   },
   {
    "duration": 13,
    "start_time": "2022-05-01T13:48:15.076Z"
   },
   {
    "duration": 45,
    "start_time": "2022-05-01T13:48:15.091Z"
   },
   {
    "duration": 4,
    "start_time": "2022-05-01T13:48:15.138Z"
   },
   {
    "duration": 46,
    "start_time": "2022-05-01T13:48:15.143Z"
   },
   {
    "duration": 12,
    "start_time": "2022-05-01T13:48:15.192Z"
   },
   {
    "duration": 7,
    "start_time": "2022-05-01T13:48:15.206Z"
   },
   {
    "duration": 13,
    "start_time": "2022-05-01T13:48:15.214Z"
   },
   {
    "duration": 16,
    "start_time": "2022-05-01T13:48:15.228Z"
   },
   {
    "duration": 21,
    "start_time": "2022-05-01T13:48:15.246Z"
   },
   {
    "duration": 20,
    "start_time": "2022-05-01T13:48:15.270Z"
   },
   {
    "duration": 13,
    "start_time": "2022-05-01T13:48:15.293Z"
   },
   {
    "duration": 23,
    "start_time": "2022-05-01T13:48:15.309Z"
   },
   {
    "duration": 319,
    "start_time": "2022-05-01T13:48:15.334Z"
   },
   {
    "duration": 195,
    "start_time": "2022-05-01T13:48:15.656Z"
   },
   {
    "duration": 7,
    "start_time": "2022-05-01T13:48:15.853Z"
   },
   {
    "duration": 11,
    "start_time": "2022-05-01T13:48:15.861Z"
   },
   {
    "duration": 11,
    "start_time": "2022-05-01T13:48:15.873Z"
   },
   {
    "duration": 330,
    "start_time": "2022-05-01T13:48:15.886Z"
   },
   {
    "duration": 213,
    "start_time": "2022-05-01T13:48:16.218Z"
   },
   {
    "duration": 363,
    "start_time": "2022-05-01T13:48:16.433Z"
   },
   {
    "duration": 10,
    "start_time": "2022-05-01T13:48:16.800Z"
   },
   {
    "duration": 278,
    "start_time": "2022-05-01T13:48:16.825Z"
   },
   {
    "duration": 327,
    "start_time": "2022-05-01T13:48:17.108Z"
   },
   {
    "duration": 13,
    "start_time": "2022-05-01T13:48:17.437Z"
   },
   {
    "duration": 135,
    "start_time": "2022-05-01T13:48:17.452Z"
   },
   {
    "duration": 6,
    "start_time": "2022-05-01T13:48:17.589Z"
   },
   {
    "duration": 155,
    "start_time": "2022-05-01T13:48:17.597Z"
   },
   {
    "duration": 5,
    "start_time": "2022-05-01T13:48:17.755Z"
   },
   {
    "duration": 381,
    "start_time": "2022-05-01T13:48:17.763Z"
   },
   {
    "duration": 29,
    "start_time": "2022-05-01T13:48:18.148Z"
   },
   {
    "duration": 11,
    "start_time": "2022-05-01T13:48:18.179Z"
   },
   {
    "duration": 44,
    "start_time": "2022-05-01T13:48:18.192Z"
   },
   {
    "duration": 33,
    "start_time": "2022-05-01T13:48:18.239Z"
   },
   {
    "duration": 50,
    "start_time": "2022-05-01T13:48:18.274Z"
   },
   {
    "duration": 3610,
    "start_time": "2022-05-01T13:49:31.888Z"
   },
   {
    "duration": 1229,
    "start_time": "2022-05-01T13:49:43.872Z"
   },
   {
    "duration": 13,
    "start_time": "2022-05-01T13:49:45.103Z"
   },
   {
    "duration": 11,
    "start_time": "2022-05-01T13:49:45.122Z"
   },
   {
    "duration": 105,
    "start_time": "2022-05-01T13:49:45.135Z"
   },
   {
    "duration": 0,
    "start_time": "2022-05-01T13:49:45.245Z"
   },
   {
    "duration": 0,
    "start_time": "2022-05-01T13:49:45.246Z"
   },
   {
    "duration": 0,
    "start_time": "2022-05-01T13:49:45.247Z"
   },
   {
    "duration": 0,
    "start_time": "2022-05-01T13:49:45.249Z"
   },
   {
    "duration": 0,
    "start_time": "2022-05-01T13:49:45.250Z"
   },
   {
    "duration": 1,
    "start_time": "2022-05-01T13:49:45.251Z"
   },
   {
    "duration": 0,
    "start_time": "2022-05-01T13:49:45.253Z"
   },
   {
    "duration": 0,
    "start_time": "2022-05-01T13:49:45.255Z"
   },
   {
    "duration": 0,
    "start_time": "2022-05-01T13:49:45.256Z"
   },
   {
    "duration": 0,
    "start_time": "2022-05-01T13:49:45.258Z"
   },
   {
    "duration": 0,
    "start_time": "2022-05-01T13:49:45.259Z"
   },
   {
    "duration": 0,
    "start_time": "2022-05-01T13:49:45.260Z"
   },
   {
    "duration": 0,
    "start_time": "2022-05-01T13:49:45.262Z"
   },
   {
    "duration": 0,
    "start_time": "2022-05-01T13:49:45.263Z"
   },
   {
    "duration": 0,
    "start_time": "2022-05-01T13:49:45.264Z"
   },
   {
    "duration": 0,
    "start_time": "2022-05-01T13:49:45.266Z"
   },
   {
    "duration": 0,
    "start_time": "2022-05-01T13:49:45.267Z"
   },
   {
    "duration": 0,
    "start_time": "2022-05-01T13:49:45.268Z"
   },
   {
    "duration": 0,
    "start_time": "2022-05-01T13:49:45.269Z"
   },
   {
    "duration": 0,
    "start_time": "2022-05-01T13:49:45.270Z"
   },
   {
    "duration": 0,
    "start_time": "2022-05-01T13:49:45.271Z"
   },
   {
    "duration": 0,
    "start_time": "2022-05-01T13:49:45.272Z"
   },
   {
    "duration": 0,
    "start_time": "2022-05-01T13:49:45.273Z"
   },
   {
    "duration": 0,
    "start_time": "2022-05-01T13:49:45.323Z"
   },
   {
    "duration": 0,
    "start_time": "2022-05-01T13:49:45.324Z"
   },
   {
    "duration": 0,
    "start_time": "2022-05-01T13:49:45.328Z"
   },
   {
    "duration": 1,
    "start_time": "2022-05-01T13:49:45.328Z"
   },
   {
    "duration": 0,
    "start_time": "2022-05-01T13:49:45.329Z"
   },
   {
    "duration": 0,
    "start_time": "2022-05-01T13:49:45.330Z"
   },
   {
    "duration": 0,
    "start_time": "2022-05-01T13:49:45.331Z"
   },
   {
    "duration": 0,
    "start_time": "2022-05-01T13:49:45.332Z"
   },
   {
    "duration": 0,
    "start_time": "2022-05-01T13:49:45.335Z"
   },
   {
    "duration": 0,
    "start_time": "2022-05-01T13:49:45.336Z"
   },
   {
    "duration": 0,
    "start_time": "2022-05-01T13:49:45.337Z"
   },
   {
    "duration": 0,
    "start_time": "2022-05-01T13:49:45.338Z"
   },
   {
    "duration": 1426,
    "start_time": "2022-05-01T13:52:16.048Z"
   },
   {
    "duration": 15,
    "start_time": "2022-05-01T13:52:17.477Z"
   },
   {
    "duration": 6,
    "start_time": "2022-05-01T13:52:17.494Z"
   },
   {
    "duration": 31,
    "start_time": "2022-05-01T13:52:17.503Z"
   },
   {
    "duration": 9,
    "start_time": "2022-05-01T13:52:17.539Z"
   },
   {
    "duration": 14,
    "start_time": "2022-05-01T13:52:17.550Z"
   },
   {
    "duration": 9,
    "start_time": "2022-05-01T13:52:17.565Z"
   },
   {
    "duration": 5,
    "start_time": "2022-05-01T13:52:17.575Z"
   },
   {
    "duration": 50,
    "start_time": "2022-05-01T13:52:17.583Z"
   },
   {
    "duration": 14,
    "start_time": "2022-05-01T13:52:17.637Z"
   },
   {
    "duration": 6,
    "start_time": "2022-05-01T13:52:17.654Z"
   },
   {
    "duration": 6,
    "start_time": "2022-05-01T13:52:17.662Z"
   },
   {
    "duration": 16,
    "start_time": "2022-05-01T13:52:17.670Z"
   },
   {
    "duration": 51,
    "start_time": "2022-05-01T13:52:17.688Z"
   },
   {
    "duration": 15,
    "start_time": "2022-05-01T13:52:17.741Z"
   },
   {
    "duration": 5,
    "start_time": "2022-05-01T13:52:17.758Z"
   },
   {
    "duration": 8,
    "start_time": "2022-05-01T13:52:17.766Z"
   },
   {
    "duration": 233,
    "start_time": "2022-05-01T13:52:17.776Z"
   },
   {
    "duration": 145,
    "start_time": "2022-05-01T13:52:18.011Z"
   },
   {
    "duration": 7,
    "start_time": "2022-05-01T13:52:18.157Z"
   },
   {
    "duration": 5,
    "start_time": "2022-05-01T13:52:18.166Z"
   },
   {
    "duration": 12,
    "start_time": "2022-05-01T13:52:18.172Z"
   },
   {
    "duration": 411,
    "start_time": "2022-05-01T13:52:18.186Z"
   },
   {
    "duration": 276,
    "start_time": "2022-05-01T13:52:18.600Z"
   },
   {
    "duration": 345,
    "start_time": "2022-05-01T13:52:18.878Z"
   },
   {
    "duration": 8,
    "start_time": "2022-05-01T13:52:19.225Z"
   },
   {
    "duration": 201,
    "start_time": "2022-05-01T13:52:19.238Z"
   },
   {
    "duration": 285,
    "start_time": "2022-05-01T13:52:19.444Z"
   },
   {
    "duration": 13,
    "start_time": "2022-05-01T13:52:19.735Z"
   },
   {
    "duration": 131,
    "start_time": "2022-05-01T13:52:19.750Z"
   },
   {
    "duration": 6,
    "start_time": "2022-05-01T13:52:19.883Z"
   },
   {
    "duration": 155,
    "start_time": "2022-05-01T13:52:19.891Z"
   },
   {
    "duration": 7,
    "start_time": "2022-05-01T13:52:20.048Z"
   },
   {
    "duration": 478,
    "start_time": "2022-05-01T13:52:20.057Z"
   },
   {
    "duration": 45,
    "start_time": "2022-05-01T13:52:20.536Z"
   },
   {
    "duration": 16,
    "start_time": "2022-05-01T13:52:20.583Z"
   },
   {
    "duration": 40,
    "start_time": "2022-05-01T13:52:20.601Z"
   },
   {
    "duration": 32,
    "start_time": "2022-05-01T13:52:20.644Z"
   },
   {
    "duration": 16,
    "start_time": "2022-05-01T13:52:20.678Z"
   },
   {
    "duration": 1428,
    "start_time": "2022-05-01T13:53:18.156Z"
   },
   {
    "duration": 17,
    "start_time": "2022-05-01T13:53:19.587Z"
   },
   {
    "duration": 11,
    "start_time": "2022-05-01T13:53:19.605Z"
   },
   {
    "duration": 15,
    "start_time": "2022-05-01T13:53:19.619Z"
   },
   {
    "duration": 8,
    "start_time": "2022-05-01T13:53:19.636Z"
   },
   {
    "duration": 20,
    "start_time": "2022-05-01T13:53:19.646Z"
   },
   {
    "duration": 11,
    "start_time": "2022-05-01T13:53:19.668Z"
   },
   {
    "duration": 55,
    "start_time": "2022-05-01T13:53:19.681Z"
   },
   {
    "duration": 14,
    "start_time": "2022-05-01T13:53:19.739Z"
   },
   {
    "duration": 6,
    "start_time": "2022-05-01T13:53:19.757Z"
   },
   {
    "duration": 7,
    "start_time": "2022-05-01T13:53:19.766Z"
   },
   {
    "duration": 17,
    "start_time": "2022-05-01T13:53:19.775Z"
   },
   {
    "duration": 55,
    "start_time": "2022-05-01T13:53:19.795Z"
   },
   {
    "duration": 13,
    "start_time": "2022-05-01T13:53:19.852Z"
   },
   {
    "duration": 11,
    "start_time": "2022-05-01T13:53:19.867Z"
   },
   {
    "duration": 10,
    "start_time": "2022-05-01T13:53:19.880Z"
   },
   {
    "duration": 187,
    "start_time": "2022-05-01T13:53:19.891Z"
   },
   {
    "duration": 173,
    "start_time": "2022-05-01T13:53:20.080Z"
   },
   {
    "duration": 8,
    "start_time": "2022-05-01T13:53:20.255Z"
   },
   {
    "duration": 7,
    "start_time": "2022-05-01T13:53:20.264Z"
   },
   {
    "duration": 13,
    "start_time": "2022-05-01T13:53:20.273Z"
   },
   {
    "duration": 405,
    "start_time": "2022-05-01T13:53:20.288Z"
   },
   {
    "duration": 197,
    "start_time": "2022-05-01T13:53:20.695Z"
   },
   {
    "duration": 339,
    "start_time": "2022-05-01T13:53:20.895Z"
   },
   {
    "duration": 14,
    "start_time": "2022-05-01T13:53:21.236Z"
   },
   {
    "duration": 267,
    "start_time": "2022-05-01T13:53:21.253Z"
   },
   {
    "duration": 285,
    "start_time": "2022-05-01T13:53:21.522Z"
   },
   {
    "duration": 24,
    "start_time": "2022-05-01T13:53:21.810Z"
   },
   {
    "duration": 137,
    "start_time": "2022-05-01T13:53:21.836Z"
   },
   {
    "duration": 5,
    "start_time": "2022-05-01T13:53:21.975Z"
   },
   {
    "duration": 146,
    "start_time": "2022-05-01T13:53:21.982Z"
   },
   {
    "duration": 6,
    "start_time": "2022-05-01T13:53:22.130Z"
   },
   {
    "duration": 376,
    "start_time": "2022-05-01T13:53:22.138Z"
   },
   {
    "duration": 41,
    "start_time": "2022-05-01T13:53:22.516Z"
   },
   {
    "duration": 11,
    "start_time": "2022-05-01T13:53:22.559Z"
   },
   {
    "duration": 18,
    "start_time": "2022-05-01T13:53:22.572Z"
   },
   {
    "duration": 89,
    "start_time": "2022-05-01T13:53:22.591Z"
   },
   {
    "duration": 18,
    "start_time": "2022-05-01T13:53:22.682Z"
   },
   {
    "duration": 3466,
    "start_time": "2022-05-01T13:59:14.339Z"
   },
   {
    "duration": 3294,
    "start_time": "2022-05-01T13:59:25.956Z"
   },
   {
    "duration": 1445,
    "start_time": "2022-05-01T14:00:25.739Z"
   },
   {
    "duration": 17,
    "start_time": "2022-05-01T14:00:27.187Z"
   },
   {
    "duration": 3,
    "start_time": "2022-05-01T14:00:27.207Z"
   },
   {
    "duration": 22,
    "start_time": "2022-05-01T14:00:27.213Z"
   },
   {
    "duration": 9,
    "start_time": "2022-05-01T14:00:27.238Z"
   },
   {
    "duration": 39,
    "start_time": "2022-05-01T14:00:27.249Z"
   },
   {
    "duration": 11,
    "start_time": "2022-05-01T14:00:27.290Z"
   },
   {
    "duration": 54,
    "start_time": "2022-05-01T14:00:27.303Z"
   },
   {
    "duration": 12,
    "start_time": "2022-05-01T14:00:27.359Z"
   },
   {
    "duration": 5,
    "start_time": "2022-05-01T14:00:27.375Z"
   },
   {
    "duration": 6,
    "start_time": "2022-05-01T14:00:27.382Z"
   },
   {
    "duration": 15,
    "start_time": "2022-05-01T14:00:27.390Z"
   },
   {
    "duration": 29,
    "start_time": "2022-05-01T14:00:27.408Z"
   },
   {
    "duration": 21,
    "start_time": "2022-05-01T14:00:27.439Z"
   },
   {
    "duration": 6,
    "start_time": "2022-05-01T14:00:27.462Z"
   },
   {
    "duration": 13,
    "start_time": "2022-05-01T14:00:27.471Z"
   },
   {
    "duration": 278,
    "start_time": "2022-05-01T14:00:27.486Z"
   },
   {
    "duration": 150,
    "start_time": "2022-05-01T14:00:27.766Z"
   },
   {
    "duration": 14,
    "start_time": "2022-05-01T14:00:27.918Z"
   },
   {
    "duration": 9,
    "start_time": "2022-05-01T14:00:27.934Z"
   },
   {
    "duration": 15,
    "start_time": "2022-05-01T14:00:27.948Z"
   },
   {
    "duration": 372,
    "start_time": "2022-05-01T14:00:27.966Z"
   },
   {
    "duration": 278,
    "start_time": "2022-05-01T14:00:28.341Z"
   },
   {
    "duration": 411,
    "start_time": "2022-05-01T14:00:28.622Z"
   },
   {
    "duration": 11,
    "start_time": "2022-05-01T14:00:29.035Z"
   },
   {
    "duration": 349,
    "start_time": "2022-05-01T14:00:29.048Z"
   },
   {
    "duration": 333,
    "start_time": "2022-05-01T14:00:29.400Z"
   },
   {
    "duration": 22,
    "start_time": "2022-05-01T14:00:29.738Z"
   },
   {
    "duration": 144,
    "start_time": "2022-05-01T14:00:29.762Z"
   },
   {
    "duration": 6,
    "start_time": "2022-05-01T14:00:29.908Z"
   },
   {
    "duration": 160,
    "start_time": "2022-05-01T14:00:29.923Z"
   },
   {
    "duration": 5,
    "start_time": "2022-05-01T14:00:30.086Z"
   },
   {
    "duration": 508,
    "start_time": "2022-05-01T14:00:30.094Z"
   },
   {
    "duration": 53,
    "start_time": "2022-05-01T14:00:30.605Z"
   },
   {
    "duration": 14,
    "start_time": "2022-05-01T14:00:30.660Z"
   },
   {
    "duration": 15,
    "start_time": "2022-05-01T14:00:30.676Z"
   },
   {
    "duration": 75,
    "start_time": "2022-05-01T14:00:30.693Z"
   },
   {
    "duration": 16,
    "start_time": "2022-05-01T14:00:30.770Z"
   },
   {
    "duration": 3235,
    "start_time": "2022-05-01T14:01:40.280Z"
   },
   {
    "duration": 1331,
    "start_time": "2022-05-01T14:01:49.488Z"
   },
   {
    "duration": 29,
    "start_time": "2022-05-01T14:01:50.821Z"
   },
   {
    "duration": 10,
    "start_time": "2022-05-01T14:01:50.852Z"
   },
   {
    "duration": 34,
    "start_time": "2022-05-01T14:01:50.865Z"
   },
   {
    "duration": 17,
    "start_time": "2022-05-01T14:01:50.901Z"
   },
   {
    "duration": 30,
    "start_time": "2022-05-01T14:01:50.920Z"
   },
   {
    "duration": 7,
    "start_time": "2022-05-01T14:01:50.953Z"
   },
   {
    "duration": 75,
    "start_time": "2022-05-01T14:01:50.963Z"
   },
   {
    "duration": 14,
    "start_time": "2022-05-01T14:01:51.040Z"
   },
   {
    "duration": 19,
    "start_time": "2022-05-01T14:01:51.060Z"
   },
   {
    "duration": 7,
    "start_time": "2022-05-01T14:01:51.081Z"
   },
   {
    "duration": 14,
    "start_time": "2022-05-01T14:01:51.090Z"
   },
   {
    "duration": 27,
    "start_time": "2022-05-01T14:01:51.106Z"
   },
   {
    "duration": 12,
    "start_time": "2022-05-01T14:01:51.136Z"
   },
   {
    "duration": 4,
    "start_time": "2022-05-01T14:01:51.151Z"
   },
   {
    "duration": 7,
    "start_time": "2022-05-01T14:01:51.157Z"
   },
   {
    "duration": 216,
    "start_time": "2022-05-01T14:01:51.166Z"
   },
   {
    "duration": 133,
    "start_time": "2022-05-01T14:01:51.384Z"
   },
   {
    "duration": 21,
    "start_time": "2022-05-01T14:01:51.519Z"
   },
   {
    "duration": 6,
    "start_time": "2022-05-01T14:01:51.545Z"
   },
   {
    "duration": 12,
    "start_time": "2022-05-01T14:01:51.555Z"
   },
   {
    "duration": 320,
    "start_time": "2022-05-01T14:01:51.568Z"
   },
   {
    "duration": 238,
    "start_time": "2022-05-01T14:01:51.891Z"
   },
   {
    "duration": 342,
    "start_time": "2022-05-01T14:01:52.132Z"
   },
   {
    "duration": 6,
    "start_time": "2022-05-01T14:01:52.476Z"
   },
   {
    "duration": 204,
    "start_time": "2022-05-01T14:01:52.484Z"
   },
   {
    "duration": 326,
    "start_time": "2022-05-01T14:01:52.689Z"
   },
   {
    "duration": 13,
    "start_time": "2022-05-01T14:01:53.019Z"
   },
   {
    "duration": 135,
    "start_time": "2022-05-01T14:01:53.034Z"
   },
   {
    "duration": 5,
    "start_time": "2022-05-01T14:01:53.171Z"
   },
   {
    "duration": 178,
    "start_time": "2022-05-01T14:01:53.178Z"
   },
   {
    "duration": 9,
    "start_time": "2022-05-01T14:01:53.358Z"
   },
   {
    "duration": 374,
    "start_time": "2022-05-01T14:01:53.368Z"
   },
   {
    "duration": 45,
    "start_time": "2022-05-01T14:01:53.744Z"
   },
   {
    "duration": 11,
    "start_time": "2022-05-01T14:01:53.791Z"
   },
   {
    "duration": 30,
    "start_time": "2022-05-01T14:01:53.804Z"
   },
   {
    "duration": 39,
    "start_time": "2022-05-01T14:01:53.836Z"
   },
   {
    "duration": 14,
    "start_time": "2022-05-01T14:01:53.877Z"
   },
   {
    "duration": 1281,
    "start_time": "2022-05-01T14:05:00.067Z"
   },
   {
    "duration": 13,
    "start_time": "2022-05-01T14:05:01.351Z"
   },
   {
    "duration": 11,
    "start_time": "2022-05-01T14:05:01.366Z"
   },
   {
    "duration": 17,
    "start_time": "2022-05-01T14:05:01.379Z"
   },
   {
    "duration": 17,
    "start_time": "2022-05-01T14:05:01.397Z"
   },
   {
    "duration": 29,
    "start_time": "2022-05-01T14:05:01.416Z"
   },
   {
    "duration": 11,
    "start_time": "2022-05-01T14:05:01.449Z"
   },
   {
    "duration": 52,
    "start_time": "2022-05-01T14:05:01.462Z"
   },
   {
    "duration": 16,
    "start_time": "2022-05-01T14:05:01.516Z"
   },
   {
    "duration": 8,
    "start_time": "2022-05-01T14:05:01.535Z"
   },
   {
    "duration": 8,
    "start_time": "2022-05-01T14:05:01.544Z"
   },
   {
    "duration": 15,
    "start_time": "2022-05-01T14:05:01.554Z"
   },
   {
    "duration": 24,
    "start_time": "2022-05-01T14:05:01.571Z"
   },
   {
    "duration": 11,
    "start_time": "2022-05-01T14:05:01.596Z"
   },
   {
    "duration": 24,
    "start_time": "2022-05-01T14:05:01.608Z"
   },
   {
    "duration": 10,
    "start_time": "2022-05-01T14:05:01.634Z"
   },
   {
    "duration": 215,
    "start_time": "2022-05-01T14:05:01.646Z"
   },
   {
    "duration": 146,
    "start_time": "2022-05-01T14:05:01.864Z"
   },
   {
    "duration": 17,
    "start_time": "2022-05-01T14:05:02.011Z"
   },
   {
    "duration": 23,
    "start_time": "2022-05-01T14:05:02.030Z"
   },
   {
    "duration": 16,
    "start_time": "2022-05-01T14:05:02.055Z"
   },
   {
    "duration": 299,
    "start_time": "2022-05-01T14:05:02.072Z"
   },
   {
    "duration": 205,
    "start_time": "2022-05-01T14:05:02.374Z"
   },
   {
    "duration": 309,
    "start_time": "2022-05-01T14:05:02.581Z"
   },
   {
    "duration": 7,
    "start_time": "2022-05-01T14:05:02.892Z"
   },
   {
    "duration": 200,
    "start_time": "2022-05-01T14:05:02.901Z"
   },
   {
    "duration": 325,
    "start_time": "2022-05-01T14:05:03.103Z"
   },
   {
    "duration": 17,
    "start_time": "2022-05-01T14:05:03.433Z"
   },
   {
    "duration": 126,
    "start_time": "2022-05-01T14:05:03.451Z"
   },
   {
    "duration": 5,
    "start_time": "2022-05-01T14:05:03.579Z"
   },
   {
    "duration": 141,
    "start_time": "2022-05-01T14:05:03.585Z"
   },
   {
    "duration": 6,
    "start_time": "2022-05-01T14:05:03.728Z"
   },
   {
    "duration": 362,
    "start_time": "2022-05-01T14:05:03.737Z"
   },
   {
    "duration": 40,
    "start_time": "2022-05-01T14:05:04.101Z"
   },
   {
    "duration": 15,
    "start_time": "2022-05-01T14:05:04.143Z"
   },
   {
    "duration": 11,
    "start_time": "2022-05-01T14:05:04.162Z"
   },
   {
    "duration": 55,
    "start_time": "2022-05-01T14:05:04.175Z"
   },
   {
    "duration": 19,
    "start_time": "2022-05-01T14:05:04.232Z"
   },
   {
    "duration": 6,
    "start_time": "2022-05-01T14:11:38.963Z"
   },
   {
    "duration": 9,
    "start_time": "2022-05-01T14:14:01.493Z"
   },
   {
    "duration": 6,
    "start_time": "2022-05-01T14:14:51.863Z"
   },
   {
    "duration": 122,
    "start_time": "2022-05-01T14:25:19.236Z"
   },
   {
    "duration": 13,
    "start_time": "2022-05-01T14:25:56.840Z"
   },
   {
    "duration": 10,
    "start_time": "2022-05-01T14:26:49.081Z"
   },
   {
    "duration": 1359,
    "start_time": "2022-05-01T14:27:09.797Z"
   },
   {
    "duration": 13,
    "start_time": "2022-05-01T14:27:11.159Z"
   },
   {
    "duration": 4,
    "start_time": "2022-05-01T14:27:11.174Z"
   },
   {
    "duration": 39,
    "start_time": "2022-05-01T14:27:11.181Z"
   },
   {
    "duration": 21,
    "start_time": "2022-05-01T14:27:11.221Z"
   },
   {
    "duration": 17,
    "start_time": "2022-05-01T14:27:11.244Z"
   },
   {
    "duration": 6,
    "start_time": "2022-05-01T14:27:11.263Z"
   },
   {
    "duration": 42,
    "start_time": "2022-05-01T14:27:11.271Z"
   },
   {
    "duration": 16,
    "start_time": "2022-05-01T14:27:11.315Z"
   },
   {
    "duration": 10,
    "start_time": "2022-05-01T14:27:11.335Z"
   },
   {
    "duration": 13,
    "start_time": "2022-05-01T14:27:11.350Z"
   },
   {
    "duration": 13,
    "start_time": "2022-05-01T14:27:11.365Z"
   },
   {
    "duration": 22,
    "start_time": "2022-05-01T14:27:11.380Z"
   },
   {
    "duration": 11,
    "start_time": "2022-05-01T14:27:11.404Z"
   },
   {
    "duration": 11,
    "start_time": "2022-05-01T14:27:11.417Z"
   },
   {
    "duration": 12,
    "start_time": "2022-05-01T14:27:11.430Z"
   },
   {
    "duration": 14,
    "start_time": "2022-05-01T14:27:11.444Z"
   },
   {
    "duration": 161,
    "start_time": "2022-05-01T14:27:11.460Z"
   },
   {
    "duration": 0,
    "start_time": "2022-05-01T14:27:11.626Z"
   },
   {
    "duration": 0,
    "start_time": "2022-05-01T14:27:11.628Z"
   },
   {
    "duration": 0,
    "start_time": "2022-05-01T14:27:11.629Z"
   },
   {
    "duration": 0,
    "start_time": "2022-05-01T14:27:11.630Z"
   },
   {
    "duration": 0,
    "start_time": "2022-05-01T14:27:11.631Z"
   },
   {
    "duration": 0,
    "start_time": "2022-05-01T14:27:11.631Z"
   },
   {
    "duration": 0,
    "start_time": "2022-05-01T14:27:11.635Z"
   },
   {
    "duration": 0,
    "start_time": "2022-05-01T14:27:11.636Z"
   },
   {
    "duration": 0,
    "start_time": "2022-05-01T14:27:11.637Z"
   },
   {
    "duration": 0,
    "start_time": "2022-05-01T14:27:11.638Z"
   },
   {
    "duration": 0,
    "start_time": "2022-05-01T14:27:11.641Z"
   },
   {
    "duration": 0,
    "start_time": "2022-05-01T14:27:11.641Z"
   },
   {
    "duration": 0,
    "start_time": "2022-05-01T14:27:11.642Z"
   },
   {
    "duration": 0,
    "start_time": "2022-05-01T14:27:11.644Z"
   },
   {
    "duration": 0,
    "start_time": "2022-05-01T14:27:11.645Z"
   },
   {
    "duration": 0,
    "start_time": "2022-05-01T14:27:11.646Z"
   },
   {
    "duration": 0,
    "start_time": "2022-05-01T14:27:11.647Z"
   },
   {
    "duration": 0,
    "start_time": "2022-05-01T14:27:11.649Z"
   },
   {
    "duration": 0,
    "start_time": "2022-05-01T14:27:11.652Z"
   },
   {
    "duration": 0,
    "start_time": "2022-05-01T14:27:11.653Z"
   },
   {
    "duration": 0,
    "start_time": "2022-05-01T14:27:11.655Z"
   },
   {
    "duration": 0,
    "start_time": "2022-05-01T14:27:11.656Z"
   },
   {
    "duration": 0,
    "start_time": "2022-05-01T14:27:11.658Z"
   },
   {
    "duration": 19,
    "start_time": "2022-05-01T14:28:22.744Z"
   },
   {
    "duration": 15,
    "start_time": "2022-05-01T14:29:50.683Z"
   },
   {
    "duration": 1348,
    "start_time": "2022-05-01T14:45:30.368Z"
   },
   {
    "duration": 21,
    "start_time": "2022-05-01T14:45:31.718Z"
   },
   {
    "duration": 4,
    "start_time": "2022-05-01T14:45:31.741Z"
   },
   {
    "duration": 16,
    "start_time": "2022-05-01T14:45:31.747Z"
   },
   {
    "duration": 6,
    "start_time": "2022-05-01T14:45:31.765Z"
   },
   {
    "duration": 12,
    "start_time": "2022-05-01T14:45:31.773Z"
   },
   {
    "duration": 41,
    "start_time": "2022-05-01T14:45:31.787Z"
   },
   {
    "duration": 41,
    "start_time": "2022-05-01T14:45:31.830Z"
   },
   {
    "duration": 10,
    "start_time": "2022-05-01T14:45:31.873Z"
   },
   {
    "duration": 7,
    "start_time": "2022-05-01T14:45:31.885Z"
   },
   {
    "duration": 7,
    "start_time": "2022-05-01T14:45:31.894Z"
   },
   {
    "duration": 11,
    "start_time": "2022-05-01T14:45:31.903Z"
   },
   {
    "duration": 27,
    "start_time": "2022-05-01T14:45:31.916Z"
   },
   {
    "duration": 14,
    "start_time": "2022-05-01T14:45:31.945Z"
   },
   {
    "duration": 5,
    "start_time": "2022-05-01T14:45:31.961Z"
   },
   {
    "duration": 10,
    "start_time": "2022-05-01T14:45:31.968Z"
   },
   {
    "duration": 9,
    "start_time": "2022-05-01T14:45:31.979Z"
   },
   {
    "duration": 21,
    "start_time": "2022-05-01T14:45:31.990Z"
   },
   {
    "duration": 11,
    "start_time": "2022-05-01T14:45:32.024Z"
   },
   {
    "duration": 185,
    "start_time": "2022-05-01T14:45:32.036Z"
   },
   {
    "duration": 130,
    "start_time": "2022-05-01T14:45:32.223Z"
   },
   {
    "duration": 7,
    "start_time": "2022-05-01T14:45:32.355Z"
   },
   {
    "duration": 4,
    "start_time": "2022-05-01T14:45:32.364Z"
   },
   {
    "duration": 14,
    "start_time": "2022-05-01T14:45:32.370Z"
   },
   {
    "duration": 398,
    "start_time": "2022-05-01T14:45:32.386Z"
   },
   {
    "duration": 213,
    "start_time": "2022-05-01T14:45:32.786Z"
   },
   {
    "duration": 307,
    "start_time": "2022-05-01T14:45:33.001Z"
   },
   {
    "duration": 183,
    "start_time": "2022-05-01T14:45:33.322Z"
   },
   {
    "duration": 325,
    "start_time": "2022-05-01T14:45:33.507Z"
   },
   {
    "duration": 15,
    "start_time": "2022-05-01T14:45:33.837Z"
   },
   {
    "duration": 126,
    "start_time": "2022-05-01T14:45:33.859Z"
   },
   {
    "duration": 4,
    "start_time": "2022-05-01T14:45:33.987Z"
   },
   {
    "duration": 153,
    "start_time": "2022-05-01T14:45:33.993Z"
   },
   {
    "duration": 7,
    "start_time": "2022-05-01T14:45:34.148Z"
   },
   {
    "duration": 384,
    "start_time": "2022-05-01T14:45:34.157Z"
   },
   {
    "duration": 32,
    "start_time": "2022-05-01T14:45:34.544Z"
   },
   {
    "duration": 12,
    "start_time": "2022-05-01T14:45:34.577Z"
   },
   {
    "duration": 10,
    "start_time": "2022-05-01T14:45:34.592Z"
   },
   {
    "duration": 40,
    "start_time": "2022-05-01T14:45:34.629Z"
   },
   {
    "duration": 21,
    "start_time": "2022-05-01T14:45:34.672Z"
   },
   {
    "duration": 206,
    "start_time": "2022-05-01T14:48:59.180Z"
   },
   {
    "duration": 374,
    "start_time": "2022-05-01T14:49:45.944Z"
   },
   {
    "duration": 205,
    "start_time": "2022-05-01T14:49:59.160Z"
   },
   {
    "duration": 228,
    "start_time": "2022-05-01T14:54:20.416Z"
   },
   {
    "duration": 454,
    "start_time": "2022-05-01T14:55:29.554Z"
   },
   {
    "duration": 314,
    "start_time": "2022-05-01T14:55:47.089Z"
   },
   {
    "duration": 215,
    "start_time": "2022-05-01T14:56:07.722Z"
   },
   {
    "duration": 305,
    "start_time": "2022-05-01T14:57:24.742Z"
   },
   {
    "duration": 204,
    "start_time": "2022-05-01T14:57:51.699Z"
   },
   {
    "duration": 215,
    "start_time": "2022-05-01T14:59:11.313Z"
   },
   {
    "duration": 215,
    "start_time": "2022-05-01T14:59:16.194Z"
   },
   {
    "duration": 296,
    "start_time": "2022-05-01T15:02:14.417Z"
   },
   {
    "duration": 220,
    "start_time": "2022-05-01T15:02:43.676Z"
   },
   {
    "duration": 192,
    "start_time": "2022-05-01T15:03:41.733Z"
   },
   {
    "duration": 497,
    "start_time": "2022-05-01T15:05:01.116Z"
   },
   {
    "duration": 205,
    "start_time": "2022-05-01T15:05:48.998Z"
   },
   {
    "duration": 287,
    "start_time": "2022-05-01T15:06:27.358Z"
   },
   {
    "duration": 32,
    "start_time": "2022-05-01T15:15:16.749Z"
   },
   {
    "duration": 11,
    "start_time": "2022-05-01T15:15:16.783Z"
   },
   {
    "duration": 29,
    "start_time": "2022-05-01T15:15:16.795Z"
   },
   {
    "duration": 21,
    "start_time": "2022-05-01T15:15:16.834Z"
   },
   {
    "duration": 26,
    "start_time": "2022-05-01T15:15:16.859Z"
   },
   {
    "duration": 22,
    "start_time": "2022-05-01T15:15:16.887Z"
   },
   {
    "duration": 19,
    "start_time": "2022-05-01T15:15:16.911Z"
   },
   {
    "duration": 62,
    "start_time": "2022-05-01T15:15:16.931Z"
   },
   {
    "duration": 11,
    "start_time": "2022-05-01T15:15:16.995Z"
   },
   {
    "duration": 14,
    "start_time": "2022-05-01T15:15:17.008Z"
   },
   {
    "duration": 24,
    "start_time": "2022-05-01T15:15:17.026Z"
   },
   {
    "duration": 24,
    "start_time": "2022-05-01T15:15:17.055Z"
   },
   {
    "duration": 31,
    "start_time": "2022-05-01T15:15:17.081Z"
   },
   {
    "duration": 15,
    "start_time": "2022-05-01T15:15:17.114Z"
   },
   {
    "duration": 29,
    "start_time": "2022-05-01T15:15:17.135Z"
   },
   {
    "duration": 11,
    "start_time": "2022-05-01T15:15:17.166Z"
   },
   {
    "duration": 23,
    "start_time": "2022-05-01T15:15:17.180Z"
   },
   {
    "duration": 30,
    "start_time": "2022-05-01T15:15:17.205Z"
   },
   {
    "duration": 9,
    "start_time": "2022-05-01T15:15:17.237Z"
   },
   {
    "duration": 269,
    "start_time": "2022-05-01T15:15:17.255Z"
   },
   {
    "duration": 222,
    "start_time": "2022-05-01T15:15:17.526Z"
   },
   {
    "duration": 8,
    "start_time": "2022-05-01T15:15:17.750Z"
   },
   {
    "duration": 30,
    "start_time": "2022-05-01T15:15:17.760Z"
   },
   {
    "duration": 31,
    "start_time": "2022-05-01T15:15:17.792Z"
   },
   {
    "duration": 497,
    "start_time": "2022-05-01T15:15:17.834Z"
   },
   {
    "duration": 236,
    "start_time": "2022-05-01T15:15:18.333Z"
   },
   {
    "duration": 328,
    "start_time": "2022-05-01T15:15:18.571Z"
   },
   {
    "duration": 216,
    "start_time": "2022-05-01T15:15:18.901Z"
   },
   {
    "duration": 340,
    "start_time": "2022-05-01T15:15:19.123Z"
   },
   {
    "duration": 14,
    "start_time": "2022-05-01T15:15:19.465Z"
   },
   {
    "duration": 136,
    "start_time": "2022-05-01T15:15:19.481Z"
   },
   {
    "duration": 7,
    "start_time": "2022-05-01T15:15:19.627Z"
   },
   {
    "duration": 150,
    "start_time": "2022-05-01T15:15:19.640Z"
   },
   {
    "duration": 7,
    "start_time": "2022-05-01T15:15:19.792Z"
   },
   {
    "duration": 542,
    "start_time": "2022-05-01T15:15:19.801Z"
   },
   {
    "duration": 36,
    "start_time": "2022-05-01T15:15:20.346Z"
   },
   {
    "duration": 15,
    "start_time": "2022-05-01T15:15:20.384Z"
   },
   {
    "duration": 41,
    "start_time": "2022-05-01T15:15:20.401Z"
   },
   {
    "duration": 34,
    "start_time": "2022-05-01T15:15:20.446Z"
   },
   {
    "duration": 17,
    "start_time": "2022-05-01T15:15:20.483Z"
   },
   {
    "duration": 383,
    "start_time": "2022-05-01T15:19:25.706Z"
   },
   {
    "duration": 1427,
    "start_time": "2022-05-02T11:36:49.708Z"
   },
   {
    "duration": 11,
    "start_time": "2022-05-02T11:36:51.138Z"
   },
   {
    "duration": 23,
    "start_time": "2022-05-02T11:36:51.151Z"
   },
   {
    "duration": 28,
    "start_time": "2022-05-02T11:36:51.176Z"
   },
   {
    "duration": 11,
    "start_time": "2022-05-02T11:36:51.206Z"
   },
   {
    "duration": 37,
    "start_time": "2022-05-02T11:36:51.218Z"
   },
   {
    "duration": 24,
    "start_time": "2022-05-02T11:36:51.256Z"
   },
   {
    "duration": 49,
    "start_time": "2022-05-02T11:36:51.282Z"
   },
   {
    "duration": 9,
    "start_time": "2022-05-02T11:36:51.332Z"
   },
   {
    "duration": 6,
    "start_time": "2022-05-02T11:36:51.343Z"
   },
   {
    "duration": 7,
    "start_time": "2022-05-02T11:36:51.350Z"
   },
   {
    "duration": 13,
    "start_time": "2022-05-02T11:36:51.358Z"
   },
   {
    "duration": 16,
    "start_time": "2022-05-02T11:36:51.373Z"
   },
   {
    "duration": 9,
    "start_time": "2022-05-02T11:36:51.390Z"
   },
   {
    "duration": 11,
    "start_time": "2022-05-02T11:36:51.400Z"
   },
   {
    "duration": 8,
    "start_time": "2022-05-02T11:36:51.412Z"
   },
   {
    "duration": 6,
    "start_time": "2022-05-02T11:36:51.421Z"
   },
   {
    "duration": 36,
    "start_time": "2022-05-02T11:36:51.429Z"
   },
   {
    "duration": 6,
    "start_time": "2022-05-02T11:36:51.467Z"
   },
   {
    "duration": 232,
    "start_time": "2022-05-02T11:36:51.475Z"
   },
   {
    "duration": 120,
    "start_time": "2022-05-02T11:36:51.708Z"
   },
   {
    "duration": 6,
    "start_time": "2022-05-02T11:36:51.830Z"
   },
   {
    "duration": 19,
    "start_time": "2022-05-02T11:36:51.837Z"
   },
   {
    "duration": 11,
    "start_time": "2022-05-02T11:36:51.858Z"
   },
   {
    "duration": 267,
    "start_time": "2022-05-02T11:36:51.871Z"
   },
   {
    "duration": 186,
    "start_time": "2022-05-02T11:36:52.140Z"
   },
   {
    "duration": 367,
    "start_time": "2022-05-02T11:36:52.328Z"
   },
   {
    "duration": 173,
    "start_time": "2022-05-02T11:36:52.698Z"
   },
   {
    "duration": 277,
    "start_time": "2022-05-02T11:36:52.873Z"
   },
   {
    "duration": 10,
    "start_time": "2022-05-02T11:36:53.155Z"
   },
   {
    "duration": 119,
    "start_time": "2022-05-02T11:36:53.166Z"
   },
   {
    "duration": 5,
    "start_time": "2022-05-02T11:36:53.287Z"
   },
   {
    "duration": 128,
    "start_time": "2022-05-02T11:36:53.294Z"
   },
   {
    "duration": 6,
    "start_time": "2022-05-02T11:36:53.424Z"
   },
   {
    "duration": 475,
    "start_time": "2022-05-02T11:36:53.432Z"
   },
   {
    "duration": 24,
    "start_time": "2022-05-02T11:36:53.909Z"
   },
   {
    "duration": 31,
    "start_time": "2022-05-02T11:36:53.935Z"
   },
   {
    "duration": 44,
    "start_time": "2022-05-02T11:36:53.967Z"
   },
   {
    "duration": 36,
    "start_time": "2022-05-02T11:36:54.013Z"
   },
   {
    "duration": 16,
    "start_time": "2022-05-02T11:36:54.051Z"
   },
   {
    "duration": 2424,
    "start_time": "2022-05-02T11:38:19.457Z"
   },
   {
    "duration": 1125,
    "start_time": "2022-05-02T11:38:32.894Z"
   },
   {
    "duration": 12,
    "start_time": "2022-05-02T11:38:34.021Z"
   },
   {
    "duration": 17,
    "start_time": "2022-05-02T11:38:34.034Z"
   },
   {
    "duration": 35,
    "start_time": "2022-05-02T11:38:34.054Z"
   },
   {
    "duration": 11,
    "start_time": "2022-05-02T11:38:34.091Z"
   },
   {
    "duration": 15,
    "start_time": "2022-05-02T11:38:34.103Z"
   },
   {
    "duration": 23,
    "start_time": "2022-05-02T11:38:34.119Z"
   },
   {
    "duration": 51,
    "start_time": "2022-05-02T11:38:34.143Z"
   },
   {
    "duration": 12,
    "start_time": "2022-05-02T11:38:34.195Z"
   },
   {
    "duration": 11,
    "start_time": "2022-05-02T11:38:34.210Z"
   },
   {
    "duration": 10,
    "start_time": "2022-05-02T11:38:34.222Z"
   },
   {
    "duration": 16,
    "start_time": "2022-05-02T11:38:34.233Z"
   },
   {
    "duration": 21,
    "start_time": "2022-05-02T11:38:34.251Z"
   },
   {
    "duration": 19,
    "start_time": "2022-05-02T11:38:34.274Z"
   },
   {
    "duration": 21,
    "start_time": "2022-05-02T11:38:34.294Z"
   },
   {
    "duration": 12,
    "start_time": "2022-05-02T11:38:34.317Z"
   },
   {
    "duration": 33,
    "start_time": "2022-05-02T11:38:34.330Z"
   },
   {
    "duration": 60,
    "start_time": "2022-05-02T11:38:34.365Z"
   },
   {
    "duration": 2385,
    "start_time": "2022-05-02T11:38:34.427Z"
   },
   {
    "duration": 0,
    "start_time": "2022-05-02T11:38:36.814Z"
   },
   {
    "duration": 0,
    "start_time": "2022-05-02T11:38:36.815Z"
   },
   {
    "duration": 0,
    "start_time": "2022-05-02T11:38:36.816Z"
   },
   {
    "duration": 0,
    "start_time": "2022-05-02T11:38:36.817Z"
   },
   {
    "duration": 0,
    "start_time": "2022-05-02T11:38:36.818Z"
   },
   {
    "duration": 0,
    "start_time": "2022-05-02T11:38:36.819Z"
   },
   {
    "duration": 0,
    "start_time": "2022-05-02T11:38:36.820Z"
   },
   {
    "duration": 0,
    "start_time": "2022-05-02T11:38:36.821Z"
   },
   {
    "duration": 0,
    "start_time": "2022-05-02T11:38:36.822Z"
   },
   {
    "duration": 0,
    "start_time": "2022-05-02T11:38:36.823Z"
   },
   {
    "duration": 0,
    "start_time": "2022-05-02T11:38:36.824Z"
   },
   {
    "duration": 0,
    "start_time": "2022-05-02T11:38:36.825Z"
   },
   {
    "duration": 0,
    "start_time": "2022-05-02T11:38:36.825Z"
   },
   {
    "duration": 0,
    "start_time": "2022-05-02T11:38:36.826Z"
   },
   {
    "duration": 0,
    "start_time": "2022-05-02T11:38:36.827Z"
   },
   {
    "duration": 0,
    "start_time": "2022-05-02T11:38:36.828Z"
   },
   {
    "duration": 0,
    "start_time": "2022-05-02T11:38:36.829Z"
   },
   {
    "duration": 0,
    "start_time": "2022-05-02T11:38:36.830Z"
   },
   {
    "duration": 0,
    "start_time": "2022-05-02T11:38:36.831Z"
   },
   {
    "duration": 0,
    "start_time": "2022-05-02T11:38:36.832Z"
   },
   {
    "duration": 0,
    "start_time": "2022-05-02T11:38:36.832Z"
   },
   {
    "duration": 0,
    "start_time": "2022-05-02T11:38:36.834Z"
   },
   {
    "duration": 8,
    "start_time": "2022-05-02T11:39:21.158Z"
   },
   {
    "duration": 10,
    "start_time": "2022-05-02T11:39:52.186Z"
   },
   {
    "duration": 16,
    "start_time": "2022-05-02T11:40:20.792Z"
   },
   {
    "duration": 13,
    "start_time": "2022-05-02T11:40:44.811Z"
   },
   {
    "duration": 9,
    "start_time": "2022-05-02T11:40:54.448Z"
   },
   {
    "duration": 13,
    "start_time": "2022-05-02T11:44:10.974Z"
   },
   {
    "duration": 9,
    "start_time": "2022-05-02T11:44:21.696Z"
   },
   {
    "duration": 1115,
    "start_time": "2022-05-15T15:26:03.688Z"
   },
   {
    "duration": 12,
    "start_time": "2022-05-15T15:26:04.804Z"
   },
   {
    "duration": 8,
    "start_time": "2022-05-15T15:26:04.817Z"
   },
   {
    "duration": 15,
    "start_time": "2022-05-15T15:26:04.827Z"
   },
   {
    "duration": 5,
    "start_time": "2022-05-15T15:26:04.844Z"
   },
   {
    "duration": 24,
    "start_time": "2022-05-15T15:26:04.851Z"
   },
   {
    "duration": 8,
    "start_time": "2022-05-15T15:26:04.877Z"
   },
   {
    "duration": 26,
    "start_time": "2022-05-15T15:26:04.886Z"
   },
   {
    "duration": 9,
    "start_time": "2022-05-15T15:26:04.914Z"
   },
   {
    "duration": 7,
    "start_time": "2022-05-15T15:26:04.925Z"
   },
   {
    "duration": 7,
    "start_time": "2022-05-15T15:26:04.933Z"
   },
   {
    "duration": 30,
    "start_time": "2022-05-15T15:26:04.941Z"
   },
   {
    "duration": 15,
    "start_time": "2022-05-15T15:26:04.972Z"
   },
   {
    "duration": 9,
    "start_time": "2022-05-15T15:26:04.988Z"
   },
   {
    "duration": 6,
    "start_time": "2022-05-15T15:26:04.998Z"
   },
   {
    "duration": 8,
    "start_time": "2022-05-15T15:26:05.006Z"
   },
   {
    "duration": 19,
    "start_time": "2022-05-15T15:26:05.015Z"
   },
   {
    "duration": 39,
    "start_time": "2022-05-15T15:26:05.036Z"
   },
   {
    "duration": 9,
    "start_time": "2022-05-15T15:26:05.077Z"
   },
   {
    "duration": 5,
    "start_time": "2022-05-15T15:26:05.088Z"
   },
   {
    "duration": 172,
    "start_time": "2022-05-15T15:26:05.094Z"
   },
   {
    "duration": 124,
    "start_time": "2022-05-15T15:26:05.268Z"
   },
   {
    "duration": 9,
    "start_time": "2022-05-15T15:26:05.393Z"
   },
   {
    "duration": 5,
    "start_time": "2022-05-15T15:26:05.404Z"
   },
   {
    "duration": 13,
    "start_time": "2022-05-15T15:26:05.410Z"
   },
   {
    "duration": 343,
    "start_time": "2022-05-15T15:26:05.424Z"
   },
   {
    "duration": 265,
    "start_time": "2022-05-15T15:26:05.771Z"
   },
   {
    "duration": 340,
    "start_time": "2022-05-15T15:26:06.039Z"
   },
   {
    "duration": 173,
    "start_time": "2022-05-15T15:26:06.381Z"
   },
   {
    "duration": 298,
    "start_time": "2022-05-15T15:26:06.556Z"
   },
   {
    "duration": 20,
    "start_time": "2022-05-15T15:26:06.855Z"
   },
   {
    "duration": 114,
    "start_time": "2022-05-15T15:26:06.876Z"
   },
   {
    "duration": 5,
    "start_time": "2022-05-15T15:26:06.992Z"
   },
   {
    "duration": 128,
    "start_time": "2022-05-15T15:26:06.999Z"
   },
   {
    "duration": 5,
    "start_time": "2022-05-15T15:26:07.129Z"
   },
   {
    "duration": 541,
    "start_time": "2022-05-15T15:26:07.136Z"
   },
   {
    "duration": 35,
    "start_time": "2022-05-15T15:26:07.679Z"
   },
   {
    "duration": 11,
    "start_time": "2022-05-15T15:26:07.716Z"
   },
   {
    "duration": 9,
    "start_time": "2022-05-15T15:26:07.729Z"
   },
   {
    "duration": 52,
    "start_time": "2022-05-15T15:26:07.740Z"
   },
   {
    "duration": 13,
    "start_time": "2022-05-15T15:26:07.793Z"
   },
   {
    "duration": 1194,
    "start_time": "2022-05-28T06:11:16.230Z"
   },
   {
    "duration": 12,
    "start_time": "2022-05-28T06:11:17.426Z"
   },
   {
    "duration": 5,
    "start_time": "2022-05-28T06:11:17.440Z"
   },
   {
    "duration": 16,
    "start_time": "2022-05-28T06:11:17.447Z"
   },
   {
    "duration": 7,
    "start_time": "2022-05-28T06:11:17.465Z"
   },
   {
    "duration": 22,
    "start_time": "2022-05-28T06:11:17.474Z"
   },
   {
    "duration": 8,
    "start_time": "2022-05-28T06:11:17.498Z"
   },
   {
    "duration": 89,
    "start_time": "2022-05-28T06:11:17.507Z"
   },
   {
    "duration": 13,
    "start_time": "2022-05-28T06:11:17.598Z"
   },
   {
    "duration": 17,
    "start_time": "2022-05-28T06:11:17.613Z"
   },
   {
    "duration": 7,
    "start_time": "2022-05-28T06:11:17.632Z"
   },
   {
    "duration": 15,
    "start_time": "2022-05-28T06:11:17.641Z"
   },
   {
    "duration": 62,
    "start_time": "2022-05-28T06:11:17.658Z"
   },
   {
    "duration": 10,
    "start_time": "2022-05-28T06:11:17.721Z"
   },
   {
    "duration": 8,
    "start_time": "2022-05-28T06:11:17.733Z"
   },
   {
    "duration": 9,
    "start_time": "2022-05-28T06:11:17.743Z"
   },
   {
    "duration": 6,
    "start_time": "2022-05-28T06:11:17.754Z"
   },
   {
    "duration": 18,
    "start_time": "2022-05-28T06:11:17.762Z"
   },
   {
    "duration": 18,
    "start_time": "2022-05-28T06:11:17.781Z"
   },
   {
    "duration": 6,
    "start_time": "2022-05-28T06:11:17.801Z"
   },
   {
    "duration": 171,
    "start_time": "2022-05-28T06:11:17.808Z"
   },
   {
    "duration": 147,
    "start_time": "2022-05-28T06:11:17.981Z"
   },
   {
    "duration": 6,
    "start_time": "2022-05-28T06:11:18.129Z"
   },
   {
    "duration": 9,
    "start_time": "2022-05-28T06:11:18.137Z"
   },
   {
    "duration": 16,
    "start_time": "2022-05-28T06:11:18.148Z"
   },
   {
    "duration": 309,
    "start_time": "2022-05-28T06:11:18.166Z"
   },
   {
    "duration": 325,
    "start_time": "2022-05-28T06:11:18.477Z"
   },
   {
    "duration": 375,
    "start_time": "2022-05-28T06:11:18.807Z"
   },
   {
    "duration": 186,
    "start_time": "2022-05-28T06:11:19.184Z"
   },
   {
    "duration": 352,
    "start_time": "2022-05-28T06:11:19.372Z"
   },
   {
    "duration": 11,
    "start_time": "2022-05-28T06:11:19.725Z"
   },
   {
    "duration": 143,
    "start_time": "2022-05-28T06:11:19.738Z"
   },
   {
    "duration": 14,
    "start_time": "2022-05-28T06:11:19.883Z"
   },
   {
    "duration": 156,
    "start_time": "2022-05-28T06:11:19.899Z"
   },
   {
    "duration": 7,
    "start_time": "2022-05-28T06:11:20.056Z"
   },
   {
    "duration": 333,
    "start_time": "2022-05-28T06:11:20.065Z"
   },
   {
    "duration": 30,
    "start_time": "2022-05-28T06:11:20.400Z"
   },
   {
    "duration": 13,
    "start_time": "2022-05-28T06:11:20.432Z"
   },
   {
    "duration": 13,
    "start_time": "2022-05-28T06:11:20.447Z"
   },
   {
    "duration": 73,
    "start_time": "2022-05-28T06:11:20.463Z"
   },
   {
    "duration": 19,
    "start_time": "2022-05-28T06:11:20.538Z"
   }
  ],
  "kernelspec": {
   "display_name": "Python 3 (ipykernel)",
   "language": "python",
   "name": "python3"
  },
  "language_info": {
   "codemirror_mode": {
    "name": "ipython",
    "version": 3
   },
   "file_extension": ".py",
   "mimetype": "text/x-python",
   "name": "python",
   "nbconvert_exporter": "python",
   "pygments_lexer": "ipython3",
   "version": "3.9.7"
  },
  "toc": {
   "base_numbering": 1,
   "nav_menu": {},
   "number_sections": true,
   "sideBar": true,
   "skip_h1_title": true,
   "title_cell": "Table of Contents",
   "title_sidebar": "Contents",
   "toc_cell": false,
   "toc_position": {},
   "toc_section_display": true,
   "toc_window_display": false
  }
 },
 "nbformat": 4,
 "nbformat_minor": 2
}
